{
 "cells": [
  {
   "cell_type": "markdown",
   "id": "c7b1ded6-7354-4e61-a067-f531c8a04b23",
   "metadata": {},
   "source": [
    "# DSC 540 \n",
    "\n",
    "### Week 3 - 4:  Exercises\n",
    "\n",
    "**Author: Kimberly Cable<br>\n",
    "Date: 7-02-2022**"
   ]
  },
  {
   "cell_type": "markdown",
   "id": "874b6296-a3f9-47e8-95c4-15094ffe7bfa",
   "metadata": {},
   "source": [
    "#### 1. Data Wrangling with Python: Activity 5, pg 116"
   ]
  },
  {
   "cell_type": "markdown",
   "id": "df190108-845a-4948-a270-e7192a74cf14",
   "metadata": {},
   "source": [
    "1. Load the necessary libraries."
   ]
  },
  {
   "cell_type": "code",
   "execution_count": 1,
   "id": "ffc38453-058d-4e86-b028-d0b86ce7d301",
   "metadata": {},
   "outputs": [],
   "source": [
    "import numpy as np\n",
    "import pandas as pd\n",
    "import matplotlib.pyplot as plt"
   ]
  },
  {
   "cell_type": "markdown",
   "id": "64cde934-cccf-4cc5-a816-f4ea3a54e4fc",
   "metadata": {},
   "source": [
    "2. Read in the Boston housing dataset (given as a .csv file) from the local directory."
   ]
  },
  {
   "cell_type": "code",
   "execution_count": 2,
   "id": "df7e5201-f6e7-4bfb-96d2-3d05d3480643",
   "metadata": {},
   "outputs": [
    {
     "name": "stdout",
     "output_type": "stream",
     "text": [
      "<class 'pandas.core.frame.DataFrame'>\n",
      "RangeIndex: 506 entries, 0 to 505\n",
      "Data columns (total 14 columns):\n",
      " #   Column   Non-Null Count  Dtype  \n",
      "---  ------   --------------  -----  \n",
      " 0   CRIM     506 non-null    float64\n",
      " 1   ZN       506 non-null    float64\n",
      " 2   INDUS    506 non-null    float64\n",
      " 3   CHAS     506 non-null    int64  \n",
      " 4   NOX      506 non-null    float64\n",
      " 5   RM       506 non-null    float64\n",
      " 6   AGE      506 non-null    float64\n",
      " 7   DIS      506 non-null    float64\n",
      " 8   RAD      506 non-null    int64  \n",
      " 9   TAX      506 non-null    int64  \n",
      " 10  PTRATIO  506 non-null    float64\n",
      " 11  B        506 non-null    float64\n",
      " 12  LSTAT    506 non-null    float64\n",
      " 13  PRICE    506 non-null    float64\n",
      "dtypes: float64(11), int64(3)\n",
      "memory usage: 55.5 KB\n"
     ]
    }
   ],
   "source": [
    "try:\n",
    "    boston_housing_df = pd.read_csv(\"Boston_housing.csv\")\n",
    "    \n",
    "    boston_housing_df.info()\n",
    "except Exception:\n",
    "    print(\"There was an error reading the Boston housing file\")"
   ]
  },
  {
   "cell_type": "markdown",
   "id": "f25890fb-97c3-4c95-be1b-3be8973ba6ff",
   "metadata": {},
   "source": [
    "3. Check the first 10 records. Find the total number of records."
   ]
  },
  {
   "cell_type": "code",
   "execution_count": 3,
   "id": "86e24780-5c9d-40da-9650-2e6331e3cebf",
   "metadata": {},
   "outputs": [
    {
     "data": {
      "text/html": [
       "<div>\n",
       "<style scoped>\n",
       "    .dataframe tbody tr th:only-of-type {\n",
       "        vertical-align: middle;\n",
       "    }\n",
       "\n",
       "    .dataframe tbody tr th {\n",
       "        vertical-align: top;\n",
       "    }\n",
       "\n",
       "    .dataframe thead th {\n",
       "        text-align: right;\n",
       "    }\n",
       "</style>\n",
       "<table border=\"1\" class=\"dataframe\">\n",
       "  <thead>\n",
       "    <tr style=\"text-align: right;\">\n",
       "      <th></th>\n",
       "      <th>CRIM</th>\n",
       "      <th>ZN</th>\n",
       "      <th>INDUS</th>\n",
       "      <th>CHAS</th>\n",
       "      <th>NOX</th>\n",
       "      <th>RM</th>\n",
       "      <th>AGE</th>\n",
       "      <th>DIS</th>\n",
       "      <th>RAD</th>\n",
       "      <th>TAX</th>\n",
       "      <th>PTRATIO</th>\n",
       "      <th>B</th>\n",
       "      <th>LSTAT</th>\n",
       "      <th>PRICE</th>\n",
       "    </tr>\n",
       "  </thead>\n",
       "  <tbody>\n",
       "    <tr>\n",
       "      <th>0</th>\n",
       "      <td>0.00632</td>\n",
       "      <td>18.0</td>\n",
       "      <td>2.31</td>\n",
       "      <td>0</td>\n",
       "      <td>0.538</td>\n",
       "      <td>6.575</td>\n",
       "      <td>65.2</td>\n",
       "      <td>4.0900</td>\n",
       "      <td>1</td>\n",
       "      <td>296</td>\n",
       "      <td>15.3</td>\n",
       "      <td>396.90</td>\n",
       "      <td>4.98</td>\n",
       "      <td>24.0</td>\n",
       "    </tr>\n",
       "    <tr>\n",
       "      <th>1</th>\n",
       "      <td>0.02731</td>\n",
       "      <td>0.0</td>\n",
       "      <td>7.07</td>\n",
       "      <td>0</td>\n",
       "      <td>0.469</td>\n",
       "      <td>6.421</td>\n",
       "      <td>78.9</td>\n",
       "      <td>4.9671</td>\n",
       "      <td>2</td>\n",
       "      <td>242</td>\n",
       "      <td>17.8</td>\n",
       "      <td>396.90</td>\n",
       "      <td>9.14</td>\n",
       "      <td>21.6</td>\n",
       "    </tr>\n",
       "    <tr>\n",
       "      <th>2</th>\n",
       "      <td>0.02729</td>\n",
       "      <td>0.0</td>\n",
       "      <td>7.07</td>\n",
       "      <td>0</td>\n",
       "      <td>0.469</td>\n",
       "      <td>7.185</td>\n",
       "      <td>61.1</td>\n",
       "      <td>4.9671</td>\n",
       "      <td>2</td>\n",
       "      <td>242</td>\n",
       "      <td>17.8</td>\n",
       "      <td>392.83</td>\n",
       "      <td>4.03</td>\n",
       "      <td>34.7</td>\n",
       "    </tr>\n",
       "    <tr>\n",
       "      <th>3</th>\n",
       "      <td>0.03237</td>\n",
       "      <td>0.0</td>\n",
       "      <td>2.18</td>\n",
       "      <td>0</td>\n",
       "      <td>0.458</td>\n",
       "      <td>6.998</td>\n",
       "      <td>45.8</td>\n",
       "      <td>6.0622</td>\n",
       "      <td>3</td>\n",
       "      <td>222</td>\n",
       "      <td>18.7</td>\n",
       "      <td>394.63</td>\n",
       "      <td>2.94</td>\n",
       "      <td>33.4</td>\n",
       "    </tr>\n",
       "    <tr>\n",
       "      <th>4</th>\n",
       "      <td>0.06905</td>\n",
       "      <td>0.0</td>\n",
       "      <td>2.18</td>\n",
       "      <td>0</td>\n",
       "      <td>0.458</td>\n",
       "      <td>7.147</td>\n",
       "      <td>54.2</td>\n",
       "      <td>6.0622</td>\n",
       "      <td>3</td>\n",
       "      <td>222</td>\n",
       "      <td>18.7</td>\n",
       "      <td>396.90</td>\n",
       "      <td>5.33</td>\n",
       "      <td>36.2</td>\n",
       "    </tr>\n",
       "    <tr>\n",
       "      <th>5</th>\n",
       "      <td>0.02985</td>\n",
       "      <td>0.0</td>\n",
       "      <td>2.18</td>\n",
       "      <td>0</td>\n",
       "      <td>0.458</td>\n",
       "      <td>6.430</td>\n",
       "      <td>58.7</td>\n",
       "      <td>6.0622</td>\n",
       "      <td>3</td>\n",
       "      <td>222</td>\n",
       "      <td>18.7</td>\n",
       "      <td>394.12</td>\n",
       "      <td>5.21</td>\n",
       "      <td>28.7</td>\n",
       "    </tr>\n",
       "    <tr>\n",
       "      <th>6</th>\n",
       "      <td>0.08829</td>\n",
       "      <td>12.5</td>\n",
       "      <td>7.87</td>\n",
       "      <td>0</td>\n",
       "      <td>0.524</td>\n",
       "      <td>6.012</td>\n",
       "      <td>66.6</td>\n",
       "      <td>5.5605</td>\n",
       "      <td>5</td>\n",
       "      <td>311</td>\n",
       "      <td>15.2</td>\n",
       "      <td>395.60</td>\n",
       "      <td>12.43</td>\n",
       "      <td>22.9</td>\n",
       "    </tr>\n",
       "    <tr>\n",
       "      <th>7</th>\n",
       "      <td>0.14455</td>\n",
       "      <td>12.5</td>\n",
       "      <td>7.87</td>\n",
       "      <td>0</td>\n",
       "      <td>0.524</td>\n",
       "      <td>6.172</td>\n",
       "      <td>96.1</td>\n",
       "      <td>5.9505</td>\n",
       "      <td>5</td>\n",
       "      <td>311</td>\n",
       "      <td>15.2</td>\n",
       "      <td>396.90</td>\n",
       "      <td>19.15</td>\n",
       "      <td>27.1</td>\n",
       "    </tr>\n",
       "    <tr>\n",
       "      <th>8</th>\n",
       "      <td>0.21124</td>\n",
       "      <td>12.5</td>\n",
       "      <td>7.87</td>\n",
       "      <td>0</td>\n",
       "      <td>0.524</td>\n",
       "      <td>5.631</td>\n",
       "      <td>100.0</td>\n",
       "      <td>6.0821</td>\n",
       "      <td>5</td>\n",
       "      <td>311</td>\n",
       "      <td>15.2</td>\n",
       "      <td>386.63</td>\n",
       "      <td>29.93</td>\n",
       "      <td>16.5</td>\n",
       "    </tr>\n",
       "    <tr>\n",
       "      <th>9</th>\n",
       "      <td>0.17004</td>\n",
       "      <td>12.5</td>\n",
       "      <td>7.87</td>\n",
       "      <td>0</td>\n",
       "      <td>0.524</td>\n",
       "      <td>6.004</td>\n",
       "      <td>85.9</td>\n",
       "      <td>6.5921</td>\n",
       "      <td>5</td>\n",
       "      <td>311</td>\n",
       "      <td>15.2</td>\n",
       "      <td>386.71</td>\n",
       "      <td>17.10</td>\n",
       "      <td>18.9</td>\n",
       "    </tr>\n",
       "  </tbody>\n",
       "</table>\n",
       "</div>"
      ],
      "text/plain": [
       "      CRIM    ZN  INDUS  CHAS    NOX     RM    AGE     DIS  RAD  TAX  PTRATIO  \\\n",
       "0  0.00632  18.0   2.31     0  0.538  6.575   65.2  4.0900    1  296     15.3   \n",
       "1  0.02731   0.0   7.07     0  0.469  6.421   78.9  4.9671    2  242     17.8   \n",
       "2  0.02729   0.0   7.07     0  0.469  7.185   61.1  4.9671    2  242     17.8   \n",
       "3  0.03237   0.0   2.18     0  0.458  6.998   45.8  6.0622    3  222     18.7   \n",
       "4  0.06905   0.0   2.18     0  0.458  7.147   54.2  6.0622    3  222     18.7   \n",
       "5  0.02985   0.0   2.18     0  0.458  6.430   58.7  6.0622    3  222     18.7   \n",
       "6  0.08829  12.5   7.87     0  0.524  6.012   66.6  5.5605    5  311     15.2   \n",
       "7  0.14455  12.5   7.87     0  0.524  6.172   96.1  5.9505    5  311     15.2   \n",
       "8  0.21124  12.5   7.87     0  0.524  5.631  100.0  6.0821    5  311     15.2   \n",
       "9  0.17004  12.5   7.87     0  0.524  6.004   85.9  6.5921    5  311     15.2   \n",
       "\n",
       "        B  LSTAT  PRICE  \n",
       "0  396.90   4.98   24.0  \n",
       "1  396.90   9.14   21.6  \n",
       "2  392.83   4.03   34.7  \n",
       "3  394.63   2.94   33.4  \n",
       "4  396.90   5.33   36.2  \n",
       "5  394.12   5.21   28.7  \n",
       "6  395.60  12.43   22.9  \n",
       "7  396.90  19.15   27.1  \n",
       "8  386.63  29.93   16.5  \n",
       "9  386.71  17.10   18.9  "
      ]
     },
     "execution_count": 3,
     "metadata": {},
     "output_type": "execute_result"
    }
   ],
   "source": [
    "boston_housing_df.head(10)"
   ]
  },
  {
   "cell_type": "code",
   "execution_count": 4,
   "id": "8f3df09e-7d54-4ecb-aa57-aff9d7fcb007",
   "metadata": {},
   "outputs": [
    {
     "data": {
      "text/plain": [
       "(506, 14)"
      ]
     },
     "execution_count": 4,
     "metadata": {},
     "output_type": "execute_result"
    }
   ],
   "source": [
    "boston_housing_df.shape"
   ]
  },
  {
   "cell_type": "markdown",
   "id": "f9dae8c5-dcfc-4788-8684-7f32c611cfd4",
   "metadata": {},
   "source": [
    "There are 506 records."
   ]
  },
  {
   "cell_type": "markdown",
   "id": "fa50c18a-73a7-48de-bc24-7691ec15f1be",
   "metadata": {},
   "source": [
    "4. Create a smaller DataFrame with columns that do not include **CHAS**, **NOX**, **B** and **LSTAT**."
   ]
  },
  {
   "cell_type": "code",
   "execution_count": 5,
   "id": "22cc5013-ee0a-48bb-aedc-e65fcfb12c74",
   "metadata": {},
   "outputs": [
    {
     "data": {
      "text/plain": [
       "(506, 10)"
      ]
     },
     "execution_count": 5,
     "metadata": {},
     "output_type": "execute_result"
    }
   ],
   "source": [
    "housing_df = boston_housing_df.drop(['CHAS', 'NOX', 'B', 'LSTAT'], axis = 1)\n",
    "housing_df.shape"
   ]
  },
  {
   "cell_type": "markdown",
   "id": "da6d731d-4c00-4f13-98a7-9a12de534046",
   "metadata": {},
   "source": [
    "5. Check the last seven records of the new DataFrame you just created."
   ]
  },
  {
   "cell_type": "code",
   "execution_count": 6,
   "id": "4f5dda1d-a219-42a8-8fb9-ae1d3884093c",
   "metadata": {},
   "outputs": [
    {
     "data": {
      "text/html": [
       "<div>\n",
       "<style scoped>\n",
       "    .dataframe tbody tr th:only-of-type {\n",
       "        vertical-align: middle;\n",
       "    }\n",
       "\n",
       "    .dataframe tbody tr th {\n",
       "        vertical-align: top;\n",
       "    }\n",
       "\n",
       "    .dataframe thead th {\n",
       "        text-align: right;\n",
       "    }\n",
       "</style>\n",
       "<table border=\"1\" class=\"dataframe\">\n",
       "  <thead>\n",
       "    <tr style=\"text-align: right;\">\n",
       "      <th></th>\n",
       "      <th>CRIM</th>\n",
       "      <th>ZN</th>\n",
       "      <th>INDUS</th>\n",
       "      <th>RM</th>\n",
       "      <th>AGE</th>\n",
       "      <th>DIS</th>\n",
       "      <th>RAD</th>\n",
       "      <th>TAX</th>\n",
       "      <th>PTRATIO</th>\n",
       "      <th>PRICE</th>\n",
       "    </tr>\n",
       "  </thead>\n",
       "  <tbody>\n",
       "    <tr>\n",
       "      <th>499</th>\n",
       "      <td>0.17783</td>\n",
       "      <td>0.0</td>\n",
       "      <td>9.69</td>\n",
       "      <td>5.569</td>\n",
       "      <td>73.5</td>\n",
       "      <td>2.3999</td>\n",
       "      <td>6</td>\n",
       "      <td>391</td>\n",
       "      <td>19.2</td>\n",
       "      <td>17.5</td>\n",
       "    </tr>\n",
       "    <tr>\n",
       "      <th>500</th>\n",
       "      <td>0.22438</td>\n",
       "      <td>0.0</td>\n",
       "      <td>9.69</td>\n",
       "      <td>6.027</td>\n",
       "      <td>79.7</td>\n",
       "      <td>2.4982</td>\n",
       "      <td>6</td>\n",
       "      <td>391</td>\n",
       "      <td>19.2</td>\n",
       "      <td>16.8</td>\n",
       "    </tr>\n",
       "    <tr>\n",
       "      <th>501</th>\n",
       "      <td>0.06263</td>\n",
       "      <td>0.0</td>\n",
       "      <td>11.93</td>\n",
       "      <td>6.593</td>\n",
       "      <td>69.1</td>\n",
       "      <td>2.4786</td>\n",
       "      <td>1</td>\n",
       "      <td>273</td>\n",
       "      <td>21.0</td>\n",
       "      <td>22.4</td>\n",
       "    </tr>\n",
       "    <tr>\n",
       "      <th>502</th>\n",
       "      <td>0.04527</td>\n",
       "      <td>0.0</td>\n",
       "      <td>11.93</td>\n",
       "      <td>6.120</td>\n",
       "      <td>76.7</td>\n",
       "      <td>2.2875</td>\n",
       "      <td>1</td>\n",
       "      <td>273</td>\n",
       "      <td>21.0</td>\n",
       "      <td>20.6</td>\n",
       "    </tr>\n",
       "    <tr>\n",
       "      <th>503</th>\n",
       "      <td>0.06076</td>\n",
       "      <td>0.0</td>\n",
       "      <td>11.93</td>\n",
       "      <td>6.976</td>\n",
       "      <td>91.0</td>\n",
       "      <td>2.1675</td>\n",
       "      <td>1</td>\n",
       "      <td>273</td>\n",
       "      <td>21.0</td>\n",
       "      <td>23.9</td>\n",
       "    </tr>\n",
       "    <tr>\n",
       "      <th>504</th>\n",
       "      <td>0.10959</td>\n",
       "      <td>0.0</td>\n",
       "      <td>11.93</td>\n",
       "      <td>6.794</td>\n",
       "      <td>89.3</td>\n",
       "      <td>2.3889</td>\n",
       "      <td>1</td>\n",
       "      <td>273</td>\n",
       "      <td>21.0</td>\n",
       "      <td>22.0</td>\n",
       "    </tr>\n",
       "    <tr>\n",
       "      <th>505</th>\n",
       "      <td>0.04741</td>\n",
       "      <td>0.0</td>\n",
       "      <td>11.93</td>\n",
       "      <td>6.030</td>\n",
       "      <td>80.8</td>\n",
       "      <td>2.5050</td>\n",
       "      <td>1</td>\n",
       "      <td>273</td>\n",
       "      <td>21.0</td>\n",
       "      <td>11.9</td>\n",
       "    </tr>\n",
       "  </tbody>\n",
       "</table>\n",
       "</div>"
      ],
      "text/plain": [
       "        CRIM   ZN  INDUS     RM   AGE     DIS  RAD  TAX  PTRATIO  PRICE\n",
       "499  0.17783  0.0   9.69  5.569  73.5  2.3999    6  391     19.2   17.5\n",
       "500  0.22438  0.0   9.69  6.027  79.7  2.4982    6  391     19.2   16.8\n",
       "501  0.06263  0.0  11.93  6.593  69.1  2.4786    1  273     21.0   22.4\n",
       "502  0.04527  0.0  11.93  6.120  76.7  2.2875    1  273     21.0   20.6\n",
       "503  0.06076  0.0  11.93  6.976  91.0  2.1675    1  273     21.0   23.9\n",
       "504  0.10959  0.0  11.93  6.794  89.3  2.3889    1  273     21.0   22.0\n",
       "505  0.04741  0.0  11.93  6.030  80.8  2.5050    1  273     21.0   11.9"
      ]
     },
     "execution_count": 6,
     "metadata": {},
     "output_type": "execute_result"
    }
   ],
   "source": [
    "housing_df.tail(7)"
   ]
  },
  {
   "cell_type": "markdown",
   "id": "6ad095ea-35cd-4a1f-977b-8b8226113ad4",
   "metadata": {},
   "source": [
    "6. Plot the histograms of all the variables (columns) in the new DataFrame."
   ]
  },
  {
   "cell_type": "code",
   "execution_count": 7,
   "id": "ad3dbaaa-c29b-4a7b-b2d4-2d77eb201d29",
   "metadata": {},
   "outputs": [
    {
     "data": {
      "text/plain": [
       "array([[<AxesSubplot:title={'center':'CRIM'}>,\n",
       "        <AxesSubplot:title={'center':'ZN'}>,\n",
       "        <AxesSubplot:title={'center':'INDUS'}>],\n",
       "       [<AxesSubplot:title={'center':'RM'}>,\n",
       "        <AxesSubplot:title={'center':'AGE'}>,\n",
       "        <AxesSubplot:title={'center':'DIS'}>],\n",
       "       [<AxesSubplot:title={'center':'RAD'}>,\n",
       "        <AxesSubplot:title={'center':'TAX'}>,\n",
       "        <AxesSubplot:title={'center':'PTRATIO'}>],\n",
       "       [<AxesSubplot:title={'center':'PRICE'}>, <AxesSubplot:>,\n",
       "        <AxesSubplot:>]], dtype=object)"
      ]
     },
     "execution_count": 7,
     "metadata": {},
     "output_type": "execute_result"
    },
    {
     "data": {
      "image/png": "[encoded data removed]",
      "text/plain": [
       "<Figure size 1080x720 with 12 Axes>"
      ]
     },
     "metadata": {
      "needs_background": "light"
     },
     "output_type": "display_data"
    }
   ],
   "source": [
    "# Create histogram of numeric columns in dataset\n",
    "housing_df.hist(bins = 10, figsize = (15, 10), grid = False)"
   ]
  },
  {
   "cell_type": "markdown",
   "id": "a627a8c5-fed8-4a6f-8d34-47b3516ecead",
   "metadata": {},
   "source": [
    "7. Plot them all at once using a **for** loop. Try to add a unique title to a plot."
   ]
  },
  {
   "cell_type": "code",
   "execution_count": 8,
   "id": "cc3d9b7a-e8ec-4f8e-a4d0-3893c6f443bb",
   "metadata": {},
   "outputs": [
    {
     "data": {
      "image/png": "[encoded data removed]",
      "text/plain": [
       "<Figure size 360x216 with 1 Axes>"
      ]
     },
     "metadata": {
      "needs_background": "light"
     },
     "output_type": "display_data"
    },
    {
     "data": {
      "image/png": "[encoded data removed]",
      "text/plain": [
       "<Figure size 360x216 with 1 Axes>"
      ]
     },
     "metadata": {
      "needs_background": "light"
     },
     "output_type": "display_data"
    },
    {
     "data": {
      "image/png": "[encoded data removed]",
      "text/plain": [
       "<Figure size 360x216 with 1 Axes>"
      ]
     },
     "metadata": {
      "needs_background": "light"
     },
     "output_type": "display_data"
    },
    {
     "data": {
      "image/png": "[encoded data removed]",
      "text/plain": [
       "<Figure size 360x216 with 1 Axes>"
      ]
     },
     "metadata": {
      "needs_background": "light"
     },
     "output_type": "display_data"
    },
    {
     "data": {
      "image/png": "[encoded data removed]",
      "text/plain": [
       "<Figure size 360x216 with 1 Axes>"
      ]
     },
     "metadata": {
      "needs_background": "light"
     },
     "output_type": "display_data"
    },
    {
     "data": {
      "image/png": "[encoded data removed]",
      "text/plain": [
       "<Figure size 360x216 with 1 Axes>"
      ]
     },
     "metadata": {
      "needs_background": "light"
     },
     "output_type": "display_data"
    },
    {
     "data": {
      "image/png": "[encoded data removed]",
      "text/plain": [
       "<Figure size 360x216 with 1 Axes>"
      ]
     },
     "metadata": {
      "needs_background": "light"
     },
     "output_type": "display_data"
    },
    {
     "data": {
      "image/png": "[encoded data removed]",
      "text/plain": [
       "<Figure size 360x216 with 1 Axes>"
      ]
     },
     "metadata": {
      "needs_background": "light"
     },
     "output_type": "display_data"
    },
    {
     "data": {
      "image/png": "[encoded data removed]",
      "text/plain": [
       "<Figure size 360x216 with 1 Axes>"
      ]
     },
     "metadata": {
      "needs_background": "light"
     },
     "output_type": "display_data"
    },
    {
     "data": {
      "image/png": "[encoded data removed]",
      "text/plain": [
       "<Figure size 360x216 with 1 Axes>"
      ]
     },
     "metadata": {
      "needs_background": "light"
     },
     "output_type": "display_data"
    }
   ],
   "source": [
    "for column in housing_df.columns:\n",
    "    plt.title(\"Histogram of \" + column)\n",
    "    housing_df[column].hist(bins = 10, figsize = (5,3), grid = False)\n",
    "    plt.show()"
   ]
  },
  {
   "cell_type": "markdown",
   "id": "1164178c-792e-4dd2-8bcc-49dad5ae24b0",
   "metadata": {},
   "source": [
    "8. Create a scatter plot of crime rate versus price."
   ]
  },
  {
   "cell_type": "code",
   "execution_count": 9,
   "id": "e6b0377a-5259-46d3-9c9a-8f966945099d",
   "metadata": {},
   "outputs": [
    {
     "data": {
      "text/plain": [
       "<AxesSubplot:xlabel='CRIM', ylabel='PRICE'>"
      ]
     },
     "execution_count": 9,
     "metadata": {},
     "output_type": "execute_result"
    },
    {
     "data": {
      "image/png": "[encoded data removed]",
      "text/plain": [
       "<Figure size 432x288 with 1 Axes>"
      ]
     },
     "metadata": {
      "needs_background": "light"
     },
     "output_type": "display_data"
    }
   ],
   "source": [
    "housing_df.plot.scatter('CRIM', 'PRICE')"
   ]
  },
  {
   "cell_type": "markdown",
   "id": "859fd325-f56d-4876-927e-b191cdd853b1",
   "metadata": {},
   "source": [
    "9. Plot using **log10(crime)** versus **price**."
   ]
  },
  {
   "cell_type": "code",
   "execution_count": 10,
   "id": "a83819f7-78c1-487d-9ed9-6c5ac624040c",
   "metadata": {},
   "outputs": [
    {
     "data": {
      "text/plain": [
       "<matplotlib.collections.PathCollection at 0x215fe23b6d0>"
      ]
     },
     "execution_count": 10,
     "metadata": {},
     "output_type": "execute_result"
    },
    {
     "data": {
      "image/png": "[encoded data removed]",
      "text/plain": [
       "<Figure size 432x288 with 1 Axes>"
      ]
     },
     "metadata": {
      "needs_background": "light"
     },
     "output_type": "display_data"
    }
   ],
   "source": [
    "log_crime = np.log10(housing_df['CRIM'])\n",
    "plt.title('Crime per Capita (log10) and Price')\n",
    "plt.xlabel('Crime per Capita')\n",
    "plt.ylabel('Price ($1,000s)')\n",
    "plt.scatter(log_crime, housing_df['PRICE'])"
   ]
  },
  {
   "cell_type": "markdown",
   "id": "c3efd219-35db-4691-ade9-d56261ba34ef",
   "metadata": {},
   "source": [
    "10.  Calculate some useful statistics, such as mean rooms per dwelling, median age, mean distances to five Boston employment centers, and the percentage of houses with a low price (< $20,000)."
   ]
  },
  {
   "cell_type": "code",
   "execution_count": 11,
   "id": "4b6f5f0f-cd40-45e6-b582-d814a0ad42b2",
   "metadata": {},
   "outputs": [
    {
     "data": {
      "text/plain": [
       "6.284634387351787"
      ]
     },
     "execution_count": 11,
     "metadata": {},
     "output_type": "execute_result"
    }
   ],
   "source": [
    "# Mean rooms per dwelling\n",
    "housing_df['RM'].mean()"
   ]
  },
  {
   "cell_type": "code",
   "execution_count": 12,
   "id": "c638fe0f-4490-4c94-8dec-01b0cd48c7d3",
   "metadata": {},
   "outputs": [
    {
     "data": {
      "text/plain": [
       "77.5"
      ]
     },
     "execution_count": 12,
     "metadata": {},
     "output_type": "execute_result"
    }
   ],
   "source": [
    "# Median age\n",
    "housing_df['AGE'].median()"
   ]
  },
  {
   "cell_type": "code",
   "execution_count": 13,
   "id": "22e68c22-3bf7-4251-8d3a-26cf6419ad82",
   "metadata": {},
   "outputs": [
    {
     "data": {
      "text/plain": [
       "3.795042687747034"
      ]
     },
     "execution_count": 13,
     "metadata": {},
     "output_type": "execute_result"
    }
   ],
   "source": [
    "# Mean distances to five Boston employment centers\n",
    "housing_df['DIS'].mean()"
   ]
  },
  {
   "cell_type": "code",
   "execution_count": 14,
   "id": "01744597-c6d6-4dd0-b694-6eeb8ebc5937",
   "metadata": {},
   "outputs": [
    {
     "data": {
      "text/plain": [
       "41.50197628458498"
      ]
     },
     "execution_count": 14,
     "metadata": {},
     "output_type": "execute_result"
    }
   ],
   "source": [
    "# the percentage of houses with a low price (< $20,000)\n",
    "low_price_percentage = (housing_df['PRICE'] < 20)\n",
    "low_price_percentage.mean() * 100"
   ]
  },
  {
   "cell_type": "markdown",
   "id": "bcaa5e8a-55a1-45bb-b437-4e1864de6d2a",
   "metadata": {},
   "source": [
    "#### 2. Data Wrangling with Python: Activity 6, pg 171"
   ]
  },
  {
   "cell_type": "markdown",
   "id": "103ab430-51ce-4e4f-b009-dba1ae4ee2a1",
   "metadata": {},
   "source": [
    "1. Load the necessary libraries"
   ]
  },
  {
   "cell_type": "code",
   "execution_count": 15,
   "id": "dd376030-15fc-4daf-a5f1-a2ab4c99fa44",
   "metadata": {},
   "outputs": [],
   "source": [
    "import numpy as np\n",
    "import pandas as pd\n",
    "import matplotlib.pyplot as plt"
   ]
  },
  {
   "cell_type": "markdown",
   "id": "ccd0b867-b72d-4134-947e-86665268a2c1",
   "metadata": {},
   "source": [
    "2. Read the adult income dataset from the following URL: https://github.com/TrainingByPackt/Data-wrangling-with-Python/blob/master/Chapter04/Activity06/."
   ]
  },
  {
   "cell_type": "code",
   "execution_count": 16,
   "id": "aa16eea7-03d0-4a76-8728-f213dde09d33",
   "metadata": {},
   "outputs": [
    {
     "name": "stdout",
     "output_type": "stream",
     "text": [
      "<class 'pandas.core.frame.DataFrame'>\n",
      "RangeIndex: 32560 entries, 0 to 32559\n",
      "Data columns (total 14 columns):\n",
      " #   Column          Non-Null Count  Dtype \n",
      "---  ------          --------------  ----- \n",
      " 0   39              32560 non-null  int64 \n",
      " 1    State-gov      32560 non-null  object\n",
      " 2   77516           32560 non-null  int64 \n",
      " 3    Bachelors      32560 non-null  object\n",
      " 4   13              32560 non-null  int64 \n",
      " 5    Never-married  32560 non-null  object\n",
      " 6    Adm-clerical   32560 non-null  object\n",
      " 7    Not-in-family  32560 non-null  object\n",
      " 8    Male           32560 non-null  object\n",
      " 9   2174            32560 non-null  int64 \n",
      " 10  0               32560 non-null  int64 \n",
      " 11  40              32560 non-null  int64 \n",
      " 12   United-States  32560 non-null  object\n",
      " 13   <=50K          32560 non-null  object\n",
      "dtypes: int64(6), object(8)\n",
      "memory usage: 3.5+ MB\n"
     ]
    }
   ],
   "source": [
    "try:\n",
    "    adult_income_df = pd.read_csv(\"adult_income_data.csv\")\n",
    "    \n",
    "    adult_income_df.info()\n",
    "except Exception:\n",
    "    print(\"There was an error reading the Adult Income Data file\")"
   ]
  },
  {
   "cell_type": "code",
   "execution_count": 17,
   "id": "ede98767-8f8c-41d3-bab1-648b48695967",
   "metadata": {},
   "outputs": [
    {
     "data": {
      "text/html": [
       "<div>\n",
       "<style scoped>\n",
       "    .dataframe tbody tr th:only-of-type {\n",
       "        vertical-align: middle;\n",
       "    }\n",
       "\n",
       "    .dataframe tbody tr th {\n",
       "        vertical-align: top;\n",
       "    }\n",
       "\n",
       "    .dataframe thead th {\n",
       "        text-align: right;\n",
       "    }\n",
       "</style>\n",
       "<table border=\"1\" class=\"dataframe\">\n",
       "  <thead>\n",
       "    <tr style=\"text-align: right;\">\n",
       "      <th></th>\n",
       "      <th>39</th>\n",
       "      <th>State-gov</th>\n",
       "      <th>77516</th>\n",
       "      <th>Bachelors</th>\n",
       "      <th>13</th>\n",
       "      <th>Never-married</th>\n",
       "      <th>Adm-clerical</th>\n",
       "      <th>Not-in-family</th>\n",
       "      <th>Male</th>\n",
       "      <th>2174</th>\n",
       "      <th>0</th>\n",
       "      <th>40</th>\n",
       "      <th>United-States</th>\n",
       "      <th>&lt;=50K</th>\n",
       "    </tr>\n",
       "  </thead>\n",
       "  <tbody>\n",
       "    <tr>\n",
       "      <th>0</th>\n",
       "      <td>50</td>\n",
       "      <td>Self-emp-not-inc</td>\n",
       "      <td>83311</td>\n",
       "      <td>Bachelors</td>\n",
       "      <td>13</td>\n",
       "      <td>Married-civ-spouse</td>\n",
       "      <td>Exec-managerial</td>\n",
       "      <td>Husband</td>\n",
       "      <td>Male</td>\n",
       "      <td>0</td>\n",
       "      <td>0</td>\n",
       "      <td>13</td>\n",
       "      <td>United-States</td>\n",
       "      <td>&lt;=50K</td>\n",
       "    </tr>\n",
       "    <tr>\n",
       "      <th>1</th>\n",
       "      <td>38</td>\n",
       "      <td>Private</td>\n",
       "      <td>215646</td>\n",
       "      <td>HS-grad</td>\n",
       "      <td>9</td>\n",
       "      <td>Divorced</td>\n",
       "      <td>Handlers-cleaners</td>\n",
       "      <td>Not-in-family</td>\n",
       "      <td>Male</td>\n",
       "      <td>0</td>\n",
       "      <td>0</td>\n",
       "      <td>40</td>\n",
       "      <td>United-States</td>\n",
       "      <td>&lt;=50K</td>\n",
       "    </tr>\n",
       "    <tr>\n",
       "      <th>2</th>\n",
       "      <td>53</td>\n",
       "      <td>Private</td>\n",
       "      <td>234721</td>\n",
       "      <td>11th</td>\n",
       "      <td>7</td>\n",
       "      <td>Married-civ-spouse</td>\n",
       "      <td>Handlers-cleaners</td>\n",
       "      <td>Husband</td>\n",
       "      <td>Male</td>\n",
       "      <td>0</td>\n",
       "      <td>0</td>\n",
       "      <td>40</td>\n",
       "      <td>United-States</td>\n",
       "      <td>&lt;=50K</td>\n",
       "    </tr>\n",
       "    <tr>\n",
       "      <th>3</th>\n",
       "      <td>28</td>\n",
       "      <td>Private</td>\n",
       "      <td>338409</td>\n",
       "      <td>Bachelors</td>\n",
       "      <td>13</td>\n",
       "      <td>Married-civ-spouse</td>\n",
       "      <td>Prof-specialty</td>\n",
       "      <td>Wife</td>\n",
       "      <td>Female</td>\n",
       "      <td>0</td>\n",
       "      <td>0</td>\n",
       "      <td>40</td>\n",
       "      <td>Cuba</td>\n",
       "      <td>&lt;=50K</td>\n",
       "    </tr>\n",
       "    <tr>\n",
       "      <th>4</th>\n",
       "      <td>37</td>\n",
       "      <td>Private</td>\n",
       "      <td>284582</td>\n",
       "      <td>Masters</td>\n",
       "      <td>14</td>\n",
       "      <td>Married-civ-spouse</td>\n",
       "      <td>Exec-managerial</td>\n",
       "      <td>Wife</td>\n",
       "      <td>Female</td>\n",
       "      <td>0</td>\n",
       "      <td>0</td>\n",
       "      <td>40</td>\n",
       "      <td>United-States</td>\n",
       "      <td>&lt;=50K</td>\n",
       "    </tr>\n",
       "  </tbody>\n",
       "</table>\n",
       "</div>"
      ],
      "text/plain": [
       "   39          State-gov   77516   Bachelors  13        Never-married  \\\n",
       "0  50   Self-emp-not-inc   83311   Bachelors  13   Married-civ-spouse   \n",
       "1  38            Private  215646     HS-grad   9             Divorced   \n",
       "2  53            Private  234721        11th   7   Married-civ-spouse   \n",
       "3  28            Private  338409   Bachelors  13   Married-civ-spouse   \n",
       "4  37            Private  284582     Masters  14   Married-civ-spouse   \n",
       "\n",
       "         Adm-clerical   Not-in-family     Male  2174  0  40   United-States  \\\n",
       "0     Exec-managerial         Husband     Male     0  0  13   United-States   \n",
       "1   Handlers-cleaners   Not-in-family     Male     0  0  40   United-States   \n",
       "2   Handlers-cleaners         Husband     Male     0  0  40   United-States   \n",
       "3      Prof-specialty            Wife   Female     0  0  40            Cuba   \n",
       "4     Exec-managerial            Wife   Female     0  0  40   United-States   \n",
       "\n",
       "    <=50K  \n",
       "0   <=50K  \n",
       "1   <=50K  \n",
       "2   <=50K  \n",
       "3   <=50K  \n",
       "4   <=50K  "
      ]
     },
     "execution_count": 17,
     "metadata": {},
     "output_type": "execute_result"
    }
   ],
   "source": [
    "adult_income_df.head()"
   ]
  },
  {
   "cell_type": "markdown",
   "id": "848a97c0-4ace-40c6-a504-5fb03fb30603",
   "metadata": {},
   "source": [
    "3. Create a script that will read a text file line by line and extracts the first phrase which is the header name"
   ]
  },
  {
   "cell_type": "code",
   "execution_count": 18,
   "id": "64597548-fbb4-4c1e-806a-e4a4d58325ad",
   "metadata": {},
   "outputs": [
    {
     "data": {
      "text/plain": [
       "['age',\n",
       " 'workclass',\n",
       " 'fnlwgt',\n",
       " 'education',\n",
       " 'education-num',\n",
       " 'marital-status',\n",
       " 'occupation',\n",
       " 'relationship',\n",
       " 'sex',\n",
       " 'capital-gain',\n",
       " 'capital-loss',\n",
       " 'hours-per-week',\n",
       " 'native-country']"
      ]
     },
     "execution_count": 18,
     "metadata": {},
     "output_type": "execute_result"
    }
   ],
   "source": [
    "header_names = []\n",
    "\n",
    "with open(\"adult_income_names.txt\", \"r\") as fd:\n",
    "    for line in fd:\n",
    "        if line != \"\\n\":\n",
    "            header_names.append(line.split(':')[0])\n",
    "        \n",
    "header_names"
   ]
  },
  {
   "cell_type": "markdown",
   "id": "b8133dba-8883-4c65-9c7a-5924b91c156e",
   "metadata": {},
   "source": [
    "4. Add a name of **Income** for the response variable to the dataset. Read it again with the column names supplied"
   ]
  },
  {
   "cell_type": "code",
   "execution_count": 19,
   "id": "7b1461a0-b1c7-4268-bb20-29fb33f969bc",
   "metadata": {},
   "outputs": [
    {
     "name": "stdout",
     "output_type": "stream",
     "text": [
      "<class 'pandas.core.frame.DataFrame'>\n",
      "RangeIndex: 32561 entries, 0 to 32560\n",
      "Data columns (total 14 columns):\n",
      " #   Column          Non-Null Count  Dtype \n",
      "---  ------          --------------  ----- \n",
      " 0   age             32561 non-null  int64 \n",
      " 1   workclass       32561 non-null  object\n",
      " 2   fnlwgt          32561 non-null  int64 \n",
      " 3   education       32561 non-null  object\n",
      " 4   education-num   32561 non-null  int64 \n",
      " 5   marital-status  32561 non-null  object\n",
      " 6   occupation      32561 non-null  object\n",
      " 7   relationship    32561 non-null  object\n",
      " 8   sex             32561 non-null  object\n",
      " 9   capital-gain    32561 non-null  int64 \n",
      " 10  capital-loss    32561 non-null  int64 \n",
      " 11  hours-per-week  32561 non-null  int64 \n",
      " 12  native-country  32561 non-null  object\n",
      " 13  Income          32561 non-null  object\n",
      "dtypes: int64(6), object(8)\n",
      "memory usage: 3.5+ MB\n"
     ]
    }
   ],
   "source": [
    "header_names.append('Income')\n",
    "\n",
    "try:\n",
    "    adult_income_df = pd.read_csv(\"adult_income_data.csv\", names = header_names)\n",
    "    \n",
    "    adult_income_df.info()\n",
    "except Exception:\n",
    "    print(\"There was an error reading the Adult Income Data file\")"
   ]
  },
  {
   "cell_type": "code",
   "execution_count": 20,
   "id": "6307e8ed-c982-40a2-92a3-a5b86f1af8e7",
   "metadata": {},
   "outputs": [
    {
     "data": {
      "text/html": [
       "<div>\n",
       "<style scoped>\n",
       "    .dataframe tbody tr th:only-of-type {\n",
       "        vertical-align: middle;\n",
       "    }\n",
       "\n",
       "    .dataframe tbody tr th {\n",
       "        vertical-align: top;\n",
       "    }\n",
       "\n",
       "    .dataframe thead th {\n",
       "        text-align: right;\n",
       "    }\n",
       "</style>\n",
       "<table border=\"1\" class=\"dataframe\">\n",
       "  <thead>\n",
       "    <tr style=\"text-align: right;\">\n",
       "      <th></th>\n",
       "      <th>age</th>\n",
       "      <th>workclass</th>\n",
       "      <th>fnlwgt</th>\n",
       "      <th>education</th>\n",
       "      <th>education-num</th>\n",
       "      <th>marital-status</th>\n",
       "      <th>occupation</th>\n",
       "      <th>relationship</th>\n",
       "      <th>sex</th>\n",
       "      <th>capital-gain</th>\n",
       "      <th>capital-loss</th>\n",
       "      <th>hours-per-week</th>\n",
       "      <th>native-country</th>\n",
       "      <th>Income</th>\n",
       "    </tr>\n",
       "  </thead>\n",
       "  <tbody>\n",
       "    <tr>\n",
       "      <th>0</th>\n",
       "      <td>39</td>\n",
       "      <td>State-gov</td>\n",
       "      <td>77516</td>\n",
       "      <td>Bachelors</td>\n",
       "      <td>13</td>\n",
       "      <td>Never-married</td>\n",
       "      <td>Adm-clerical</td>\n",
       "      <td>Not-in-family</td>\n",
       "      <td>Male</td>\n",
       "      <td>2174</td>\n",
       "      <td>0</td>\n",
       "      <td>40</td>\n",
       "      <td>United-States</td>\n",
       "      <td>&lt;=50K</td>\n",
       "    </tr>\n",
       "    <tr>\n",
       "      <th>1</th>\n",
       "      <td>50</td>\n",
       "      <td>Self-emp-not-inc</td>\n",
       "      <td>83311</td>\n",
       "      <td>Bachelors</td>\n",
       "      <td>13</td>\n",
       "      <td>Married-civ-spouse</td>\n",
       "      <td>Exec-managerial</td>\n",
       "      <td>Husband</td>\n",
       "      <td>Male</td>\n",
       "      <td>0</td>\n",
       "      <td>0</td>\n",
       "      <td>13</td>\n",
       "      <td>United-States</td>\n",
       "      <td>&lt;=50K</td>\n",
       "    </tr>\n",
       "    <tr>\n",
       "      <th>2</th>\n",
       "      <td>38</td>\n",
       "      <td>Private</td>\n",
       "      <td>215646</td>\n",
       "      <td>HS-grad</td>\n",
       "      <td>9</td>\n",
       "      <td>Divorced</td>\n",
       "      <td>Handlers-cleaners</td>\n",
       "      <td>Not-in-family</td>\n",
       "      <td>Male</td>\n",
       "      <td>0</td>\n",
       "      <td>0</td>\n",
       "      <td>40</td>\n",
       "      <td>United-States</td>\n",
       "      <td>&lt;=50K</td>\n",
       "    </tr>\n",
       "    <tr>\n",
       "      <th>3</th>\n",
       "      <td>53</td>\n",
       "      <td>Private</td>\n",
       "      <td>234721</td>\n",
       "      <td>11th</td>\n",
       "      <td>7</td>\n",
       "      <td>Married-civ-spouse</td>\n",
       "      <td>Handlers-cleaners</td>\n",
       "      <td>Husband</td>\n",
       "      <td>Male</td>\n",
       "      <td>0</td>\n",
       "      <td>0</td>\n",
       "      <td>40</td>\n",
       "      <td>United-States</td>\n",
       "      <td>&lt;=50K</td>\n",
       "    </tr>\n",
       "    <tr>\n",
       "      <th>4</th>\n",
       "      <td>28</td>\n",
       "      <td>Private</td>\n",
       "      <td>338409</td>\n",
       "      <td>Bachelors</td>\n",
       "      <td>13</td>\n",
       "      <td>Married-civ-spouse</td>\n",
       "      <td>Prof-specialty</td>\n",
       "      <td>Wife</td>\n",
       "      <td>Female</td>\n",
       "      <td>0</td>\n",
       "      <td>0</td>\n",
       "      <td>40</td>\n",
       "      <td>Cuba</td>\n",
       "      <td>&lt;=50K</td>\n",
       "    </tr>\n",
       "  </tbody>\n",
       "</table>\n",
       "</div>"
      ],
      "text/plain": [
       "   age          workclass  fnlwgt   education  education-num  \\\n",
       "0   39          State-gov   77516   Bachelors             13   \n",
       "1   50   Self-emp-not-inc   83311   Bachelors             13   \n",
       "2   38            Private  215646     HS-grad              9   \n",
       "3   53            Private  234721        11th              7   \n",
       "4   28            Private  338409   Bachelors             13   \n",
       "\n",
       "        marital-status          occupation    relationship      sex  \\\n",
       "0        Never-married        Adm-clerical   Not-in-family     Male   \n",
       "1   Married-civ-spouse     Exec-managerial         Husband     Male   \n",
       "2             Divorced   Handlers-cleaners   Not-in-family     Male   \n",
       "3   Married-civ-spouse   Handlers-cleaners         Husband     Male   \n",
       "4   Married-civ-spouse      Prof-specialty            Wife   Female   \n",
       "\n",
       "   capital-gain  capital-loss  hours-per-week  native-country  Income  \n",
       "0          2174             0              40   United-States   <=50K  \n",
       "1             0             0              13   United-States   <=50K  \n",
       "2             0             0              40   United-States   <=50K  \n",
       "3             0             0              40   United-States   <=50K  \n",
       "4             0             0              40            Cuba   <=50K  "
      ]
     },
     "execution_count": 20,
     "metadata": {},
     "output_type": "execute_result"
    }
   ],
   "source": [
    "adult_income_df.head()"
   ]
  },
  {
   "cell_type": "markdown",
   "id": "65614183-6d97-4a77-93f4-33f8cdccd293",
   "metadata": {},
   "source": [
    "Show a statistical summary of the data set. Did you notice only a small number of columns are included?"
   ]
  },
  {
   "cell_type": "code",
   "execution_count": 21,
   "id": "3e3cedc6-4b46-46dc-99ba-880291f6f43e",
   "metadata": {},
   "outputs": [
    {
     "data": {
      "text/html": [
       "<div>\n",
       "<style scoped>\n",
       "    .dataframe tbody tr th:only-of-type {\n",
       "        vertical-align: middle;\n",
       "    }\n",
       "\n",
       "    .dataframe tbody tr th {\n",
       "        vertical-align: top;\n",
       "    }\n",
       "\n",
       "    .dataframe thead th {\n",
       "        text-align: right;\n",
       "    }\n",
       "</style>\n",
       "<table border=\"1\" class=\"dataframe\">\n",
       "  <thead>\n",
       "    <tr style=\"text-align: right;\">\n",
       "      <th></th>\n",
       "      <th>age</th>\n",
       "      <th>fnlwgt</th>\n",
       "      <th>education-num</th>\n",
       "      <th>capital-gain</th>\n",
       "      <th>capital-loss</th>\n",
       "      <th>hours-per-week</th>\n",
       "    </tr>\n",
       "  </thead>\n",
       "  <tbody>\n",
       "    <tr>\n",
       "      <th>count</th>\n",
       "      <td>32561.000000</td>\n",
       "      <td>3.256100e+04</td>\n",
       "      <td>32561.000000</td>\n",
       "      <td>32561.000000</td>\n",
       "      <td>32561.000000</td>\n",
       "      <td>32561.000000</td>\n",
       "    </tr>\n",
       "    <tr>\n",
       "      <th>mean</th>\n",
       "      <td>38.581647</td>\n",
       "      <td>1.897784e+05</td>\n",
       "      <td>10.080679</td>\n",
       "      <td>1077.648844</td>\n",
       "      <td>87.303830</td>\n",
       "      <td>40.437456</td>\n",
       "    </tr>\n",
       "    <tr>\n",
       "      <th>std</th>\n",
       "      <td>13.640433</td>\n",
       "      <td>1.055500e+05</td>\n",
       "      <td>2.572720</td>\n",
       "      <td>7385.292085</td>\n",
       "      <td>402.960219</td>\n",
       "      <td>12.347429</td>\n",
       "    </tr>\n",
       "    <tr>\n",
       "      <th>min</th>\n",
       "      <td>17.000000</td>\n",
       "      <td>1.228500e+04</td>\n",
       "      <td>1.000000</td>\n",
       "      <td>0.000000</td>\n",
       "      <td>0.000000</td>\n",
       "      <td>1.000000</td>\n",
       "    </tr>\n",
       "    <tr>\n",
       "      <th>25%</th>\n",
       "      <td>28.000000</td>\n",
       "      <td>1.178270e+05</td>\n",
       "      <td>9.000000</td>\n",
       "      <td>0.000000</td>\n",
       "      <td>0.000000</td>\n",
       "      <td>40.000000</td>\n",
       "    </tr>\n",
       "    <tr>\n",
       "      <th>50%</th>\n",
       "      <td>37.000000</td>\n",
       "      <td>1.783560e+05</td>\n",
       "      <td>10.000000</td>\n",
       "      <td>0.000000</td>\n",
       "      <td>0.000000</td>\n",
       "      <td>40.000000</td>\n",
       "    </tr>\n",
       "    <tr>\n",
       "      <th>75%</th>\n",
       "      <td>48.000000</td>\n",
       "      <td>2.370510e+05</td>\n",
       "      <td>12.000000</td>\n",
       "      <td>0.000000</td>\n",
       "      <td>0.000000</td>\n",
       "      <td>45.000000</td>\n",
       "    </tr>\n",
       "    <tr>\n",
       "      <th>max</th>\n",
       "      <td>90.000000</td>\n",
       "      <td>1.484705e+06</td>\n",
       "      <td>16.000000</td>\n",
       "      <td>99999.000000</td>\n",
       "      <td>4356.000000</td>\n",
       "      <td>99.000000</td>\n",
       "    </tr>\n",
       "  </tbody>\n",
       "</table>\n",
       "</div>"
      ],
      "text/plain": [
       "                age        fnlwgt  education-num  capital-gain  capital-loss  \\\n",
       "count  32561.000000  3.256100e+04   32561.000000  32561.000000  32561.000000   \n",
       "mean      38.581647  1.897784e+05      10.080679   1077.648844     87.303830   \n",
       "std       13.640433  1.055500e+05       2.572720   7385.292085    402.960219   \n",
       "min       17.000000  1.228500e+04       1.000000      0.000000      0.000000   \n",
       "25%       28.000000  1.178270e+05       9.000000      0.000000      0.000000   \n",
       "50%       37.000000  1.783560e+05      10.000000      0.000000      0.000000   \n",
       "75%       48.000000  2.370510e+05      12.000000      0.000000      0.000000   \n",
       "max       90.000000  1.484705e+06      16.000000  99999.000000   4356.000000   \n",
       "\n",
       "       hours-per-week  \n",
       "count    32561.000000  \n",
       "mean        40.437456  \n",
       "std         12.347429  \n",
       "min          1.000000  \n",
       "25%         40.000000  \n",
       "50%         40.000000  \n",
       "75%         45.000000  \n",
       "max         99.000000  "
      ]
     },
     "execution_count": 21,
     "metadata": {},
     "output_type": "execute_result"
    }
   ],
   "source": [
    "adult_income_df.describe()"
   ]
  },
  {
   "cell_type": "markdown",
   "id": "e63b8787-689b-4a14-bd48-a35b01290baa",
   "metadata": {},
   "source": [
    "Many variables in the dataset have multiple factors or classes. Can you write a loop to count and print them?"
   ]
  },
  {
   "cell_type": "code",
   "execution_count": 22,
   "id": "c568d097-1c40-4a15-9c59-39b847cbd328",
   "metadata": {},
   "outputs": [
    {
     "name": "stdout",
     "output_type": "stream",
     "text": [
      "There are 9 classes in workclass\n",
      "Classes are: [' State-gov' ' Self-emp-not-inc' ' Private' ' Federal-gov' ' Local-gov'\n",
      " ' ?' ' Self-emp-inc' ' Without-pay' ' Never-worked']\n",
      "\n",
      "\n",
      "There are 16 classes in education\n",
      "Classes are: [' Bachelors' ' HS-grad' ' 11th' ' Masters' ' 9th' ' Some-college'\n",
      " ' Assoc-acdm' ' Assoc-voc' ' 7th-8th' ' Doctorate' ' Prof-school'\n",
      " ' 5th-6th' ' 10th' ' 1st-4th' ' Preschool' ' 12th']\n",
      "\n",
      "\n",
      "There are 7 classes in marital-status\n",
      "Classes are: [' Never-married' ' Married-civ-spouse' ' Divorced'\n",
      " ' Married-spouse-absent' ' Separated' ' Married-AF-spouse' ' Widowed']\n",
      "\n",
      "\n",
      "There are 15 classes in occupation\n",
      "Classes are: [' Adm-clerical' ' Exec-managerial' ' Handlers-cleaners' ' Prof-specialty'\n",
      " ' Other-service' ' Sales' ' Craft-repair' ' Transport-moving'\n",
      " ' Farming-fishing' ' Machine-op-inspct' ' Tech-support' ' ?'\n",
      " ' Protective-serv' ' Armed-Forces' ' Priv-house-serv']\n",
      "\n",
      "\n",
      "There are 6 classes in relationship\n",
      "Classes are: [' Not-in-family' ' Husband' ' Wife' ' Own-child' ' Unmarried'\n",
      " ' Other-relative']\n",
      "\n",
      "\n",
      "There are 2 classes in sex\n",
      "Classes are: [' Male' ' Female']\n",
      "\n",
      "\n",
      "There are 42 classes in native-country\n",
      "Classes are: [' United-States' ' Cuba' ' Jamaica' ' India' ' ?' ' Mexico' ' South'\n",
      " ' Puerto-Rico' ' Honduras' ' England' ' Canada' ' Germany' ' Iran'\n",
      " ' Philippines' ' Italy' ' Poland' ' Columbia' ' Cambodia' ' Thailand'\n",
      " ' Ecuador' ' Laos' ' Taiwan' ' Haiti' ' Portugal' ' Dominican-Republic'\n",
      " ' El-Salvador' ' France' ' Guatemala' ' China' ' Japan' ' Yugoslavia'\n",
      " ' Peru' ' Outlying-US(Guam-USVI-etc)' ' Scotland' ' Trinadad&Tobago'\n",
      " ' Greece' ' Nicaragua' ' Vietnam' ' Hong' ' Ireland' ' Hungary'\n",
      " ' Holand-Netherlands']\n",
      "\n",
      "\n",
      "There are 2 classes in Income\n",
      "Classes are: [' <=50K' ' >50K']\n",
      "\n",
      "\n"
     ]
    }
   ],
   "source": [
    "class_columns = ['workclass', 'education', 'marital-status', 'occupation', 'relationship', 'sex', 'native-country', 'Income']\n",
    "\n",
    "for x in class_columns:\n",
    "    class_count = adult_income_df[x].nunique()\n",
    "    classes = adult_income_df[x].unique()\n",
    "    \n",
    "    print(f\"There are {class_count} classes in {x}\")\n",
    "    print(f\"Classes are: {classes}\")\n",
    "    print(\"\\n\")"
   ]
  },
  {
   "cell_type": "markdown",
   "id": "0d239cdd-15a4-43dd-916f-220b1931bbb8",
   "metadata": {},
   "source": [
    "5. Find the missing values."
   ]
  },
  {
   "cell_type": "code",
   "execution_count": 23,
   "id": "2d0f333c-f9bc-427f-9380-d4feed9676fd",
   "metadata": {},
   "outputs": [
    {
     "data": {
      "text/plain": [
       "age               0\n",
       "workclass         0\n",
       "fnlwgt            0\n",
       "education         0\n",
       "education-num     0\n",
       "marital-status    0\n",
       "occupation        0\n",
       "relationship      0\n",
       "sex               0\n",
       "capital-gain      0\n",
       "capital-loss      0\n",
       "hours-per-week    0\n",
       "native-country    0\n",
       "Income            0\n",
       "dtype: int64"
      ]
     },
     "execution_count": 23,
     "metadata": {},
     "output_type": "execute_result"
    }
   ],
   "source": [
    "adult_income_df.isnull().sum()"
   ]
  },
  {
   "cell_type": "markdown",
   "id": "f5cdd6a3-f4c0-462e-8f83-b0db17bbc7a7",
   "metadata": {},
   "source": [
    "6. Create a DataFrame with only age, education, and occupation by using subsetting."
   ]
  },
  {
   "cell_type": "code",
   "execution_count": 24,
   "id": "095abca4-9918-4b7f-b2fd-e4e0d08db41e",
   "metadata": {},
   "outputs": [
    {
     "data": {
      "text/html": [
       "<div>\n",
       "<style scoped>\n",
       "    .dataframe tbody tr th:only-of-type {\n",
       "        vertical-align: middle;\n",
       "    }\n",
       "\n",
       "    .dataframe tbody tr th {\n",
       "        vertical-align: top;\n",
       "    }\n",
       "\n",
       "    .dataframe thead th {\n",
       "        text-align: right;\n",
       "    }\n",
       "</style>\n",
       "<table border=\"1\" class=\"dataframe\">\n",
       "  <thead>\n",
       "    <tr style=\"text-align: right;\">\n",
       "      <th></th>\n",
       "      <th>age</th>\n",
       "      <th>education</th>\n",
       "      <th>occupation</th>\n",
       "    </tr>\n",
       "  </thead>\n",
       "  <tbody>\n",
       "    <tr>\n",
       "      <th>0</th>\n",
       "      <td>39</td>\n",
       "      <td>Bachelors</td>\n",
       "      <td>Adm-clerical</td>\n",
       "    </tr>\n",
       "    <tr>\n",
       "      <th>1</th>\n",
       "      <td>50</td>\n",
       "      <td>Bachelors</td>\n",
       "      <td>Exec-managerial</td>\n",
       "    </tr>\n",
       "    <tr>\n",
       "      <th>2</th>\n",
       "      <td>38</td>\n",
       "      <td>HS-grad</td>\n",
       "      <td>Handlers-cleaners</td>\n",
       "    </tr>\n",
       "    <tr>\n",
       "      <th>3</th>\n",
       "      <td>53</td>\n",
       "      <td>11th</td>\n",
       "      <td>Handlers-cleaners</td>\n",
       "    </tr>\n",
       "    <tr>\n",
       "      <th>4</th>\n",
       "      <td>28</td>\n",
       "      <td>Bachelors</td>\n",
       "      <td>Prof-specialty</td>\n",
       "    </tr>\n",
       "  </tbody>\n",
       "</table>\n",
       "</div>"
      ],
      "text/plain": [
       "   age   education          occupation\n",
       "0   39   Bachelors        Adm-clerical\n",
       "1   50   Bachelors     Exec-managerial\n",
       "2   38     HS-grad   Handlers-cleaners\n",
       "3   53        11th   Handlers-cleaners\n",
       "4   28   Bachelors      Prof-specialty"
      ]
     },
     "execution_count": 24,
     "metadata": {},
     "output_type": "execute_result"
    }
   ],
   "source": [
    "subset_df = adult_income_df[['age', 'education', 'occupation']]\n",
    "subset_df.head()"
   ]
  },
  {
   "cell_type": "markdown",
   "id": "f6afca56-d363-4e70-abfe-1fdfb7c25d8b",
   "metadata": {},
   "source": [
    "7. Plot a histogram of age with bin size = 20"
   ]
  },
  {
   "cell_type": "code",
   "execution_count": 25,
   "id": "2017508e-3100-43f6-b3a4-68b6d48f5a17",
   "metadata": {},
   "outputs": [
    {
     "data": {
      "text/plain": [
       "<AxesSubplot:>"
      ]
     },
     "execution_count": 25,
     "metadata": {},
     "output_type": "execute_result"
    },
    {
     "data": {
      "image/png": "[encoded data removed]",
      "text/plain": [
       "<Figure size 432x288 with 1 Axes>"
      ]
     },
     "metadata": {
      "needs_background": "light"
     },
     "output_type": "display_data"
    }
   ],
   "source": [
    "subset_df['age'].hist(bins = 20, grid = False)"
   ]
  },
  {
   "cell_type": "markdown",
   "id": "abe7f570-f893-435a-85d8-7e5403309203",
   "metadata": {},
   "source": [
    "8. Create a function to strip the whitespace characters."
   ]
  },
  {
   "cell_type": "code",
   "execution_count": 26,
   "id": "12b799e2-fccc-40a0-9206-2397f71e73ad",
   "metadata": {},
   "outputs": [],
   "source": [
    "def remove_whitespace(word):\n",
    "    return word.strip()"
   ]
  },
  {
   "cell_type": "markdown",
   "id": "71e4eec0-8ce9-4d52-b57d-20f1a18d34a0",
   "metadata": {},
   "source": [
    "9. Use the **apply** method to apply this function to all the columns with string values, create a new column, copy the values from this new column to the old column, and drop the new column"
   ]
  },
  {
   "cell_type": "code",
   "execution_count": 27,
   "id": "35c1cbe8-192c-4f45-8326-0d92c03ff713",
   "metadata": {},
   "outputs": [
    {
     "name": "stderr",
     "output_type": "stream",
     "text": [
      "C:\\Users\\Osgiliath\\AppData\\Local\\Temp\\ipykernel_20200\\1306652976.py:2: SettingWithCopyWarning: \n",
      "A value is trying to be set on a copy of a slice from a DataFrame.\n",
      "Try using .loc[row_indexer,col_indexer] = value instead\n",
      "\n",
      "See the caveats in the documentation: https://pandas.pydata.org/pandas-docs/stable/user_guide/indexing.html#returning-a-view-versus-a-copy\n",
      "  subset_df['education_stripped'] = subset_df['education'].apply(remove_whitespace)\n",
      "C:\\Users\\Osgiliath\\AppData\\Local\\Temp\\ipykernel_20200\\1306652976.py:3: SettingWithCopyWarning: \n",
      "A value is trying to be set on a copy of a slice from a DataFrame.\n",
      "Try using .loc[row_indexer,col_indexer] = value instead\n",
      "\n",
      "See the caveats in the documentation: https://pandas.pydata.org/pandas-docs/stable/user_guide/indexing.html#returning-a-view-versus-a-copy\n",
      "  subset_df['education'] = subset_df['education_stripped']\n",
      "C:\\Users\\Osgiliath\\AppData\\Local\\Temp\\ipykernel_20200\\1306652976.py:4: SettingWithCopyWarning: \n",
      "A value is trying to be set on a copy of a slice from a DataFrame\n",
      "\n",
      "See the caveats in the documentation: https://pandas.pydata.org/pandas-docs/stable/user_guide/indexing.html#returning-a-view-versus-a-copy\n",
      "  subset_df.drop(['education_stripped'], axis = 1, inplace = True)\n"
     ]
    },
    {
     "data": {
      "text/html": [
       "<div>\n",
       "<style scoped>\n",
       "    .dataframe tbody tr th:only-of-type {\n",
       "        vertical-align: middle;\n",
       "    }\n",
       "\n",
       "    .dataframe tbody tr th {\n",
       "        vertical-align: top;\n",
       "    }\n",
       "\n",
       "    .dataframe thead th {\n",
       "        text-align: right;\n",
       "    }\n",
       "</style>\n",
       "<table border=\"1\" class=\"dataframe\">\n",
       "  <thead>\n",
       "    <tr style=\"text-align: right;\">\n",
       "      <th></th>\n",
       "      <th>age</th>\n",
       "      <th>education</th>\n",
       "      <th>occupation</th>\n",
       "    </tr>\n",
       "  </thead>\n",
       "  <tbody>\n",
       "    <tr>\n",
       "      <th>0</th>\n",
       "      <td>39</td>\n",
       "      <td>Bachelors</td>\n",
       "      <td>Adm-clerical</td>\n",
       "    </tr>\n",
       "    <tr>\n",
       "      <th>1</th>\n",
       "      <td>50</td>\n",
       "      <td>Bachelors</td>\n",
       "      <td>Exec-managerial</td>\n",
       "    </tr>\n",
       "    <tr>\n",
       "      <th>2</th>\n",
       "      <td>38</td>\n",
       "      <td>HS-grad</td>\n",
       "      <td>Handlers-cleaners</td>\n",
       "    </tr>\n",
       "    <tr>\n",
       "      <th>3</th>\n",
       "      <td>53</td>\n",
       "      <td>11th</td>\n",
       "      <td>Handlers-cleaners</td>\n",
       "    </tr>\n",
       "    <tr>\n",
       "      <th>4</th>\n",
       "      <td>28</td>\n",
       "      <td>Bachelors</td>\n",
       "      <td>Prof-specialty</td>\n",
       "    </tr>\n",
       "  </tbody>\n",
       "</table>\n",
       "</div>"
      ],
      "text/plain": [
       "   age  education          occupation\n",
       "0   39  Bachelors        Adm-clerical\n",
       "1   50  Bachelors     Exec-managerial\n",
       "2   38    HS-grad   Handlers-cleaners\n",
       "3   53       11th   Handlers-cleaners\n",
       "4   28  Bachelors      Prof-specialty"
      ]
     },
     "execution_count": 27,
     "metadata": {},
     "output_type": "execute_result"
    }
   ],
   "source": [
    "# Education\n",
    "subset_df['education_stripped'] = subset_df['education'].apply(remove_whitespace)\n",
    "subset_df['education'] = subset_df['education_stripped']\n",
    "subset_df.drop(['education_stripped'], axis = 1, inplace = True)\n",
    "\n",
    "subset_df.head()"
   ]
  },
  {
   "cell_type": "code",
   "execution_count": 28,
   "id": "a1beba9f-dc70-46db-9311-e531944b4b32",
   "metadata": {},
   "outputs": [
    {
     "name": "stderr",
     "output_type": "stream",
     "text": [
      "C:\\Users\\Osgiliath\\AppData\\Local\\Temp\\ipykernel_20200\\535809811.py:2: SettingWithCopyWarning: \n",
      "A value is trying to be set on a copy of a slice from a DataFrame.\n",
      "Try using .loc[row_indexer,col_indexer] = value instead\n",
      "\n",
      "See the caveats in the documentation: https://pandas.pydata.org/pandas-docs/stable/user_guide/indexing.html#returning-a-view-versus-a-copy\n",
      "  subset_df['occupation_stripped'] = subset_df['occupation'].apply(remove_whitespace)\n",
      "C:\\Users\\Osgiliath\\AppData\\Local\\Temp\\ipykernel_20200\\535809811.py:3: SettingWithCopyWarning: \n",
      "A value is trying to be set on a copy of a slice from a DataFrame.\n",
      "Try using .loc[row_indexer,col_indexer] = value instead\n",
      "\n",
      "See the caveats in the documentation: https://pandas.pydata.org/pandas-docs/stable/user_guide/indexing.html#returning-a-view-versus-a-copy\n",
      "  subset_df['occupation'] = subset_df['occupation_stripped']\n",
      "C:\\Users\\Osgiliath\\AppData\\Local\\Temp\\ipykernel_20200\\535809811.py:4: SettingWithCopyWarning: \n",
      "A value is trying to be set on a copy of a slice from a DataFrame\n",
      "\n",
      "See the caveats in the documentation: https://pandas.pydata.org/pandas-docs/stable/user_guide/indexing.html#returning-a-view-versus-a-copy\n",
      "  subset_df.drop(['occupation_stripped'], axis = 1, inplace = True)\n"
     ]
    },
    {
     "data": {
      "text/html": [
       "<div>\n",
       "<style scoped>\n",
       "    .dataframe tbody tr th:only-of-type {\n",
       "        vertical-align: middle;\n",
       "    }\n",
       "\n",
       "    .dataframe tbody tr th {\n",
       "        vertical-align: top;\n",
       "    }\n",
       "\n",
       "    .dataframe thead th {\n",
       "        text-align: right;\n",
       "    }\n",
       "</style>\n",
       "<table border=\"1\" class=\"dataframe\">\n",
       "  <thead>\n",
       "    <tr style=\"text-align: right;\">\n",
       "      <th></th>\n",
       "      <th>age</th>\n",
       "      <th>education</th>\n",
       "      <th>occupation</th>\n",
       "    </tr>\n",
       "  </thead>\n",
       "  <tbody>\n",
       "    <tr>\n",
       "      <th>0</th>\n",
       "      <td>39</td>\n",
       "      <td>Bachelors</td>\n",
       "      <td>Adm-clerical</td>\n",
       "    </tr>\n",
       "    <tr>\n",
       "      <th>1</th>\n",
       "      <td>50</td>\n",
       "      <td>Bachelors</td>\n",
       "      <td>Exec-managerial</td>\n",
       "    </tr>\n",
       "    <tr>\n",
       "      <th>2</th>\n",
       "      <td>38</td>\n",
       "      <td>HS-grad</td>\n",
       "      <td>Handlers-cleaners</td>\n",
       "    </tr>\n",
       "    <tr>\n",
       "      <th>3</th>\n",
       "      <td>53</td>\n",
       "      <td>11th</td>\n",
       "      <td>Handlers-cleaners</td>\n",
       "    </tr>\n",
       "    <tr>\n",
       "      <th>4</th>\n",
       "      <td>28</td>\n",
       "      <td>Bachelors</td>\n",
       "      <td>Prof-specialty</td>\n",
       "    </tr>\n",
       "  </tbody>\n",
       "</table>\n",
       "</div>"
      ],
      "text/plain": [
       "   age  education         occupation\n",
       "0   39  Bachelors       Adm-clerical\n",
       "1   50  Bachelors    Exec-managerial\n",
       "2   38    HS-grad  Handlers-cleaners\n",
       "3   53       11th  Handlers-cleaners\n",
       "4   28  Bachelors     Prof-specialty"
      ]
     },
     "execution_count": 28,
     "metadata": {},
     "output_type": "execute_result"
    }
   ],
   "source": [
    "# Occupation\n",
    "subset_df['occupation_stripped'] = subset_df['occupation'].apply(remove_whitespace)\n",
    "subset_df['occupation'] = subset_df['occupation_stripped']\n",
    "subset_df.drop(['occupation_stripped'], axis = 1, inplace = True)\n",
    "\n",
    "subset_df.head()"
   ]
  },
  {
   "cell_type": "markdown",
   "id": "6e4479aa-9660-4ad3-88c6-a9556716a987",
   "metadata": {},
   "source": [
    "10. Find the number of people who are aged between 30 and 50."
   ]
  },
  {
   "cell_type": "code",
   "execution_count": 29,
   "id": "cc6fb6e2-36ae-4b60-b15a-32736f73b20c",
   "metadata": {},
   "outputs": [
    {
     "data": {
      "text/html": [
       "<div>\n",
       "<style scoped>\n",
       "    .dataframe tbody tr th:only-of-type {\n",
       "        vertical-align: middle;\n",
       "    }\n",
       "\n",
       "    .dataframe tbody tr th {\n",
       "        vertical-align: top;\n",
       "    }\n",
       "\n",
       "    .dataframe thead th {\n",
       "        text-align: right;\n",
       "    }\n",
       "</style>\n",
       "<table border=\"1\" class=\"dataframe\">\n",
       "  <thead>\n",
       "    <tr style=\"text-align: right;\">\n",
       "      <th></th>\n",
       "      <th>age</th>\n",
       "      <th>education</th>\n",
       "      <th>occupation</th>\n",
       "    </tr>\n",
       "  </thead>\n",
       "  <tbody>\n",
       "    <tr>\n",
       "      <th>0</th>\n",
       "      <td>39</td>\n",
       "      <td>Bachelors</td>\n",
       "      <td>Adm-clerical</td>\n",
       "    </tr>\n",
       "    <tr>\n",
       "      <th>1</th>\n",
       "      <td>50</td>\n",
       "      <td>Bachelors</td>\n",
       "      <td>Exec-managerial</td>\n",
       "    </tr>\n",
       "    <tr>\n",
       "      <th>2</th>\n",
       "      <td>38</td>\n",
       "      <td>HS-grad</td>\n",
       "      <td>Handlers-cleaners</td>\n",
       "    </tr>\n",
       "    <tr>\n",
       "      <th>5</th>\n",
       "      <td>37</td>\n",
       "      <td>Masters</td>\n",
       "      <td>Exec-managerial</td>\n",
       "    </tr>\n",
       "    <tr>\n",
       "      <th>6</th>\n",
       "      <td>49</td>\n",
       "      <td>9th</td>\n",
       "      <td>Other-service</td>\n",
       "    </tr>\n",
       "  </tbody>\n",
       "</table>\n",
       "</div>"
      ],
      "text/plain": [
       "   age  education         occupation\n",
       "0   39  Bachelors       Adm-clerical\n",
       "1   50  Bachelors    Exec-managerial\n",
       "2   38    HS-grad  Handlers-cleaners\n",
       "5   37    Masters    Exec-managerial\n",
       "6   49        9th      Other-service"
      ]
     },
     "execution_count": 29,
     "metadata": {},
     "output_type": "execute_result"
    }
   ],
   "source": [
    "filtered_age = subset_df[(subset_df['age'] >= 30) & (subset_df['age'] <= 50)]\n",
    "filtered_age.head()"
   ]
  },
  {
   "cell_type": "code",
   "execution_count": 30,
   "id": "e1d31a36-5dac-461d-905d-65d8c90edb09",
   "metadata": {},
   "outputs": [
    {
     "data": {
      "text/plain": [
       "(16390, 3)"
      ]
     },
     "execution_count": 30,
     "metadata": {},
     "output_type": "execute_result"
    }
   ],
   "source": [
    "filtered_age.shape"
   ]
  },
  {
   "cell_type": "markdown",
   "id": "6feb5f37-7470-44d8-bb8c-2d44c055b785",
   "metadata": {},
   "source": [
    "There are 16,390 people between 30 and 50"
   ]
  },
  {
   "cell_type": "markdown",
   "id": "1468d81e-43b9-4947-9a43-d565c8956d20",
   "metadata": {},
   "source": [
    "11. Group the records based on age and education to find how the mean age is distributed."
   ]
  },
  {
   "cell_type": "code",
   "execution_count": 31,
   "id": "440742c8-0f90-4436-af4b-a97a45f58a6e",
   "metadata": {},
   "outputs": [
    {
     "data": {
      "text/plain": [
       "age  education   \n",
       "17   10th            17.0\n",
       "     11th            17.0\n",
       "     12th            17.0\n",
       "     5th-6th         17.0\n",
       "     7th-8th         17.0\n",
       "                     ... \n",
       "90   Bachelors       90.0\n",
       "     HS-grad         90.0\n",
       "     Masters         90.0\n",
       "     Prof-school     90.0\n",
       "     Some-college    90.0\n",
       "Name: age, Length: 965, dtype: float64"
      ]
     },
     "execution_count": 31,
     "metadata": {},
     "output_type": "execute_result"
    }
   ],
   "source": [
    "grouped_age_education = subset_df.groupby(['age', 'education'])['age'].mean()\n",
    "grouped_age_education"
   ]
  },
  {
   "cell_type": "markdown",
   "id": "196f662b-7345-420a-baca-ca32b06e598e",
   "metadata": {},
   "source": [
    "12. Group by occupation and show the summary statistics of age. Find which profession has the oldest workers on average and which profession has its largest share of the workforce above the 75th percentile."
   ]
  },
  {
   "cell_type": "code",
   "execution_count": 32,
   "id": "568fc226-7436-47fa-ad5c-c2e1a5b8ec9a",
   "metadata": {},
   "outputs": [
    {
     "data": {
      "text/html": [
       "<div>\n",
       "<style scoped>\n",
       "    .dataframe tbody tr th:only-of-type {\n",
       "        vertical-align: middle;\n",
       "    }\n",
       "\n",
       "    .dataframe tbody tr th {\n",
       "        vertical-align: top;\n",
       "    }\n",
       "\n",
       "    .dataframe thead th {\n",
       "        text-align: right;\n",
       "    }\n",
       "</style>\n",
       "<table border=\"1\" class=\"dataframe\">\n",
       "  <thead>\n",
       "    <tr style=\"text-align: right;\">\n",
       "      <th></th>\n",
       "      <th>count</th>\n",
       "      <th>mean</th>\n",
       "      <th>std</th>\n",
       "      <th>min</th>\n",
       "      <th>25%</th>\n",
       "      <th>50%</th>\n",
       "      <th>75%</th>\n",
       "      <th>max</th>\n",
       "    </tr>\n",
       "    <tr>\n",
       "      <th>occupation</th>\n",
       "      <th></th>\n",
       "      <th></th>\n",
       "      <th></th>\n",
       "      <th></th>\n",
       "      <th></th>\n",
       "      <th></th>\n",
       "      <th></th>\n",
       "      <th></th>\n",
       "    </tr>\n",
       "  </thead>\n",
       "  <tbody>\n",
       "    <tr>\n",
       "      <th>?</th>\n",
       "      <td>1843.0</td>\n",
       "      <td>40.882800</td>\n",
       "      <td>20.336350</td>\n",
       "      <td>17.0</td>\n",
       "      <td>21.0</td>\n",
       "      <td>35.0</td>\n",
       "      <td>61.0</td>\n",
       "      <td>90.0</td>\n",
       "    </tr>\n",
       "    <tr>\n",
       "      <th>Adm-clerical</th>\n",
       "      <td>3770.0</td>\n",
       "      <td>36.964456</td>\n",
       "      <td>13.362998</td>\n",
       "      <td>17.0</td>\n",
       "      <td>26.0</td>\n",
       "      <td>35.0</td>\n",
       "      <td>46.0</td>\n",
       "      <td>90.0</td>\n",
       "    </tr>\n",
       "    <tr>\n",
       "      <th>Armed-Forces</th>\n",
       "      <td>9.0</td>\n",
       "      <td>30.222222</td>\n",
       "      <td>8.089774</td>\n",
       "      <td>23.0</td>\n",
       "      <td>24.0</td>\n",
       "      <td>29.0</td>\n",
       "      <td>34.0</td>\n",
       "      <td>46.0</td>\n",
       "    </tr>\n",
       "    <tr>\n",
       "      <th>Craft-repair</th>\n",
       "      <td>4099.0</td>\n",
       "      <td>39.031471</td>\n",
       "      <td>11.606436</td>\n",
       "      <td>17.0</td>\n",
       "      <td>30.0</td>\n",
       "      <td>38.0</td>\n",
       "      <td>47.0</td>\n",
       "      <td>90.0</td>\n",
       "    </tr>\n",
       "    <tr>\n",
       "      <th>Exec-managerial</th>\n",
       "      <td>4066.0</td>\n",
       "      <td>42.169208</td>\n",
       "      <td>11.974548</td>\n",
       "      <td>17.0</td>\n",
       "      <td>33.0</td>\n",
       "      <td>41.0</td>\n",
       "      <td>50.0</td>\n",
       "      <td>90.0</td>\n",
       "    </tr>\n",
       "    <tr>\n",
       "      <th>Farming-fishing</th>\n",
       "      <td>994.0</td>\n",
       "      <td>41.211268</td>\n",
       "      <td>15.070283</td>\n",
       "      <td>17.0</td>\n",
       "      <td>29.0</td>\n",
       "      <td>39.0</td>\n",
       "      <td>52.0</td>\n",
       "      <td>90.0</td>\n",
       "    </tr>\n",
       "    <tr>\n",
       "      <th>Handlers-cleaners</th>\n",
       "      <td>1370.0</td>\n",
       "      <td>32.165693</td>\n",
       "      <td>12.372635</td>\n",
       "      <td>17.0</td>\n",
       "      <td>23.0</td>\n",
       "      <td>29.0</td>\n",
       "      <td>39.0</td>\n",
       "      <td>90.0</td>\n",
       "    </tr>\n",
       "    <tr>\n",
       "      <th>Machine-op-inspct</th>\n",
       "      <td>2002.0</td>\n",
       "      <td>37.715285</td>\n",
       "      <td>12.068266</td>\n",
       "      <td>17.0</td>\n",
       "      <td>28.0</td>\n",
       "      <td>36.0</td>\n",
       "      <td>46.0</td>\n",
       "      <td>90.0</td>\n",
       "    </tr>\n",
       "    <tr>\n",
       "      <th>Other-service</th>\n",
       "      <td>3295.0</td>\n",
       "      <td>34.949621</td>\n",
       "      <td>14.521508</td>\n",
       "      <td>17.0</td>\n",
       "      <td>22.0</td>\n",
       "      <td>32.0</td>\n",
       "      <td>45.0</td>\n",
       "      <td>90.0</td>\n",
       "    </tr>\n",
       "    <tr>\n",
       "      <th>Priv-house-serv</th>\n",
       "      <td>149.0</td>\n",
       "      <td>41.724832</td>\n",
       "      <td>18.633688</td>\n",
       "      <td>17.0</td>\n",
       "      <td>24.0</td>\n",
       "      <td>40.0</td>\n",
       "      <td>57.0</td>\n",
       "      <td>81.0</td>\n",
       "    </tr>\n",
       "    <tr>\n",
       "      <th>Prof-specialty</th>\n",
       "      <td>4140.0</td>\n",
       "      <td>40.517633</td>\n",
       "      <td>12.016676</td>\n",
       "      <td>17.0</td>\n",
       "      <td>31.0</td>\n",
       "      <td>40.0</td>\n",
       "      <td>48.0</td>\n",
       "      <td>90.0</td>\n",
       "    </tr>\n",
       "    <tr>\n",
       "      <th>Protective-serv</th>\n",
       "      <td>649.0</td>\n",
       "      <td>38.953775</td>\n",
       "      <td>12.822062</td>\n",
       "      <td>17.0</td>\n",
       "      <td>29.0</td>\n",
       "      <td>36.0</td>\n",
       "      <td>47.0</td>\n",
       "      <td>90.0</td>\n",
       "    </tr>\n",
       "    <tr>\n",
       "      <th>Sales</th>\n",
       "      <td>3650.0</td>\n",
       "      <td>37.353973</td>\n",
       "      <td>14.186352</td>\n",
       "      <td>17.0</td>\n",
       "      <td>25.0</td>\n",
       "      <td>35.0</td>\n",
       "      <td>47.0</td>\n",
       "      <td>90.0</td>\n",
       "    </tr>\n",
       "    <tr>\n",
       "      <th>Tech-support</th>\n",
       "      <td>928.0</td>\n",
       "      <td>37.022629</td>\n",
       "      <td>11.316594</td>\n",
       "      <td>17.0</td>\n",
       "      <td>28.0</td>\n",
       "      <td>36.0</td>\n",
       "      <td>44.0</td>\n",
       "      <td>73.0</td>\n",
       "    </tr>\n",
       "    <tr>\n",
       "      <th>Transport-moving</th>\n",
       "      <td>1597.0</td>\n",
       "      <td>40.197871</td>\n",
       "      <td>12.450792</td>\n",
       "      <td>17.0</td>\n",
       "      <td>30.0</td>\n",
       "      <td>39.0</td>\n",
       "      <td>49.0</td>\n",
       "      <td>90.0</td>\n",
       "    </tr>\n",
       "  </tbody>\n",
       "</table>\n",
       "</div>"
      ],
      "text/plain": [
       "                    count       mean        std   min   25%   50%   75%   max\n",
       "occupation                                                                   \n",
       "?                  1843.0  40.882800  20.336350  17.0  21.0  35.0  61.0  90.0\n",
       "Adm-clerical       3770.0  36.964456  13.362998  17.0  26.0  35.0  46.0  90.0\n",
       "Armed-Forces          9.0  30.222222   8.089774  23.0  24.0  29.0  34.0  46.0\n",
       "Craft-repair       4099.0  39.031471  11.606436  17.0  30.0  38.0  47.0  90.0\n",
       "Exec-managerial    4066.0  42.169208  11.974548  17.0  33.0  41.0  50.0  90.0\n",
       "Farming-fishing     994.0  41.211268  15.070283  17.0  29.0  39.0  52.0  90.0\n",
       "Handlers-cleaners  1370.0  32.165693  12.372635  17.0  23.0  29.0  39.0  90.0\n",
       "Machine-op-inspct  2002.0  37.715285  12.068266  17.0  28.0  36.0  46.0  90.0\n",
       "Other-service      3295.0  34.949621  14.521508  17.0  22.0  32.0  45.0  90.0\n",
       "Priv-house-serv     149.0  41.724832  18.633688  17.0  24.0  40.0  57.0  81.0\n",
       "Prof-specialty     4140.0  40.517633  12.016676  17.0  31.0  40.0  48.0  90.0\n",
       "Protective-serv     649.0  38.953775  12.822062  17.0  29.0  36.0  47.0  90.0\n",
       "Sales              3650.0  37.353973  14.186352  17.0  25.0  35.0  47.0  90.0\n",
       "Tech-support        928.0  37.022629  11.316594  17.0  28.0  36.0  44.0  73.0\n",
       "Transport-moving   1597.0  40.197871  12.450792  17.0  30.0  39.0  49.0  90.0"
      ]
     },
     "execution_count": 32,
     "metadata": {},
     "output_type": "execute_result"
    }
   ],
   "source": [
    "grouped_occupation = subset_df.groupby(['occupation'])['age'].describe()\n",
    "grouped_occupation"
   ]
  },
  {
   "cell_type": "markdown",
   "id": "e35030bb-1850-4bc1-93be-5b4933e93b04",
   "metadata": {},
   "source": [
    "Oldest workers on average are in the Exec-managerial fields.\n",
    "\n",
    "The unknown occupation has the largest share of the workforce above 75%."
   ]
  },
  {
   "cell_type": "markdown",
   "id": "fcb65572-6ade-4477-b5a9-7a8285408ca7",
   "metadata": {},
   "source": [
    "13. Use subset and groupby to find outliers."
   ]
  },
  {
   "cell_type": "code",
   "execution_count": 33,
   "id": "d03ee08a-458e-4aab-93bd-1058fc83e0b5",
   "metadata": {},
   "outputs": [
    {
     "data": {
      "text/html": [
       "<div>\n",
       "<style scoped>\n",
       "    .dataframe tbody tr th:only-of-type {\n",
       "        vertical-align: middle;\n",
       "    }\n",
       "\n",
       "    .dataframe tbody tr th {\n",
       "        vertical-align: top;\n",
       "    }\n",
       "\n",
       "    .dataframe thead th {\n",
       "        text-align: right;\n",
       "    }\n",
       "</style>\n",
       "<table border=\"1\" class=\"dataframe\">\n",
       "  <thead>\n",
       "    <tr style=\"text-align: right;\">\n",
       "      <th></th>\n",
       "      <th>count</th>\n",
       "      <th>mean</th>\n",
       "      <th>std</th>\n",
       "      <th>min</th>\n",
       "      <th>25%</th>\n",
       "      <th>50%</th>\n",
       "      <th>75%</th>\n",
       "      <th>max</th>\n",
       "    </tr>\n",
       "    <tr>\n",
       "      <th>occupation</th>\n",
       "      <th></th>\n",
       "      <th></th>\n",
       "      <th></th>\n",
       "      <th></th>\n",
       "      <th></th>\n",
       "      <th></th>\n",
       "      <th></th>\n",
       "      <th></th>\n",
       "    </tr>\n",
       "  </thead>\n",
       "  <tbody>\n",
       "    <tr>\n",
       "      <th>?</th>\n",
       "      <td>1843.0</td>\n",
       "      <td>40.882800</td>\n",
       "      <td>20.336350</td>\n",
       "      <td>17.0</td>\n",
       "      <td>21.0</td>\n",
       "      <td>35.0</td>\n",
       "      <td>61.0</td>\n",
       "      <td>90.0</td>\n",
       "    </tr>\n",
       "    <tr>\n",
       "      <th>Adm-clerical</th>\n",
       "      <td>3770.0</td>\n",
       "      <td>36.964456</td>\n",
       "      <td>13.362998</td>\n",
       "      <td>17.0</td>\n",
       "      <td>26.0</td>\n",
       "      <td>35.0</td>\n",
       "      <td>46.0</td>\n",
       "      <td>90.0</td>\n",
       "    </tr>\n",
       "    <tr>\n",
       "      <th>Armed-Forces</th>\n",
       "      <td>9.0</td>\n",
       "      <td>30.222222</td>\n",
       "      <td>8.089774</td>\n",
       "      <td>23.0</td>\n",
       "      <td>24.0</td>\n",
       "      <td>29.0</td>\n",
       "      <td>34.0</td>\n",
       "      <td>46.0</td>\n",
       "    </tr>\n",
       "    <tr>\n",
       "      <th>Craft-repair</th>\n",
       "      <td>4099.0</td>\n",
       "      <td>39.031471</td>\n",
       "      <td>11.606436</td>\n",
       "      <td>17.0</td>\n",
       "      <td>30.0</td>\n",
       "      <td>38.0</td>\n",
       "      <td>47.0</td>\n",
       "      <td>90.0</td>\n",
       "    </tr>\n",
       "    <tr>\n",
       "      <th>Exec-managerial</th>\n",
       "      <td>4066.0</td>\n",
       "      <td>42.169208</td>\n",
       "      <td>11.974548</td>\n",
       "      <td>17.0</td>\n",
       "      <td>33.0</td>\n",
       "      <td>41.0</td>\n",
       "      <td>50.0</td>\n",
       "      <td>90.0</td>\n",
       "    </tr>\n",
       "    <tr>\n",
       "      <th>Farming-fishing</th>\n",
       "      <td>994.0</td>\n",
       "      <td>41.211268</td>\n",
       "      <td>15.070283</td>\n",
       "      <td>17.0</td>\n",
       "      <td>29.0</td>\n",
       "      <td>39.0</td>\n",
       "      <td>52.0</td>\n",
       "      <td>90.0</td>\n",
       "    </tr>\n",
       "    <tr>\n",
       "      <th>Handlers-cleaners</th>\n",
       "      <td>1370.0</td>\n",
       "      <td>32.165693</td>\n",
       "      <td>12.372635</td>\n",
       "      <td>17.0</td>\n",
       "      <td>23.0</td>\n",
       "      <td>29.0</td>\n",
       "      <td>39.0</td>\n",
       "      <td>90.0</td>\n",
       "    </tr>\n",
       "    <tr>\n",
       "      <th>Machine-op-inspct</th>\n",
       "      <td>2002.0</td>\n",
       "      <td>37.715285</td>\n",
       "      <td>12.068266</td>\n",
       "      <td>17.0</td>\n",
       "      <td>28.0</td>\n",
       "      <td>36.0</td>\n",
       "      <td>46.0</td>\n",
       "      <td>90.0</td>\n",
       "    </tr>\n",
       "    <tr>\n",
       "      <th>Other-service</th>\n",
       "      <td>3295.0</td>\n",
       "      <td>34.949621</td>\n",
       "      <td>14.521508</td>\n",
       "      <td>17.0</td>\n",
       "      <td>22.0</td>\n",
       "      <td>32.0</td>\n",
       "      <td>45.0</td>\n",
       "      <td>90.0</td>\n",
       "    </tr>\n",
       "    <tr>\n",
       "      <th>Priv-house-serv</th>\n",
       "      <td>149.0</td>\n",
       "      <td>41.724832</td>\n",
       "      <td>18.633688</td>\n",
       "      <td>17.0</td>\n",
       "      <td>24.0</td>\n",
       "      <td>40.0</td>\n",
       "      <td>57.0</td>\n",
       "      <td>81.0</td>\n",
       "    </tr>\n",
       "    <tr>\n",
       "      <th>Prof-specialty</th>\n",
       "      <td>4140.0</td>\n",
       "      <td>40.517633</td>\n",
       "      <td>12.016676</td>\n",
       "      <td>17.0</td>\n",
       "      <td>31.0</td>\n",
       "      <td>40.0</td>\n",
       "      <td>48.0</td>\n",
       "      <td>90.0</td>\n",
       "    </tr>\n",
       "    <tr>\n",
       "      <th>Protective-serv</th>\n",
       "      <td>649.0</td>\n",
       "      <td>38.953775</td>\n",
       "      <td>12.822062</td>\n",
       "      <td>17.0</td>\n",
       "      <td>29.0</td>\n",
       "      <td>36.0</td>\n",
       "      <td>47.0</td>\n",
       "      <td>90.0</td>\n",
       "    </tr>\n",
       "    <tr>\n",
       "      <th>Sales</th>\n",
       "      <td>3650.0</td>\n",
       "      <td>37.353973</td>\n",
       "      <td>14.186352</td>\n",
       "      <td>17.0</td>\n",
       "      <td>25.0</td>\n",
       "      <td>35.0</td>\n",
       "      <td>47.0</td>\n",
       "      <td>90.0</td>\n",
       "    </tr>\n",
       "    <tr>\n",
       "      <th>Tech-support</th>\n",
       "      <td>928.0</td>\n",
       "      <td>37.022629</td>\n",
       "      <td>11.316594</td>\n",
       "      <td>17.0</td>\n",
       "      <td>28.0</td>\n",
       "      <td>36.0</td>\n",
       "      <td>44.0</td>\n",
       "      <td>73.0</td>\n",
       "    </tr>\n",
       "    <tr>\n",
       "      <th>Transport-moving</th>\n",
       "      <td>1597.0</td>\n",
       "      <td>40.197871</td>\n",
       "      <td>12.450792</td>\n",
       "      <td>17.0</td>\n",
       "      <td>30.0</td>\n",
       "      <td>39.0</td>\n",
       "      <td>49.0</td>\n",
       "      <td>90.0</td>\n",
       "    </tr>\n",
       "  </tbody>\n",
       "</table>\n",
       "</div>"
      ],
      "text/plain": [
       "                    count       mean        std   min   25%   50%   75%   max\n",
       "occupation                                                                   \n",
       "?                  1843.0  40.882800  20.336350  17.0  21.0  35.0  61.0  90.0\n",
       "Adm-clerical       3770.0  36.964456  13.362998  17.0  26.0  35.0  46.0  90.0\n",
       "Armed-Forces          9.0  30.222222   8.089774  23.0  24.0  29.0  34.0  46.0\n",
       "Craft-repair       4099.0  39.031471  11.606436  17.0  30.0  38.0  47.0  90.0\n",
       "Exec-managerial    4066.0  42.169208  11.974548  17.0  33.0  41.0  50.0  90.0\n",
       "Farming-fishing     994.0  41.211268  15.070283  17.0  29.0  39.0  52.0  90.0\n",
       "Handlers-cleaners  1370.0  32.165693  12.372635  17.0  23.0  29.0  39.0  90.0\n",
       "Machine-op-inspct  2002.0  37.715285  12.068266  17.0  28.0  36.0  46.0  90.0\n",
       "Other-service      3295.0  34.949621  14.521508  17.0  22.0  32.0  45.0  90.0\n",
       "Priv-house-serv     149.0  41.724832  18.633688  17.0  24.0  40.0  57.0  81.0\n",
       "Prof-specialty     4140.0  40.517633  12.016676  17.0  31.0  40.0  48.0  90.0\n",
       "Protective-serv     649.0  38.953775  12.822062  17.0  29.0  36.0  47.0  90.0\n",
       "Sales              3650.0  37.353973  14.186352  17.0  25.0  35.0  47.0  90.0\n",
       "Tech-support        928.0  37.022629  11.316594  17.0  28.0  36.0  44.0  73.0\n",
       "Transport-moving   1597.0  40.197871  12.450792  17.0  30.0  39.0  49.0  90.0"
      ]
     },
     "execution_count": 33,
     "metadata": {},
     "output_type": "execute_result"
    }
   ],
   "source": [
    "grouped_occupation"
   ]
  },
  {
   "cell_type": "markdown",
   "id": "ce01173b-ea50-4197-8d65-ddb69eca7797",
   "metadata": {},
   "source": [
    "14. Plot the values on a bar chart."
   ]
  },
  {
   "cell_type": "code",
   "execution_count": 34,
   "id": "1ad30bb6-53cb-4f7e-a8c8-565a211ae50f",
   "metadata": {},
   "outputs": [
    {
     "data": {
      "image/png": "[encoded data removed]",
      "text/plain": [
       "<Figure size 1296x576 with 1 Axes>"
      ]
     },
     "metadata": {
      "needs_background": "light"
     },
     "output_type": "display_data"
    }
   ],
   "source": [
    "plt.figure(figsize = (18, 8))\n",
    "\n",
    "counts = grouped_occupation['count']\n",
    "occupations = grouped_occupation.index\n",
    "\n",
    "plt.barh(y = occupations, width = counts)\n",
    "plt.ylabel(\"Occupations\", fontsize = 20)\n",
    "plt.xlabel(\"Counts\", fontsize = 20)\n",
    "plt.show()"
   ]
  },
  {
   "cell_type": "markdown",
   "id": "4ee529a0-8047-4a12-90ab-e8539e4c6532",
   "metadata": {},
   "source": [
    "15. Merge the data using common keys."
   ]
  },
  {
   "cell_type": "code",
   "execution_count": 35,
   "id": "16c8726e-9b4d-40ef-978d-f3563e549372",
   "metadata": {},
   "outputs": [
    {
     "data": {
      "text/html": [
       "<div>\n",
       "<style scoped>\n",
       "    .dataframe tbody tr th:only-of-type {\n",
       "        vertical-align: middle;\n",
       "    }\n",
       "\n",
       "    .dataframe tbody tr th {\n",
       "        vertical-align: top;\n",
       "    }\n",
       "\n",
       "    .dataframe thead th {\n",
       "        text-align: right;\n",
       "    }\n",
       "</style>\n",
       "<table border=\"1\" class=\"dataframe\">\n",
       "  <thead>\n",
       "    <tr style=\"text-align: right;\">\n",
       "      <th></th>\n",
       "      <th>age</th>\n",
       "      <th>workclass</th>\n",
       "      <th>fnlwgt</th>\n",
       "      <th>education</th>\n",
       "      <th>education-num</th>\n",
       "      <th>marital-status</th>\n",
       "      <th>occupation</th>\n",
       "      <th>relationship</th>\n",
       "      <th>sex</th>\n",
       "      <th>capital-gain</th>\n",
       "      <th>capital-loss</th>\n",
       "      <th>hours-per-week</th>\n",
       "      <th>native-country</th>\n",
       "      <th>Income</th>\n",
       "    </tr>\n",
       "  </thead>\n",
       "  <tbody>\n",
       "    <tr>\n",
       "      <th>0</th>\n",
       "      <td>39</td>\n",
       "      <td>State-gov</td>\n",
       "      <td>77516</td>\n",
       "      <td>Bachelors</td>\n",
       "      <td>13</td>\n",
       "      <td>Never-married</td>\n",
       "      <td>Adm-clerical</td>\n",
       "      <td>Not-in-family</td>\n",
       "      <td>Male</td>\n",
       "      <td>2174</td>\n",
       "      <td>0</td>\n",
       "      <td>40</td>\n",
       "      <td>United-States</td>\n",
       "      <td>&lt;=50K</td>\n",
       "    </tr>\n",
       "    <tr>\n",
       "      <th>1</th>\n",
       "      <td>50</td>\n",
       "      <td>Self-emp-not-inc</td>\n",
       "      <td>83311</td>\n",
       "      <td>Bachelors</td>\n",
       "      <td>13</td>\n",
       "      <td>Married-civ-spouse</td>\n",
       "      <td>Exec-managerial</td>\n",
       "      <td>Husband</td>\n",
       "      <td>Male</td>\n",
       "      <td>0</td>\n",
       "      <td>0</td>\n",
       "      <td>13</td>\n",
       "      <td>United-States</td>\n",
       "      <td>&lt;=50K</td>\n",
       "    </tr>\n",
       "    <tr>\n",
       "      <th>2</th>\n",
       "      <td>38</td>\n",
       "      <td>Private</td>\n",
       "      <td>215646</td>\n",
       "      <td>HS-grad</td>\n",
       "      <td>9</td>\n",
       "      <td>Divorced</td>\n",
       "      <td>Handlers-cleaners</td>\n",
       "      <td>Not-in-family</td>\n",
       "      <td>Male</td>\n",
       "      <td>0</td>\n",
       "      <td>0</td>\n",
       "      <td>40</td>\n",
       "      <td>United-States</td>\n",
       "      <td>&lt;=50K</td>\n",
       "    </tr>\n",
       "    <tr>\n",
       "      <th>3</th>\n",
       "      <td>53</td>\n",
       "      <td>Private</td>\n",
       "      <td>234721</td>\n",
       "      <td>11th</td>\n",
       "      <td>7</td>\n",
       "      <td>Married-civ-spouse</td>\n",
       "      <td>Handlers-cleaners</td>\n",
       "      <td>Husband</td>\n",
       "      <td>Male</td>\n",
       "      <td>0</td>\n",
       "      <td>0</td>\n",
       "      <td>40</td>\n",
       "      <td>United-States</td>\n",
       "      <td>&lt;=50K</td>\n",
       "    </tr>\n",
       "    <tr>\n",
       "      <th>4</th>\n",
       "      <td>28</td>\n",
       "      <td>Private</td>\n",
       "      <td>338409</td>\n",
       "      <td>Bachelors</td>\n",
       "      <td>13</td>\n",
       "      <td>Married-civ-spouse</td>\n",
       "      <td>Prof-specialty</td>\n",
       "      <td>Wife</td>\n",
       "      <td>Female</td>\n",
       "      <td>0</td>\n",
       "      <td>0</td>\n",
       "      <td>40</td>\n",
       "      <td>Cuba</td>\n",
       "      <td>&lt;=50K</td>\n",
       "    </tr>\n",
       "  </tbody>\n",
       "</table>\n",
       "</div>"
      ],
      "text/plain": [
       "   age          workclass  fnlwgt   education  education-num  \\\n",
       "0   39          State-gov   77516   Bachelors             13   \n",
       "1   50   Self-emp-not-inc   83311   Bachelors             13   \n",
       "2   38            Private  215646     HS-grad              9   \n",
       "3   53            Private  234721        11th              7   \n",
       "4   28            Private  338409   Bachelors             13   \n",
       "\n",
       "        marital-status          occupation    relationship      sex  \\\n",
       "0        Never-married        Adm-clerical   Not-in-family     Male   \n",
       "1   Married-civ-spouse     Exec-managerial         Husband     Male   \n",
       "2             Divorced   Handlers-cleaners   Not-in-family     Male   \n",
       "3   Married-civ-spouse   Handlers-cleaners         Husband     Male   \n",
       "4   Married-civ-spouse      Prof-specialty            Wife   Female   \n",
       "\n",
       "   capital-gain  capital-loss  hours-per-week  native-country  Income  \n",
       "0          2174             0              40   United-States   <=50K  \n",
       "1             0             0              13   United-States   <=50K  \n",
       "2             0             0              40   United-States   <=50K  \n",
       "3             0             0              40   United-States   <=50K  \n",
       "4             0             0              40            Cuba   <=50K  "
      ]
     },
     "execution_count": 35,
     "metadata": {},
     "output_type": "execute_result"
    }
   ],
   "source": [
    "adult_income_df.head()"
   ]
  },
  {
   "cell_type": "code",
   "execution_count": 36,
   "id": "d1e00a71-ec74-4743-92af-6e2cc23b95d4",
   "metadata": {},
   "outputs": [],
   "source": [
    "# Sample first dataframe with 5 elements and your chosen random_state\n",
    "sample_1 = adult_income_df[['workclass','fnlwgt','marital-status', 'education-num', 'relationship']]\n",
    "sample_1_subset = sample_1.sample(10)"
   ]
  },
  {
   "cell_type": "code",
   "execution_count": 37,
   "id": "dff01028-3314-4ac6-9ae5-eb43b916f545",
   "metadata": {},
   "outputs": [],
   "source": [
    "# Sample second dataframe with 5 elements and your chosen random_state\n",
    "sample_2 = adult_income_df[['workclass', 'sex', 'capital-gain', 'capital-loss', 'hours-per-week']]\n",
    "sample_2_subset = sample_2.sample(10)"
   ]
  },
  {
   "cell_type": "code",
   "execution_count": 38,
   "id": "9e1ee525-b4b9-46a2-ba71-268083538cc6",
   "metadata": {},
   "outputs": [],
   "source": [
    "# Merge the dataframes\n",
    "merged_df = pd.merge(sample_1_subset, sample_2_subset, on = 'workclass', how = 'inner').drop_duplicates()"
   ]
  },
  {
   "cell_type": "code",
   "execution_count": 39,
   "id": "b658a4d8-a6a0-4114-90d4-5777e8acbd5f",
   "metadata": {},
   "outputs": [
    {
     "data": {
      "text/html": [
       "<div>\n",
       "<style scoped>\n",
       "    .dataframe tbody tr th:only-of-type {\n",
       "        vertical-align: middle;\n",
       "    }\n",
       "\n",
       "    .dataframe tbody tr th {\n",
       "        vertical-align: top;\n",
       "    }\n",
       "\n",
       "    .dataframe thead th {\n",
       "        text-align: right;\n",
       "    }\n",
       "</style>\n",
       "<table border=\"1\" class=\"dataframe\">\n",
       "  <thead>\n",
       "    <tr style=\"text-align: right;\">\n",
       "      <th></th>\n",
       "      <th>workclass</th>\n",
       "      <th>fnlwgt</th>\n",
       "      <th>marital-status</th>\n",
       "      <th>education-num</th>\n",
       "      <th>relationship</th>\n",
       "      <th>sex</th>\n",
       "      <th>capital-gain</th>\n",
       "      <th>capital-loss</th>\n",
       "      <th>hours-per-week</th>\n",
       "    </tr>\n",
       "  </thead>\n",
       "  <tbody>\n",
       "    <tr>\n",
       "      <th>0</th>\n",
       "      <td>Private</td>\n",
       "      <td>181659</td>\n",
       "      <td>Never-married</td>\n",
       "      <td>7</td>\n",
       "      <td>Own-child</td>\n",
       "      <td>Female</td>\n",
       "      <td>0</td>\n",
       "      <td>0</td>\n",
       "      <td>35</td>\n",
       "    </tr>\n",
       "    <tr>\n",
       "      <th>1</th>\n",
       "      <td>Private</td>\n",
       "      <td>181659</td>\n",
       "      <td>Never-married</td>\n",
       "      <td>7</td>\n",
       "      <td>Own-child</td>\n",
       "      <td>Male</td>\n",
       "      <td>0</td>\n",
       "      <td>0</td>\n",
       "      <td>43</td>\n",
       "    </tr>\n",
       "    <tr>\n",
       "      <th>2</th>\n",
       "      <td>Private</td>\n",
       "      <td>181659</td>\n",
       "      <td>Never-married</td>\n",
       "      <td>7</td>\n",
       "      <td>Own-child</td>\n",
       "      <td>Male</td>\n",
       "      <td>0</td>\n",
       "      <td>0</td>\n",
       "      <td>15</td>\n",
       "    </tr>\n",
       "    <tr>\n",
       "      <th>3</th>\n",
       "      <td>Private</td>\n",
       "      <td>181659</td>\n",
       "      <td>Never-married</td>\n",
       "      <td>7</td>\n",
       "      <td>Own-child</td>\n",
       "      <td>Male</td>\n",
       "      <td>0</td>\n",
       "      <td>0</td>\n",
       "      <td>12</td>\n",
       "    </tr>\n",
       "    <tr>\n",
       "      <th>4</th>\n",
       "      <td>Private</td>\n",
       "      <td>181659</td>\n",
       "      <td>Never-married</td>\n",
       "      <td>7</td>\n",
       "      <td>Own-child</td>\n",
       "      <td>Female</td>\n",
       "      <td>0</td>\n",
       "      <td>0</td>\n",
       "      <td>45</td>\n",
       "    </tr>\n",
       "  </tbody>\n",
       "</table>\n",
       "</div>"
      ],
      "text/plain": [
       "  workclass  fnlwgt  marital-status  education-num relationship      sex  \\\n",
       "0   Private  181659   Never-married              7    Own-child   Female   \n",
       "1   Private  181659   Never-married              7    Own-child     Male   \n",
       "2   Private  181659   Never-married              7    Own-child     Male   \n",
       "3   Private  181659   Never-married              7    Own-child     Male   \n",
       "4   Private  181659   Never-married              7    Own-child   Female   \n",
       "\n",
       "   capital-gain  capital-loss  hours-per-week  \n",
       "0             0             0              35  \n",
       "1             0             0              43  \n",
       "2             0             0              15  \n",
       "3             0             0              12  \n",
       "4             0             0              45  "
      ]
     },
     "execution_count": 39,
     "metadata": {},
     "output_type": "execute_result"
    }
   ],
   "source": [
    "# Show the merged dataframe\n",
    "merged_df.head()"
   ]
  },
  {
   "cell_type": "markdown",
   "id": "b88fdd59-c1ff-4a36-a87e-b7713c85623f",
   "metadata": {},
   "source": [
    "#### 3. Create a series and practice basic arithmetic steps"
   ]
  },
  {
   "cell_type": "markdown",
   "id": "7af2c41f-2252-48d1-831c-898ac0338345",
   "metadata": {},
   "source": [
    "**a. Series 1 = 7.3, -2.5, 3.4, 1.5**"
   ]
  },
  {
   "cell_type": "markdown",
   "id": "65f79c9a-08d4-43c9-8178-25021c5241fa",
   "metadata": {},
   "source": [
    "**i. Index = 'a', 'c', 'd', 'e'**"
   ]
  },
  {
   "cell_type": "code",
   "execution_count": 40,
   "id": "2ba9acca-67eb-4b4a-840a-e9e65f467c7b",
   "metadata": {},
   "outputs": [
    {
     "data": {
      "text/plain": [
       "a    7.3\n",
       "c   -2.5\n",
       "d    3.4\n",
       "e    1.5\n",
       "dtype: float64"
      ]
     },
     "execution_count": 40,
     "metadata": {},
     "output_type": "execute_result"
    }
   ],
   "source": [
    "series_1 = pd.Series([7.3, -2.5, 3.4, 1.5], index = ['a', 'c', 'd', 'e'])\n",
    "series_1"
   ]
  },
  {
   "cell_type": "markdown",
   "id": "84d60e58-aa3c-4513-ab4a-cb090b42c23e",
   "metadata": {},
   "source": [
    "**b. Series 2: -2.1, 3.6, -1.5, 4, 3.1**"
   ]
  },
  {
   "cell_type": "markdown",
   "id": "578c370a-fcad-42c1-9663-43cbe55d6754",
   "metadata": {},
   "source": [
    "**ii. Index = 'a', 'c', 'e', 'f', 'g'**"
   ]
  },
  {
   "cell_type": "code",
   "execution_count": 41,
   "id": "5e8d1c68-6b49-4cb2-8910-e281973db774",
   "metadata": {},
   "outputs": [
    {
     "data": {
      "text/plain": [
       "a   -2.1\n",
       "c    3.6\n",
       "e   -1.5\n",
       "f    4.0\n",
       "g    3.1\n",
       "dtype: float64"
      ]
     },
     "execution_count": 41,
     "metadata": {},
     "output_type": "execute_result"
    }
   ],
   "source": [
    "series_2 = pd.Series([-2.1, 3.6, -1.5, 4, 3.1], index = ['a', 'c', 'e', 'f', 'g'])\n",
    "series_2"
   ]
  },
  {
   "cell_type": "markdown",
   "id": "7d7cedd7-65fe-4b1b-93c2-b2ec7fb4bfab",
   "metadata": {},
   "source": [
    "**c. Add Series 1 and Series 2 together and print results**"
   ]
  },
  {
   "cell_type": "code",
   "execution_count": 42,
   "id": "00cbce40-244b-4488-82e2-478867ced329",
   "metadata": {},
   "outputs": [
    {
     "data": {
      "text/plain": [
       "a    5.2\n",
       "c    1.1\n",
       "d    NaN\n",
       "e    0.0\n",
       "f    NaN\n",
       "g    NaN\n",
       "dtype: float64"
      ]
     },
     "execution_count": 42,
     "metadata": {},
     "output_type": "execute_result"
    }
   ],
   "source": [
    "series_add = series_1 + series_2\n",
    "series_add"
   ]
  },
  {
   "cell_type": "markdown",
   "id": "ac86d211-66f9-4aac-8126-cb061a164fa8",
   "metadata": {},
   "source": [
    "**d. Subtract Series 1 from Series 2 and print results**"
   ]
  },
  {
   "cell_type": "code",
   "execution_count": 43,
   "id": "5b616e08-7f47-4ceb-b32d-b7951223b69b",
   "metadata": {},
   "outputs": [
    {
     "data": {
      "text/plain": [
       "a    9.4\n",
       "c   -6.1\n",
       "d    NaN\n",
       "e    3.0\n",
       "f    NaN\n",
       "g    NaN\n",
       "dtype: float64"
      ]
     },
     "execution_count": 43,
     "metadata": {},
     "output_type": "execute_result"
    }
   ],
   "source": [
    "series_subtract = series_1 - series_2\n",
    "series_subtract"
   ]
  },
  {
   "cell_type": "markdown",
   "id": "4fe68623-36d0-4168-bdcf-a6d3cd701e3c",
   "metadata": {},
   "source": [
    "#### 4. Data Wrangling with Python: Activity 7, pg 207"
   ]
  },
  {
   "cell_type": "markdown",
   "id": "b9e97838-892c-4d2a-a0a2-aa1b091ca893",
   "metadata": {},
   "source": [
    "In this activity, you have been given a Wikipedia page where you have the GDP of all countries listed. You have been asked to create three **DataFrames** from the three sources mentioned in the page (https://en.wikipedia.org/wiki/List_of_countries_by_past_and_projected_GDP_(nominal))"
   ]
  },
  {
   "cell_type": "markdown",
   "id": "b2b40313-ffca-49bf-95d5-7f83c4014f79",
   "metadata": {},
   "source": [
    "1. Open the page in a separate Chrome/Firefox tab and use something like an **Inspect element** tool to view the source HTML and understand its structure\n",
    "2. Read the page using bs4\n",
    "3. Find the table structure you will need to deal with (how many tables there are?)\n",
    "4. Find the right table using bs4\n",
    "5. Separate the source names and their corresponding data\n",
    "6. Get the source names from the list of sources you have created\n",
    "7. Separate the header and data from the data that ou separated before for the first souce only, and then create a DataFrame using that\n",
    "8. Repeat the last task for the other two data sources."
   ]
  },
  {
   "cell_type": "code",
   "execution_count": 44,
   "id": "ac3d2348-280e-46b0-8856-41758bfcc4fd",
   "metadata": {},
   "outputs": [],
   "source": [
    "# import librarys\n",
    "from bs4 import BeautifulSoup\n",
    "import requests\n",
    "import pandas as pd"
   ]
  },
  {
   "cell_type": "code",
   "execution_count": 45,
   "id": "c53fc2e5-2bd4-435c-a009-a24a07d53dcc",
   "metadata": {},
   "outputs": [
    {
     "name": "stdout",
     "output_type": "stream",
     "text": [
      "List of countries by past and projected GDP (nominal)\n"
     ]
    }
   ],
   "source": [
    "response = requests.get(\n",
    "   url=\"https://en.wikipedia.org/wiki/List_of_countries_by_past_and_projected_GDP_(nominal)\",\n",
    "    )\n",
    "\n",
    "if response.status_code == requests.codes.ok:       \n",
    "    soup = BeautifulSoup(response.content, 'html.parser')\n",
    "\n",
    "    title = soup.find(id=\"firstHeading\")\n",
    "    print(title.string)\n",
    "else:\n",
    "    print(\"Sorry, something went wrong\")"
   ]
  },
  {
   "cell_type": "code",
   "execution_count": 46,
   "id": "053274c9-44d5-4c4c-b02f-7600e73a3e07",
   "metadata": {},
   "outputs": [
    {
     "name": "stdout",
     "output_type": "stream",
     "text": [
      "There are 14 tables\n"
     ]
    }
   ],
   "source": [
    "data_tables = soup.find_all(\"table\")\n",
    "print(f\"There are {len(data_tables)} tables\")"
   ]
  },
  {
   "cell_type": "code",
   "execution_count": 47,
   "id": "5771574b-1d16-4989-a3cf-aaf4e8e9d9fb",
   "metadata": {},
   "outputs": [],
   "source": [
    "table_data = soup.find_all(\"table\", {\"class\": \"wikitable\"})\n",
    "table_1_data = table_data[0]\n",
    "table_2_data = table_data[1]\n",
    "table_3_data = table_data[2]"
   ]
  },
  {
   "cell_type": "code",
   "execution_count": 48,
   "id": "176342e2-854d-4ed5-ae0f-e50f87894b10",
   "metadata": {},
   "outputs": [
    {
     "data": {
      "text/plain": [
       "['Country (or area)',\n",
       " '1970',\n",
       " '1971',\n",
       " '1972',\n",
       " '1973',\n",
       " '1974',\n",
       " '1975',\n",
       " '1976',\n",
       " '1977',\n",
       " '1978',\n",
       " '1979']"
      ]
     },
     "execution_count": 48,
     "metadata": {},
     "output_type": "execute_result"
    }
   ],
   "source": [
    "table_1_header = [th.getText().strip() for th in table_1_data.find_all('tbody')[0].find_all('th')]\n",
    "table_1_header"
   ]
  },
  {
   "cell_type": "code",
   "execution_count": 49,
   "id": "fe4bc53b-8c78-4c2f-8a2e-6516a04f1f2a",
   "metadata": {},
   "outputs": [],
   "source": [
    "table_1_rows = table_1_data.tbody.find_all(\"tr\", recursive = False)[1:]\n",
    "table_1_details = [[td.get_text().strip() for td in tr.find_all('td')] for tr in table_1_rows]"
   ]
  },
  {
   "cell_type": "code",
   "execution_count": 50,
   "id": "b70fcd97-caf0-483c-b743-f5829f763c3e",
   "metadata": {},
   "outputs": [
    {
     "data": {
      "text/html": [
       "<div>\n",
       "<style scoped>\n",
       "    .dataframe tbody tr th:only-of-type {\n",
       "        vertical-align: middle;\n",
       "    }\n",
       "\n",
       "    .dataframe tbody tr th {\n",
       "        vertical-align: top;\n",
       "    }\n",
       "\n",
       "    .dataframe thead th {\n",
       "        text-align: right;\n",
       "    }\n",
       "</style>\n",
       "<table border=\"1\" class=\"dataframe\">\n",
       "  <thead>\n",
       "    <tr style=\"text-align: right;\">\n",
       "      <th></th>\n",
       "      <th>Country (or area)</th>\n",
       "      <th>1970</th>\n",
       "      <th>1971</th>\n",
       "      <th>1972</th>\n",
       "      <th>1973</th>\n",
       "      <th>1974</th>\n",
       "      <th>1975</th>\n",
       "      <th>1976</th>\n",
       "      <th>1977</th>\n",
       "      <th>1978</th>\n",
       "      <th>1979</th>\n",
       "    </tr>\n",
       "  </thead>\n",
       "  <tbody>\n",
       "    <tr>\n",
       "      <th>0</th>\n",
       "      <td>Afghanistan *</td>\n",
       "      <td>1,749</td>\n",
       "      <td>1,831</td>\n",
       "      <td>1,596</td>\n",
       "      <td>1,733</td>\n",
       "      <td>2,156</td>\n",
       "      <td>2,367</td>\n",
       "      <td>2,556</td>\n",
       "      <td>2,953</td>\n",
       "      <td>3,300</td>\n",
       "      <td>3,698</td>\n",
       "    </tr>\n",
       "    <tr>\n",
       "      <th>1</th>\n",
       "      <td>Albania *</td>\n",
       "      <td>2,266</td>\n",
       "      <td>2,331</td>\n",
       "      <td>2,398</td>\n",
       "      <td>2,467</td>\n",
       "      <td>2,537</td>\n",
       "      <td>2,610</td>\n",
       "      <td>2,686</td>\n",
       "      <td>2,761</td>\n",
       "      <td>2,842</td>\n",
       "      <td>2,372</td>\n",
       "    </tr>\n",
       "    <tr>\n",
       "      <th>2</th>\n",
       "      <td>Algeria *</td>\n",
       "      <td>5,167</td>\n",
       "      <td>5,376</td>\n",
       "      <td>7,193</td>\n",
       "      <td>9,250</td>\n",
       "      <td>13,290</td>\n",
       "      <td>15,591</td>\n",
       "      <td>17,790</td>\n",
       "      <td>21,038</td>\n",
       "      <td>26,433</td>\n",
       "      <td>33,276</td>\n",
       "    </tr>\n",
       "    <tr>\n",
       "      <th>3</th>\n",
       "      <td>Andorra *</td>\n",
       "      <td>99</td>\n",
       "      <td>113</td>\n",
       "      <td>144</td>\n",
       "      <td>191</td>\n",
       "      <td>236</td>\n",
       "      <td>279</td>\n",
       "      <td>288</td>\n",
       "      <td>321</td>\n",
       "      <td>390</td>\n",
       "      <td>521</td>\n",
       "    </tr>\n",
       "    <tr>\n",
       "      <th>4</th>\n",
       "      <td>Angola *</td>\n",
       "      <td>3,807</td>\n",
       "      <td>4,007</td>\n",
       "      <td>4,102</td>\n",
       "      <td>5,016</td>\n",
       "      <td>5,627</td>\n",
       "      <td>4,147</td>\n",
       "      <td>3,981</td>\n",
       "      <td>4,344</td>\n",
       "      <td>4,845</td>\n",
       "      <td>5,380</td>\n",
       "    </tr>\n",
       "  </tbody>\n",
       "</table>\n",
       "</div>"
      ],
      "text/plain": [
       "  Country (or area)   1970   1971   1972   1973    1974    1975    1976  \\\n",
       "0     Afghanistan *  1,749  1,831  1,596  1,733   2,156   2,367   2,556   \n",
       "1         Albania *  2,266  2,331  2,398  2,467   2,537   2,610   2,686   \n",
       "2         Algeria *  5,167  5,376  7,193  9,250  13,290  15,591  17,790   \n",
       "3         Andorra *     99    113    144    191     236     279     288   \n",
       "4          Angola *  3,807  4,007  4,102  5,016   5,627   4,147   3,981   \n",
       "\n",
       "     1977    1978    1979  \n",
       "0   2,953   3,300   3,698  \n",
       "1   2,761   2,842   2,372  \n",
       "2  21,038  26,433  33,276  \n",
       "3     321     390     521  \n",
       "4   4,344   4,845   5,380  "
      ]
     },
     "execution_count": 50,
     "metadata": {},
     "output_type": "execute_result"
    }
   ],
   "source": [
    "un_estimates_70_79 = pd.DataFrame(table_1_details, columns = table_1_header)\n",
    "un_estimates_70_79.head()"
   ]
  },
  {
   "cell_type": "code",
   "execution_count": 51,
   "id": "bcccad93-4079-417c-9e48-883817090440",
   "metadata": {},
   "outputs": [
    {
     "data": {
      "text/plain": [
       "['Country (or dependent territory)',\n",
       " '1980',\n",
       " '1981',\n",
       " '1982',\n",
       " '1983',\n",
       " '1984',\n",
       " '1985',\n",
       " '1986',\n",
       " '1987',\n",
       " '1988',\n",
       " '1989']"
      ]
     },
     "execution_count": 51,
     "metadata": {},
     "output_type": "execute_result"
    }
   ],
   "source": [
    "table_2_header = [th.getText().strip() for th in table_2_data.find_all('tbody')[0].find_all('th')]\n",
    "table_2_header"
   ]
  },
  {
   "cell_type": "code",
   "execution_count": 52,
   "id": "f6a75c8e-758b-4384-8a0d-d13c6d7759e1",
   "metadata": {},
   "outputs": [],
   "source": [
    "table_2_rows = table_2_data.tbody.find_all(\"tr\", recursive = False)[1:]\n",
    "table_2_details = [[td.get_text().strip() for td in tr.find_all('td')] for tr in table_2_rows]"
   ]
  },
  {
   "cell_type": "code",
   "execution_count": 53,
   "id": "5215f4a2-b4d3-4516-ad82-ff1cd6d13c86",
   "metadata": {},
   "outputs": [
    {
     "data": {
      "text/html": [
       "<div>\n",
       "<style scoped>\n",
       "    .dataframe tbody tr th:only-of-type {\n",
       "        vertical-align: middle;\n",
       "    }\n",
       "\n",
       "    .dataframe tbody tr th {\n",
       "        vertical-align: top;\n",
       "    }\n",
       "\n",
       "    .dataframe thead th {\n",
       "        text-align: right;\n",
       "    }\n",
       "</style>\n",
       "<table border=\"1\" class=\"dataframe\">\n",
       "  <thead>\n",
       "    <tr style=\"text-align: right;\">\n",
       "      <th></th>\n",
       "      <th>Country (or dependent territory)</th>\n",
       "      <th>1980</th>\n",
       "      <th>1981</th>\n",
       "      <th>1982</th>\n",
       "      <th>1983</th>\n",
       "      <th>1984</th>\n",
       "      <th>1985</th>\n",
       "      <th>1986</th>\n",
       "      <th>1987</th>\n",
       "      <th>1988</th>\n",
       "      <th>1989</th>\n",
       "    </tr>\n",
       "  </thead>\n",
       "  <tbody>\n",
       "    <tr>\n",
       "      <th>0</th>\n",
       "      <td>Afghanistan</td>\n",
       "      <td></td>\n",
       "      <td></td>\n",
       "      <td></td>\n",
       "      <td></td>\n",
       "      <td></td>\n",
       "      <td></td>\n",
       "      <td></td>\n",
       "      <td></td>\n",
       "      <td></td>\n",
       "      <td></td>\n",
       "    </tr>\n",
       "    <tr>\n",
       "      <th>1</th>\n",
       "      <td>Albania</td>\n",
       "      <td>1,946</td>\n",
       "      <td>2,229</td>\n",
       "      <td>2,296</td>\n",
       "      <td>2,319</td>\n",
       "      <td>2,290</td>\n",
       "      <td>2,339</td>\n",
       "      <td>2,587</td>\n",
       "      <td>2,566</td>\n",
       "      <td>2,530</td>\n",
       "      <td>2,779</td>\n",
       "    </tr>\n",
       "    <tr>\n",
       "      <th>2</th>\n",
       "      <td>Algeria</td>\n",
       "      <td>42,346</td>\n",
       "      <td>44,372</td>\n",
       "      <td>44,780</td>\n",
       "      <td>47,529</td>\n",
       "      <td>51,513</td>\n",
       "      <td>61,132</td>\n",
       "      <td>61,535</td>\n",
       "      <td>63,300</td>\n",
       "      <td>51,664</td>\n",
       "      <td>52,558</td>\n",
       "    </tr>\n",
       "    <tr>\n",
       "      <th>3</th>\n",
       "      <td>Andorra</td>\n",
       "      <td></td>\n",
       "      <td></td>\n",
       "      <td></td>\n",
       "      <td></td>\n",
       "      <td></td>\n",
       "      <td></td>\n",
       "      <td></td>\n",
       "      <td></td>\n",
       "      <td></td>\n",
       "      <td></td>\n",
       "    </tr>\n",
       "    <tr>\n",
       "      <th>4</th>\n",
       "      <td>Angola</td>\n",
       "      <td>6,639</td>\n",
       "      <td>6,214</td>\n",
       "      <td>6,214</td>\n",
       "      <td>6,476</td>\n",
       "      <td>6,864</td>\n",
       "      <td>8,457</td>\n",
       "      <td>7,918</td>\n",
       "      <td>9,050</td>\n",
       "      <td>9,818</td>\n",
       "      <td>11,421</td>\n",
       "    </tr>\n",
       "  </tbody>\n",
       "</table>\n",
       "</div>"
      ],
      "text/plain": [
       "  Country (or dependent territory)    1980    1981    1982    1983    1984  \\\n",
       "0                      Afghanistan                                           \n",
       "1                          Albania   1,946   2,229   2,296   2,319   2,290   \n",
       "2                          Algeria  42,346  44,372  44,780  47,529  51,513   \n",
       "3                          Andorra                                           \n",
       "4                           Angola   6,639   6,214   6,214   6,476   6,864   \n",
       "\n",
       "     1985    1986    1987    1988    1989  \n",
       "0                                          \n",
       "1   2,339   2,587   2,566   2,530   2,779  \n",
       "2  61,132  61,535  63,300  51,664  52,558  \n",
       "3                                          \n",
       "4   8,457   7,918   9,050   9,818  11,421  "
      ]
     },
     "execution_count": 53,
     "metadata": {},
     "output_type": "execute_result"
    }
   ],
   "source": [
    "imf_estimates_80_89 = pd.DataFrame(table_2_details, columns = table_2_header)\n",
    "imf_estimates_80_89.head()"
   ]
  },
  {
   "cell_type": "code",
   "execution_count": 54,
   "id": "11ff2a81-d94a-4fed-8105-6db4c6ce7f66",
   "metadata": {},
   "outputs": [
    {
     "data": {
      "text/plain": [
       "['Country (or dependent territory)',\n",
       " '1990',\n",
       " '1991',\n",
       " '1992',\n",
       " '1993',\n",
       " '1994',\n",
       " '1995',\n",
       " '1996',\n",
       " '1997',\n",
       " '1998',\n",
       " '1999']"
      ]
     },
     "execution_count": 54,
     "metadata": {},
     "output_type": "execute_result"
    }
   ],
   "source": [
    "table_3_header = [th.getText().strip() for th in table_3_data.find_all('tbody')[0].find_all('th')]\n",
    "table_3_header"
   ]
  },
  {
   "cell_type": "code",
   "execution_count": 55,
   "id": "ddae92e9-9411-4f29-922d-8b46e3d16b10",
   "metadata": {},
   "outputs": [],
   "source": [
    "table_3_rows = table_3_data.tbody.find_all(\"tr\", recursive = False)[1:]\n",
    "table_3_details = [[td.get_text().strip() for td in tr.find_all('td')] for tr in table_3_rows]"
   ]
  },
  {
   "cell_type": "code",
   "execution_count": 56,
   "id": "bdccdcfe-121f-4559-9f64-73e8c4526f01",
   "metadata": {},
   "outputs": [
    {
     "data": {
      "text/html": [
       "<div>\n",
       "<style scoped>\n",
       "    .dataframe tbody tr th:only-of-type {\n",
       "        vertical-align: middle;\n",
       "    }\n",
       "\n",
       "    .dataframe tbody tr th {\n",
       "        vertical-align: top;\n",
       "    }\n",
       "\n",
       "    .dataframe thead th {\n",
       "        text-align: right;\n",
       "    }\n",
       "</style>\n",
       "<table border=\"1\" class=\"dataframe\">\n",
       "  <thead>\n",
       "    <tr style=\"text-align: right;\">\n",
       "      <th></th>\n",
       "      <th>Country (or dependent territory)</th>\n",
       "      <th>1990</th>\n",
       "      <th>1991</th>\n",
       "      <th>1992</th>\n",
       "      <th>1993</th>\n",
       "      <th>1994</th>\n",
       "      <th>1995</th>\n",
       "      <th>1996</th>\n",
       "      <th>1997</th>\n",
       "      <th>1998</th>\n",
       "      <th>1999</th>\n",
       "    </tr>\n",
       "  </thead>\n",
       "  <tbody>\n",
       "    <tr>\n",
       "      <th>0</th>\n",
       "      <td>Afghanistan</td>\n",
       "      <td></td>\n",
       "      <td></td>\n",
       "      <td></td>\n",
       "      <td></td>\n",
       "      <td></td>\n",
       "      <td></td>\n",
       "      <td></td>\n",
       "      <td></td>\n",
       "      <td></td>\n",
       "      <td></td>\n",
       "    </tr>\n",
       "    <tr>\n",
       "      <th>1</th>\n",
       "      <td>Albania</td>\n",
       "      <td>2,221</td>\n",
       "      <td>1,333</td>\n",
       "      <td>843</td>\n",
       "      <td>1,461</td>\n",
       "      <td>2,361</td>\n",
       "      <td>2,882</td>\n",
       "      <td>3,200</td>\n",
       "      <td>2,259</td>\n",
       "      <td>2,560</td>\n",
       "      <td>3,209</td>\n",
       "    </tr>\n",
       "    <tr>\n",
       "      <th>2</th>\n",
       "      <td>Algeria</td>\n",
       "      <td>61,892</td>\n",
       "      <td>46,670</td>\n",
       "      <td>49,217</td>\n",
       "      <td>50,963</td>\n",
       "      <td>42,426</td>\n",
       "      <td>42,066</td>\n",
       "      <td>46,941</td>\n",
       "      <td>48,178</td>\n",
       "      <td>48,188</td>\n",
       "      <td>48,845</td>\n",
       "    </tr>\n",
       "    <tr>\n",
       "      <th>3</th>\n",
       "      <td>Andorra</td>\n",
       "      <td></td>\n",
       "      <td></td>\n",
       "      <td></td>\n",
       "      <td></td>\n",
       "      <td></td>\n",
       "      <td></td>\n",
       "      <td></td>\n",
       "      <td></td>\n",
       "      <td></td>\n",
       "      <td></td>\n",
       "    </tr>\n",
       "    <tr>\n",
       "      <th>4</th>\n",
       "      <td>Angola</td>\n",
       "      <td>12,571</td>\n",
       "      <td>12,186</td>\n",
       "      <td>9,395</td>\n",
       "      <td>6,819</td>\n",
       "      <td>4,965</td>\n",
       "      <td>6,197</td>\n",
       "      <td>7,994</td>\n",
       "      <td>9,388</td>\n",
       "      <td>7,958</td>\n",
       "      <td>7,526</td>\n",
       "    </tr>\n",
       "  </tbody>\n",
       "</table>\n",
       "</div>"
      ],
      "text/plain": [
       "  Country (or dependent territory)    1990    1991    1992    1993    1994  \\\n",
       "0                      Afghanistan                                           \n",
       "1                          Albania   2,221   1,333     843   1,461   2,361   \n",
       "2                          Algeria  61,892  46,670  49,217  50,963  42,426   \n",
       "3                          Andorra                                           \n",
       "4                           Angola  12,571  12,186   9,395   6,819   4,965   \n",
       "\n",
       "     1995    1996    1997    1998    1999  \n",
       "0                                          \n",
       "1   2,882   3,200   2,259   2,560   3,209  \n",
       "2  42,066  46,941  48,178  48,188  48,845  \n",
       "3                                          \n",
       "4   6,197   7,994   9,388   7,958   7,526  "
      ]
     },
     "execution_count": 56,
     "metadata": {},
     "output_type": "execute_result"
    }
   ],
   "source": [
    "imf_estimates_90_99 = pd.DataFrame(table_3_details, columns = table_3_header)\n",
    "imf_estimates_90_99.head()"
   ]
  },
  {
   "cell_type": "markdown",
   "id": "3d6cdea4-fc70-48e8-92d1-84b224961e55",
   "metadata": {},
   "source": [
    "#### 5. Data Wrangling with Python: Activity 8, pg 233"
   ]
  },
  {
   "cell_type": "markdown",
   "id": "029326ec-c577-45fa-9e1a-e36a5904587b",
   "metadata": {},
   "source": [
    "In this activity, we will identity and get rid of outliers. here, we have a CSV file. The goal here is to clean the data by using the knowledge that we have learned about so far and come up with a nicely formatted DataFrame. Identify the type of outliers and their effect on the data and clean the messy data."
   ]
  },
  {
   "cell_type": "markdown",
   "id": "2b2f34d8-b3bf-4fc4-a478-c652403a5a71",
   "metadata": {},
   "source": [
    "**1. Read the visit_data.csv.**"
   ]
  },
  {
   "cell_type": "code",
   "execution_count": 57,
   "id": "ad70cff9-ab1f-48fa-9f0a-126c563c9967",
   "metadata": {},
   "outputs": [
    {
     "name": "stdout",
     "output_type": "stream",
     "text": [
      "<class 'pandas.core.frame.DataFrame'>\n",
      "RangeIndex: 1000 entries, 0 to 999\n",
      "Data columns (total 7 columns):\n",
      " #   Column      Non-Null Count  Dtype  \n",
      "---  ------      --------------  -----  \n",
      " 0   id          1000 non-null   int64  \n",
      " 1   first_name  704 non-null    object \n",
      " 2   last_name   704 non-null    object \n",
      " 3   email       1000 non-null   object \n",
      " 4   gender      495 non-null    object \n",
      " 5   ip_address  1000 non-null   object \n",
      " 6   visit       974 non-null    float64\n",
      "dtypes: float64(1), int64(1), object(5)\n",
      "memory usage: 54.8+ KB\n"
     ]
    }
   ],
   "source": [
    "try:\n",
    "    visit_df = pd.read_csv(\"visit_data.csv\")\n",
    "    \n",
    "    visit_df.info()\n",
    "except Exception:\n",
    "    print(\"There was an error reading the Visit Data file\")"
   ]
  },
  {
   "cell_type": "code",
   "execution_count": 58,
   "id": "32316c30-b22b-4e53-b6c9-ef1cb1ec6ae9",
   "metadata": {},
   "outputs": [
    {
     "data": {
      "text/html": [
       "<div>\n",
       "<style scoped>\n",
       "    .dataframe tbody tr th:only-of-type {\n",
       "        vertical-align: middle;\n",
       "    }\n",
       "\n",
       "    .dataframe tbody tr th {\n",
       "        vertical-align: top;\n",
       "    }\n",
       "\n",
       "    .dataframe thead th {\n",
       "        text-align: right;\n",
       "    }\n",
       "</style>\n",
       "<table border=\"1\" class=\"dataframe\">\n",
       "  <thead>\n",
       "    <tr style=\"text-align: right;\">\n",
       "      <th></th>\n",
       "      <th>id</th>\n",
       "      <th>first_name</th>\n",
       "      <th>last_name</th>\n",
       "      <th>email</th>\n",
       "      <th>gender</th>\n",
       "      <th>ip_address</th>\n",
       "      <th>visit</th>\n",
       "    </tr>\n",
       "  </thead>\n",
       "  <tbody>\n",
       "    <tr>\n",
       "      <th>0</th>\n",
       "      <td>1</td>\n",
       "      <td>Sonny</td>\n",
       "      <td>Dahl</td>\n",
       "      <td>sdahl0@mysql.com</td>\n",
       "      <td>Male</td>\n",
       "      <td>135.36.96.183</td>\n",
       "      <td>1225.0</td>\n",
       "    </tr>\n",
       "    <tr>\n",
       "      <th>1</th>\n",
       "      <td>2</td>\n",
       "      <td>NaN</td>\n",
       "      <td>NaN</td>\n",
       "      <td>dhoovart1@hud.gov</td>\n",
       "      <td>NaN</td>\n",
       "      <td>237.165.194.143</td>\n",
       "      <td>919.0</td>\n",
       "    </tr>\n",
       "    <tr>\n",
       "      <th>2</th>\n",
       "      <td>3</td>\n",
       "      <td>Gar</td>\n",
       "      <td>Armal</td>\n",
       "      <td>garmal2@technorati.com</td>\n",
       "      <td>NaN</td>\n",
       "      <td>166.43.137.224</td>\n",
       "      <td>271.0</td>\n",
       "    </tr>\n",
       "    <tr>\n",
       "      <th>3</th>\n",
       "      <td>4</td>\n",
       "      <td>Chiarra</td>\n",
       "      <td>Nulty</td>\n",
       "      <td>cnulty3@newyorker.com</td>\n",
       "      <td>NaN</td>\n",
       "      <td>139.98.137.108</td>\n",
       "      <td>1002.0</td>\n",
       "    </tr>\n",
       "    <tr>\n",
       "      <th>4</th>\n",
       "      <td>5</td>\n",
       "      <td>NaN</td>\n",
       "      <td>NaN</td>\n",
       "      <td>sleaver4@elegantthemes.com</td>\n",
       "      <td>NaN</td>\n",
       "      <td>46.117.117.27</td>\n",
       "      <td>2434.0</td>\n",
       "    </tr>\n",
       "  </tbody>\n",
       "</table>\n",
       "</div>"
      ],
      "text/plain": [
       "   id first_name last_name                       email gender  \\\n",
       "0   1      Sonny      Dahl            sdahl0@mysql.com   Male   \n",
       "1   2        NaN       NaN           dhoovart1@hud.gov    NaN   \n",
       "2   3        Gar     Armal      garmal2@technorati.com    NaN   \n",
       "3   4    Chiarra     Nulty       cnulty3@newyorker.com    NaN   \n",
       "4   5        NaN       NaN  sleaver4@elegantthemes.com    NaN   \n",
       "\n",
       "        ip_address   visit  \n",
       "0    135.36.96.183  1225.0  \n",
       "1  237.165.194.143   919.0  \n",
       "2   166.43.137.224   271.0  \n",
       "3   139.98.137.108  1002.0  \n",
       "4    46.117.117.27  2434.0  "
      ]
     },
     "execution_count": 58,
     "metadata": {},
     "output_type": "execute_result"
    }
   ],
   "source": [
    "visit_df.head()"
   ]
  },
  {
   "cell_type": "markdown",
   "id": "5d708edf-9370-4deb-a23e-3a5ba5e2b5d6",
   "metadata": {},
   "source": [
    "**2. Check for duplicates.**"
   ]
  },
  {
   "cell_type": "code",
   "execution_count": 59,
   "id": "b68aff8f-3cae-4bfb-ae0f-3d990f094e42",
   "metadata": {},
   "outputs": [
    {
     "data": {
      "text/plain": [
       "False"
      ]
     },
     "execution_count": 59,
     "metadata": {},
     "output_type": "execute_result"
    }
   ],
   "source": [
    "any(visit_df.duplicated())"
   ]
  },
  {
   "cell_type": "code",
   "execution_count": 60,
   "id": "b8983c85-4dbb-41af-92ee-426c853a2ea6",
   "metadata": {},
   "outputs": [
    {
     "data": {
      "text/plain": [
       "True"
      ]
     },
     "execution_count": 60,
     "metadata": {},
     "output_type": "execute_result"
    }
   ],
   "source": [
    "any(visit_df.duplicated(['first_name']))"
   ]
  },
  {
   "cell_type": "code",
   "execution_count": 61,
   "id": "a3a0bee2-e004-4fa6-8edd-43a12c453328",
   "metadata": {},
   "outputs": [
    {
     "data": {
      "text/plain": [
       "True"
      ]
     },
     "execution_count": 61,
     "metadata": {},
     "output_type": "execute_result"
    }
   ],
   "source": [
    "any(visit_df.duplicated(['last_name']))"
   ]
  },
  {
   "cell_type": "code",
   "execution_count": 62,
   "id": "1f7f58f3-4233-4a5d-b47b-a48dd5f9ff54",
   "metadata": {},
   "outputs": [
    {
     "data": {
      "text/plain": [
       "False"
      ]
     },
     "execution_count": 62,
     "metadata": {},
     "output_type": "execute_result"
    }
   ],
   "source": [
    "any(visit_df.duplicated(['email']))"
   ]
  },
  {
   "cell_type": "markdown",
   "id": "ac517dbf-d76c-4ece-8a85-32ff964946a2",
   "metadata": {},
   "source": [
    "**3. Check if any essential column contain NaN.**"
   ]
  },
  {
   "cell_type": "code",
   "execution_count": 63,
   "id": "095116cc-bea0-4513-b49a-2c061280d12c",
   "metadata": {},
   "outputs": [
    {
     "data": {
      "text/plain": [
       "True"
      ]
     },
     "execution_count": 63,
     "metadata": {},
     "output_type": "execute_result"
    }
   ],
   "source": [
    "visit_df['first_name'].isnull().values.any()"
   ]
  },
  {
   "cell_type": "code",
   "execution_count": 64,
   "id": "e979f12e-fe5d-4c1a-8f1c-2f4f0ce32974",
   "metadata": {},
   "outputs": [
    {
     "data": {
      "text/plain": [
       "True"
      ]
     },
     "execution_count": 64,
     "metadata": {},
     "output_type": "execute_result"
    }
   ],
   "source": [
    "visit_df['last_name'].isnull().values.any()"
   ]
  },
  {
   "cell_type": "code",
   "execution_count": 65,
   "id": "9015e844-f895-400c-9808-5cf2dcf60a79",
   "metadata": {},
   "outputs": [
    {
     "data": {
      "text/plain": [
       "False"
      ]
     },
     "execution_count": 65,
     "metadata": {},
     "output_type": "execute_result"
    }
   ],
   "source": [
    "visit_df['email'].isnull().values.any()"
   ]
  },
  {
   "cell_type": "code",
   "execution_count": 66,
   "id": "592e0da8-08a7-447f-a4ff-f164d6f37131",
   "metadata": {},
   "outputs": [
    {
     "data": {
      "text/plain": [
       "False"
      ]
     },
     "execution_count": 66,
     "metadata": {},
     "output_type": "execute_result"
    }
   ],
   "source": [
    "visit_df['ip_address'].isnull().values.any()"
   ]
  },
  {
   "cell_type": "code",
   "execution_count": 67,
   "id": "a7958088-2bf6-4b6a-90c8-c8bfcc264f58",
   "metadata": {},
   "outputs": [
    {
     "data": {
      "text/plain": [
       "True"
      ]
     },
     "execution_count": 67,
     "metadata": {},
     "output_type": "execute_result"
    }
   ],
   "source": [
    "visit_df['visit'].isnull().values.any()"
   ]
  },
  {
   "cell_type": "markdown",
   "id": "c217f22d-3d44-45d6-bd74-9c21ae2cfce0",
   "metadata": {},
   "source": [
    "**4. Get rid of the outliers.**"
   ]
  },
  {
   "cell_type": "markdown",
   "id": "a9811694-8f0d-408e-b92d-db06ed7c5fc3",
   "metadata": {},
   "source": [
    "Consider what are the essential columns if you are preparing this dataset for a model building exercise where the target is to predict number of visits given a user name, email, IP address, Gender etc."
   ]
  },
  {
   "cell_type": "code",
   "execution_count": 68,
   "id": "38aae727-84e8-4196-9a1b-d74cdfb2554c",
   "metadata": {},
   "outputs": [],
   "source": [
    "# get shape of original dataframe\n",
    "original_shape = visit_df.shape"
   ]
  },
  {
   "cell_type": "code",
   "execution_count": 69,
   "id": "b3e9613a-df9a-4ad5-896d-952d62797f19",
   "metadata": {},
   "outputs": [],
   "source": [
    "# drop empty rows\n",
    "visit_df = visit_df[visit_df['visit'].notna()]\n",
    "new_shape = visit_df.shape"
   ]
  },
  {
   "cell_type": "markdown",
   "id": "7a9c40c9-9d7c-4ef1-99c2-737f58585be4",
   "metadata": {},
   "source": [
    "**5. Report the size difference.**"
   ]
  },
  {
   "cell_type": "markdown",
   "id": "8742d935-c4f1-4c38-821a-140384043dca",
   "metadata": {},
   "source": [
    "The `shape` method of a data frame gives you a tuple which represents (row, column) of the data frame, in this task you have to compare and report the number of rows before and after getting rid of the outliers"
   ]
  },
  {
   "cell_type": "code",
   "execution_count": 70,
   "id": "99b84b34-021a-4af2-b880-4d5ba16bb920",
   "metadata": {},
   "outputs": [
    {
     "name": "stdout",
     "output_type": "stream",
     "text": [
      "Original shape had 1000 rows\n",
      "New shape has 974 rows\n",
      "Difference has 26 rows\n"
     ]
    }
   ],
   "source": [
    "print(f\"Original shape had {original_shape[0]} rows\")\n",
    "print(f\"New shape has {new_shape[0]} rows\")\n",
    "print(f\"Difference has {original_shape[0] - new_shape[0]} rows\")"
   ]
  },
  {
   "cell_type": "markdown",
   "id": "e57b0196-9978-4069-a87f-2fa440b76bf9",
   "metadata": {},
   "source": [
    "**6. Create a box plot to check for outliers.**"
   ]
  },
  {
   "cell_type": "code",
   "execution_count": 71,
   "id": "4647ceb1-a3fc-4faf-b73e-18b6f4915f06",
   "metadata": {},
   "outputs": [
    {
     "data": {
      "text/plain": [
       "Text(0.5, 0, 'Visit')"
      ]
     },
     "execution_count": 71,
     "metadata": {},
     "output_type": "execute_result"
    },
    {
     "data": {
      "image/png": "[encoded data removed]",
      "text/plain": [
       "<Figure size 432x288 with 1 Axes>"
      ]
     },
     "metadata": {
      "needs_background": "light"
     },
     "output_type": "display_data"
    }
   ],
   "source": [
    "plt.boxplot(visit_df['visit'], notch=True)\n",
    "plt.xlabel(\"Visit\")"
   ]
  },
  {
   "cell_type": "code",
   "execution_count": 72,
   "id": "83ca8f85-3a50-4a5a-97bb-48e105d3604b",
   "metadata": {},
   "outputs": [],
   "source": [
    "def findOutliers_IQR(df):\n",
    "    '''\n",
    "    Find Outliers in the dataframe\n",
    "    \n",
    "    args:\n",
    "        df (dataframe)\n",
    "        \n",
    "    return:\n",
    "        outliers (dataframe)\n",
    "    '''\n",
    "    q1 = df.quantile(0.25)\n",
    "    q3 = df.quantile(0.75)\n",
    "    \n",
    "    IQR = q3 - q1\n",
    "    \n",
    "    lower_bound = q1 - 1.5 * IQR\n",
    "    upper_bound = q3 + 1.5 * IQR\n",
    "    \n",
    "    outliers = df[((df <= lower_bound) | (df >= upper_bound))]\n",
    "    \n",
    "    return outliers"
   ]
  },
  {
   "cell_type": "code",
   "execution_count": 73,
   "id": "bc9df8e5-3c86-4246-b55a-f2de22f89aba",
   "metadata": {},
   "outputs": [
    {
     "name": "stdout",
     "output_type": "stream",
     "text": [
      "Visit\n",
      "Number of outliers: 0\n",
      "Max outlier: nan\n",
      "Min outlier: nan\n",
      "Outliers are: \n",
      "Series([], Name: visit, dtype: float64)\n"
     ]
    }
   ],
   "source": [
    "outliers = findOutliers_IQR(visit_df['visit'])\n",
    "print(\"Visit\")\n",
    "print(f\"Number of outliers: {str(len(outliers))}\")\n",
    "print(f\"Max outlier: {str(outliers.max())}\")\n",
    "print(f\"Min outlier: {str(outliers.min())}\")\n",
    "\n",
    "print(f\"Outliers are: \\n{outliers}\")"
   ]
  },
  {
   "cell_type": "markdown",
   "id": "d392328a-80fb-486e-9cbb-c49fe4cfc86d",
   "metadata": {},
   "source": [
    "There are no outliers in the visit column that need removing"
   ]
  },
  {
   "cell_type": "markdown",
   "id": "e086f651-6037-4717-94f2-c84e0f477253",
   "metadata": {},
   "source": [
    "#### 6. Insert data into a SQL Lite database - create a table with the following data (Hint: Python for Data Analysis page 191):"
   ]
  },
  {
   "cell_type": "code",
   "execution_count": 74,
   "id": "adb3b630-1a56-41bc-ba3b-21274bb77637",
   "metadata": {},
   "outputs": [],
   "source": [
    "# import libraries\n",
    "import sqlite3"
   ]
  },
  {
   "cell_type": "code",
   "execution_count": 75,
   "id": "38c0e7aa-a433-447c-a1e5-bd042e690ab5",
   "metadata": {},
   "outputs": [],
   "source": [
    "# establish connection with contacts db\n",
    "conn = sqlite3.connect('contacts.sqlite')"
   ]
  },
  {
   "cell_type": "code",
   "execution_count": 76,
   "id": "bcd5fb34-d6e0-4bf9-8689-167c64052e61",
   "metadata": {},
   "outputs": [],
   "source": [
    "# Delete table if exists so can rerun if need\n",
    "delete_table_sql = \"\"\"\n",
    "DROP TABLE IF EXISTS contacts\n",
    "\"\"\"\n",
    "\n",
    "conn.execute(delete_table_sql)\n",
    "conn.commit()"
   ]
  },
  {
   "cell_type": "markdown",
   "id": "43ab2ac5-3580-43a0-8ca9-b4c56dbd79df",
   "metadata": {},
   "source": [
    "**a. Name, Address, City, State, Zip, Phone Number**"
   ]
  },
  {
   "cell_type": "code",
   "execution_count": 77,
   "id": "bcdf1ec9-5799-400c-9ccf-23d3df1c0bdb",
   "metadata": {},
   "outputs": [],
   "source": [
    "# Create contacts table SQL\n",
    "create_table_sql = \"\"\"\n",
    "CREATE TABLE IF NOT EXISTS contacts\n",
    "(name VARCHAR(100),\n",
    "address VARCHAR(100),\n",
    "city VARCHAR(100),\n",
    "state VARCHAR(75),\n",
    "zip VARCHAR(10),\n",
    "phone VARCHAR(10)\n",
    ");\"\"\""
   ]
  },
  {
   "cell_type": "code",
   "execution_count": 78,
   "id": "8d3031fb-10f8-465d-ac22-5eb247c050da",
   "metadata": {},
   "outputs": [],
   "source": [
    "# Execute Create contacts table and commit\n",
    "conn.execute(create_table_sql)\n",
    "conn.commit()"
   ]
  },
  {
   "cell_type": "markdown",
   "id": "c2708293-06c8-4c47-ad0a-d1eef4078843",
   "metadata": {},
   "source": [
    "**b. Add at least 10 rows of data and submit your code with a query generating your results**"
   ]
  },
  {
   "cell_type": "code",
   "execution_count": 79,
   "id": "2ca905bf-41f9-401c-b937-8128cb13fc32",
   "metadata": {},
   "outputs": [],
   "source": [
    "# Create contact data\n",
    "contact_data = [\n",
    "    ('Jan Doe', '123 Main Street', 'Big City', 'California', '80111', '8005551212'),\n",
    "    ('John Doe', '123 First Street', 'Small City', 'Nevada', '80123', '8005551212'),\n",
    "    ('Mary Smith', '111 Main Street', 'Big City', 'California', '80111', '8005551212'),\n",
    "    ('George', '1234 First Street', 'Small City', 'Nevada', '80123', '8005551212'),\n",
    "    ('Harry', '1223 Main Street', 'Big City', 'California', '80111', '8005551212'),\n",
    "    ('Sean', '1243 First Street', 'Small City', 'Nevada', '80111', '8005551212'),\n",
    "    ('Melissa', '123 Main Street', 'Big City', 'California', '80111', '8005551212'),\n",
    "    ('Jess', '1253 First Street', 'Small City', 'Nevada', '80123', '8005551212'),\n",
    "    ('Zach', '1223 Main Street', 'Big City', 'California', '80111', '8005551212'),\n",
    "    ('John John', '1323 First Street', 'Small City', 'California', '80111', '8005551212'),\n",
    "    ('Murphy', '1253 Main Street', 'Big City', 'Nevada', '80123', '8005551212')\n",
    "]\n",
    "\n",
    "# Create insert SQL template\n",
    "insert_sql = \"INSERT INTO contacts VALUES (?, ?, ?, ?, ?, ?)\"\n",
    "\n",
    "# Execute insert data and commit\n",
    "conn.executemany(insert_sql, contact_data)\n",
    "conn.commit()"
   ]
  },
  {
   "cell_type": "code",
   "execution_count": 80,
   "id": "acf34183-6536-4dc3-99cf-605f7524b94c",
   "metadata": {},
   "outputs": [
    {
     "data": {
      "text/plain": [
       "[('Jan Doe',\n",
       "  '123 Main Street',\n",
       "  'Big City',\n",
       "  'California',\n",
       "  '80111',\n",
       "  '8005551212'),\n",
       " ('John Doe',\n",
       "  '123 First Street',\n",
       "  'Small City',\n",
       "  'Nevada',\n",
       "  '80123',\n",
       "  '8005551212'),\n",
       " ('Mary Smith',\n",
       "  '111 Main Street',\n",
       "  'Big City',\n",
       "  'California',\n",
       "  '80111',\n",
       "  '8005551212'),\n",
       " ('George',\n",
       "  '1234 First Street',\n",
       "  'Small City',\n",
       "  'Nevada',\n",
       "  '80123',\n",
       "  '8005551212'),\n",
       " ('Harry',\n",
       "  '1223 Main Street',\n",
       "  'Big City',\n",
       "  'California',\n",
       "  '80111',\n",
       "  '8005551212'),\n",
       " ('Sean', '1243 First Street', 'Small City', 'Nevada', '80111', '8005551212'),\n",
       " ('Melissa',\n",
       "  '123 Main Street',\n",
       "  'Big City',\n",
       "  'California',\n",
       "  '80111',\n",
       "  '8005551212'),\n",
       " ('Jess', '1253 First Street', 'Small City', 'Nevada', '80123', '8005551212'),\n",
       " ('Zach', '1223 Main Street', 'Big City', 'California', '80111', '8005551212'),\n",
       " ('John John',\n",
       "  '1323 First Street',\n",
       "  'Small City',\n",
       "  'California',\n",
       "  '80111',\n",
       "  '8005551212'),\n",
       " ('Murphy', '1253 Main Street', 'Big City', 'Nevada', '80123', '8005551212')]"
      ]
     },
     "execution_count": 80,
     "metadata": {},
     "output_type": "execute_result"
    }
   ],
   "source": [
    "# Create Select all contacts SQL\n",
    "select_all = \"SELECT * FROM contacts\"\n",
    "\n",
    "# Execute select all\n",
    "select_sql = conn.execute(select_all)\n",
    "\n",
    "# Store select into rows\n",
    "contact_rows = select_sql.fetchall()\n",
    "\n",
    "# Print rows\n",
    "contact_rows"
   ]
  },
  {
   "cell_type": "code",
   "execution_count": 81,
   "id": "26702f7d-ac5c-4feb-8a7b-5564ffed09a9",
   "metadata": {},
   "outputs": [],
   "source": [
    "# Close connection\n",
    "conn.close()"
   ]
  },
  {
   "cell_type": "code",
   "execution_count": null,
   "id": "f97bea46-b67c-4ab6-8d83-a46a00a4150b",
   "metadata": {},
   "outputs": [],
   "source": []
  }
 ],
 "metadata": {
  "kernelspec": {
   "display_name": "Python 3 (ipykernel)",
   "language": "python",
   "name": "python3"
  },
  "language_info": {
   "codemirror_mode": {
    "name": "ipython",
    "version": 3
   },
   "file_extension": ".py",
   "mimetype": "text/x-python",
   "name": "python",
   "nbconvert_exporter": "python",
   "pygments_lexer": "ipython3",
   "version": "3.8.8"
  }
 },
 "nbformat": 4,
 "nbformat_minor": 5
}
