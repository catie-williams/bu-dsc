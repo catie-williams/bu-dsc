{
 "cells": [
  {
   "cell_type": "markdown",
   "id": "383317c7-ae2a-4273-a830-8b96b56eb967",
   "metadata": {},
   "source": [
    "## DSC 540\n",
    "### Term Paper\n",
    "\n",
    "**Author:** Kimberly Cable\n",
    "\n",
    "**Semester:** Summer, 2022"
   ]
  },
  {
   "cell_type": "markdown",
   "id": "41e65202-4fe5-477e-a6ed-ecab0f31b5dc",
   "metadata": {},
   "source": [
    "## Milestone 1"
   ]
  },
  {
   "cell_type": "markdown",
   "id": "461d3adb-a9fb-4803-aaec-5d1250101478",
   "metadata": {},
   "source": [
    "### About"
   ]
  },
  {
   "cell_type": "markdown",
   "id": "6bc9c40e-bf26-4926-94e7-2badaedac070",
   "metadata": {},
   "source": [
    "National Parks in the United States are a favorite vacation destination for many outdoor enthusiasts.  I would like to find out which of the National Parks is best to visit and hike. "
   ]
  },
  {
   "cell_type": "markdown",
   "id": "769ea97d-ed23-4451-bd5d-8b380fdf2aef",
   "metadata": {},
   "source": [
    "### Plan of Attack"
   ]
  },
  {
   "cell_type": "markdown",
   "id": "56faf074-d26c-4c4d-bb85-fc849ebe735d",
   "metadata": {},
   "source": [
    "Each of the three data sources has its own unique information but also some overlap.  The National Parks API has all information about each of the national parks in its system. The National Parks Trails CSV is derived from the AllTrails website and has information on the trails located in the National Parks. The National Parks elevation table from Wikipedia is a table of the highest and lowest elevations in 63 National Parks.\n",
    "Initially. looking at the data for each source, the National Parks API looks to be the parent as it has the most accurate information coming directly from the National Parks Service. I will be using the park’s endpoint to get data about all the National Parks in its database. The CSV file contains the name of the National Park which I will use to connect it to the API data.  The website also has the National Park name which will connect to the API data.\n",
    "\n",
    "I do not see any major ethical implications for my study.  It is looking at trails in the National  Parks.  It does have information such as user rankings and popularity ranks.  These can be very subjective and what one person likes in a trail is not always what another person likes.\n",
    "\n",
    "Some of the challenges I see, is the National Park name may be misspelled or spelled differently in each data source.  Also, there is also duplicate information that needs to be consolidated. Many of the fields need to be converted to their appropriate type and checked for empty cells and the website has data that looks different in some of the columns which will need to be fixed.\n"
   ]
  },
  {
   "cell_type": "markdown",
   "id": "d59f259d-3cba-4335-8fa3-2e113af18e6e",
   "metadata": {},
   "source": [
    "## Data Sources"
   ]
  },
  {
   "cell_type": "markdown",
   "id": "3cc94d80-88ba-46c5-8aaf-66cef521c35c",
   "metadata": {},
   "source": [
    "* National Park Service API\n",
    "    1. This API has information about each of the National Parks in the United States.  Information such as facilities, locations, activities, descriptions, etc.\n",
    "    2. https://www.nps.gov/subjects/developer/api-documentation.htm\n",
    "* National Park Trails – CSV file\n",
    "    1. List of trails in the National Parks. Information such as trail names, which National Park it is in, elevation, difficulty, etc.\n",
    "    2. https://www.kaggle.com/datasets/planejane/national-park-trails\n",
    "* Website: List of national parks of the United States by elevation\n",
    "    1. Wikipedia page of the highest and lowest points in each of the United States National Parks.\n",
    "    2. https://en.wikipedia.org/wiki/List_of_national_parks_of_the_United_States_by_elevation\n"
   ]
  },
  {
   "cell_type": "markdown",
   "id": "8fef67ae-0f13-4831-a5e0-2f5c12b9a248",
   "metadata": {},
   "source": [
    "### Relationships"
   ]
  },
  {
   "cell_type": "markdown",
   "id": "b669f77e-ba7d-42c3-8161-fc0c277ec9a8",
   "metadata": {},
   "source": [
    "* API: Contains json data per National Park.  \n",
    "    1. Key: data.fullName\n",
    "* CSV file: Contains 1 row per trail\n",
    "    1. Key: Column Name: area_name\n",
    "* Website: Contains 1 row per national park\n",
    "    1. Key: Column Name: Park\n",
    "* All Three:\n",
    "    1. All related by National Park name\n",
    "    2. API to CSV has a 1 to many relationship with fullName to area_name as key\n",
    "    3. API to Website has 1 to 1 relationship with fullName to name."
   ]
  },
  {
   "cell_type": "markdown",
   "id": "f5942fe2-23fb-4340-96bc-c05ebada87ff",
   "metadata": {},
   "source": [
    "### Data Dictionary"
   ]
  },
  {
   "cell_type": "markdown",
   "id": "751c1c14-694d-4c95-b2a3-bb1b5105042c",
   "metadata": {},
   "source": [
    "#### National Park Trails - CSV file\n",
    "#### (18 columns x 3313 rows)"
   ]
  },
  {
   "cell_type": "markdown",
   "id": "3ba0da2d-0dea-4bf7-998a-e1f0cec8ef48",
   "metadata": {},
   "source": [
    "| Column | Description |\n",
    "|--------|-------------|\n",
    "| trail_id | Unique trail id |\n",
    "| name | Name of the trail |\n",
    "| area_name | Name of the National Park trail is located |\n",
    "| city_name | Name of the city the trail is located |\n",
    "| state_name | Name of the state the trail is located |\n",
    "| country_name | Name of the country the trail is located |\n",
    "| _geoloc | Latitude and longitude (key-value) of the trails location |\n",
    "| popularity | Popularity (%) of the trail |\n",
    "| length | Length in feet of the trail |\n",
    "| elevation_gain | Elevation gain of the trail |\n",
    "| difficulty_rating | Difficulty rating (1 – 5) of the trail |\n",
    "| route_type | Route type: out and back, loop, point to point |\n",
    "| visitor_usage | Visitor usage rating: light, moderate, heavy |\n",
    "| avg_rating | Average rating (1 to 5) – can be ½ stars |\n",
    "| num_reviews | Number of reviews |\n",
    "| features | Array of features the trail has |\n",
    "| activities | Array of the activities a trail has |\n",
    "| units | Units: i or m |\n"
   ]
  },
  {
   "cell_type": "markdown",
   "id": "93dd4a8e-86a7-4928-9b78-ce4b0be8d3c0",
   "metadata": {},
   "source": [
    "#### List of national parks of the United States by elevation (Wikipedia Website)\n",
    "#### (9 columns x 63 rows)"
   ]
  },
  {
   "cell_type": "markdown",
   "id": "0875d461-d4e9-4cd2-866c-776075e329a2",
   "metadata": {},
   "source": [
    "| Column | Description |\n",
    "|--------|-------------|\n",
    "| Rank | Rank of national park in terms of highest elevation |\n",
    "| Park | Name of National Park |\n",
    "| Location | Image of State Flag. \\<img alt\\> has name of state, can be multiple states |\n",
    "| Peak name | Name of the highest peak – can be a sentence and has annotations |\n",
    "| Mountain Range | Name of the Mountain Range of peak |\n",
    "| Elevation | Elevation of the highest peak in feet and meters |\n",
    "| Location of lowest point | Name of the lowest elevation point |\n",
    "| Minimum elevation | Lowest elevation in feet and meters |\n",
    "| Vertical relief | Vertical feet and meters |"
   ]
  },
  {
   "cell_type": "markdown",
   "id": "e275168c-4e26-4b7a-9ff4-07ac93ac8307",
   "metadata": {},
   "source": [
    "#### National Parks  API (API: json data)\n",
    "#### (466 rows)"
   ]
  },
  {
   "cell_type": "code",
   "execution_count": 1,
   "id": "851c9a46-e736-48c4-9b11-ef3db9b591a3",
   "metadata": {},
   "outputs": [],
   "source": [
    "%%capture\n",
    "'''\n",
    "Example Response:\n",
    "\n",
    "{\n",
    "    \"total\": \"466\",\n",
    "    \"limit\": \"600\",\n",
    "    \"start\": \"0\",\n",
    "    \"data\": [\n",
    "        {\n",
    "            \"id\": \"77E0D7F0-1942-494A-ACE2-9004D2BDC59E\",\n",
    "            \"url\": \"https://www.nps.gov/abli/index.htm\",\n",
    "            \"fullName\": \"Abraham Lincoln Birthplace National Historical Park\",\n",
    "            \"parkCode\": \"abli\",\n",
    "            \"description\": \"For over a century people from around the world have come to rural Central Kentucky to honor the humble beginnings of our 16th president, Abraham Lincoln. His early life on Kentucky's frontier shaped his character and prepared him to lead the nation through Civil War. The country's first memorial to Lincoln, built with donations from young and old, enshrines the symbolic birthplace cabin.\",\n",
    "            \"latitude\": \"37.5858662\",\n",
    "            \"longitude\": \"-85.67330523\",\n",
    "            \"latLong\": \"lat:37.5858662, long:-85.67330523\",\n",
    "            \"activities\": [\n",
    "                {\n",
    "                    \"id\": \"13A57703-BB1A-41A2-94B8-53B692EB7238\",\n",
    "                    \"name\": \"Astronomy\"\n",
    "                },\n",
    "                {\n",
    "                    \"id\": \"D37A0003-8317-4F04-8FB0-4CF0A272E195\",\n",
    "                    \"name\": \"Stargazing\"\n",
    "                }\n",
    "            ],\n",
    "            \"topics\": [\n",
    "                {\n",
    "                    \"id\": \"D10852A3-443C-4743-A5FA-6DD6D2A054B3\",\n",
    "                    \"name\": \"Birthplace\"\n",
    "                },\n",
    "                {\n",
    "                    \"id\": \"F669BC40-BDC4-41C0-9ACE-B2CD25373045\",\n",
    "                    \"name\": \"Presidents\"\n",
    "                }\n",
    "            ],\n",
    "            \"states\": \"KY\",\n",
    "            \"contacts\": {\n",
    "                \"phoneNumbers\": [\n",
    "                    {\n",
    "                        \"phoneNumber\": \"2703583137\",\n",
    "                        \"description\": \"\",\n",
    "                        \"extension\": \"\",\n",
    "                        \"type\": \"Voice\"\n",
    "                    },\n",
    "                    {\n",
    "                        \"phoneNumber\": \"2703583874\",\n",
    "                        \"description\": \"\",\n",
    "                        \"extension\": \"\",\n",
    "                        \"type\": \"Fax\"\n",
    "                    }\n",
    "                ],\n",
    "                \"emailAddresses\": [\n",
    "                    {\n",
    "                        \"description\": \"\",\n",
    "                        \"emailAddress\": \"ABLI_Administration@nps.gov\"\n",
    "                    }\n",
    "                ]\n",
    "            },\n",
    "            \"entranceFees\": [\n",
    "                {\n",
    "                    \"cost\": \"0.00\",\n",
    "                    \"description\": \"There is no fee associated with visiting either unit of the park.\",\n",
    "                    \"title\": \"Fee Free Park\"\n",
    "                }\n",
    "            ],\n",
    "            \"entrancePasses\": [],\n",
    "            \"fees\": [],\n",
    "            \"directionsInfo\": \"The Birthplace Unit of the park is located approximately 2 miles south of the town of Hodgenville on U.S. Highway 31E South. The Boyhood Home Unit at Knob Creek is located approximately 10 miles northeast of the Birthplace Unit of the park.\",\n",
    "            \"directionsUrl\": \"http://www.nps.gov/abli/planyourvisit/directions.htm\",\n",
    "            \"operatingHours\": [\n",
    "                {\n",
    "                    \"exceptions\": [\n",
    "                        {\n",
    "                            \"exceptionHours\": {},\n",
    "                            \"startDate\": \"2022-11-24\",\n",
    "                            \"name\": \"Park is Closed\",\n",
    "                            \"endDate\": \"2022-11-24\"\n",
    "                        },\n",
    "                        {\n",
    "                            \"exceptionHours\": {},\n",
    "                            \"startDate\": \"2022-12-26\",\n",
    "                            \"name\": \"Park is Closed\",\n",
    "                            \"endDate\": \"2022-12-26\"\n",
    "                        },\n",
    "                        {\n",
    "                            \"exceptionHours\": {},\n",
    "                            \"startDate\": \"2023-01-02\",\n",
    "                            \"name\": \"Park is Closed\",\n",
    "                            \"endDate\": \"2023-01-02\"\n",
    "                        }\n",
    "                    ],\n",
    "                    \"description\": \"The Memorial Building is open 9:00 am - 4:30 pm eastern time with a limited viewing area.  The Visitor Center and grounds of the Birthplace Unit are open 9:00 am - 5:00 pm eastern time with one-way traffic flow and social distancing.\\n\\n\\nThe Boyhood Home Unit at Knob Creek grounds are open daily sunup to sundown. The buildings are closed for the winter.\",\n",
    "                    \"standardHours\": {\n",
    "                        \"wednesday\": \"9:00AM - 5:00PM\",\n",
    "                        \"monday\": \"9:00AM - 5:00PM\",\n",
    "                        \"thursday\": \"9:00AM - 5:00PM\",\n",
    "                        \"sunday\": \"9:00AM - 5:00PM\",\n",
    "                        \"tuesday\": \"9:00AM - 5:00PM\",\n",
    "                        \"friday\": \"9:00AM - 5:00PM\",\n",
    "                        \"saturday\": \"9:00AM - 5:00PM\"\n",
    "                    },\n",
    "                    \"name\": \"Abraham Lincoln Birthplace National Historical Park\"\n",
    "                }\n",
    "            ],\n",
    "            \"addresses\": [\n",
    "                {\n",
    "                    \"postalCode\": \"42748\",\n",
    "                    \"city\": \"Hodgenville\",\n",
    "                    \"stateCode\": \"KY\",\n",
    "                    \"line1\": \"2995 Lincoln Farm Road\",\n",
    "                    \"type\": \"Physical\",\n",
    "                    \"line3\": \"\",\n",
    "                    \"line2\": \"\"\n",
    "                },\n",
    "                {\n",
    "                    \"postalCode\": \"42748\",\n",
    "                    \"city\": \"Hodgenville\",\n",
    "                    \"stateCode\": \"KY\",\n",
    "                    \"line1\": \"2995 Lincoln Farm Road\",\n",
    "                    \"type\": \"Mailing\",\n",
    "                    \"line3\": \"\",\n",
    "                    \"line2\": \"\"\n",
    "                }\n",
    "            ],\n",
    "            \"images\": [\n",
    "                {\n",
    "                    \"credit\": \"NPS Photo\",\n",
    "                    \"title\": \"The Memorial Building with fall colors\",\n",
    "                    \"altText\": \"The Memorial Building surrounded by fall colors\",\n",
    "                    \"caption\": \"Over 200,000 people a year come to walk up the steps of the Memorial Building to visit the site where Abraham Lincoln was born\",\n",
    "                    \"url\": \"https://www.nps.gov/common/uploads/structured_data/3C861078-1DD8-B71B-0B774A242EF6A706.jpg\"\n",
    "                },\n",
    "                {\n",
    "                    \"credit\": \"NPS Photo\",\n",
    "                    \"title\": \"The Memorial Building\",\n",
    "                    \"altText\": \"The first memorial erected to honor Abraham Lincoln\",\n",
    "                    \"caption\": \"The Memorial Building constructed on the traditional site of the birth of Abraham Lincoln.\",\n",
    "                    \"url\": \"https://www.nps.gov/common/uploads/structured_data/3C861263-1DD8-B71B-0B71EF9B95F9644F.jpg\"\n",
    "                }\n",
    "            ],\n",
    "            \"weatherInfo\": \"There are four distinct seasons in Central Kentucky. However, temperature and weather conditions can vary widely within those seasons. Spring and Fall are generally pleasant with frequent rain showers. Summer is usually hot and humid. Winter is moderately cold with mixed precipitation.\",\n",
    "            \"name\": \"Abraham Lincoln Birthplace\",\n",
    "            \"designation\": \"National Historical Park\"\n",
    "        }\n",
    "'''"
   ]
  },
  {
   "cell_type": "code",
   "execution_count": null,
   "id": "8d60d0b2-3a25-467d-af09-b579ad1b86a3",
   "metadata": {},
   "outputs": [],
   "source": []
  }
 ],
 "metadata": {
  "kernelspec": {
   "display_name": "Python 3 (ipykernel)",
   "language": "python",
   "name": "python3"
  },
  "language_info": {
   "codemirror_mode": {
    "name": "ipython",
    "version": 3
   },
   "file_extension": ".py",
   "mimetype": "text/x-python",
   "name": "python",
   "nbconvert_exporter": "python",
   "pygments_lexer": "ipython3",
   "version": "3.8.8"
  }
 },
 "nbformat": 4,
 "nbformat_minor": 5
}
