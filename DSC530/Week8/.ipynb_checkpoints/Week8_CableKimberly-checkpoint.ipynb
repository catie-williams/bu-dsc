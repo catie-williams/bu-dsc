{
 "cells": [
  {
   "cell_type": "markdown",
   "id": "b4a84380",
   "metadata": {},
   "source": [
    "## Assignment 8.2\n",
    "### Exercises 9 - 1 and 10 - 1\n",
    "\n",
    "http://thinkstats2.com\n",
    "\n",
    "Copyright 2016 Allen B. Downey\n",
    "\n",
    "MIT License: https://opensource.org/licenses/MIT"
   ]
  },
  {
   "cell_type": "code",
   "execution_count": 1,
   "id": "8bd1083d",
   "metadata": {},
   "outputs": [],
   "source": [
    "# Imports\n",
    "import numpy as np\n",
    "import matplotlib.pyplot as plt\n",
    "import thinkstats2\n",
    "import first"
   ]
  },
  {
   "cell_type": "code",
   "execution_count": 2,
   "id": "dbef2e8b",
   "metadata": {},
   "outputs": [
    {
     "data": {
      "text/html": [
       "<style>table {align:left;display:block} </style>"
      ],
      "text/plain": [
       "<IPython.core.display.HTML object>"
      ]
     },
     "execution_count": 2,
     "metadata": {},
     "output_type": "execute_result"
    }
   ],
   "source": [
    "from IPython.core.display import HTML\n",
    "table_css = 'table {align:left;display:block} '\n",
    "HTML('<style>{}</style>'.format(table_css))"
   ]
  },
  {
   "cell_type": "markdown",
   "id": "688d4191",
   "metadata": {},
   "source": [
    "## Exercise 9 - 1"
   ]
  },
  {
   "cell_type": "markdown",
   "id": "d934d9f7",
   "metadata": {},
   "source": [
    "*As sample size increase, the power of a hypotheses test increase, which means it is more likely to be positive if the effect is real. Conversely, as sample size decreases, the test is less likely to be positive even if the effect is real.*\n",
    "\n",
    "*To investigage this behavior, run the tests in this chapter with different subsets of the NSFG data. You can use thinkstats2.SampleRows to select a random subset of the rows in a DataFrame*\n",
    "\n",
    "*What happens to the p-values of these tests as the sample size decreases? What is the smallest sample size that yields a positive test?*"
   ]
  },
  {
   "cell_type": "code",
   "execution_count": 3,
   "id": "ca3000a3",
   "metadata": {},
   "outputs": [],
   "source": [
    "# Read NSFG data\n",
    "live_df, firsts_df, others_df = first.MakeFrames()"
   ]
  },
  {
   "cell_type": "code",
   "execution_count": 4,
   "id": "45a98390",
   "metadata": {},
   "outputs": [],
   "source": [
    "def PregLengths(sample, iters):\n",
    "    '''\n",
    "    Pregnancy lengths: Mean Difference, P-Value\n",
    "    \n",
    "    args:\n",
    "        sample (df)\n",
    "        iters (int)\n",
    "        \n",
    "    returns:\n",
    "        none\n",
    "    '''\n",
    "    # Get first borns and others from the sample\n",
    "    firsts = sample[sample.birthord == 1]\n",
    "    others = sample[sample.birthord != 1]\n",
    "    \n",
    "    # Get pregnancy lengths from each df and drop any empty rows\n",
    "    first_prglngths = firsts.prglngth.dropna().values\n",
    "    others_prglngths = others.prglngth.dropna().values\n",
    "    \n",
    "    # get the mean difference\n",
    "    first_mean = first_prglngths.mean()\n",
    "    others_mean = others_prglngths.mean()\n",
    "    mean_diff = first_mean - others_mean\n",
    "    \n",
    "    print('\\nMean Difference in Preg Length: {} weeks'.format(mean_diff))\n",
    "    \n",
    "    # see probablilty of this randomly happening\n",
    "    count = 0\n",
    "    \n",
    "    # loop from 1 to number of trials\n",
    "    for _ in range(iters):\n",
    "        # get length of pregnancy lengths\n",
    "        first_len = len(first_prglngths)\n",
    "        others_len = len(others_prglngths)\n",
    "    \n",
    "        # get data from sample pregnancy lengths\n",
    "        all_prglngths = sample.prglngth.values\n",
    "        # shuffle the contents of all pregnancy lengths\n",
    "        np.random.shuffle(all_prglngths)\n",
    "    \n",
    "        # get pregnancy length from beginning to length of first borns\n",
    "        new_first = all_prglngths[:first_len]\n",
    "        # get pregnancy length from length of first borns to end\n",
    "        new_others = all_prglngths[first_len:]\n",
    "        # calculate new mean difference\n",
    "        new_mean_diff = new_first.mean() - new_others.mean()\n",
    "        \n",
    "        # if new mean difference / mean difference >= 1 add 1 to count\n",
    "        if new_mean_diff / mean_diff >= 1:\n",
    "            count += 1\n",
    "    \n",
    "    # calculate p-value\n",
    "    pValue = count / iters\n",
    "    \n",
    "    print(f'P Value: {pValue}')\n",
    "\n",
    "    \n",
    "def BirthWeights(sample, iters):\n",
    "    '''\n",
    "    Birth Weights: Mean Difference, P-Value\n",
    "    \n",
    "    args:\n",
    "        sample (df)\n",
    "        iters (int)\n",
    "        \n",
    "    returns:\n",
    "        none\n",
    "    \n",
    "    '''\n",
    "    # Get first borns and others from the sample\n",
    "    firsts = sample[sample.birthord == 1]\n",
    "    others = sample[sample.birthord != 1]\n",
    "    \n",
    "    # Get birth weight from each df and drop any empty rows\n",
    "    first_wgts = firsts.totalwgt_lb.dropna().values\n",
    "    others_wgts = others.totalwgt_lb.dropna().values\n",
    "    \n",
    "    # get the mean difference\n",
    "    first_mean = first_wgts.mean()\n",
    "    others_mean = others_wgts.mean()\n",
    "    mean_diff = first_mean - others_mean\n",
    "    print('\\nMean Difference in Birth Weights: {} lbs'.format(mean_diff))\n",
    "    \n",
    "    # loop from 1 to number of trials\n",
    "    count = 0\n",
    "    \n",
    "    # loop from 1 to number of trials\n",
    "    for _ in range(iters):\n",
    "        # get length of birth weights\n",
    "        first_len = len(first_wgts)\n",
    "        others_len = len(others_wgts)\n",
    "    \n",
    "        # get data from sample birth weights\n",
    "        all_wgts = sample.totalwgt_lb.values\n",
    "        # shuffle the contents of all birth weights\n",
    "        np.random.shuffle(all_wgts)\n",
    "    \n",
    "        # get birth weights from beginning to length of first borns\n",
    "        new_first = all_wgts[:first_len]\n",
    "        # get birth weights from length of first borns to end\n",
    "        new_others = all_wgts[first_len:]\n",
    "         # calculate new mean difference\n",
    "        new_mean_diff = new_first.mean() - new_others.mean()\n",
    "        \n",
    "        # if new mean difference / mean difference >= 1 add 1 to count\n",
    "        if  (mean_diff > 0) and (new_mean_diff / mean_diff >= 1):\n",
    "            count += 1\n",
    "            \n",
    "    # calculate p-value\n",
    "    pValue = count / iters\n",
    "    \n",
    "    print(f'P Value: {pValue}')     \n",
    "    \n",
    "\n",
    "def Correlate(sample, iters):\n",
    "    '''\n",
    "    Correlation Test\n",
    "    \n",
    "    args:\n",
    "        sample (df)\n",
    "        iters (int)\n",
    "        \n",
    "    returns:\n",
    "        None\n",
    "    \n",
    "    '''\n",
    "    # Get age of mother and total weight from sample\n",
    "    live2 = sample.dropna(subset=['agepreg', 'totalwgt_lb'])\n",
    "    \n",
    "    # get ages from new df\n",
    "    ages = live2.agepreg.values\n",
    "    # get birth weights from new df\n",
    "    weights = live2.totalwgt_lb.values\n",
    "    \n",
    "    # Calculate correlation coefficient\n",
    "    corr = np.corrcoef(ages, weights)\n",
    "    \n",
    "    print(f'\\nCorrelation Coefficient between Age and Weight: {corr[0][1]}')\n",
    "    \n",
    "    count = 0\n",
    "    \n",
    "    # Calculate p-value\n",
    "    for _ in range(iters):    \n",
    "        np.random.shuffle(ages)\n",
    "        np.random.shuffle(weights)\n",
    "        \n",
    "        new_corr = np.corrcoef(ages, weights)\n",
    "\n",
    "        if new_corr[0][1] / corr[0][1] >= 1:\n",
    "            count += 1\n",
    "            \n",
    "    pValue = count / iters\n",
    "    \n",
    "    print(f'P Value: {pValue}')\n",
    "    \n",
    "    \n",
    "def ChiSquared(live,firsts):\n",
    "    '''\n",
    "    Chi-Squared Test\n",
    "    \n",
    "    args:\n",
    "        sample (df)\n",
    "        iters (int)\n",
    "        \n",
    "    returns:\n",
    "        chisq (float)\n",
    "    \n",
    "    '''\n",
    "    live_lengths = live.prglngth.dropna().values\n",
    "    first_lengths = firsts.prglngth.dropna().values\n",
    "        \n",
    "    # only use data between 35 and 43 weeks to avoid outliers\n",
    "    live_lengths = live_lengths[np.where(live_lengths <= 43)]\n",
    "    live_lengths = live_lengths[np.where(live_lengths >= 35)]\n",
    "\n",
    "    first_lengths = first_lengths[np.where(first_lengths <= 43)]\n",
    "    first_lengths = first_lengths[np.where(first_lengths >= 35)]\n",
    "    \n",
    "    live_probdens = np.histogram(live_lengths, bins = 9)[0] / len(live_lengths)\n",
    "    first_probdens = np.histogram(first_lengths, bins = 9)[0] / len(first_lengths)\n",
    "    \n",
    "    square = (first_probdens - live_probdens)**2 / live_probdens\n",
    "    chisq = np.sum(square)\n",
    "    \n",
    "    return chisq"
   ]
  },
  {
   "cell_type": "code",
   "execution_count": 5,
   "id": "ce610dae",
   "metadata": {},
   "outputs": [
    {
     "name": "stdout",
     "output_type": "stream",
     "text": [
      "Sample Size: 100\n",
      "\n",
      "Mean Difference in Preg Length: 0.20488195278110766 weeks\n",
      "P Value: 0.308\n",
      "\n",
      "Mean Difference in Birth Weights: 0.30334793491864787 lbs\n",
      "P Value: 0.0\n",
      "\n",
      "Correlation Coefficient between Age and Weight: 0.0848341795247848\n",
      "P Value: 0.196\n"
     ]
    }
   ],
   "source": [
    "# Statistical tests - 100 rows\n",
    "rows = 100\n",
    "trials = 1000\n",
    "\n",
    "sample = thinkstats2.SampleRows(live_df, rows)\n",
    "\n",
    "print('Sample Size: 100')\n",
    "\n",
    "PregLengths(sample,trials)\n",
    "BirthWeights(sample,trials)\n",
    "Correlate(sample, trials)"
   ]
  },
  {
   "cell_type": "code",
   "execution_count": 6,
   "id": "545f3853",
   "metadata": {},
   "outputs": [
    {
     "name": "stdout",
     "output_type": "stream",
     "text": [
      "Sample Size: 50\n",
      "\n",
      "Mean Difference in Preg Length: 0.4614121510673286 weeks\n",
      "P Value: 0.289\n",
      "\n",
      "Mean Difference in Birth Weights: 0.5591133004926112 lbs\n",
      "P Value: 0.069\n",
      "\n",
      "Correlation Coefficient between Age and Weight: -0.004576981667129779\n",
      "P Value: 0.474\n"
     ]
    }
   ],
   "source": [
    "# Statistical tests - 50 rows\n",
    "rows = 50\n",
    "trials = 1000\n",
    "\n",
    "sample = thinkstats2.SampleRows(live_df, rows)\n",
    "\n",
    "print('Sample Size: 50')\n",
    "\n",
    "PregLengths(sample,trials)\n",
    "BirthWeights(sample,trials)\n",
    "Correlate(sample, trials)"
   ]
  },
  {
   "cell_type": "code",
   "execution_count": 7,
   "id": "8cb29bc9",
   "metadata": {},
   "outputs": [
    {
     "name": "stdout",
     "output_type": "stream",
     "text": [
      "Sample Size: 10\n",
      "\n",
      "Mean Difference in Preg Length: 1.3333333333333357 weeks\n",
      "P Value: 0.306\n",
      "\n",
      "Mean Difference in Birth Weights: -0.30208333333333304 lbs\n",
      "P Value: 0.0\n",
      "\n",
      "Correlation Coefficient between Age and Weight: -0.2719457369136887\n",
      "P Value: 0.202\n"
     ]
    }
   ],
   "source": [
    "# Statistical tests - 10 rows\n",
    "rows = 10\n",
    "trials = 1000\n",
    "\n",
    "sample = thinkstats2.SampleRows(live_df, rows)\n",
    "\n",
    "print('Sample Size: 10')\n",
    "\n",
    "PregLengths(sample,trials)\n",
    "BirthWeights(sample,trials)\n",
    "Correlate(sample, trials)"
   ]
  },
  {
   "cell_type": "markdown",
   "id": "aba9693d",
   "metadata": {},
   "source": [
    "| test | Sample Size | p-value |\n",
    "| :- | :- | :- |\n",
    "| Mean Diff in Preg Length | 100 | 0.008 |\n",
    "| Mean Diff in Preg Length | 50 | 0.006 |\n",
    "| Mean Diff in Preg Length | 10 | 0.706 |\n",
    "|   |   |   |\n",
    "| Mean Diff in Birth Weight | 100 | 0.442 |\n",
    "| Mean Diff in Birth Weight | 50 | 0.0 |\n",
    "| Mean Diff in Birth Weight | 10 | 0.0 |\n",
    "|   |   |   |\n",
    "| Corr Coef: Age and Weight | 100 | 0.211 |\n",
    "| Corr Coef: Age and Weight | 50 | 0.1 |\n",
    "| Corr Coef: Age and Weight | 10 | 0.355 |\n",
    "\n",
    "The p-values dont really move in a pattern except birth weight which gets down towards 0."
   ]
  },
  {
   "cell_type": "code",
   "execution_count": 8,
   "id": "61691fa3",
   "metadata": {},
   "outputs": [
    {
     "data": {
      "image/png": "[encoded data removed]",
      "text/plain": [
       "<Figure size 432x288 with 1 Axes>"
      ]
     },
     "metadata": {
      "needs_background": "light"
     },
     "output_type": "display_data"
    },
    {
     "name": "stdout",
     "output_type": "stream",
     "text": [
      "Max Value Under Null Hypothesis: 6.293512417161693\n",
      "Actual Chi Squared: 1.7261786610411627\n",
      "p-value: 0.214\n"
     ]
    }
   ],
   "source": [
    "# chi squared test\n",
    "n = 100\n",
    "sample = thinkstats2.SampleRows(live_df, n)\n",
    "\n",
    "firsts = sample[sample.birthord == 1]\n",
    "others = sample[sample.birthord != 1]\n",
    "\n",
    "chi_sq = ChiSquared(live_df, firsts)\n",
    "\n",
    "# generate null hypothesis data\n",
    "iters = 1000\n",
    "chis = []\n",
    "\n",
    "for _ in range(iters):\n",
    "    samp = thinkstats2.SampleRows(live_df, n)\n",
    "    chis.append(ChiSquared(live_df, samp))\n",
    "\n",
    "p_val = len(np.array(chis)[np.where(chis >= chi_sq)]) / len(chis)\n",
    "\n",
    "plt.hist(chis)\n",
    "plt.axvline(chi_sq, label='Actual Chi Squared', color='r')\n",
    "plt.title('Null Hypothesis Chi Squared Values n={}'.format(n))\n",
    "plt.ylabel('Count')\n",
    "plt.xlabel('Chi Squared')\n",
    "plt.legend()\n",
    "plt.show()\n",
    "\n",
    "print(f'Max Value Under Null Hypothesis: {max(chis)}')\n",
    "print(f'Actual Chi Squared: {chi_sq}')\n",
    "print(f'p-value: {p_val}')"
   ]
  },
  {
   "cell_type": "code",
   "execution_count": 9,
   "id": "edbe1058",
   "metadata": {},
   "outputs": [
    {
     "data": {
      "image/png": "[encoded data removed]",
      "text/plain": [
       "<Figure size 432x288 with 1 Axes>"
      ]
     },
     "metadata": {
      "needs_background": "light"
     },
     "output_type": "display_data"
    },
    {
     "name": "stdout",
     "output_type": "stream",
     "text": [
      "Max Value Under Null Hypothesis: 10.793459600498872\n",
      "Actual Chi Squared: 2.6623909883909604\n",
      "p-value: 0.203\n"
     ]
    }
   ],
   "source": [
    "n = 50\n",
    "sample = thinkstats2.SampleRows(live_df, n)\n",
    "\n",
    "firsts = sample[sample.birthord == 1]\n",
    "others = sample[sample.birthord != 1]\n",
    "\n",
    "chi_sq = ChiSquared(live_df, firsts)\n",
    "\n",
    "# generate null hypothesis data\n",
    "iters = 1000\n",
    "chis = []\n",
    "\n",
    "for _ in range(iters):\n",
    "    samp = thinkstats2.SampleRows(live_df, n)\n",
    "    chis.append(ChiSquared(live_df, samp))\n",
    "\n",
    "p_val = len(np.array(chis)[np.where(chis >= chi_sq)]) / len(chis)\n",
    "\n",
    "plt.hist(chis)\n",
    "plt.axvline(chi_sq, label='Actual Chi Squared', color='r')\n",
    "plt.title('Null Hypothesis Chi Squared Values n={}'.format(n))\n",
    "plt.ylabel('Count')\n",
    "plt.xlabel('Chi Squared')\n",
    "plt.legend()\n",
    "plt.show()\n",
    "\n",
    "print(f'Max Value Under Null Hypothesis: {max(chis)}')\n",
    "print(f'Actual Chi Squared: {chi_sq}')\n",
    "print(f'p-value: {p_val}')"
   ]
  },
  {
   "cell_type": "code",
   "execution_count": 10,
   "id": "66ebf940",
   "metadata": {},
   "outputs": [
    {
     "data": {
      "image/png": "[encoded data removed]",
      "text/plain": [
       "<Figure size 432x288 with 1 Axes>"
      ]
     },
     "metadata": {
      "needs_background": "light"
     },
     "output_type": "display_data"
    },
    {
     "name": "stdout",
     "output_type": "stream",
     "text": [
      "Max Value Under Null Hypothesis: 46.15692057008778\n",
      "Actual Chi Squared: 20.35544668462675\n",
      "p-value: 0.067\n"
     ]
    }
   ],
   "source": [
    "n = 10\n",
    "sample = thinkstats2.SampleRows(live_df, n)\n",
    "\n",
    "firsts = sample[sample.birthord == 1]\n",
    "others = sample[sample.birthord != 1]\n",
    "\n",
    "chi_sq = ChiSquared(live_df, firsts)\n",
    "\n",
    "# generate null hypothesis data\n",
    "iters = 1000\n",
    "chis = []\n",
    "\n",
    "for _ in range(iters):\n",
    "    samp = thinkstats2.SampleRows(live_df, n)\n",
    "    chis.append(ChiSquared(live_df, samp))\n",
    "\n",
    "p_val = len(np.array(chis)[np.where(chis >= chi_sq)]) / len(chis)\n",
    "\n",
    "plt.hist(chis)\n",
    "plt.axvline(chi_sq, label='Actual Chi Squared', color='r')\n",
    "plt.title('Null Hypothesis Chi Squared Values n={}'.format(n))\n",
    "plt.ylabel('Count')\n",
    "plt.xlabel('Chi Squared')\n",
    "plt.legend()\n",
    "plt.show()\n",
    "\n",
    "print(f'Max Value Under Null Hypothesis: {max(chis)}')\n",
    "print(f'Actual Chi Squared: {chi_sq}')\n",
    "print(f'p-value: {p_val}')"
   ]
  },
  {
   "cell_type": "markdown",
   "id": "64c8b965",
   "metadata": {},
   "source": [
    "The p-values for chi-squared are also not following a pattern so it is hard to predict the lowest sample size that yields a positive test."
   ]
  },
  {
   "cell_type": "markdown",
   "id": "2a101cb0",
   "metadata": {},
   "source": [
    "## Exercise 10-1"
   ]
  },
  {
   "cell_type": "markdown",
   "id": "77d3f4bd",
   "metadata": {},
   "source": [
    "*Using the data from the BRFSS, compute the linear least squares for for log(weight) vs height. How would you best present the estimated parameters for a model like this where one of the variables is log-transformed? If you were trying to guess someone's weight, how much would it help to know their height?*\n",
    "\n",
    "*Like the NSFG, the BRFSS oversamples some groups and provides a sampling weight for each respondent. In the BRFSS data, the variable name for these weights is totalwt. Use resampling, with and without weights, to estimate the mean height of respondents in the BRFSS, the standard error of the mean, and a 90% confidence interval. How much does correct weighting affet the estimates?*"
   ]
  },
  {
   "cell_type": "code",
   "execution_count": 11,
   "id": "9945eaa5",
   "metadata": {},
   "outputs": [],
   "source": [
    "import brfss\n",
    "import scipy"
   ]
  },
  {
   "cell_type": "code",
   "execution_count": 12,
   "id": "c4e8ed34",
   "metadata": {},
   "outputs": [
    {
     "data": {
      "text/html": [
       "<div>\n",
       "<style scoped>\n",
       "    .dataframe tbody tr th:only-of-type {\n",
       "        vertical-align: middle;\n",
       "    }\n",
       "\n",
       "    .dataframe tbody tr th {\n",
       "        vertical-align: top;\n",
       "    }\n",
       "\n",
       "    .dataframe thead th {\n",
       "        text-align: right;\n",
       "    }\n",
       "</style>\n",
       "<table border=\"1\" class=\"dataframe\">\n",
       "  <thead>\n",
       "    <tr style=\"text-align: right;\">\n",
       "      <th></th>\n",
       "      <th>age</th>\n",
       "      <th>sex</th>\n",
       "      <th>wtyrago</th>\n",
       "      <th>finalwt</th>\n",
       "      <th>wtkg2</th>\n",
       "      <th>htm3</th>\n",
       "    </tr>\n",
       "  </thead>\n",
       "  <tbody>\n",
       "    <tr>\n",
       "      <th>0</th>\n",
       "      <td>82.0</td>\n",
       "      <td>2</td>\n",
       "      <td>76.363636</td>\n",
       "      <td>185.870345</td>\n",
       "      <td>70.91</td>\n",
       "      <td>157.0</td>\n",
       "    </tr>\n",
       "    <tr>\n",
       "      <th>1</th>\n",
       "      <td>65.0</td>\n",
       "      <td>2</td>\n",
       "      <td>72.727273</td>\n",
       "      <td>126.603027</td>\n",
       "      <td>72.73</td>\n",
       "      <td>163.0</td>\n",
       "    </tr>\n",
       "    <tr>\n",
       "      <th>2</th>\n",
       "      <td>48.0</td>\n",
       "      <td>2</td>\n",
       "      <td>NaN</td>\n",
       "      <td>181.063210</td>\n",
       "      <td>NaN</td>\n",
       "      <td>165.0</td>\n",
       "    </tr>\n",
       "    <tr>\n",
       "      <th>3</th>\n",
       "      <td>61.0</td>\n",
       "      <td>1</td>\n",
       "      <td>73.636364</td>\n",
       "      <td>517.926275</td>\n",
       "      <td>73.64</td>\n",
       "      <td>170.0</td>\n",
       "    </tr>\n",
       "    <tr>\n",
       "      <th>4</th>\n",
       "      <td>26.0</td>\n",
       "      <td>1</td>\n",
       "      <td>88.636364</td>\n",
       "      <td>1252.624630</td>\n",
       "      <td>88.64</td>\n",
       "      <td>185.0</td>\n",
       "    </tr>\n",
       "  </tbody>\n",
       "</table>\n",
       "</div>"
      ],
      "text/plain": [
       "    age  sex    wtyrago      finalwt  wtkg2   htm3\n",
       "0  82.0    2  76.363636   185.870345  70.91  157.0\n",
       "1  65.0    2  72.727273   126.603027  72.73  163.0\n",
       "2  48.0    2        NaN   181.063210    NaN  165.0\n",
       "3  61.0    1  73.636364   517.926275  73.64  170.0\n",
       "4  26.0    1  88.636364  1252.624630  88.64  185.0"
      ]
     },
     "execution_count": 12,
     "metadata": {},
     "output_type": "execute_result"
    }
   ],
   "source": [
    "# Read BRFSS data\n",
    "brfss_df = brfss.ReadBrfss(nrows=None)\n",
    "brfss_df.head()"
   ]
  },
  {
   "cell_type": "code",
   "execution_count": 13,
   "id": "357bb80a",
   "metadata": {},
   "outputs": [],
   "source": [
    "# drop the empty rows from the htm3 and wtkg2 columns\n",
    "brfss_df = brfss_df.dropna(subset=['htm3', 'wtkg2'])\n",
    "\n",
    "# move the columns into their own df\n",
    "heights, weights = brfss_df.htm3, brfss_df.wtkg2"
   ]
  },
  {
   "cell_type": "code",
   "execution_count": 14,
   "id": "2af15404",
   "metadata": {},
   "outputs": [],
   "source": [
    "# convert weights to log 10\n",
    "log_weights = np.log10(weights)"
   ]
  },
  {
   "cell_type": "code",
   "execution_count": 15,
   "id": "c6a73a47",
   "metadata": {},
   "outputs": [
    {
     "name": "stdout",
     "output_type": "stream",
     "text": [
      "Slope: 0.0052814541694177755\n",
      "Intercept: 0.9930804163932879\n",
      "R Value - Pearson: 0.5317282605983431\n",
      "P Value: 0.0\n",
      "Std Error: 1.3370549498879916e-05\n"
     ]
    }
   ],
   "source": [
    "# calculate the linear regression for heights and weights\n",
    "regress = scipy.stats.linregress(heights, log_weights)\n",
    "slope, intercept, r_value, p_value, std_err = regress\n",
    "\n",
    "print(f\"Slope: {slope}\")\n",
    "print(f\"Intercept: {intercept}\")\n",
    "print(f\"R Value - Pearson: {r_value}\")\n",
    "print(f\"P Value: {p_value}\")\n",
    "print(f\"Std Error: {std_err}\")"
   ]
  },
  {
   "cell_type": "code",
   "execution_count": 16,
   "id": "5895da62",
   "metadata": {},
   "outputs": [
    {
     "data": {
      "image/png": "[encoded data removed]",
      "text/plain": [
       "<Figure size 432x288 with 1 Axes>"
      ]
     },
     "metadata": {
      "needs_background": "light"
     },
     "output_type": "display_data"
    }
   ],
   "source": [
    "# Plot regression with log\n",
    "\n",
    "plt.scatter(heights, log_weights, alpha = 0.1)\n",
    "\n",
    "x_fit = np.linspace(0, max(heights)*1.1, 100)\n",
    "y_fit = slope * x_fit + intercept\n",
    "\n",
    "plt.plot(x_fit, y_fit, color = 'k', label = 'Regression Line')\n",
    "plt.title('Height vs Log Weight')\n",
    "plt.xlabel('Height (cm)')\n",
    "plt.ylabel('Log Weight')\n",
    "\n",
    "plt.legend()\n",
    "plt.show()"
   ]
  },
  {
   "cell_type": "code",
   "execution_count": 17,
   "id": "e3e8bd95",
   "metadata": {},
   "outputs": [
    {
     "data": {
      "image/png": "[encoded data removed]",
      "text/plain": [
       "<Figure size 432x288 with 1 Axes>"
      ]
     },
     "metadata": {
      "needs_background": "light"
     },
     "output_type": "display_data"
    }
   ],
   "source": [
    "# Plot regression without log\n",
    "\n",
    "plt.scatter(heights, weights, alpha = 0.1)\n",
    "\n",
    "x_fit = np.linspace(0, max(heights)*1.1, 100)\n",
    "y_fit = slope * x_fit + intercept\n",
    "\n",
    "plt.plot(x_fit, 10**y_fit, color = 'k', label = 'Regression Line')\n",
    "plt.title('Height vs Weight')\n",
    "plt.xlabel('Height (cm)')\n",
    "plt.ylabel('Weight (kg)')\n",
    "\n",
    "plt.legend()\n",
    "plt.show()"
   ]
  },
  {
   "cell_type": "code",
   "execution_count": 18,
   "id": "f8ab1adf",
   "metadata": {},
   "outputs": [],
   "source": [
    "# Calculate the residuals\n",
    "residuals = []\n",
    "\n",
    "for h, w in zip(heights, log_weights):\n",
    "    r = w - (h * slope + intercept)\n",
    "    residuals.append(r)"
   ]
  },
  {
   "cell_type": "code",
   "execution_count": 19,
   "id": "eb56b412",
   "metadata": {},
   "outputs": [],
   "source": [
    "# height range\n",
    "height_range = range(140, 190)"
   ]
  },
  {
   "cell_type": "code",
   "execution_count": 20,
   "id": "02b7b138",
   "metadata": {},
   "outputs": [],
   "source": [
    "# calculate percentiles\n",
    "r_25 = []\n",
    "r_50 = []\n",
    "r_75 = []\n",
    "\n",
    "residuals = np.array(residuals)\n",
    "\n",
    "for h in height_range:\n",
    "    r = residuals[np.where(heights == h)]\n",
    "    \n",
    "    if r.size != 0:\n",
    "        r_25.append(np.percentile(residuals[np.where(heights == h)], 25))\n",
    "        r_50.append(np.percentile(residuals[np.where(heights == h)], 50))\n",
    "        r_75.append(np.percentile(residuals[np.where(heights == h)], 75))"
   ]
  },
  {
   "cell_type": "code",
   "execution_count": 21,
   "id": "bbb1e991",
   "metadata": {},
   "outputs": [
    {
     "data": {
      "image/png": "[encoded data removed]",
      "text/plain": [
       "<Figure size 432x288 with 1 Axes>"
      ]
     },
     "metadata": {
      "needs_background": "light"
     },
     "output_type": "display_data"
    }
   ],
   "source": [
    "# Plot percentiles\n",
    "plt.plot(r_25, label='25th Percentile')\n",
    "plt.plot(r_50, label='50th Percentile')\n",
    "plt.plot(r_75, label='75th Percentile')\n",
    "\n",
    "plt.title('Residuals')\n",
    "plt.xlabel('Index')\n",
    "plt.ylabel('Error')\n",
    "\n",
    "plt.legend()\n",
    "plt.show()"
   ]
  },
  {
   "cell_type": "code",
   "execution_count": 22,
   "id": "d2b6d696",
   "metadata": {},
   "outputs": [
    {
     "name": "stdout",
     "output_type": "stream",
     "text": [
      "r2: 0.282734943118939\n"
     ]
    }
   ],
   "source": [
    "# calculate coefficient of determination\n",
    "\n",
    "r2 = thinkstats2.CoefDetermination(log_weights, residuals)\n",
    "print(f\"r2: {r2}\")"
   ]
  },
  {
   "cell_type": "code",
   "execution_count": 23,
   "id": "7edea1e1",
   "metadata": {},
   "outputs": [
    {
     "data": {
      "text/plain": [
       "True"
      ]
     },
     "execution_count": 23,
     "metadata": {},
     "output_type": "execute_result"
    }
   ],
   "source": [
    "# Confirm that R^2 = p^2\n",
    "np.isclose(r_value**2, r2)"
   ]
  },
  {
   "cell_type": "code",
   "execution_count": 24,
   "id": "14064e3c",
   "metadata": {},
   "outputs": [
    {
     "name": "stdout",
     "output_type": "stream",
     "text": [
      "Mean: 168.9567373279573\n",
      "Std Error: 0.015794354242453464\n",
      "CI: (168.93093787263282, 168.9810879362962)\n"
     ]
    }
   ],
   "source": [
    "# unweighted resampling\n",
    "\n",
    "# resample rows\n",
    "estimates_unweighted = [thinkstats2.ResampleRows(brfss_df).htm3.mean() \n",
    "                        for _ in range(100)]\n",
    "\n",
    "mean = np.mean(estimates_unweighted)\n",
    "stderr = np.std(estimates_unweighted)\n",
    "cdf = thinkstats2.Cdf(estimates_unweighted)\n",
    "ci = cdf.ConfidenceInterval(90)\n",
    "\n",
    "print(f'Mean: {mean}')\n",
    "print(f'Std Error: {stderr}')\n",
    "print(f'CI: {ci}')"
   ]
  },
  {
   "cell_type": "code",
   "execution_count": 25,
   "id": "ecb4fbd1",
   "metadata": {},
   "outputs": [
    {
     "name": "stdout",
     "output_type": "stream",
     "text": [
      "Mean: 170.4965447209928\n",
      "Std Error: 0.016775810759808673\n",
      "CI: (170.46839315669274, 170.52121101881608)\n"
     ]
    }
   ],
   "source": [
    "# weighted resampling\n",
    "def ResampleRowsWeighted(df):\n",
    "    weights = df['finalwt']\n",
    "    cdf = thinkstats2.Cdf(dict(weights))\n",
    "    indices = cdf.Sample(len(weights))\n",
    "    sample = df.loc[indices]\n",
    "    return sample\n",
    "\n",
    "# resample rows\n",
    "estimates_weighted = [ResampleRowsWeighted(brfss_df).htm3.mean() \n",
    "                      for _ in range(100)]\n",
    "\n",
    "mean = np.mean(estimates_weighted)\n",
    "stderr = np.std(estimates_weighted)\n",
    "cdf = thinkstats2.Cdf(estimates_weighted)\n",
    "ci = cdf.ConfidenceInterval(90)\n",
    "\n",
    "print(f'Mean: {mean}')\n",
    "print(f'Std Error: {stderr}')\n",
    "print(f'CI: {ci}')"
   ]
  },
  {
   "cell_type": "markdown",
   "id": "ce24c1b8",
   "metadata": {},
   "source": [
    "With weighting the mean difference is only about 1.5 kg with a standard error difference of only about 0.004 which implies that the difference is not due to chance."
   ]
  }
 ],
 "metadata": {
  "kernelspec": {
   "display_name": "Python 3 (ipykernel)",
   "language": "python",
   "name": "python3"
  },
  "language_info": {
   "codemirror_mode": {
    "name": "ipython",
    "version": 3
   },
   "file_extension": ".py",
   "mimetype": "text/x-python",
   "name": "python",
   "nbconvert_exporter": "python",
   "pygments_lexer": "ipython3",
   "version": "3.8.8"
  }
 },
 "nbformat": 4,
 "nbformat_minor": 5
}
