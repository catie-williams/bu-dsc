{
 "cells": [
  {
   "cell_type": "markdown",
   "id": "6fe5e68d",
   "metadata": {},
   "source": [
    "## Healthiest City\n",
    "\n",
    "Data source: Healthy Lifestyle Cities Report 2021 from https://www.lenstore.co.uk/research/healthy-lifestyle-report/"
   ]
  },
  {
   "cell_type": "markdown",
   "id": "d64f63bc",
   "metadata": {},
   "source": [
    "**Research Topic:**\n",
    "\n",
    "What does it mean to be the healthiest city?\n",
    "\n",
    "**Research questions:**\n",
    "1. Can cities with a high average of hours worked be healthy?\n",
    "2. Do cities with more sunshine have more outdoor activities resulting in a healthier city?"
   ]
  },
  {
   "cell_type": "code",
   "execution_count": 1,
   "id": "5e9aab89",
   "metadata": {},
   "outputs": [],
   "source": [
    "import pandas as pd\n",
    "pd.options.mode.chained_assignment = None  # default='warn'\n",
    "import numpy as np\n",
    "import matplotlib.pyplot as plt\n",
    "import matplotlib.patches as mpatches\n",
    "from empiricaldist import Pmf\n",
    "from empiricaldist import Cdf\n",
    "import scipy.stats\n",
    "from scipy.stats import norm\n",
    "import statsmodels.formula.api as smf\n",
    "\n",
    "import thinkstats2\n",
    "import thinkplot\n",
    "\n",
    "pd.options.display.float_format = '{:.5f}'.format"
   ]
  },
  {
   "cell_type": "code",
   "execution_count": 2,
   "id": "95514938",
   "metadata": {},
   "outputs": [
    {
     "data": {
      "text/html": [
       "<div>\n",
       "<style scoped>\n",
       "    .dataframe tbody tr th:only-of-type {\n",
       "        vertical-align: middle;\n",
       "    }\n",
       "\n",
       "    .dataframe tbody tr th {\n",
       "        vertical-align: top;\n",
       "    }\n",
       "\n",
       "    .dataframe thead th {\n",
       "        text-align: right;\n",
       "    }\n",
       "</style>\n",
       "<table border=\"1\" class=\"dataframe\">\n",
       "  <thead>\n",
       "    <tr style=\"text-align: right;\">\n",
       "      <th></th>\n",
       "      <th>City</th>\n",
       "      <th>Rank</th>\n",
       "      <th>Sunshine hours(City)</th>\n",
       "      <th>Cost of a bottle of water(City)</th>\n",
       "      <th>Obesity levels(Country)</th>\n",
       "      <th>Life expectancy(years) (Country)</th>\n",
       "      <th>Pollution(Index score) (City)</th>\n",
       "      <th>Annual avg. hours worked</th>\n",
       "      <th>Happiness levels(Country)</th>\n",
       "      <th>Outdoor activities(City)</th>\n",
       "      <th>Number of take out places(City)</th>\n",
       "      <th>Cost of a monthly gym membership(City)</th>\n",
       "    </tr>\n",
       "  </thead>\n",
       "  <tbody>\n",
       "    <tr>\n",
       "      <th>0</th>\n",
       "      <td>Amsterdam</td>\n",
       "      <td>1</td>\n",
       "      <td>1858</td>\n",
       "      <td>£1.92</td>\n",
       "      <td>20.40%</td>\n",
       "      <td>81.20000</td>\n",
       "      <td>30.93</td>\n",
       "      <td>1434</td>\n",
       "      <td>7.44000</td>\n",
       "      <td>422</td>\n",
       "      <td>1048</td>\n",
       "      <td>£34.90</td>\n",
       "    </tr>\n",
       "    <tr>\n",
       "      <th>1</th>\n",
       "      <td>Sydney</td>\n",
       "      <td>2</td>\n",
       "      <td>2636</td>\n",
       "      <td>£1.48</td>\n",
       "      <td>29.00%</td>\n",
       "      <td>82.10000</td>\n",
       "      <td>26.86</td>\n",
       "      <td>1712</td>\n",
       "      <td>7.22000</td>\n",
       "      <td>406</td>\n",
       "      <td>1103</td>\n",
       "      <td>£41.66</td>\n",
       "    </tr>\n",
       "    <tr>\n",
       "      <th>2</th>\n",
       "      <td>Vienna</td>\n",
       "      <td>3</td>\n",
       "      <td>1884</td>\n",
       "      <td>£1.94</td>\n",
       "      <td>20.10%</td>\n",
       "      <td>81.00000</td>\n",
       "      <td>17.33</td>\n",
       "      <td>1501</td>\n",
       "      <td>7.29000</td>\n",
       "      <td>132</td>\n",
       "      <td>1008</td>\n",
       "      <td>£25.74</td>\n",
       "    </tr>\n",
       "    <tr>\n",
       "      <th>3</th>\n",
       "      <td>Stockholm</td>\n",
       "      <td>4</td>\n",
       "      <td>1821</td>\n",
       "      <td>£1.72</td>\n",
       "      <td>20.60%</td>\n",
       "      <td>81.80000</td>\n",
       "      <td>19.63</td>\n",
       "      <td>1452</td>\n",
       "      <td>7.35000</td>\n",
       "      <td>129</td>\n",
       "      <td>598</td>\n",
       "      <td>£37.31</td>\n",
       "    </tr>\n",
       "    <tr>\n",
       "      <th>4</th>\n",
       "      <td>Copenhagen</td>\n",
       "      <td>5</td>\n",
       "      <td>1630</td>\n",
       "      <td>£2.19</td>\n",
       "      <td>19.70%</td>\n",
       "      <td>79.80000</td>\n",
       "      <td>21.24</td>\n",
       "      <td>1380</td>\n",
       "      <td>7.64000</td>\n",
       "      <td>154</td>\n",
       "      <td>523</td>\n",
       "      <td>£32.53</td>\n",
       "    </tr>\n",
       "  </tbody>\n",
       "</table>\n",
       "</div>"
      ],
      "text/plain": [
       "         City  Rank Sunshine hours(City) Cost of a bottle of water(City)  \\\n",
       "0   Amsterdam     1                 1858                           £1.92   \n",
       "1      Sydney     2                 2636                           £1.48   \n",
       "2      Vienna     3                 1884                           £1.94   \n",
       "3   Stockholm     4                 1821                           £1.72   \n",
       "4  Copenhagen     5                 1630                           £2.19   \n",
       "\n",
       "  Obesity levels(Country)  Life expectancy(years) (Country)  \\\n",
       "0                  20.40%                          81.20000   \n",
       "1                  29.00%                          82.10000   \n",
       "2                  20.10%                          81.00000   \n",
       "3                  20.60%                          81.80000   \n",
       "4                  19.70%                          79.80000   \n",
       "\n",
       "  Pollution(Index score) (City) Annual avg. hours worked  \\\n",
       "0                         30.93                     1434   \n",
       "1                         26.86                     1712   \n",
       "2                         17.33                     1501   \n",
       "3                         19.63                     1452   \n",
       "4                         21.24                     1380   \n",
       "\n",
       "   Happiness levels(Country)  Outdoor activities(City)  \\\n",
       "0                    7.44000                       422   \n",
       "1                    7.22000                       406   \n",
       "2                    7.29000                       132   \n",
       "3                    7.35000                       129   \n",
       "4                    7.64000                       154   \n",
       "\n",
       "   Number of take out places(City) Cost of a monthly gym membership(City)  \n",
       "0                             1048                                 £34.90  \n",
       "1                             1103                                 £41.66  \n",
       "2                             1008                                 £25.74  \n",
       "3                              598                                 £37.31  \n",
       "4                              523                                 £32.53  "
      ]
     },
     "execution_count": 2,
     "metadata": {},
     "output_type": "execute_result"
    }
   ],
   "source": [
    "healthy_df = pd.read_csv('healthy_lifestyle_city_2021.csv')\n",
    "\n",
    "healthy_df.head()"
   ]
  },
  {
   "cell_type": "code",
   "execution_count": 3,
   "id": "bceae6c2",
   "metadata": {},
   "outputs": [
    {
     "data": {
      "text/plain": [
       "(44, 12)"
      ]
     },
     "execution_count": 3,
     "metadata": {},
     "output_type": "execute_result"
    }
   ],
   "source": [
    "# Shape\n",
    "healthy_df.shape"
   ]
  },
  {
   "cell_type": "code",
   "execution_count": 4,
   "id": "f90aecd7",
   "metadata": {},
   "outputs": [
    {
     "name": "stdout",
     "output_type": "stream",
     "text": [
      "<class 'pandas.core.frame.DataFrame'>\n",
      "RangeIndex: 44 entries, 0 to 43\n",
      "Data columns (total 12 columns):\n",
      " #   Column                                  Non-Null Count  Dtype  \n",
      "---  ------                                  --------------  -----  \n",
      " 0   City                                    44 non-null     object \n",
      " 1   Rank                                    44 non-null     int64  \n",
      " 2   Sunshine hours(City)                    44 non-null     object \n",
      " 3   Cost of a bottle of water(City)         44 non-null     object \n",
      " 4   Obesity levels(Country)                 44 non-null     object \n",
      " 5   Life expectancy(years) (Country)        44 non-null     float64\n",
      " 6   Pollution(Index score) (City)           44 non-null     object \n",
      " 7   Annual avg. hours worked                44 non-null     object \n",
      " 8   Happiness levels(Country)               44 non-null     float64\n",
      " 9   Outdoor activities(City)                44 non-null     int64  \n",
      " 10  Number of take out places(City)         44 non-null     int64  \n",
      " 11  Cost of a monthly gym membership(City)  44 non-null     object \n",
      "dtypes: float64(2), int64(3), object(7)\n",
      "memory usage: 4.2+ KB\n"
     ]
    }
   ],
   "source": [
    "# Data Types\n",
    "healthy_df.info()"
   ]
  },
  {
   "cell_type": "markdown",
   "id": "c74f5234",
   "metadata": {},
   "source": [
    "## Data Cleaning\n",
    "\n",
    "Sunshine hours, Cost of a bottle of water, Obesity levels, Pollution, Annual Hours Worked, and  \n",
    "Cost of Monthly Gym Membership need to be converted to numeric"
   ]
  },
  {
   "cell_type": "code",
   "execution_count": 5,
   "id": "71944ee9",
   "metadata": {},
   "outputs": [
    {
     "data": {
      "text/plain": [
       "0   2.51520\n",
       "1   1.93880\n",
       "2   2.54140\n",
       "3   2.25320\n",
       "4   2.86890\n",
       "Name: Cost of a bottle of water(City), dtype: float64"
      ]
     },
     "execution_count": 5,
     "metadata": {},
     "output_type": "execute_result"
    }
   ],
   "source": [
    "# Convert Cost of a bottle of water to US Dollars\n",
    "rate_of_exchange = 1.31\n",
    "df = dict()\n",
    "\n",
    "df['Amount'] = healthy_df['Cost of a bottle of water(City)'].str[1:]\n",
    "healthy_df['Cost of a bottle of water(City)'] = pd.to_numeric(df['Amount']) * rate_of_exchange\n",
    "healthy_df['Cost of a bottle of water(City)'].head()"
   ]
  },
  {
   "cell_type": "code",
   "execution_count": 6,
   "id": "08c3d8f6",
   "metadata": {},
   "outputs": [
    {
     "data": {
      "text/plain": [
       "0   45.71900\n",
       "1   54.57460\n",
       "2   33.71940\n",
       "3   48.87610\n",
       "4   42.61430\n",
       "Name: Cost of a monthly gym membership(City), dtype: float64"
      ]
     },
     "execution_count": 6,
     "metadata": {},
     "output_type": "execute_result"
    }
   ],
   "source": [
    "# Convert Cost of a monthly gym membership to US Dollars\n",
    "rate_of_exchange = 1.31\n",
    "\n",
    "df['Amount'] = healthy_df['Cost of a monthly gym membership(City)'].str[1:]\n",
    "healthy_df['Cost of a monthly gym membership(City)'] = pd.to_numeric(df['Amount']) * rate_of_exchange\n",
    "healthy_df['Cost of a monthly gym membership(City)'].head()"
   ]
  },
  {
   "cell_type": "code",
   "execution_count": 7,
   "id": "91825070",
   "metadata": {},
   "outputs": [
    {
     "data": {
      "text/plain": [
       "0   20.40000\n",
       "1   29.00000\n",
       "2   20.10000\n",
       "3   20.60000\n",
       "4   19.70000\n",
       "Name: Obesity levels(Country), dtype: float64"
      ]
     },
     "execution_count": 7,
     "metadata": {},
     "output_type": "execute_result"
    }
   ],
   "source": [
    "# Convert Obesity levels(Country) to float removing '%'\n",
    "df['Obesity'] = healthy_df['Obesity levels(Country)'].str.replace(\"%\", \"\")\n",
    "healthy_df['Obesity levels(Country)'] = pd.to_numeric(df['Obesity'])\n",
    "healthy_df['Obesity levels(Country)'].head()"
   ]
  },
  {
   "cell_type": "code",
   "execution_count": 8,
   "id": "af38ab9e",
   "metadata": {},
   "outputs": [],
   "source": [
    "# Convert Sunshine Hours, Pollution, Annual avg. hours worked to numeric\n",
    "healthy_df['Sunshine hours(City)'] = pd.to_numeric(healthy_df['Sunshine hours(City)'], errors = 'coerce', \n",
    "                                                   downcast = 'integer').fillna(0)\n",
    "healthy_df['Pollution(Index score) (City)'] = pd.to_numeric(healthy_df['Pollution(Index score) (City)'], \n",
    "                                                            errors = 'coerce').fillna(0.0)\n",
    "healthy_df['Annual avg. hours worked'] = pd.to_numeric(healthy_df['Annual avg. hours worked'], \n",
    "                                                        errors = 'coerce', downcast = 'integer').fillna(0)"
   ]
  },
  {
   "cell_type": "code",
   "execution_count": 9,
   "id": "5df0d433",
   "metadata": {},
   "outputs": [],
   "source": [
    "# Convert Hours of Sunshine per year to hours per day\n",
    "healthy_df[\"SunshinePerDay\"] = round(healthy_df[\"Sunshine hours(City)\"] /  360)\n",
    "\n",
    "# Convert Annual Average hours Worked to hours per day\n",
    "healthy_df[\"WorkPerDay\"] = round(healthy_df[\"Annual avg. hours worked\"] /  360)"
   ]
  },
  {
   "cell_type": "code",
   "execution_count": 10,
   "id": "38419a38",
   "metadata": {},
   "outputs": [],
   "source": [
    "# Renamne column headings\n",
    "healthy_cleaned_df = healthy_df.rename({'Cost of a bottle of water(City)': 'water_cost', \n",
    "                                     'Obesity levels(Country)': 'obesity_levels',\n",
    "                                    'Outdoor activities(City)': 'outdoor_activity',\n",
    "                                     'Pollution(Index score) (City)': 'pollution',\n",
    "                                      'Life expectancy(years) (Country)': 'life_expectancy' }, axis=1) "
   ]
  },
  {
   "cell_type": "code",
   "execution_count": 11,
   "id": "ddf5ee34",
   "metadata": {},
   "outputs": [
    {
     "name": "stdout",
     "output_type": "stream",
     "text": [
      "<class 'pandas.core.frame.DataFrame'>\n",
      "RangeIndex: 44 entries, 0 to 43\n",
      "Data columns (total 14 columns):\n",
      " #   Column                                  Non-Null Count  Dtype  \n",
      "---  ------                                  --------------  -----  \n",
      " 0   City                                    44 non-null     object \n",
      " 1   Rank                                    44 non-null     int64  \n",
      " 2   Sunshine hours(City)                    44 non-null     float64\n",
      " 3   water_cost                              44 non-null     float64\n",
      " 4   obesity_levels                          44 non-null     float64\n",
      " 5   life_expectancy                         44 non-null     float64\n",
      " 6   pollution                               44 non-null     float64\n",
      " 7   Annual avg. hours worked                44 non-null     float64\n",
      " 8   Happiness levels(Country)               44 non-null     float64\n",
      " 9   outdoor_activity                        44 non-null     int64  \n",
      " 10  Number of take out places(City)         44 non-null     int64  \n",
      " 11  Cost of a monthly gym membership(City)  44 non-null     float64\n",
      " 12  SunshinePerDay                          44 non-null     float64\n",
      " 13  WorkPerDay                              44 non-null     float64\n",
      "dtypes: float64(10), int64(3), object(1)\n",
      "memory usage: 4.9+ KB\n"
     ]
    }
   ],
   "source": [
    "# With new variables\n",
    "healthy_cleaned_df.info()"
   ]
  },
  {
   "cell_type": "markdown",
   "id": "9c6e1aeb",
   "metadata": {},
   "source": [
    "## 5 Variables for Analysis\n",
    "\n",
    "1. SunshinePerDay: Daily Sunshine hours per City\n",
    "2. obesity_levels: Obesity levels per Country\n",
    "3. water_cost: Cost of a bottle of water per City\n",
    "4. outdoor_activity: Number of outdoor activities per City\n",
    "5. WorkPerDay: Daily average hours worked\n",
    "6. pollution: Polution index per City\n",
    "7. life_expectancy: Life expectancy per Country"
   ]
  },
  {
   "cell_type": "code",
   "execution_count": 12,
   "id": "fbca392a",
   "metadata": {},
   "outputs": [
    {
     "data": {
      "text/html": [
       "<div>\n",
       "<style scoped>\n",
       "    .dataframe tbody tr th:only-of-type {\n",
       "        vertical-align: middle;\n",
       "    }\n",
       "\n",
       "    .dataframe tbody tr th {\n",
       "        vertical-align: top;\n",
       "    }\n",
       "\n",
       "    .dataframe thead th {\n",
       "        text-align: right;\n",
       "    }\n",
       "</style>\n",
       "<table border=\"1\" class=\"dataframe\">\n",
       "  <thead>\n",
       "    <tr style=\"text-align: right;\">\n",
       "      <th></th>\n",
       "      <th>SunshinePerDay</th>\n",
       "      <th>water_cost</th>\n",
       "      <th>obesity_levels</th>\n",
       "      <th>WorkPerDay</th>\n",
       "      <th>outdoor_activity</th>\n",
       "      <th>pollution</th>\n",
       "      <th>life_expectancy</th>\n",
       "    </tr>\n",
       "  </thead>\n",
       "  <tbody>\n",
       "    <tr>\n",
       "      <th>0</th>\n",
       "      <td>5.00000</td>\n",
       "      <td>2.51520</td>\n",
       "      <td>20.40000</td>\n",
       "      <td>4.00000</td>\n",
       "      <td>422</td>\n",
       "      <td>30.93000</td>\n",
       "      <td>81.20000</td>\n",
       "    </tr>\n",
       "    <tr>\n",
       "      <th>1</th>\n",
       "      <td>7.00000</td>\n",
       "      <td>1.93880</td>\n",
       "      <td>29.00000</td>\n",
       "      <td>5.00000</td>\n",
       "      <td>406</td>\n",
       "      <td>26.86000</td>\n",
       "      <td>82.10000</td>\n",
       "    </tr>\n",
       "    <tr>\n",
       "      <th>2</th>\n",
       "      <td>5.00000</td>\n",
       "      <td>2.54140</td>\n",
       "      <td>20.10000</td>\n",
       "      <td>4.00000</td>\n",
       "      <td>132</td>\n",
       "      <td>17.33000</td>\n",
       "      <td>81.00000</td>\n",
       "    </tr>\n",
       "    <tr>\n",
       "      <th>3</th>\n",
       "      <td>5.00000</td>\n",
       "      <td>2.25320</td>\n",
       "      <td>20.60000</td>\n",
       "      <td>4.00000</td>\n",
       "      <td>129</td>\n",
       "      <td>19.63000</td>\n",
       "      <td>81.80000</td>\n",
       "    </tr>\n",
       "    <tr>\n",
       "      <th>4</th>\n",
       "      <td>5.00000</td>\n",
       "      <td>2.86890</td>\n",
       "      <td>19.70000</td>\n",
       "      <td>4.00000</td>\n",
       "      <td>154</td>\n",
       "      <td>21.24000</td>\n",
       "      <td>79.80000</td>\n",
       "    </tr>\n",
       "  </tbody>\n",
       "</table>\n",
       "</div>"
      ],
      "text/plain": [
       "   SunshinePerDay  water_cost  obesity_levels  WorkPerDay  outdoor_activity  \\\n",
       "0         5.00000     2.51520        20.40000     4.00000               422   \n",
       "1         7.00000     1.93880        29.00000     5.00000               406   \n",
       "2         5.00000     2.54140        20.10000     4.00000               132   \n",
       "3         5.00000     2.25320        20.60000     4.00000               129   \n",
       "4         5.00000     2.86890        19.70000     4.00000               154   \n",
       "\n",
       "   pollution  life_expectancy  \n",
       "0   30.93000         81.20000  \n",
       "1   26.86000         82.10000  \n",
       "2   17.33000         81.00000  \n",
       "3   19.63000         81.80000  \n",
       "4   21.24000         79.80000  "
      ]
     },
     "execution_count": 12,
     "metadata": {},
     "output_type": "execute_result"
    }
   ],
   "source": [
    "healthy_cleaned_df[['SunshinePerDay', 'water_cost', 'obesity_levels', 'WorkPerDay', 'outdoor_activity',\n",
    "                   'pollution', 'life_expectancy']].head()"
   ]
  },
  {
   "cell_type": "markdown",
   "id": "1f74a105",
   "metadata": {},
   "source": [
    "## EDA"
   ]
  },
  {
   "cell_type": "code",
   "execution_count": 13,
   "id": "e1b450ae",
   "metadata": {},
   "outputs": [],
   "source": [
    "def findOutliers_IQR(df):\n",
    "    '''\n",
    "    Find Outliers in the dataframe\n",
    "    \n",
    "    args:\n",
    "        df (dataframe)\n",
    "        \n",
    "    return:\n",
    "        outliers (dataframe)\n",
    "    '''\n",
    "    q1 = df.quantile(0.25)\n",
    "    q3 = df.quantile(0.75)\n",
    "    \n",
    "    IQR = q3 - q1\n",
    "    \n",
    "    lower_bound = q1 - 1.5 * IQR\n",
    "    upper_bound = q3 + 1.5 * IQR\n",
    "    \n",
    "    outliers = df[((df <= lower_bound) | (df >= upper_bound))]\n",
    "    \n",
    "    return outliers"
   ]
  },
  {
   "cell_type": "markdown",
   "id": "fa488ae3",
   "metadata": {},
   "source": [
    "## Histogram and outliers of each of the 5 variables and how to deal with the outliers"
   ]
  },
  {
   "cell_type": "markdown",
   "id": "dc079ef3",
   "metadata": {},
   "source": [
    "### Daily Hours of Sunshine Analysis"
   ]
  },
  {
   "cell_type": "code",
   "execution_count": 14,
   "id": "dde3c199",
   "metadata": {},
   "outputs": [
    {
     "data": {
      "image/png": "[encoded data removed]",
      "text/plain": [
       "<Figure size 576x432 with 1 Axes>"
      ]
     },
     "metadata": {
      "needs_background": "light"
     },
     "output_type": "display_data"
    }
   ],
   "source": [
    "# Histogram\n",
    "hoursSunshine_hist = healthy_cleaned_df.hist(column = 'SunshinePerDay', figsize = (8,6), grid = False)\n",
    "mu, std = norm.fit (healthy_cleaned_df['SunshinePerDay'])\n",
    "\n",
    "hoursSunshine_hist = hoursSunshine_hist[0]\n",
    "\n",
    "min = np.min(healthy_cleaned_df['SunshinePerDay'])\n",
    "max = np.max(healthy_cleaned_df['SunshinePerDay'])\n",
    "domain = np.linspace(min, max)\n",
    "\n",
    "plt.plot(domain, norm.pdf(domain, mu, std))\n",
    "plt.xlabel(\"Hours of Sunshine per Day\", labelpad=20, weight='bold', size=12)\n",
    "plt.ylabel(\"Frequency\", labelpad=20, weight='bold', size=12)\n",
    "plt.title(\" \")\n",
    "\n",
    "plt.show()"
   ]
  },
  {
   "cell_type": "code",
   "execution_count": 15,
   "id": "028eafe0",
   "metadata": {},
   "outputs": [
    {
     "name": "stdout",
     "output_type": "stream",
     "text": [
      "Mode: 0   5.00000\n",
      "Name: SunshinePerDay, dtype: float64\n",
      "Median: 6.0\n",
      "Std Dev: 1.8199911715976667\n",
      "Skew: -0.41876879423351593\n"
     ]
    }
   ],
   "source": [
    "print(f\"Mode: {healthy_df['SunshinePerDay'].mode()}\")\n",
    "print(f\"Median: {healthy_df['SunshinePerDay'].median()}\")\n",
    "print(f\"Std Dev: {healthy_df['SunshinePerDay'].std()}\")\n",
    "print(f\"Skew: {pd.DataFrame(healthy_df['SunshinePerDay']).skew()[0]}\")"
   ]
  },
  {
   "cell_type": "code",
   "execution_count": 16,
   "id": "44044e98",
   "metadata": {},
   "outputs": [
    {
     "data": {
      "text/plain": [
       "count   44.00000\n",
       "mean     6.11364\n",
       "std      1.81999\n",
       "min      0.00000\n",
       "25%      5.00000\n",
       "50%      6.00000\n",
       "75%      7.00000\n",
       "max     10.00000\n",
       "Name: SunshinePerDay, dtype: float64"
      ]
     },
     "execution_count": 16,
     "metadata": {},
     "output_type": "execute_result"
    }
   ],
   "source": [
    "healthy_cleaned_df['SunshinePerDay'].describe()"
   ]
  },
  {
   "cell_type": "code",
   "execution_count": 17,
   "id": "ae1195d6",
   "metadata": {},
   "outputs": [
    {
     "name": "stdout",
     "output_type": "stream",
     "text": [
      "Number of outliers for Sunshine hours: 2\n",
      "Max outlier for Sunshine hours: 10.0\n",
      "Min outlier for Sunshine hours: 0.0\n",
      "Outliers are: \n",
      "19    0.00000\n",
      "22   10.00000\n",
      "Name: SunshinePerDay, dtype: float64\n"
     ]
    }
   ],
   "source": [
    "outliers = findOutliers_IQR(healthy_cleaned_df['SunshinePerDay'])\n",
    "print(f\"Number of outliers for Sunshine hours: {str(len(outliers))}\")\n",
    "print(f\"Max outlier for Sunshine hours: {str(outliers.max())}\")\n",
    "print(f\"Min outlier for Sunshine hours: {str(outliers.min())}\")\n",
    "\n",
    "print(f\"Outliers are: \\n{outliers}\")"
   ]
  },
  {
   "cell_type": "markdown",
   "id": "77332fea",
   "metadata": {},
   "source": [
    "The spread is from the minimum to the maximum which is 10 hrs\n",
    "Since the mean and median are the same there are no tails"
   ]
  },
  {
   "cell_type": "markdown",
   "id": "2967a0f9",
   "metadata": {},
   "source": [
    "*The outlier in this column is 0. As no city has 0 hours of sunshine per year I believe this to be a typo and\n",
    "the outlier should be removed from the data. A city can have 10 hours of sunshine so this piece of data should stay*"
   ]
  },
  {
   "cell_type": "code",
   "execution_count": 18,
   "id": "1fcb4290",
   "metadata": {},
   "outputs": [
    {
     "data": {
      "text/plain": [
       "(43, 14)"
      ]
     },
     "execution_count": 18,
     "metadata": {},
     "output_type": "execute_result"
    }
   ],
   "source": [
    "# Create a CDF\n",
    "# Remove water cost > $4.00\n",
    "sunshine_filtered = healthy_cleaned_df[healthy_cleaned_df['SunshinePerDay'] > 0]\n",
    "sunshine_filtered.shape"
   ]
  },
  {
   "cell_type": "code",
   "execution_count": 19,
   "id": "fb5694e0",
   "metadata": {},
   "outputs": [
    {
     "data": {
      "text/html": [
       "<div>\n",
       "<style scoped>\n",
       "    .dataframe tbody tr th:only-of-type {\n",
       "        vertical-align: middle;\n",
       "    }\n",
       "\n",
       "    .dataframe tbody tr th {\n",
       "        vertical-align: top;\n",
       "    }\n",
       "\n",
       "    .dataframe thead th {\n",
       "        text-align: right;\n",
       "    }\n",
       "</style>\n",
       "<table border=\"1\" class=\"dataframe\">\n",
       "  <thead>\n",
       "    <tr style=\"text-align: right;\">\n",
       "      <th></th>\n",
       "      <th>probs</th>\n",
       "    </tr>\n",
       "  </thead>\n",
       "  <tbody>\n",
       "    <tr>\n",
       "      <th>4.00000</th>\n",
       "      <td>0.09302</td>\n",
       "    </tr>\n",
       "    <tr>\n",
       "      <th>5.00000</th>\n",
       "      <td>0.44186</td>\n",
       "    </tr>\n",
       "    <tr>\n",
       "      <th>6.00000</th>\n",
       "      <td>0.53488</td>\n",
       "    </tr>\n",
       "  </tbody>\n",
       "</table>\n",
       "</div>"
      ],
      "text/plain": [
       "4.00000   0.09302\n",
       "5.00000   0.44186\n",
       "6.00000   0.53488\n",
       "Name: , dtype: float64"
      ]
     },
     "execution_count": 19,
     "metadata": {},
     "output_type": "execute_result"
    }
   ],
   "source": [
    "sunshine_cdf = Cdf.from_seq(sunshine_filtered['SunshinePerDay'])\n",
    "sunshine_cdf.head()"
   ]
  },
  {
   "cell_type": "code",
   "execution_count": 20,
   "id": "23fb2571",
   "metadata": {},
   "outputs": [
    {
     "name": "stdout",
     "output_type": "stream",
     "text": [
      "# of Hours of Sunshine per Day at Probability of 25%: 5.0 hrs\n",
      "# of Hours of Sunshine per Day at Probability of 50%: 6.0 hrs\n",
      "# of Hours of Sunshine per Day at Probability of 75%: 7.0 hrs\n"
     ]
    },
    {
     "data": {
      "image/png": "[encoded data removed]",
      "text/plain": [
       "<Figure size 432x288 with 1 Axes>"
      ]
     },
     "metadata": {
      "needs_background": "light"
     },
     "output_type": "display_data"
    }
   ],
   "source": [
    "sunshine_cdf.plot()\n",
    "plt.xlabel('Hours of Sunshine per Day')\n",
    "plt.ylabel('CDF')\n",
    "plt.title('Distribution of the # of Hours of Sunshine per Day')\n",
    "\n",
    "print(f\"# of Hours of Sunshine per Day at Probability of 25%: {sunshine_cdf.inverse(0.25)} hrs\")\n",
    "print(f\"# of Hours of Sunshine per Day at Probability of 50%: {sunshine_cdf.inverse(0.5)} hrs\")\n",
    "print(f\"# of Hours of Sunshine per Day at Probability of 75%: {sunshine_cdf.inverse(0.75)} hrs\")"
   ]
  },
  {
   "cell_type": "markdown",
   "id": "9bf39436",
   "metadata": {},
   "source": [
    "### Obsesity Levels per Country Analysis"
   ]
  },
  {
   "cell_type": "code",
   "execution_count": 21,
   "id": "42b642ca",
   "metadata": {},
   "outputs": [
    {
     "data": {
      "image/png": "[encoded data removed]",
      "text/plain": [
       "<Figure size 576x432 with 1 Axes>"
      ]
     },
     "metadata": {
      "needs_background": "light"
     },
     "output_type": "display_data"
    }
   ],
   "source": [
    "# Histogram\n",
    "obesityLevel_hist = healthy_cleaned_df.hist(column = 'obesity_levels', figsize = (8,6), grid = False)\n",
    "mu, std = norm.fit (healthy_cleaned_df['obesity_levels'])\n",
    "\n",
    "obesityLevel_hist = obesityLevel_hist[0]\n",
    "\n",
    "min = np.min(healthy_cleaned_df['obesity_levels'])\n",
    "max = np.max(healthy_cleaned_df['obesity_levels'])\n",
    "domain = np.linspace(min, max)\n",
    "\n",
    "plt.plot(domain, norm.pdf(domain, mu, std))\n",
    "plt.xlabel(\"Obesity Levels\", labelpad=20, weight='bold', size=12)\n",
    "plt.ylabel(\"Frequency\", labelpad=20, weight='bold', size=12)\n",
    "plt.title(\" \")\n",
    "\n",
    "plt.show()"
   ]
  },
  {
   "cell_type": "code",
   "execution_count": 22,
   "id": "0d7e9581",
   "metadata": {},
   "outputs": [
    {
     "name": "stdout",
     "output_type": "stream",
     "text": [
      "Mode: 0   36.20000\n",
      "Name: obesity_levels, dtype: float64\n",
      "Median: 22.3\n",
      "Std Dev: 10.195669965554575\n",
      "Skew: -0.4679912673634951\n"
     ]
    }
   ],
   "source": [
    "print(f\"Mode: {healthy_cleaned_df['obesity_levels'].mode()}\")\n",
    "print(f\"Median: {healthy_cleaned_df['obesity_levels'].median()}\")\n",
    "print(f\"Std Dev: {healthy_cleaned_df['obesity_levels'].std()}\")\n",
    "print(f\"Skew: {pd.DataFrame(healthy_cleaned_df['obesity_levels']).skew()[0]}\")"
   ]
  },
  {
   "cell_type": "code",
   "execution_count": 23,
   "id": "3b05fcfb",
   "metadata": {},
   "outputs": [
    {
     "data": {
      "text/plain": [
       "count   44.00000\n",
       "mean    21.92500\n",
       "std     10.19567\n",
       "min      3.90000\n",
       "25%     19.50000\n",
       "50%     22.30000\n",
       "75%     29.00000\n",
       "max     36.20000\n",
       "Name: obesity_levels, dtype: float64"
      ]
     },
     "execution_count": 23,
     "metadata": {},
     "output_type": "execute_result"
    }
   ],
   "source": [
    "healthy_cleaned_df['obesity_levels'].describe()"
   ]
  },
  {
   "cell_type": "code",
   "execution_count": 24,
   "id": "c635b66d",
   "metadata": {},
   "outputs": [
    {
     "name": "stdout",
     "output_type": "stream",
     "text": [
      "Number of outliers for Obesity Levels: 4\n",
      "Max outlier for Obesity Levels: 4.7\n",
      "Min outlier for Obesity Levels: 3.9\n",
      "Outliers are: \n",
      "6    4.30000\n",
      "17   4.70000\n",
      "25   3.90000\n",
      "28   4.30000\n",
      "Name: obesity_levels, dtype: float64\n"
     ]
    }
   ],
   "source": [
    "outliers = findOutliers_IQR(healthy_cleaned_df['obesity_levels'])\n",
    "print(f\"Number of outliers for Obesity Levels: {str(len(outliers))}\")\n",
    "print(f\"Max outlier for Obesity Levels: {str(outliers.max())}\")\n",
    "print(f\"Min outlier for Obesity Levels: {str(outliers.min())}\")\n",
    "print(f\"Outliers are: \\n{outliers}\")"
   ]
  },
  {
   "cell_type": "markdown",
   "id": "cd1b3c31",
   "metadata": {},
   "source": [
    "*There are 4 outliers in this column.  They seem to be far from the mean so we can safely remove them but there can be cities with very low obesity levels so keeping them wouldnt be out of the question*"
   ]
  },
  {
   "cell_type": "code",
   "execution_count": 25,
   "id": "5e53a97d",
   "metadata": {},
   "outputs": [
    {
     "data": {
      "text/html": [
       "<div>\n",
       "<style scoped>\n",
       "    .dataframe tbody tr th:only-of-type {\n",
       "        vertical-align: middle;\n",
       "    }\n",
       "\n",
       "    .dataframe tbody tr th {\n",
       "        vertical-align: top;\n",
       "    }\n",
       "\n",
       "    .dataframe thead th {\n",
       "        text-align: right;\n",
       "    }\n",
       "</style>\n",
       "<table border=\"1\" class=\"dataframe\">\n",
       "  <thead>\n",
       "    <tr style=\"text-align: right;\">\n",
       "      <th></th>\n",
       "      <th>probs</th>\n",
       "    </tr>\n",
       "  </thead>\n",
       "  <tbody>\n",
       "    <tr>\n",
       "      <th>3.90000</th>\n",
       "      <td>0.02273</td>\n",
       "    </tr>\n",
       "    <tr>\n",
       "      <th>4.30000</th>\n",
       "      <td>0.06818</td>\n",
       "    </tr>\n",
       "    <tr>\n",
       "      <th>4.70000</th>\n",
       "      <td>0.09091</td>\n",
       "    </tr>\n",
       "  </tbody>\n",
       "</table>\n",
       "</div>"
      ],
      "text/plain": [
       "3.90000   0.02273\n",
       "4.30000   0.06818\n",
       "4.70000   0.09091\n",
       "Name: , dtype: float64"
      ]
     },
     "execution_count": 25,
     "metadata": {},
     "output_type": "execute_result"
    }
   ],
   "source": [
    "# Create a CDF\n",
    "obesity_cdf = Cdf.from_seq(healthy_cleaned_df['obesity_levels'])\n",
    "obesity_cdf.head()"
   ]
  },
  {
   "cell_type": "code",
   "execution_count": 26,
   "id": "463d419c",
   "metadata": {},
   "outputs": [
    {
     "name": "stdout",
     "output_type": "stream",
     "text": [
      "Obesity Levels per Country at Probability of 25%: 19.5\n",
      "Obesity Levels per Country at Probability of 50%: 22.3\n",
      "Obesity Levels per Country at Probability of 75%: 29.0\n"
     ]
    },
    {
     "data": {
      "image/png": "[encoded data removed]",
      "text/plain": [
       "<Figure size 432x288 with 1 Axes>"
      ]
     },
     "metadata": {
      "needs_background": "light"
     },
     "output_type": "display_data"
    }
   ],
   "source": [
    "obesity_cdf.plot()\n",
    "plt.xlabel('Obesity Levels')\n",
    "plt.ylabel('CDF')\n",
    "plt.title('Distribution of Obesity Levels per Country')\n",
    "\n",
    "print(f\"Obesity Levels per Country at Probability of 25%: {obesity_cdf.inverse(0.25)}\")\n",
    "print(f\"Obesity Levels per Country at Probability of 50%: {obesity_cdf.inverse(0.5)}\")\n",
    "print(f\"Obesity Levels per Country at Probability of 75%: {obesity_cdf.inverse(0.75)}\")"
   ]
  },
  {
   "cell_type": "markdown",
   "id": "2702ede1",
   "metadata": {},
   "source": [
    "### Cost of a bottle of water Analysis"
   ]
  },
  {
   "cell_type": "code",
   "execution_count": 27,
   "id": "e81ce55d",
   "metadata": {},
   "outputs": [
    {
     "data": {
      "image/png": "[encoded data removed]",
      "text/plain": [
       "<Figure size 576x432 with 1 Axes>"
      ]
     },
     "metadata": {
      "needs_background": "light"
     },
     "output_type": "display_data"
    }
   ],
   "source": [
    "# Histogram\n",
    "waterCost_hist = healthy_cleaned_df.hist(column = 'water_cost', figsize = (8,6), grid = False)\n",
    "mu, std = norm.fit (healthy_cleaned_df['water_cost'])\n",
    "\n",
    "obesityLevel_hist = obesityLevel_hist[0]\n",
    "\n",
    "min = np.min(healthy_cleaned_df['water_cost'])\n",
    "max = np.max(healthy_cleaned_df['water_cost'])\n",
    "domain = np.linspace(min, max)\n",
    "\n",
    "plt.plot(domain, norm.pdf(domain, mu, std))\n",
    "plt.xlabel(\"Cost of a Bottle of Water (US $)\", labelpad=20, weight='bold', size=12)\n",
    "plt.ylabel(\"Frequency\", labelpad=20, weight='bold', size=12)\n",
    "plt.title(\" \")\n",
    "\n",
    "plt.show()"
   ]
  },
  {
   "cell_type": "code",
   "execution_count": 28,
   "id": "590e5ce4",
   "metadata": {},
   "outputs": [
    {
     "name": "stdout",
     "output_type": "stream",
     "text": [
      "Mode: 0   0.19650\n",
      "1   0.74670\n",
      "2   0.77290\n",
      "3   2.09600\n",
      "4   2.55450\n",
      "Name: water_cost, dtype: float64\n",
      "Median: 1.56545\n",
      "Std Dev: 0.9414209499951933\n",
      "Skew: 0.46042661471361096\n"
     ]
    }
   ],
   "source": [
    "print(f\"Mode: {healthy_cleaned_df['water_cost'].mode()}\")\n",
    "print(f\"Median: {healthy_cleaned_df['water_cost'].median()}\")\n",
    "print(f\"Std Dev: {healthy_cleaned_df['water_cost'].std()}\")\n",
    "print(f\"Skew: {pd.DataFrame(healthy_cleaned_df['water_cost']).skew()[0]}\")"
   ]
  },
  {
   "cell_type": "code",
   "execution_count": 29,
   "id": "b6f66979",
   "metadata": {},
   "outputs": [
    {
     "data": {
      "text/plain": [
       "count   44.00000\n",
       "mean     1.53717\n",
       "std      0.94142\n",
       "min      0.19650\n",
       "25%      0.74670\n",
       "50%      1.56545\n",
       "75%      2.09600\n",
       "max      4.19200\n",
       "Name: water_cost, dtype: float64"
      ]
     },
     "execution_count": 29,
     "metadata": {},
     "output_type": "execute_result"
    }
   ],
   "source": [
    "healthy_cleaned_df['water_cost'].describe()"
   ]
  },
  {
   "cell_type": "code",
   "execution_count": 30,
   "id": "ef59b187",
   "metadata": {},
   "outputs": [
    {
     "name": "stdout",
     "output_type": "stream",
     "text": [
      "Number of outliers for water cost: 1\n",
      "Max outlier for water cost: 4.192\n",
      "Min outlier for water cost: 4.192\n",
      "Outliers are: \n",
      "36   4.19200\n",
      "Name: water_cost, dtype: float64\n"
     ]
    }
   ],
   "source": [
    "outliers = findOutliers_IQR(healthy_cleaned_df['water_cost'])\n",
    "print(f\"Number of outliers for water cost: {str(len(outliers))}\")\n",
    "print(f\"Max outlier for water cost: {str(outliers.max())}\")\n",
    "print(f\"Min outlier for water cost: {str(outliers.min())}\")\n",
    "print(f\"Outliers are: \\n{outliers}\")"
   ]
  },
  {
   "cell_type": "markdown",
   "id": "5126c7ed",
   "metadata": {},
   "source": [
    "*There is one outlier of \\\\$4.19 for a bottle of water. Since the mean is \\\\$1.52 I this we can be safe to remove this\n",
    "outlier and just a very expensive city*"
   ]
  },
  {
   "cell_type": "code",
   "execution_count": 31,
   "id": "98152817",
   "metadata": {},
   "outputs": [
    {
     "data": {
      "text/plain": [
       "(43, 14)"
      ]
     },
     "execution_count": 31,
     "metadata": {},
     "output_type": "execute_result"
    }
   ],
   "source": [
    "# Remove water cost > $4.00\n",
    "waterCost_filtered = healthy_cleaned_df[healthy_cleaned_df['water_cost'] < 4]\n",
    "waterCost_filtered.shape"
   ]
  },
  {
   "cell_type": "code",
   "execution_count": 32,
   "id": "9e1ec433",
   "metadata": {},
   "outputs": [
    {
     "data": {
      "text/html": [
       "<div>\n",
       "<style scoped>\n",
       "    .dataframe tbody tr th:only-of-type {\n",
       "        vertical-align: middle;\n",
       "    }\n",
       "\n",
       "    .dataframe tbody tr th {\n",
       "        vertical-align: top;\n",
       "    }\n",
       "\n",
       "    .dataframe thead th {\n",
       "        text-align: right;\n",
       "    }\n",
       "</style>\n",
       "<table border=\"1\" class=\"dataframe\">\n",
       "  <thead>\n",
       "    <tr style=\"text-align: right;\">\n",
       "      <th></th>\n",
       "      <th>probs</th>\n",
       "    </tr>\n",
       "  </thead>\n",
       "  <tbody>\n",
       "    <tr>\n",
       "      <th>0.19650</th>\n",
       "      <td>0.04651</td>\n",
       "    </tr>\n",
       "    <tr>\n",
       "      <th>0.20960</th>\n",
       "      <td>0.06977</td>\n",
       "    </tr>\n",
       "    <tr>\n",
       "      <th>0.27510</th>\n",
       "      <td>0.09302</td>\n",
       "    </tr>\n",
       "  </tbody>\n",
       "</table>\n",
       "</div>"
      ],
      "text/plain": [
       "0.19650   0.04651\n",
       "0.20960   0.06977\n",
       "0.27510   0.09302\n",
       "Name: , dtype: float64"
      ]
     },
     "execution_count": 32,
     "metadata": {},
     "output_type": "execute_result"
    }
   ],
   "source": [
    "# Cost of a bottle of water(City)\n",
    "waterCost_cdf = Cdf.from_seq(waterCost_filtered['water_cost'])\n",
    "waterCost_cdf.head()"
   ]
  },
  {
   "cell_type": "code",
   "execution_count": 33,
   "id": "9f6cc0a5",
   "metadata": {},
   "outputs": [
    {
     "name": "stdout",
     "output_type": "stream",
     "text": [
      "Cost of a Bottle of Water at Probability of 25%: $0.7466999999999999\n",
      "Cost of a Bottle of Water at Probability of 50%: $1.5589\n",
      "Cost of a Bottle of Water at Probability of 75%: $2.096\n"
     ]
    },
    {
     "data": {
      "image/png": "[encoded data removed]",
      "text/plain": [
       "<Figure size 432x288 with 1 Axes>"
      ]
     },
     "metadata": {
      "needs_background": "light"
     },
     "output_type": "display_data"
    }
   ],
   "source": [
    "waterCost_cdf.plot()\n",
    "plt.xlabel('Cost of Bottle of Water (US $)')\n",
    "plt.ylabel('CDF')\n",
    "plt.title('Distribution of the Cost of a Bottle of Water')\n",
    "\n",
    "print(f\"Cost of a Bottle of Water at Probability of 25%: ${waterCost_cdf.inverse(0.25)}\")\n",
    "print(f\"Cost of a Bottle of Water at Probability of 50%: ${waterCost_cdf.inverse(0.5)}\")\n",
    "print(f\"Cost of a Bottle of Water at Probability of 75%: ${waterCost_cdf.inverse(0.75)}\")"
   ]
  },
  {
   "cell_type": "markdown",
   "id": "d08a32c4",
   "metadata": {},
   "source": [
    "### Outdoor activities(City) Analysis"
   ]
  },
  {
   "cell_type": "code",
   "execution_count": 34,
   "id": "dbaf25ab",
   "metadata": {},
   "outputs": [
    {
     "data": {
      "image/png": "[encoded data removed]",
      "text/plain": [
       "<Figure size 576x432 with 1 Axes>"
      ]
     },
     "metadata": {
      "needs_background": "light"
     },
     "output_type": "display_data"
    }
   ],
   "source": [
    "# Histogram\n",
    "outdoor_hist = healthy_cleaned_df.hist(column = 'outdoor_activity', figsize = (8,6), grid = False)\n",
    "mu, std = norm.fit (healthy_cleaned_df['outdoor_activity'])\n",
    "\n",
    "outdoor_hist = outdoor_hist[0]\n",
    "\n",
    "min = np.min(healthy_cleaned_df['outdoor_activity'])\n",
    "max = np.max(healthy_cleaned_df['outdoor_activity'])\n",
    "domain = np.linspace(min, max)\n",
    "\n",
    "plt.plot(domain, norm.pdf(domain, mu, std))\n",
    "plt.xlabel(\"# of Outdoor Activities per City\", labelpad=20, weight='bold', size=12)\n",
    "plt.ylabel(\"Frequency\", labelpad=20, weight='bold', size=12)\n",
    "plt.title(\" \")\n",
    "\n",
    "plt.show()"
   ]
  },
  {
   "cell_type": "code",
   "execution_count": 35,
   "id": "9576fb0a",
   "metadata": {},
   "outputs": [
    {
     "name": "stdout",
     "output_type": "stream",
     "text": [
      "Mode: 0    223\n",
      "Name: outdoor_activity, dtype: int64\n",
      "Median: 189.5\n",
      "Std Dev: 127.19029666009126\n",
      "Skew: 0.7927788840317203\n"
     ]
    }
   ],
   "source": [
    "print(f\"Mode: {healthy_cleaned_df['outdoor_activity'].mode()}\")\n",
    "print(f\"Median: {healthy_cleaned_df['outdoor_activity'].median()}\")\n",
    "print(f\"Std Dev: {healthy_cleaned_df['outdoor_activity'].std()}\")\n",
    "print(f\"Skew: {pd.DataFrame(healthy_cleaned_df['outdoor_activity']).skew()[0]}\")"
   ]
  },
  {
   "cell_type": "code",
   "execution_count": 36,
   "id": "fee9e9bd",
   "metadata": {},
   "outputs": [
    {
     "data": {
      "text/plain": [
       "count    44.00000\n",
       "mean    213.97727\n",
       "std     127.19030\n",
       "min      23.00000\n",
       "25%     125.25000\n",
       "50%     189.50000\n",
       "75%     288.25000\n",
       "max     585.00000\n",
       "Name: outdoor_activity, dtype: float64"
      ]
     },
     "execution_count": 36,
     "metadata": {},
     "output_type": "execute_result"
    }
   ],
   "source": [
    "healthy_cleaned_df['outdoor_activity'].describe()"
   ]
  },
  {
   "cell_type": "code",
   "execution_count": 37,
   "id": "7e1bf3d5",
   "metadata": {},
   "outputs": [
    {
     "name": "stdout",
     "output_type": "stream",
     "text": [
      "Number of outliers for outdoor activities: 1\n",
      "Max outlier for outdoor activities: 585\n",
      "Min outlier for outdoor activities: 585\n",
      "Outliers are: \n",
      "8    585\n",
      "Name: outdoor_activity, dtype: int64\n"
     ]
    }
   ],
   "source": [
    "outliers = findOutliers_IQR(healthy_cleaned_df['outdoor_activity'])\n",
    "print(f\"Number of outliers for outdoor activities: {str(len(outliers))}\")\n",
    "print(f\"Max outlier for outdoor activities: {str(outliers.max())}\")\n",
    "print(f\"Min outlier for outdoor activities: {str(outliers.min())}\")\n",
    "print(f\"Outliers are: \\n{outliers}\")"
   ]
  },
  {
   "cell_type": "markdown",
   "id": "c4214e63",
   "metadata": {},
   "source": [
    "*There are 1 outlier having a whopping 585 number of outdoor activites.  As the mean is 214, I think we can safely remove this one city*"
   ]
  },
  {
   "cell_type": "code",
   "execution_count": 38,
   "id": "ecd18542",
   "metadata": {},
   "outputs": [
    {
     "data": {
      "text/plain": [
       "(43, 14)"
      ]
     },
     "execution_count": 38,
     "metadata": {},
     "output_type": "execute_result"
    }
   ],
   "source": [
    "# Create a CDF\n",
    "# Remove # > 580\n",
    "outdoor_filtered = healthy_cleaned_df[healthy_cleaned_df['outdoor_activity'] < 580]\n",
    "outdoor_filtered.shape"
   ]
  },
  {
   "cell_type": "code",
   "execution_count": 39,
   "id": "f6c414f9",
   "metadata": {},
   "outputs": [
    {
     "data": {
      "text/html": [
       "<div>\n",
       "<style scoped>\n",
       "    .dataframe tbody tr th:only-of-type {\n",
       "        vertical-align: middle;\n",
       "    }\n",
       "\n",
       "    .dataframe tbody tr th {\n",
       "        vertical-align: top;\n",
       "    }\n",
       "\n",
       "    .dataframe thead th {\n",
       "        text-align: right;\n",
       "    }\n",
       "</style>\n",
       "<table border=\"1\" class=\"dataframe\">\n",
       "  <thead>\n",
       "    <tr style=\"text-align: right;\">\n",
       "      <th></th>\n",
       "      <th>probs</th>\n",
       "    </tr>\n",
       "  </thead>\n",
       "  <tbody>\n",
       "    <tr>\n",
       "      <th>23</th>\n",
       "      <td>0.02326</td>\n",
       "    </tr>\n",
       "    <tr>\n",
       "      <th>35</th>\n",
       "      <td>0.04651</td>\n",
       "    </tr>\n",
       "    <tr>\n",
       "      <th>44</th>\n",
       "      <td>0.06977</td>\n",
       "    </tr>\n",
       "  </tbody>\n",
       "</table>\n",
       "</div>"
      ],
      "text/plain": [
       "23   0.02326\n",
       "35   0.04651\n",
       "44   0.06977\n",
       "Name: , dtype: float64"
      ]
     },
     "execution_count": 39,
     "metadata": {},
     "output_type": "execute_result"
    }
   ],
   "source": [
    "outdoor_cdf = Cdf.from_seq(outdoor_filtered['outdoor_activity'])\n",
    "outdoor_cdf.head()"
   ]
  },
  {
   "cell_type": "code",
   "execution_count": 40,
   "id": "84f39f3f",
   "metadata": {},
   "outputs": [
    {
     "name": "stdout",
     "output_type": "stream",
     "text": [
      "# of Outdoor Activities per City at Probability of 25%: 114.0\n",
      "# of Outdoor Activities per City at Probability of 50%: 187.0\n",
      "# of Outdoor Activities per City at Probability of 75%: 277.0\n"
     ]
    },
    {
     "data": {
      "image/png": "[encoded data removed]",
      "text/plain": [
       "<Figure size 432x288 with 1 Axes>"
      ]
     },
     "metadata": {
      "needs_background": "light"
     },
     "output_type": "display_data"
    }
   ],
   "source": [
    "outdoor_cdf.plot()\n",
    "plt.xlabel('# of Outdoor Activities per City')\n",
    "plt.ylabel('CDF')\n",
    "plt.title('Distribution of the # of Outdoor Activities per City')\n",
    "\n",
    "print(f\"# of Outdoor Activities per City at Probability of 25%: {outdoor_cdf.inverse(0.25)}\")\n",
    "print(f\"# of Outdoor Activities per City at Probability of 50%: {outdoor_cdf.inverse(0.5)}\")\n",
    "print(f\"# of Outdoor Activities per City at Probability of 75%: {outdoor_cdf.inverse(0.75)}\")"
   ]
  },
  {
   "cell_type": "markdown",
   "id": "5d698f94",
   "metadata": {},
   "source": [
    "### Daily Average houred Worked Analysis"
   ]
  },
  {
   "cell_type": "code",
   "execution_count": 41,
   "id": "bee05549",
   "metadata": {},
   "outputs": [
    {
     "data": {
      "image/png": "[encoded data removed]",
      "text/plain": [
       "<Figure size 576x432 with 1 Axes>"
      ]
     },
     "metadata": {
      "needs_background": "light"
     },
     "output_type": "display_data"
    }
   ],
   "source": [
    "# Histogram\n",
    "hoursWorked_hist = healthy_cleaned_df.hist(column = 'WorkPerDay', figsize = (8,6), grid = False)\n",
    "mu, std = norm.fit (healthy_cleaned_df['WorkPerDay'])\n",
    "\n",
    "hoursWorked_hist = hoursWorked_hist[0]\n",
    "\n",
    "min = np.min(healthy_cleaned_df['WorkPerDay'])\n",
    "max = np.max(healthy_cleaned_df['WorkPerDay'])\n",
    "domain = np.linspace(min, max)\n",
    "\n",
    "plt.plot(domain, norm.pdf(domain, mu, std))\n",
    "plt.xlabel(\"Avg Hours Worked per Day\", labelpad=20, weight='bold', size=12)\n",
    "plt.ylabel(\"Frequency\", labelpad=20, weight='bold', size=12)\n",
    "plt.title(\" \")\n",
    "\n",
    "plt.show()"
   ]
  },
  {
   "cell_type": "code",
   "execution_count": 42,
   "id": "f5276377",
   "metadata": {},
   "outputs": [
    {
     "name": "stdout",
     "output_type": "stream",
     "text": [
      "Mode: 0   5.00000\n",
      "Name: WorkPerDay, dtype: float64\n",
      "Median: 4.0\n",
      "Std Dev: 2.0965087257651236\n",
      "Skew: -1.0231890238236054\n"
     ]
    }
   ],
   "source": [
    "print(f\"Mode: {healthy_cleaned_df['WorkPerDay'].mode()}\")\n",
    "print(f\"Median: {healthy_cleaned_df['WorkPerDay'].median()}\")\n",
    "print(f\"Std Dev: {healthy_cleaned_df['WorkPerDay'].std()}\")\n",
    "print(f\"Skew: {pd.DataFrame(healthy_cleaned_df['WorkPerDay']).skew()[0]}\")"
   ]
  },
  {
   "cell_type": "code",
   "execution_count": 43,
   "id": "f6e25e5c",
   "metadata": {},
   "outputs": [
    {
     "data": {
      "text/plain": [
       "count   44.00000\n",
       "mean     3.50000\n",
       "std      2.09651\n",
       "min      0.00000\n",
       "25%      3.00000\n",
       "50%      4.00000\n",
       "75%      5.00000\n",
       "max      6.00000\n",
       "Name: WorkPerDay, dtype: float64"
      ]
     },
     "execution_count": 43,
     "metadata": {},
     "output_type": "execute_result"
    }
   ],
   "source": [
    "healthy_cleaned_df['WorkPerDay'].describe(include  = 'all')"
   ]
  },
  {
   "cell_type": "code",
   "execution_count": 44,
   "id": "152f80a6",
   "metadata": {},
   "outputs": [
    {
     "name": "stdout",
     "output_type": "stream",
     "text": [
      "Number of outliers for Avg Hours Worked: 11\n",
      "Max outlier for Avg Hours Worked: 0.0\n",
      "Min outlier for Avg Hours Worked: 0.0\n",
      "Outliers are: \n",
      "11   0.00000\n",
      "12   0.00000\n",
      "13   0.00000\n",
      "16   0.00000\n",
      "22   0.00000\n",
      "23   0.00000\n",
      "25   0.00000\n",
      "30   0.00000\n",
      "31   0.00000\n",
      "35   0.00000\n",
      "38   0.00000\n",
      "Name: WorkPerDay, dtype: float64\n"
     ]
    }
   ],
   "source": [
    "outliers = findOutliers_IQR(healthy_cleaned_df['WorkPerDay'])\n",
    "print(f\"Number of outliers for Avg Hours Worked: {str(len(outliers))}\")\n",
    "print(f\"Max outlier for Avg Hours Worked: {str(outliers.max())}\")\n",
    "print(f\"Min outlier for Avg Hours Worked: {str(outliers.min())}\")\n",
    "print(f\"Outliers are: \\n{outliers}\")"
   ]
  },
  {
   "cell_type": "markdown",
   "id": "d5bba67f",
   "metadata": {},
   "source": [
    "*A lot of the cities has 0 daily hours of work but since this is an average this needs to stay in the dataset*"
   ]
  },
  {
   "cell_type": "code",
   "execution_count": 45,
   "id": "9765fbd0",
   "metadata": {},
   "outputs": [
    {
     "data": {
      "text/html": [
       "<div>\n",
       "<style scoped>\n",
       "    .dataframe tbody tr th:only-of-type {\n",
       "        vertical-align: middle;\n",
       "    }\n",
       "\n",
       "    .dataframe tbody tr th {\n",
       "        vertical-align: top;\n",
       "    }\n",
       "\n",
       "    .dataframe thead th {\n",
       "        text-align: right;\n",
       "    }\n",
       "</style>\n",
       "<table border=\"1\" class=\"dataframe\">\n",
       "  <thead>\n",
       "    <tr style=\"text-align: right;\">\n",
       "      <th></th>\n",
       "      <th>probs</th>\n",
       "    </tr>\n",
       "  </thead>\n",
       "  <tbody>\n",
       "    <tr>\n",
       "      <th>0.00000</th>\n",
       "      <td>0.25000</td>\n",
       "    </tr>\n",
       "    <tr>\n",
       "      <th>4.00000</th>\n",
       "      <td>0.52273</td>\n",
       "    </tr>\n",
       "    <tr>\n",
       "      <th>5.00000</th>\n",
       "      <td>0.97727</td>\n",
       "    </tr>\n",
       "  </tbody>\n",
       "</table>\n",
       "</div>"
      ],
      "text/plain": [
       "0.00000   0.25000\n",
       "4.00000   0.52273\n",
       "5.00000   0.97727\n",
       "Name: , dtype: float64"
      ]
     },
     "execution_count": 45,
     "metadata": {},
     "output_type": "execute_result"
    }
   ],
   "source": [
    "# Create a CDF\n",
    "work_cdf = Cdf.from_seq(healthy_cleaned_df['WorkPerDay'])\n",
    "work_cdf.head()"
   ]
  },
  {
   "cell_type": "code",
   "execution_count": 46,
   "id": "7bf5281f",
   "metadata": {},
   "outputs": [
    {
     "name": "stdout",
     "output_type": "stream",
     "text": [
      "#Avg # of hours Worked per Day at Probability of 25%: 0.0\n",
      "Avg # of hours Worked per Day at Probability of 50%: 4.0\n",
      "Avg # of hours Worked per Day at Probability of 75%: 5.0\n"
     ]
    },
    {
     "data": {
      "image/png": "[encoded data removed]",
      "text/plain": [
       "<Figure size 432x288 with 1 Axes>"
      ]
     },
     "metadata": {
      "needs_background": "light"
     },
     "output_type": "display_data"
    }
   ],
   "source": [
    "work_cdf.plot()\n",
    "plt.xlabel('Avg # of hours Worked per Day')\n",
    "plt.ylabel('CDF')\n",
    "plt.title('Distribution of the Avg # of hours Worked per Day')\n",
    "\n",
    "print(f\"#Avg # of hours Worked per Day at Probability of 25%: {work_cdf.inverse(0.25)}\")\n",
    "print(f\"Avg # of hours Worked per Day at Probability of 50%: {work_cdf.inverse(0.5)}\")\n",
    "print(f\"Avg # of hours Worked per Day at Probability of 75%: {work_cdf.inverse(0.75)}\")"
   ]
  },
  {
   "cell_type": "markdown",
   "id": "e42fd0c9",
   "metadata": {},
   "source": [
    "### Pollution"
   ]
  },
  {
   "cell_type": "code",
   "execution_count": 47,
   "id": "057b07d3",
   "metadata": {},
   "outputs": [
    {
     "data": {
      "image/png": "[encoded data removed]",
      "text/plain": [
       "<Figure size 576x432 with 1 Axes>"
      ]
     },
     "metadata": {
      "needs_background": "light"
     },
     "output_type": "display_data"
    }
   ],
   "source": [
    "# Histogram\n",
    "pollution_hist = healthy_cleaned_df.hist(column = 'pollution', figsize = (8,6), grid = False)\n",
    "mu, std = norm.fit (healthy_cleaned_df['pollution'])\n",
    "\n",
    "pollution_hist = pollution_hist[0]\n",
    "\n",
    "min = np.min(healthy_cleaned_df['pollution'])\n",
    "max = np.max(healthy_cleaned_df['pollution'])\n",
    "domain = np.linspace(min, max)\n",
    "\n",
    "plt.plot(domain, norm.pdf(domain, mu, std))\n",
    "plt.xlabel(\"Polution Levels\", labelpad=20, weight='bold', size=12)\n",
    "plt.ylabel(\"Frequency\", labelpad=20, weight='bold', size=12)\n",
    "plt.title(\" \")\n",
    "\n",
    "plt.show()"
   ]
  },
  {
   "cell_type": "code",
   "execution_count": 48,
   "id": "b3547226",
   "metadata": {},
   "outputs": [
    {
     "name": "stdout",
     "output_type": "stream",
     "text": [
      "Mode: 0     0.00000\n",
      "1    13.08000\n",
      "2    17.31000\n",
      "3    17.33000\n",
      "4    19.63000\n",
      "5    21.24000\n",
      "6    24.26000\n",
      "7    25.90000\n",
      "8    26.86000\n",
      "9    27.03000\n",
      "10   27.25000\n",
      "11   30.93000\n",
      "12   37.78000\n",
      "13   37.83000\n",
      "14   39.18000\n",
      "15   39.41000\n",
      "16   40.07000\n",
      "17   42.84000\n",
      "18   43.33000\n",
      "19   47.28000\n",
      "20   47.36000\n",
      "21   49.32000\n",
      "22   52.64000\n",
      "23   52.68000\n",
      "24   57.36000\n",
      "25   57.63000\n",
      "26   57.82000\n",
      "27   58.91000\n",
      "28   61.83000\n",
      "29   62.67000\n",
      "30   65.10000\n",
      "31   65.19000\n",
      "32   66.07000\n",
      "33   67.19000\n",
      "34   67.46000\n",
      "35   69.49000\n",
      "36   76.64000\n",
      "37   77.40000\n",
      "38   79.78000\n",
      "39   82.78000\n",
      "40   82.84000\n",
      "41   84.39000\n",
      "42   85.43000\n",
      "43   91.74000\n",
      "Name: pollution, dtype: float64\n",
      "Median: 50.980000000000004\n",
      "Std Dev: 22.934285490317205\n",
      "Skew: -0.09538055579913667\n"
     ]
    }
   ],
   "source": [
    "print(f\"Mode: {healthy_cleaned_df['pollution'].mode()}\")\n",
    "print(f\"Median: {healthy_cleaned_df['pollution'].median()}\")\n",
    "print(f\"Std Dev: {healthy_cleaned_df['pollution'].std()}\")\n",
    "print(f\"Skew: {pd.DataFrame(healthy_cleaned_df['pollution']).skew()[0]}\")"
   ]
  },
  {
   "cell_type": "code",
   "execution_count": 49,
   "id": "5972a33b",
   "metadata": {},
   "outputs": [
    {
     "data": {
      "text/plain": [
       "count   44.00000\n",
       "mean    49.96045\n",
       "std     22.93429\n",
       "min      0.00000\n",
       "25%     30.01000\n",
       "50%     50.98000\n",
       "75%     66.35000\n",
       "max     91.74000\n",
       "Name: pollution, dtype: float64"
      ]
     },
     "execution_count": 49,
     "metadata": {},
     "output_type": "execute_result"
    }
   ],
   "source": [
    "healthy_cleaned_df['pollution'].describe(include  = 'all')"
   ]
  },
  {
   "cell_type": "code",
   "execution_count": 50,
   "id": "542287c0",
   "metadata": {},
   "outputs": [
    {
     "name": "stdout",
     "output_type": "stream",
     "text": [
      "Number of outliers for Pollution Index: 0\n",
      "Max outlier for Pollution: nan\n",
      "Min outlier for Pollution: nan\n",
      "Outliers are: \n",
      "Series([], Name: pollution, dtype: float64)\n"
     ]
    }
   ],
   "source": [
    "outliers = findOutliers_IQR(healthy_cleaned_df['pollution'])\n",
    "print(f\"Number of outliers for Pollution Index: {str(len(outliers))}\")\n",
    "print(f\"Max outlier for Pollution: {str(outliers.max())}\")\n",
    "print(f\"Min outlier for Pollution: {str(outliers.min())}\")\n",
    "print(f\"Outliers are: \\n{outliers}\")"
   ]
  },
  {
   "cell_type": "markdown",
   "id": "ed58175c",
   "metadata": {},
   "source": [
    "*There are no outliers for pollution*"
   ]
  },
  {
   "cell_type": "code",
   "execution_count": 51,
   "id": "14066a3d",
   "metadata": {},
   "outputs": [
    {
     "data": {
      "text/html": [
       "<div>\n",
       "<style scoped>\n",
       "    .dataframe tbody tr th:only-of-type {\n",
       "        vertical-align: middle;\n",
       "    }\n",
       "\n",
       "    .dataframe tbody tr th {\n",
       "        vertical-align: top;\n",
       "    }\n",
       "\n",
       "    .dataframe thead th {\n",
       "        text-align: right;\n",
       "    }\n",
       "</style>\n",
       "<table border=\"1\" class=\"dataframe\">\n",
       "  <thead>\n",
       "    <tr style=\"text-align: right;\">\n",
       "      <th></th>\n",
       "      <th>probs</th>\n",
       "    </tr>\n",
       "  </thead>\n",
       "  <tbody>\n",
       "    <tr>\n",
       "      <th>0.00000</th>\n",
       "      <td>0.02273</td>\n",
       "    </tr>\n",
       "    <tr>\n",
       "      <th>13.08000</th>\n",
       "      <td>0.04545</td>\n",
       "    </tr>\n",
       "    <tr>\n",
       "      <th>17.31000</th>\n",
       "      <td>0.06818</td>\n",
       "    </tr>\n",
       "  </tbody>\n",
       "</table>\n",
       "</div>"
      ],
      "text/plain": [
       "0.00000    0.02273\n",
       "13.08000   0.04545\n",
       "17.31000   0.06818\n",
       "Name: , dtype: float64"
      ]
     },
     "execution_count": 51,
     "metadata": {},
     "output_type": "execute_result"
    }
   ],
   "source": [
    "# Create a CDF\n",
    "pollution_cdf = Cdf.from_seq(healthy_cleaned_df['pollution'])\n",
    "pollution_cdf.head()"
   ]
  },
  {
   "cell_type": "code",
   "execution_count": 52,
   "id": "46841686",
   "metadata": {},
   "outputs": [
    {
     "name": "stdout",
     "output_type": "stream",
     "text": [
      "Pollution Levels per City at Probability of 25%: 27.25\n",
      "Pollution Levels per City of 50%: 49.32\n",
      "Pollution Levels per City at Probability of 75%: 66.07\n"
     ]
    },
    {
     "data": {
      "image/png": "[encoded data removed]",
      "text/plain": [
       "<Figure size 432x288 with 1 Axes>"
      ]
     },
     "metadata": {
      "needs_background": "light"
     },
     "output_type": "display_data"
    }
   ],
   "source": [
    "pollution_cdf.plot()\n",
    "plt.xlabel('Pollution Levels per City')\n",
    "plt.ylabel('CDF')\n",
    "plt.title('Distribution of the Pollution Levels per City')\n",
    "\n",
    "print(f\"Pollution Levels per City at Probability of 25%: {pollution_cdf.inverse(0.25)}\")\n",
    "print(f\"Pollution Levels per City of 50%: {pollution_cdf.inverse(0.5)}\")\n",
    "print(f\"Pollution Levels per City at Probability of 75%: {pollution_cdf.inverse(0.75)}\")"
   ]
  },
  {
   "cell_type": "markdown",
   "id": "bb50ce32",
   "metadata": {},
   "source": [
    "### Life Expectancy"
   ]
  },
  {
   "cell_type": "code",
   "execution_count": 53,
   "id": "f0b06e00",
   "metadata": {},
   "outputs": [
    {
     "data": {
      "image/png": "[encoded data removed]",
      "text/plain": [
       "<Figure size 576x432 with 1 Axes>"
      ]
     },
     "metadata": {
      "needs_background": "light"
     },
     "output_type": "display_data"
    }
   ],
   "source": [
    "# Histogram\n",
    "lifeExpectancy_hist = healthy_cleaned_df.hist(column = 'life_expectancy', figsize = (8,6), grid = False)\n",
    "mu, std = norm.fit (healthy_cleaned_df['life_expectancy'])\n",
    "\n",
    "lifeExpectancy_hist = lifeExpectancy_hist[0]\n",
    "\n",
    "min = np.min(healthy_cleaned_df['life_expectancy'])\n",
    "max = np.max(healthy_cleaned_df['life_expectancy'])\n",
    "domain = np.linspace(min, max)\n",
    "\n",
    "plt.plot(domain, norm.pdf(domain, mu, std))\n",
    "plt.xlabel(\"Life Expectancy in Years per Country\", labelpad=20, weight='bold', size=12)\n",
    "plt.ylabel(\"Frequency\", labelpad=20, weight='bold', size=12)\n",
    "plt.title(\" \")\n",
    "\n",
    "plt.show()"
   ]
  },
  {
   "cell_type": "code",
   "execution_count": 54,
   "id": "21c3e89b",
   "metadata": {},
   "outputs": [
    {
     "name": "stdout",
     "output_type": "stream",
     "text": [
      "Mode: 0   78.80000\n",
      "Name: life_expectancy, dtype: float64\n",
      "Median: 80.4\n",
      "Std Dev: 5.3043696335476405\n",
      "Skew: -2.098348326667041\n"
     ]
    }
   ],
   "source": [
    "print(f\"Mode: {healthy_cleaned_df['life_expectancy'].mode()}\")\n",
    "print(f\"Median: {healthy_cleaned_df['life_expectancy'].median()}\")\n",
    "print(f\"Std Dev: {healthy_cleaned_df['life_expectancy'].std()}\")\n",
    "print(f\"Skew: {pd.DataFrame(healthy_cleaned_df['life_expectancy']).skew()[0]}\")"
   ]
  },
  {
   "cell_type": "code",
   "execution_count": 55,
   "id": "e832fe57",
   "metadata": {},
   "outputs": [
    {
     "data": {
      "text/plain": [
       "count   44.00000\n",
       "mean    78.17500\n",
       "std      5.30437\n",
       "min     56.30000\n",
       "25%     75.40000\n",
       "50%     80.40000\n",
       "75%     81.80000\n",
       "max     83.20000\n",
       "Name: life_expectancy, dtype: float64"
      ]
     },
     "execution_count": 55,
     "metadata": {},
     "output_type": "execute_result"
    }
   ],
   "source": [
    "healthy_cleaned_df['life_expectancy'].describe(include  = 'all')"
   ]
  },
  {
   "cell_type": "code",
   "execution_count": 56,
   "id": "bd1281f4",
   "metadata": {},
   "outputs": [
    {
     "name": "stdout",
     "output_type": "stream",
     "text": [
      "Number of outliers for Life Expectancy: 1\n",
      "Max outlier for Life Expectancy: 56.3\n",
      "Min outlier for Life Expectancy: 56.3\n",
      "Outliers are: \n",
      "38   56.30000\n",
      "Name: life_expectancy, dtype: float64\n"
     ]
    }
   ],
   "source": [
    "outliers = findOutliers_IQR(healthy_cleaned_df['life_expectancy'])\n",
    "print(f\"Number of outliers for Life Expectancy: {str(len(outliers))}\")\n",
    "print(f\"Max outlier for Life Expectancy: {str(outliers.max())}\")\n",
    "print(f\"Min outlier for Life Expectancy: {str(outliers.min())}\")\n",
    "print(f\"Outliers are: \\n{outliers}\")"
   ]
  },
  {
   "cell_type": "markdown",
   "id": "12dd6c51",
   "metadata": {},
   "source": [
    "*There is 1 outlier at 56.3 years old but I think we should leave it as it could be valid*"
   ]
  },
  {
   "cell_type": "code",
   "execution_count": 57,
   "id": "aebec845",
   "metadata": {},
   "outputs": [
    {
     "data": {
      "text/html": [
       "<div>\n",
       "<style scoped>\n",
       "    .dataframe tbody tr th:only-of-type {\n",
       "        vertical-align: middle;\n",
       "    }\n",
       "\n",
       "    .dataframe tbody tr th {\n",
       "        vertical-align: top;\n",
       "    }\n",
       "\n",
       "    .dataframe thead th {\n",
       "        text-align: right;\n",
       "    }\n",
       "</style>\n",
       "<table border=\"1\" class=\"dataframe\">\n",
       "  <thead>\n",
       "    <tr style=\"text-align: right;\">\n",
       "      <th></th>\n",
       "      <th>probs</th>\n",
       "    </tr>\n",
       "  </thead>\n",
       "  <tbody>\n",
       "    <tr>\n",
       "      <th>56.30000</th>\n",
       "      <td>0.02273</td>\n",
       "    </tr>\n",
       "    <tr>\n",
       "      <th>67.30000</th>\n",
       "      <td>0.04545</td>\n",
       "    </tr>\n",
       "    <tr>\n",
       "      <th>68.50000</th>\n",
       "      <td>0.06818</td>\n",
       "    </tr>\n",
       "  </tbody>\n",
       "</table>\n",
       "</div>"
      ],
      "text/plain": [
       "56.30000   0.02273\n",
       "67.30000   0.04545\n",
       "68.50000   0.06818\n",
       "Name: , dtype: float64"
      ]
     },
     "execution_count": 57,
     "metadata": {},
     "output_type": "execute_result"
    }
   ],
   "source": [
    "# Create a CDF\n",
    "life_cdf = Cdf.from_seq(healthy_cleaned_df['life_expectancy'])\n",
    "life_cdf.head()"
   ]
  },
  {
   "cell_type": "code",
   "execution_count": 58,
   "id": "12194024",
   "metadata": {},
   "outputs": [
    {
     "name": "stdout",
     "output_type": "stream",
     "text": [
      "Life Expectancy per Country (Years) at Probability of 25%: 75.4\n",
      "Life Expectancy per Country (Years) of 50%: 80.4\n",
      "PLife Expectancy per Country (Years) at Probability of 75%: 81.8\n"
     ]
    },
    {
     "data": {
      "image/png": "[encoded data removed]",
      "text/plain": [
       "<Figure size 432x288 with 1 Axes>"
      ]
     },
     "metadata": {
      "needs_background": "light"
     },
     "output_type": "display_data"
    }
   ],
   "source": [
    "life_cdf.plot()\n",
    "plt.xlabel('Life Expectancy per Country (Years)')\n",
    "plt.ylabel('CDF')\n",
    "plt.title('Distribution of the Life Expectancy per Country (Years)')\n",
    "\n",
    "print(f\"Life Expectancy per Country (Years) at Probability of 25%: {life_cdf.inverse(0.25)}\")\n",
    "print(f\"Life Expectancy per Country (Years) of 50%: {life_cdf.inverse(0.5)}\")\n",
    "print(f\"PLife Expectancy per Country (Years) at Probability of 75%: {life_cdf.inverse(0.75)}\")"
   ]
  },
  {
   "cell_type": "markdown",
   "id": "45eeaaaa",
   "metadata": {},
   "source": [
    "## Compare Two Scenarios using a PMF for the Same Variable"
   ]
  },
  {
   "cell_type": "code",
   "execution_count": 59,
   "id": "22ff50fc",
   "metadata": {},
   "outputs": [],
   "source": [
    "### Compare Obesity Levels from the number of hours per day of Sunshine"
   ]
  },
  {
   "cell_type": "code",
   "execution_count": 60,
   "id": "e11bcc70",
   "metadata": {},
   "outputs": [
    {
     "data": {
      "text/html": [
       "<div>\n",
       "<style scoped>\n",
       "    .dataframe tbody tr th:only-of-type {\n",
       "        vertical-align: middle;\n",
       "    }\n",
       "\n",
       "    .dataframe tbody tr th {\n",
       "        vertical-align: top;\n",
       "    }\n",
       "\n",
       "    .dataframe thead th {\n",
       "        text-align: right;\n",
       "    }\n",
       "</style>\n",
       "<table border=\"1\" class=\"dataframe\">\n",
       "  <thead>\n",
       "    <tr style=\"text-align: right;\">\n",
       "      <th></th>\n",
       "      <th>City</th>\n",
       "      <th>Rank</th>\n",
       "      <th>Sunshine hours(City)</th>\n",
       "      <th>water_cost</th>\n",
       "      <th>obesity_levels</th>\n",
       "      <th>life_expectancy</th>\n",
       "      <th>pollution</th>\n",
       "      <th>Annual avg. hours worked</th>\n",
       "      <th>Happiness levels(Country)</th>\n",
       "      <th>outdoor_activity</th>\n",
       "      <th>Number of take out places(City)</th>\n",
       "      <th>Cost of a monthly gym membership(City)</th>\n",
       "      <th>SunshinePerDay</th>\n",
       "      <th>WorkPerDay</th>\n",
       "    </tr>\n",
       "  </thead>\n",
       "  <tbody>\n",
       "    <tr>\n",
       "      <th>0</th>\n",
       "      <td>Amsterdam</td>\n",
       "      <td>1</td>\n",
       "      <td>1858.00000</td>\n",
       "      <td>2.51520</td>\n",
       "      <td>20.40000</td>\n",
       "      <td>81.20000</td>\n",
       "      <td>30.93000</td>\n",
       "      <td>1434.00000</td>\n",
       "      <td>7.44000</td>\n",
       "      <td>422</td>\n",
       "      <td>1048</td>\n",
       "      <td>45.71900</td>\n",
       "      <td>5.00000</td>\n",
       "      <td>4.00000</td>\n",
       "    </tr>\n",
       "    <tr>\n",
       "      <th>1</th>\n",
       "      <td>Sydney</td>\n",
       "      <td>2</td>\n",
       "      <td>2636.00000</td>\n",
       "      <td>1.93880</td>\n",
       "      <td>29.00000</td>\n",
       "      <td>82.10000</td>\n",
       "      <td>26.86000</td>\n",
       "      <td>1712.00000</td>\n",
       "      <td>7.22000</td>\n",
       "      <td>406</td>\n",
       "      <td>1103</td>\n",
       "      <td>54.57460</td>\n",
       "      <td>7.00000</td>\n",
       "      <td>5.00000</td>\n",
       "    </tr>\n",
       "    <tr>\n",
       "      <th>2</th>\n",
       "      <td>Vienna</td>\n",
       "      <td>3</td>\n",
       "      <td>1884.00000</td>\n",
       "      <td>2.54140</td>\n",
       "      <td>20.10000</td>\n",
       "      <td>81.00000</td>\n",
       "      <td>17.33000</td>\n",
       "      <td>1501.00000</td>\n",
       "      <td>7.29000</td>\n",
       "      <td>132</td>\n",
       "      <td>1008</td>\n",
       "      <td>33.71940</td>\n",
       "      <td>5.00000</td>\n",
       "      <td>4.00000</td>\n",
       "    </tr>\n",
       "    <tr>\n",
       "      <th>3</th>\n",
       "      <td>Stockholm</td>\n",
       "      <td>4</td>\n",
       "      <td>1821.00000</td>\n",
       "      <td>2.25320</td>\n",
       "      <td>20.60000</td>\n",
       "      <td>81.80000</td>\n",
       "      <td>19.63000</td>\n",
       "      <td>1452.00000</td>\n",
       "      <td>7.35000</td>\n",
       "      <td>129</td>\n",
       "      <td>598</td>\n",
       "      <td>48.87610</td>\n",
       "      <td>5.00000</td>\n",
       "      <td>4.00000</td>\n",
       "    </tr>\n",
       "    <tr>\n",
       "      <th>4</th>\n",
       "      <td>Copenhagen</td>\n",
       "      <td>5</td>\n",
       "      <td>1630.00000</td>\n",
       "      <td>2.86890</td>\n",
       "      <td>19.70000</td>\n",
       "      <td>79.80000</td>\n",
       "      <td>21.24000</td>\n",
       "      <td>1380.00000</td>\n",
       "      <td>7.64000</td>\n",
       "      <td>154</td>\n",
       "      <td>523</td>\n",
       "      <td>42.61430</td>\n",
       "      <td>5.00000</td>\n",
       "      <td>4.00000</td>\n",
       "    </tr>\n",
       "  </tbody>\n",
       "</table>\n",
       "</div>"
      ],
      "text/plain": [
       "         City  Rank  Sunshine hours(City)  water_cost  obesity_levels  \\\n",
       "0   Amsterdam     1            1858.00000     2.51520        20.40000   \n",
       "1      Sydney     2            2636.00000     1.93880        29.00000   \n",
       "2      Vienna     3            1884.00000     2.54140        20.10000   \n",
       "3   Stockholm     4            1821.00000     2.25320        20.60000   \n",
       "4  Copenhagen     5            1630.00000     2.86890        19.70000   \n",
       "\n",
       "   life_expectancy  pollution  Annual avg. hours worked  \\\n",
       "0         81.20000   30.93000                1434.00000   \n",
       "1         82.10000   26.86000                1712.00000   \n",
       "2         81.00000   17.33000                1501.00000   \n",
       "3         81.80000   19.63000                1452.00000   \n",
       "4         79.80000   21.24000                1380.00000   \n",
       "\n",
       "   Happiness levels(Country)  outdoor_activity  \\\n",
       "0                    7.44000               422   \n",
       "1                    7.22000               406   \n",
       "2                    7.29000               132   \n",
       "3                    7.35000               129   \n",
       "4                    7.64000               154   \n",
       "\n",
       "   Number of take out places(City)  Cost of a monthly gym membership(City)  \\\n",
       "0                             1048                                45.71900   \n",
       "1                             1103                                54.57460   \n",
       "2                             1008                                33.71940   \n",
       "3                              598                                48.87610   \n",
       "4                              523                                42.61430   \n",
       "\n",
       "   SunshinePerDay  WorkPerDay  \n",
       "0         5.00000     4.00000  \n",
       "1         7.00000     5.00000  \n",
       "2         5.00000     4.00000  \n",
       "3         5.00000     4.00000  \n",
       "4         5.00000     4.00000  "
      ]
     },
     "execution_count": 60,
     "metadata": {},
     "output_type": "execute_result"
    }
   ],
   "source": [
    "# Remove Sunshine per Day hours less than 5\n",
    "sunshine_filtered = healthy_cleaned_df[healthy_cleaned_df['SunshinePerDay'] > 1]\n",
    "sunshine_filtered.head()"
   ]
  },
  {
   "cell_type": "code",
   "execution_count": 61,
   "id": "f4b901be",
   "metadata": {},
   "outputs": [
    {
     "data": {
      "text/plain": [
       "4.00000      4\n",
       "5.00000     15\n",
       "6.00000      4\n",
       "7.00000     12\n",
       "8.00000      3\n",
       "9.00000      4\n",
       "10.00000     1\n",
       "Name: SunshinePerDay, dtype: int64"
      ]
     },
     "execution_count": 61,
     "metadata": {},
     "output_type": "execute_result"
    }
   ],
   "source": [
    "# Get the unique values of the number of hours\n",
    "sunshine_filtered[\"SunshinePerDay\"].value_counts().sort_index()"
   ]
  },
  {
   "cell_type": "markdown",
   "id": "ba5b9143",
   "metadata": {},
   "source": [
    "### Compare the highest frequency of 5 hours compares to the rest for obesity levels"
   ]
  },
  {
   "cell_type": "code",
   "execution_count": 62,
   "id": "acbc0a40",
   "metadata": {},
   "outputs": [
    {
     "name": "stdout",
     "output_type": "stream",
     "text": [
      "4.30000     1\n",
      "6.20000     2\n",
      "19.70000    1\n",
      "19.90000    1\n",
      "20.10000    1\n",
      "20.40000    1\n",
      "20.60000    1\n",
      "21.60000    1\n",
      "22.20000    1\n",
      "22.30000    2\n",
      "23.10000    1\n",
      "27.80000    1\n",
      "29.40000    1\n",
      "Name: obesity_levels, dtype: int64\n",
      "3.90000     1\n",
      "4.30000     1\n",
      "4.70000     1\n",
      "6.20000     2\n",
      "6.90000     1\n",
      "10.00000    1\n",
      "19.50000    1\n",
      "22.10000    2\n",
      "23.80000    2\n",
      "25.30000    1\n",
      "26.10000    1\n",
      "28.30000    2\n",
      "28.90000    1\n",
      "29.00000    2\n",
      "29.40000    1\n",
      "32.00000    1\n",
      "32.10000    1\n",
      "36.20000    6\n",
      "Name: obesity_levels, dtype: int64\n"
     ]
    }
   ],
   "source": [
    "# Create df for 5 hours of sunshine and non 5 hours of sunshine\n",
    "obesity_hours5 = sunshine_filtered[sunshine_filtered.SunshinePerDay == 5]\n",
    "print(obesity_hours5['obesity_levels'].value_counts().sort_index())\n",
    "\n",
    "obesity_rest = sunshine_filtered[sunshine_filtered.SunshinePerDay != 5]\n",
    "print(obesity_rest['obesity_levels'].value_counts().sort_index())"
   ]
  },
  {
   "cell_type": "code",
   "execution_count": 63,
   "id": "4aeae53b",
   "metadata": {},
   "outputs": [
    {
     "data": {
      "image/png": "[encoded data removed]",
      "text/plain": [
       "<Figure size 432x288 with 1 Axes>"
      ]
     },
     "metadata": {
      "needs_background": "light"
     },
     "output_type": "display_data"
    }
   ],
   "source": [
    "# Plot the PMF levels of 5 hours of Sunshine\n",
    "obesity_5hrs_pmf = Pmf.from_seq(obesity_hours5['obesity_levels'])\n",
    "plt.xlabel(\"Obesity Level (%)\")\n",
    "plt.ylabel(\"PMF\")\n",
    "obesity_5hrs_pmf.bar()"
   ]
  },
  {
   "cell_type": "code",
   "execution_count": 64,
   "id": "e48437cf",
   "metadata": {},
   "outputs": [
    {
     "name": "stdout",
     "output_type": "stream",
     "text": [
      "Mean obesity of 5 hours of Sunshine: 19.07333333333333\n",
      "Mean obesity of Rest of Sunshine: 23.53928571428571\n"
     ]
    },
    {
     "data": {
      "image/png": "[encoded data removed]",
      "text/plain": [
       "<Figure size 648x504 with 1 Axes>"
      ]
     },
     "metadata": {
      "needs_background": "light"
     },
     "output_type": "display_data"
    }
   ],
   "source": [
    "# Compare the PMF of Obesity Level in 5 hours vs the rest\n",
    "obesity_5hrs_pmf = Pmf.from_seq(obesity_hours5['obesity_levels'])\n",
    "obesity_rest_pmf = Pmf.from_seq(obesity_rest['obesity_levels'])\n",
    "\n",
    "fig, ax = plt.subplots(1, 1, figsize = (9, 7))\n",
    "\n",
    "fiveHours = mpatches.Patch(color='orange', label='5 Hours of Sunshine')\n",
    "rest = mpatches.Patch(color='darkturquoise', label='Not 5 Hours of Sunshine')\n",
    "ax.legend(handles=[fiveHours, rest ], )\n",
    "\n",
    "plt.xlabel(\"Obesity Levels\")\n",
    "plt.ylabel(\"PMF\")\n",
    "\n",
    "obesity_5hrs_pmf.bar(color=['orange'])\n",
    "obesity_rest_pmf.bar(color=['darkturquoise'])\n",
    "\n",
    "# Save figure for powerpoint\n",
    "plt.savefig('Obesity Levels per Hours of Sunshine.png')\n",
    "\n",
    "print(f\"Mean obesity of 5 hours of Sunshine: {obesity_5hrs_pmf.mean()}\")\n",
    "print(f\"Mean obesity of Rest of Sunshine: {obesity_rest_pmf.mean()}\")"
   ]
  },
  {
   "cell_type": "markdown",
   "id": "05935792",
   "metadata": {},
   "source": [
    "*With 5 hours of sunshine the obesity levels are much lower than any other amount of sunshine per day*"
   ]
  },
  {
   "cell_type": "markdown",
   "id": "acabf993",
   "metadata": {},
   "source": [
    "### Analytical Distribution and provide analysis on how it applies to the dataset"
   ]
  },
  {
   "cell_type": "code",
   "execution_count": 65,
   "id": "9c9cdf0f",
   "metadata": {},
   "outputs": [],
   "source": [
    "# Obesity levels(Country)\n",
    "# Normal Probablity Plot"
   ]
  },
  {
   "cell_type": "code",
   "execution_count": 66,
   "id": "125027dd",
   "metadata": {},
   "outputs": [
    {
     "data": {
      "text/html": [
       "<div>\n",
       "<style scoped>\n",
       "    .dataframe tbody tr th:only-of-type {\n",
       "        vertical-align: middle;\n",
       "    }\n",
       "\n",
       "    .dataframe tbody tr th {\n",
       "        vertical-align: top;\n",
       "    }\n",
       "\n",
       "    .dataframe thead th {\n",
       "        text-align: right;\n",
       "    }\n",
       "</style>\n",
       "<table border=\"1\" class=\"dataframe\">\n",
       "  <thead>\n",
       "    <tr style=\"text-align: right;\">\n",
       "      <th></th>\n",
       "      <th>City</th>\n",
       "      <th>Rank</th>\n",
       "      <th>Sunshine hours(City)</th>\n",
       "      <th>water_cost</th>\n",
       "      <th>obesity_levels</th>\n",
       "      <th>life_expectancy</th>\n",
       "      <th>pollution</th>\n",
       "      <th>Annual avg. hours worked</th>\n",
       "      <th>Happiness levels(Country)</th>\n",
       "      <th>outdoor_activity</th>\n",
       "      <th>Number of take out places(City)</th>\n",
       "      <th>Cost of a monthly gym membership(City)</th>\n",
       "      <th>SunshinePerDay</th>\n",
       "      <th>WorkPerDay</th>\n",
       "    </tr>\n",
       "  </thead>\n",
       "  <tbody>\n",
       "    <tr>\n",
       "      <th>0</th>\n",
       "      <td>Amsterdam</td>\n",
       "      <td>1</td>\n",
       "      <td>1858.00000</td>\n",
       "      <td>2.51520</td>\n",
       "      <td>20.40000</td>\n",
       "      <td>81.20000</td>\n",
       "      <td>30.93000</td>\n",
       "      <td>1434.00000</td>\n",
       "      <td>7.44000</td>\n",
       "      <td>422</td>\n",
       "      <td>1048</td>\n",
       "      <td>45.71900</td>\n",
       "      <td>5.00000</td>\n",
       "      <td>4.00000</td>\n",
       "    </tr>\n",
       "    <tr>\n",
       "      <th>1</th>\n",
       "      <td>Sydney</td>\n",
       "      <td>2</td>\n",
       "      <td>2636.00000</td>\n",
       "      <td>1.93880</td>\n",
       "      <td>29.00000</td>\n",
       "      <td>82.10000</td>\n",
       "      <td>26.86000</td>\n",
       "      <td>1712.00000</td>\n",
       "      <td>7.22000</td>\n",
       "      <td>406</td>\n",
       "      <td>1103</td>\n",
       "      <td>54.57460</td>\n",
       "      <td>7.00000</td>\n",
       "      <td>5.00000</td>\n",
       "    </tr>\n",
       "    <tr>\n",
       "      <th>2</th>\n",
       "      <td>Vienna</td>\n",
       "      <td>3</td>\n",
       "      <td>1884.00000</td>\n",
       "      <td>2.54140</td>\n",
       "      <td>20.10000</td>\n",
       "      <td>81.00000</td>\n",
       "      <td>17.33000</td>\n",
       "      <td>1501.00000</td>\n",
       "      <td>7.29000</td>\n",
       "      <td>132</td>\n",
       "      <td>1008</td>\n",
       "      <td>33.71940</td>\n",
       "      <td>5.00000</td>\n",
       "      <td>4.00000</td>\n",
       "    </tr>\n",
       "    <tr>\n",
       "      <th>3</th>\n",
       "      <td>Stockholm</td>\n",
       "      <td>4</td>\n",
       "      <td>1821.00000</td>\n",
       "      <td>2.25320</td>\n",
       "      <td>20.60000</td>\n",
       "      <td>81.80000</td>\n",
       "      <td>19.63000</td>\n",
       "      <td>1452.00000</td>\n",
       "      <td>7.35000</td>\n",
       "      <td>129</td>\n",
       "      <td>598</td>\n",
       "      <td>48.87610</td>\n",
       "      <td>5.00000</td>\n",
       "      <td>4.00000</td>\n",
       "    </tr>\n",
       "    <tr>\n",
       "      <th>4</th>\n",
       "      <td>Copenhagen</td>\n",
       "      <td>5</td>\n",
       "      <td>1630.00000</td>\n",
       "      <td>2.86890</td>\n",
       "      <td>19.70000</td>\n",
       "      <td>79.80000</td>\n",
       "      <td>21.24000</td>\n",
       "      <td>1380.00000</td>\n",
       "      <td>7.64000</td>\n",
       "      <td>154</td>\n",
       "      <td>523</td>\n",
       "      <td>42.61430</td>\n",
       "      <td>5.00000</td>\n",
       "      <td>4.00000</td>\n",
       "    </tr>\n",
       "  </tbody>\n",
       "</table>\n",
       "</div>"
      ],
      "text/plain": [
       "         City  Rank  Sunshine hours(City)  water_cost  obesity_levels  \\\n",
       "0   Amsterdam     1            1858.00000     2.51520        20.40000   \n",
       "1      Sydney     2            2636.00000     1.93880        29.00000   \n",
       "2      Vienna     3            1884.00000     2.54140        20.10000   \n",
       "3   Stockholm     4            1821.00000     2.25320        20.60000   \n",
       "4  Copenhagen     5            1630.00000     2.86890        19.70000   \n",
       "\n",
       "   life_expectancy  pollution  Annual avg. hours worked  \\\n",
       "0         81.20000   30.93000                1434.00000   \n",
       "1         82.10000   26.86000                1712.00000   \n",
       "2         81.00000   17.33000                1501.00000   \n",
       "3         81.80000   19.63000                1452.00000   \n",
       "4         79.80000   21.24000                1380.00000   \n",
       "\n",
       "   Happiness levels(Country)  outdoor_activity  \\\n",
       "0                    7.44000               422   \n",
       "1                    7.22000               406   \n",
       "2                    7.29000               132   \n",
       "3                    7.35000               129   \n",
       "4                    7.64000               154   \n",
       "\n",
       "   Number of take out places(City)  Cost of a monthly gym membership(City)  \\\n",
       "0                             1048                                45.71900   \n",
       "1                             1103                                54.57460   \n",
       "2                             1008                                33.71940   \n",
       "3                              598                                48.87610   \n",
       "4                              523                                42.61430   \n",
       "\n",
       "   SunshinePerDay  WorkPerDay  \n",
       "0         5.00000     4.00000  \n",
       "1         7.00000     5.00000  \n",
       "2         5.00000     4.00000  \n",
       "3         5.00000     4.00000  \n",
       "4         5.00000     4.00000  "
      ]
     },
     "execution_count": 66,
     "metadata": {},
     "output_type": "execute_result"
    }
   ],
   "source": [
    "# remove outliers from obesity levels\n",
    "obesity_filtered = healthy_cleaned_df[healthy_cleaned_df['obesity_levels'] > 4.7]\n",
    "obesity_filtered.head()"
   ]
  },
  {
   "cell_type": "code",
   "execution_count": 67,
   "id": "6085de03",
   "metadata": {},
   "outputs": [
    {
     "data": {
      "text/plain": [
       "((array([-2.11583547, -1.7314906 , -1.50271646, -1.33321868, -1.19520249,\n",
       "         -1.07683093, -0.97189321, -0.87669641, -0.78885043, -0.70670905,\n",
       "         -0.62908229, -0.55507545, -0.48399287, -0.41527745, -0.34847074,\n",
       "         -0.28318561, -0.2190868 , -0.15587657, -0.09328369, -0.03105452,\n",
       "          0.03105452,  0.09328369,  0.15587657,  0.2190868 ,  0.28318561,\n",
       "          0.34847074,  0.41527745,  0.48399287,  0.55507545,  0.62908229,\n",
       "          0.70670905,  0.78885043,  0.87669641,  0.97189321,  1.07683093,\n",
       "          1.19520249,  1.33321868,  1.50271646,  1.7314906 ,  2.11583547]),\n",
       "  array([ 6.2,  6.2,  6.2,  6.2,  6.9, 10. , 19.5, 19.5, 19.7, 19.9, 20.1,\n",
       "         20.4, 20.6, 21.6, 22.1, 22.1, 22.2, 22.3, 22.3, 23.1, 23.8, 23.8,\n",
       "         25.3, 26.1, 27.8, 28.3, 28.3, 28.9, 29. , 29. , 29.4, 29.4, 32. ,\n",
       "         32.1, 36.2, 36.2, 36.2, 36.2, 36.2, 36.2])),\n",
       " (8.831800285405313, 23.6875, 0.9599328594932077))"
      ]
     },
     "execution_count": 67,
     "metadata": {},
     "output_type": "execute_result"
    },
    {
     "data": {
      "image/png": "[encoded data removed]",
      "text/plain": [
       "<Figure size 432x288 with 1 Axes>"
      ]
     },
     "metadata": {
      "needs_background": "light"
     },
     "output_type": "display_data"
    }
   ],
   "source": [
    "scipy.stats.probplot(obesity_filtered['obesity_levels'], dist=\"norm\", plot = plt)"
   ]
  },
  {
   "cell_type": "markdown",
   "id": "bd9a1317",
   "metadata": {},
   "source": [
    "The probability plot suggests that the distribution of Obesity weights does not really follow a normal distribution."
   ]
  },
  {
   "cell_type": "markdown",
   "id": "53755264",
   "metadata": {},
   "source": [
    "## Create 2 scatterplots comparing two variables and provide analysis on correlation and causation"
   ]
  },
  {
   "cell_type": "markdown",
   "id": "0510f0c4",
   "metadata": {},
   "source": [
    "### Is the obesity levels in a city related to the number of hours of sunshine?"
   ]
  },
  {
   "cell_type": "code",
   "execution_count": 68,
   "id": "9d4d2fb4",
   "metadata": {},
   "outputs": [
    {
     "data": {
      "text/html": [
       "<div>\n",
       "<style scoped>\n",
       "    .dataframe tbody tr th:only-of-type {\n",
       "        vertical-align: middle;\n",
       "    }\n",
       "\n",
       "    .dataframe tbody tr th {\n",
       "        vertical-align: top;\n",
       "    }\n",
       "\n",
       "    .dataframe thead th {\n",
       "        text-align: right;\n",
       "    }\n",
       "</style>\n",
       "<table border=\"1\" class=\"dataframe\">\n",
       "  <thead>\n",
       "    <tr style=\"text-align: right;\">\n",
       "      <th></th>\n",
       "      <th>City</th>\n",
       "      <th>Rank</th>\n",
       "      <th>Sunshine hours(City)</th>\n",
       "      <th>water_cost</th>\n",
       "      <th>obesity_levels</th>\n",
       "      <th>life_expectancy</th>\n",
       "      <th>pollution</th>\n",
       "      <th>Annual avg. hours worked</th>\n",
       "      <th>Happiness levels(Country)</th>\n",
       "      <th>outdoor_activity</th>\n",
       "      <th>Number of take out places(City)</th>\n",
       "      <th>Cost of a monthly gym membership(City)</th>\n",
       "      <th>SunshinePerDay</th>\n",
       "      <th>WorkPerDay</th>\n",
       "    </tr>\n",
       "  </thead>\n",
       "  <tbody>\n",
       "    <tr>\n",
       "      <th>0</th>\n",
       "      <td>Amsterdam</td>\n",
       "      <td>1</td>\n",
       "      <td>1858.00000</td>\n",
       "      <td>2.51520</td>\n",
       "      <td>20.40000</td>\n",
       "      <td>81.20000</td>\n",
       "      <td>30.93000</td>\n",
       "      <td>1434.00000</td>\n",
       "      <td>7.44000</td>\n",
       "      <td>422</td>\n",
       "      <td>1048</td>\n",
       "      <td>45.71900</td>\n",
       "      <td>5.00000</td>\n",
       "      <td>4.00000</td>\n",
       "    </tr>\n",
       "    <tr>\n",
       "      <th>1</th>\n",
       "      <td>Sydney</td>\n",
       "      <td>2</td>\n",
       "      <td>2636.00000</td>\n",
       "      <td>1.93880</td>\n",
       "      <td>29.00000</td>\n",
       "      <td>82.10000</td>\n",
       "      <td>26.86000</td>\n",
       "      <td>1712.00000</td>\n",
       "      <td>7.22000</td>\n",
       "      <td>406</td>\n",
       "      <td>1103</td>\n",
       "      <td>54.57460</td>\n",
       "      <td>7.00000</td>\n",
       "      <td>5.00000</td>\n",
       "    </tr>\n",
       "    <tr>\n",
       "      <th>2</th>\n",
       "      <td>Vienna</td>\n",
       "      <td>3</td>\n",
       "      <td>1884.00000</td>\n",
       "      <td>2.54140</td>\n",
       "      <td>20.10000</td>\n",
       "      <td>81.00000</td>\n",
       "      <td>17.33000</td>\n",
       "      <td>1501.00000</td>\n",
       "      <td>7.29000</td>\n",
       "      <td>132</td>\n",
       "      <td>1008</td>\n",
       "      <td>33.71940</td>\n",
       "      <td>5.00000</td>\n",
       "      <td>4.00000</td>\n",
       "    </tr>\n",
       "    <tr>\n",
       "      <th>3</th>\n",
       "      <td>Stockholm</td>\n",
       "      <td>4</td>\n",
       "      <td>1821.00000</td>\n",
       "      <td>2.25320</td>\n",
       "      <td>20.60000</td>\n",
       "      <td>81.80000</td>\n",
       "      <td>19.63000</td>\n",
       "      <td>1452.00000</td>\n",
       "      <td>7.35000</td>\n",
       "      <td>129</td>\n",
       "      <td>598</td>\n",
       "      <td>48.87610</td>\n",
       "      <td>5.00000</td>\n",
       "      <td>4.00000</td>\n",
       "    </tr>\n",
       "    <tr>\n",
       "      <th>4</th>\n",
       "      <td>Copenhagen</td>\n",
       "      <td>5</td>\n",
       "      <td>1630.00000</td>\n",
       "      <td>2.86890</td>\n",
       "      <td>19.70000</td>\n",
       "      <td>79.80000</td>\n",
       "      <td>21.24000</td>\n",
       "      <td>1380.00000</td>\n",
       "      <td>7.64000</td>\n",
       "      <td>154</td>\n",
       "      <td>523</td>\n",
       "      <td>42.61430</td>\n",
       "      <td>5.00000</td>\n",
       "      <td>4.00000</td>\n",
       "    </tr>\n",
       "  </tbody>\n",
       "</table>\n",
       "</div>"
      ],
      "text/plain": [
       "         City  Rank  Sunshine hours(City)  water_cost  obesity_levels  \\\n",
       "0   Amsterdam     1            1858.00000     2.51520        20.40000   \n",
       "1      Sydney     2            2636.00000     1.93880        29.00000   \n",
       "2      Vienna     3            1884.00000     2.54140        20.10000   \n",
       "3   Stockholm     4            1821.00000     2.25320        20.60000   \n",
       "4  Copenhagen     5            1630.00000     2.86890        19.70000   \n",
       "\n",
       "   life_expectancy  pollution  Annual avg. hours worked  \\\n",
       "0         81.20000   30.93000                1434.00000   \n",
       "1         82.10000   26.86000                1712.00000   \n",
       "2         81.00000   17.33000                1501.00000   \n",
       "3         81.80000   19.63000                1452.00000   \n",
       "4         79.80000   21.24000                1380.00000   \n",
       "\n",
       "   Happiness levels(Country)  outdoor_activity  \\\n",
       "0                    7.44000               422   \n",
       "1                    7.22000               406   \n",
       "2                    7.29000               132   \n",
       "3                    7.35000               129   \n",
       "4                    7.64000               154   \n",
       "\n",
       "   Number of take out places(City)  Cost of a monthly gym membership(City)  \\\n",
       "0                             1048                                45.71900   \n",
       "1                             1103                                54.57460   \n",
       "2                             1008                                33.71940   \n",
       "3                              598                                48.87610   \n",
       "4                              523                                42.61430   \n",
       "\n",
       "   SunshinePerDay  WorkPerDay  \n",
       "0         5.00000     4.00000  \n",
       "1         7.00000     5.00000  \n",
       "2         5.00000     4.00000  \n",
       "3         5.00000     4.00000  \n",
       "4         5.00000     4.00000  "
      ]
     },
     "execution_count": 68,
     "metadata": {},
     "output_type": "execute_result"
    }
   ],
   "source": [
    "# Remove Sunshine per Day hours less than 1\n",
    "sunshine_filtered = healthy_cleaned_df[healthy_cleaned_df['SunshinePerDay'] > 1]\n",
    "sunshine_filtered.head()"
   ]
  },
  {
   "cell_type": "code",
   "execution_count": 69,
   "id": "0016066d",
   "metadata": {},
   "outputs": [
    {
     "data": {
      "text/plain": [
       "<AxesSubplot:xlabel='obesity_levels', ylabel='SunshinePerDay'>"
      ]
     },
     "execution_count": 69,
     "metadata": {},
     "output_type": "execute_result"
    },
    {
     "data": {
      "image/png": "[encoded data removed]",
      "text/plain": [
       "<Figure size 432x288 with 1 Axes>"
      ]
     },
     "metadata": {
      "needs_background": "light"
     },
     "output_type": "display_data"
    }
   ],
   "source": [
    "sunshine_filtered.plot.scatter(x = 'obesity_levels', y = 'SunshinePerDay')"
   ]
  },
  {
   "cell_type": "code",
   "execution_count": 70,
   "id": "44d90a36",
   "metadata": {},
   "outputs": [
    {
     "data": {
      "text/plain": [
       "Text(0, 0.5, 'Hours of Sunshine per Day')"
      ]
     },
     "execution_count": 70,
     "metadata": {},
     "output_type": "execute_result"
    },
    {
     "data": {
      "image/png": "[encoded data removed]",
      "text/plain": [
       "<Figure size 432x288 with 1 Axes>"
      ]
     },
     "metadata": {
      "needs_background": "light"
     },
     "output_type": "display_data"
    }
   ],
   "source": [
    "# scatterplot with regression line\n",
    "plt.plot(sunshine_filtered['obesity_levels'], sunshine_filtered['SunshinePerDay'], 'o')\n",
    "m, b = np.polyfit(sunshine_filtered['obesity_levels'], sunshine_filtered['SunshinePerDay'], 1)\n",
    "\n",
    "plt.plot(sunshine_filtered['obesity_levels'], m * sunshine_filtered['obesity_levels'] + b)\n",
    "\n",
    "plt.xlabel(\"Obesity Levels\")\n",
    "plt.ylabel(\"Hours of Sunshine per Day\")"
   ]
  },
  {
   "cell_type": "markdown",
   "id": "0268a5a6",
   "metadata": {},
   "source": [
    "Looking at the scatterplot, it doesnt look like there is a correlation between obesity levels and the number of hours of sunshine per day a city has."
   ]
  },
  {
   "cell_type": "code",
   "execution_count": 71,
   "id": "86ca3264",
   "metadata": {},
   "outputs": [
    {
     "name": "stdout",
     "output_type": "stream",
     "text": [
      "Pearsons: (0.30530096045489086, 0.046501372852199206)\n"
     ]
    }
   ],
   "source": [
    "# Pearson's Correlation Coefficient\n",
    "\n",
    "healthy_pearson1 = scipy.stats.pearsonr(sunshine_filtered['obesity_levels'], sunshine_filtered['SunshinePerDay'])\n",
    "print(f\"Pearsons: {healthy_pearson1}\")"
   ]
  },
  {
   "cell_type": "code",
   "execution_count": 72,
   "id": "74fa0fa7",
   "metadata": {},
   "outputs": [
    {
     "data": {
      "text/plain": [
       "0.09320867645467883"
      ]
     },
     "execution_count": 72,
     "metadata": {},
     "output_type": "execute_result"
    }
   ],
   "source": [
    "# R squared\n",
    "healthy_pearson1[0]**2"
   ]
  },
  {
   "cell_type": "markdown",
   "id": "b8d8adbe",
   "metadata": {},
   "source": [
    "Looking at the coefficent and r-squared values, it suggests that there is no correlation between the number of hours of sunshine and obesity levels in a healthy city.  The p-value is significant."
   ]
  },
  {
   "cell_type": "markdown",
   "id": "94a93fd3",
   "metadata": {},
   "source": [
    "### Is the number of outdoor activities related to the cost of a bottle of water?"
   ]
  },
  {
   "cell_type": "code",
   "execution_count": 73,
   "id": "7b9ddfba",
   "metadata": {},
   "outputs": [
    {
     "data": {
      "text/html": [
       "<div>\n",
       "<style scoped>\n",
       "    .dataframe tbody tr th:only-of-type {\n",
       "        vertical-align: middle;\n",
       "    }\n",
       "\n",
       "    .dataframe tbody tr th {\n",
       "        vertical-align: top;\n",
       "    }\n",
       "\n",
       "    .dataframe thead th {\n",
       "        text-align: right;\n",
       "    }\n",
       "</style>\n",
       "<table border=\"1\" class=\"dataframe\">\n",
       "  <thead>\n",
       "    <tr style=\"text-align: right;\">\n",
       "      <th></th>\n",
       "      <th>City</th>\n",
       "      <th>Rank</th>\n",
       "      <th>Sunshine hours(City)</th>\n",
       "      <th>water_cost</th>\n",
       "      <th>obesity_levels</th>\n",
       "      <th>life_expectancy</th>\n",
       "      <th>pollution</th>\n",
       "      <th>Annual avg. hours worked</th>\n",
       "      <th>Happiness levels(Country)</th>\n",
       "      <th>outdoor_activity</th>\n",
       "      <th>Number of take out places(City)</th>\n",
       "      <th>Cost of a monthly gym membership(City)</th>\n",
       "      <th>SunshinePerDay</th>\n",
       "      <th>WorkPerDay</th>\n",
       "    </tr>\n",
       "  </thead>\n",
       "  <tbody>\n",
       "    <tr>\n",
       "      <th>0</th>\n",
       "      <td>Amsterdam</td>\n",
       "      <td>1</td>\n",
       "      <td>1858.00000</td>\n",
       "      <td>2.51520</td>\n",
       "      <td>20.40000</td>\n",
       "      <td>81.20000</td>\n",
       "      <td>30.93000</td>\n",
       "      <td>1434.00000</td>\n",
       "      <td>7.44000</td>\n",
       "      <td>422</td>\n",
       "      <td>1048</td>\n",
       "      <td>45.71900</td>\n",
       "      <td>5.00000</td>\n",
       "      <td>4.00000</td>\n",
       "    </tr>\n",
       "    <tr>\n",
       "      <th>1</th>\n",
       "      <td>Sydney</td>\n",
       "      <td>2</td>\n",
       "      <td>2636.00000</td>\n",
       "      <td>1.93880</td>\n",
       "      <td>29.00000</td>\n",
       "      <td>82.10000</td>\n",
       "      <td>26.86000</td>\n",
       "      <td>1712.00000</td>\n",
       "      <td>7.22000</td>\n",
       "      <td>406</td>\n",
       "      <td>1103</td>\n",
       "      <td>54.57460</td>\n",
       "      <td>7.00000</td>\n",
       "      <td>5.00000</td>\n",
       "    </tr>\n",
       "    <tr>\n",
       "      <th>2</th>\n",
       "      <td>Vienna</td>\n",
       "      <td>3</td>\n",
       "      <td>1884.00000</td>\n",
       "      <td>2.54140</td>\n",
       "      <td>20.10000</td>\n",
       "      <td>81.00000</td>\n",
       "      <td>17.33000</td>\n",
       "      <td>1501.00000</td>\n",
       "      <td>7.29000</td>\n",
       "      <td>132</td>\n",
       "      <td>1008</td>\n",
       "      <td>33.71940</td>\n",
       "      <td>5.00000</td>\n",
       "      <td>4.00000</td>\n",
       "    </tr>\n",
       "    <tr>\n",
       "      <th>3</th>\n",
       "      <td>Stockholm</td>\n",
       "      <td>4</td>\n",
       "      <td>1821.00000</td>\n",
       "      <td>2.25320</td>\n",
       "      <td>20.60000</td>\n",
       "      <td>81.80000</td>\n",
       "      <td>19.63000</td>\n",
       "      <td>1452.00000</td>\n",
       "      <td>7.35000</td>\n",
       "      <td>129</td>\n",
       "      <td>598</td>\n",
       "      <td>48.87610</td>\n",
       "      <td>5.00000</td>\n",
       "      <td>4.00000</td>\n",
       "    </tr>\n",
       "    <tr>\n",
       "      <th>4</th>\n",
       "      <td>Copenhagen</td>\n",
       "      <td>5</td>\n",
       "      <td>1630.00000</td>\n",
       "      <td>2.86890</td>\n",
       "      <td>19.70000</td>\n",
       "      <td>79.80000</td>\n",
       "      <td>21.24000</td>\n",
       "      <td>1380.00000</td>\n",
       "      <td>7.64000</td>\n",
       "      <td>154</td>\n",
       "      <td>523</td>\n",
       "      <td>42.61430</td>\n",
       "      <td>5.00000</td>\n",
       "      <td>4.00000</td>\n",
       "    </tr>\n",
       "  </tbody>\n",
       "</table>\n",
       "</div>"
      ],
      "text/plain": [
       "         City  Rank  Sunshine hours(City)  water_cost  obesity_levels  \\\n",
       "0   Amsterdam     1            1858.00000     2.51520        20.40000   \n",
       "1      Sydney     2            2636.00000     1.93880        29.00000   \n",
       "2      Vienna     3            1884.00000     2.54140        20.10000   \n",
       "3   Stockholm     4            1821.00000     2.25320        20.60000   \n",
       "4  Copenhagen     5            1630.00000     2.86890        19.70000   \n",
       "\n",
       "   life_expectancy  pollution  Annual avg. hours worked  \\\n",
       "0         81.20000   30.93000                1434.00000   \n",
       "1         82.10000   26.86000                1712.00000   \n",
       "2         81.00000   17.33000                1501.00000   \n",
       "3         81.80000   19.63000                1452.00000   \n",
       "4         79.80000   21.24000                1380.00000   \n",
       "\n",
       "   Happiness levels(Country)  outdoor_activity  \\\n",
       "0                    7.44000               422   \n",
       "1                    7.22000               406   \n",
       "2                    7.29000               132   \n",
       "3                    7.35000               129   \n",
       "4                    7.64000               154   \n",
       "\n",
       "   Number of take out places(City)  Cost of a monthly gym membership(City)  \\\n",
       "0                             1048                                45.71900   \n",
       "1                             1103                                54.57460   \n",
       "2                             1008                                33.71940   \n",
       "3                              598                                48.87610   \n",
       "4                              523                                42.61430   \n",
       "\n",
       "   SunshinePerDay  WorkPerDay  \n",
       "0         5.00000     4.00000  \n",
       "1         7.00000     5.00000  \n",
       "2         5.00000     4.00000  \n",
       "3         5.00000     4.00000  \n",
       "4         5.00000     4.00000  "
      ]
     },
     "execution_count": 73,
     "metadata": {},
     "output_type": "execute_result"
    }
   ],
   "source": [
    "# Remove Water Cost > $4.00 and number of activities > 580\n",
    "filtered_1 = healthy_cleaned_df[healthy_cleaned_df['water_cost'] < 4]\n",
    "filtered_1 = healthy_cleaned_df[healthy_cleaned_df['outdoor_activity'] < 580]\n",
    "filtered_1.head()"
   ]
  },
  {
   "cell_type": "code",
   "execution_count": 74,
   "id": "66b471f9",
   "metadata": {},
   "outputs": [
    {
     "data": {
      "text/plain": [
       "<AxesSubplot:xlabel='water_cost', ylabel='outdoor_activity'>"
      ]
     },
     "execution_count": 74,
     "metadata": {},
     "output_type": "execute_result"
    },
    {
     "data": {
      "image/png": "[encoded data removed]",
      "text/plain": [
       "<Figure size 432x288 with 1 Axes>"
      ]
     },
     "metadata": {
      "needs_background": "light"
     },
     "output_type": "display_data"
    }
   ],
   "source": [
    "filtered_1.plot.scatter(x = 'water_cost', y = 'outdoor_activity')"
   ]
  },
  {
   "cell_type": "code",
   "execution_count": 75,
   "id": "eaa2166c",
   "metadata": {},
   "outputs": [
    {
     "data": {
      "text/plain": [
       "Text(0, 0.5, 'Number of Outdoor Activities')"
      ]
     },
     "execution_count": 75,
     "metadata": {},
     "output_type": "execute_result"
    },
    {
     "data": {
      "image/png": "[encoded data removed]",
      "text/plain": [
       "<Figure size 432x288 with 1 Axes>"
      ]
     },
     "metadata": {
      "needs_background": "light"
     },
     "output_type": "display_data"
    }
   ],
   "source": [
    "# scatterplot with regression line\n",
    "plt.plot(filtered_1['water_cost'], filtered_1['outdoor_activity'], 'o')\n",
    "m, b = np.polyfit(filtered_1['water_cost'], filtered_1['outdoor_activity'], 1)\n",
    "\n",
    "plt.plot(filtered_1['water_cost'], m * filtered_1['water_cost'] + b)\n",
    "\n",
    "plt.xlabel(\"Water Cost (US $)\")\n",
    "plt.ylabel(\"Number of Outdoor Activities\")"
   ]
  },
  {
   "cell_type": "code",
   "execution_count": 76,
   "id": "3e3a7128",
   "metadata": {},
   "outputs": [
    {
     "name": "stdout",
     "output_type": "stream",
     "text": [
      "Pearsons: (-0.29327152526484096, 0.056307833686462465)\n"
     ]
    }
   ],
   "source": [
    "# Pearson's Correlation Coefficient\n",
    "\n",
    "healthy_pearson2 = scipy.stats.pearsonr(filtered_1['water_cost'], \n",
    "                                       filtered_1['outdoor_activity'])\n",
    "print(f\"Pearsons: {healthy_pearson2}\")"
   ]
  },
  {
   "cell_type": "markdown",
   "id": "f9357973",
   "metadata": {},
   "source": [
    "Looking at the coefficent and r-squared values, it suggests that there is no correlation between the cost of a bottle of water and the number of outdoor activities in a healthy city.  The p-value is significant."
   ]
  },
  {
   "cell_type": "code",
   "execution_count": 77,
   "id": "e45285dc",
   "metadata": {},
   "outputs": [
    {
     "data": {
      "text/plain": [
       "0.08600818753116625"
      ]
     },
     "execution_count": 77,
     "metadata": {},
     "output_type": "execute_result"
    }
   ],
   "source": [
    "# R squared\n",
    "healthy_pearson2[0]**2"
   ]
  },
  {
   "cell_type": "markdown",
   "id": "a5e5220b",
   "metadata": {},
   "source": [
    "### Conduct a test on your hypothesis"
   ]
  },
  {
   "cell_type": "markdown",
   "id": "3c7722b4",
   "metadata": {},
   "source": [
    "### Hypothesis:\n",
    "\n",
    "Distributions between obesity levels for 5 hours of sunshine and rest are the same"
   ]
  },
  {
   "cell_type": "code",
   "execution_count": 78,
   "id": "a2f13fdb",
   "metadata": {},
   "outputs": [
    {
     "data": {
      "text/plain": [
       "count   15.00000\n",
       "mean    19.07333\n",
       "std      7.52097\n",
       "min      4.30000\n",
       "25%     19.80000\n",
       "50%     20.60000\n",
       "75%     22.30000\n",
       "max     29.40000\n",
       "Name: obesity_levels, dtype: float64"
      ]
     },
     "execution_count": 78,
     "metadata": {},
     "output_type": "execute_result"
    }
   ],
   "source": [
    "obesity_hours5['obesity_levels'].describe()"
   ]
  },
  {
   "cell_type": "code",
   "execution_count": 79,
   "id": "211ddded",
   "metadata": {},
   "outputs": [
    {
     "data": {
      "text/plain": [
       "count   28.00000\n",
       "mean    23.53929\n",
       "std     11.34833\n",
       "min      3.90000\n",
       "25%     17.12500\n",
       "50%     27.20000\n",
       "75%     32.02500\n",
       "max     36.20000\n",
       "Name: obesity_levels, dtype: float64"
      ]
     },
     "execution_count": 79,
     "metadata": {},
     "output_type": "execute_result"
    }
   ],
   "source": [
    "obesity_rest['obesity_levels'].describe()"
   ]
  },
  {
   "cell_type": "code",
   "execution_count": 80,
   "id": "0173145b",
   "metadata": {},
   "outputs": [
    {
     "data": {
      "text/plain": [
       "Ttest_indResult(statistic=-1.3678184807504605, pvalue=0.1788197915489945)"
      ]
     },
     "execution_count": 80,
     "metadata": {},
     "output_type": "execute_result"
    }
   ],
   "source": [
    "scipy.stats.ttest_ind(obesity_hours5['obesity_levels'], obesity_rest['obesity_levels'], equal_var = True)"
   ]
  },
  {
   "cell_type": "markdown",
   "id": "09aae2c0",
   "metadata": {},
   "source": [
    "## Regression"
   ]
  },
  {
   "cell_type": "markdown",
   "id": "adefea81",
   "metadata": {},
   "source": [
    "Test each of the chosen variables helps determine obesity levels in a healthy city"
   ]
  },
  {
   "cell_type": "code",
   "execution_count": 81,
   "id": "d69c1b70",
   "metadata": {},
   "outputs": [
    {
     "data": {
      "text/html": [
       "<div>\n",
       "<style scoped>\n",
       "    .dataframe tbody tr th:only-of-type {\n",
       "        vertical-align: middle;\n",
       "    }\n",
       "\n",
       "    .dataframe tbody tr th {\n",
       "        vertical-align: top;\n",
       "    }\n",
       "\n",
       "    .dataframe thead th {\n",
       "        text-align: right;\n",
       "    }\n",
       "</style>\n",
       "<table border=\"1\" class=\"dataframe\">\n",
       "  <thead>\n",
       "    <tr style=\"text-align: right;\">\n",
       "      <th></th>\n",
       "      <th>City</th>\n",
       "      <th>Rank</th>\n",
       "      <th>Sunshine hours(City)</th>\n",
       "      <th>water_cost</th>\n",
       "      <th>obesity_levels</th>\n",
       "      <th>life_expectancy</th>\n",
       "      <th>pollution</th>\n",
       "      <th>Annual avg. hours worked</th>\n",
       "      <th>Happiness levels(Country)</th>\n",
       "      <th>outdoor_activity</th>\n",
       "      <th>Number of take out places(City)</th>\n",
       "      <th>Cost of a monthly gym membership(City)</th>\n",
       "      <th>SunshinePerDay</th>\n",
       "      <th>WorkPerDay</th>\n",
       "    </tr>\n",
       "  </thead>\n",
       "  <tbody>\n",
       "    <tr>\n",
       "      <th>0</th>\n",
       "      <td>Amsterdam</td>\n",
       "      <td>1</td>\n",
       "      <td>1858.00000</td>\n",
       "      <td>2.51520</td>\n",
       "      <td>20.40000</td>\n",
       "      <td>81.20000</td>\n",
       "      <td>30.93000</td>\n",
       "      <td>1434.00000</td>\n",
       "      <td>7.44000</td>\n",
       "      <td>422</td>\n",
       "      <td>1048</td>\n",
       "      <td>45.71900</td>\n",
       "      <td>5.00000</td>\n",
       "      <td>4.00000</td>\n",
       "    </tr>\n",
       "    <tr>\n",
       "      <th>1</th>\n",
       "      <td>Sydney</td>\n",
       "      <td>2</td>\n",
       "      <td>2636.00000</td>\n",
       "      <td>1.93880</td>\n",
       "      <td>29.00000</td>\n",
       "      <td>82.10000</td>\n",
       "      <td>26.86000</td>\n",
       "      <td>1712.00000</td>\n",
       "      <td>7.22000</td>\n",
       "      <td>406</td>\n",
       "      <td>1103</td>\n",
       "      <td>54.57460</td>\n",
       "      <td>7.00000</td>\n",
       "      <td>5.00000</td>\n",
       "    </tr>\n",
       "    <tr>\n",
       "      <th>2</th>\n",
       "      <td>Vienna</td>\n",
       "      <td>3</td>\n",
       "      <td>1884.00000</td>\n",
       "      <td>2.54140</td>\n",
       "      <td>20.10000</td>\n",
       "      <td>81.00000</td>\n",
       "      <td>17.33000</td>\n",
       "      <td>1501.00000</td>\n",
       "      <td>7.29000</td>\n",
       "      <td>132</td>\n",
       "      <td>1008</td>\n",
       "      <td>33.71940</td>\n",
       "      <td>5.00000</td>\n",
       "      <td>4.00000</td>\n",
       "    </tr>\n",
       "    <tr>\n",
       "      <th>3</th>\n",
       "      <td>Stockholm</td>\n",
       "      <td>4</td>\n",
       "      <td>1821.00000</td>\n",
       "      <td>2.25320</td>\n",
       "      <td>20.60000</td>\n",
       "      <td>81.80000</td>\n",
       "      <td>19.63000</td>\n",
       "      <td>1452.00000</td>\n",
       "      <td>7.35000</td>\n",
       "      <td>129</td>\n",
       "      <td>598</td>\n",
       "      <td>48.87610</td>\n",
       "      <td>5.00000</td>\n",
       "      <td>4.00000</td>\n",
       "    </tr>\n",
       "    <tr>\n",
       "      <th>4</th>\n",
       "      <td>Copenhagen</td>\n",
       "      <td>5</td>\n",
       "      <td>1630.00000</td>\n",
       "      <td>2.86890</td>\n",
       "      <td>19.70000</td>\n",
       "      <td>79.80000</td>\n",
       "      <td>21.24000</td>\n",
       "      <td>1380.00000</td>\n",
       "      <td>7.64000</td>\n",
       "      <td>154</td>\n",
       "      <td>523</td>\n",
       "      <td>42.61430</td>\n",
       "      <td>5.00000</td>\n",
       "      <td>4.00000</td>\n",
       "    </tr>\n",
       "  </tbody>\n",
       "</table>\n",
       "</div>"
      ],
      "text/plain": [
       "         City  Rank  Sunshine hours(City)  water_cost  obesity_levels  \\\n",
       "0   Amsterdam     1            1858.00000     2.51520        20.40000   \n",
       "1      Sydney     2            2636.00000     1.93880        29.00000   \n",
       "2      Vienna     3            1884.00000     2.54140        20.10000   \n",
       "3   Stockholm     4            1821.00000     2.25320        20.60000   \n",
       "4  Copenhagen     5            1630.00000     2.86890        19.70000   \n",
       "\n",
       "   life_expectancy  pollution  Annual avg. hours worked  \\\n",
       "0         81.20000   30.93000                1434.00000   \n",
       "1         82.10000   26.86000                1712.00000   \n",
       "2         81.00000   17.33000                1501.00000   \n",
       "3         81.80000   19.63000                1452.00000   \n",
       "4         79.80000   21.24000                1380.00000   \n",
       "\n",
       "   Happiness levels(Country)  outdoor_activity  \\\n",
       "0                    7.44000               422   \n",
       "1                    7.22000               406   \n",
       "2                    7.29000               132   \n",
       "3                    7.35000               129   \n",
       "4                    7.64000               154   \n",
       "\n",
       "   Number of take out places(City)  Cost of a monthly gym membership(City)  \\\n",
       "0                             1048                                45.71900   \n",
       "1                             1103                                54.57460   \n",
       "2                             1008                                33.71940   \n",
       "3                              598                                48.87610   \n",
       "4                              523                                42.61430   \n",
       "\n",
       "   SunshinePerDay  WorkPerDay  \n",
       "0         5.00000     4.00000  \n",
       "1         7.00000     5.00000  \n",
       "2         5.00000     4.00000  \n",
       "3         5.00000     4.00000  \n",
       "4         5.00000     4.00000  "
      ]
     },
     "execution_count": 81,
     "metadata": {},
     "output_type": "execute_result"
    }
   ],
   "source": [
    "# Remove Outliers: number of activities > 580, sunshine per day < 1, water cost > 4\n",
    "filtered = healthy_cleaned_df[healthy_cleaned_df['outdoor_activity'] < 580]\n",
    "filtered = healthy_cleaned_df[healthy_cleaned_df['SunshinePerDay'] > 1]\n",
    "filtered = healthy_cleaned_df[healthy_cleaned_df['water_cost'] < 4]\n",
    "\n",
    "filtered.head()"
   ]
  },
  {
   "cell_type": "code",
   "execution_count": 82,
   "id": "d15ee21d",
   "metadata": {},
   "outputs": [
    {
     "data": {
      "text/html": [
       "<table class=\"simpletable\">\n",
       "<caption>OLS Regression Results</caption>\n",
       "<tr>\n",
       "  <th>Dep. Variable:</th>     <td>obesity_levels</td>  <th>  R-squared:         </th> <td>   0.227</td>\n",
       "</tr>\n",
       "<tr>\n",
       "  <th>Model:</th>                   <td>OLS</td>       <th>  Adj. R-squared:    </th> <td>   0.208</td>\n",
       "</tr>\n",
       "<tr>\n",
       "  <th>Method:</th>             <td>Least Squares</td>  <th>  F-statistic:       </th> <td>   12.06</td>\n",
       "</tr>\n",
       "<tr>\n",
       "  <th>Date:</th>             <td>Tue, 31 May 2022</td> <th>  Prob (F-statistic):</th>  <td>0.00123</td>\n",
       "</tr>\n",
       "<tr>\n",
       "  <th>Time:</th>                 <td>19:05:56</td>     <th>  Log-Likelihood:    </th> <td> -155.29</td>\n",
       "</tr>\n",
       "<tr>\n",
       "  <th>No. Observations:</th>      <td>    43</td>      <th>  AIC:               </th> <td>   314.6</td>\n",
       "</tr>\n",
       "<tr>\n",
       "  <th>Df Residuals:</th>          <td>    41</td>      <th>  BIC:               </th> <td>   318.1</td>\n",
       "</tr>\n",
       "<tr>\n",
       "  <th>Df Model:</th>              <td>     1</td>      <th>                     </th>     <td> </td>   \n",
       "</tr>\n",
       "<tr>\n",
       "  <th>Covariance Type:</th>      <td>nonrobust</td>    <th>                     </th>     <td> </td>   \n",
       "</tr>\n",
       "</table>\n",
       "<table class=\"simpletable\">\n",
       "<tr>\n",
       "       <td></td>         <th>coef</th>     <th>std err</th>      <th>t</th>      <th>P>|t|</th>  <th>[0.025</th>    <th>0.975]</th>  \n",
       "</tr>\n",
       "<tr>\n",
       "  <th>Intercept</th>  <td>   13.8938</td> <td>    2.717</td> <td>    5.114</td> <td> 0.000</td> <td>    8.407</td> <td>   19.380</td>\n",
       "</tr>\n",
       "<tr>\n",
       "  <th>WorkPerDay</th> <td>    2.3184</td> <td>    0.668</td> <td>    3.473</td> <td> 0.001</td> <td>    0.970</td> <td>    3.667</td>\n",
       "</tr>\n",
       "</table>\n",
       "<table class=\"simpletable\">\n",
       "<tr>\n",
       "  <th>Omnibus:</th>       <td> 1.781</td> <th>  Durbin-Watson:     </th> <td>   2.184</td>\n",
       "</tr>\n",
       "<tr>\n",
       "  <th>Prob(Omnibus):</th> <td> 0.410</td> <th>  Jarque-Bera (JB):  </th> <td>   1.040</td>\n",
       "</tr>\n",
       "<tr>\n",
       "  <th>Skew:</th>          <td>-0.361</td> <th>  Prob(JB):          </th> <td>   0.595</td>\n",
       "</tr>\n",
       "<tr>\n",
       "  <th>Kurtosis:</th>      <td> 3.246</td> <th>  Cond. No.          </th> <td>    8.26</td>\n",
       "</tr>\n",
       "</table><br/><br/>Notes:<br/>[1] Standard Errors assume that the covariance matrix of the errors is correctly specified."
      ],
      "text/plain": [
       "<class 'statsmodels.iolib.summary.Summary'>\n",
       "\"\"\"\n",
       "                            OLS Regression Results                            \n",
       "==============================================================================\n",
       "Dep. Variable:         obesity_levels   R-squared:                       0.227\n",
       "Model:                            OLS   Adj. R-squared:                  0.208\n",
       "Method:                 Least Squares   F-statistic:                     12.06\n",
       "Date:                Tue, 31 May 2022   Prob (F-statistic):            0.00123\n",
       "Time:                        19:05:56   Log-Likelihood:                -155.29\n",
       "No. Observations:                  43   AIC:                             314.6\n",
       "Df Residuals:                      41   BIC:                             318.1\n",
       "Df Model:                           1                                         \n",
       "Covariance Type:            nonrobust                                         \n",
       "==============================================================================\n",
       "                 coef    std err          t      P>|t|      [0.025      0.975]\n",
       "------------------------------------------------------------------------------\n",
       "Intercept     13.8938      2.717      5.114      0.000       8.407      19.380\n",
       "WorkPerDay     2.3184      0.668      3.473      0.001       0.970       3.667\n",
       "==============================================================================\n",
       "Omnibus:                        1.781   Durbin-Watson:                   2.184\n",
       "Prob(Omnibus):                  0.410   Jarque-Bera (JB):                1.040\n",
       "Skew:                          -0.361   Prob(JB):                        0.595\n",
       "Kurtosis:                       3.246   Cond. No.                         8.26\n",
       "==============================================================================\n",
       "\n",
       "Notes:\n",
       "[1] Standard Errors assume that the covariance matrix of the errors is correctly specified.\n",
       "\"\"\""
      ]
     },
     "execution_count": 82,
     "metadata": {},
     "output_type": "execute_result"
    }
   ],
   "source": [
    "# Average Hours Worked per Day per City\n",
    "results_work = smf.ols('obesity_levels ~ WorkPerDay', data = filtered).fit()\n",
    "results_work.summary()"
   ]
  },
  {
   "cell_type": "code",
   "execution_count": 83,
   "id": "e0b01e22",
   "metadata": {},
   "outputs": [
    {
     "data": {
      "text/html": [
       "<table class=\"simpletable\">\n",
       "<caption>OLS Regression Results</caption>\n",
       "<tr>\n",
       "  <th>Dep. Variable:</th>     <td>obesity_levels</td>  <th>  R-squared:         </th> <td>   0.077</td>\n",
       "</tr>\n",
       "<tr>\n",
       "  <th>Model:</th>                   <td>OLS</td>       <th>  Adj. R-squared:    </th> <td>   0.055</td>\n",
       "</tr>\n",
       "<tr>\n",
       "  <th>Method:</th>             <td>Least Squares</td>  <th>  F-statistic:       </th> <td>   3.436</td>\n",
       "</tr>\n",
       "<tr>\n",
       "  <th>Date:</th>             <td>Tue, 31 May 2022</td> <th>  Prob (F-statistic):</th>  <td>0.0710</td> \n",
       "</tr>\n",
       "<tr>\n",
       "  <th>Time:</th>                 <td>19:05:57</td>     <th>  Log-Likelihood:    </th> <td> -159.10</td>\n",
       "</tr>\n",
       "<tr>\n",
       "  <th>No. Observations:</th>      <td>    43</td>      <th>  AIC:               </th> <td>   322.2</td>\n",
       "</tr>\n",
       "<tr>\n",
       "  <th>Df Residuals:</th>          <td>    41</td>      <th>  BIC:               </th> <td>   325.7</td>\n",
       "</tr>\n",
       "<tr>\n",
       "  <th>Df Model:</th>              <td>     1</td>      <th>                     </th>     <td> </td>   \n",
       "</tr>\n",
       "<tr>\n",
       "  <th>Covariance Type:</th>      <td>nonrobust</td>    <th>                     </th>     <td> </td>   \n",
       "</tr>\n",
       "</table>\n",
       "<table class=\"simpletable\">\n",
       "<tr>\n",
       "         <td></td>           <th>coef</th>     <th>std err</th>      <th>t</th>      <th>P>|t|</th>  <th>[0.025</th>    <th>0.975]</th>  \n",
       "</tr>\n",
       "<tr>\n",
       "  <th>Intercept</th>      <td>   12.2303</td> <td>    5.478</td> <td>    2.232</td> <td> 0.031</td> <td>    1.167</td> <td>   23.294</td>\n",
       "</tr>\n",
       "<tr>\n",
       "  <th>SunshinePerDay</th> <td>    1.5823</td> <td>    0.854</td> <td>    1.854</td> <td> 0.071</td> <td>   -0.142</td> <td>    3.306</td>\n",
       "</tr>\n",
       "</table>\n",
       "<table class=\"simpletable\">\n",
       "<tr>\n",
       "  <th>Omnibus:</th>       <td> 5.044</td> <th>  Durbin-Watson:     </th> <td>   2.079</td>\n",
       "</tr>\n",
       "<tr>\n",
       "  <th>Prob(Omnibus):</th> <td> 0.080</td> <th>  Jarque-Bera (JB):  </th> <td>   4.765</td>\n",
       "</tr>\n",
       "<tr>\n",
       "  <th>Skew:</th>          <td>-0.761</td> <th>  Prob(JB):          </th> <td>  0.0923</td>\n",
       "</tr>\n",
       "<tr>\n",
       "  <th>Kurtosis:</th>      <td> 2.414</td> <th>  Cond. No.          </th> <td>    23.5</td>\n",
       "</tr>\n",
       "</table><br/><br/>Notes:<br/>[1] Standard Errors assume that the covariance matrix of the errors is correctly specified."
      ],
      "text/plain": [
       "<class 'statsmodels.iolib.summary.Summary'>\n",
       "\"\"\"\n",
       "                            OLS Regression Results                            \n",
       "==============================================================================\n",
       "Dep. Variable:         obesity_levels   R-squared:                       0.077\n",
       "Model:                            OLS   Adj. R-squared:                  0.055\n",
       "Method:                 Least Squares   F-statistic:                     3.436\n",
       "Date:                Tue, 31 May 2022   Prob (F-statistic):             0.0710\n",
       "Time:                        19:05:57   Log-Likelihood:                -159.10\n",
       "No. Observations:                  43   AIC:                             322.2\n",
       "Df Residuals:                      41   BIC:                             325.7\n",
       "Df Model:                           1                                         \n",
       "Covariance Type:            nonrobust                                         \n",
       "==================================================================================\n",
       "                     coef    std err          t      P>|t|      [0.025      0.975]\n",
       "----------------------------------------------------------------------------------\n",
       "Intercept         12.2303      5.478      2.232      0.031       1.167      23.294\n",
       "SunshinePerDay     1.5823      0.854      1.854      0.071      -0.142       3.306\n",
       "==============================================================================\n",
       "Omnibus:                        5.044   Durbin-Watson:                   2.079\n",
       "Prob(Omnibus):                  0.080   Jarque-Bera (JB):                4.765\n",
       "Skew:                          -0.761   Prob(JB):                       0.0923\n",
       "Kurtosis:                       2.414   Cond. No.                         23.5\n",
       "==============================================================================\n",
       "\n",
       "Notes:\n",
       "[1] Standard Errors assume that the covariance matrix of the errors is correctly specified.\n",
       "\"\"\""
      ]
     },
     "execution_count": 83,
     "metadata": {},
     "output_type": "execute_result"
    }
   ],
   "source": [
    "# Average Hours of Sunshine per Day per City\n",
    "results_sunshine = smf.ols('obesity_levels ~ SunshinePerDay', \n",
    "                  data = filtered).fit()\n",
    "results_sunshine.summary()"
   ]
  },
  {
   "cell_type": "code",
   "execution_count": 84,
   "id": "1b1920fd",
   "metadata": {},
   "outputs": [
    {
     "data": {
      "text/html": [
       "<table class=\"simpletable\">\n",
       "<caption>OLS Regression Results</caption>\n",
       "<tr>\n",
       "  <th>Dep. Variable:</th>     <td>obesity_levels</td>  <th>  R-squared:         </th> <td>   0.118</td>\n",
       "</tr>\n",
       "<tr>\n",
       "  <th>Model:</th>                   <td>OLS</td>       <th>  Adj. R-squared:    </th> <td>   0.096</td>\n",
       "</tr>\n",
       "<tr>\n",
       "  <th>Method:</th>             <td>Least Squares</td>  <th>  F-statistic:       </th> <td>   5.482</td>\n",
       "</tr>\n",
       "<tr>\n",
       "  <th>Date:</th>             <td>Tue, 31 May 2022</td> <th>  Prob (F-statistic):</th>  <td>0.0242</td> \n",
       "</tr>\n",
       "<tr>\n",
       "  <th>Time:</th>                 <td>19:05:57</td>     <th>  Log-Likelihood:    </th> <td> -158.13</td>\n",
       "</tr>\n",
       "<tr>\n",
       "  <th>No. Observations:</th>      <td>    43</td>      <th>  AIC:               </th> <td>   320.3</td>\n",
       "</tr>\n",
       "<tr>\n",
       "  <th>Df Residuals:</th>          <td>    41</td>      <th>  BIC:               </th> <td>   323.8</td>\n",
       "</tr>\n",
       "<tr>\n",
       "  <th>Df Model:</th>              <td>     1</td>      <th>                     </th>     <td> </td>   \n",
       "</tr>\n",
       "<tr>\n",
       "  <th>Covariance Type:</th>      <td>nonrobust</td>    <th>                     </th>     <td> </td>   \n",
       "</tr>\n",
       "</table>\n",
       "<table class=\"simpletable\">\n",
       "<tr>\n",
       "       <td></td>         <th>coef</th>     <th>std err</th>      <th>t</th>      <th>P>|t|</th>  <th>[0.025</th>    <th>0.975]</th>  \n",
       "</tr>\n",
       "<tr>\n",
       "  <th>Intercept</th>  <td>   15.8912</td> <td>    3.000</td> <td>    5.297</td> <td> 0.000</td> <td>    9.833</td> <td>   21.950</td>\n",
       "</tr>\n",
       "<tr>\n",
       "  <th>water_cost</th> <td>    4.1277</td> <td>    1.763</td> <td>    2.341</td> <td> 0.024</td> <td>    0.567</td> <td>    7.688</td>\n",
       "</tr>\n",
       "</table>\n",
       "<table class=\"simpletable\">\n",
       "<tr>\n",
       "  <th>Omnibus:</th>       <td>12.007</td> <th>  Durbin-Watson:     </th> <td>   1.983</td>\n",
       "</tr>\n",
       "<tr>\n",
       "  <th>Prob(Omnibus):</th> <td> 0.002</td> <th>  Jarque-Bera (JB):  </th> <td>   2.869</td>\n",
       "</tr>\n",
       "<tr>\n",
       "  <th>Skew:</th>          <td>-0.016</td> <th>  Prob(JB):          </th> <td>   0.238</td>\n",
       "</tr>\n",
       "<tr>\n",
       "  <th>Kurtosis:</th>      <td> 1.735</td> <th>  Cond. No.          </th> <td>    4.37</td>\n",
       "</tr>\n",
       "</table><br/><br/>Notes:<br/>[1] Standard Errors assume that the covariance matrix of the errors is correctly specified."
      ],
      "text/plain": [
       "<class 'statsmodels.iolib.summary.Summary'>\n",
       "\"\"\"\n",
       "                            OLS Regression Results                            \n",
       "==============================================================================\n",
       "Dep. Variable:         obesity_levels   R-squared:                       0.118\n",
       "Model:                            OLS   Adj. R-squared:                  0.096\n",
       "Method:                 Least Squares   F-statistic:                     5.482\n",
       "Date:                Tue, 31 May 2022   Prob (F-statistic):             0.0242\n",
       "Time:                        19:05:57   Log-Likelihood:                -158.13\n",
       "No. Observations:                  43   AIC:                             320.3\n",
       "Df Residuals:                      41   BIC:                             323.8\n",
       "Df Model:                           1                                         \n",
       "Covariance Type:            nonrobust                                         \n",
       "==============================================================================\n",
       "                 coef    std err          t      P>|t|      [0.025      0.975]\n",
       "------------------------------------------------------------------------------\n",
       "Intercept     15.8912      3.000      5.297      0.000       9.833      21.950\n",
       "water_cost     4.1277      1.763      2.341      0.024       0.567       7.688\n",
       "==============================================================================\n",
       "Omnibus:                       12.007   Durbin-Watson:                   1.983\n",
       "Prob(Omnibus):                  0.002   Jarque-Bera (JB):                2.869\n",
       "Skew:                          -0.016   Prob(JB):                        0.238\n",
       "Kurtosis:                       1.735   Cond. No.                         4.37\n",
       "==============================================================================\n",
       "\n",
       "Notes:\n",
       "[1] Standard Errors assume that the covariance matrix of the errors is correctly specified.\n",
       "\"\"\""
      ]
     },
     "execution_count": 84,
     "metadata": {},
     "output_type": "execute_result"
    }
   ],
   "source": [
    "# Cost of a Bottle of Water per City\n",
    "results_water = smf.ols('obesity_levels ~ water_cost', \n",
    "                  data = filtered).fit()\n",
    "results_water.summary()"
   ]
  },
  {
   "cell_type": "code",
   "execution_count": 85,
   "id": "63eabbac",
   "metadata": {},
   "outputs": [
    {
     "data": {
      "text/html": [
       "<table class=\"simpletable\">\n",
       "<caption>OLS Regression Results</caption>\n",
       "<tr>\n",
       "  <th>Dep. Variable:</th>     <td>obesity_levels</td>  <th>  R-squared:         </th> <td>   0.021</td>\n",
       "</tr>\n",
       "<tr>\n",
       "  <th>Model:</th>                   <td>OLS</td>       <th>  Adj. R-squared:    </th> <td>  -0.003</td>\n",
       "</tr>\n",
       "<tr>\n",
       "  <th>Method:</th>             <td>Least Squares</td>  <th>  F-statistic:       </th> <td>  0.8941</td>\n",
       "</tr>\n",
       "<tr>\n",
       "  <th>Date:</th>             <td>Tue, 31 May 2022</td> <th>  Prob (F-statistic):</th>  <td> 0.350</td> \n",
       "</tr>\n",
       "<tr>\n",
       "  <th>Time:</th>                 <td>19:05:57</td>     <th>  Log-Likelihood:    </th> <td> -160.37</td>\n",
       "</tr>\n",
       "<tr>\n",
       "  <th>No. Observations:</th>      <td>    43</td>      <th>  AIC:               </th> <td>   324.7</td>\n",
       "</tr>\n",
       "<tr>\n",
       "  <th>Df Residuals:</th>          <td>    41</td>      <th>  BIC:               </th> <td>   328.3</td>\n",
       "</tr>\n",
       "<tr>\n",
       "  <th>Df Model:</th>              <td>     1</td>      <th>                     </th>     <td> </td>   \n",
       "</tr>\n",
       "<tr>\n",
       "  <th>Covariance Type:</th>      <td>nonrobust</td>    <th>                     </th>     <td> </td>   \n",
       "</tr>\n",
       "</table>\n",
       "<table class=\"simpletable\">\n",
       "<tr>\n",
       "          <td></td>            <th>coef</th>     <th>std err</th>      <th>t</th>      <th>P>|t|</th>  <th>[0.025</th>    <th>0.975]</th>  \n",
       "</tr>\n",
       "<tr>\n",
       "  <th>Intercept</th>        <td>   19.3975</td> <td>    3.154</td> <td>    6.151</td> <td> 0.000</td> <td>   13.029</td> <td>   25.766</td>\n",
       "</tr>\n",
       "<tr>\n",
       "  <th>outdoor_activity</th> <td>    0.0119</td> <td>    0.013</td> <td>    0.946</td> <td> 0.350</td> <td>   -0.014</td> <td>    0.037</td>\n",
       "</tr>\n",
       "</table>\n",
       "<table class=\"simpletable\">\n",
       "<tr>\n",
       "  <th>Omnibus:</th>       <td> 3.301</td> <th>  Durbin-Watson:     </th> <td>   2.289</td>\n",
       "</tr>\n",
       "<tr>\n",
       "  <th>Prob(Omnibus):</th> <td> 0.192</td> <th>  Jarque-Bera (JB):  </th> <td>   2.487</td>\n",
       "</tr>\n",
       "<tr>\n",
       "  <th>Skew:</th>          <td>-0.439</td> <th>  Prob(JB):          </th> <td>   0.288</td>\n",
       "</tr>\n",
       "<tr>\n",
       "  <th>Kurtosis:</th>      <td> 2.215</td> <th>  Cond. No.          </th> <td>    503.</td>\n",
       "</tr>\n",
       "</table><br/><br/>Notes:<br/>[1] Standard Errors assume that the covariance matrix of the errors is correctly specified."
      ],
      "text/plain": [
       "<class 'statsmodels.iolib.summary.Summary'>\n",
       "\"\"\"\n",
       "                            OLS Regression Results                            \n",
       "==============================================================================\n",
       "Dep. Variable:         obesity_levels   R-squared:                       0.021\n",
       "Model:                            OLS   Adj. R-squared:                 -0.003\n",
       "Method:                 Least Squares   F-statistic:                    0.8941\n",
       "Date:                Tue, 31 May 2022   Prob (F-statistic):              0.350\n",
       "Time:                        19:05:57   Log-Likelihood:                -160.37\n",
       "No. Observations:                  43   AIC:                             324.7\n",
       "Df Residuals:                      41   BIC:                             328.3\n",
       "Df Model:                           1                                         \n",
       "Covariance Type:            nonrobust                                         \n",
       "====================================================================================\n",
       "                       coef    std err          t      P>|t|      [0.025      0.975]\n",
       "------------------------------------------------------------------------------------\n",
       "Intercept           19.3975      3.154      6.151      0.000      13.029      25.766\n",
       "outdoor_activity     0.0119      0.013      0.946      0.350      -0.014       0.037\n",
       "==============================================================================\n",
       "Omnibus:                        3.301   Durbin-Watson:                   2.289\n",
       "Prob(Omnibus):                  0.192   Jarque-Bera (JB):                2.487\n",
       "Skew:                          -0.439   Prob(JB):                        0.288\n",
       "Kurtosis:                       2.215   Cond. No.                         503.\n",
       "==============================================================================\n",
       "\n",
       "Notes:\n",
       "[1] Standard Errors assume that the covariance matrix of the errors is correctly specified.\n",
       "\"\"\""
      ]
     },
     "execution_count": 85,
     "metadata": {},
     "output_type": "execute_result"
    }
   ],
   "source": [
    "# Number of Outdoor Activities per City\n",
    "results_activity = smf.ols('obesity_levels ~ outdoor_activity', \n",
    "                  data = filtered).fit()\n",
    "results_activity.summary()"
   ]
  },
  {
   "cell_type": "code",
   "execution_count": 86,
   "id": "aea1cb4e",
   "metadata": {},
   "outputs": [
    {
     "data": {
      "text/html": [
       "<table class=\"simpletable\">\n",
       "<caption>OLS Regression Results</caption>\n",
       "<tr>\n",
       "  <th>Dep. Variable:</th>     <td>obesity_levels</td>  <th>  R-squared:         </th> <td>   0.507</td>\n",
       "</tr>\n",
       "<tr>\n",
       "  <th>Model:</th>                   <td>OLS</td>       <th>  Adj. R-squared:    </th> <td>   0.425</td>\n",
       "</tr>\n",
       "<tr>\n",
       "  <th>Method:</th>             <td>Least Squares</td>  <th>  F-statistic:       </th> <td>   6.179</td>\n",
       "</tr>\n",
       "<tr>\n",
       "  <th>Date:</th>             <td>Tue, 31 May 2022</td> <th>  Prob (F-statistic):</th> <td>0.000158</td>\n",
       "</tr>\n",
       "<tr>\n",
       "  <th>Time:</th>                 <td>19:05:57</td>     <th>  Log-Likelihood:    </th> <td> -145.61</td>\n",
       "</tr>\n",
       "<tr>\n",
       "  <th>No. Observations:</th>      <td>    43</td>      <th>  AIC:               </th> <td>   305.2</td>\n",
       "</tr>\n",
       "<tr>\n",
       "  <th>Df Residuals:</th>          <td>    36</td>      <th>  BIC:               </th> <td>   317.5</td>\n",
       "</tr>\n",
       "<tr>\n",
       "  <th>Df Model:</th>              <td>     6</td>      <th>                     </th>     <td> </td>   \n",
       "</tr>\n",
       "<tr>\n",
       "  <th>Covariance Type:</th>      <td>nonrobust</td>    <th>                     </th>     <td> </td>   \n",
       "</tr>\n",
       "</table>\n",
       "<table class=\"simpletable\">\n",
       "<tr>\n",
       "          <td></td>            <th>coef</th>     <th>std err</th>      <th>t</th>      <th>P>|t|</th>  <th>[0.025</th>    <th>0.975]</th>  \n",
       "</tr>\n",
       "<tr>\n",
       "  <th>Intercept</th>        <td>   51.5163</td> <td>   28.079</td> <td>    1.835</td> <td> 0.075</td> <td>   -5.431</td> <td>  108.464</td>\n",
       "</tr>\n",
       "<tr>\n",
       "  <th>WorkPerDay</th>       <td>    2.7105</td> <td>    0.842</td> <td>    3.221</td> <td> 0.003</td> <td>    1.004</td> <td>    4.417</td>\n",
       "</tr>\n",
       "<tr>\n",
       "  <th>SunshinePerDay</th>   <td>    1.9460</td> <td>    0.762</td> <td>    2.552</td> <td> 0.015</td> <td>    0.400</td> <td>    3.492</td>\n",
       "</tr>\n",
       "<tr>\n",
       "  <th>water_cost</th>       <td>    6.4887</td> <td>    2.119</td> <td>    3.063</td> <td> 0.004</td> <td>    2.192</td> <td>   10.786</td>\n",
       "</tr>\n",
       "<tr>\n",
       "  <th>outdoor_activity</th> <td>    0.0109</td> <td>    0.010</td> <td>    1.057</td> <td> 0.297</td> <td>   -0.010</td> <td>    0.032</td>\n",
       "</tr>\n",
       "<tr>\n",
       "  <th>pollution</th>        <td>    0.0487</td> <td>    0.076</td> <td>    0.642</td> <td> 0.525</td> <td>   -0.105</td> <td>    0.203</td>\n",
       "</tr>\n",
       "<tr>\n",
       "  <th>life_expectancy</th>  <td>   -0.8376</td> <td>    0.353</td> <td>   -2.374</td> <td> 0.023</td> <td>   -1.553</td> <td>   -0.122</td>\n",
       "</tr>\n",
       "</table>\n",
       "<table class=\"simpletable\">\n",
       "<tr>\n",
       "  <th>Omnibus:</th>       <td> 0.094</td> <th>  Durbin-Watson:     </th> <td>   2.086</td>\n",
       "</tr>\n",
       "<tr>\n",
       "  <th>Prob(Omnibus):</th> <td> 0.954</td> <th>  Jarque-Bera (JB):  </th> <td>   0.298</td>\n",
       "</tr>\n",
       "<tr>\n",
       "  <th>Skew:</th>          <td> 0.045</td> <th>  Prob(JB):          </th> <td>   0.862</td>\n",
       "</tr>\n",
       "<tr>\n",
       "  <th>Kurtosis:</th>      <td> 2.603</td> <th>  Cond. No.          </th> <td>6.23e+03</td>\n",
       "</tr>\n",
       "</table><br/><br/>Notes:<br/>[1] Standard Errors assume that the covariance matrix of the errors is correctly specified.<br/>[2] The condition number is large, 6.23e+03. This might indicate that there are<br/>strong multicollinearity or other numerical problems."
      ],
      "text/plain": [
       "<class 'statsmodels.iolib.summary.Summary'>\n",
       "\"\"\"\n",
       "                            OLS Regression Results                            \n",
       "==============================================================================\n",
       "Dep. Variable:         obesity_levels   R-squared:                       0.507\n",
       "Model:                            OLS   Adj. R-squared:                  0.425\n",
       "Method:                 Least Squares   F-statistic:                     6.179\n",
       "Date:                Tue, 31 May 2022   Prob (F-statistic):           0.000158\n",
       "Time:                        19:05:57   Log-Likelihood:                -145.61\n",
       "No. Observations:                  43   AIC:                             305.2\n",
       "Df Residuals:                      36   BIC:                             317.5\n",
       "Df Model:                           6                                         \n",
       "Covariance Type:            nonrobust                                         \n",
       "====================================================================================\n",
       "                       coef    std err          t      P>|t|      [0.025      0.975]\n",
       "------------------------------------------------------------------------------------\n",
       "Intercept           51.5163     28.079      1.835      0.075      -5.431     108.464\n",
       "WorkPerDay           2.7105      0.842      3.221      0.003       1.004       4.417\n",
       "SunshinePerDay       1.9460      0.762      2.552      0.015       0.400       3.492\n",
       "water_cost           6.4887      2.119      3.063      0.004       2.192      10.786\n",
       "outdoor_activity     0.0109      0.010      1.057      0.297      -0.010       0.032\n",
       "pollution            0.0487      0.076      0.642      0.525      -0.105       0.203\n",
       "life_expectancy     -0.8376      0.353     -2.374      0.023      -1.553      -0.122\n",
       "==============================================================================\n",
       "Omnibus:                        0.094   Durbin-Watson:                   2.086\n",
       "Prob(Omnibus):                  0.954   Jarque-Bera (JB):                0.298\n",
       "Skew:                           0.045   Prob(JB):                        0.862\n",
       "Kurtosis:                       2.603   Cond. No.                     6.23e+03\n",
       "==============================================================================\n",
       "\n",
       "Notes:\n",
       "[1] Standard Errors assume that the covariance matrix of the errors is correctly specified.\n",
       "[2] The condition number is large, 6.23e+03. This might indicate that there are\n",
       "strong multicollinearity or other numerical problems.\n",
       "\"\"\""
      ]
     },
     "execution_count": 86,
     "metadata": {},
     "output_type": "execute_result"
    }
   ],
   "source": [
    "# Multiple regression\n",
    "results_activity = smf.ols('obesity_levels ~ WorkPerDay + SunshinePerDay + water_cost + outdoor_activity + pollution + life_expectancy', data = filtered).fit()\n",
    "results_activity.summary()"
   ]
  },
  {
   "cell_type": "code",
   "execution_count": 87,
   "id": "832adff6",
   "metadata": {},
   "outputs": [
    {
     "data": {
      "text/html": [
       "<table class=\"simpletable\">\n",
       "<caption>OLS Regression Results</caption>\n",
       "<tr>\n",
       "  <th>Dep. Variable:</th>     <td>obesity_levels</td>  <th>  R-squared:         </th> <td>   0.573</td>\n",
       "</tr>\n",
       "<tr>\n",
       "  <th>Model:</th>                   <td>OLS</td>       <th>  Adj. R-squared:    </th> <td>   0.487</td>\n",
       "</tr>\n",
       "<tr>\n",
       "  <th>Method:</th>             <td>Least Squares</td>  <th>  F-statistic:       </th> <td>   6.707</td>\n",
       "</tr>\n",
       "<tr>\n",
       "  <th>Date:</th>             <td>Tue, 31 May 2022</td> <th>  Prob (F-statistic):</th> <td>4.60e-05</td>\n",
       "</tr>\n",
       "<tr>\n",
       "  <th>Time:</th>                 <td>19:05:57</td>     <th>  Log-Likelihood:    </th> <td> -142.54</td>\n",
       "</tr>\n",
       "<tr>\n",
       "  <th>No. Observations:</th>      <td>    43</td>      <th>  AIC:               </th> <td>   301.1</td>\n",
       "</tr>\n",
       "<tr>\n",
       "  <th>Df Residuals:</th>          <td>    35</td>      <th>  BIC:               </th> <td>   315.2</td>\n",
       "</tr>\n",
       "<tr>\n",
       "  <th>Df Model:</th>              <td>     7</td>      <th>                     </th>     <td> </td>   \n",
       "</tr>\n",
       "<tr>\n",
       "  <th>Covariance Type:</th>      <td>nonrobust</td>    <th>                     </th>     <td> </td>   \n",
       "</tr>\n",
       "</table>\n",
       "<table class=\"simpletable\">\n",
       "<tr>\n",
       "          <td></td>            <th>coef</th>     <th>std err</th>      <th>t</th>      <th>P>|t|</th>  <th>[0.025</th>    <th>0.975]</th>  \n",
       "</tr>\n",
       "<tr>\n",
       "  <th>Intercept</th>        <td> -277.6320</td> <td>  144.503</td> <td>   -1.921</td> <td> 0.063</td> <td> -570.989</td> <td>   15.725</td>\n",
       "</tr>\n",
       "<tr>\n",
       "  <th>WorkPerDay</th>       <td>    3.0677</td> <td>    0.810</td> <td>    3.789</td> <td> 0.001</td> <td>    1.424</td> <td>    4.711</td>\n",
       "</tr>\n",
       "<tr>\n",
       "  <th>SunshinePerDay</th>   <td>    2.1085</td> <td>    0.723</td> <td>    2.915</td> <td> 0.006</td> <td>    0.640</td> <td>    3.577</td>\n",
       "</tr>\n",
       "<tr>\n",
       "  <th>water_cost</th>       <td>    7.8192</td> <td>    2.082</td> <td>    3.756</td> <td> 0.001</td> <td>    3.593</td> <td>   12.045</td>\n",
       "</tr>\n",
       "<tr>\n",
       "  <th>outdoor_activity</th> <td>    0.0130</td> <td>    0.010</td> <td>    1.334</td> <td> 0.191</td> <td>   -0.007</td> <td>    0.033</td>\n",
       "</tr>\n",
       "<tr>\n",
       "  <th>pollution</th>        <td>   -0.0069</td> <td>    0.076</td> <td>   -0.091</td> <td> 0.928</td> <td>   -0.160</td> <td>    0.147</td>\n",
       "</tr>\n",
       "<tr>\n",
       "  <th>life_expectancy</th>  <td>    8.6493</td> <td>    4.108</td> <td>    2.106</td> <td> 0.042</td> <td>    0.310</td> <td>   16.989</td>\n",
       "</tr>\n",
       "<tr>\n",
       "  <th>life_expectancy2</th> <td>   -0.0675</td> <td>    0.029</td> <td>   -2.317</td> <td> 0.026</td> <td>   -0.127</td> <td>   -0.008</td>\n",
       "</tr>\n",
       "</table>\n",
       "<table class=\"simpletable\">\n",
       "<tr>\n",
       "  <th>Omnibus:</th>       <td> 0.675</td> <th>  Durbin-Watson:     </th> <td>   1.823</td>\n",
       "</tr>\n",
       "<tr>\n",
       "  <th>Prob(Omnibus):</th> <td> 0.714</td> <th>  Jarque-Bera (JB):  </th> <td>   0.710</td>\n",
       "</tr>\n",
       "<tr>\n",
       "  <th>Skew:</th>          <td> 0.040</td> <th>  Prob(JB):          </th> <td>   0.701</td>\n",
       "</tr>\n",
       "<tr>\n",
       "  <th>Kurtosis:</th>      <td> 2.376</td> <th>  Cond. No.          </th> <td>7.93e+05</td>\n",
       "</tr>\n",
       "</table><br/><br/>Notes:<br/>[1] Standard Errors assume that the covariance matrix of the errors is correctly specified.<br/>[2] The condition number is large, 7.93e+05. This might indicate that there are<br/>strong multicollinearity or other numerical problems."
      ],
      "text/plain": [
       "<class 'statsmodels.iolib.summary.Summary'>\n",
       "\"\"\"\n",
       "                            OLS Regression Results                            \n",
       "==============================================================================\n",
       "Dep. Variable:         obesity_levels   R-squared:                       0.573\n",
       "Model:                            OLS   Adj. R-squared:                  0.487\n",
       "Method:                 Least Squares   F-statistic:                     6.707\n",
       "Date:                Tue, 31 May 2022   Prob (F-statistic):           4.60e-05\n",
       "Time:                        19:05:57   Log-Likelihood:                -142.54\n",
       "No. Observations:                  43   AIC:                             301.1\n",
       "Df Residuals:                      35   BIC:                             315.2\n",
       "Df Model:                           7                                         \n",
       "Covariance Type:            nonrobust                                         \n",
       "====================================================================================\n",
       "                       coef    std err          t      P>|t|      [0.025      0.975]\n",
       "------------------------------------------------------------------------------------\n",
       "Intercept         -277.6320    144.503     -1.921      0.063    -570.989      15.725\n",
       "WorkPerDay           3.0677      0.810      3.789      0.001       1.424       4.711\n",
       "SunshinePerDay       2.1085      0.723      2.915      0.006       0.640       3.577\n",
       "water_cost           7.8192      2.082      3.756      0.001       3.593      12.045\n",
       "outdoor_activity     0.0130      0.010      1.334      0.191      -0.007       0.033\n",
       "pollution           -0.0069      0.076     -0.091      0.928      -0.160       0.147\n",
       "life_expectancy      8.6493      4.108      2.106      0.042       0.310      16.989\n",
       "life_expectancy2    -0.0675      0.029     -2.317      0.026      -0.127      -0.008\n",
       "==============================================================================\n",
       "Omnibus:                        0.675   Durbin-Watson:                   1.823\n",
       "Prob(Omnibus):                  0.714   Jarque-Bera (JB):                0.710\n",
       "Skew:                           0.040   Prob(JB):                        0.701\n",
       "Kurtosis:                       2.376   Cond. No.                     7.93e+05\n",
       "==============================================================================\n",
       "\n",
       "Notes:\n",
       "[1] Standard Errors assume that the covariance matrix of the errors is correctly specified.\n",
       "[2] The condition number is large, 7.93e+05. This might indicate that there are\n",
       "strong multicollinearity or other numerical problems.\n",
       "\"\"\""
      ]
     },
     "execution_count": 87,
     "metadata": {},
     "output_type": "execute_result"
    }
   ],
   "source": [
    "# Nonlinear regression\n",
    "filtered['life_expectancy2'] = filtered.life_expectancy ** 2\n",
    "results_activity = smf.ols('obesity_levels ~ WorkPerDay + SunshinePerDay + water_cost + outdoor_activity + pollution + life_expectancy + life_expectancy2', data = filtered).fit()\n",
    "results_activity.summary()"
   ]
  }
 ],
 "metadata": {
  "kernelspec": {
   "display_name": "Python 3 (ipykernel)",
   "language": "python",
   "name": "python3"
  },
  "language_info": {
   "codemirror_mode": {
    "name": "ipython",
    "version": 3
   },
   "file_extension": ".py",
   "mimetype": "text/x-python",
   "name": "python",
   "nbconvert_exporter": "python",
   "pygments_lexer": "ipython3",
   "version": "3.8.8"
  }
 },
 "nbformat": 4,
 "nbformat_minor": 5
}
