{
 "cells": [
  {
   "cell_type": "markdown",
   "id": "6fe5e68d",
   "metadata": {},
   "source": [
    "## Healthiest City\n",
    "\n",
    "Data source: Healthy Lifestyle Cities Report 2021 from https://www.lenstore.co.uk/research/healthy-lifestyle-report/"
   ]
  },
  {
   "cell_type": "markdown",
   "id": "d64f63bc",
   "metadata": {},
   "source": [
    "Research Topic:\n",
    "\n",
    "What does it mean to be the healthiest city?\n",
    "\n",
    "Research questions:\n",
    "1. Can cities with a high average of hours worked be healthy?\n",
    "2. Do cities with more sunshine have more outdoor activities resulting in a healthier city?"
   ]
  },
  {
   "cell_type": "code",
   "execution_count": 1,
   "id": "5e9aab89",
   "metadata": {},
   "outputs": [],
   "source": [
    "import pandas as pd\n",
    "import numpy as np\n",
    "import matplotlib.pyplot as plt\n",
    "import matplotlib.patches as mpatches\n",
    "import thinkstats2\n",
    "import thinkplot\n",
    "from empiricaldist import Pmf\n",
    "from empiricaldist import Cdf\n",
    "import scipy.stats\n",
    "\n",
    "pd.options.display.float_format = '{:.5f}'.format"
   ]
  },
  {
   "cell_type": "code",
   "execution_count": 2,
   "id": "95514938",
   "metadata": {},
   "outputs": [
    {
     "data": {
      "text/html": [
       "<div>\n",
       "<style scoped>\n",
       "    .dataframe tbody tr th:only-of-type {\n",
       "        vertical-align: middle;\n",
       "    }\n",
       "\n",
       "    .dataframe tbody tr th {\n",
       "        vertical-align: top;\n",
       "    }\n",
       "\n",
       "    .dataframe thead th {\n",
       "        text-align: right;\n",
       "    }\n",
       "</style>\n",
       "<table border=\"1\" class=\"dataframe\">\n",
       "  <thead>\n",
       "    <tr style=\"text-align: right;\">\n",
       "      <th></th>\n",
       "      <th>City</th>\n",
       "      <th>Rank</th>\n",
       "      <th>Sunshine hours(City)</th>\n",
       "      <th>Cost of a bottle of water(City)</th>\n",
       "      <th>Obesity levels(Country)</th>\n",
       "      <th>Life expectancy(years) (Country)</th>\n",
       "      <th>Pollution(Index score) (City)</th>\n",
       "      <th>Annual avg. hours worked</th>\n",
       "      <th>Happiness levels(Country)</th>\n",
       "      <th>Outdoor activities(City)</th>\n",
       "      <th>Number of take out places(City)</th>\n",
       "      <th>Cost of a monthly gym membership(City)</th>\n",
       "    </tr>\n",
       "  </thead>\n",
       "  <tbody>\n",
       "    <tr>\n",
       "      <th>0</th>\n",
       "      <td>Amsterdam</td>\n",
       "      <td>1</td>\n",
       "      <td>1858</td>\n",
       "      <td>£1.92</td>\n",
       "      <td>20.40%</td>\n",
       "      <td>81.20000</td>\n",
       "      <td>30.93</td>\n",
       "      <td>1434</td>\n",
       "      <td>7.44000</td>\n",
       "      <td>422</td>\n",
       "      <td>1048</td>\n",
       "      <td>£34.90</td>\n",
       "    </tr>\n",
       "    <tr>\n",
       "      <th>1</th>\n",
       "      <td>Sydney</td>\n",
       "      <td>2</td>\n",
       "      <td>2636</td>\n",
       "      <td>£1.48</td>\n",
       "      <td>29.00%</td>\n",
       "      <td>82.10000</td>\n",
       "      <td>26.86</td>\n",
       "      <td>1712</td>\n",
       "      <td>7.22000</td>\n",
       "      <td>406</td>\n",
       "      <td>1103</td>\n",
       "      <td>£41.66</td>\n",
       "    </tr>\n",
       "    <tr>\n",
       "      <th>2</th>\n",
       "      <td>Vienna</td>\n",
       "      <td>3</td>\n",
       "      <td>1884</td>\n",
       "      <td>£1.94</td>\n",
       "      <td>20.10%</td>\n",
       "      <td>81.00000</td>\n",
       "      <td>17.33</td>\n",
       "      <td>1501</td>\n",
       "      <td>7.29000</td>\n",
       "      <td>132</td>\n",
       "      <td>1008</td>\n",
       "      <td>£25.74</td>\n",
       "    </tr>\n",
       "    <tr>\n",
       "      <th>3</th>\n",
       "      <td>Stockholm</td>\n",
       "      <td>4</td>\n",
       "      <td>1821</td>\n",
       "      <td>£1.72</td>\n",
       "      <td>20.60%</td>\n",
       "      <td>81.80000</td>\n",
       "      <td>19.63</td>\n",
       "      <td>1452</td>\n",
       "      <td>7.35000</td>\n",
       "      <td>129</td>\n",
       "      <td>598</td>\n",
       "      <td>£37.31</td>\n",
       "    </tr>\n",
       "    <tr>\n",
       "      <th>4</th>\n",
       "      <td>Copenhagen</td>\n",
       "      <td>5</td>\n",
       "      <td>1630</td>\n",
       "      <td>£2.19</td>\n",
       "      <td>19.70%</td>\n",
       "      <td>79.80000</td>\n",
       "      <td>21.24</td>\n",
       "      <td>1380</td>\n",
       "      <td>7.64000</td>\n",
       "      <td>154</td>\n",
       "      <td>523</td>\n",
       "      <td>£32.53</td>\n",
       "    </tr>\n",
       "  </tbody>\n",
       "</table>\n",
       "</div>"
      ],
      "text/plain": [
       "         City  Rank Sunshine hours(City) Cost of a bottle of water(City)  \\\n",
       "0   Amsterdam     1                 1858                           £1.92   \n",
       "1      Sydney     2                 2636                           £1.48   \n",
       "2      Vienna     3                 1884                           £1.94   \n",
       "3   Stockholm     4                 1821                           £1.72   \n",
       "4  Copenhagen     5                 1630                           £2.19   \n",
       "\n",
       "  Obesity levels(Country)  Life expectancy(years) (Country)  \\\n",
       "0                  20.40%                          81.20000   \n",
       "1                  29.00%                          82.10000   \n",
       "2                  20.10%                          81.00000   \n",
       "3                  20.60%                          81.80000   \n",
       "4                  19.70%                          79.80000   \n",
       "\n",
       "  Pollution(Index score) (City) Annual avg. hours worked  \\\n",
       "0                         30.93                     1434   \n",
       "1                         26.86                     1712   \n",
       "2                         17.33                     1501   \n",
       "3                         19.63                     1452   \n",
       "4                         21.24                     1380   \n",
       "\n",
       "   Happiness levels(Country)  Outdoor activities(City)  \\\n",
       "0                    7.44000                       422   \n",
       "1                    7.22000                       406   \n",
       "2                    7.29000                       132   \n",
       "3                    7.35000                       129   \n",
       "4                    7.64000                       154   \n",
       "\n",
       "   Number of take out places(City) Cost of a monthly gym membership(City)  \n",
       "0                             1048                                 £34.90  \n",
       "1                             1103                                 £41.66  \n",
       "2                             1008                                 £25.74  \n",
       "3                              598                                 £37.31  \n",
       "4                              523                                 £32.53  "
      ]
     },
     "execution_count": 2,
     "metadata": {},
     "output_type": "execute_result"
    }
   ],
   "source": [
    "healthy_df = pd.read_csv('healthy_lifestyle_city_2021.csv')\n",
    "\n",
    "healthy_df.head()"
   ]
  },
  {
   "cell_type": "code",
   "execution_count": 3,
   "id": "bceae6c2",
   "metadata": {},
   "outputs": [
    {
     "data": {
      "text/plain": [
       "(44, 12)"
      ]
     },
     "execution_count": 3,
     "metadata": {},
     "output_type": "execute_result"
    }
   ],
   "source": [
    "# Shape\n",
    "healthy_df.shape"
   ]
  },
  {
   "cell_type": "code",
   "execution_count": 4,
   "id": "f90aecd7",
   "metadata": {},
   "outputs": [
    {
     "name": "stdout",
     "output_type": "stream",
     "text": [
      "<class 'pandas.core.frame.DataFrame'>\n",
      "RangeIndex: 44 entries, 0 to 43\n",
      "Data columns (total 12 columns):\n",
      " #   Column                                  Non-Null Count  Dtype  \n",
      "---  ------                                  --------------  -----  \n",
      " 0   City                                    44 non-null     object \n",
      " 1   Rank                                    44 non-null     int64  \n",
      " 2   Sunshine hours(City)                    44 non-null     object \n",
      " 3   Cost of a bottle of water(City)         44 non-null     object \n",
      " 4   Obesity levels(Country)                 44 non-null     object \n",
      " 5   Life expectancy(years) (Country)        44 non-null     float64\n",
      " 6   Pollution(Index score) (City)           44 non-null     object \n",
      " 7   Annual avg. hours worked                44 non-null     object \n",
      " 8   Happiness levels(Country)               44 non-null     float64\n",
      " 9   Outdoor activities(City)                44 non-null     int64  \n",
      " 10  Number of take out places(City)         44 non-null     int64  \n",
      " 11  Cost of a monthly gym membership(City)  44 non-null     object \n",
      "dtypes: float64(2), int64(3), object(7)\n",
      "memory usage: 4.2+ KB\n"
     ]
    }
   ],
   "source": [
    "# Data Types\n",
    "healthy_df.info()"
   ]
  },
  {
   "cell_type": "markdown",
   "id": "c74f5234",
   "metadata": {},
   "source": [
    "## Data Cleaning\n",
    "\n",
    "Sunshine hours, Cost of a bottle of water, Obesity levels, Pollution, Annual Hours Worked, and  \n",
    "Cost of Monthly Gym Membership need to be converted to numeric"
   ]
  },
  {
   "cell_type": "code",
   "execution_count": 5,
   "id": "71944ee9",
   "metadata": {},
   "outputs": [
    {
     "data": {
      "text/plain": [
       "0   2.51520\n",
       "1   1.93880\n",
       "2   2.54140\n",
       "3   2.25320\n",
       "4   2.86890\n",
       "Name: Cost of a bottle of water(City), dtype: float64"
      ]
     },
     "execution_count": 5,
     "metadata": {},
     "output_type": "execute_result"
    }
   ],
   "source": [
    "# Convert Cost of a bottle of water to US Dollars\n",
    "rate_of_exchange = 1.31\n",
    "df = dict()\n",
    "\n",
    "df['Amount'] = healthy_df['Cost of a bottle of water(City)'].str[1:]\n",
    "healthy_df['Cost of a bottle of water(City)'] = pd.to_numeric(df['Amount']) * rate_of_exchange\n",
    "healthy_df['Cost of a bottle of water(City)'].head()"
   ]
  },
  {
   "cell_type": "code",
   "execution_count": 6,
   "id": "08c3d8f6",
   "metadata": {},
   "outputs": [
    {
     "data": {
      "text/plain": [
       "0   45.71900\n",
       "1   54.57460\n",
       "2   33.71940\n",
       "3   48.87610\n",
       "4   42.61430\n",
       "Name: Cost of a monthly gym membership(City), dtype: float64"
      ]
     },
     "execution_count": 6,
     "metadata": {},
     "output_type": "execute_result"
    }
   ],
   "source": [
    "# Convert Cost of a monthly gym membership to US Dollars\n",
    "rate_of_exchange = 1.31\n",
    "\n",
    "df['Amount'] = healthy_df['Cost of a monthly gym membership(City)'].str[1:]\n",
    "healthy_df['Cost of a monthly gym membership(City)'] = pd.to_numeric(df['Amount']) * rate_of_exchange\n",
    "healthy_df['Cost of a monthly gym membership(City)'].head()"
   ]
  },
  {
   "cell_type": "code",
   "execution_count": 7,
   "id": "91825070",
   "metadata": {},
   "outputs": [
    {
     "data": {
      "text/plain": [
       "0   20.40000\n",
       "1   29.00000\n",
       "2   20.10000\n",
       "3   20.60000\n",
       "4   19.70000\n",
       "Name: Obesity levels(Country), dtype: float64"
      ]
     },
     "execution_count": 7,
     "metadata": {},
     "output_type": "execute_result"
    }
   ],
   "source": [
    "# Convert Obesity levels(Country) to float removing '%'\n",
    "df['Obesity'] = healthy_df['Obesity levels(Country)'].str.replace(\"%\", \"\")\n",
    "healthy_df['Obesity levels(Country)'] = pd.to_numeric(df['Obesity'])\n",
    "healthy_df['Obesity levels(Country)'].head()"
   ]
  },
  {
   "cell_type": "code",
   "execution_count": 8,
   "id": "af38ab9e",
   "metadata": {},
   "outputs": [
    {
     "data": {
      "text/html": [
       "<div>\n",
       "<style scoped>\n",
       "    .dataframe tbody tr th:only-of-type {\n",
       "        vertical-align: middle;\n",
       "    }\n",
       "\n",
       "    .dataframe tbody tr th {\n",
       "        vertical-align: top;\n",
       "    }\n",
       "\n",
       "    .dataframe thead th {\n",
       "        text-align: right;\n",
       "    }\n",
       "</style>\n",
       "<table border=\"1\" class=\"dataframe\">\n",
       "  <thead>\n",
       "    <tr style=\"text-align: right;\">\n",
       "      <th></th>\n",
       "      <th>City</th>\n",
       "      <th>Rank</th>\n",
       "      <th>Sunshine hours(City)</th>\n",
       "      <th>Cost of a bottle of water(City)</th>\n",
       "      <th>Obesity levels(Country)</th>\n",
       "      <th>Life expectancy(years) (Country)</th>\n",
       "      <th>Pollution(Index score) (City)</th>\n",
       "      <th>Annual avg. hours worked</th>\n",
       "      <th>Happiness levels(Country)</th>\n",
       "      <th>Outdoor activities(City)</th>\n",
       "      <th>Number of take out places(City)</th>\n",
       "      <th>Cost of a monthly gym membership(City)</th>\n",
       "    </tr>\n",
       "  </thead>\n",
       "  <tbody>\n",
       "    <tr>\n",
       "      <th>0</th>\n",
       "      <td>Amsterdam</td>\n",
       "      <td>1</td>\n",
       "      <td>1858.00000</td>\n",
       "      <td>2.51520</td>\n",
       "      <td>20.40000</td>\n",
       "      <td>81.20000</td>\n",
       "      <td>30.93000</td>\n",
       "      <td>1434.00000</td>\n",
       "      <td>7.44000</td>\n",
       "      <td>422</td>\n",
       "      <td>1048</td>\n",
       "      <td>45.71900</td>\n",
       "    </tr>\n",
       "    <tr>\n",
       "      <th>1</th>\n",
       "      <td>Sydney</td>\n",
       "      <td>2</td>\n",
       "      <td>2636.00000</td>\n",
       "      <td>1.93880</td>\n",
       "      <td>29.00000</td>\n",
       "      <td>82.10000</td>\n",
       "      <td>26.86000</td>\n",
       "      <td>1712.00000</td>\n",
       "      <td>7.22000</td>\n",
       "      <td>406</td>\n",
       "      <td>1103</td>\n",
       "      <td>54.57460</td>\n",
       "    </tr>\n",
       "    <tr>\n",
       "      <th>2</th>\n",
       "      <td>Vienna</td>\n",
       "      <td>3</td>\n",
       "      <td>1884.00000</td>\n",
       "      <td>2.54140</td>\n",
       "      <td>20.10000</td>\n",
       "      <td>81.00000</td>\n",
       "      <td>17.33000</td>\n",
       "      <td>1501.00000</td>\n",
       "      <td>7.29000</td>\n",
       "      <td>132</td>\n",
       "      <td>1008</td>\n",
       "      <td>33.71940</td>\n",
       "    </tr>\n",
       "    <tr>\n",
       "      <th>3</th>\n",
       "      <td>Stockholm</td>\n",
       "      <td>4</td>\n",
       "      <td>1821.00000</td>\n",
       "      <td>2.25320</td>\n",
       "      <td>20.60000</td>\n",
       "      <td>81.80000</td>\n",
       "      <td>19.63000</td>\n",
       "      <td>1452.00000</td>\n",
       "      <td>7.35000</td>\n",
       "      <td>129</td>\n",
       "      <td>598</td>\n",
       "      <td>48.87610</td>\n",
       "    </tr>\n",
       "    <tr>\n",
       "      <th>4</th>\n",
       "      <td>Copenhagen</td>\n",
       "      <td>5</td>\n",
       "      <td>1630.00000</td>\n",
       "      <td>2.86890</td>\n",
       "      <td>19.70000</td>\n",
       "      <td>79.80000</td>\n",
       "      <td>21.24000</td>\n",
       "      <td>1380.00000</td>\n",
       "      <td>7.64000</td>\n",
       "      <td>154</td>\n",
       "      <td>523</td>\n",
       "      <td>42.61430</td>\n",
       "    </tr>\n",
       "  </tbody>\n",
       "</table>\n",
       "</div>"
      ],
      "text/plain": [
       "         City  Rank  Sunshine hours(City)  Cost of a bottle of water(City)  \\\n",
       "0   Amsterdam     1            1858.00000                          2.51520   \n",
       "1      Sydney     2            2636.00000                          1.93880   \n",
       "2      Vienna     3            1884.00000                          2.54140   \n",
       "3   Stockholm     4            1821.00000                          2.25320   \n",
       "4  Copenhagen     5            1630.00000                          2.86890   \n",
       "\n",
       "   Obesity levels(Country)  Life expectancy(years) (Country)  \\\n",
       "0                 20.40000                          81.20000   \n",
       "1                 29.00000                          82.10000   \n",
       "2                 20.10000                          81.00000   \n",
       "3                 20.60000                          81.80000   \n",
       "4                 19.70000                          79.80000   \n",
       "\n",
       "   Pollution(Index score) (City)  Annual avg. hours worked  \\\n",
       "0                       30.93000                1434.00000   \n",
       "1                       26.86000                1712.00000   \n",
       "2                       17.33000                1501.00000   \n",
       "3                       19.63000                1452.00000   \n",
       "4                       21.24000                1380.00000   \n",
       "\n",
       "   Happiness levels(Country)  Outdoor activities(City)  \\\n",
       "0                    7.44000                       422   \n",
       "1                    7.22000                       406   \n",
       "2                    7.29000                       132   \n",
       "3                    7.35000                       129   \n",
       "4                    7.64000                       154   \n",
       "\n",
       "   Number of take out places(City)  Cost of a monthly gym membership(City)  \n",
       "0                             1048                                45.71900  \n",
       "1                             1103                                54.57460  \n",
       "2                             1008                                33.71940  \n",
       "3                              598                                48.87610  \n",
       "4                              523                                42.61430  "
      ]
     },
     "execution_count": 8,
     "metadata": {},
     "output_type": "execute_result"
    }
   ],
   "source": [
    "# Convert Sunshine Hours, Pollution, Annual avg. hours worked to numeric\n",
    "healthy_df['Sunshine hours(City)'] = pd.to_numeric(healthy_df['Sunshine hours(City)'], errors = 'coerce', \n",
    "                                                   downcast = 'integer').fillna(0)\n",
    "healthy_df['Pollution(Index score) (City)'] = pd.to_numeric(healthy_df['Pollution(Index score) (City)'], \n",
    "                                                            errors = 'coerce').fillna(0.0)\n",
    "healthy_df['Annual avg. hours worked'] = pd.to_numeric(healthy_df['Annual avg. hours worked'], \n",
    "                                                        errors = 'coerce', downcast = 'integer').fillna(0)\n",
    "\n",
    "healthy_df.head()"
   ]
  },
  {
   "cell_type": "code",
   "execution_count": 9,
   "id": "5df0d433",
   "metadata": {},
   "outputs": [
    {
     "data": {
      "text/html": [
       "<div>\n",
       "<style scoped>\n",
       "    .dataframe tbody tr th:only-of-type {\n",
       "        vertical-align: middle;\n",
       "    }\n",
       "\n",
       "    .dataframe tbody tr th {\n",
       "        vertical-align: top;\n",
       "    }\n",
       "\n",
       "    .dataframe thead th {\n",
       "        text-align: right;\n",
       "    }\n",
       "</style>\n",
       "<table border=\"1\" class=\"dataframe\">\n",
       "  <thead>\n",
       "    <tr style=\"text-align: right;\">\n",
       "      <th></th>\n",
       "      <th>City</th>\n",
       "      <th>Rank</th>\n",
       "      <th>Sunshine hours(City)</th>\n",
       "      <th>Cost of a bottle of water(City)</th>\n",
       "      <th>Obesity levels(Country)</th>\n",
       "      <th>Life expectancy(years) (Country)</th>\n",
       "      <th>Pollution(Index score) (City)</th>\n",
       "      <th>Annual avg. hours worked</th>\n",
       "      <th>Happiness levels(Country)</th>\n",
       "      <th>Outdoor activities(City)</th>\n",
       "      <th>Number of take out places(City)</th>\n",
       "      <th>Cost of a monthly gym membership(City)</th>\n",
       "      <th>SunshinePerDay</th>\n",
       "      <th>WorkPerDay</th>\n",
       "    </tr>\n",
       "  </thead>\n",
       "  <tbody>\n",
       "    <tr>\n",
       "      <th>0</th>\n",
       "      <td>Amsterdam</td>\n",
       "      <td>1</td>\n",
       "      <td>1858.00000</td>\n",
       "      <td>2.51520</td>\n",
       "      <td>20.40000</td>\n",
       "      <td>81.20000</td>\n",
       "      <td>30.93000</td>\n",
       "      <td>1434.00000</td>\n",
       "      <td>7.44000</td>\n",
       "      <td>422</td>\n",
       "      <td>1048</td>\n",
       "      <td>45.71900</td>\n",
       "      <td>5.00000</td>\n",
       "      <td>4.00000</td>\n",
       "    </tr>\n",
       "    <tr>\n",
       "      <th>1</th>\n",
       "      <td>Sydney</td>\n",
       "      <td>2</td>\n",
       "      <td>2636.00000</td>\n",
       "      <td>1.93880</td>\n",
       "      <td>29.00000</td>\n",
       "      <td>82.10000</td>\n",
       "      <td>26.86000</td>\n",
       "      <td>1712.00000</td>\n",
       "      <td>7.22000</td>\n",
       "      <td>406</td>\n",
       "      <td>1103</td>\n",
       "      <td>54.57460</td>\n",
       "      <td>7.00000</td>\n",
       "      <td>5.00000</td>\n",
       "    </tr>\n",
       "    <tr>\n",
       "      <th>2</th>\n",
       "      <td>Vienna</td>\n",
       "      <td>3</td>\n",
       "      <td>1884.00000</td>\n",
       "      <td>2.54140</td>\n",
       "      <td>20.10000</td>\n",
       "      <td>81.00000</td>\n",
       "      <td>17.33000</td>\n",
       "      <td>1501.00000</td>\n",
       "      <td>7.29000</td>\n",
       "      <td>132</td>\n",
       "      <td>1008</td>\n",
       "      <td>33.71940</td>\n",
       "      <td>5.00000</td>\n",
       "      <td>4.00000</td>\n",
       "    </tr>\n",
       "    <tr>\n",
       "      <th>3</th>\n",
       "      <td>Stockholm</td>\n",
       "      <td>4</td>\n",
       "      <td>1821.00000</td>\n",
       "      <td>2.25320</td>\n",
       "      <td>20.60000</td>\n",
       "      <td>81.80000</td>\n",
       "      <td>19.63000</td>\n",
       "      <td>1452.00000</td>\n",
       "      <td>7.35000</td>\n",
       "      <td>129</td>\n",
       "      <td>598</td>\n",
       "      <td>48.87610</td>\n",
       "      <td>5.00000</td>\n",
       "      <td>4.00000</td>\n",
       "    </tr>\n",
       "    <tr>\n",
       "      <th>4</th>\n",
       "      <td>Copenhagen</td>\n",
       "      <td>5</td>\n",
       "      <td>1630.00000</td>\n",
       "      <td>2.86890</td>\n",
       "      <td>19.70000</td>\n",
       "      <td>79.80000</td>\n",
       "      <td>21.24000</td>\n",
       "      <td>1380.00000</td>\n",
       "      <td>7.64000</td>\n",
       "      <td>154</td>\n",
       "      <td>523</td>\n",
       "      <td>42.61430</td>\n",
       "      <td>5.00000</td>\n",
       "      <td>4.00000</td>\n",
       "    </tr>\n",
       "  </tbody>\n",
       "</table>\n",
       "</div>"
      ],
      "text/plain": [
       "         City  Rank  Sunshine hours(City)  Cost of a bottle of water(City)  \\\n",
       "0   Amsterdam     1            1858.00000                          2.51520   \n",
       "1      Sydney     2            2636.00000                          1.93880   \n",
       "2      Vienna     3            1884.00000                          2.54140   \n",
       "3   Stockholm     4            1821.00000                          2.25320   \n",
       "4  Copenhagen     5            1630.00000                          2.86890   \n",
       "\n",
       "   Obesity levels(Country)  Life expectancy(years) (Country)  \\\n",
       "0                 20.40000                          81.20000   \n",
       "1                 29.00000                          82.10000   \n",
       "2                 20.10000                          81.00000   \n",
       "3                 20.60000                          81.80000   \n",
       "4                 19.70000                          79.80000   \n",
       "\n",
       "   Pollution(Index score) (City)  Annual avg. hours worked  \\\n",
       "0                       30.93000                1434.00000   \n",
       "1                       26.86000                1712.00000   \n",
       "2                       17.33000                1501.00000   \n",
       "3                       19.63000                1452.00000   \n",
       "4                       21.24000                1380.00000   \n",
       "\n",
       "   Happiness levels(Country)  Outdoor activities(City)  \\\n",
       "0                    7.44000                       422   \n",
       "1                    7.22000                       406   \n",
       "2                    7.29000                       132   \n",
       "3                    7.35000                       129   \n",
       "4                    7.64000                       154   \n",
       "\n",
       "   Number of take out places(City)  Cost of a monthly gym membership(City)  \\\n",
       "0                             1048                                45.71900   \n",
       "1                             1103                                54.57460   \n",
       "2                             1008                                33.71940   \n",
       "3                              598                                48.87610   \n",
       "4                              523                                42.61430   \n",
       "\n",
       "   SunshinePerDay  WorkPerDay  \n",
       "0         5.00000     4.00000  \n",
       "1         7.00000     5.00000  \n",
       "2         5.00000     4.00000  \n",
       "3         5.00000     4.00000  \n",
       "4         5.00000     4.00000  "
      ]
     },
     "execution_count": 9,
     "metadata": {},
     "output_type": "execute_result"
    }
   ],
   "source": [
    "# Convert Hours of Sunshine per year to hours per day\n",
    "healthy_df[\"SunshinePerDay\"] = round(healthy_df[\"Sunshine hours(City)\"] /  360)\n",
    "\n",
    "# Convert Annual Average hours Worked to hours per day\n",
    "healthy_df[\"WorkPerDay\"] = round(healthy_df[\"Annual avg. hours worked\"] /  360)\n",
    "healthy_df.head()"
   ]
  },
  {
   "cell_type": "code",
   "execution_count": 10,
   "id": "ffa7a430",
   "metadata": {},
   "outputs": [],
   "source": [
    "# Save cleaned data to csv file for tableau\n",
    "healthy_df.to_csv('healthy_lifestyles_cleaned.csv')"
   ]
  },
  {
   "cell_type": "code",
   "execution_count": 11,
   "id": "ddf5ee34",
   "metadata": {},
   "outputs": [
    {
     "name": "stdout",
     "output_type": "stream",
     "text": [
      "<class 'pandas.core.frame.DataFrame'>\n",
      "RangeIndex: 44 entries, 0 to 43\n",
      "Data columns (total 14 columns):\n",
      " #   Column                                  Non-Null Count  Dtype  \n",
      "---  ------                                  --------------  -----  \n",
      " 0   City                                    44 non-null     object \n",
      " 1   Rank                                    44 non-null     int64  \n",
      " 2   Sunshine hours(City)                    44 non-null     float64\n",
      " 3   Cost of a bottle of water(City)         44 non-null     float64\n",
      " 4   Obesity levels(Country)                 44 non-null     float64\n",
      " 5   Life expectancy(years) (Country)        44 non-null     float64\n",
      " 6   Pollution(Index score) (City)           44 non-null     float64\n",
      " 7   Annual avg. hours worked                44 non-null     float64\n",
      " 8   Happiness levels(Country)               44 non-null     float64\n",
      " 9   Outdoor activities(City)                44 non-null     int64  \n",
      " 10  Number of take out places(City)         44 non-null     int64  \n",
      " 11  Cost of a monthly gym membership(City)  44 non-null     float64\n",
      " 12  SunshinePerDay                          44 non-null     float64\n",
      " 13  WorkPerDay                              44 non-null     float64\n",
      "dtypes: float64(10), int64(3), object(1)\n",
      "memory usage: 4.9+ KB\n"
     ]
    }
   ],
   "source": [
    "# With new variables\n",
    "healthy_df.info()"
   ]
  },
  {
   "cell_type": "markdown",
   "id": "9c6e1aeb",
   "metadata": {},
   "source": [
    "## 5 Variables for Analysis\n",
    "\n",
    "1. SunshinePerDay: Daily Sunshine hours(City)\n",
    "2. Obesity levels per Country: Obesity levels(Country)\n",
    "3. Cost of a bottle of water (US $): Cost of a bottle of water(City)\n",
    "4. Number of Outdoor Activities: Outdoor activities(City)\n",
    "5. WorkPerDay: Daily avg. hours worked"
   ]
  },
  {
   "cell_type": "code",
   "execution_count": 12,
   "id": "fbca392a",
   "metadata": {},
   "outputs": [
    {
     "data": {
      "text/html": [
       "<div>\n",
       "<style scoped>\n",
       "    .dataframe tbody tr th:only-of-type {\n",
       "        vertical-align: middle;\n",
       "    }\n",
       "\n",
       "    .dataframe tbody tr th {\n",
       "        vertical-align: top;\n",
       "    }\n",
       "\n",
       "    .dataframe thead th {\n",
       "        text-align: right;\n",
       "    }\n",
       "</style>\n",
       "<table border=\"1\" class=\"dataframe\">\n",
       "  <thead>\n",
       "    <tr style=\"text-align: right;\">\n",
       "      <th></th>\n",
       "      <th>SunshinePerDay</th>\n",
       "      <th>Cost of a bottle of water(City)</th>\n",
       "      <th>Obesity levels(Country)</th>\n",
       "      <th>WorkPerDay</th>\n",
       "      <th>Outdoor activities(City)</th>\n",
       "    </tr>\n",
       "  </thead>\n",
       "  <tbody>\n",
       "    <tr>\n",
       "      <th>0</th>\n",
       "      <td>5.00000</td>\n",
       "      <td>2.51520</td>\n",
       "      <td>20.40000</td>\n",
       "      <td>4.00000</td>\n",
       "      <td>422</td>\n",
       "    </tr>\n",
       "    <tr>\n",
       "      <th>1</th>\n",
       "      <td>7.00000</td>\n",
       "      <td>1.93880</td>\n",
       "      <td>29.00000</td>\n",
       "      <td>5.00000</td>\n",
       "      <td>406</td>\n",
       "    </tr>\n",
       "    <tr>\n",
       "      <th>2</th>\n",
       "      <td>5.00000</td>\n",
       "      <td>2.54140</td>\n",
       "      <td>20.10000</td>\n",
       "      <td>4.00000</td>\n",
       "      <td>132</td>\n",
       "    </tr>\n",
       "    <tr>\n",
       "      <th>3</th>\n",
       "      <td>5.00000</td>\n",
       "      <td>2.25320</td>\n",
       "      <td>20.60000</td>\n",
       "      <td>4.00000</td>\n",
       "      <td>129</td>\n",
       "    </tr>\n",
       "    <tr>\n",
       "      <th>4</th>\n",
       "      <td>5.00000</td>\n",
       "      <td>2.86890</td>\n",
       "      <td>19.70000</td>\n",
       "      <td>4.00000</td>\n",
       "      <td>154</td>\n",
       "    </tr>\n",
       "  </tbody>\n",
       "</table>\n",
       "</div>"
      ],
      "text/plain": [
       "   SunshinePerDay  Cost of a bottle of water(City)  Obesity levels(Country)  \\\n",
       "0         5.00000                          2.51520                 20.40000   \n",
       "1         7.00000                          1.93880                 29.00000   \n",
       "2         5.00000                          2.54140                 20.10000   \n",
       "3         5.00000                          2.25320                 20.60000   \n",
       "4         5.00000                          2.86890                 19.70000   \n",
       "\n",
       "   WorkPerDay  Outdoor activities(City)  \n",
       "0     4.00000                       422  \n",
       "1     5.00000                       406  \n",
       "2     4.00000                       132  \n",
       "3     4.00000                       129  \n",
       "4     4.00000                       154  "
      ]
     },
     "execution_count": 12,
     "metadata": {},
     "output_type": "execute_result"
    }
   ],
   "source": [
    "healthy_df[['SunshinePerDay', 'Cost of a bottle of water(City)', \n",
    "            'Obesity levels(Country)', 'WorkPerDay', 'Outdoor activities(City)']].head()"
   ]
  },
  {
   "cell_type": "markdown",
   "id": "1f74a105",
   "metadata": {},
   "source": [
    "## EDA"
   ]
  },
  {
   "cell_type": "code",
   "execution_count": 13,
   "id": "e1b450ae",
   "metadata": {},
   "outputs": [],
   "source": [
    "def findOutliers_IQR(df):\n",
    "    '''\n",
    "    Find Outliers in the dataframe\n",
    "    \n",
    "    args:\n",
    "        df (dataframe)\n",
    "        \n",
    "    return:\n",
    "        outliers (dataframe)\n",
    "    '''\n",
    "    q1 = df.quantile(0.25)\n",
    "    q3 = df.quantile(0.75)\n",
    "    \n",
    "    IQR = q3 - q1\n",
    "    \n",
    "    lower_bound = q1 - 1.5 * IQR\n",
    "    upper_bound = q3 + 1.5 * IQR\n",
    "    \n",
    "    outliers = df[((df <= lower_bound) | (df >= upper_bound))]\n",
    "    \n",
    "    return outliers"
   ]
  },
  {
   "cell_type": "markdown",
   "id": "fa488ae3",
   "metadata": {},
   "source": [
    "## Histogram and outliers of each of the 5 variables and how to deal with the outliers"
   ]
  },
  {
   "cell_type": "markdown",
   "id": "dc079ef3",
   "metadata": {},
   "source": [
    "### Daily Hours of Sunshine Analysis"
   ]
  },
  {
   "cell_type": "code",
   "execution_count": 14,
   "id": "dde3c199",
   "metadata": {},
   "outputs": [
    {
     "data": {
      "image/png": "[encoded data removed]",
      "text/plain": [
       "<Figure size 576x432 with 1 Axes>"
      ]
     },
     "metadata": {
      "needs_background": "light"
     },
     "output_type": "display_data"
    }
   ],
   "source": [
    "\n",
    "# Histogram\n",
    "hoursSunshine_hist = healthy_df.hist(column = 'SunshinePerDay', figsize = (8,6), grid = False)\n",
    "\n",
    "hoursSunshine_hist = hoursSunshine_hist[0]\n",
    "for x in hoursSunshine_hist:\n",
    "    # Draw horizontal axis lines\n",
    "    vals = x.get_yticks()\n",
    "    for tick in vals:\n",
    "        x.axhline(y=tick, linestyle='dashed', alpha=0.4, color='#eeeeee', zorder=1)\n",
    "        \n",
    "    # Remove title\n",
    "    x.set_title(\"\")\n",
    "    \n",
    "    # Set X-axis label\n",
    "    x.set_xlabel(\"Daily Hours of Sunshine\", labelpad=20, weight='bold', size=12)\n",
    "    \n",
    "    # Set Y-axis label\n",
    "    x.set_ylabel(\"Counts\", labelpad=20, weight='bold', size=12)\n",
    "\n",
    "plt.show()"
   ]
  },
  {
   "cell_type": "code",
   "execution_count": 15,
   "id": "b8e2c5eb",
   "metadata": {},
   "outputs": [
    {
     "data": {
      "image/png": "[encoded data removed]",
      "text/plain": [
       "<Figure size 432x288 with 1 Axes>"
      ]
     },
     "metadata": {
      "needs_background": "light"
     },
     "output_type": "display_data"
    },
    {
     "data": {
      "text/plain": [
       "<Figure size 720x504 with 0 Axes>"
      ]
     },
     "metadata": {},
     "output_type": "display_data"
    }
   ],
   "source": [
    "# Boxplot\n",
    "plt.boxplot(healthy_df['SunshinePerDay'])\n",
    "fig = plt.figure(figsize = (10, 7))\n",
    "plt.show()"
   ]
  },
  {
   "cell_type": "code",
   "execution_count": 16,
   "id": "028eafe0",
   "metadata": {},
   "outputs": [
    {
     "name": "stdout",
     "output_type": "stream",
     "text": [
      "Mean: 6.113636363636363\n",
      "Median: 6.0\n",
      "Mode: 0   5.00000\n",
      "Name: SunshinePerDay, dtype: float64\n"
     ]
    }
   ],
   "source": [
    "print(f\"Mean: {healthy_df['SunshinePerDay'].mean()}\")\n",
    "print(f\"Median: {healthy_df['SunshinePerDay'].median()}\")\n",
    "print(f\"Mode: {healthy_df['SunshinePerDay'].mode()}\")"
   ]
  },
  {
   "cell_type": "code",
   "execution_count": 17,
   "id": "44044e98",
   "metadata": {},
   "outputs": [
    {
     "data": {
      "text/plain": [
       "count   44.00000\n",
       "mean     6.11364\n",
       "std      1.81999\n",
       "min      0.00000\n",
       "25%      5.00000\n",
       "50%      6.00000\n",
       "75%      7.00000\n",
       "max     10.00000\n",
       "Name: SunshinePerDay, dtype: float64"
      ]
     },
     "execution_count": 17,
     "metadata": {},
     "output_type": "execute_result"
    }
   ],
   "source": [
    "healthy_df['SunshinePerDay'].describe(include='all')"
   ]
  },
  {
   "cell_type": "code",
   "execution_count": 18,
   "id": "ae1195d6",
   "metadata": {},
   "outputs": [
    {
     "name": "stdout",
     "output_type": "stream",
     "text": [
      "Number of outliers for Sunshine hours: 2\n",
      "Max outlier for Sunshine hours: 10.0\n",
      "Min outlier for Sunshine hours: 0.0\n",
      "Outliers are: \n",
      "19    0.00000\n",
      "22   10.00000\n",
      "Name: SunshinePerDay, dtype: float64\n"
     ]
    }
   ],
   "source": [
    "outliers = findOutliers_IQR(healthy_df['SunshinePerDay'])\n",
    "print(f\"Number of outliers for Sunshine hours: {str(len(outliers))}\")\n",
    "print(f\"Max outlier for Sunshine hours: {str(outliers.max())}\")\n",
    "print(f\"Min outlier for Sunshine hours: {str(outliers.min())}\")\n",
    "\n",
    "print(f\"Outliers are: \\n{outliers}\")"
   ]
  },
  {
   "cell_type": "markdown",
   "id": "77332fea",
   "metadata": {},
   "source": [
    "The spread is from the minimum to the maximum which is 10 hrs\n",
    "Since the mean and median are the same there are no tails"
   ]
  },
  {
   "cell_type": "markdown",
   "id": "2967a0f9",
   "metadata": {},
   "source": [
    "*The outlier in this column is 0. As no city has 0 hours of sunshine per year I believe this to be a typo and\n",
    "the outlier should be removed from the data. A city can have 10 hours of sunshine so this piece of data should stay*"
   ]
  },
  {
   "cell_type": "markdown",
   "id": "9bf39436",
   "metadata": {},
   "source": [
    "### Obsesity Levels per Country Analysis"
   ]
  },
  {
   "cell_type": "code",
   "execution_count": 19,
   "id": "42b642ca",
   "metadata": {},
   "outputs": [
    {
     "data": {
      "image/png": "[encoded data removed]",
      "text/plain": [
       "<Figure size 576x432 with 1 Axes>"
      ]
     },
     "metadata": {
      "needs_background": "light"
     },
     "output_type": "display_data"
    }
   ],
   "source": [
    "# Obesity levels per Country\n",
    "obesityLevel_hist = healthy_df.hist(column = 'Obesity levels(Country)', figsize = (8,6), grid = False)\n",
    "\n",
    "obesityLevel_hist = obesityLevel_hist[0]\n",
    "for x in obesityLevel_hist:\n",
    "    # Draw horizontal axis lines\n",
    "    vals = x.get_yticks()\n",
    "    for tick in vals:\n",
    "        x.axhline(y=tick, linestyle='dashed', alpha=0.4, color='#eeeeee', zorder=1)\n",
    "        \n",
    "    # Remove title\n",
    "    x.set_title(\"\")\n",
    "    \n",
    "    # Set X-axis label\n",
    "    x.set_xlabel(\"Obesity Levels (%)\", labelpad=20, weight='bold', size=12)\n",
    "    \n",
    "    # Set Y-axis label\n",
    "    x.set_ylabel(\"Counts\", labelpad=20, weight='bold', size=12)\n",
    "\n",
    "plt.show()"
   ]
  },
  {
   "cell_type": "code",
   "execution_count": 20,
   "id": "f6344565",
   "metadata": {},
   "outputs": [
    {
     "data": {
      "image/png": "[encoded data removed]",
      "text/plain": [
       "<Figure size 432x288 with 1 Axes>"
      ]
     },
     "metadata": {
      "needs_background": "light"
     },
     "output_type": "display_data"
    },
    {
     "data": {
      "text/plain": [
       "<Figure size 720x504 with 0 Axes>"
      ]
     },
     "metadata": {},
     "output_type": "display_data"
    }
   ],
   "source": [
    "# Boxplot of Obesity levels per Country\n",
    "plt.boxplot(healthy_df['Obesity levels(Country)'])\n",
    "fig = plt.figure(figsize = (10, 7))\n",
    "plt.show()"
   ]
  },
  {
   "cell_type": "code",
   "execution_count": 21,
   "id": "8a31692c",
   "metadata": {},
   "outputs": [
    {
     "name": "stdout",
     "output_type": "stream",
     "text": [
      "Mean: 21.925000000000004\n",
      "Median: 22.3\n",
      "Mode: 0   36.20000\n",
      "Name: Obesity levels(Country), dtype: float64\n"
     ]
    }
   ],
   "source": [
    "print(f\"Mean: {healthy_df['Obesity levels(Country)'].mean()}\")\n",
    "print(f\"Median: {healthy_df['Obesity levels(Country)'].median()}\")\n",
    "print(f\"Mode: {healthy_df['Obesity levels(Country)'].mode()}\")"
   ]
  },
  {
   "cell_type": "code",
   "execution_count": 22,
   "id": "0d7e9581",
   "metadata": {},
   "outputs": [
    {
     "data": {
      "text/plain": [
       "count   44.00000\n",
       "mean    21.92500\n",
       "std     10.19567\n",
       "min      3.90000\n",
       "25%     19.50000\n",
       "50%     22.30000\n",
       "75%     29.00000\n",
       "max     36.20000\n",
       "Name: Obesity levels(Country), dtype: float64"
      ]
     },
     "execution_count": 22,
     "metadata": {},
     "output_type": "execute_result"
    }
   ],
   "source": [
    "healthy_df['Obesity levels(Country)'].describe()"
   ]
  },
  {
   "cell_type": "code",
   "execution_count": 23,
   "id": "c635b66d",
   "metadata": {},
   "outputs": [
    {
     "name": "stdout",
     "output_type": "stream",
     "text": [
      "Number of outliers for Obesity Levels: 4\n",
      "Max outlier for Obesity Levels: 4.7\n",
      "Min outlier for Obesity Levels: 3.9\n",
      "Outliers are: \n",
      "6    4.30000\n",
      "17   4.70000\n",
      "25   3.90000\n",
      "28   4.30000\n",
      "Name: Obesity levels(Country), dtype: float64\n"
     ]
    }
   ],
   "source": [
    "outliers = findOutliers_IQR(healthy_df['Obesity levels(Country)'])\n",
    "print(f\"Number of outliers for Obesity Levels: {str(len(outliers))}\")\n",
    "print(f\"Max outlier for Obesity Levels: {str(outliers.max())}\")\n",
    "print(f\"Min outlier for Obesity Levels: {str(outliers.min())}\")\n",
    "print(f\"Outliers are: \\n{outliers}\")"
   ]
  },
  {
   "cell_type": "markdown",
   "id": "cd1b3c31",
   "metadata": {},
   "source": [
    "*There are 4 outliers in this column and because there can be very small obesity levels in people, these\n",
    "should stay in the dataset*"
   ]
  },
  {
   "cell_type": "markdown",
   "id": "2702ede1",
   "metadata": {},
   "source": [
    "### Cost of a bottle of water Analysis"
   ]
  },
  {
   "cell_type": "code",
   "execution_count": 24,
   "id": "e81ce55d",
   "metadata": {},
   "outputs": [
    {
     "data": {
      "image/png": "[encoded data removed]",
      "text/plain": [
       "<Figure size 576x432 with 1 Axes>"
      ]
     },
     "metadata": {
      "needs_background": "light"
     },
     "output_type": "display_data"
    }
   ],
   "source": [
    "# Cost of a bottle of water per City\n",
    "waterCost_hist = healthy_df.hist(column = 'Cost of a bottle of water(City)', figsize = (8,6), grid = False)\n",
    "\n",
    "waterCost_hist = waterCost_hist[0]\n",
    "for x in waterCost_hist:\n",
    "    # Draw horizontal axis lines\n",
    "    vals = x.get_yticks()\n",
    "    for tick in vals:\n",
    "        x.axhline(y=tick, linestyle='dashed', alpha=0.4, color='#eeeeee', zorder=1)\n",
    "        \n",
    "    # Remove title\n",
    "    x.set_title(\"\")\n",
    "    \n",
    "    # Set X-axis label\n",
    "    x.set_xlabel(\"Cost of a Bottle of Water per City (US $)\", labelpad=20, weight='bold', size=12)\n",
    "    \n",
    "    # Set Y-axis label\n",
    "    x.set_ylabel(\"Counts\", labelpad=20, weight='bold', size=12)\n",
    "\n",
    "plt.show()"
   ]
  },
  {
   "cell_type": "code",
   "execution_count": 25,
   "id": "2028c73e",
   "metadata": {},
   "outputs": [
    {
     "data": {
      "image/png": "[encoded data removed]",
      "text/plain": [
       "<Figure size 432x288 with 1 Axes>"
      ]
     },
     "metadata": {
      "needs_background": "light"
     },
     "output_type": "display_data"
    },
    {
     "data": {
      "text/plain": [
       "<Figure size 720x504 with 0 Axes>"
      ]
     },
     "metadata": {},
     "output_type": "display_data"
    }
   ],
   "source": [
    "# Boxplot of Life Expectancy\n",
    "plt.boxplot(healthy_df['Cost of a bottle of water(City)'])\n",
    "fig = plt.figure(figsize = (10, 7))\n",
    "plt.show()"
   ]
  },
  {
   "cell_type": "code",
   "execution_count": 26,
   "id": "590e5ce4",
   "metadata": {},
   "outputs": [
    {
     "name": "stdout",
     "output_type": "stream",
     "text": [
      "Mean: 1.5371659090909093\n",
      "Median: 1.56545\n",
      "Mode: \n",
      "0   0.19650\n",
      "1   0.74670\n",
      "2   0.77290\n",
      "3   2.09600\n",
      "4   2.55450\n",
      "Name: Cost of a bottle of water(City), dtype: float64\n"
     ]
    }
   ],
   "source": [
    "print(f\"Mean: {healthy_df['Cost of a bottle of water(City)'].mean()}\")\n",
    "print(f\"Median: {healthy_df['Cost of a bottle of water(City)'].median()}\")\n",
    "print(f\"Mode: \\n{healthy_df['Cost of a bottle of water(City)'].mode()}\")"
   ]
  },
  {
   "cell_type": "code",
   "execution_count": 27,
   "id": "b6f66979",
   "metadata": {},
   "outputs": [
    {
     "data": {
      "text/plain": [
       "count   44.00000\n",
       "mean     1.53717\n",
       "std      0.94142\n",
       "min      0.19650\n",
       "25%      0.74670\n",
       "50%      1.56545\n",
       "75%      2.09600\n",
       "max      4.19200\n",
       "Name: Cost of a bottle of water(City), dtype: float64"
      ]
     },
     "execution_count": 27,
     "metadata": {},
     "output_type": "execute_result"
    }
   ],
   "source": [
    "healthy_df['Cost of a bottle of water(City)'].describe()"
   ]
  },
  {
   "cell_type": "code",
   "execution_count": 28,
   "id": "ef59b187",
   "metadata": {},
   "outputs": [
    {
     "name": "stdout",
     "output_type": "stream",
     "text": [
      "Number of outliers for water cost: 1\n",
      "Max outlier for water cost: 4.192\n",
      "Min outlier for water cost: 4.192\n",
      "Outliers are: \n",
      "36   4.19200\n",
      "Name: Cost of a bottle of water(City), dtype: float64\n"
     ]
    }
   ],
   "source": [
    "outliers = findOutliers_IQR(healthy_df['Cost of a bottle of water(City)'])\n",
    "print(f\"Number of outliers for water cost: {str(len(outliers))}\")\n",
    "print(f\"Max outlier for water cost: {str(outliers.max())}\")\n",
    "print(f\"Min outlier for water cost: {str(outliers.min())}\")\n",
    "print(f\"Outliers are: \\n{outliers}\")"
   ]
  },
  {
   "cell_type": "markdown",
   "id": "5126c7ed",
   "metadata": {},
   "source": [
    "*There is one outlier of $4.19 for a bottle of water. Since the mean is $1.52 I this we can be safe to remove this\n",
    "outlier and just a very expensive city*"
   ]
  },
  {
   "cell_type": "markdown",
   "id": "d08a32c4",
   "metadata": {},
   "source": [
    "### Outdoor activities(City) Analysis"
   ]
  },
  {
   "cell_type": "code",
   "execution_count": 29,
   "id": "dbaf25ab",
   "metadata": {},
   "outputs": [
    {
     "data": {
      "image/png": "[encoded data removed]",
      "text/plain": [
       "<Figure size 576x432 with 1 Axes>"
      ]
     },
     "metadata": {
      "needs_background": "light"
     },
     "output_type": "display_data"
    }
   ],
   "source": [
    "# histogram\n",
    "outdoor_hist = healthy_df.hist(column = 'Outdoor activities(City)', figsize = (8,6), grid = False)\n",
    "\n",
    "outdoor_hist = outdoor_hist[0]\n",
    "for x in outdoor_hist:\n",
    "    # Draw horizontal axis lines\n",
    "    vals = x.get_yticks()\n",
    "    for tick in vals:\n",
    "        x.axhline(y=tick, linestyle='dashed', alpha=0.4, color='#eeeeee', zorder=1)\n",
    "        \n",
    "    # Remove title\n",
    "    x.set_title(\"\")\n",
    "    \n",
    "    # Set X-axis label\n",
    "    x.set_xlabel(\"Outdoor Activities per City\", labelpad=20, weight='bold', size=12)\n",
    "    \n",
    "    # Set Y-axis label\n",
    "    x.set_ylabel(\"Counts\", labelpad=20, weight='bold', size=12)\n",
    "\n",
    "plt.show()"
   ]
  },
  {
   "cell_type": "code",
   "execution_count": 30,
   "id": "963df20e",
   "metadata": {},
   "outputs": [
    {
     "data": {
      "image/png": "[encoded data removed]",
      "text/plain": [
       "<Figure size 432x288 with 1 Axes>"
      ]
     },
     "metadata": {
      "needs_background": "light"
     },
     "output_type": "display_data"
    },
    {
     "data": {
      "text/plain": [
       "<Figure size 720x504 with 0 Axes>"
      ]
     },
     "metadata": {},
     "output_type": "display_data"
    }
   ],
   "source": [
    "# Boxplot\n",
    "plt.boxplot(healthy_df['Outdoor activities(City)'])\n",
    "fig = plt.figure(figsize = (10, 7))\n",
    "plt.show()"
   ]
  },
  {
   "cell_type": "code",
   "execution_count": 31,
   "id": "9576fb0a",
   "metadata": {},
   "outputs": [
    {
     "name": "stdout",
     "output_type": "stream",
     "text": [
      "Mean: 213.97727272727272\n",
      "Median: 189.5\n",
      "Mode: 0    223\n",
      "Name: Outdoor activities(City), dtype: int64\n"
     ]
    }
   ],
   "source": [
    "print(f\"Mean: {healthy_df['Outdoor activities(City)'].mean()}\")\n",
    "print(f\"Median: {healthy_df['Outdoor activities(City)'].median()}\")\n",
    "print(f\"Mode: {healthy_df['Outdoor activities(City)'].mode()}\")"
   ]
  },
  {
   "cell_type": "code",
   "execution_count": 32,
   "id": "fee9e9bd",
   "metadata": {},
   "outputs": [
    {
     "data": {
      "text/plain": [
       "count    44.00000\n",
       "mean    213.97727\n",
       "std     127.19030\n",
       "min      23.00000\n",
       "25%     125.25000\n",
       "50%     189.50000\n",
       "75%     288.25000\n",
       "max     585.00000\n",
       "Name: Outdoor activities(City), dtype: float64"
      ]
     },
     "execution_count": 32,
     "metadata": {},
     "output_type": "execute_result"
    }
   ],
   "source": [
    "healthy_df['Outdoor activities(City)'].describe()"
   ]
  },
  {
   "cell_type": "code",
   "execution_count": 33,
   "id": "7e1bf3d5",
   "metadata": {},
   "outputs": [
    {
     "name": "stdout",
     "output_type": "stream",
     "text": [
      "Number of outliers for outdoor activities: 1\n",
      "Max outlier for outdoor activities: 585\n",
      "Min outlier for outdoor activities: 585\n",
      "Outliers are: \n",
      "8    585\n",
      "Name: Outdoor activities(City), dtype: int64\n"
     ]
    }
   ],
   "source": [
    "outliers = findOutliers_IQR(healthy_df['Outdoor activities(City)'])\n",
    "print(f\"Number of outliers for outdoor activities: {str(len(outliers))}\")\n",
    "print(f\"Max outlier for outdoor activities: {str(outliers.max())}\")\n",
    "print(f\"Min outlier for outdoor activities: {str(outliers.min())}\")\n",
    "print(f\"Outliers are: \\n{outliers}\")"
   ]
  },
  {
   "cell_type": "markdown",
   "id": "c4214e63",
   "metadata": {},
   "source": [
    "*There are 1 outlier having a whopping 585 number of outdoor activites.  As the mean is 214, I think we can safely remove this one city*"
   ]
  },
  {
   "cell_type": "markdown",
   "id": "5d698f94",
   "metadata": {},
   "source": [
    "### Daily Average houred Worked Analysis"
   ]
  },
  {
   "cell_type": "code",
   "execution_count": 34,
   "id": "bee05549",
   "metadata": {},
   "outputs": [
    {
     "data": {
      "image/png": "[encoded data removed]",
      "text/plain": [
       "<Figure size 576x432 with 1 Axes>"
      ]
     },
     "metadata": {
      "needs_background": "light"
     },
     "output_type": "display_data"
    }
   ],
   "source": [
    "# Histogram\n",
    "hoursWorked_hist = healthy_df.hist(column = 'WorkPerDay', figsize = (8,6), grid = False)\n",
    "\n",
    "hoursWorked_hist = hoursWorked_hist[0]\n",
    "for x in hoursWorked_hist:\n",
    "    # Draw horizontal axis lines\n",
    "    vals = x.get_yticks()\n",
    "    for tick in vals:\n",
    "        x.axhline(y=tick, linestyle='dashed', alpha=0.4, color='#eeeeee', zorder=1)\n",
    "        \n",
    "    # Remove title\n",
    "    x.set_title(\"\")\n",
    "    \n",
    "    # Set X-axis label\n",
    "    x.set_xlabel(\"Daily Average Hours Worked\", labelpad=20, weight='bold', size=12)\n",
    "    \n",
    "    # Set Y-axis label\n",
    "    x.set_ylabel(\"Counts\", labelpad=20, weight='bold', size=12)\n",
    "\n",
    "plt.show()"
   ]
  },
  {
   "cell_type": "code",
   "execution_count": 35,
   "id": "c16fe793",
   "metadata": {},
   "outputs": [
    {
     "data": {
      "image/png": "[encoded data removed]",
      "text/plain": [
       "<Figure size 432x288 with 1 Axes>"
      ]
     },
     "metadata": {
      "needs_background": "light"
     },
     "output_type": "display_data"
    },
    {
     "data": {
      "text/plain": [
       "<Figure size 720x504 with 0 Axes>"
      ]
     },
     "metadata": {},
     "output_type": "display_data"
    }
   ],
   "source": [
    "# Boxplot\n",
    "plt.boxplot(healthy_df['WorkPerDay'])\n",
    "fig = plt.figure(figsize = (10, 7))\n",
    "plt.show()"
   ]
  },
  {
   "cell_type": "code",
   "execution_count": 36,
   "id": "f5276377",
   "metadata": {},
   "outputs": [
    {
     "name": "stdout",
     "output_type": "stream",
     "text": [
      "Mean: 3.5\n",
      "Median: 4.0\n",
      "Mode: 0   5.00000\n",
      "Name: WorkPerDay, dtype: float64\n"
     ]
    }
   ],
   "source": [
    "print(f\"Mean: {healthy_df['WorkPerDay'].mean()}\")\n",
    "print(f\"Median: {healthy_df['WorkPerDay'].median()}\")\n",
    "print(f\"Mode: {healthy_df['WorkPerDay'].mode()}\")"
   ]
  },
  {
   "cell_type": "code",
   "execution_count": 37,
   "id": "f6e25e5c",
   "metadata": {},
   "outputs": [
    {
     "data": {
      "text/plain": [
       "count   44.00000\n",
       "mean     3.50000\n",
       "std      2.09651\n",
       "min      0.00000\n",
       "25%      3.00000\n",
       "50%      4.00000\n",
       "75%      5.00000\n",
       "max      6.00000\n",
       "Name: WorkPerDay, dtype: float64"
      ]
     },
     "execution_count": 37,
     "metadata": {},
     "output_type": "execute_result"
    }
   ],
   "source": [
    "healthy_df['WorkPerDay'].describe(include  = 'all')"
   ]
  },
  {
   "cell_type": "code",
   "execution_count": 38,
   "id": "152f80a6",
   "metadata": {},
   "outputs": [
    {
     "name": "stdout",
     "output_type": "stream",
     "text": [
      "Number of outliers for Avg Hours Worked: 11\n",
      "Max outlier for Avg Hours Worked: 0.0\n",
      "Min outlier for Avg Hours Worked: 0.0\n",
      "Outliers are: \n",
      "11   0.00000\n",
      "12   0.00000\n",
      "13   0.00000\n",
      "16   0.00000\n",
      "22   0.00000\n",
      "23   0.00000\n",
      "25   0.00000\n",
      "30   0.00000\n",
      "31   0.00000\n",
      "35   0.00000\n",
      "38   0.00000\n",
      "Name: WorkPerDay, dtype: float64\n"
     ]
    }
   ],
   "source": [
    "outliers = findOutliers_IQR(healthy_df['WorkPerDay'])\n",
    "print(f\"Number of outliers for Avg Hours Worked: {str(len(outliers))}\")\n",
    "print(f\"Max outlier for Avg Hours Worked: {str(outliers.max())}\")\n",
    "print(f\"Min outlier for Avg Hours Worked: {str(outliers.min())}\")\n",
    "print(f\"Outliers are: \\n{outliers}\")"
   ]
  },
  {
   "cell_type": "markdown",
   "id": "d5bba67f",
   "metadata": {},
   "source": [
    "*A lot of the cities has 0 daily hours of work but since this is an average this needs to stay in the dataset*"
   ]
  },
  {
   "cell_type": "markdown",
   "id": "45eeaaaa",
   "metadata": {},
   "source": [
    "## Compare Two Scenarios using a PMF for the Same Variable"
   ]
  },
  {
   "cell_type": "code",
   "execution_count": 39,
   "id": "22ff50fc",
   "metadata": {},
   "outputs": [],
   "source": [
    "### Compare Obesity Levels from the number of hours per day of Sunshine"
   ]
  },
  {
   "cell_type": "code",
   "execution_count": 40,
   "id": "f4b901be",
   "metadata": {},
   "outputs": [
    {
     "data": {
      "text/plain": [
       "0.00000      1\n",
       "4.00000      4\n",
       "5.00000     15\n",
       "6.00000      4\n",
       "7.00000     12\n",
       "8.00000      3\n",
       "9.00000      4\n",
       "10.00000     1\n",
       "Name: SunshinePerDay, dtype: int64"
      ]
     },
     "execution_count": 40,
     "metadata": {},
     "output_type": "execute_result"
    }
   ],
   "source": [
    "# Get the unique values of the number of hours\n",
    "healthy_df[\"SunshinePerDay\"].value_counts().sort_index()"
   ]
  },
  {
   "cell_type": "markdown",
   "id": "ba5b9143",
   "metadata": {},
   "source": [
    "### Compare the highest frequency of 5 hours compares to the rest for obesity levels"
   ]
  },
  {
   "cell_type": "code",
   "execution_count": 41,
   "id": "acbc0a40",
   "metadata": {},
   "outputs": [
    {
     "name": "stdout",
     "output_type": "stream",
     "text": [
      "4.30000     1\n",
      "6.20000     2\n",
      "19.70000    1\n",
      "19.90000    1\n",
      "20.10000    1\n",
      "20.40000    1\n",
      "20.60000    1\n",
      "21.60000    1\n",
      "22.20000    1\n",
      "22.30000    2\n",
      "23.10000    1\n",
      "27.80000    1\n",
      "29.40000    1\n",
      "Name: Obesity levels(Country), dtype: int64\n",
      "3.90000     1\n",
      "4.30000     1\n",
      "4.70000     1\n",
      "6.20000     2\n",
      "6.90000     1\n",
      "10.00000    1\n",
      "19.50000    2\n",
      "22.10000    2\n",
      "23.80000    2\n",
      "25.30000    1\n",
      "26.10000    1\n",
      "28.30000    2\n",
      "28.90000    1\n",
      "29.00000    2\n",
      "29.40000    1\n",
      "32.00000    1\n",
      "32.10000    1\n",
      "36.20000    6\n",
      "Name: Obesity levels(Country), dtype: int64\n"
     ]
    }
   ],
   "source": [
    "# Create df for 5 hours of sunshine and non 5 hours of sunshine\n",
    "obesity_hours5 = healthy_df[healthy_df.SunshinePerDay == 5]\n",
    "print(obesity_hours5['Obesity levels(Country)'].value_counts().sort_index())\n",
    "\n",
    "obesity_rest = healthy_df[healthy_df.SunshinePerDay != 5]\n",
    "print(obesity_rest['Obesity levels(Country)'].value_counts().sort_index())"
   ]
  },
  {
   "cell_type": "code",
   "execution_count": 42,
   "id": "4aeae53b",
   "metadata": {},
   "outputs": [
    {
     "data": {
      "image/png": "[encoded data removed]",
      "text/plain": [
       "<Figure size 432x288 with 1 Axes>"
      ]
     },
     "metadata": {
      "needs_background": "light"
     },
     "output_type": "display_data"
    }
   ],
   "source": [
    "# Plot the PMF levels of 5 hours of Sunshine\n",
    "obesity_5hrs_pmf = Pmf.from_seq(obesity_hours5['Obesity levels(Country)'])\n",
    "plt.xlabel(\"Obesity Level (%)\")\n",
    "plt.ylabel(\"PMF\")\n",
    "obesity_5hrs_pmf.bar()"
   ]
  },
  {
   "cell_type": "code",
   "execution_count": 43,
   "id": "e48437cf",
   "metadata": {},
   "outputs": [
    {
     "name": "stdout",
     "output_type": "stream",
     "text": [
      "Mean obesity of 5 hours of Sunshine: 19.07333333333333\n",
      "Mean obesity of Rest of Sunshine: 23.400000000000002\n"
     ]
    },
    {
     "data": {
      "image/png": "[encoded data removed]",
      "text/plain": [
       "<Figure size 648x504 with 1 Axes>"
      ]
     },
     "metadata": {
      "needs_background": "light"
     },
     "output_type": "display_data"
    }
   ],
   "source": [
    "# Compare the PMF of Obesity Level in 5 hours vs the rest\n",
    "obesity_5hrs_pmf = Pmf.from_seq(obesity_hours5['Obesity levels(Country)'])\n",
    "obesity_rest_pmf = Pmf.from_seq(obesity_rest['Obesity levels(Country)'])\n",
    "\n",
    "fig, ax = plt.subplots(1, 1, figsize = (9, 7))\n",
    "\n",
    "fiveHours = mpatches.Patch(color='red', label='5 Hours of Sunshine')\n",
    "rest = mpatches.Patch(color='blue', label='Not 5 Hours of Sunshine')\n",
    "ax.legend(handles=[fiveHours, rest ], )\n",
    "\n",
    "plt.xlabel(\"Obesity Level (%)\")\n",
    "plt.ylabel(\"PMF\")\n",
    "\n",
    "obesity_5hrs_pmf.bar(color=['red'])\n",
    "obesity_rest_pmf.bar(color=['blue'])\n",
    "\n",
    "# Save figure for powerpoint\n",
    "plt.savefig('Obesity Levels per Hours of Sunshine.png')\n",
    "\n",
    "print(f\"Mean obesity of 5 hours of Sunshine: {obesity_5hrs_pmf.mean()}\")\n",
    "print(f\"Mean obesity of Rest of Sunshine: {obesity_rest_pmf.mean()}\")"
   ]
  },
  {
   "cell_type": "markdown",
   "id": "05935792",
   "metadata": {},
   "source": [
    "*With 5 hours of sunshine the obesity levels are much lower than any other amount of sunshine per day*"
   ]
  },
  {
   "cell_type": "markdown",
   "id": "c2b59fcc",
   "metadata": {},
   "source": [
    "### Create 1 CDF with one of your variables"
   ]
  },
  {
   "cell_type": "code",
   "execution_count": 44,
   "id": "9d940a1b",
   "metadata": {},
   "outputs": [
    {
     "data": {
      "text/html": [
       "<div>\n",
       "<style scoped>\n",
       "    .dataframe tbody tr th:only-of-type {\n",
       "        vertical-align: middle;\n",
       "    }\n",
       "\n",
       "    .dataframe tbody tr th {\n",
       "        vertical-align: top;\n",
       "    }\n",
       "\n",
       "    .dataframe thead th {\n",
       "        text-align: right;\n",
       "    }\n",
       "</style>\n",
       "<table border=\"1\" class=\"dataframe\">\n",
       "  <thead>\n",
       "    <tr style=\"text-align: right;\">\n",
       "      <th></th>\n",
       "      <th>probs</th>\n",
       "    </tr>\n",
       "  </thead>\n",
       "  <tbody>\n",
       "    <tr>\n",
       "      <th>0.19650</th>\n",
       "      <td>0.04545</td>\n",
       "    </tr>\n",
       "    <tr>\n",
       "      <th>0.20960</th>\n",
       "      <td>0.06818</td>\n",
       "    </tr>\n",
       "    <tr>\n",
       "      <th>0.27510</th>\n",
       "      <td>0.09091</td>\n",
       "    </tr>\n",
       "  </tbody>\n",
       "</table>\n",
       "</div>"
      ],
      "text/plain": [
       "0.19650   0.04545\n",
       "0.20960   0.06818\n",
       "0.27510   0.09091\n",
       "Name: , dtype: float64"
      ]
     },
     "execution_count": 44,
     "metadata": {},
     "output_type": "execute_result"
    }
   ],
   "source": [
    "# Cost of a bottle of water(City)\n",
    "waterCost_cdf = Cdf.from_seq(healthy_df['Cost of a bottle of water(City)'])\n",
    "waterCost_cdf.head()"
   ]
  },
  {
   "cell_type": "code",
   "execution_count": 45,
   "id": "24516dbd",
   "metadata": {},
   "outputs": [
    {
     "name": "stdout",
     "output_type": "stream",
     "text": [
      "Cost of a Bottle of Water at Probability of 50%: $1.5589\n"
     ]
    },
    {
     "data": {
      "image/png": "[encoded data removed]",
      "text/plain": [
       "<Figure size 432x288 with 1 Axes>"
      ]
     },
     "metadata": {
      "needs_background": "light"
     },
     "output_type": "display_data"
    }
   ],
   "source": [
    "waterCost_cdf.plot()\n",
    "plt.xlabel('Cost of Bottle of Water (US $)')\n",
    "plt.ylabel('CDF')\n",
    "plt.title('Distribution of the Cost of a Bottle of Water')\n",
    "\n",
    "print(f\"Cost of a Bottle of Water at Probability of 50%: ${waterCost_cdf.inverse(0.5)}\")"
   ]
  },
  {
   "cell_type": "markdown",
   "id": "e3fc4901",
   "metadata": {},
   "source": [
    "### What does this tell you about your variable and now does it address the question you are trying to answer"
   ]
  },
  {
   "cell_type": "markdown",
   "id": "02257050",
   "metadata": {},
   "source": [
    "Looking at the CDF plot, the average cost of a bottle of water is \\\\$1.56. Most cities charge a different value for their water and it seems to top off around \\\\$2.50."
   ]
  },
  {
   "cell_type": "markdown",
   "id": "acabf993",
   "metadata": {},
   "source": [
    "### Analytical Distribution and provide analysis on how it applies to the dataset"
   ]
  },
  {
   "cell_type": "code",
   "execution_count": 46,
   "id": "9c9cdf0f",
   "metadata": {},
   "outputs": [],
   "source": [
    "# Obesity levels(Country)\n",
    "# Normal Probablity Plot"
   ]
  },
  {
   "cell_type": "code",
   "execution_count": 47,
   "id": "6085de03",
   "metadata": {},
   "outputs": [
    {
     "data": {
      "text/plain": [
       "((array([-2.15374952, -1.77530174, -1.55088744, -1.38514138, -1.25057432,\n",
       "         -1.1354892 , -1.03375442, -0.94172868, -0.85705923, -0.7781294 ,\n",
       "         -0.70377435, -0.63312213, -0.5654989 , -0.50036931, -0.43729746,\n",
       "         -0.3759202 , -0.31592847, -0.25705362, -0.19905725, -0.14172333,\n",
       "         -0.08485191, -0.02825382,  0.02825382,  0.08485191,  0.14172333,\n",
       "          0.19905725,  0.25705362,  0.31592847,  0.3759202 ,  0.43729746,\n",
       "          0.50036931,  0.5654989 ,  0.63312213,  0.70377435,  0.7781294 ,\n",
       "          0.85705923,  0.94172868,  1.03375442,  1.1354892 ,  1.25057432,\n",
       "          1.38514138,  1.55088744,  1.77530174,  2.15374952]),\n",
       "  array([ 3.9,  4.3,  4.3,  4.7,  6.2,  6.2,  6.2,  6.2,  6.9, 10. , 19.5,\n",
       "         19.5, 19.7, 19.9, 20.1, 20.4, 20.6, 21.6, 22.1, 22.1, 22.2, 22.3,\n",
       "         22.3, 23.1, 23.8, 23.8, 25.3, 26.1, 27.8, 28.3, 28.3, 28.9, 29. ,\n",
       "         29. , 29.4, 29.4, 32. , 32.1, 36.2, 36.2, 36.2, 36.2, 36.2, 36.2])),\n",
       " (10.055308561879002, 21.925000000000008, 0.9582079180165692))"
      ]
     },
     "execution_count": 47,
     "metadata": {},
     "output_type": "execute_result"
    },
    {
     "data": {
      "image/png": "[encoded data removed]",
      "text/plain": [
       "<Figure size 432x288 with 1 Axes>"
      ]
     },
     "metadata": {
      "needs_background": "light"
     },
     "output_type": "display_data"
    }
   ],
   "source": [
    "scipy.stats.probplot(healthy_df['Obesity levels(Country)'], dist=\"norm\", plot = plt)"
   ]
  },
  {
   "cell_type": "markdown",
   "id": "bd9a1317",
   "metadata": {},
   "source": [
    "The probablity plot suggests that the distribution of Obesity weights does not really follow a normal distribution."
   ]
  },
  {
   "cell_type": "markdown",
   "id": "53755264",
   "metadata": {},
   "source": [
    "## Create 2 scatterplots comparing two variables and provide analysis on correlation and causation"
   ]
  },
  {
   "cell_type": "markdown",
   "id": "0510f0c4",
   "metadata": {},
   "source": [
    "### Is the obesity levels in a city related to the number of hours of sunshine?"
   ]
  },
  {
   "cell_type": "code",
   "execution_count": 48,
   "id": "0016066d",
   "metadata": {},
   "outputs": [
    {
     "data": {
      "text/plain": [
       "<AxesSubplot:xlabel='Obesity levels(Country)', ylabel='SunshinePerDay'>"
      ]
     },
     "execution_count": 48,
     "metadata": {},
     "output_type": "execute_result"
    },
    {
     "data": {
      "image/png": "[encoded data removed]",
      "text/plain": [
       "<Figure size 432x288 with 1 Axes>"
      ]
     },
     "metadata": {
      "needs_background": "light"
     },
     "output_type": "display_data"
    }
   ],
   "source": [
    "healthy_df.plot.scatter(x = 'Obesity levels(Country)', y = 'SunshinePerDay')"
   ]
  },
  {
   "cell_type": "markdown",
   "id": "0268a5a6",
   "metadata": {},
   "source": [
    "Looking at the scatterplot, it doesnt look like there is a correlation between obesity levels and the number of hours of sunshine per day a city has."
   ]
  },
  {
   "cell_type": "code",
   "execution_count": 49,
   "id": "70228cf7",
   "metadata": {},
   "outputs": [
    {
     "data": {
      "text/plain": [
       "5.076704545454547"
      ]
     },
     "execution_count": 49,
     "metadata": {},
     "output_type": "execute_result"
    }
   ],
   "source": [
    "# Covariance of the population\n",
    "\n",
    "healthy_covariance = np.cov(healthy_df['Obesity levels(Country)'], healthy_df['SunshinePerDay'], bias = True)[0][1]\n",
    "healthy_covariance"
   ]
  },
  {
   "cell_type": "markdown",
   "id": "dbe834a1",
   "metadata": {},
   "source": [
    "The covariance is positive so the obesity levels and number of hours of sunshine are both moving in the same direction."
   ]
  },
  {
   "cell_type": "code",
   "execution_count": 50,
   "id": "86ca3264",
   "metadata": {},
   "outputs": [
    {
     "name": "stdout",
     "output_type": "stream",
     "text": [
      "Pearsons: (0.2799503789654266, 0.06569258137412595)\n"
     ]
    }
   ],
   "source": [
    "# Pearson's Correlation Coefficient\n",
    "\n",
    "healthy_pearson = scipy.stats.pearsonr(healthy_df['Obesity levels(Country)'], healthy_df['SunshinePerDay'])\n",
    "print(f\"Pearsons: {healthy_pearson}\")"
   ]
  },
  {
   "cell_type": "code",
   "execution_count": 51,
   "id": "74fa0fa7",
   "metadata": {},
   "outputs": [
    {
     "name": "stdout",
     "output_type": "stream",
     "text": [
      "Spearmans: SpearmanrResult(correlation=0.40740616681443814, pvalue=0.006054298219815343)\n"
     ]
    }
   ],
   "source": [
    "# Spearman's Correlation Coefficient\n",
    "\n",
    "healthy_spearman = scipy.stats.spearmanr(healthy_df['Obesity levels(Country)'], healthy_df['SunshinePerDay'])\n",
    "print(f\"Spearmans: {healthy_spearman}\")"
   ]
  },
  {
   "cell_type": "markdown",
   "id": "b8d8adbe",
   "metadata": {},
   "source": [
    "Spearman's coefficient is higher than Pearson's coefficent. This could be due to the outliers in both Obesity levels and Number of Hours of Sunshine."
   ]
  },
  {
   "cell_type": "markdown",
   "id": "94a93fd3",
   "metadata": {},
   "source": [
    "### Is the number of outdoor activities related to the cost of a bottle of water?"
   ]
  },
  {
   "cell_type": "code",
   "execution_count": 52,
   "id": "66b471f9",
   "metadata": {},
   "outputs": [
    {
     "data": {
      "text/plain": [
       "<AxesSubplot:xlabel='Cost of a bottle of water(City)', ylabel='Outdoor activities(City)'>"
      ]
     },
     "execution_count": 52,
     "metadata": {},
     "output_type": "execute_result"
    },
    {
     "data": {
      "image/png": "[encoded data removed]",
      "text/plain": [
       "<Figure size 432x288 with 1 Axes>"
      ]
     },
     "metadata": {
      "needs_background": "light"
     },
     "output_type": "display_data"
    }
   ],
   "source": [
    "healthy_df.plot.scatter(x = 'Cost of a bottle of water(City)', y = 'Outdoor activities(City)')"
   ]
  },
  {
   "cell_type": "code",
   "execution_count": 53,
   "id": "3a467381",
   "metadata": {},
   "outputs": [
    {
     "data": {
      "text/plain": [
       "-30.4594825929752"
      ]
     },
     "execution_count": 53,
     "metadata": {},
     "output_type": "execute_result"
    }
   ],
   "source": [
    "# Covariance of the population\n",
    "\n",
    "healthy_covariance = np.cov(healthy_df['Cost of a bottle of water(City)'], \n",
    "                            healthy_df['Outdoor activities(City)'], bias = True)[0][1]\n",
    "healthy_covariance"
   ]
  },
  {
   "cell_type": "markdown",
   "id": "2912f76b",
   "metadata": {},
   "source": [
    "The covariance is -30.5 indicating that when the cost of a bottle of water goes down the number of outdoor activities also goes down."
   ]
  },
  {
   "cell_type": "code",
   "execution_count": 54,
   "id": "3e3a7128",
   "metadata": {},
   "outputs": [
    {
     "name": "stdout",
     "output_type": "stream",
     "text": [
      "Pearsons: (-0.26029684476344606, 0.0879219059846264)\n"
     ]
    }
   ],
   "source": [
    "# Pearson's Correlation Coefficient\n",
    "\n",
    "healthy_pearson = scipy.stats.pearsonr(healthy_df['Cost of a bottle of water(City)'], \n",
    "                                       healthy_df['Outdoor activities(City)'])\n",
    "print(f\"Pearsons: {healthy_pearson}\")"
   ]
  },
  {
   "cell_type": "markdown",
   "id": "f9357973",
   "metadata": {},
   "source": [
    "The Pearson's coefficient is -0.26 with a p-value of 0.09.  This indicates that there is most likely no correlation between the cost of a bottle of water and the number of activities a city has."
   ]
  },
  {
   "cell_type": "code",
   "execution_count": 55,
   "id": "617ab157",
   "metadata": {},
   "outputs": [
    {
     "name": "stdout",
     "output_type": "stream",
     "text": [
      "Spearmans: SpearmanrResult(correlation=-0.2880101529993642, pvalue=0.05798196926875095)\n"
     ]
    }
   ],
   "source": [
    "# Spearman's Correlation Coefficient\n",
    "\n",
    "healthy_spearman = scipy.stats.spearmanr(healthy_df['Cost of a bottle of water(City)'], \n",
    "                                         healthy_df['Outdoor activities(City)'])\n",
    "print(f\"Spearmans: {healthy_spearman}\")"
   ]
  },
  {
   "cell_type": "markdown",
   "id": "27c506b5",
   "metadata": {},
   "source": [
    "Spearman's coefficient is -0.29 with a p-value of 0.08. This indicates that there is most likely no correlation between the cost of a bottle of water and the number of outdoor activities a city has."
   ]
  },
  {
   "cell_type": "markdown",
   "id": "a5e5220b",
   "metadata": {},
   "source": [
    "### Conduct a test on your hypothesis"
   ]
  },
  {
   "cell_type": "markdown",
   "id": "a0a0b97e",
   "metadata": {},
   "source": [
    "*Hypothesis: If the number of average hours worked decreased does the obesity levels also decrease in a healthy city?*"
   ]
  },
  {
   "cell_type": "code",
   "execution_count": 56,
   "id": "e40f52c1",
   "metadata": {},
   "outputs": [],
   "source": [
    "sunshine = healthy_df['SunshinePerDay']\n",
    "obesity = healthy_df['Obesity levels(Country)']"
   ]
  },
  {
   "cell_type": "code",
   "execution_count": 58,
   "id": "23055134",
   "metadata": {},
   "outputs": [
    {
     "data": {
      "text/plain": [
       "0.2799503789654266"
      ]
     },
     "execution_count": 58,
     "metadata": {},
     "output_type": "execute_result"
    }
   ],
   "source": [
    "corr = scipy.stats.pearsonr(obesity, sunshine)[0]\n",
    "corr"
   ]
  },
  {
   "cell_type": "markdown",
   "id": "9c2d7745",
   "metadata": {},
   "source": [
    "## A correlation of 0.28 indicates a low positive correlation between number of hours of sunshine and obesity levels."
   ]
  },
  {
   "cell_type": "code",
   "execution_count": 59,
   "id": "db9ee95e",
   "metadata": {},
   "outputs": [
    {
     "data": {
      "image/png": "[encoded data removed]",
      "text/plain": [
       "<Figure size 432x288 with 1 Axes>"
      ]
     },
     "metadata": {
      "needs_background": "light"
     },
     "output_type": "display_data"
    }
   ],
   "source": [
    "plt.scatter(sunshine, obesity)\n",
    "plt.title('Obesity levels vs Sunshine')\n",
    "plt.xlabel(\"Obesity Levels\")\n",
    "plt.ylabel(\"Sunshine hours per Day\")\n",
    "plt.show()"
   ]
  },
  {
   "cell_type": "code",
   "execution_count": 60,
   "id": "41cc1837",
   "metadata": {},
   "outputs": [
    {
     "name": "stdout",
     "output_type": "stream",
     "text": [
      "p-value: 0.039\n"
     ]
    }
   ],
   "source": [
    "# hypothesis test\n",
    "iters = 1000\n",
    "shuffle = np.array(obesity)\n",
    "count = 0\n",
    "\n",
    "for _ in range(iters):\n",
    "    np.random.shuffle(shuffle)\n",
    "    new_corr = scipy.stats.pearsonr(shuffle, sunshine)[0]\n",
    "    \n",
    "    if new_corr > corr:\n",
    "        count += 1\n",
    "        \n",
    "print(f\"p-value: {count / iters}\")"
   ]
  },
  {
   "cell_type": "markdown",
   "id": "ac3bcbdb",
   "metadata": {},
   "source": [
    "A p-value of 0.39 shows that the null hypothesis is rejected and the test is significant."
   ]
  },
  {
   "cell_type": "code",
   "execution_count": null,
   "id": "1790d343",
   "metadata": {},
   "outputs": [],
   "source": []
  }
 ],
 "metadata": {
  "kernelspec": {
   "display_name": "Python 3 (ipykernel)",
   "language": "python",
   "name": "python3"
  },
  "language_info": {
   "codemirror_mode": {
    "name": "ipython",
    "version": 3
   },
   "file_extension": ".py",
   "mimetype": "text/x-python",
   "name": "python",
   "nbconvert_exporter": "python",
   "pygments_lexer": "ipython3",
   "version": "3.8.8"
  }
 },
 "nbformat": 4,
 "nbformat_minor": 5
}
