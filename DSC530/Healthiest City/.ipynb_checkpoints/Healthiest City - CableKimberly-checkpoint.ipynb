{
 "cells": [
  {
   "cell_type": "markdown",
   "id": "6fe5e68d",
   "metadata": {},
   "source": [
    "## Healthiest City\n",
    "\n",
    "Data source: Healthy Lifestyle Cities Report 2021 from https://www.lenstore.co.uk/research/healthy-lifestyle-report/"
   ]
  },
  {
   "cell_type": "markdown",
   "id": "d64f63bc",
   "metadata": {},
   "source": [
    "**Research Topic:**\n",
    "\n",
    "What does it mean to be the healthiest city?\n",
    "\n",
    "**Research questions:**\n",
    "1. Can cities with a high average of hours worked be healthy?\n",
    "2. Do cities with more sunshine have more outdoor activities resulting in a healthier city?"
   ]
  },
  {
   "cell_type": "code",
   "execution_count": 1,
   "id": "5e9aab89",
   "metadata": {},
   "outputs": [],
   "source": [
    "import pandas as pd\n",
    "pd.options.mode.chained_assignment = None  # default='warn'\n",
    "import numpy as np\n",
    "import matplotlib.pyplot as plt\n",
    "import matplotlib.patches as mpatches\n",
    "from empiricaldist import Pmf\n",
    "from empiricaldist import Cdf\n",
    "import scipy.stats\n",
    "from scipy.stats import norm\n",
    "import statsmodels.formula.api as smf\n",
    "\n",
    "import thinkstats2\n",
    "import thinkplot\n",
    "\n",
    "pd.options.display.float_format = '{:.5f}'.format"
   ]
  },
  {
   "cell_type": "code",
   "execution_count": 2,
   "id": "95514938",
   "metadata": {},
   "outputs": [
    {
     "data": {
      "text/html": [
       "<div>\n",
       "<style scoped>\n",
       "    .dataframe tbody tr th:only-of-type {\n",
       "        vertical-align: middle;\n",
       "    }\n",
       "\n",
       "    .dataframe tbody tr th {\n",
       "        vertical-align: top;\n",
       "    }\n",
       "\n",
       "    .dataframe thead th {\n",
       "        text-align: right;\n",
       "    }\n",
       "</style>\n",
       "<table border=\"1\" class=\"dataframe\">\n",
       "  <thead>\n",
       "    <tr style=\"text-align: right;\">\n",
       "      <th></th>\n",
       "      <th>City</th>\n",
       "      <th>Rank</th>\n",
       "      <th>Sunshine hours(City)</th>\n",
       "      <th>Cost of a bottle of water(City)</th>\n",
       "      <th>Obesity levels(Country)</th>\n",
       "      <th>Life expectancy(years) (Country)</th>\n",
       "      <th>Pollution(Index score) (City)</th>\n",
       "      <th>Annual avg. hours worked</th>\n",
       "      <th>Happiness levels(Country)</th>\n",
       "      <th>Outdoor activities(City)</th>\n",
       "      <th>Number of take out places(City)</th>\n",
       "      <th>Cost of a monthly gym membership(City)</th>\n",
       "    </tr>\n",
       "  </thead>\n",
       "  <tbody>\n",
       "    <tr>\n",
       "      <th>0</th>\n",
       "      <td>Amsterdam</td>\n",
       "      <td>1</td>\n",
       "      <td>1858</td>\n",
       "      <td>£1.92</td>\n",
       "      <td>20.40%</td>\n",
       "      <td>81.20000</td>\n",
       "      <td>30.93</td>\n",
       "      <td>1434</td>\n",
       "      <td>7.44000</td>\n",
       "      <td>422</td>\n",
       "      <td>1048</td>\n",
       "      <td>£34.90</td>\n",
       "    </tr>\n",
       "    <tr>\n",
       "      <th>1</th>\n",
       "      <td>Sydney</td>\n",
       "      <td>2</td>\n",
       "      <td>2636</td>\n",
       "      <td>£1.48</td>\n",
       "      <td>29.00%</td>\n",
       "      <td>82.10000</td>\n",
       "      <td>26.86</td>\n",
       "      <td>1712</td>\n",
       "      <td>7.22000</td>\n",
       "      <td>406</td>\n",
       "      <td>1103</td>\n",
       "      <td>£41.66</td>\n",
       "    </tr>\n",
       "    <tr>\n",
       "      <th>2</th>\n",
       "      <td>Vienna</td>\n",
       "      <td>3</td>\n",
       "      <td>1884</td>\n",
       "      <td>£1.94</td>\n",
       "      <td>20.10%</td>\n",
       "      <td>81.00000</td>\n",
       "      <td>17.33</td>\n",
       "      <td>1501</td>\n",
       "      <td>7.29000</td>\n",
       "      <td>132</td>\n",
       "      <td>1008</td>\n",
       "      <td>£25.74</td>\n",
       "    </tr>\n",
       "    <tr>\n",
       "      <th>3</th>\n",
       "      <td>Stockholm</td>\n",
       "      <td>4</td>\n",
       "      <td>1821</td>\n",
       "      <td>£1.72</td>\n",
       "      <td>20.60%</td>\n",
       "      <td>81.80000</td>\n",
       "      <td>19.63</td>\n",
       "      <td>1452</td>\n",
       "      <td>7.35000</td>\n",
       "      <td>129</td>\n",
       "      <td>598</td>\n",
       "      <td>£37.31</td>\n",
       "    </tr>\n",
       "    <tr>\n",
       "      <th>4</th>\n",
       "      <td>Copenhagen</td>\n",
       "      <td>5</td>\n",
       "      <td>1630</td>\n",
       "      <td>£2.19</td>\n",
       "      <td>19.70%</td>\n",
       "      <td>79.80000</td>\n",
       "      <td>21.24</td>\n",
       "      <td>1380</td>\n",
       "      <td>7.64000</td>\n",
       "      <td>154</td>\n",
       "      <td>523</td>\n",
       "      <td>£32.53</td>\n",
       "    </tr>\n",
       "  </tbody>\n",
       "</table>\n",
       "</div>"
      ],
      "text/plain": [
       "         City  Rank Sunshine hours(City) Cost of a bottle of water(City)  \\\n",
       "0   Amsterdam     1                 1858                           £1.92   \n",
       "1      Sydney     2                 2636                           £1.48   \n",
       "2      Vienna     3                 1884                           £1.94   \n",
       "3   Stockholm     4                 1821                           £1.72   \n",
       "4  Copenhagen     5                 1630                           £2.19   \n",
       "\n",
       "  Obesity levels(Country)  Life expectancy(years) (Country)  \\\n",
       "0                  20.40%                          81.20000   \n",
       "1                  29.00%                          82.10000   \n",
       "2                  20.10%                          81.00000   \n",
       "3                  20.60%                          81.80000   \n",
       "4                  19.70%                          79.80000   \n",
       "\n",
       "  Pollution(Index score) (City) Annual avg. hours worked  \\\n",
       "0                         30.93                     1434   \n",
       "1                         26.86                     1712   \n",
       "2                         17.33                     1501   \n",
       "3                         19.63                     1452   \n",
       "4                         21.24                     1380   \n",
       "\n",
       "   Happiness levels(Country)  Outdoor activities(City)  \\\n",
       "0                    7.44000                       422   \n",
       "1                    7.22000                       406   \n",
       "2                    7.29000                       132   \n",
       "3                    7.35000                       129   \n",
       "4                    7.64000                       154   \n",
       "\n",
       "   Number of take out places(City) Cost of a monthly gym membership(City)  \n",
       "0                             1048                                 £34.90  \n",
       "1                             1103                                 £41.66  \n",
       "2                             1008                                 £25.74  \n",
       "3                              598                                 £37.31  \n",
       "4                              523                                 £32.53  "
      ]
     },
     "execution_count": 2,
     "metadata": {},
     "output_type": "execute_result"
    }
   ],
   "source": [
    "healthy_df = pd.read_csv('healthy_lifestyle_city_2021.csv')\n",
    "\n",
    "healthy_df.head()"
   ]
  },
  {
   "cell_type": "code",
   "execution_count": 3,
   "id": "bceae6c2",
   "metadata": {},
   "outputs": [
    {
     "data": {
      "text/plain": [
       "(44, 12)"
      ]
     },
     "execution_count": 3,
     "metadata": {},
     "output_type": "execute_result"
    }
   ],
   "source": [
    "# Shape\n",
    "healthy_df.shape"
   ]
  },
  {
   "cell_type": "code",
   "execution_count": 4,
   "id": "f90aecd7",
   "metadata": {},
   "outputs": [
    {
     "name": "stdout",
     "output_type": "stream",
     "text": [
      "<class 'pandas.core.frame.DataFrame'>\n",
      "RangeIndex: 44 entries, 0 to 43\n",
      "Data columns (total 12 columns):\n",
      " #   Column                                  Non-Null Count  Dtype  \n",
      "---  ------                                  --------------  -----  \n",
      " 0   City                                    44 non-null     object \n",
      " 1   Rank                                    44 non-null     int64  \n",
      " 2   Sunshine hours(City)                    44 non-null     object \n",
      " 3   Cost of a bottle of water(City)         44 non-null     object \n",
      " 4   Obesity levels(Country)                 44 non-null     object \n",
      " 5   Life expectancy(years) (Country)        44 non-null     float64\n",
      " 6   Pollution(Index score) (City)           44 non-null     object \n",
      " 7   Annual avg. hours worked                44 non-null     object \n",
      " 8   Happiness levels(Country)               44 non-null     float64\n",
      " 9   Outdoor activities(City)                44 non-null     int64  \n",
      " 10  Number of take out places(City)         44 non-null     int64  \n",
      " 11  Cost of a monthly gym membership(City)  44 non-null     object \n",
      "dtypes: float64(2), int64(3), object(7)\n",
      "memory usage: 4.2+ KB\n"
     ]
    }
   ],
   "source": [
    "# Data Types\n",
    "healthy_df.info()"
   ]
  },
  {
   "cell_type": "markdown",
   "id": "c74f5234",
   "metadata": {},
   "source": [
    "## Data Cleaning\n",
    "\n",
    "Sunshine hours, Cost of a bottle of water, Obesity levels, Pollution, Annual Hours Worked, and  \n",
    "Cost of Monthly Gym Membership need to be converted to numeric"
   ]
  },
  {
   "cell_type": "code",
   "execution_count": 5,
   "id": "71944ee9",
   "metadata": {},
   "outputs": [
    {
     "data": {
      "text/plain": [
       "0   2.51520\n",
       "1   1.93880\n",
       "2   2.54140\n",
       "3   2.25320\n",
       "4   2.86890\n",
       "Name: Cost of a bottle of water(City), dtype: float64"
      ]
     },
     "execution_count": 5,
     "metadata": {},
     "output_type": "execute_result"
    }
   ],
   "source": [
    "# Convert Cost of a bottle of water to US Dollars\n",
    "rate_of_exchange = 1.31\n",
    "df = dict()\n",
    "\n",
    "df['Amount'] = healthy_df['Cost of a bottle of water(City)'].str[1:]\n",
    "healthy_df['Cost of a bottle of water(City)'] = pd.to_numeric(df['Amount']) * rate_of_exchange\n",
    "healthy_df['Cost of a bottle of water(City)'].head()"
   ]
  },
  {
   "cell_type": "code",
   "execution_count": 6,
   "id": "08c3d8f6",
   "metadata": {},
   "outputs": [
    {
     "data": {
      "text/plain": [
       "0   45.71900\n",
       "1   54.57460\n",
       "2   33.71940\n",
       "3   48.87610\n",
       "4   42.61430\n",
       "Name: Cost of a monthly gym membership(City), dtype: float64"
      ]
     },
     "execution_count": 6,
     "metadata": {},
     "output_type": "execute_result"
    }
   ],
   "source": [
    "# Convert Cost of a monthly gym membership to US Dollars\n",
    "rate_of_exchange = 1.31\n",
    "\n",
    "df['Amount'] = healthy_df['Cost of a monthly gym membership(City)'].str[1:]\n",
    "healthy_df['Cost of a monthly gym membership(City)'] = pd.to_numeric(df['Amount']) * rate_of_exchange\n",
    "healthy_df['Cost of a monthly gym membership(City)'].head()"
   ]
  },
  {
   "cell_type": "code",
   "execution_count": 7,
   "id": "91825070",
   "metadata": {},
   "outputs": [
    {
     "data": {
      "text/plain": [
       "0   20.40000\n",
       "1   29.00000\n",
       "2   20.10000\n",
       "3   20.60000\n",
       "4   19.70000\n",
       "Name: Obesity levels(Country), dtype: float64"
      ]
     },
     "execution_count": 7,
     "metadata": {},
     "output_type": "execute_result"
    }
   ],
   "source": [
    "# Convert Obesity levels(Country) to float removing '%'\n",
    "df['Obesity'] = healthy_df['Obesity levels(Country)'].str.replace(\"%\", \"\")\n",
    "healthy_df['Obesity levels(Country)'] = pd.to_numeric(df['Obesity'])\n",
    "healthy_df['Obesity levels(Country)'].head()"
   ]
  },
  {
   "cell_type": "code",
   "execution_count": 8,
   "id": "af38ab9e",
   "metadata": {},
   "outputs": [],
   "source": [
    "# Convert Sunshine Hours, Pollution, Annual avg. hours worked to numeric\n",
    "healthy_df['Sunshine hours(City)'] = pd.to_numeric(healthy_df['Sunshine hours(City)'], errors = 'coerce', \n",
    "                                                   downcast = 'integer').fillna(0)\n",
    "healthy_df['Pollution(Index score) (City)'] = pd.to_numeric(healthy_df['Pollution(Index score) (City)'], \n",
    "                                                            errors = 'coerce').fillna(0.0)\n",
    "healthy_df['Annual avg. hours worked'] = pd.to_numeric(healthy_df['Annual avg. hours worked'], \n",
    "                                                        errors = 'coerce', downcast = 'integer').fillna(0)"
   ]
  },
  {
   "cell_type": "code",
   "execution_count": 9,
   "id": "5df0d433",
   "metadata": {},
   "outputs": [],
   "source": [
    "# Convert Hours of Sunshine per year to hours per day\n",
    "healthy_df[\"SunshinePerDay\"] = round(healthy_df[\"Sunshine hours(City)\"] /  360)\n",
    "\n",
    "# Convert Annual Average hours Worked to hours per day\n",
    "healthy_df[\"WorkPerDay\"] = round(healthy_df[\"Annual avg. hours worked\"] /  360)"
   ]
  },
  {
   "cell_type": "code",
   "execution_count": 10,
   "id": "38419a38",
   "metadata": {},
   "outputs": [],
   "source": [
    "# Renamne column headings\n",
    "healthy_cleaned_df = healthy_df.rename({'Cost of a bottle of water(City)': 'water_cost', \n",
    "                                     'Obesity levels(Country)': 'obesity_levels',\n",
    "                                    'Outdoor activities(City)': 'outdoor_activity',\n",
    "                                     'Pollution(Index score) (City)': 'pollution',\n",
    "                                      'Life expectancy(years) (Country)': 'life_expectancy' }, axis=1) "
   ]
  },
  {
   "cell_type": "code",
   "execution_count": 11,
   "id": "ddf5ee34",
   "metadata": {},
   "outputs": [
    {
     "name": "stdout",
     "output_type": "stream",
     "text": [
      "<class 'pandas.core.frame.DataFrame'>\n",
      "RangeIndex: 44 entries, 0 to 43\n",
      "Data columns (total 14 columns):\n",
      " #   Column                                  Non-Null Count  Dtype  \n",
      "---  ------                                  --------------  -----  \n",
      " 0   City                                    44 non-null     object \n",
      " 1   Rank                                    44 non-null     int64  \n",
      " 2   Sunshine hours(City)                    44 non-null     float64\n",
      " 3   water_cost                              44 non-null     float64\n",
      " 4   obesity_levels                          44 non-null     float64\n",
      " 5   life_expectancy                         44 non-null     float64\n",
      " 6   pollution                               44 non-null     float64\n",
      " 7   Annual avg. hours worked                44 non-null     float64\n",
      " 8   Happiness levels(Country)               44 non-null     float64\n",
      " 9   outdoor_activity                        44 non-null     int64  \n",
      " 10  Number of take out places(City)         44 non-null     int64  \n",
      " 11  Cost of a monthly gym membership(City)  44 non-null     float64\n",
      " 12  SunshinePerDay                          44 non-null     float64\n",
      " 13  WorkPerDay                              44 non-null     float64\n",
      "dtypes: float64(10), int64(3), object(1)\n",
      "memory usage: 4.9+ KB\n"
     ]
    }
   ],
   "source": [
    "# With new variables\n",
    "healthy_cleaned_df.info()"
   ]
  },
  {
   "cell_type": "markdown",
   "id": "9c6e1aeb",
   "metadata": {},
   "source": [
    "## 5 Variables for Analysis\n",
    "\n",
    "1. SunshinePerDay: Daily Sunshine hours per City\n",
    "2. obesity_levels: Obesity levels per Country\n",
    "3. water_cost: Cost of a bottle of water per City\n",
    "4. outdoor_activity: Number of outdoor activities per City\n",
    "5. WorkPerDay: Daily average hours worked\n",
    "6. pollution: Polution index per City\n",
    "7. life_expectancy: Life expectancy per Country"
   ]
  },
  {
   "cell_type": "code",
   "execution_count": 12,
   "id": "fbca392a",
   "metadata": {},
   "outputs": [
    {
     "data": {
      "text/html": [
       "<div>\n",
       "<style scoped>\n",
       "    .dataframe tbody tr th:only-of-type {\n",
       "        vertical-align: middle;\n",
       "    }\n",
       "\n",
       "    .dataframe tbody tr th {\n",
       "        vertical-align: top;\n",
       "    }\n",
       "\n",
       "    .dataframe thead th {\n",
       "        text-align: right;\n",
       "    }\n",
       "</style>\n",
       "<table border=\"1\" class=\"dataframe\">\n",
       "  <thead>\n",
       "    <tr style=\"text-align: right;\">\n",
       "      <th></th>\n",
       "      <th>SunshinePerDay</th>\n",
       "      <th>water_cost</th>\n",
       "      <th>obesity_levels</th>\n",
       "      <th>WorkPerDay</th>\n",
       "      <th>outdoor_activity</th>\n",
       "      <th>pollution</th>\n",
       "      <th>life_expectancy</th>\n",
       "    </tr>\n",
       "  </thead>\n",
       "  <tbody>\n",
       "    <tr>\n",
       "      <th>0</th>\n",
       "      <td>5.00000</td>\n",
       "      <td>2.51520</td>\n",
       "      <td>20.40000</td>\n",
       "      <td>4.00000</td>\n",
       "      <td>422</td>\n",
       "      <td>30.93000</td>\n",
       "      <td>81.20000</td>\n",
       "    </tr>\n",
       "    <tr>\n",
       "      <th>1</th>\n",
       "      <td>7.00000</td>\n",
       "      <td>1.93880</td>\n",
       "      <td>29.00000</td>\n",
       "      <td>5.00000</td>\n",
       "      <td>406</td>\n",
       "      <td>26.86000</td>\n",
       "      <td>82.10000</td>\n",
       "    </tr>\n",
       "    <tr>\n",
       "      <th>2</th>\n",
       "      <td>5.00000</td>\n",
       "      <td>2.54140</td>\n",
       "      <td>20.10000</td>\n",
       "      <td>4.00000</td>\n",
       "      <td>132</td>\n",
       "      <td>17.33000</td>\n",
       "      <td>81.00000</td>\n",
       "    </tr>\n",
       "    <tr>\n",
       "      <th>3</th>\n",
       "      <td>5.00000</td>\n",
       "      <td>2.25320</td>\n",
       "      <td>20.60000</td>\n",
       "      <td>4.00000</td>\n",
       "      <td>129</td>\n",
       "      <td>19.63000</td>\n",
       "      <td>81.80000</td>\n",
       "    </tr>\n",
       "    <tr>\n",
       "      <th>4</th>\n",
       "      <td>5.00000</td>\n",
       "      <td>2.86890</td>\n",
       "      <td>19.70000</td>\n",
       "      <td>4.00000</td>\n",
       "      <td>154</td>\n",
       "      <td>21.24000</td>\n",
       "      <td>79.80000</td>\n",
       "    </tr>\n",
       "  </tbody>\n",
       "</table>\n",
       "</div>"
      ],
      "text/plain": [
       "   SunshinePerDay  water_cost  obesity_levels  WorkPerDay  outdoor_activity  \\\n",
       "0         5.00000     2.51520        20.40000     4.00000               422   \n",
       "1         7.00000     1.93880        29.00000     5.00000               406   \n",
       "2         5.00000     2.54140        20.10000     4.00000               132   \n",
       "3         5.00000     2.25320        20.60000     4.00000               129   \n",
       "4         5.00000     2.86890        19.70000     4.00000               154   \n",
       "\n",
       "   pollution  life_expectancy  \n",
       "0   30.93000         81.20000  \n",
       "1   26.86000         82.10000  \n",
       "2   17.33000         81.00000  \n",
       "3   19.63000         81.80000  \n",
       "4   21.24000         79.80000  "
      ]
     },
     "execution_count": 12,
     "metadata": {},
     "output_type": "execute_result"
    }
   ],
   "source": [
    "healthy_cleaned_df[['SunshinePerDay', 'water_cost', 'obesity_levels', 'WorkPerDay', 'outdoor_activity',\n",
    "                   'pollution', 'life_expectancy']].head()"
   ]
  },
  {
   "cell_type": "markdown",
   "id": "1f74a105",
   "metadata": {},
   "source": [
    "## EDA"
   ]
  },
  {
   "cell_type": "code",
   "execution_count": 13,
   "id": "e1b450ae",
   "metadata": {},
   "outputs": [],
   "source": [
    "def findOutliers_IQR(df):\n",
    "    '''\n",
    "    Find Outliers in the dataframe\n",
    "    \n",
    "    args:\n",
    "        df (dataframe)\n",
    "        \n",
    "    return:\n",
    "        outliers (dataframe)\n",
    "    '''\n",
    "    q1 = df.quantile(0.25)\n",
    "    q3 = df.quantile(0.75)\n",
    "    \n",
    "    IQR = q3 - q1\n",
    "    \n",
    "    lower_bound = q1 - 1.5 * IQR\n",
    "    upper_bound = q3 + 1.5 * IQR\n",
    "    \n",
    "    outliers = df[((df <= lower_bound) | (df >= upper_bound))]\n",
    "    \n",
    "    return outliers"
   ]
  },
  {
   "cell_type": "markdown",
   "id": "fa488ae3",
   "metadata": {},
   "source": [
    "## Histogram and outliers of each of the 5 variables and how to deal with the outliers"
   ]
  },
  {
   "cell_type": "markdown",
   "id": "dc079ef3",
   "metadata": {},
   "source": [
    "### Daily Hours of Sunshine Analysis"
   ]
  },
  {
   "cell_type": "code",
   "execution_count": 60,
   "id": "dde3c199",
   "metadata": {},
   "outputs": [
    {
     "data": {
      "image/png": "[encoded data removed]",
      "text/plain": [
       "<Figure size 576x432 with 1 Axes>"
      ]
     },
     "metadata": {
      "needs_background": "light"
     },
     "output_type": "display_data"
    }
   ],
   "source": [
    "# Histogram\n",
    "hoursSunshine_hist = healthy_cleaned_df.hist(column = 'SunshinePerDay', figsize = (8,6), grid = False)\n",
    "mu, std = norm.fit (healthy_cleaned_df['SunshinePerDay'])\n",
    "\n",
    "hoursSunshine_hist = hoursSunshine_hist[0]\n",
    "\n",
    "min = np.min(healthy_cleaned_df['SunshinePerDay'])\n",
    "max = np.max(healthy_cleaned_df['SunshinePerDay'])\n",
    "domain = np.linspace(min, max)\n",
    "\n",
    "plt.plot(domain, norm.pdf(domain, mu, std))\n",
    "plt.xlabel(\"Hours of Sunshine per Day\", labelpad=20, weight='bold', size=12)\n",
    "plt.ylabel(\"Frequency\", labelpad=20, weight='bold', size=12)\n",
    "plt.title(\" \")\n",
    "\n",
    "plt.show()"
   ]
  },
  {
   "cell_type": "code",
   "execution_count": 51,
   "id": "028eafe0",
   "metadata": {},
   "outputs": [
    {
     "name": "stdout",
     "output_type": "stream",
     "text": [
      "Mode: 0   5.00000\n",
      "Name: SunshinePerDay, dtype: float64\n",
      "Median: 6.0\n",
      "Std Dev: 1.8199911715976667\n",
      "Skew: -0.41876879423351593\n"
     ]
    }
   ],
   "source": [
    "print(f\"Mode: {healthy_df['SunshinePerDay'].mode()}\")\n",
    "print(f\"Median: {healthy_df['SunshinePerDay'].median()}\")\n",
    "print(f\"Std Dev: {healthy_df['SunshinePerDay'].std()}\")\n",
    "print(f\"Skew: {pd.DataFrame(healthy_df['SunshinePerDay']).skew()[0]}\")"
   ]
  },
  {
   "cell_type": "code",
   "execution_count": 47,
   "id": "44044e98",
   "metadata": {},
   "outputs": [
    {
     "data": {
      "text/plain": [
       "count   44.00000\n",
       "mean     6.11364\n",
       "std      1.81999\n",
       "min      0.00000\n",
       "25%      5.00000\n",
       "50%      6.00000\n",
       "75%      7.00000\n",
       "max     10.00000\n",
       "Name: SunshinePerDay, dtype: float64"
      ]
     },
     "execution_count": 47,
     "metadata": {},
     "output_type": "execute_result"
    }
   ],
   "source": [
    "healthy_cleaned_df['SunshinePerDay'].describe()"
   ]
  },
  {
   "cell_type": "code",
   "execution_count": 20,
   "id": "ae1195d6",
   "metadata": {},
   "outputs": [
    {
     "name": "stdout",
     "output_type": "stream",
     "text": [
      "Number of outliers for Sunshine hours: 2\n",
      "Max outlier for Sunshine hours: 10.0\n",
      "Min outlier for Sunshine hours: 0.0\n",
      "Outliers are: \n",
      "19    0.00000\n",
      "22   10.00000\n",
      "Name: SunshinePerDay, dtype: float64\n"
     ]
    }
   ],
   "source": [
    "outliers = findOutliers_IQR(healthy_cleaned_df['SunshinePerDay'])\n",
    "print(f\"Number of outliers for Sunshine hours: {str(len(outliers))}\")\n",
    "print(f\"Max outlier for Sunshine hours: {str(outliers.max())}\")\n",
    "print(f\"Min outlier for Sunshine hours: {str(outliers.min())}\")\n",
    "\n",
    "print(f\"Outliers are: \\n{outliers}\")"
   ]
  },
  {
   "cell_type": "markdown",
   "id": "77332fea",
   "metadata": {},
   "source": [
    "The spread is from the minimum to the maximum which is 10 hrs\n",
    "Since the mean and median are the same there are no tails"
   ]
  },
  {
   "cell_type": "markdown",
   "id": "2967a0f9",
   "metadata": {},
   "source": [
    "*The outlier in this column is 0. As no city has 0 hours of sunshine per year I believe this to be a typo and\n",
    "the outlier should be removed from the data. A city can have 10 hours of sunshine so this piece of data should stay*"
   ]
  },
  {
   "cell_type": "code",
   "execution_count": 26,
   "id": "cca7ecb5",
   "metadata": {},
   "outputs": [
    {
     "data": {
      "text/plain": [
       "(43, 14)"
      ]
     },
     "execution_count": 26,
     "metadata": {},
     "output_type": "execute_result"
    }
   ],
   "source": [
    "# Create a CDF\n",
    "# Remove water cost > $4.00\n",
    "sunshine_filtered = healthy_cleaned_df[healthy_cleaned_df['SunshinePerDay'] > 0]\n",
    "sunshine_filtered.shape"
   ]
  },
  {
   "cell_type": "code",
   "execution_count": 39,
   "id": "71be26b2",
   "metadata": {},
   "outputs": [
    {
     "data": {
      "text/html": [
       "<div>\n",
       "<style scoped>\n",
       "    .dataframe tbody tr th:only-of-type {\n",
       "        vertical-align: middle;\n",
       "    }\n",
       "\n",
       "    .dataframe tbody tr th {\n",
       "        vertical-align: top;\n",
       "    }\n",
       "\n",
       "    .dataframe thead th {\n",
       "        text-align: right;\n",
       "    }\n",
       "</style>\n",
       "<table border=\"1\" class=\"dataframe\">\n",
       "  <thead>\n",
       "    <tr style=\"text-align: right;\">\n",
       "      <th></th>\n",
       "      <th>probs</th>\n",
       "    </tr>\n",
       "  </thead>\n",
       "  <tbody>\n",
       "    <tr>\n",
       "      <th>4.00000</th>\n",
       "      <td>0.09302</td>\n",
       "    </tr>\n",
       "    <tr>\n",
       "      <th>5.00000</th>\n",
       "      <td>0.44186</td>\n",
       "    </tr>\n",
       "    <tr>\n",
       "      <th>6.00000</th>\n",
       "      <td>0.53488</td>\n",
       "    </tr>\n",
       "  </tbody>\n",
       "</table>\n",
       "</div>"
      ],
      "text/plain": [
       "4.00000   0.09302\n",
       "5.00000   0.44186\n",
       "6.00000   0.53488\n",
       "Name: , dtype: float64"
      ]
     },
     "execution_count": 39,
     "metadata": {},
     "output_type": "execute_result"
    }
   ],
   "source": [
    "sunshine_cdf = Cdf.from_seq(sunshine_filtered['SunshinePerDay'])\n",
    "sunshine_cdf.head()"
   ]
  },
  {
   "cell_type": "code",
   "execution_count": 31,
   "id": "c4e7c7c3",
   "metadata": {},
   "outputs": [
    {
     "name": "stdout",
     "output_type": "stream",
     "text": [
      "# of Hours of Sunshine per Day at Probability of 25%: 5.0 hrs\n",
      "# of Hours of Sunshine per Day at Probability of 50%: 6.0 hrs\n",
      "# of Hours of Sunshine per Day at Probability of 75%: 7.0 hrs\n"
     ]
    },
    {
     "data": {
      "image/png": "[encoded data removed]",
      "text/plain": [
       "<Figure size 432x288 with 1 Axes>"
      ]
     },
     "metadata": {
      "needs_background": "light"
     },
     "output_type": "display_data"
    }
   ],
   "source": [
    "sunshine_cdf.plot()\n",
    "plt.xlabel('Hours of Sunshine per Day')\n",
    "plt.ylabel('CDF')\n",
    "plt.title('Distribution of the # of Hours of Sunshine per Day')\n",
    "\n",
    "print(f\"# of Hours of Sunshine per Day at Probability of 25%: {sunshine_cdf.inverse(0.25)} hrs\")\n",
    "print(f\"# of Hours of Sunshine per Day at Probability of 50%: {sunshine_cdf.inverse(0.5)} hrs\")\n",
    "print(f\"# of Hours of Sunshine per Day at Probability of 75%: {sunshine_cdf.inverse(0.75)} hrs\")"
   ]
  },
  {
   "cell_type": "markdown",
   "id": "9bf39436",
   "metadata": {},
   "source": [
    "### Obsesity Levels per Country Analysis"
   ]
  },
  {
   "cell_type": "code",
   "execution_count": 61,
   "id": "42b642ca",
   "metadata": {},
   "outputs": [
    {
     "data": {
      "image/png": "[encoded data removed]",
      "text/plain": [
       "<Figure size 576x432 with 1 Axes>"
      ]
     },
     "metadata": {
      "needs_background": "light"
     },
     "output_type": "display_data"
    }
   ],
   "source": [
    "# Histogram\n",
    "obesityLevel_hist = healthy_cleaned_df.hist(column = 'obesity_levels', figsize = (8,6), grid = False)\n",
    "mu, std = norm.fit (healthy_cleaned_df['obesity_levels'])\n",
    "\n",
    "obesityLevel_hist = obesityLevel_hist[0]\n",
    "\n",
    "min = np.min(healthy_cleaned_df['obesity_levels'])\n",
    "max = np.max(healthy_cleaned_df['obesity_levels'])\n",
    "domain = np.linspace(min, max)\n",
    "\n",
    "plt.plot(domain, norm.pdf(domain, mu, std))\n",
    "plt.xlabel(\"Obesity Levels\", labelpad=20, weight='bold', size=12)\n",
    "plt.ylabel(\"Frequency\", labelpad=20, weight='bold', size=12)\n",
    "plt.title(\" \")\n",
    "\n",
    "plt.show()"
   ]
  },
  {
   "cell_type": "code",
   "execution_count": 53,
   "id": "0d7e9581",
   "metadata": {},
   "outputs": [
    {
     "name": "stdout",
     "output_type": "stream",
     "text": [
      "Mode: 0   36.20000\n",
      "Name: obesity_levels, dtype: float64\n",
      "Median: 22.3\n",
      "Std Dev: 10.195669965554575\n",
      "Skew: -0.4679912673634951\n"
     ]
    }
   ],
   "source": [
    "print(f\"Mode: {healthy_cleaned_df['obesity_levels'].mode()}\")\n",
    "print(f\"Median: {healthy_cleaned_df['obesity_levels'].median()}\")\n",
    "print(f\"Std Dev: {healthy_cleaned_df['obesity_levels'].std()}\")\n",
    "print(f\"Skew: {pd.DataFrame(healthy_cleaned_df['obesity_levels']).skew()[0]}\")"
   ]
  },
  {
   "cell_type": "code",
   "execution_count": 54,
   "id": "4076ebc2",
   "metadata": {},
   "outputs": [
    {
     "data": {
      "text/plain": [
       "count   44.00000\n",
       "mean    21.92500\n",
       "std     10.19567\n",
       "min      3.90000\n",
       "25%     19.50000\n",
       "50%     22.30000\n",
       "75%     29.00000\n",
       "max     36.20000\n",
       "Name: obesity_levels, dtype: float64"
      ]
     },
     "execution_count": 54,
     "metadata": {},
     "output_type": "execute_result"
    }
   ],
   "source": [
    "healthy_cleaned_df['obesity_levels'].describe()"
   ]
  },
  {
   "cell_type": "code",
   "execution_count": null,
   "id": "c635b66d",
   "metadata": {},
   "outputs": [],
   "source": [
    "outliers = findOutliers_IQR(healthy_cleaned_df['obesity_levels'])\n",
    "print(f\"Number of outliers for Obesity Levels: {str(len(outliers))}\")\n",
    "print(f\"Max outlier for Obesity Levels: {str(outliers.max())}\")\n",
    "print(f\"Min outlier for Obesity Levels: {str(outliers.min())}\")\n",
    "print(f\"Outliers are: \\n{outliers}\")"
   ]
  },
  {
   "cell_type": "markdown",
   "id": "cd1b3c31",
   "metadata": {},
   "source": [
    "*There are 4 outliers in this column.  They seem to be far from the mean so we can safely remove them but there can be cities with very low obesity levels so keeping them wouldnt be out of the question*"
   ]
  },
  {
   "cell_type": "code",
   "execution_count": 55,
   "id": "4a72627b",
   "metadata": {},
   "outputs": [
    {
     "data": {
      "text/html": [
       "<div>\n",
       "<style scoped>\n",
       "    .dataframe tbody tr th:only-of-type {\n",
       "        vertical-align: middle;\n",
       "    }\n",
       "\n",
       "    .dataframe tbody tr th {\n",
       "        vertical-align: top;\n",
       "    }\n",
       "\n",
       "    .dataframe thead th {\n",
       "        text-align: right;\n",
       "    }\n",
       "</style>\n",
       "<table border=\"1\" class=\"dataframe\">\n",
       "  <thead>\n",
       "    <tr style=\"text-align: right;\">\n",
       "      <th></th>\n",
       "      <th>probs</th>\n",
       "    </tr>\n",
       "  </thead>\n",
       "  <tbody>\n",
       "    <tr>\n",
       "      <th>3.90000</th>\n",
       "      <td>0.02273</td>\n",
       "    </tr>\n",
       "    <tr>\n",
       "      <th>4.30000</th>\n",
       "      <td>0.06818</td>\n",
       "    </tr>\n",
       "    <tr>\n",
       "      <th>4.70000</th>\n",
       "      <td>0.09091</td>\n",
       "    </tr>\n",
       "  </tbody>\n",
       "</table>\n",
       "</div>"
      ],
      "text/plain": [
       "3.90000   0.02273\n",
       "4.30000   0.06818\n",
       "4.70000   0.09091\n",
       "Name: , dtype: float64"
      ]
     },
     "execution_count": 55,
     "metadata": {},
     "output_type": "execute_result"
    }
   ],
   "source": [
    "# Create a CDF\n",
    "obesity_cdf = Cdf.from_seq(healthy_cleaned_df['obesity_levels'])\n",
    "obesity_cdf.head()"
   ]
  },
  {
   "cell_type": "code",
   "execution_count": 59,
   "id": "29045952",
   "metadata": {},
   "outputs": [
    {
     "name": "stdout",
     "output_type": "stream",
     "text": [
      "Obesity Levels per Country at Probability of 25%: 19.5\n",
      "Obesity Levels per Country at Probability of 50%: 22.3\n",
      "Obesity Levels per Country at Probability of 75%: 29.0\n"
     ]
    },
    {
     "data": {
      "image/png": "[encoded data removed]",
      "text/plain": [
       "<Figure size 432x288 with 1 Axes>"
      ]
     },
     "metadata": {
      "needs_background": "light"
     },
     "output_type": "display_data"
    }
   ],
   "source": [
    "obesity_cdf.plot()\n",
    "plt.xlabel('Obesity Levels')\n",
    "plt.ylabel('CDF')\n",
    "plt.title('Distribution of Obesity Levels per Country')\n",
    "\n",
    "print(f\"Obesity Levels per Country at Probability of 25%: {obesity_cdf.inverse(0.25)}\")\n",
    "print(f\"Obesity Levels per Country at Probability of 50%: {obesity_cdf.inverse(0.5)}\")\n",
    "print(f\"Obesity Levels per Country at Probability of 75%: {obesity_cdf.inverse(0.75)}\")"
   ]
  },
  {
   "cell_type": "markdown",
   "id": "2702ede1",
   "metadata": {},
   "source": [
    "### Cost of a bottle of water Analysis"
   ]
  },
  {
   "cell_type": "code",
   "execution_count": 62,
   "id": "e81ce55d",
   "metadata": {},
   "outputs": [
    {
     "data": {
      "image/png": "[encoded data removed]",
      "text/plain": [
       "<Figure size 576x432 with 1 Axes>"
      ]
     },
     "metadata": {
      "needs_background": "light"
     },
     "output_type": "display_data"
    }
   ],
   "source": [
    "# Histogram\n",
    "waterCost_hist = healthy_cleaned_df.hist(column = 'water_cost', figsize = (8,6), grid = False)\n",
    "mu, std = norm.fit (healthy_cleaned_df['water_cost'])\n",
    "\n",
    "obesityLevel_hist = obesityLevel_hist[0]\n",
    "\n",
    "min = np.min(healthy_cleaned_df['water_cost'])\n",
    "max = np.max(healthy_cleaned_df['water_cost'])\n",
    "domain = np.linspace(min, max)\n",
    "\n",
    "plt.plot(domain, norm.pdf(domain, mu, std))\n",
    "plt.xlabel(\"Cost of a Bottle of Water (US $)\", labelpad=20, weight='bold', size=12)\n",
    "plt.ylabel(\"Frequency\", labelpad=20, weight='bold', size=12)\n",
    "plt.title(\" \")\n",
    "\n",
    "plt.show()"
   ]
  },
  {
   "cell_type": "code",
   "execution_count": 63,
   "id": "590e5ce4",
   "metadata": {},
   "outputs": [
    {
     "name": "stdout",
     "output_type": "stream",
     "text": [
      "Mode: 0   0.19650\n",
      "1   0.74670\n",
      "2   0.77290\n",
      "3   2.09600\n",
      "4   2.55450\n",
      "Name: water_cost, dtype: float64\n",
      "Median: 1.56545\n",
      "Std Dev: 0.9414209499951933\n",
      "Skew: 0.46042661471361096\n"
     ]
    }
   ],
   "source": [
    "print(f\"Mode: {healthy_cleaned_df['water_cost'].mode()}\")\n",
    "print(f\"Median: {healthy_cleaned_df['water_cost'].median()}\")\n",
    "print(f\"Std Dev: {healthy_cleaned_df['water_cost'].std()}\")\n",
    "print(f\"Skew: {pd.DataFrame(healthy_cleaned_df['water_cost']).skew()[0]}\")"
   ]
  },
  {
   "cell_type": "code",
   "execution_count": 64,
   "id": "b6f66979",
   "metadata": {},
   "outputs": [
    {
     "data": {
      "text/plain": [
       "count   44.00000\n",
       "mean     1.53717\n",
       "std      0.94142\n",
       "min      0.19650\n",
       "25%      0.74670\n",
       "50%      1.56545\n",
       "75%      2.09600\n",
       "max      4.19200\n",
       "Name: water_cost, dtype: float64"
      ]
     },
     "execution_count": 64,
     "metadata": {},
     "output_type": "execute_result"
    }
   ],
   "source": [
    "healthy_cleaned_df['water_cost'].describe()"
   ]
  },
  {
   "cell_type": "code",
   "execution_count": null,
   "id": "ef59b187",
   "metadata": {},
   "outputs": [],
   "source": [
    "outliers = findOutliers_IQR(healthy_cleaned_df['water_cost'])\n",
    "print(f\"Number of outliers for water cost: {str(len(outliers))}\")\n",
    "print(f\"Max outlier for water cost: {str(outliers.max())}\")\n",
    "print(f\"Min outlier for water cost: {str(outliers.min())}\")\n",
    "print(f\"Outliers are: \\n{outliers}\")"
   ]
  },
  {
   "cell_type": "markdown",
   "id": "5126c7ed",
   "metadata": {},
   "source": [
    "*There is one outlier of \\\\$4.19 for a bottle of water. Since the mean is \\\\$1.52 I this we can be safe to remove this\n",
    "outlier and just a very expensive city*"
   ]
  },
  {
   "cell_type": "code",
   "execution_count": 66,
   "id": "a35c1863",
   "metadata": {},
   "outputs": [
    {
     "data": {
      "text/plain": [
       "(43, 14)"
      ]
     },
     "execution_count": 66,
     "metadata": {},
     "output_type": "execute_result"
    }
   ],
   "source": [
    "# Remove water cost > $4.00\n",
    "waterCost_filtered = healthy_cleaned_df[healthy_cleaned_df['water_cost'] < 4]\n",
    "waterCost_filtered.shape"
   ]
  },
  {
   "cell_type": "code",
   "execution_count": 67,
   "id": "8c56fdb8",
   "metadata": {},
   "outputs": [
    {
     "data": {
      "text/html": [
       "<div>\n",
       "<style scoped>\n",
       "    .dataframe tbody tr th:only-of-type {\n",
       "        vertical-align: middle;\n",
       "    }\n",
       "\n",
       "    .dataframe tbody tr th {\n",
       "        vertical-align: top;\n",
       "    }\n",
       "\n",
       "    .dataframe thead th {\n",
       "        text-align: right;\n",
       "    }\n",
       "</style>\n",
       "<table border=\"1\" class=\"dataframe\">\n",
       "  <thead>\n",
       "    <tr style=\"text-align: right;\">\n",
       "      <th></th>\n",
       "      <th>probs</th>\n",
       "    </tr>\n",
       "  </thead>\n",
       "  <tbody>\n",
       "    <tr>\n",
       "      <th>0.19650</th>\n",
       "      <td>0.04651</td>\n",
       "    </tr>\n",
       "    <tr>\n",
       "      <th>0.20960</th>\n",
       "      <td>0.06977</td>\n",
       "    </tr>\n",
       "    <tr>\n",
       "      <th>0.27510</th>\n",
       "      <td>0.09302</td>\n",
       "    </tr>\n",
       "  </tbody>\n",
       "</table>\n",
       "</div>"
      ],
      "text/plain": [
       "0.19650   0.04651\n",
       "0.20960   0.06977\n",
       "0.27510   0.09302\n",
       "Name: , dtype: float64"
      ]
     },
     "execution_count": 67,
     "metadata": {},
     "output_type": "execute_result"
    }
   ],
   "source": [
    "# Cost of a bottle of water(City)\n",
    "waterCost_cdf = Cdf.from_seq(waterCost_filtered['water_cost'])\n",
    "waterCost_cdf.head()"
   ]
  },
  {
   "cell_type": "code",
   "execution_count": 68,
   "id": "3623a0e3",
   "metadata": {},
   "outputs": [
    {
     "name": "stdout",
     "output_type": "stream",
     "text": [
      "Cost of a Bottle of Water at Probability of 25%: $0.7466999999999999\n",
      "Cost of a Bottle of Water at Probability of 50%: $1.5589\n",
      "Cost of a Bottle of Water at Probability of 75%: $2.096\n"
     ]
    },
    {
     "data": {
      "image/png": "[encoded data removed]",
      "text/plain": [
       "<Figure size 432x288 with 1 Axes>"
      ]
     },
     "metadata": {
      "needs_background": "light"
     },
     "output_type": "display_data"
    }
   ],
   "source": [
    "waterCost_cdf.plot()\n",
    "plt.xlabel('Cost of Bottle of Water (US $)')\n",
    "plt.ylabel('CDF')\n",
    "plt.title('Distribution of the Cost of a Bottle of Water')\n",
    "\n",
    "print(f\"Cost of a Bottle of Water at Probability of 25%: ${waterCost_cdf.inverse(0.25)}\")\n",
    "print(f\"Cost of a Bottle of Water at Probability of 50%: ${waterCost_cdf.inverse(0.5)}\")\n",
    "print(f\"Cost of a Bottle of Water at Probability of 75%: ${waterCost_cdf.inverse(0.75)}\")"
   ]
  },
  {
   "cell_type": "markdown",
   "id": "d08a32c4",
   "metadata": {},
   "source": [
    "### Outdoor activities(City) Analysis"
   ]
  },
  {
   "cell_type": "code",
   "execution_count": null,
   "id": "dbaf25ab",
   "metadata": {},
   "outputs": [],
   "source": [
    "# histogram\n",
    "outdoor_hist = healthy_cleaned_df.hist(column = 'outdoor_activity', figsize = (8,6), grid = False)\n",
    "\n",
    "outdoor_hist = outdoor_hist[0]\n",
    "for x in outdoor_hist:\n",
    "    # Draw horizontal axis lines\n",
    "    vals = x.get_yticks()\n",
    "    for tick in vals:\n",
    "        x.axhline(y=tick, linestyle='dashed', alpha=0.4, color='#eeeeee', zorder=1)\n",
    "        \n",
    "    # Remove title\n",
    "    x.set_title(\"\")\n",
    "    \n",
    "    # Set X-axis label\n",
    "    x.set_xlabel(\"Outdoor Activities per City\", labelpad=20, weight='bold', size=12)\n",
    "    \n",
    "    # Set Y-axis label\n",
    "    x.set_ylabel(\"Frequency\", labelpad=20, weight='bold', size=12)\n",
    "\n",
    "plt.show()"
   ]
  },
  {
   "cell_type": "code",
   "execution_count": null,
   "id": "963df20e",
   "metadata": {},
   "outputs": [],
   "source": [
    "# Boxplot\n",
    "plt.boxplot(healthy_cleaned_df['outdoor_activity'])\n",
    "fig = plt.figure(figsize = (10, 7))\n",
    "plt.show()"
   ]
  },
  {
   "cell_type": "code",
   "execution_count": null,
   "id": "9576fb0a",
   "metadata": {},
   "outputs": [],
   "source": [
    "print(f\"Mean: {healthy_cleaned_df['outdoor_activity'].mean()}\")\n",
    "print(f\"Median: {healthy_cleaned_df['outdoor_activity'].median()}\")\n",
    "print(f\"Mode: {healthy_cleaned_df['outdoor_activity'].mode()}\")"
   ]
  },
  {
   "cell_type": "code",
   "execution_count": null,
   "id": "fee9e9bd",
   "metadata": {},
   "outputs": [],
   "source": [
    "healthy_cleaned_df['outdoor_activity'].describe()"
   ]
  },
  {
   "cell_type": "code",
   "execution_count": null,
   "id": "7e1bf3d5",
   "metadata": {},
   "outputs": [],
   "source": [
    "outliers = findOutliers_IQR(healthy_cleaned_df['outdoor_activity'])\n",
    "print(f\"Number of outliers for outdoor activities: {str(len(outliers))}\")\n",
    "print(f\"Max outlier for outdoor activities: {str(outliers.max())}\")\n",
    "print(f\"Min outlier for outdoor activities: {str(outliers.min())}\")\n",
    "print(f\"Outliers are: \\n{outliers}\")"
   ]
  },
  {
   "cell_type": "markdown",
   "id": "c4214e63",
   "metadata": {},
   "source": [
    "*There are 1 outlier having a whopping 585 number of outdoor activites.  As the mean is 214, I think we can safely remove this one city*"
   ]
  },
  {
   "cell_type": "markdown",
   "id": "5d698f94",
   "metadata": {},
   "source": [
    "### Daily Average houred Worked Analysis"
   ]
  },
  {
   "cell_type": "code",
   "execution_count": null,
   "id": "bee05549",
   "metadata": {},
   "outputs": [],
   "source": [
    "# Histogram\n",
    "hoursWorked_hist = healthy_cleaned_df.hist(column = 'WorkPerDay', figsize = (8,6), grid = False)\n",
    "\n",
    "hoursWorked_hist = hoursWorked_hist[0]\n",
    "for x in hoursWorked_hist:\n",
    "    # Draw horizontal axis lines\n",
    "    vals = x.get_yticks()\n",
    "    for tick in vals:\n",
    "        x.axhline(y=tick, linestyle='dashed', alpha=0.4, color='#eeeeee', zorder=1)\n",
    "        \n",
    "    # Remove title\n",
    "    x.set_title(\"\")\n",
    "    \n",
    "    # Set X-axis label\n",
    "    x.set_xlabel(\"Average # of Hours Worked per Day\", labelpad=20, weight='bold', size=12)\n",
    "    \n",
    "    # Set Y-axis label\n",
    "    x.set_ylabel(\"Frequency\", labelpad=20, weight='bold', size=12)\n",
    "\n",
    "plt.show()"
   ]
  },
  {
   "cell_type": "code",
   "execution_count": null,
   "id": "c16fe793",
   "metadata": {},
   "outputs": [],
   "source": [
    "# Boxplot\n",
    "plt.boxplot(healthy_cleaned_df['WorkPerDay'])\n",
    "fig = plt.figure(figsize = (10, 7))\n",
    "plt.show()"
   ]
  },
  {
   "cell_type": "code",
   "execution_count": null,
   "id": "f5276377",
   "metadata": {},
   "outputs": [],
   "source": [
    "print(f\"Mean: {healthy_cleaned_df['WorkPerDay'].mean()}\")\n",
    "print(f\"Median: {healthy_cleaned_df['WorkPerDay'].median()}\")\n",
    "print(f\"Mode: {healthy_cleaned_df['WorkPerDay'].mode()}\")"
   ]
  },
  {
   "cell_type": "code",
   "execution_count": null,
   "id": "f6e25e5c",
   "metadata": {},
   "outputs": [],
   "source": [
    "healthy_cleaned_df['WorkPerDay'].describe(include  = 'all')"
   ]
  },
  {
   "cell_type": "code",
   "execution_count": null,
   "id": "152f80a6",
   "metadata": {},
   "outputs": [],
   "source": [
    "outliers = findOutliers_IQR(healthy_cleaned_df['WorkPerDay'])\n",
    "print(f\"Number of outliers for Avg Hours Worked: {str(len(outliers))}\")\n",
    "print(f\"Max outlier for Avg Hours Worked: {str(outliers.max())}\")\n",
    "print(f\"Min outlier for Avg Hours Worked: {str(outliers.min())}\")\n",
    "print(f\"Outliers are: \\n{outliers}\")"
   ]
  },
  {
   "cell_type": "markdown",
   "id": "d5bba67f",
   "metadata": {},
   "source": [
    "*A lot of the cities has 0 daily hours of work but since this is an average this needs to stay in the dataset*"
   ]
  },
  {
   "cell_type": "markdown",
   "id": "e42fd0c9",
   "metadata": {},
   "source": [
    "### Pollution"
   ]
  },
  {
   "cell_type": "code",
   "execution_count": null,
   "id": "057b07d3",
   "metadata": {},
   "outputs": [],
   "source": [
    "# Histogram\n",
    "pollution_hist = healthy_cleaned_df.hist(column = 'pollution', figsize = (8,6), grid = False)\n",
    "\n",
    "pollution_hist = pollution_hist[0]\n",
    "for x in pollution_hist:\n",
    "    # Draw horizontal axis lines\n",
    "    vals = x.get_yticks()\n",
    "    for tick in vals:\n",
    "        x.axhline(y=tick, linestyle='dashed', alpha=0.4, color='#eeeeee', zorder=1)\n",
    "        \n",
    "    # Remove title\n",
    "    x.set_title(\"\")\n",
    "    \n",
    "    # Set X-axis label\n",
    "    x.set_xlabel(\"Pollution Index per City\", labelpad=20, weight='bold', size=12)\n",
    "    \n",
    "    # Set Y-axis label\n",
    "    x.set_ylabel(\"Frequency\", labelpad=20, weight='bold', size=12)\n",
    "\n",
    "plt.show()"
   ]
  },
  {
   "cell_type": "code",
   "execution_count": null,
   "id": "17cf9ec6",
   "metadata": {},
   "outputs": [],
   "source": [
    "# Boxplot\n",
    "plt.boxplot(healthy_cleaned_df['pollution'])\n",
    "fig = plt.figure(figsize = (10, 7))\n",
    "plt.show()"
   ]
  },
  {
   "cell_type": "code",
   "execution_count": null,
   "id": "b3547226",
   "metadata": {},
   "outputs": [],
   "source": [
    "print(f\"Mean: {healthy_cleaned_df['pollution'].mean()}\")\n",
    "print(f\"Median: {healthy_cleaned_df['pollution'].median()}\")"
   ]
  },
  {
   "cell_type": "code",
   "execution_count": null,
   "id": "5972a33b",
   "metadata": {},
   "outputs": [],
   "source": [
    "healthy_cleaned_df['pollution'].describe(include  = 'all')"
   ]
  },
  {
   "cell_type": "code",
   "execution_count": null,
   "id": "542287c0",
   "metadata": {},
   "outputs": [],
   "source": [
    "outliers = findOutliers_IQR(healthy_cleaned_df['pollution'])\n",
    "print(f\"Number of outliers for Pollution Index: {str(len(outliers))}\")\n",
    "print(f\"Max outlier for Pollution: {str(outliers.max())}\")\n",
    "print(f\"Min outlier for Pollution: {str(outliers.min())}\")\n",
    "print(f\"Outliers are: \\n{outliers}\")"
   ]
  },
  {
   "cell_type": "markdown",
   "id": "ed58175c",
   "metadata": {},
   "source": [
    "*There are no outliers for pollution*"
   ]
  },
  {
   "cell_type": "markdown",
   "id": "bb50ce32",
   "metadata": {},
   "source": [
    "### Life Expectancy"
   ]
  },
  {
   "cell_type": "code",
   "execution_count": null,
   "id": "f0b06e00",
   "metadata": {},
   "outputs": [],
   "source": [
    "# Histogram\n",
    "lifeExpectancy_hist = healthy_cleaned_df.hist(column = 'life_expectancy', figsize = (8,6), grid = False)\n",
    "\n",
    "lifeExpectancy_hist = lifeExpectancy_hist[0]\n",
    "for x in lifeExpectancy_hist:\n",
    "    # Draw horizontal axis lines\n",
    "    vals = x.get_yticks()\n",
    "    for tick in vals:\n",
    "        x.axhline(y=tick, linestyle='dashed', alpha=0.4, color='#eeeeee', zorder=1)\n",
    "        \n",
    "    # Remove title\n",
    "    x.set_title(\"\")\n",
    "    \n",
    "    # Set X-axis label\n",
    "    x.set_xlabel(\"Life Expectancy per Country\", labelpad=20, weight='bold', size=12)\n",
    "    \n",
    "    # Set Y-axis label\n",
    "    x.set_ylabel(\"Frequency\", labelpad=20, weight='bold', size=12)\n",
    "\n",
    "plt.show()"
   ]
  },
  {
   "cell_type": "code",
   "execution_count": null,
   "id": "3dc4bc96",
   "metadata": {},
   "outputs": [],
   "source": [
    "# Boxplot\n",
    "plt.boxplot(healthy_cleaned_df['life_expectancy'])\n",
    "fig = plt.figure(figsize = (10, 7))\n",
    "plt.show()"
   ]
  },
  {
   "cell_type": "code",
   "execution_count": null,
   "id": "21c3e89b",
   "metadata": {},
   "outputs": [],
   "source": [
    "print(f\"Mean: {healthy_cleaned_df['life_expectancy'].mean()}\")\n",
    "print(f\"Median: {healthy_cleaned_df['life_expectancy'].median()}\")\n",
    "print(f\"Mode: {healthy_cleaned_df['life_expectancy'].mode()}\")"
   ]
  },
  {
   "cell_type": "code",
   "execution_count": null,
   "id": "e832fe57",
   "metadata": {},
   "outputs": [],
   "source": [
    "healthy_cleaned_df['life_expectancy'].describe(include  = 'all')"
   ]
  },
  {
   "cell_type": "code",
   "execution_count": null,
   "id": "bd1281f4",
   "metadata": {},
   "outputs": [],
   "source": [
    "outliers = findOutliers_IQR(healthy_cleaned_df['life_expectancy'])\n",
    "print(f\"Number of outliers for Life Expectancy: {str(len(outliers))}\")\n",
    "print(f\"Max outlier for Life Expectancy: {str(outliers.max())}\")\n",
    "print(f\"Min outlier for Life Expectancy: {str(outliers.min())}\")\n",
    "print(f\"Outliers are: \\n{outliers}\")"
   ]
  },
  {
   "cell_type": "markdown",
   "id": "12dd6c51",
   "metadata": {},
   "source": [
    "*There is 1 outlier at 56.3 years old but I think we should leave it as it could be valid*"
   ]
  },
  {
   "cell_type": "markdown",
   "id": "45eeaaaa",
   "metadata": {},
   "source": [
    "## Compare Two Scenarios using a PMF for the Same Variable"
   ]
  },
  {
   "cell_type": "code",
   "execution_count": null,
   "id": "22ff50fc",
   "metadata": {},
   "outputs": [],
   "source": [
    "### Compare Obesity Levels from the number of hours per day of Sunshine"
   ]
  },
  {
   "cell_type": "code",
   "execution_count": null,
   "id": "e11bcc70",
   "metadata": {},
   "outputs": [],
   "source": [
    "# Remove Sunshine per Day hours less than 5\n",
    "sunshine_filtered = healthy_cleaned_df[healthy_cleaned_df['SunshinePerDay'] > 1]\n",
    "sunshine_filtered.head()"
   ]
  },
  {
   "cell_type": "code",
   "execution_count": null,
   "id": "f4b901be",
   "metadata": {},
   "outputs": [],
   "source": [
    "# Get the unique values of the number of hours\n",
    "sunshine_filtered[\"SunshinePerDay\"].value_counts().sort_index()"
   ]
  },
  {
   "cell_type": "markdown",
   "id": "ba5b9143",
   "metadata": {},
   "source": [
    "### Compare the highest frequency of 5 hours compares to the rest for obesity levels"
   ]
  },
  {
   "cell_type": "code",
   "execution_count": null,
   "id": "acbc0a40",
   "metadata": {},
   "outputs": [],
   "source": [
    "# Create df for 5 hours of sunshine and non 5 hours of sunshine\n",
    "obesity_hours5 = sunshine_filtered[sunshine_filtered.SunshinePerDay == 5]\n",
    "print(obesity_hours5['obesity_levels'].value_counts().sort_index())\n",
    "\n",
    "obesity_rest = sunshine_filtered[sunshine_filtered.SunshinePerDay != 5]\n",
    "print(obesity_rest['obesity_levels'].value_counts().sort_index())"
   ]
  },
  {
   "cell_type": "code",
   "execution_count": null,
   "id": "4aeae53b",
   "metadata": {},
   "outputs": [],
   "source": [
    "# Plot the PMF levels of 5 hours of Sunshine\n",
    "obesity_5hrs_pmf = Pmf.from_seq(obesity_hours5['obesity_levels'])\n",
    "plt.xlabel(\"Obesity Level (%)\")\n",
    "plt.ylabel(\"PMF\")\n",
    "obesity_5hrs_pmf.bar()"
   ]
  },
  {
   "cell_type": "code",
   "execution_count": null,
   "id": "e48437cf",
   "metadata": {},
   "outputs": [],
   "source": [
    "# Compare the PMF of Obesity Level in 5 hours vs the rest\n",
    "obesity_5hrs_pmf = Pmf.from_seq(obesity_hours5['obesity_levels'])\n",
    "obesity_rest_pmf = Pmf.from_seq(obesity_rest['obesity_levels'])\n",
    "\n",
    "fig, ax = plt.subplots(1, 1, figsize = (9, 7))\n",
    "\n",
    "fiveHours = mpatches.Patch(color='orange', label='5 Hours of Sunshine')\n",
    "rest = mpatches.Patch(color='darkturquoise', label='Not 5 Hours of Sunshine')\n",
    "ax.legend(handles=[fiveHours, rest ], )\n",
    "\n",
    "plt.xlabel(\"Obesity Levels\")\n",
    "plt.ylabel(\"PMF\")\n",
    "\n",
    "obesity_5hrs_pmf.bar(color=['orange'])\n",
    "obesity_rest_pmf.bar(color=['darkturquoise'])\n",
    "\n",
    "# Save figure for powerpoint\n",
    "plt.savefig('Obesity Levels per Hours of Sunshine.png')\n",
    "\n",
    "print(f\"Mean obesity of 5 hours of Sunshine: {obesity_5hrs_pmf.mean()}\")\n",
    "print(f\"Mean obesity of Rest of Sunshine: {obesity_rest_pmf.mean()}\")"
   ]
  },
  {
   "cell_type": "markdown",
   "id": "05935792",
   "metadata": {},
   "source": [
    "*With 5 hours of sunshine the obesity levels are much lower than any other amount of sunshine per day*"
   ]
  },
  {
   "cell_type": "markdown",
   "id": "acabf993",
   "metadata": {},
   "source": [
    "### Analytical Distribution and provide analysis on how it applies to the dataset"
   ]
  },
  {
   "cell_type": "code",
   "execution_count": null,
   "id": "9c9cdf0f",
   "metadata": {},
   "outputs": [],
   "source": [
    "# Obesity levels(Country)\n",
    "# Normal Probablity Plot"
   ]
  },
  {
   "cell_type": "code",
   "execution_count": null,
   "id": "125027dd",
   "metadata": {},
   "outputs": [],
   "source": [
    "# remove outliers from obesity levels\n",
    "obesity_filtered = healthy_cleaned_df[healthy_cleaned_df['obesity_levels'] > 4.7]\n",
    "obesity_filtered.head()"
   ]
  },
  {
   "cell_type": "code",
   "execution_count": null,
   "id": "6085de03",
   "metadata": {},
   "outputs": [],
   "source": [
    "scipy.stats.probplot(obesity_filtered['obesity_levels'], dist=\"norm\", plot = plt)"
   ]
  },
  {
   "cell_type": "markdown",
   "id": "bd9a1317",
   "metadata": {},
   "source": [
    "The probability plot suggests that the distribution of Obesity weights does not really follow a normal distribution."
   ]
  },
  {
   "cell_type": "markdown",
   "id": "53755264",
   "metadata": {},
   "source": [
    "## Create 2 scatterplots comparing two variables and provide analysis on correlation and causation"
   ]
  },
  {
   "cell_type": "markdown",
   "id": "0510f0c4",
   "metadata": {},
   "source": [
    "### Is the obesity levels in a city related to the number of hours of sunshine?"
   ]
  },
  {
   "cell_type": "code",
   "execution_count": null,
   "id": "9d4d2fb4",
   "metadata": {},
   "outputs": [],
   "source": [
    "# Remove Sunshine per Day hours less than 1\n",
    "sunshine_filtered = healthy_cleaned_df[healthy_cleaned_df['SunshinePerDay'] > 1]\n",
    "sunshine_filtered.head()"
   ]
  },
  {
   "cell_type": "code",
   "execution_count": null,
   "id": "0016066d",
   "metadata": {},
   "outputs": [],
   "source": [
    "sunshine_filtered.plot.scatter(x = 'obesity_levels', y = 'SunshinePerDay')"
   ]
  },
  {
   "cell_type": "code",
   "execution_count": null,
   "id": "44d90a36",
   "metadata": {},
   "outputs": [],
   "source": [
    "# scatterplot with regression line\n",
    "plt.plot(sunshine_filtered['obesity_levels'], sunshine_filtered['SunshinePerDay'], 'o')\n",
    "m, b = np.polyfit(sunshine_filtered['obesity_levels'], sunshine_filtered['SunshinePerDay'], 1)\n",
    "\n",
    "plt.plot(sunshine_filtered['obesity_levels'], m * sunshine_filtered['obesity_levels'] + b)\n",
    "\n",
    "plt.xlabel(\"Obesity Levels\")\n",
    "plt.ylabel(\"Hours of Sunshine per Day\")"
   ]
  },
  {
   "cell_type": "markdown",
   "id": "0268a5a6",
   "metadata": {},
   "source": [
    "Looking at the scatterplot, it doesnt look like there is a correlation between obesity levels and the number of hours of sunshine per day a city has."
   ]
  },
  {
   "cell_type": "code",
   "execution_count": null,
   "id": "86ca3264",
   "metadata": {},
   "outputs": [],
   "source": [
    "# Pearson's Correlation Coefficient\n",
    "\n",
    "healthy_pearson1 = scipy.stats.pearsonr(sunshine_filtered['obesity_levels'], sunshine_filtered['SunshinePerDay'])\n",
    "print(f\"Pearsons: {healthy_pearson1}\")"
   ]
  },
  {
   "cell_type": "code",
   "execution_count": null,
   "id": "74fa0fa7",
   "metadata": {},
   "outputs": [],
   "source": [
    "# R squared\n",
    "healthy_pearson1[0]**2"
   ]
  },
  {
   "cell_type": "markdown",
   "id": "b8d8adbe",
   "metadata": {},
   "source": [
    "Looking at the coefficent and r-squared values, it suggests that there is no correlation between the number of hours of sunshine and obesity levels in a healthy city.  The p-value is significant."
   ]
  },
  {
   "cell_type": "markdown",
   "id": "94a93fd3",
   "metadata": {},
   "source": [
    "### Is the number of outdoor activities related to the cost of a bottle of water?"
   ]
  },
  {
   "cell_type": "code",
   "execution_count": null,
   "id": "7b9ddfba",
   "metadata": {},
   "outputs": [],
   "source": [
    "# Remove Water Cost > $4.00 and number of activities > 580\n",
    "filtered_1 = healthy_cleaned_df[healthy_cleaned_df['water_cost'] < 4]\n",
    "filtered_1 = healthy_cleaned_df[healthy_cleaned_df['outdoor_activity'] < 580]\n",
    "filtered_1.head()"
   ]
  },
  {
   "cell_type": "code",
   "execution_count": null,
   "id": "66b471f9",
   "metadata": {},
   "outputs": [],
   "source": [
    "filtered_1.plot.scatter(x = 'water_cost', y = 'outdoor_activity')"
   ]
  },
  {
   "cell_type": "code",
   "execution_count": null,
   "id": "eaa2166c",
   "metadata": {},
   "outputs": [],
   "source": [
    "# scatterplot with regression line\n",
    "plt.plot(filtered_1['water_cost'], filtered_1['outdoor_activity'], 'o')\n",
    "m, b = np.polyfit(filtered_1['water_cost'], filtered_1['outdoor_activity'], 1)\n",
    "\n",
    "plt.plot(filtered_1['water_cost'], m * filtered_1['water_cost'] + b)\n",
    "\n",
    "plt.xlabel(\"Water Cost (US $)\")\n",
    "plt.ylabel(\"Number of Outdoor Activities\")"
   ]
  },
  {
   "cell_type": "code",
   "execution_count": null,
   "id": "3e3a7128",
   "metadata": {},
   "outputs": [],
   "source": [
    "# Pearson's Correlation Coefficient\n",
    "\n",
    "healthy_pearson2 = scipy.stats.pearsonr(filtered_1['water_cost'], \n",
    "                                       filtered_1['outdoor_activity'])\n",
    "print(f\"Pearsons: {healthy_pearson2}\")"
   ]
  },
  {
   "cell_type": "markdown",
   "id": "f9357973",
   "metadata": {},
   "source": [
    "Looking at the coefficent and r-squared values, it suggests that there is no correlation between the cost of a bottle of water and the number of outdoor activities in a healthy city.  The p-value is significant."
   ]
  },
  {
   "cell_type": "code",
   "execution_count": null,
   "id": "e45285dc",
   "metadata": {},
   "outputs": [],
   "source": [
    "# R squared\n",
    "healthy_pearson2[0]**2"
   ]
  },
  {
   "cell_type": "markdown",
   "id": "a5e5220b",
   "metadata": {},
   "source": [
    "### Conduct a test on your hypothesis"
   ]
  },
  {
   "cell_type": "markdown",
   "id": "a0a0b97e",
   "metadata": {},
   "source": [
    "*Is there a difference in the number of outdoor activities and obesity rates in healthy cities?*"
   ]
  },
  {
   "cell_type": "code",
   "execution_count": null,
   "id": "3177a8e8",
   "metadata": {},
   "outputs": [],
   "source": [
    "# Remove number of activities > 580\n",
    "activities_filtered = healthy_cleaned_df[healthy_cleaned_df['outdoor_activity'] < 580]\n",
    "activities_filtered.head()"
   ]
  },
  {
   "cell_type": "code",
   "execution_count": null,
   "id": "e40f52c1",
   "metadata": {},
   "outputs": [],
   "source": [
    "hypoth_outdoor = activities_filtered['outdoor_activity']\n",
    "hypoth_obesity = activities_filtered['obesity_levels']"
   ]
  },
  {
   "cell_type": "code",
   "execution_count": null,
   "id": "23055134",
   "metadata": {},
   "outputs": [],
   "source": [
    "hypoth_corr = scipy.stats.pearsonr(hypoth_obesity, hypoth_outdoor)\n",
    "hypoth_corr"
   ]
  },
  {
   "cell_type": "code",
   "execution_count": null,
   "id": "4e042377",
   "metadata": {},
   "outputs": [],
   "source": [
    "# R squared\n",
    "hypoth_corr[0]**2"
   ]
  },
  {
   "cell_type": "markdown",
   "id": "9c2d7745",
   "metadata": {},
   "source": [
    "A correlation of 0.15 indicates a low positive correlation between number of outdoor activites and obesity levels. The p-value is high also indicating there is no correlation between the number of outdoor activities and obesity levels."
   ]
  },
  {
   "cell_type": "code",
   "execution_count": null,
   "id": "0b5e9823",
   "metadata": {},
   "outputs": [],
   "source": [
    "# scatterplot with regression line\n",
    "plt.plot(hypoth_outdoor, hypoth_obesity, 'o')\n",
    "m, b = np.polyfit(hypoth_outdoor, hypoth_obesity, 1)\n",
    "\n",
    "plt.plot(hypoth_outdoor, m * hypoth_outdoor + b)\n",
    "\n",
    "plt.xlabel(\"Number of Outdoor Acitvities\")\n",
    "plt.ylabel(\"Obesity Levels\")"
   ]
  },
  {
   "cell_type": "code",
   "execution_count": null,
   "id": "41cc1837",
   "metadata": {},
   "outputs": [],
   "source": [
    "# hypothesis test\n",
    "iters = 1000\n",
    "shuffle = np.array(hypoth_obesity)\n",
    "count = 0\n",
    "\n",
    "for _ in range(iters):\n",
    "    np.random.shuffle(shuffle)\n",
    "    new_corr = scipy.stats.pearsonr(shuffle, hypoth_outdoor)[0]\n",
    "    \n",
    "    if new_corr > hypoth_corr[0]:\n",
    "        count += 1\n",
    "        \n",
    "print(f\"p-value: {count / iters}\")"
   ]
  },
  {
   "cell_type": "markdown",
   "id": "ac3bcbdb",
   "metadata": {},
   "source": [
    "A p-value of 0.149 shows that the null hypothesis is rejected and the test is significant. Meaning there is no correlation between the number of outdoor activities and obesity rates in healthy cities."
   ]
  },
  {
   "cell_type": "markdown",
   "id": "09aae2c0",
   "metadata": {},
   "source": [
    "## Regression"
   ]
  },
  {
   "cell_type": "markdown",
   "id": "adefea81",
   "metadata": {},
   "source": [
    "Test each of the chosen variables helps determine obesity levels in a healthy city"
   ]
  },
  {
   "cell_type": "code",
   "execution_count": null,
   "id": "d69c1b70",
   "metadata": {},
   "outputs": [],
   "source": [
    "# Remove Outliers: number of activities > 580, sunshine per day < 1, water cost > 4\n",
    "filtered = healthy_cleaned_df[healthy_cleaned_df['outdoor_activity'] < 580]\n",
    "filtered = healthy_cleaned_df[healthy_cleaned_df['SunshinePerDay'] > 1]\n",
    "filtered = healthy_cleaned_df[healthy_cleaned_df['water_cost'] < 4]\n",
    "\n",
    "filtered.head()"
   ]
  },
  {
   "cell_type": "code",
   "execution_count": null,
   "id": "d15ee21d",
   "metadata": {},
   "outputs": [],
   "source": [
    "# Average Hours Worked per Day per City\n",
    "results_work = smf.ols('obesity_levels ~ WorkPerDay', data = filtered).fit()\n",
    "results_work.summary()"
   ]
  },
  {
   "cell_type": "code",
   "execution_count": null,
   "id": "e0b01e22",
   "metadata": {},
   "outputs": [],
   "source": [
    "# Average Hours of Sunshine per Day per City\n",
    "results_sunshine = smf.ols('obesity_levels ~ SunshinePerDay', \n",
    "                  data = filtered).fit()\n",
    "results_sunshine.summary()"
   ]
  },
  {
   "cell_type": "code",
   "execution_count": null,
   "id": "1b1920fd",
   "metadata": {},
   "outputs": [],
   "source": [
    "# Cost of a Bottle of Water per City\n",
    "results_water = smf.ols('obesity_levels ~ water_cost', \n",
    "                  data = filtered).fit()\n",
    "results_water.summary()"
   ]
  },
  {
   "cell_type": "code",
   "execution_count": null,
   "id": "63eabbac",
   "metadata": {},
   "outputs": [],
   "source": [
    "# Number of Outdoor Activities per City\n",
    "results_activity = smf.ols('obesity_levels ~ outdoor_activity', \n",
    "                  data = filtered).fit()\n",
    "results_activity.summary()"
   ]
  },
  {
   "cell_type": "code",
   "execution_count": null,
   "id": "aea1cb4e",
   "metadata": {},
   "outputs": [],
   "source": [
    "# Multiple regression\n",
    "results_activity = smf.ols('obesity_levels ~ WorkPerDay + SunshinePerDay + water_cost + outdoor_activity + pollution + life_expectancy', data = filtered).fit()\n",
    "results_activity.summary()"
   ]
  },
  {
   "cell_type": "code",
   "execution_count": null,
   "id": "832adff6",
   "metadata": {},
   "outputs": [],
   "source": [
    "# Nonlinear regression\n",
    "filtered['life_expectancy2'] = filtered.life_expectancy ** 2\n",
    "results_activity = smf.ols('obesity_levels ~ WorkPerDay + SunshinePerDay + water_cost + outdoor_activity + pollution + life_expectancy + life_expectancy2', data = filtered).fit()\n",
    "results_activity.summary()"
   ]
  },
  {
   "cell_type": "code",
   "execution_count": null,
   "id": "d7a9c16b",
   "metadata": {},
   "outputs": [],
   "source": []
  }
 ],
 "metadata": {
  "kernelspec": {
   "display_name": "Python 3 (ipykernel)",
   "language": "python",
   "name": "python3"
  },
  "language_info": {
   "codemirror_mode": {
    "name": "ipython",
    "version": 3
   },
   "file_extension": ".py",
   "mimetype": "text/x-python",
   "name": "python",
   "nbconvert_exporter": "python",
   "pygments_lexer": "ipython3",
   "version": "3.8.8"
  }
 },
 "nbformat": 4,
 "nbformat_minor": 5
}
