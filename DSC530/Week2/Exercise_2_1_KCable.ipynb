{
 "cells": [
  {
   "cell_type": "markdown",
   "id": "731e011f-4ea5-4c0a-b191-557002bafcc3",
   "metadata": {},
   "source": [
    "DSC 530\n",
    "Exercise 2.1\n",
    "Kimberly Cable"
   ]
  },
  {
   "cell_type": "markdown",
   "id": "14ea0c67-5784-4953-a758-aa0f3c8cd547",
   "metadata": {},
   "source": [
    "Display the text \"Hello World!\""
   ]
  },
  {
   "cell_type": "code",
   "execution_count": 1,
   "id": "36152516-4ffe-4e29-a4db-94d82158e2ea",
   "metadata": {},
   "outputs": [
    {
     "name": "stdout",
     "output_type": "stream",
     "text": [
      "Hello World!\n"
     ]
    }
   ],
   "source": [
    "print(\"Hello World!\")"
   ]
  },
  {
   "cell_type": "markdown",
   "id": "916406ce-2568-4aa8-9c48-a76868a91a36",
   "metadata": {},
   "source": [
    "Add two numbers together"
   ]
  },
  {
   "cell_type": "code",
   "execution_count": 2,
   "id": "23637435-7157-40c6-a965-de97f417638d",
   "metadata": {},
   "outputs": [
    {
     "data": {
      "text/plain": [
       "15"
      ]
     },
     "execution_count": 2,
     "metadata": {},
     "output_type": "execute_result"
    }
   ],
   "source": [
    "7 + 8"
   ]
  },
  {
   "cell_type": "markdown",
   "id": "d9633adb-5a25-4305-86e3-3edc8a72c97d",
   "metadata": {},
   "source": [
    "Subtract a number from another number"
   ]
  },
  {
   "cell_type": "code",
   "execution_count": 3,
   "id": "2dc4f941-7fbc-4132-b9dd-49aee890f784",
   "metadata": {},
   "outputs": [
    {
     "data": {
      "text/plain": [
       "7"
      ]
     },
     "execution_count": 3,
     "metadata": {},
     "output_type": "execute_result"
    }
   ],
   "source": [
    "15 - 8"
   ]
  },
  {
   "cell_type": "markdown",
   "id": "510a67c6-d4f2-4198-8ab8-d8776a52afd7",
   "metadata": {},
   "source": [
    "Multiply two numbers"
   ]
  },
  {
   "cell_type": "code",
   "execution_count": 4,
   "id": "0933674e-92e2-43c2-a1d3-c8d0ad77ca68",
   "metadata": {},
   "outputs": [
    {
     "data": {
      "text/plain": [
       "56"
      ]
     },
     "execution_count": 4,
     "metadata": {},
     "output_type": "execute_result"
    }
   ],
   "source": [
    "8 * 7"
   ]
  },
  {
   "cell_type": "markdown",
   "id": "07db451c-9179-4090-9596-e168eca1adbb",
   "metadata": {},
   "source": [
    "Divide between two numbers"
   ]
  },
  {
   "cell_type": "code",
   "execution_count": 5,
   "id": "7f987258-57f9-44f8-bf53-7ef0341cde5f",
   "metadata": {},
   "outputs": [
    {
     "data": {
      "text/plain": [
       "16.0"
      ]
     },
     "execution_count": 5,
     "metadata": {},
     "output_type": "execute_result"
    }
   ],
   "source": [
    "64 / 4"
   ]
  },
  {
   "cell_type": "markdown",
   "id": "bfd5bed0-2eb4-4d82-a725-bbef41388b8a",
   "metadata": {},
   "source": [
    "Concatenate two strings (any words)"
   ]
  },
  {
   "cell_type": "code",
   "execution_count": 6,
   "id": "9bb73246-3bf2-4812-b000-e022ac523c98",
   "metadata": {},
   "outputs": [
    {
     "data": {
      "text/plain": [
       "'Hello World'"
      ]
     },
     "execution_count": 6,
     "metadata": {},
     "output_type": "execute_result"
    }
   ],
   "source": [
    "\"Hello\" + \" World\""
   ]
  },
  {
   "cell_type": "markdown",
   "id": "3f07124d-bb4f-4812-a043-05e311d78e1b",
   "metadata": {},
   "source": [
    "Create a list of 4 items (can be strings, numbers, both)"
   ]
  },
  {
   "cell_type": "code",
   "execution_count": 7,
   "id": "9b9beefe-59e7-498f-89e6-5e4a69327076",
   "metadata": {},
   "outputs": [
    {
     "name": "stdout",
     "output_type": "stream",
     "text": [
      "<class 'list'>\n"
     ]
    },
    {
     "data": {
      "text/plain": [
       "['list1', 'list2', 'list3', 'list4']"
      ]
     },
     "execution_count": 7,
     "metadata": {},
     "output_type": "execute_result"
    }
   ],
   "source": [
    "myList = [\"list1\", \"list2\", \"list3\", \"list4\"]\n",
    "print(type(myList))\n",
    "myList"
   ]
  },
  {
   "cell_type": "markdown",
   "id": "87a19f1f-6fc0-4df4-82eb-6b4c67b5691c",
   "metadata": {},
   "source": [
    "Append an item to your list (again, can be a string, number)"
   ]
  },
  {
   "cell_type": "code",
   "execution_count": 8,
   "id": "d00f0bc3-b29d-4d1b-ac5f-a2261b570188",
   "metadata": {},
   "outputs": [
    {
     "data": {
      "text/plain": [
       "['list1', 'list2', 'list3', 'list4', 'list5']"
      ]
     },
     "execution_count": 8,
     "metadata": {},
     "output_type": "execute_result"
    }
   ],
   "source": [
    "myList.append(\"list5\")\n",
    "myList"
   ]
  },
  {
   "cell_type": "markdown",
   "id": "9f301ca6-a9da-41d0-a872-a62f64698979",
   "metadata": {},
   "source": [
    "Create a tuple with 4 items (can be strings, numbers, both)"
   ]
  },
  {
   "cell_type": "code",
   "execution_count": 9,
   "id": "8b8fe2e0-8b8e-4256-811d-d383f258dc2e",
   "metadata": {},
   "outputs": [
    {
     "name": "stdout",
     "output_type": "stream",
     "text": [
      "<class 'tuple'>\n"
     ]
    },
    {
     "data": {
      "text/plain": [
       "('tuple1', 'tuple2', 'tuple3', 'tuple4')"
      ]
     },
     "execution_count": 9,
     "metadata": {},
     "output_type": "execute_result"
    }
   ],
   "source": [
    "myTuple = (\"tuple1\", \"tuple2\", \"tuple3\", \"tuple4\")\n",
    "print(type(myTuple))\n",
    "myTuple"
   ]
  }
 ],
 "metadata": {
  "kernelspec": {
   "display_name": "Python 3 (ipykernel)",
   "language": "python",
   "name": "python3"
  },
  "language_info": {
   "codemirror_mode": {
    "name": "ipython",
    "version": 3
   },
   "file_extension": ".py",
   "mimetype": "text/x-python",
   "name": "python",
   "nbconvert_exporter": "python",
   "pygments_lexer": "ipython3",
   "version": "3.8.8"
  }
 },
 "nbformat": 4,
 "nbformat_minor": 5
}
