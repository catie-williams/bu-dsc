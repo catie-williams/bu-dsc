{
 "cells": [
  {
   "cell_type": "markdown",
   "id": "1741d89e",
   "metadata": {},
   "source": [
    "## Assignment 4.2\n",
    "\n",
    "### Exercises 3-1, 3-2. 4-1, and 4-2\n",
    "\n",
    "http://thinkstats2.com\n",
    "    \n",
    "Copyright 2016 Allen B. Downey\n",
    "\n",
    "MIT license: https://opensource.org/licenses/MIT"
   ]
  },
  {
   "cell_type": "code",
   "execution_count": 5,
   "id": "ad452f7c",
   "metadata": {},
   "outputs": [],
   "source": [
    "# Imports\n",
    "import nsfg\n",
    "import pandas as pd\n",
    "import numpy as np\n",
    "import matplotlib.pyplot as plt\n",
    "from empiricaldist import Pmf\n",
    "from empiricaldist import Cdf"
   ]
  },
  {
   "cell_type": "markdown",
   "id": "048992a2",
   "metadata": {},
   "source": [
    "## Exercise 3 - 1\n",
    "\n",
    "*Something like the class size paradox appears if you survey children and ask how many children are in their family. \n",
    "Families with many children are more likely to appear in your sample, and families with no children have no change to be in\n",
    "the sample.*"
   ]
  },
  {
   "cell_type": "code",
   "execution_count": 10,
   "id": "c421d4df",
   "metadata": {},
   "outputs": [
    {
     "data": {
      "text/html": [
       "<div>\n",
       "<style scoped>\n",
       "    .dataframe tbody tr th:only-of-type {\n",
       "        vertical-align: middle;\n",
       "    }\n",
       "\n",
       "    .dataframe tbody tr th {\n",
       "        vertical-align: top;\n",
       "    }\n",
       "\n",
       "    .dataframe thead th {\n",
       "        text-align: right;\n",
       "    }\n",
       "</style>\n",
       "<table border=\"1\" class=\"dataframe\">\n",
       "  <thead>\n",
       "    <tr style=\"text-align: right;\">\n",
       "      <th></th>\n",
       "      <th>caseid</th>\n",
       "      <th>rscrinf</th>\n",
       "      <th>rdormres</th>\n",
       "      <th>rostscrn</th>\n",
       "      <th>rscreenhisp</th>\n",
       "      <th>rscreenrace</th>\n",
       "      <th>age_a</th>\n",
       "      <th>age_r</th>\n",
       "      <th>cmbirth</th>\n",
       "      <th>agescrn</th>\n",
       "      <th>...</th>\n",
       "      <th>pubassis_i</th>\n",
       "      <th>basewgt</th>\n",
       "      <th>adj_mod_basewgt</th>\n",
       "      <th>finalwgt</th>\n",
       "      <th>secu_r</th>\n",
       "      <th>sest</th>\n",
       "      <th>cmintvw</th>\n",
       "      <th>cmlstyr</th>\n",
       "      <th>screentime</th>\n",
       "      <th>intvlngth</th>\n",
       "    </tr>\n",
       "  </thead>\n",
       "  <tbody>\n",
       "    <tr>\n",
       "      <th>0</th>\n",
       "      <td>2298</td>\n",
       "      <td>1</td>\n",
       "      <td>5</td>\n",
       "      <td>5</td>\n",
       "      <td>1</td>\n",
       "      <td>5.0</td>\n",
       "      <td>27</td>\n",
       "      <td>27</td>\n",
       "      <td>902</td>\n",
       "      <td>27</td>\n",
       "      <td>...</td>\n",
       "      <td>0</td>\n",
       "      <td>3247.916977</td>\n",
       "      <td>5123.759559</td>\n",
       "      <td>5556.717241</td>\n",
       "      <td>2</td>\n",
       "      <td>18</td>\n",
       "      <td>1234</td>\n",
       "      <td>1222</td>\n",
       "      <td>18:26:36</td>\n",
       "      <td>110.492667</td>\n",
       "    </tr>\n",
       "    <tr>\n",
       "      <th>1</th>\n",
       "      <td>5012</td>\n",
       "      <td>1</td>\n",
       "      <td>5</td>\n",
       "      <td>1</td>\n",
       "      <td>5</td>\n",
       "      <td>5.0</td>\n",
       "      <td>42</td>\n",
       "      <td>42</td>\n",
       "      <td>718</td>\n",
       "      <td>42</td>\n",
       "      <td>...</td>\n",
       "      <td>0</td>\n",
       "      <td>2335.279149</td>\n",
       "      <td>2846.799490</td>\n",
       "      <td>4744.191350</td>\n",
       "      <td>2</td>\n",
       "      <td>18</td>\n",
       "      <td>1233</td>\n",
       "      <td>1221</td>\n",
       "      <td>16:30:59</td>\n",
       "      <td>64.294000</td>\n",
       "    </tr>\n",
       "    <tr>\n",
       "      <th>2</th>\n",
       "      <td>11586</td>\n",
       "      <td>1</td>\n",
       "      <td>5</td>\n",
       "      <td>1</td>\n",
       "      <td>5</td>\n",
       "      <td>5.0</td>\n",
       "      <td>43</td>\n",
       "      <td>43</td>\n",
       "      <td>708</td>\n",
       "      <td>43</td>\n",
       "      <td>...</td>\n",
       "      <td>0</td>\n",
       "      <td>2335.279149</td>\n",
       "      <td>2846.799490</td>\n",
       "      <td>4744.191350</td>\n",
       "      <td>2</td>\n",
       "      <td>18</td>\n",
       "      <td>1234</td>\n",
       "      <td>1222</td>\n",
       "      <td>18:19:09</td>\n",
       "      <td>75.149167</td>\n",
       "    </tr>\n",
       "    <tr>\n",
       "      <th>3</th>\n",
       "      <td>6794</td>\n",
       "      <td>5</td>\n",
       "      <td>5</td>\n",
       "      <td>4</td>\n",
       "      <td>1</td>\n",
       "      <td>5.0</td>\n",
       "      <td>15</td>\n",
       "      <td>15</td>\n",
       "      <td>1042</td>\n",
       "      <td>15</td>\n",
       "      <td>...</td>\n",
       "      <td>0</td>\n",
       "      <td>3783.152221</td>\n",
       "      <td>5071.464231</td>\n",
       "      <td>5923.977368</td>\n",
       "      <td>2</td>\n",
       "      <td>18</td>\n",
       "      <td>1234</td>\n",
       "      <td>1222</td>\n",
       "      <td>15:54:43</td>\n",
       "      <td>28.642833</td>\n",
       "    </tr>\n",
       "    <tr>\n",
       "      <th>4</th>\n",
       "      <td>616</td>\n",
       "      <td>1</td>\n",
       "      <td>5</td>\n",
       "      <td>4</td>\n",
       "      <td>1</td>\n",
       "      <td>5.0</td>\n",
       "      <td>20</td>\n",
       "      <td>20</td>\n",
       "      <td>991</td>\n",
       "      <td>20</td>\n",
       "      <td>...</td>\n",
       "      <td>0</td>\n",
       "      <td>5341.329968</td>\n",
       "      <td>6437.335772</td>\n",
       "      <td>7229.128072</td>\n",
       "      <td>2</td>\n",
       "      <td>18</td>\n",
       "      <td>1233</td>\n",
       "      <td>1221</td>\n",
       "      <td>14:19:44</td>\n",
       "      <td>69.502667</td>\n",
       "    </tr>\n",
       "  </tbody>\n",
       "</table>\n",
       "<p>5 rows × 3087 columns</p>\n",
       "</div>"
      ],
      "text/plain": [
       "   caseid  rscrinf  rdormres  rostscrn  rscreenhisp  rscreenrace  age_a  \\\n",
       "0    2298        1         5         5            1          5.0     27   \n",
       "1    5012        1         5         1            5          5.0     42   \n",
       "2   11586        1         5         1            5          5.0     43   \n",
       "3    6794        5         5         4            1          5.0     15   \n",
       "4     616        1         5         4            1          5.0     20   \n",
       "\n",
       "   age_r  cmbirth  agescrn  ...  pubassis_i      basewgt  adj_mod_basewgt  \\\n",
       "0     27      902       27  ...           0  3247.916977      5123.759559   \n",
       "1     42      718       42  ...           0  2335.279149      2846.799490   \n",
       "2     43      708       43  ...           0  2335.279149      2846.799490   \n",
       "3     15     1042       15  ...           0  3783.152221      5071.464231   \n",
       "4     20      991       20  ...           0  5341.329968      6437.335772   \n",
       "\n",
       "      finalwgt  secu_r  sest  cmintvw  cmlstyr  screentime   intvlngth  \n",
       "0  5556.717241       2    18     1234     1222    18:26:36  110.492667  \n",
       "1  4744.191350       2    18     1233     1221    16:30:59   64.294000  \n",
       "2  4744.191350       2    18     1234     1222    18:19:09   75.149167  \n",
       "3  5923.977368       2    18     1234     1222    15:54:43   28.642833  \n",
       "4  7229.128072       2    18     1233     1221    14:19:44   69.502667  \n",
       "\n",
       "[5 rows x 3087 columns]"
      ]
     },
     "execution_count": 10,
     "metadata": {},
     "output_type": "execute_result"
    }
   ],
   "source": [
    "# Read the Response Female Dataset\n",
    "resp = nsfg.ReadFemResp()\n",
    "resp.head()"
   ]
  },
  {
   "cell_type": "markdown",
   "id": "5405d964",
   "metadata": {},
   "source": [
    "*Use the NSFG respondent variable NUMKDHH to construct the actual distribution from the number of children under 18 in \n",
    "the household*"
   ]
  },
  {
   "cell_type": "code",
   "execution_count": 12,
   "id": "273117bf",
   "metadata": {},
   "outputs": [
    {
     "data": {
      "text/html": [
       "<div>\n",
       "<style scoped>\n",
       "    .dataframe tbody tr th:only-of-type {\n",
       "        vertical-align: middle;\n",
       "    }\n",
       "\n",
       "    .dataframe tbody tr th {\n",
       "        vertical-align: top;\n",
       "    }\n",
       "\n",
       "    .dataframe thead th {\n",
       "        text-align: right;\n",
       "    }\n",
       "</style>\n",
       "<table border=\"1\" class=\"dataframe\">\n",
       "  <thead>\n",
       "    <tr style=\"text-align: right;\">\n",
       "      <th></th>\n",
       "      <th>Number of Children</th>\n",
       "      <th>Total Count</th>\n",
       "    </tr>\n",
       "  </thead>\n",
       "  <tbody>\n",
       "    <tr>\n",
       "      <th>0</th>\n",
       "      <td>0</td>\n",
       "      <td>3563</td>\n",
       "    </tr>\n",
       "    <tr>\n",
       "      <th>1</th>\n",
       "      <td>1</td>\n",
       "      <td>1636</td>\n",
       "    </tr>\n",
       "    <tr>\n",
       "      <th>2</th>\n",
       "      <td>2</td>\n",
       "      <td>1500</td>\n",
       "    </tr>\n",
       "    <tr>\n",
       "      <th>3</th>\n",
       "      <td>3</td>\n",
       "      <td>666</td>\n",
       "    </tr>\n",
       "    <tr>\n",
       "      <th>4</th>\n",
       "      <td>4</td>\n",
       "      <td>196</td>\n",
       "    </tr>\n",
       "    <tr>\n",
       "      <th>5</th>\n",
       "      <td>5</td>\n",
       "      <td>82</td>\n",
       "    </tr>\n",
       "  </tbody>\n",
       "</table>\n",
       "</div>"
      ],
      "text/plain": [
       "   Number of Children  Total Count\n",
       "0                   0         3563\n",
       "1                   1         1636\n",
       "2                   2         1500\n",
       "3                   3          666\n",
       "4                   4          196\n",
       "5                   5           82"
      ]
     },
     "execution_count": 12,
     "metadata": {},
     "output_type": "execute_result"
    }
   ],
   "source": [
    "numOfChildren_counts = resp.numkdhh.value_counts()\n",
    "\n",
    "# convert value_counts to df and assign new names to the columns\n",
    "numOfChildren_counts = pd.DataFrame(numOfChildren_counts)\n",
    "numOfChildren_counts = numOfChildren_counts.reset_index()\n",
    "numOfChildren_counts.columns = ['Number of Children', 'Total Count']\n",
    "numOfChildren_counts"
   ]
  },
  {
   "cell_type": "code",
   "execution_count": 13,
   "id": "81b8eed0",
   "metadata": {},
   "outputs": [
    {
     "data": {
      "text/html": [
       "<div>\n",
       "<style scoped>\n",
       "    .dataframe tbody tr th:only-of-type {\n",
       "        vertical-align: middle;\n",
       "    }\n",
       "\n",
       "    .dataframe tbody tr th {\n",
       "        vertical-align: top;\n",
       "    }\n",
       "\n",
       "    .dataframe thead th {\n",
       "        text-align: right;\n",
       "    }\n",
       "</style>\n",
       "<table border=\"1\" class=\"dataframe\">\n",
       "  <thead>\n",
       "    <tr style=\"text-align: right;\">\n",
       "      <th></th>\n",
       "      <th>probs</th>\n",
       "    </tr>\n",
       "  </thead>\n",
       "  <tbody>\n",
       "    <tr>\n",
       "      <th>0</th>\n",
       "      <td>0.466178</td>\n",
       "    </tr>\n",
       "    <tr>\n",
       "      <th>1</th>\n",
       "      <td>0.214052</td>\n",
       "    </tr>\n",
       "    <tr>\n",
       "      <th>2</th>\n",
       "      <td>0.196258</td>\n",
       "    </tr>\n",
       "    <tr>\n",
       "      <th>3</th>\n",
       "      <td>0.087139</td>\n",
       "    </tr>\n",
       "    <tr>\n",
       "      <th>4</th>\n",
       "      <td>0.025644</td>\n",
       "    </tr>\n",
       "    <tr>\n",
       "      <th>5</th>\n",
       "      <td>0.010729</td>\n",
       "    </tr>\n",
       "  </tbody>\n",
       "</table>\n",
       "</div>"
      ],
      "text/plain": [
       "0    0.466178\n",
       "1    0.214052\n",
       "2    0.196258\n",
       "3    0.087139\n",
       "4    0.025644\n",
       "5    0.010729\n",
       "Name: , dtype: float64"
      ]
     },
     "execution_count": 13,
     "metadata": {},
     "output_type": "execute_result"
    }
   ],
   "source": [
    "numOfChildren_pmf = Pmf.from_seq(resp.numkdhh)\n",
    "numOfChildren_pmf"
   ]
  },
  {
   "cell_type": "markdown",
   "id": "5cfb4bda",
   "metadata": {},
   "source": [
    "*Now compute the biased distribution we would see if we surveyed the children abd asked them how many\n",
    "children under 18 (including themselves) are in their households*"
   ]
  },
  {
   "cell_type": "code",
   "execution_count": 17,
   "id": "4824184d",
   "metadata": {},
   "outputs": [
    {
     "data": {
      "text/html": [
       "<div>\n",
       "<style scoped>\n",
       "    .dataframe tbody tr th:only-of-type {\n",
       "        vertical-align: middle;\n",
       "    }\n",
       "\n",
       "    .dataframe tbody tr th {\n",
       "        vertical-align: top;\n",
       "    }\n",
       "\n",
       "    .dataframe thead th {\n",
       "        text-align: right;\n",
       "    }\n",
       "</style>\n",
       "<table border=\"1\" class=\"dataframe\">\n",
       "  <thead>\n",
       "    <tr style=\"text-align: right;\">\n",
       "      <th></th>\n",
       "      <th>probs</th>\n",
       "    </tr>\n",
       "  </thead>\n",
       "  <tbody>\n",
       "    <tr>\n",
       "      <th>0</th>\n",
       "      <td>0.000000</td>\n",
       "    </tr>\n",
       "    <tr>\n",
       "      <th>1</th>\n",
       "      <td>0.214052</td>\n",
       "    </tr>\n",
       "    <tr>\n",
       "      <th>2</th>\n",
       "      <td>0.392516</td>\n",
       "    </tr>\n",
       "    <tr>\n",
       "      <th>3</th>\n",
       "      <td>0.261416</td>\n",
       "    </tr>\n",
       "    <tr>\n",
       "      <th>4</th>\n",
       "      <td>0.102578</td>\n",
       "    </tr>\n",
       "    <tr>\n",
       "      <th>5</th>\n",
       "      <td>0.053644</td>\n",
       "    </tr>\n",
       "  </tbody>\n",
       "</table>\n",
       "</div>"
      ],
      "text/plain": [
       "0    0.000000\n",
       "1    0.214052\n",
       "2    0.392516\n",
       "3    0.261416\n",
       "4    0.102578\n",
       "5    0.053644\n",
       "Name: , dtype: float64"
      ]
     },
     "execution_count": 17,
     "metadata": {},
     "output_type": "execute_result"
    }
   ],
   "source": [
    "def BiasPmf(pmf):\n",
    "    newPmf = pmf.copy()\n",
    "    \n",
    "    for x, p in newPmf.items():\n",
    "        newPmf[x] = newPmf.get(x, 0) * x\n",
    "        \n",
    "    Pmf.from_seq(newPmf)\n",
    "    \n",
    "    return newPmf\n",
    "\n",
    "biasedNumOfChildren_pmf = BiasPmf(numOfChildren_pmf)\n",
    "biasedNumOfChildren_pmf"
   ]
  },
  {
   "cell_type": "markdown",
   "id": "704b916c",
   "metadata": {},
   "source": [
    "*Plot the actual and biased distributions, and compute their means.*"
   ]
  },
  {
   "cell_type": "code",
   "execution_count": 41,
   "id": "15c75aa5",
   "metadata": {},
   "outputs": [
    {
     "data": {
      "image/png": "[encoded data removed]",
      "text/plain": [
       "<Figure size 432x288 with 1 Axes>"
      ]
     },
     "metadata": {
      "needs_background": "light"
     },
     "output_type": "display_data"
    }
   ],
   "source": [
    "numOfChildren_quantities = numOfChildren_pmf.qs\n",
    "\n",
    "x_axis = np.arange(len(numOfChildren_quantities))\n",
    "\n",
    "plt.bar(x_axis - 0.2, numOfChildren_pmf, width = 0.4, label = 'Actual')\n",
    "plt.bar(x_axis + 0.2, biasedNumOfChildren_pmf, width = 0.4, label = 'Biased')\n",
    "\n",
    "plt.xticks(x_axis, numOfChildren_quantities)\n",
    "\n",
    "plt.xlabel('Number of Children')\n",
    "plt.ylabel('PMF')\n",
    "plt.title('Actual and Biased Distributions of Number of Children in the Household')\n",
    "\n",
    "plt.legend()\n",
    "\n",
    "plt.show()"
   ]
  },
  {
   "cell_type": "code",
   "execution_count": 42,
   "id": "4a522bdf",
   "metadata": {},
   "outputs": [
    {
     "name": "stdout",
     "output_type": "stream",
     "text": [
      "Actual Number of Children Mean: 1.024205155043831\n"
     ]
    }
   ],
   "source": [
    "# mean\n",
    "print(f'Actual Number of Children Mean: {numOfChildren_pmf.mean()}')"
   ]
  },
  {
   "cell_type": "code",
   "execution_count": 24,
   "id": "64a983ca",
   "metadata": {},
   "outputs": [
    {
     "name": "stdout",
     "output_type": "stream",
     "text": [
      "Biased Number of Children Mean: 2.461860525971477\n"
     ]
    }
   ],
   "source": [
    "# mean\n",
    "print(f'Biased Number of Children Mean: {biasedNumOfChildren_pmf.mean()}')"
   ]
  },
  {
   "cell_type": "markdown",
   "id": "d27ff64d",
   "metadata": {},
   "source": [
    "The actual number of children in the household shows less larger families than the biased distribution.\n",
    "As stated families with no children wouldnt show up in the biased dustribution as there would be no\n",
    "one to ask how many kids were in the family."
   ]
  },
  {
   "cell_type": "markdown",
   "id": "3992dc37",
   "metadata": {},
   "source": [
    "## Exercise 3 - 2"
   ]
  },
  {
   "cell_type": "markdown",
   "id": "3ab720d6",
   "metadata": {},
   "source": [
    "*Write functions called PmfMean and PmfVar that take a Pmf object and compute the mean and variance.*"
   ]
  },
  {
   "cell_type": "code",
   "execution_count": 46,
   "id": "11e2761a",
   "metadata": {},
   "outputs": [],
   "source": [
    "def PmfMean(pmf):\n",
    "    '''\n",
    "    Computes the mean of a PMF\n",
    "    \n",
    "    args:\n",
    "        pmf (object)\n",
    "        \n",
    "    returns:\n",
    "        mean (float)\n",
    "    '''\n",
    "    mean = sum(p * x for x, p in pmf.items())\n",
    "    \n",
    "    return mean"
   ]
  },
  {
   "cell_type": "code",
   "execution_count": 47,
   "id": "d484a20e",
   "metadata": {},
   "outputs": [],
   "source": [
    "def PmfVar(pmf):\n",
    "    '''\n",
    "    Computes the variance of a PMF\n",
    "    \n",
    "    args:\n",
    "        pmf (object)\n",
    "        \n",
    "    returns:\n",
    "        var (float)\n",
    "    '''\n",
    "    meanPmf = PmfMean(pmf)\n",
    "    \n",
    "    var = sum( (p * (x - meanPmf) ** 2) for x, p in pmf.items())\n",
    "    \n",
    "    return var"
   ]
  },
  {
   "cell_type": "markdown",
   "id": "7cb2a18b",
   "metadata": {},
   "source": [
    "*To test these methods, check that they are consistent with the methods Mean and Var provided by Pmf*"
   ]
  },
  {
   "cell_type": "code",
   "execution_count": 50,
   "id": "c706c357",
   "metadata": {},
   "outputs": [
    {
     "name": "stdout",
     "output_type": "stream",
     "text": [
      "Function equals method\n"
     ]
    }
   ],
   "source": [
    "# Actual\n",
    "meanFunction_actual = PmfMean(numOfChildren_pmf)\n",
    "meanMethod_actual = numOfChildren_pmf.mean()\n",
    "\n",
    "if meanFunction_actual == meanMethod_actual:\n",
    "    print(\"Function equals method\")\n",
    "else:\n",
    "    print(\"Function NOT equals method\")"
   ]
  },
  {
   "cell_type": "code",
   "execution_count": 51,
   "id": "fd278f66",
   "metadata": {},
   "outputs": [
    {
     "name": "stdout",
     "output_type": "stream",
     "text": [
      "Function equals method\n"
     ]
    }
   ],
   "source": [
    "# Biased\n",
    "meanFunction_actual = PmfMean(biasedNumOfChildren_pmf)\n",
    "meanMethod_actual = biasedNumOfChildren_pmf.mean()\n",
    "\n",
    "if meanFunction_actual == meanMethod_actual:\n",
    "    print(\"Function equals method\")\n",
    "else:\n",
    "    print(\"Function NOT equals method\")"
   ]
  },
  {
   "cell_type": "code",
   "execution_count": null,
   "id": "139fc9d3",
   "metadata": {},
   "outputs": [],
   "source": []
  }
 ],
 "metadata": {
  "kernelspec": {
   "display_name": "Python 3 (ipykernel)",
   "language": "python",
   "name": "python3"
  },
  "language_info": {
   "codemirror_mode": {
    "name": "ipython",
    "version": 3
   },
   "file_extension": ".py",
   "mimetype": "text/x-python",
   "name": "python",
   "nbconvert_exporter": "python",
   "pygments_lexer": "ipython3",
   "version": "3.8.8"
  }
 },
 "nbformat": 4,
 "nbformat_minor": 5
}
