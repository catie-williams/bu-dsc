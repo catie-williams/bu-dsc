{
 "cells": [
  {
   "cell_type": "markdown",
   "id": "71e343db",
   "metadata": {},
   "source": [
    "## Assignment 5.2\n",
    "### Exercises 5 - 1, 5 - 2, and 6 - 1\n",
    "\n",
    "http://thinkstats2.com\n",
    "\n",
    "Copyright 2016 Allen B. Downey\n",
    "\n",
    "MIT License: https://opensource.org/licenses/MIT"
   ]
  },
  {
   "cell_type": "code",
   "execution_count": 1,
   "id": "94a9e38d",
   "metadata": {},
   "outputs": [],
   "source": [
    "# Imports\n",
    "import brfss\n",
    "import thinkstats2\n",
    "import scipy.stats as stats\n",
    "import numpy as np\n",
    "import matplotlib.pyplot as plt\n",
    "from empiricaldist import Cdf\n",
    "from statsmodels.distributions.empirical_distribution import ECDF"
   ]
  },
  {
   "cell_type": "markdown",
   "id": "1e032e94",
   "metadata": {},
   "source": [
    "## Exercise 5 - 1"
   ]
  },
  {
   "cell_type": "markdown",
   "id": "9eb25dfc",
   "metadata": {},
   "source": [
    "*In the BRFSS, the distribution of heights is roughly normal with parameters $\\mu$ = 178cm and $\\sigma$ = 7.7 cm for men, and $\\mu$ = 163 cm and $\\sigma$ = 7.3cm for women*\n",
    "\n",
    "*In order to join Blue Man Group, you have to be male and between 5'10\" and 6'1\" tall.*\n",
    "\n",
    "*What percentage of the US male population is in this range?*"
   ]
  },
  {
   "cell_type": "code",
   "execution_count": 2,
   "id": "749e4070",
   "metadata": {},
   "outputs": [
    {
     "data": {
      "text/html": [
       "<div>\n",
       "<style scoped>\n",
       "    .dataframe tbody tr th:only-of-type {\n",
       "        vertical-align: middle;\n",
       "    }\n",
       "\n",
       "    .dataframe tbody tr th {\n",
       "        vertical-align: top;\n",
       "    }\n",
       "\n",
       "    .dataframe thead th {\n",
       "        text-align: right;\n",
       "    }\n",
       "</style>\n",
       "<table border=\"1\" class=\"dataframe\">\n",
       "  <thead>\n",
       "    <tr style=\"text-align: right;\">\n",
       "      <th></th>\n",
       "      <th>age</th>\n",
       "      <th>sex</th>\n",
       "      <th>wtyrago</th>\n",
       "      <th>finalwt</th>\n",
       "      <th>wtkg2</th>\n",
       "      <th>htm3</th>\n",
       "    </tr>\n",
       "  </thead>\n",
       "  <tbody>\n",
       "    <tr>\n",
       "      <th>0</th>\n",
       "      <td>82.0</td>\n",
       "      <td>2</td>\n",
       "      <td>76.363636</td>\n",
       "      <td>185.870345</td>\n",
       "      <td>70.91</td>\n",
       "      <td>157.0</td>\n",
       "    </tr>\n",
       "    <tr>\n",
       "      <th>1</th>\n",
       "      <td>65.0</td>\n",
       "      <td>2</td>\n",
       "      <td>72.727273</td>\n",
       "      <td>126.603027</td>\n",
       "      <td>72.73</td>\n",
       "      <td>163.0</td>\n",
       "    </tr>\n",
       "    <tr>\n",
       "      <th>2</th>\n",
       "      <td>48.0</td>\n",
       "      <td>2</td>\n",
       "      <td>NaN</td>\n",
       "      <td>181.063210</td>\n",
       "      <td>NaN</td>\n",
       "      <td>165.0</td>\n",
       "    </tr>\n",
       "    <tr>\n",
       "      <th>3</th>\n",
       "      <td>61.0</td>\n",
       "      <td>1</td>\n",
       "      <td>73.636364</td>\n",
       "      <td>517.926275</td>\n",
       "      <td>73.64</td>\n",
       "      <td>170.0</td>\n",
       "    </tr>\n",
       "    <tr>\n",
       "      <th>4</th>\n",
       "      <td>26.0</td>\n",
       "      <td>1</td>\n",
       "      <td>88.636364</td>\n",
       "      <td>1252.624630</td>\n",
       "      <td>88.64</td>\n",
       "      <td>185.0</td>\n",
       "    </tr>\n",
       "  </tbody>\n",
       "</table>\n",
       "</div>"
      ],
      "text/plain": [
       "    age  sex    wtyrago      finalwt  wtkg2   htm3\n",
       "0  82.0    2  76.363636   185.870345  70.91  157.0\n",
       "1  65.0    2  72.727273   126.603027  72.73  163.0\n",
       "2  48.0    2        NaN   181.063210    NaN  165.0\n",
       "3  61.0    1  73.636364   517.926275  73.64  170.0\n",
       "4  26.0    1  88.636364  1252.624630  88.64  185.0"
      ]
     },
     "execution_count": 2,
     "metadata": {},
     "output_type": "execute_result"
    }
   ],
   "source": [
    "df = brfss.ReadBrfss()\n",
    "df.head()"
   ]
  },
  {
   "cell_type": "code",
   "execution_count": 8,
   "id": "8d7a893c",
   "metadata": {},
   "outputs": [
    {
     "data": {
      "text/plain": [
       "<scipy.stats._distn_infrastructure.rv_frozen at 0x229e9d7cf40>"
      ]
     },
     "execution_count": 8,
     "metadata": {},
     "output_type": "execute_result"
    }
   ],
   "source": [
    "# Get the normal distribution with parameters: mean = 178 and Standard Deviation of 7.7\n",
    "mu = 178\n",
    "sigma = 7.7\n",
    "\n",
    "sample = stats.norm(loc = mu, scale = sigma)\n",
    "sample"
   ]
  },
  {
   "cell_type": "code",
   "execution_count": 9,
   "id": "744fbe6d",
   "metadata": {},
   "outputs": [
    {
     "name": "stdout",
     "output_type": "stream",
     "text": [
      "Men at 5' 10\": 49.0%\n",
      "Men at 6' 1\": 83.0%\n",
      "Men within range: 34.0%\n"
     ]
    }
   ],
   "source": [
    "# Convert inches to cm\n",
    "min_height = ((5 * 12) + 10) * 2.54\n",
    "max_height = ((6 * 12) + 1) * 2.54\n",
    "\n",
    "# Percentage of men under 5' 10\"\n",
    "men_min_height = sample.cdf(min_height)\n",
    "\n",
    "# Percentage of men under 6' 1\"\n",
    "men_max_height = sample.cdf(max_height)\n",
    "\n",
    "# Percentage of men between 5' 10\" and 6' 1\"\n",
    "men_within_range = men_max_height - men_min_height\n",
    "\n",
    "print(f\"Men at 5' 10\\\": {round(men_min_height, 2) * 100}%\")\n",
    "print(f\"Men at 6' 1\\\": {round(men_max_height, 2) * 100}%\")\n",
    "print(f\"Men within range: {round(men_within_range, 2) * 100}%\")"
   ]
  },
  {
   "cell_type": "markdown",
   "id": "514f0358",
   "metadata": {},
   "source": [
    "Within the US population for men approximately 34% of them would qualify to be in the Blue Man Group"
   ]
  },
  {
   "cell_type": "markdown",
   "id": "15696a06",
   "metadata": {},
   "source": [
    "## Exercise 5 - 2"
   ]
  },
  {
   "cell_type": "markdown",
   "id": "61e813ea",
   "metadata": {},
   "source": [
    "*To get a feel for the Pareto distribution, lets see how different the world would be if the distrbution of human\n",
    "height were Pareto. With the parameters $x_{m}$ = 1 m and $\\alpha$ = 1.7, we get a distribution with a reasonable \n",
    "minimum, 1 m, and median, 1.5 m*\n",
    "\n",
    "*Plot this distribution*"
   ]
  },
  {
   "cell_type": "code",
   "execution_count": 10,
   "id": "ee07ed1f",
   "metadata": {},
   "outputs": [
    {
     "data": {
      "text/plain": [
       "<scipy.stats._distn_infrastructure.rv_frozen at 0x229e9d9b160>"
      ]
     },
     "execution_count": 10,
     "metadata": {},
     "output_type": "execute_result"
    }
   ],
   "source": [
    "alpha = 1.7\n",
    "xmin = 1\n",
    "\n",
    "dist = stats.pareto(b = alpha, scale = xmin)\n",
    "dist"
   ]
  },
  {
   "cell_type": "markdown",
   "id": "b455585d",
   "metadata": {},
   "source": [
    "*What is the mean human height in Pareto world?*"
   ]
  },
  {
   "cell_type": "code",
   "execution_count": 12,
   "id": "b000525a",
   "metadata": {},
   "outputs": [
    {
     "name": "stdout",
     "output_type": "stream",
     "text": [
      "Mean height (m): 2.428571428571429\n",
      "Mean height (ft): 7.968142857142858\n"
     ]
    }
   ],
   "source": [
    "mean_height = dist.mean()\n",
    "print(f\"Mean height (m): {mean_height}\")\n",
    "print(f\"Mean height (ft): {mean_height * 3.281}\")"
   ]
  },
  {
   "cell_type": "markdown",
   "id": "6dfccdb2",
   "metadata": {},
   "source": [
    "The mean height in a Pareto world is 2.4 meters or about 8 feet tall"
   ]
  },
  {
   "cell_type": "markdown",
   "id": "0837dcb8",
   "metadata": {},
   "source": [
    "*What fraction of the population is shorter than the mean?*"
   ]
  },
  {
   "cell_type": "code",
   "execution_count": 7,
   "id": "aa7151b8",
   "metadata": {},
   "outputs": [
    {
     "data": {
      "text/plain": [
       "0.778739697565288"
      ]
     },
     "execution_count": 7,
     "metadata": {},
     "output_type": "execute_result"
    }
   ],
   "source": [
    "percent_shorter = dist.cdf(mean_height)\n",
    "percent_shorter"
   ]
  },
  {
   "cell_type": "markdown",
   "id": "c828ddf7",
   "metadata": {},
   "source": [
    "About 77% of the people are shorter than 2.4 meters"
   ]
  },
  {
   "cell_type": "markdown",
   "id": "ac8a6805",
   "metadata": {},
   "source": [
    "*If there are 7 billion people in Pareto world, now many do we expect to be taller than 1 km?*"
   ]
  },
  {
   "cell_type": "code",
   "execution_count": 8,
   "id": "c1325cb4",
   "metadata": {},
   "outputs": [
    {
     "data": {
      "text/plain": [
       "55602.976430479954"
      ]
     },
     "execution_count": 8,
     "metadata": {},
     "output_type": "execute_result"
    }
   ],
   "source": [
    "amt_shorter = dist.cdf(1000)\n",
    "amt_taller = 1 - amt_shorter\n",
    "\n",
    "total_pop_taller = amt_taller * 7000000000\n",
    "total_pop_taller"
   ]
  },
  {
   "cell_type": "markdown",
   "id": "0fdd3551",
   "metadata": {},
   "source": [
    "About 55,603 people wouldbe taller than 1 km"
   ]
  },
  {
   "cell_type": "markdown",
   "id": "9fd4fc2e",
   "metadata": {},
   "source": [
    "*How tall do we expect the tallest person to be?*"
   ]
  },
  {
   "cell_type": "code",
   "execution_count": 15,
   "id": "548da0a5",
   "metadata": {},
   "outputs": [
    {
     "name": "stdout",
     "output_type": "stream",
     "text": [
      "Tallest person (km) : 618349.6106759505\n",
      "Tallest person (ft) : 2028805072.6277938\n",
      "1.0525455861201714\n"
     ]
    }
   ],
   "source": [
    "tallest_person = dist.ppf( 1 - (1 / 7000000000))\n",
    "print(f\"Tallest person (km) : {tallest_person}\")\n",
    "print(f\"Tallest person (ft) : {tallest_person * 3281}\")"
   ]
  },
  {
   "cell_type": "markdown",
   "id": "9c62da93",
   "metadata": {},
   "source": [
    "The tallest person would be 618,350 km or 2,028,805,072 ft"
   ]
  },
  {
   "cell_type": "markdown",
   "id": "883c8269",
   "metadata": {},
   "source": [
    "## Exercise 6 - 1"
   ]
  },
  {
   "cell_type": "markdown",
   "id": "1789409a",
   "metadata": {},
   "source": [
    "*The distribution of income is famously skewed to the right. In this exercise, we’ll measure how strong that skew is.*\n",
    "\n",
    "*The Current Population Survey (CPS) is a joint effort of the Bureau of Labor Statistics and the Census Bureau to study income and related variables. Data collected in 2013 is available from http://www.census.gov/hhes/www/cpstables/032013/hhinc/toc.htm.*\n",
    "\n",
    "*The dataset is in the form of a series of income ranges and the number of respondents who fell in each range. The lowest range includes respondents who reported annual household income \"Under \\\\$ 5000.\"  The highest range includes respondents who made \"\\\\$ 250,000 or more.\"*\n",
    "\n",
    "*To estimate the mean and other statistics from these data, we have to make some assumptions about the lower and upper bounds, and how the values are distributed in each range.*"
   ]
  },
  {
   "cell_type": "code",
   "execution_count": 5,
   "id": "ad32301a",
   "metadata": {},
   "outputs": [
    {
     "data": {
      "text/html": [
       "<div>\n",
       "<style scoped>\n",
       "    .dataframe tbody tr th:only-of-type {\n",
       "        vertical-align: middle;\n",
       "    }\n",
       "\n",
       "    .dataframe tbody tr th {\n",
       "        vertical-align: top;\n",
       "    }\n",
       "\n",
       "    .dataframe thead th {\n",
       "        text-align: right;\n",
       "    }\n",
       "</style>\n",
       "<table border=\"1\" class=\"dataframe\">\n",
       "  <thead>\n",
       "    <tr style=\"text-align: right;\">\n",
       "      <th></th>\n",
       "      <th>income</th>\n",
       "      <th>freq</th>\n",
       "      <th>cumsum</th>\n",
       "      <th>ps</th>\n",
       "    </tr>\n",
       "  </thead>\n",
       "  <tbody>\n",
       "    <tr>\n",
       "      <th>0</th>\n",
       "      <td>4999.0</td>\n",
       "      <td>4204</td>\n",
       "      <td>4204</td>\n",
       "      <td>0.034330</td>\n",
       "    </tr>\n",
       "    <tr>\n",
       "      <th>1</th>\n",
       "      <td>9999.0</td>\n",
       "      <td>4729</td>\n",
       "      <td>8933</td>\n",
       "      <td>0.072947</td>\n",
       "    </tr>\n",
       "    <tr>\n",
       "      <th>2</th>\n",
       "      <td>14999.0</td>\n",
       "      <td>6982</td>\n",
       "      <td>15915</td>\n",
       "      <td>0.129963</td>\n",
       "    </tr>\n",
       "    <tr>\n",
       "      <th>3</th>\n",
       "      <td>19999.0</td>\n",
       "      <td>7157</td>\n",
       "      <td>23072</td>\n",
       "      <td>0.188407</td>\n",
       "    </tr>\n",
       "    <tr>\n",
       "      <th>4</th>\n",
       "      <td>24999.0</td>\n",
       "      <td>7131</td>\n",
       "      <td>30203</td>\n",
       "      <td>0.246640</td>\n",
       "    </tr>\n",
       "  </tbody>\n",
       "</table>\n",
       "</div>"
      ],
      "text/plain": [
       "    income  freq  cumsum        ps\n",
       "0   4999.0  4204    4204  0.034330\n",
       "1   9999.0  4729    8933  0.072947\n",
       "2  14999.0  6982   15915  0.129963\n",
       "3  19999.0  7157   23072  0.188407\n",
       "4  24999.0  7131   30203  0.246640"
      ]
     },
     "execution_count": 5,
     "metadata": {},
     "output_type": "execute_result"
    }
   ],
   "source": [
    "import hinc\n",
    "hinc_df = hinc.ReadData()\n",
    "hinc_df.head()"
   ]
  },
  {
   "cell_type": "code",
   "execution_count": 6,
   "id": "2879b609",
   "metadata": {},
   "outputs": [],
   "source": [
    "def InterpolateSample(df, log_upper = 6.0):\n",
    "    '''\n",
    "    Makes a sample of log10 household income.\n",
    "\n",
    "    Assumes that log10 income is uniform in each range.\n",
    "\n",
    "    args:\n",
    "        df (DataFrame): Dataframe with columns income and freq\n",
    "        log_upper (float): log10 of the assumed upper bound for the highest range\n",
    "\n",
    "    returns: \n",
    "        log_sample (array): NumPy array of log10 household income\n",
    "    '''\n",
    "    \n",
    "    # compute the log10 of the upper bound for each range\n",
    "    df['log_upper'] = np.log10(df.income)\n",
    "\n",
    "    # get the lower bounds by shifting the upper bound and filling in\n",
    "    # the first element\n",
    "    df['log_lower'] = df.log_upper.shift(1)\n",
    "    df.loc[0, 'log_lower'] = 3.0\n",
    "\n",
    "    # plug in a value for the unknown upper bound of the highest range\n",
    "    df.loc[41, 'log_upper'] = log_upper\n",
    "    \n",
    "    # use the freq column to generate the right number of values in\n",
    "    # each range\n",
    "    arrays = []\n",
    "    for _, row in df.iterrows():\n",
    "        vals = np.linspace(row.log_lower, row.log_upper, int(row.freq))\n",
    "        arrays.append(vals)\n",
    "\n",
    "    # collect the arrays into a single sample\n",
    "    log_sample = np.concatenate(arrays)\n",
    "    \n",
    "    return log_sample"
   ]
  },
  {
   "cell_type": "code",
   "execution_count": 43,
   "id": "186c5885",
   "metadata": {},
   "outputs": [
    {
     "data": {
      "text/plain": [
       "Text(0, 0.5, 'CDF')"
      ]
     },
     "execution_count": 43,
     "metadata": {},
     "output_type": "execute_result"
    },
    {
     "data": {
      "image/png": "[encoded data removed]",
      "text/plain": [
       "<Figure size 432x288 with 1 Axes>"
      ]
     },
     "metadata": {
      "needs_background": "light"
     },
     "output_type": "display_data"
    }
   ],
   "source": [
    "# Upper_log = 6 => represents the assumption that the largest income among the respondents is $1,000,000\n",
    "log_sample = InterpolateSample(hinc_df, log_upper = 6.0)\n",
    "log_sample_cdf = Cdf.from_seq(log_sample)\n",
    "log_sample_cdf.plot()\n",
    "plt.xlabel('Income in log $')\n",
    "plt.ylabel('CDF')"
   ]
  },
  {
   "cell_type": "code",
   "execution_count": 44,
   "id": "bdb5720e",
   "metadata": {},
   "outputs": [
    {
     "data": {
      "text/plain": [
       "Text(0, 0.5, 'CDF')"
      ]
     },
     "execution_count": 44,
     "metadata": {},
     "output_type": "execute_result"
    },
    {
     "data": {
      "image/png": "[encoded data removed]",
      "text/plain": [
       "<Figure size 432x288 with 1 Axes>"
      ]
     },
     "metadata": {
      "needs_background": "light"
     },
     "output_type": "display_data"
    }
   ],
   "source": [
    "sample = np.power(10, log_sample)\n",
    "sample_cdf = Cdf.from_seq(sample)\n",
    "sample_cdf.plot()\n",
    "plt.xlabel('Income in $')\n",
    "plt.ylabel('CDF')"
   ]
  },
  {
   "cell_type": "markdown",
   "id": "244def18",
   "metadata": {},
   "source": [
    "*Compute the median, mean, skewness and Pearson's skewness of the resulting sample.*"
   ]
  },
  {
   "cell_type": "code",
   "execution_count": 61,
   "id": "1ecca20c",
   "metadata": {},
   "outputs": [
    {
     "name": "stdout",
     "output_type": "stream",
     "text": [
      "The mean income is $74278.7075311872\n"
     ]
    }
   ],
   "source": [
    "# Mean income of the sample\n",
    "income_mean = sample.mean()\n",
    "print(f'The mean income is ${income_mean}')"
   ]
  },
  {
   "cell_type": "code",
   "execution_count": 60,
   "id": "17337b50",
   "metadata": {},
   "outputs": [
    {
     "name": "stdout",
     "output_type": "stream",
     "text": [
      "The median income is $51226.93306562372\n"
     ]
    }
   ],
   "source": [
    "# Median income of the sample\n",
    "income_median = np.median(sample)\n",
    "print(f'The median income is ${income_median}')"
   ]
  },
  {
   "cell_type": "code",
   "execution_count": 59,
   "id": "a17f8eb5",
   "metadata": {},
   "outputs": [
    {
     "name": "stdout",
     "output_type": "stream",
     "text": [
      "The skewness is 4.949920244429584 indicating it is skewed right\n"
     ]
    }
   ],
   "source": [
    "# Skewness of the sample\n",
    "income_skewness = stats.skew(sample)\n",
    "print(f'The skewness is {income_skewness} indicating it is skewed right')"
   ]
  },
  {
   "cell_type": "code",
   "execution_count": 39,
   "id": "b07dc48f",
   "metadata": {},
   "outputs": [
    {
     "data": {
      "text/plain": [
       "93946.92996347835"
      ]
     },
     "execution_count": 39,
     "metadata": {},
     "output_type": "execute_result"
    }
   ],
   "source": [
    "# standard Deviation of the sample\n",
    "income_var = np.var(sample)\n",
    "income_stdDev = np.sqrt(income_var)\n",
    "income_stdDev"
   ]
  },
  {
   "cell_type": "code",
   "execution_count": 58,
   "id": "94619fb1",
   "metadata": {},
   "outputs": [
    {
     "name": "stdout",
     "output_type": "stream",
     "text": [
      "The Pearson's skewness is 0.7361105192428792\n"
     ]
    }
   ],
   "source": [
    "# Pearson's skewness of the sample\n",
    "income_pearson = 3 * (income_mean - income_median) / income_stdDev\n",
    "print(f\"The Pearson's skewness is {income_pearson}\")"
   ]
  },
  {
   "cell_type": "markdown",
   "id": "4fad58ea",
   "metadata": {},
   "source": [
    "*What fraction of households reports a taxable income below the mean?*"
   ]
  },
  {
   "cell_type": "code",
   "execution_count": 57,
   "id": "d99ba1d2",
   "metadata": {},
   "outputs": [
    {
     "name": "stdout",
     "output_type": "stream",
     "text": [
      "Probability that income less than the mean): 0.6600058795668718\n"
     ]
    }
   ],
   "source": [
    "# Calculate the Empirical Distribution of the sample\n",
    "ecdf = ECDF(sample)\n",
    "print(f'Probability that income less than the mean): {ecdf(income_mean)}')"
   ]
  },
  {
   "cell_type": "markdown",
   "id": "eca91a01",
   "metadata": {},
   "source": [
    "*How do the results depend on the assumed upper bound?*"
   ]
  },
  {
   "cell_type": "markdown",
   "id": "cecc6a97",
   "metadata": {},
   "source": [
    "Without knowing exactly what the highest income is we can only guess so the results just depends on how well\n",
    "we guess."
   ]
  }
 ],
 "metadata": {
  "kernelspec": {
   "display_name": "Python 3 (ipykernel)",
   "language": "python",
   "name": "python3"
  },
  "language_info": {
   "codemirror_mode": {
    "name": "ipython",
    "version": 3
   },
   "file_extension": ".py",
   "mimetype": "text/x-python",
   "name": "python",
   "nbconvert_exporter": "python",
   "pygments_lexer": "ipython3",
   "version": "3.8.8"
  }
 },
 "nbformat": 4,
 "nbformat_minor": 5
}
