{
 "cells": [
  {
   "cell_type": "markdown",
   "id": "03834f82",
   "metadata": {},
   "source": [
    "## Intelligence of Dogs"
   ]
  },
  {
   "cell_type": "markdown",
   "id": "00f3eeae",
   "metadata": {},
   "source": [
    "Research Topic\n",
    "\n",
    "Are bigger dogs smarter than smaller dogs?"
   ]
  },
  {
   "cell_type": "code",
   "execution_count": 1,
   "id": "b00e7e1f",
   "metadata": {},
   "outputs": [],
   "source": [
    "import pandas as pd\n",
    "import numpy as np\n",
    "import matplotlib.pyplot as plt\n",
    "import matplotlib.patches as mpatches\n",
    "from empiricaldist import Pmf\n",
    "from empiricaldist import Cdf\n",
    "import scipy.stats\n",
    "\n",
    "pd.options.display.float_format = '{:.5f}'.format"
   ]
  },
  {
   "cell_type": "code",
   "execution_count": 2,
   "id": "1ed40678",
   "metadata": {},
   "outputs": [],
   "source": [
    "# Import datasets\n",
    "\n",
    "intelligence_df = pd.read_csv('dog_intelligence.csv')\n",
    "akc_df = pd.read_csv('AKC_Breed_Info.csv', header = 0, encoding = 'unicode_escape')\n",
    "heterozygosity_df = pd.read_csv('Table_4_Heterozygosity_85_breeds.csv')"
   ]
  },
  {
   "cell_type": "code",
   "execution_count": 3,
   "id": "606f5e1d",
   "metadata": {},
   "outputs": [
    {
     "data": {
      "text/html": [
       "<div>\n",
       "<style scoped>\n",
       "    .dataframe tbody tr th:only-of-type {\n",
       "        vertical-align: middle;\n",
       "    }\n",
       "\n",
       "    .dataframe tbody tr th {\n",
       "        vertical-align: top;\n",
       "    }\n",
       "\n",
       "    .dataframe thead th {\n",
       "        text-align: right;\n",
       "    }\n",
       "</style>\n",
       "<table border=\"1\" class=\"dataframe\">\n",
       "  <thead>\n",
       "    <tr style=\"text-align: right;\">\n",
       "      <th></th>\n",
       "      <th>Breed</th>\n",
       "      <th>Classification</th>\n",
       "      <th>obey</th>\n",
       "      <th>reps_lower</th>\n",
       "      <th>reps_upper</th>\n",
       "      <th>height_low_inches</th>\n",
       "      <th>height_high_inches</th>\n",
       "      <th>weight_low_lbs</th>\n",
       "      <th>weight_high_lbs</th>\n",
       "    </tr>\n",
       "  </thead>\n",
       "  <tbody>\n",
       "    <tr>\n",
       "      <th>0</th>\n",
       "      <td>Border Collie</td>\n",
       "      <td>Brightest Dogs</td>\n",
       "      <td>95%</td>\n",
       "      <td>1</td>\n",
       "      <td>4</td>\n",
       "      <td>19.00000</td>\n",
       "      <td>21.00000</td>\n",
       "      <td>40</td>\n",
       "      <td>40</td>\n",
       "    </tr>\n",
       "    <tr>\n",
       "      <th>1</th>\n",
       "      <td>Golden Retriever</td>\n",
       "      <td>Brightest Dogs</td>\n",
       "      <td>95%</td>\n",
       "      <td>1</td>\n",
       "      <td>4</td>\n",
       "      <td>21.00000</td>\n",
       "      <td>24.00000</td>\n",
       "      <td>55</td>\n",
       "      <td>75</td>\n",
       "    </tr>\n",
       "    <tr>\n",
       "      <th>2</th>\n",
       "      <td>Doberman Pinscher</td>\n",
       "      <td>Brightest Dogs</td>\n",
       "      <td>95%</td>\n",
       "      <td>1</td>\n",
       "      <td>4</td>\n",
       "      <td>26.00000</td>\n",
       "      <td>28.00000</td>\n",
       "      <td>60</td>\n",
       "      <td>100</td>\n",
       "    </tr>\n",
       "    <tr>\n",
       "      <th>3</th>\n",
       "      <td>Labrador Retriever</td>\n",
       "      <td>Brightest Dogs</td>\n",
       "      <td>95%</td>\n",
       "      <td>1</td>\n",
       "      <td>4</td>\n",
       "      <td>21.00000</td>\n",
       "      <td>24.00000</td>\n",
       "      <td>55</td>\n",
       "      <td>80</td>\n",
       "    </tr>\n",
       "    <tr>\n",
       "      <th>4</th>\n",
       "      <td>Papillon</td>\n",
       "      <td>Brightest Dogs</td>\n",
       "      <td>95%</td>\n",
       "      <td>1</td>\n",
       "      <td>4</td>\n",
       "      <td>8.00000</td>\n",
       "      <td>11.00000</td>\n",
       "      <td>5</td>\n",
       "      <td>10</td>\n",
       "    </tr>\n",
       "  </tbody>\n",
       "</table>\n",
       "</div>"
      ],
      "text/plain": [
       "                Breed  Classification obey  reps_lower  reps_upper  \\\n",
       "0       Border Collie  Brightest Dogs  95%           1           4   \n",
       "1    Golden Retriever  Brightest Dogs  95%           1           4   \n",
       "2   Doberman Pinscher  Brightest Dogs  95%           1           4   \n",
       "3  Labrador Retriever  Brightest Dogs  95%           1           4   \n",
       "4            Papillon  Brightest Dogs  95%           1           4   \n",
       "\n",
       "   height_low_inches  height_high_inches  weight_low_lbs  weight_high_lbs  \n",
       "0           19.00000            21.00000              40               40  \n",
       "1           21.00000            24.00000              55               75  \n",
       "2           26.00000            28.00000              60              100  \n",
       "3           21.00000            24.00000              55               80  \n",
       "4            8.00000            11.00000               5               10  "
      ]
     },
     "execution_count": 3,
     "metadata": {},
     "output_type": "execute_result"
    }
   ],
   "source": [
    "# combine datasets\n",
    "combined_df = pd.merge(intelligence_df, akc_df)\n",
    "combined_df.dropna()\n",
    "\n",
    "combined_df.head()"
   ]
  },
  {
   "cell_type": "code",
   "execution_count": 4,
   "id": "9db0ec3f",
   "metadata": {},
   "outputs": [
    {
     "data": {
      "text/html": [
       "<div>\n",
       "<style scoped>\n",
       "    .dataframe tbody tr th:only-of-type {\n",
       "        vertical-align: middle;\n",
       "    }\n",
       "\n",
       "    .dataframe tbody tr th {\n",
       "        vertical-align: top;\n",
       "    }\n",
       "\n",
       "    .dataframe thead th {\n",
       "        text-align: right;\n",
       "    }\n",
       "</style>\n",
       "<table border=\"1\" class=\"dataframe\">\n",
       "  <thead>\n",
       "    <tr style=\"text-align: right;\">\n",
       "      <th></th>\n",
       "      <th>Breed</th>\n",
       "      <th>Classification</th>\n",
       "      <th>obey</th>\n",
       "      <th>reps_lower</th>\n",
       "      <th>reps_upper</th>\n",
       "      <th>height_low_inches</th>\n",
       "      <th>height_high_inches</th>\n",
       "      <th>weight_low_lbs</th>\n",
       "      <th>weight_high_lbs</th>\n",
       "      <th>Population</th>\n",
       "      <th>Heterozygosity</th>\n",
       "    </tr>\n",
       "  </thead>\n",
       "  <tbody>\n",
       "    <tr>\n",
       "      <th>0</th>\n",
       "      <td>Border Collie</td>\n",
       "      <td>Brightest Dogs</td>\n",
       "      <td>95%</td>\n",
       "      <td>1</td>\n",
       "      <td>4</td>\n",
       "      <td>19.00000</td>\n",
       "      <td>21.00000</td>\n",
       "      <td>40</td>\n",
       "      <td>40</td>\n",
       "      <td>Border Collie</td>\n",
       "      <td>0.54958</td>\n",
       "    </tr>\n",
       "    <tr>\n",
       "      <th>1</th>\n",
       "      <td>Golden Retriever</td>\n",
       "      <td>Brightest Dogs</td>\n",
       "      <td>95%</td>\n",
       "      <td>1</td>\n",
       "      <td>4</td>\n",
       "      <td>21.00000</td>\n",
       "      <td>24.00000</td>\n",
       "      <td>55</td>\n",
       "      <td>75</td>\n",
       "      <td>Golden Retriever</td>\n",
       "      <td>0.51778</td>\n",
       "    </tr>\n",
       "    <tr>\n",
       "      <th>2</th>\n",
       "      <td>Doberman Pinscher</td>\n",
       "      <td>Brightest Dogs</td>\n",
       "      <td>95%</td>\n",
       "      <td>1</td>\n",
       "      <td>4</td>\n",
       "      <td>26.00000</td>\n",
       "      <td>28.00000</td>\n",
       "      <td>60</td>\n",
       "      <td>100</td>\n",
       "      <td>Doberman Pinscher</td>\n",
       "      <td>0.38376</td>\n",
       "    </tr>\n",
       "    <tr>\n",
       "      <th>3</th>\n",
       "      <td>Labrador Retriever</td>\n",
       "      <td>Brightest Dogs</td>\n",
       "      <td>95%</td>\n",
       "      <td>1</td>\n",
       "      <td>4</td>\n",
       "      <td>21.00000</td>\n",
       "      <td>24.00000</td>\n",
       "      <td>55</td>\n",
       "      <td>80</td>\n",
       "      <td>Labrador Retriever</td>\n",
       "      <td>0.56059</td>\n",
       "    </tr>\n",
       "    <tr>\n",
       "      <th>4</th>\n",
       "      <td>Rottweiler</td>\n",
       "      <td>Brightest Dogs</td>\n",
       "      <td>95%</td>\n",
       "      <td>1</td>\n",
       "      <td>4</td>\n",
       "      <td>22.00000</td>\n",
       "      <td>27.00000</td>\n",
       "      <td>90</td>\n",
       "      <td>110</td>\n",
       "      <td>Rottweiler</td>\n",
       "      <td>0.45651</td>\n",
       "    </tr>\n",
       "  </tbody>\n",
       "</table>\n",
       "</div>"
      ],
      "text/plain": [
       "                Breed  Classification obey  reps_lower  reps_upper  \\\n",
       "0       Border Collie  Brightest Dogs  95%           1           4   \n",
       "1    Golden Retriever  Brightest Dogs  95%           1           4   \n",
       "2   Doberman Pinscher  Brightest Dogs  95%           1           4   \n",
       "3  Labrador Retriever  Brightest Dogs  95%           1           4   \n",
       "4          Rottweiler  Brightest Dogs  95%           1           4   \n",
       "\n",
       "   height_low_inches  height_high_inches  weight_low_lbs  weight_high_lbs  \\\n",
       "0           19.00000            21.00000              40               40   \n",
       "1           21.00000            24.00000              55               75   \n",
       "2           26.00000            28.00000              60              100   \n",
       "3           21.00000            24.00000              55               80   \n",
       "4           22.00000            27.00000              90              110   \n",
       "\n",
       "           Population  Heterozygosity  \n",
       "0       Border Collie         0.54958  \n",
       "1    Golden Retriever         0.51778  \n",
       "2   Doberman Pinscher         0.38376  \n",
       "3  Labrador Retriever         0.56059  \n",
       "4          Rottweiler         0.45651  "
      ]
     },
     "execution_count": 4,
     "metadata": {},
     "output_type": "execute_result"
    }
   ],
   "source": [
    "combined_df = pd.merge(combined_df, heterozygosity_df, left_on = 'Breed', right_on = 'Population')\n",
    "combined_df.head()"
   ]
  },
  {
   "cell_type": "code",
   "execution_count": 5,
   "id": "05359219",
   "metadata": {},
   "outputs": [
    {
     "name": "stdout",
     "output_type": "stream",
     "text": [
      "<class 'pandas.core.frame.DataFrame'>\n",
      "Int64Index: 60 entries, 0 to 59\n",
      "Data columns (total 11 columns):\n",
      " #   Column              Non-Null Count  Dtype  \n",
      "---  ------              --------------  -----  \n",
      " 0   Breed               60 non-null     object \n",
      " 1   Classification      60 non-null     object \n",
      " 2   obey                51 non-null     object \n",
      " 3   reps_lower          60 non-null     int64  \n",
      " 4   reps_upper          60 non-null     int64  \n",
      " 5   height_low_inches   60 non-null     float64\n",
      " 6   height_high_inches  60 non-null     float64\n",
      " 7   weight_low_lbs      60 non-null     int64  \n",
      " 8   weight_high_lbs     60 non-null     int64  \n",
      " 9   Population          60 non-null     object \n",
      " 10  Heterozygosity      60 non-null     float64\n",
      "dtypes: float64(3), int64(4), object(4)\n",
      "memory usage: 5.6+ KB\n"
     ]
    }
   ],
   "source": [
    "# Data Types\n",
    "combined_df.info()"
   ]
  },
  {
   "cell_type": "markdown",
   "id": "7d6600dd",
   "metadata": {},
   "source": [
    "## Data Cleaning"
   ]
  },
  {
   "cell_type": "code",
   "execution_count": 6,
   "id": "88187d00",
   "metadata": {},
   "outputs": [],
   "source": [
    "# Convert obey, height and weight to numeric\n",
    "combined_df['obey'] = combined_df['obey'].str.replace('%', '')\n",
    "combined_df['obey'] = pd.to_numeric(combined_df['obey'], errors = 'coerce')\n",
    "combined_df['height_low_inches'] = pd.to_numeric(combined_df['height_low_inches'], errors = 'coerce')\n",
    "combined_df['height_high_inches'] = pd.to_numeric(combined_df['height_high_inches'], errors = 'coerce')\n",
    "combined_df['weight_low_lbs'] = pd.to_numeric(combined_df['weight_low_lbs'], errors = 'coerce')\n",
    "combined_df['weight_high_lbs'] = pd.to_numeric(combined_df['weight_high_lbs'], errors = 'coerce')"
   ]
  },
  {
   "cell_type": "code",
   "execution_count": 7,
   "id": "a28b5a22",
   "metadata": {},
   "outputs": [],
   "source": [
    "# Create average of height, weight, reps\n",
    "combined_df['avg_height'] = combined_df[['height_low_inches', 'height_high_inches']].mean(axis = 1)\n",
    "combined_df['avg_weight'] = combined_df[['weight_low_lbs', 'weight_high_lbs']].mean(axis = 1)\n",
    "combined_df['avg_reps'] = combined_df[['reps_lower', 'reps_upper']].mean(axis = 1)\n",
    "combined_df['obey'] = combined_df['obey']  / 100"
   ]
  },
  {
   "cell_type": "code",
   "execution_count": 8,
   "id": "f4e93dab",
   "metadata": {},
   "outputs": [
    {
     "name": "stdout",
     "output_type": "stream",
     "text": [
      "<class 'pandas.core.frame.DataFrame'>\n",
      "Int64Index: 60 entries, 0 to 59\n",
      "Data columns (total 14 columns):\n",
      " #   Column              Non-Null Count  Dtype  \n",
      "---  ------              --------------  -----  \n",
      " 0   Breed               60 non-null     object \n",
      " 1   Classification      60 non-null     object \n",
      " 2   obey                51 non-null     float64\n",
      " 3   reps_lower          60 non-null     int64  \n",
      " 4   reps_upper          60 non-null     int64  \n",
      " 5   height_low_inches   60 non-null     float64\n",
      " 6   height_high_inches  60 non-null     float64\n",
      " 7   weight_low_lbs      60 non-null     int64  \n",
      " 8   weight_high_lbs     60 non-null     int64  \n",
      " 9   Population          60 non-null     object \n",
      " 10  Heterozygosity      60 non-null     float64\n",
      " 11  avg_height          60 non-null     float64\n",
      " 12  avg_weight          60 non-null     float64\n",
      " 13  avg_reps            60 non-null     float64\n",
      "dtypes: float64(7), int64(4), object(3)\n",
      "memory usage: 7.0+ KB\n"
     ]
    },
    {
     "data": {
      "text/html": [
       "<div>\n",
       "<style scoped>\n",
       "    .dataframe tbody tr th:only-of-type {\n",
       "        vertical-align: middle;\n",
       "    }\n",
       "\n",
       "    .dataframe tbody tr th {\n",
       "        vertical-align: top;\n",
       "    }\n",
       "\n",
       "    .dataframe thead th {\n",
       "        text-align: right;\n",
       "    }\n",
       "</style>\n",
       "<table border=\"1\" class=\"dataframe\">\n",
       "  <thead>\n",
       "    <tr style=\"text-align: right;\">\n",
       "      <th></th>\n",
       "      <th>Breed</th>\n",
       "      <th>Classification</th>\n",
       "      <th>obey</th>\n",
       "      <th>reps_lower</th>\n",
       "      <th>reps_upper</th>\n",
       "      <th>height_low_inches</th>\n",
       "      <th>height_high_inches</th>\n",
       "      <th>weight_low_lbs</th>\n",
       "      <th>weight_high_lbs</th>\n",
       "      <th>Population</th>\n",
       "      <th>Heterozygosity</th>\n",
       "      <th>avg_height</th>\n",
       "      <th>avg_weight</th>\n",
       "      <th>avg_reps</th>\n",
       "    </tr>\n",
       "  </thead>\n",
       "  <tbody>\n",
       "    <tr>\n",
       "      <th>0</th>\n",
       "      <td>Border Collie</td>\n",
       "      <td>Brightest Dogs</td>\n",
       "      <td>0.95000</td>\n",
       "      <td>1</td>\n",
       "      <td>4</td>\n",
       "      <td>19.00000</td>\n",
       "      <td>21.00000</td>\n",
       "      <td>40</td>\n",
       "      <td>40</td>\n",
       "      <td>Border Collie</td>\n",
       "      <td>0.54958</td>\n",
       "      <td>20.00000</td>\n",
       "      <td>40.00000</td>\n",
       "      <td>2.50000</td>\n",
       "    </tr>\n",
       "    <tr>\n",
       "      <th>1</th>\n",
       "      <td>Golden Retriever</td>\n",
       "      <td>Brightest Dogs</td>\n",
       "      <td>0.95000</td>\n",
       "      <td>1</td>\n",
       "      <td>4</td>\n",
       "      <td>21.00000</td>\n",
       "      <td>24.00000</td>\n",
       "      <td>55</td>\n",
       "      <td>75</td>\n",
       "      <td>Golden Retriever</td>\n",
       "      <td>0.51778</td>\n",
       "      <td>22.50000</td>\n",
       "      <td>65.00000</td>\n",
       "      <td>2.50000</td>\n",
       "    </tr>\n",
       "    <tr>\n",
       "      <th>2</th>\n",
       "      <td>Doberman Pinscher</td>\n",
       "      <td>Brightest Dogs</td>\n",
       "      <td>0.95000</td>\n",
       "      <td>1</td>\n",
       "      <td>4</td>\n",
       "      <td>26.00000</td>\n",
       "      <td>28.00000</td>\n",
       "      <td>60</td>\n",
       "      <td>100</td>\n",
       "      <td>Doberman Pinscher</td>\n",
       "      <td>0.38376</td>\n",
       "      <td>27.00000</td>\n",
       "      <td>80.00000</td>\n",
       "      <td>2.50000</td>\n",
       "    </tr>\n",
       "    <tr>\n",
       "      <th>3</th>\n",
       "      <td>Labrador Retriever</td>\n",
       "      <td>Brightest Dogs</td>\n",
       "      <td>0.95000</td>\n",
       "      <td>1</td>\n",
       "      <td>4</td>\n",
       "      <td>21.00000</td>\n",
       "      <td>24.00000</td>\n",
       "      <td>55</td>\n",
       "      <td>80</td>\n",
       "      <td>Labrador Retriever</td>\n",
       "      <td>0.56059</td>\n",
       "      <td>22.50000</td>\n",
       "      <td>67.50000</td>\n",
       "      <td>2.50000</td>\n",
       "    </tr>\n",
       "    <tr>\n",
       "      <th>4</th>\n",
       "      <td>Rottweiler</td>\n",
       "      <td>Brightest Dogs</td>\n",
       "      <td>0.95000</td>\n",
       "      <td>1</td>\n",
       "      <td>4</td>\n",
       "      <td>22.00000</td>\n",
       "      <td>27.00000</td>\n",
       "      <td>90</td>\n",
       "      <td>110</td>\n",
       "      <td>Rottweiler</td>\n",
       "      <td>0.45651</td>\n",
       "      <td>24.50000</td>\n",
       "      <td>100.00000</td>\n",
       "      <td>2.50000</td>\n",
       "    </tr>\n",
       "  </tbody>\n",
       "</table>\n",
       "</div>"
      ],
      "text/plain": [
       "                Breed  Classification    obey  reps_lower  reps_upper  \\\n",
       "0       Border Collie  Brightest Dogs 0.95000           1           4   \n",
       "1    Golden Retriever  Brightest Dogs 0.95000           1           4   \n",
       "2   Doberman Pinscher  Brightest Dogs 0.95000           1           4   \n",
       "3  Labrador Retriever  Brightest Dogs 0.95000           1           4   \n",
       "4          Rottweiler  Brightest Dogs 0.95000           1           4   \n",
       "\n",
       "   height_low_inches  height_high_inches  weight_low_lbs  weight_high_lbs  \\\n",
       "0           19.00000            21.00000              40               40   \n",
       "1           21.00000            24.00000              55               75   \n",
       "2           26.00000            28.00000              60              100   \n",
       "3           21.00000            24.00000              55               80   \n",
       "4           22.00000            27.00000              90              110   \n",
       "\n",
       "           Population  Heterozygosity  avg_height  avg_weight  avg_reps  \n",
       "0       Border Collie         0.54958    20.00000    40.00000   2.50000  \n",
       "1    Golden Retriever         0.51778    22.50000    65.00000   2.50000  \n",
       "2   Doberman Pinscher         0.38376    27.00000    80.00000   2.50000  \n",
       "3  Labrador Retriever         0.56059    22.50000    67.50000   2.50000  \n",
       "4          Rottweiler         0.45651    24.50000   100.00000   2.50000  "
      ]
     },
     "execution_count": 8,
     "metadata": {},
     "output_type": "execute_result"
    }
   ],
   "source": [
    "# Data Types\n",
    "combined_df.info()\n",
    "combined_df.head()"
   ]
  },
  {
   "cell_type": "markdown",
   "id": "c75cf71d",
   "metadata": {},
   "source": [
    "## 5 Variables for Analysis"
   ]
  },
  {
   "cell_type": "markdown",
   "id": "c19ca588",
   "metadata": {},
   "source": [
    "1. avg_height: Average Height\n",
    "2. avg_weight: Average Weight\n",
    "3. avg_reps: Average number of commands\n",
    "4. obey: percentage obeyed commands\n",
    "5. Heterozygosity: Heterozygosity"
   ]
  },
  {
   "cell_type": "markdown",
   "id": "c1740dbf",
   "metadata": {},
   "source": [
    "## Descriptive Statistics"
   ]
  },
  {
   "cell_type": "code",
   "execution_count": 9,
   "id": "3d86dca8",
   "metadata": {},
   "outputs": [
    {
     "data": {
      "image/png": "[encoded data removed]",
      "text/plain": [
       "<Figure size 432x288 with 1 Axes>"
      ]
     },
     "metadata": {
      "needs_background": "light"
     },
     "output_type": "display_data"
    },
    {
     "name": "stdout",
     "output_type": "stream",
     "text": [
      "Mean: 20.216666666666665\n",
      "Median: 21.0\n",
      "Standard Deviation: 6.316886539708905\n"
     ]
    }
   ],
   "source": [
    "# Average Height\n",
    "plt.hist(combined_df['avg_height'], bins = 30)\n",
    "plt.title('Average Height')\n",
    "plt.xlabel('Height (inches)')\n",
    "plt.ylabel('Count')\n",
    "plt.show()\n",
    "\n",
    "print(f\"Mean: {combined_df['avg_height'].mean()}\")\n",
    "print(f\"Median: {combined_df['avg_height'].median()}\")\n",
    "print(f\"Standard Deviation: {np.std(combined_df['avg_height'])}\")"
   ]
  },
  {
   "cell_type": "code",
   "execution_count": 10,
   "id": "48818f17",
   "metadata": {},
   "outputs": [
    {
     "data": {
      "image/png": "[encoded data removed]",
      "text/plain": [
       "<Figure size 432x288 with 1 Axes>"
      ]
     },
     "metadata": {
      "needs_background": "light"
     },
     "output_type": "display_data"
    },
    {
     "name": "stdout",
     "output_type": "stream",
     "text": [
      "Mean: 55.641666666666666\n",
      "Median: 50.0\n",
      "Standard Deviation: 38.2938301891513\n"
     ]
    }
   ],
   "source": [
    "# Average Weight\n",
    "plt.hist(combined_df['avg_weight'], bins = 30)\n",
    "plt.title('Average Weight')\n",
    "plt.xlabel('Weight (pounds)')\n",
    "plt.ylabel('Count')\n",
    "plt.show()\n",
    "\n",
    "print(f\"Mean: {combined_df['avg_weight'].mean()}\")\n",
    "print(f\"Median: {combined_df['avg_weight'].median()}\")\n",
    "print(f\"Standard Deviation: {np.std(combined_df['avg_weight'])}\")"
   ]
  },
  {
   "cell_type": "code",
   "execution_count": 11,
   "id": "1f5af7dd",
   "metadata": {},
   "outputs": [
    {
     "data": {
      "image/png": "[encoded data removed]",
      "text/plain": [
       "<Figure size 432x288 with 1 Axes>"
      ]
     },
     "metadata": {
      "needs_background": "light"
     },
     "output_type": "display_data"
    },
    {
     "name": "stdout",
     "output_type": "stream",
     "text": [
      "Mean: 36.65\n",
      "Median: 33.0\n",
      "Standard Deviation: 26.99495323203951\n"
     ]
    }
   ],
   "source": [
    "# Average Reps\n",
    "plt.hist(combined_df['avg_reps'], bins = 30)\n",
    "plt.title('Average Repetitions')\n",
    "plt.xlabel('Repetitions')\n",
    "plt.ylabel('Count')\n",
    "plt.show()\n",
    "\n",
    "print(f\"Mean: {combined_df['avg_reps'].mean()}\")\n",
    "print(f\"Median: {combined_df['avg_reps'].median()}\")\n",
    "print(f\"Standard Deviation: {np.std(combined_df['avg_reps'])}\")"
   ]
  },
  {
   "cell_type": "code",
   "execution_count": 12,
   "id": "abded746",
   "metadata": {},
   "outputs": [
    {
     "data": {
      "image/png": "[encoded data removed]",
      "text/plain": [
       "<Figure size 432x288 with 1 Axes>"
      ]
     },
     "metadata": {
      "needs_background": "light"
     },
     "output_type": "display_data"
    },
    {
     "name": "stdout",
     "output_type": "stream",
     "text": [
      "Mean: 0.6156862745098038\n",
      "Median: 0.5\n",
      "Standard Deviation: 0.19339338048530125\n"
     ]
    }
   ],
   "source": [
    "# Obey\n",
    "plt.hist(combined_df['obey'], bins = 30)\n",
    "plt.title('Obey Percentage')\n",
    "plt.xlabel('Obey Percentage')\n",
    "plt.ylabel('Count')\n",
    "plt.show()\n",
    "\n",
    "print(f\"Mean: {combined_df['obey'].mean()}\")\n",
    "print(f\"Median: {combined_df['obey'].median()}\")\n",
    "print(f\"Standard Deviation: {np.std(combined_df['obey'])}\")"
   ]
  },
  {
   "cell_type": "code",
   "execution_count": 13,
   "id": "abfb20e3",
   "metadata": {},
   "outputs": [
    {
     "data": {
      "image/png": "[encoded data removed]",
      "text/plain": [
       "<Figure size 432x288 with 1 Axes>"
      ]
     },
     "metadata": {
      "needs_background": "light"
     },
     "output_type": "display_data"
    },
    {
     "name": "stdout",
     "output_type": "stream",
     "text": [
      "Mean: 0.4864505333333333\n",
      "Median: 0.4922765\n",
      "Standard Deviation: 0.061235132900557085\n"
     ]
    }
   ],
   "source": [
    "# Heterozygosity\n",
    "plt.hist(combined_df['Heterozygosity'], bins = 30)\n",
    "plt.title('Heterozygosity')\n",
    "plt.xlabel('Heterozygosity')\n",
    "plt.ylabel('Count')\n",
    "plt.show()\n",
    "\n",
    "print(f\"Mean: {combined_df['Heterozygosity'].mean()}\")\n",
    "print(f\"Median: {combined_df['Heterozygosity'].median()}\")\n",
    "print(f\"Standard Deviation: {np.std(combined_df['Heterozygosity'])}\")"
   ]
  },
  {
   "cell_type": "markdown",
   "id": "095f3383",
   "metadata": {},
   "source": [
    "## Compare Two Scenarios using a PMF for the Same Variable"
   ]
  },
  {
   "cell_type": "markdown",
   "id": "cc4816c1",
   "metadata": {},
   "source": [
    "I will compare the dogs with the classifications of above average, excellent and brightest to all others"
   ]
  },
  {
   "cell_type": "code",
   "execution_count": 14,
   "id": "72ad9e19",
   "metadata": {},
   "outputs": [],
   "source": [
    "intelligent_dogs = combined_df[combined_df['obey'] > .50]\n",
    "other_dogs = combined_df[combined_df['obey'] <= .50]"
   ]
  },
  {
   "cell_type": "code",
   "execution_count": 15,
   "id": "307bdaa4",
   "metadata": {},
   "outputs": [
    {
     "name": "stdout",
     "output_type": "stream",
     "text": [
      "Mean Weight for Intelligent Dogs: 54.854166666666664\n",
      "Mean Weight for others: 53.592592592592595\n"
     ]
    },
    {
     "data": {
      "image/png": "[encoded data removed]",
      "text/plain": [
       "<Figure size 504x360 with 1 Axes>"
      ]
     },
     "metadata": {
      "needs_background": "light"
     },
     "output_type": "display_data"
    }
   ],
   "source": [
    "# Compare the PMF of the brightest dogs weights vs the rest\n",
    "intelligent_pmf = Pmf.from_seq(intelligent_dogs['avg_weight'])\n",
    "others_pmf = Pmf.from_seq(other_dogs['avg_weight'])\n",
    "\n",
    "fig, ax = plt.subplots(1, 1, figsize = (7, 5))\n",
    "\n",
    "intelligent = mpatches.Patch(color='cyan', label='Intelligent Dogs')\n",
    "others = mpatches.Patch(color='blue', label='Not Intelligent Dogs')\n",
    "\n",
    "ax.legend(handles=[intelligent, others ], )\n",
    "\n",
    "plt.xlabel(\"Weights (pounds)\")\n",
    "plt.ylabel(\"PMF\")\n",
    "\n",
    "intelligent_pmf.bar(color=['cyan'])\n",
    "others_pmf.bar(color=['blue'])\n",
    "\n",
    "print(f\"Mean Weight for Intelligent Dogs: {intelligent_pmf.mean()}\")\n",
    "print(f\"Mean Weight for others: {others_pmf.mean()}\")"
   ]
  },
  {
   "cell_type": "markdown",
   "id": "c69dc001",
   "metadata": {},
   "source": [
    "Looking at the mean weights for both groups, they are basically equal. This indicates that dogs with an above average classification or higher doesnt necessarily have a larger weight than those average or below."
   ]
  },
  {
   "cell_type": "markdown",
   "id": "f54268c5",
   "metadata": {},
   "source": [
    "## CDF of Intelligent Dogs vs Others weights"
   ]
  },
  {
   "cell_type": "code",
   "execution_count": 16,
   "id": "9855b5b1",
   "metadata": {},
   "outputs": [
    {
     "data": {
      "image/png": "[encoded data removed]",
      "text/plain": [
       "<Figure size 432x288 with 1 Axes>"
      ]
     },
     "metadata": {
      "needs_background": "light"
     },
     "output_type": "display_data"
    }
   ],
   "source": [
    "intelligent_cdf = Cdf.from_seq(intelligent_dogs['avg_weight'])\n",
    "others_cdf = Cdf.from_seq(other_dogs['avg_weight'])\n",
    "\n",
    "plt.plot(intelligent_cdf, color = 'red', label = 'Intelligent')\n",
    "plt.plot(others_cdf, color = 'blue', label = 'Not Intelligent')\n",
    "\n",
    "plt.xlabel('Average Weight in pounds')\n",
    "plt.ylabel('CDF')\n",
    "\n",
    "plt.legend()\n",
    "plt.show()"
   ]
  },
  {
   "cell_type": "markdown",
   "id": "ea0bc8d5",
   "metadata": {},
   "source": [
    "Looking at the CDF non intelligent dogs are heavier up until about 60 lbs then the intelligent dogs are heavier."
   ]
  },
  {
   "cell_type": "markdown",
   "id": "c607b368",
   "metadata": {},
   "source": [
    "## Analytical Model"
   ]
  },
  {
   "cell_type": "code",
   "execution_count": 17,
   "id": "c85184d9",
   "metadata": {},
   "outputs": [
    {
     "data": {
      "text/plain": [
       "((array([-2.27390067, -1.91302992, -1.70135682, -1.54640086, -1.42160977,\n",
       "         -1.31571014, -1.2228056 , -1.13940346, -1.06325419, -0.99281837,\n",
       "         -0.92699283, -0.86495764, -0.80608503, -0.74988229, -0.69595441,\n",
       "         -0.64397882, -0.5936878 , -0.54485575, -0.49729007, -0.45082415,\n",
       "         -0.40531215, -0.36062492, -0.31664678, -0.27327293, -0.23040741,\n",
       "         -0.18796131, -0.14585132, -0.10399849, -0.06232713, -0.02076376,\n",
       "          0.02076376,  0.06232713,  0.10399849,  0.14585132,  0.18796131,\n",
       "          0.23040741,  0.27327293,  0.31664678,  0.36062492,  0.40531215,\n",
       "          0.45082415,  0.49729007,  0.54485575,  0.5936878 ,  0.64397882,\n",
       "          0.69595441,  0.74988229,  0.80608503,  0.86495764,  0.92699283,\n",
       "          0.99281837,  1.06325419,  1.13940346,  1.2228056 ,  1.31571014,\n",
       "          1.42160977,  1.54640086,  1.70135682,  1.91302992,  2.27390067]),\n",
       "  array([  3.5,   5. ,   8. ,  12. ,  12.5,  14. ,  14. ,  14. ,  15. ,\n",
       "          17.5,  20.5,  21. ,  22.5,  22.5,  24. ,  24. ,  25. ,  26. ,\n",
       "          28.5,  33. ,  35. ,  37.5,  40. ,  40. ,  42.5,  45. ,  48.5,\n",
       "          50. ,  50. ,  50. ,  50. ,  50. ,  50. ,  52.5,  55. ,  55. ,\n",
       "          57.5,  65. ,  65. ,  65. ,  65. ,  65. ,  67.5,  67.5,  67.5,\n",
       "          72.5,  77.5,  80. ,  85. ,  95. ,  97.5, 100. , 100. , 100. ,\n",
       "         115. , 120. , 125. , 140. , 150. , 182.5])),\n",
       " (37.89768574635719, 55.64166666666667, 0.9593468025729297))"
      ]
     },
     "execution_count": 17,
     "metadata": {},
     "output_type": "execute_result"
    },
    {
     "data": {
      "image/png": "[encoded data removed]",
      "text/plain": [
       "<Figure size 432x288 with 1 Axes>"
      ]
     },
     "metadata": {
      "needs_background": "light"
     },
     "output_type": "display_data"
    }
   ],
   "source": [
    "scipy.stats.probplot(combined_df['avg_weight'], dist=\"norm\", plot = plt)"
   ]
  },
  {
   "cell_type": "markdown",
   "id": "f5a8b625",
   "metadata": {},
   "source": [
    "The plot for weight suggests it is skewed and it is not normally distributed."
   ]
  },
  {
   "cell_type": "markdown",
   "id": "26ebe6ac",
   "metadata": {},
   "source": [
    "## Scatterplots - Correlation and Causation"
   ]
  },
  {
   "cell_type": "code",
   "execution_count": 18,
   "id": "2c49bfa4",
   "metadata": {},
   "outputs": [
    {
     "data": {
      "image/png": "[encoded data removed]",
      "text/plain": [
       "<Figure size 432x288 with 1 Axes>"
      ]
     },
     "metadata": {
      "needs_background": "light"
     },
     "output_type": "display_data"
    }
   ],
   "source": [
    "# Weight and average number of reps\n",
    "plt.scatter(combined_df['avg_weight'], combined_df['avg_reps'])\n",
    "plt.title('Average Weight vs Average Repetitions')\n",
    "plt.xlabel('Weight (lbs)')\n",
    "plt.ylabel('Repetitions')\n",
    "plt.show()"
   ]
  },
  {
   "cell_type": "code",
   "execution_count": 19,
   "id": "bb78882f",
   "metadata": {},
   "outputs": [
    {
     "name": "stdout",
     "output_type": "stream",
     "text": [
      "Pearson r: 0.05752533623710361\n",
      "R^2: 0.0033091643091918256\n",
      "Covariance: 59.466249999999995\n"
     ]
    }
   ],
   "source": [
    "# Relational Statistics\n",
    "r = scipy.stats.pearsonr(combined_df['avg_weight'], combined_df['avg_reps'])[0]\n",
    "\n",
    "pearson = scipy.stats.pearsonr(combined_df['avg_weight'], combined_df['avg_reps'])[0]\n",
    "covariance = np.cov(combined_df['avg_weight'], combined_df['avg_reps'], bias = True)[0][1]\n",
    "\n",
    "print(f\"Pearson r: {pearson}\")\n",
    "print(f'R^2: {r**2}')\n",
    "print(f'Covariance: {covariance}')"
   ]
  },
  {
   "cell_type": "markdown",
   "id": "eee29062",
   "metadata": {},
   "source": [
    "The correlation is positive but not very high indicating that there is no real relationship between average weight and average repetitions"
   ]
  },
  {
   "cell_type": "code",
   "execution_count": 20,
   "id": "c11cb27a",
   "metadata": {},
   "outputs": [
    {
     "data": {
      "image/png": "[encoded data removed]",
      "text/plain": [
       "<Figure size 432x288 with 1 Axes>"
      ]
     },
     "metadata": {
      "needs_background": "light"
     },
     "output_type": "display_data"
    }
   ],
   "source": [
    "# Heterozygosity and average number of reps\n",
    "plt.scatter(combined_df['Heterozygosity'], combined_df['avg_reps'])\n",
    "plt.title('Heterozygosity vs Average Repetitions')\n",
    "plt.xlabel('Heterozygosity')\n",
    "plt.ylabel('Repetitions')\n",
    "plt.show()"
   ]
  },
  {
   "cell_type": "code",
   "execution_count": 21,
   "id": "2b84c43f",
   "metadata": {},
   "outputs": [
    {
     "name": "stdout",
     "output_type": "stream",
     "text": [
      "Pearson r: -0.07516183652285069\n",
      "R^2: 0.0056493016694877315\n",
      "Covariance: -0.12424548833333351\n"
     ]
    }
   ],
   "source": [
    "# Relational Statistics\n",
    "r = scipy.stats.pearsonr(combined_df['Heterozygosity'], combined_df['avg_reps'])[0]\n",
    "\n",
    "pearson = scipy.stats.pearsonr(combined_df['Heterozygosity'], combined_df['avg_reps'])[0]\n",
    "covariance = np.cov(combined_df['Heterozygosity'], combined_df['avg_reps'], bias = True)[0][1]\n",
    "\n",
    "print(f\"Pearson r: {pearson}\")\n",
    "print(f'R^2: {r**2}')\n",
    "print(f'Covariance: {covariance}')"
   ]
  },
  {
   "cell_type": "markdown",
   "id": "4fbf62d4",
   "metadata": {},
   "source": [
    "The correlation is negative and not very high indicating there is really no relationship between Heterozygosity and average repetitions"
   ]
  },
  {
   "cell_type": "markdown",
   "id": "1338f34c",
   "metadata": {},
   "source": [
    "## Hypothesis Testing"
   ]
  },
  {
   "cell_type": "markdown",
   "id": "d61fe0cc",
   "metadata": {},
   "source": [
    "Null Hypothesis: There is a difference in weight between those dogs classified as above average (above 50%) and those below (50% and below)."
   ]
  },
  {
   "cell_type": "code",
   "execution_count": 22,
   "id": "424d2986",
   "metadata": {},
   "outputs": [],
   "source": [
    "intelligent_dogs = combined_df[combined_df['obey'] > .50]\n",
    "other_dogs = combined_df[combined_df['obey'] <= .50]"
   ]
  },
  {
   "cell_type": "code",
   "execution_count": 33,
   "id": "3b67cdf2",
   "metadata": {},
   "outputs": [],
   "source": [
    "class HypothesisTest(object):\n",
    "    def __init__(self, data):\n",
    "        self.data = data\n",
    "        self.MakeModel()\n",
    "        self.actual = self.TestStatistic(data)\n",
    "        \n",
    "    def PValue(self, iters = 1000):\n",
    "        self.test_stats = [self.TestStatistic(self.RunModel())\n",
    "                          for _ in range(iters)]\n",
    "        \n",
    "        count = sum(1 for x in self.test_stats if x >= self.actual)\n",
    "        \n",
    "        return count / iters\n",
    "    \n",
    "    def TestStatistic(self, data):\n",
    "        raise UnimplementedMethodException()\n",
    "        \n",
    "    def MakeModel(self):\n",
    "        pass\n",
    "    \n",
    "    def RunModel(self):\n",
    "        raise UnimplementedMethodException()"
   ]
  },
  {
   "cell_type": "code",
   "execution_count": 36,
   "id": "c7c41657",
   "metadata": {},
   "outputs": [],
   "source": [
    "# difference in means of intelligent dogs weight and others weight\n",
    "class DiffMeansPermute(HypothesisTest):\n",
    "    def TestStatistic(self, data):\n",
    "        group1, group2 = data\n",
    "        test_stat = abs(group1.mean() - group2.mean())\n",
    "        return test_stat\n",
    "    \n",
    "    def MakeModel(self):\n",
    "        group1, group2 = self.data\n",
    "        self.n, self.m = len(group1), len(group2)\n",
    "        self.pool = np.hstack((group1, group2))\n",
    "        \n",
    "    def RunModel(self):\n",
    "        np.random.shuffle(self.pool)\n",
    "        data = self.pool[:self.n], self.pool[self.n:]\n",
    "        return data"
   ]
  },
  {
   "cell_type": "code",
   "execution_count": 43,
   "id": "d0a301f1",
   "metadata": {},
   "outputs": [
    {
     "data": {
      "text/plain": [
       "0.908"
      ]
     },
     "execution_count": 43,
     "metadata": {},
     "output_type": "execute_result"
    }
   ],
   "source": [
    "data = intelligent_dogs.avg_weight.values, other_dogs.avg_weight.values\n",
    "ht = DiffMeansPermute(data)\n",
    "pvalue = ht.PValue()\n",
    "pvalue"
   ]
  },
  {
   "cell_type": "markdown",
   "id": "9314c555",
   "metadata": {},
   "source": [
    "We expect to see a difference as big as the observed effect about 90% of the time so this effect is not significant."
   ]
  },
  {
   "cell_type": "code",
   "execution_count": 44,
   "id": "f4080edf",
   "metadata": {},
   "outputs": [],
   "source": [
    "class CorrelationPermute(HypothesisTest):\n",
    "    def TestStatistic(self, data):\n",
    "        xs, ys = data\n",
    "        test_stat = scipy.stats.pearsonr(xs, ys)\n",
    "        \n",
    "        return test_stat\n",
    "    \n",
    "    def RunModel(self):\n",
    "        xs, ys = self.data\n",
    "        xs = np.random.permutation(xs)\n",
    "        \n",
    "        return xs, ys"
   ]
  },
  {
   "cell_type": "code",
   "execution_count": 54,
   "id": "e0bd69b1",
   "metadata": {},
   "outputs": [
    {
     "data": {
      "text/plain": [
       "0.227"
      ]
     },
     "execution_count": 54,
     "metadata": {},
     "output_type": "execute_result"
    }
   ],
   "source": [
    "combined_df = combined_df.dropna(subset = ['obey', 'avg_height'])\n",
    "data = combined_df['obey'].values, combined_df['avg_height']\n",
    "ht = CorrelationPermute(data)\n",
    "pvalue = ht.PValue()\n",
    "pvalue"
   ]
  },
  {
   "cell_type": "markdown",
   "id": "b8a48183",
   "metadata": {},
   "source": [
    "The pvalue indicates that the correlation between height and intelligence is not significant"
   ]
  },
  {
   "cell_type": "markdown",
   "id": "8a84ce9b",
   "metadata": {},
   "source": [
    "## Regression"
   ]
  },
  {
   "cell_type": "code",
   "execution_count": 60,
   "id": "e363bdd5",
   "metadata": {},
   "outputs": [
    {
     "data": {
      "text/html": [
       "<table class=\"simpletable\">\n",
       "<caption>OLS Regression Results</caption>\n",
       "<tr>\n",
       "  <th>Dep. Variable:</th>          <td>obey</td>       <th>  R-squared:         </th> <td>   0.032</td>\n",
       "</tr>\n",
       "<tr>\n",
       "  <th>Model:</th>                   <td>OLS</td>       <th>  Adj. R-squared:    </th> <td>  -0.029</td>\n",
       "</tr>\n",
       "<tr>\n",
       "  <th>Method:</th>             <td>Least Squares</td>  <th>  F-statistic:       </th> <td>  0.5245</td>\n",
       "</tr>\n",
       "<tr>\n",
       "  <th>Date:</th>             <td>Fri, 13 May 2022</td> <th>  Prob (F-statistic):</th>  <td> 0.668</td> \n",
       "</tr>\n",
       "<tr>\n",
       "  <th>Time:</th>                 <td>12:16:13</td>     <th>  Log-Likelihood:    </th> <td>  12.268</td>\n",
       "</tr>\n",
       "<tr>\n",
       "  <th>No. Observations:</th>      <td>    51</td>      <th>  AIC:               </th> <td>  -16.54</td>\n",
       "</tr>\n",
       "<tr>\n",
       "  <th>Df Residuals:</th>          <td>    47</td>      <th>  BIC:               </th> <td>  -8.810</td>\n",
       "</tr>\n",
       "<tr>\n",
       "  <th>Df Model:</th>              <td>     3</td>      <th>                     </th>     <td> </td>   \n",
       "</tr>\n",
       "<tr>\n",
       "  <th>Covariance Type:</th>      <td>nonrobust</td>    <th>                     </th>     <td> </td>   \n",
       "</tr>\n",
       "</table>\n",
       "<table class=\"simpletable\">\n",
       "<tr>\n",
       "         <td></td>           <th>coef</th>     <th>std err</th>      <th>t</th>      <th>P>|t|</th>  <th>[0.025</th>    <th>0.975]</th>  \n",
       "</tr>\n",
       "<tr>\n",
       "  <th>Intercept</th>      <td>    0.4923</td> <td>    0.250</td> <td>    1.970</td> <td> 0.055</td> <td>   -0.011</td> <td>    0.995</td>\n",
       "</tr>\n",
       "<tr>\n",
       "  <th>avg_weight</th>     <td>   -0.0014</td> <td>    0.002</td> <td>   -0.902</td> <td> 0.371</td> <td>   -0.005</td> <td>    0.002</td>\n",
       "</tr>\n",
       "<tr>\n",
       "  <th>avg_height</th>     <td>    0.0108</td> <td>    0.009</td> <td>    1.210</td> <td> 0.232</td> <td>   -0.007</td> <td>    0.029</td>\n",
       "</tr>\n",
       "<tr>\n",
       "  <th>Heterozygosity</th> <td>   -0.0365</td> <td>    0.439</td> <td>   -0.083</td> <td> 0.934</td> <td>   -0.919</td> <td>    0.846</td>\n",
       "</tr>\n",
       "</table>\n",
       "<table class=\"simpletable\">\n",
       "<tr>\n",
       "  <th>Omnibus:</th>       <td> 9.201</td> <th>  Durbin-Watson:     </th> <td>   0.109</td>\n",
       "</tr>\n",
       "<tr>\n",
       "  <th>Prob(Omnibus):</th> <td> 0.010</td> <th>  Jarque-Bera (JB):  </th> <td>   3.240</td>\n",
       "</tr>\n",
       "<tr>\n",
       "  <th>Skew:</th>          <td> 0.272</td> <th>  Prob(JB):          </th> <td>   0.198</td>\n",
       "</tr>\n",
       "<tr>\n",
       "  <th>Kurtosis:</th>      <td> 1.892</td> <th>  Cond. No.          </th> <td>1.21e+03</td>\n",
       "</tr>\n",
       "</table><br/><br/>Notes:<br/>[1] Standard Errors assume that the covariance matrix of the errors is correctly specified.<br/>[2] The condition number is large, 1.21e+03. This might indicate that there are<br/>strong multicollinearity or other numerical problems."
      ],
      "text/plain": [
       "<class 'statsmodels.iolib.summary.Summary'>\n",
       "\"\"\"\n",
       "                            OLS Regression Results                            \n",
       "==============================================================================\n",
       "Dep. Variable:                   obey   R-squared:                       0.032\n",
       "Model:                            OLS   Adj. R-squared:                 -0.029\n",
       "Method:                 Least Squares   F-statistic:                    0.5245\n",
       "Date:                Fri, 13 May 2022   Prob (F-statistic):              0.668\n",
       "Time:                        12:16:13   Log-Likelihood:                 12.268\n",
       "No. Observations:                  51   AIC:                            -16.54\n",
       "Df Residuals:                      47   BIC:                            -8.810\n",
       "Df Model:                           3                                         \n",
       "Covariance Type:            nonrobust                                         \n",
       "==================================================================================\n",
       "                     coef    std err          t      P>|t|      [0.025      0.975]\n",
       "----------------------------------------------------------------------------------\n",
       "Intercept          0.4923      0.250      1.970      0.055      -0.011       0.995\n",
       "avg_weight        -0.0014      0.002     -0.902      0.371      -0.005       0.002\n",
       "avg_height         0.0108      0.009      1.210      0.232      -0.007       0.029\n",
       "Heterozygosity    -0.0365      0.439     -0.083      0.934      -0.919       0.846\n",
       "==============================================================================\n",
       "Omnibus:                        9.201   Durbin-Watson:                   0.109\n",
       "Prob(Omnibus):                  0.010   Jarque-Bera (JB):                3.240\n",
       "Skew:                           0.272   Prob(JB):                        0.198\n",
       "Kurtosis:                       1.892   Cond. No.                     1.21e+03\n",
       "==============================================================================\n",
       "\n",
       "Notes:\n",
       "[1] Standard Errors assume that the covariance matrix of the errors is correctly specified.\n",
       "[2] The condition number is large, 1.21e+03. This might indicate that there are\n",
       "strong multicollinearity or other numerical problems.\n",
       "\"\"\""
      ]
     },
     "execution_count": 60,
     "metadata": {},
     "output_type": "execute_result"
    }
   ],
   "source": [
    "import statsmodels.formula.api as smf\n",
    "\n",
    "results = smf.ols('obey ~ avg_weight + avg_height + Heterozygosity', data = combined_df).fit()\n",
    "results.summary()"
   ]
  },
  {
   "cell_type": "code",
   "execution_count": null,
   "id": "c6d30ca4",
   "metadata": {},
   "outputs": [],
   "source": []
  }
 ],
 "metadata": {
  "kernelspec": {
   "display_name": "Python 3 (ipykernel)",
   "language": "python",
   "name": "python3"
  },
  "language_info": {
   "codemirror_mode": {
    "name": "ipython",
    "version": 3
   },
   "file_extension": ".py",
   "mimetype": "text/x-python",
   "name": "python",
   "nbconvert_exporter": "python",
   "pygments_lexer": "ipython3",
   "version": "3.9.7"
  }
 },
 "nbformat": 4,
 "nbformat_minor": 5
}
