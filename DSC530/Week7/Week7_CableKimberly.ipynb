{
 "cells": [
  {
   "cell_type": "markdown",
   "id": "71e343db",
   "metadata": {},
   "source": [
    "## Assignment 7.2\n",
    "### Exercises 7 - 1, 8 - 1, and 8 - 2\n",
    "\n",
    "http://thinkstats2.com\n",
    "\n",
    "Copyright 2016 Allen B. Downey\n",
    "\n",
    "MIT License: https://opensource.org/licenses/MIT"
   ]
  },
  {
   "cell_type": "code",
   "execution_count": 1,
   "id": "94a9e38d",
   "metadata": {},
   "outputs": [],
   "source": [
    "# Imports\n",
    "import first\n",
    "import matplotlib.pyplot as plt\n",
    "import numpy as np\n",
    "import scipy.stats"
   ]
  },
  {
   "cell_type": "markdown",
   "id": "1e032e94",
   "metadata": {},
   "source": [
    "## Exercise 7 - 1"
   ]
  },
  {
   "cell_type": "markdown",
   "id": "9eb25dfc",
   "metadata": {},
   "source": [
    "*Using data from the NSFG, make a scatter plot of birth weight versus mother's age. Plot percentiles of birth weight versus mother's age. Compute Pearson's and Spearman's correlations. How would you characterize the relationshp between these variables?*"
   ]
  },
  {
   "cell_type": "code",
   "execution_count": 2,
   "id": "749e4070",
   "metadata": {},
   "outputs": [
    {
     "data": {
      "text/html": [
       "<div>\n",
       "<style scoped>\n",
       "    .dataframe tbody tr th:only-of-type {\n",
       "        vertical-align: middle;\n",
       "    }\n",
       "\n",
       "    .dataframe tbody tr th {\n",
       "        vertical-align: top;\n",
       "    }\n",
       "\n",
       "    .dataframe thead th {\n",
       "        text-align: right;\n",
       "    }\n",
       "</style>\n",
       "<table border=\"1\" class=\"dataframe\">\n",
       "  <thead>\n",
       "    <tr style=\"text-align: right;\">\n",
       "      <th></th>\n",
       "      <th>caseid</th>\n",
       "      <th>pregordr</th>\n",
       "      <th>howpreg_n</th>\n",
       "      <th>howpreg_p</th>\n",
       "      <th>moscurrp</th>\n",
       "      <th>nowprgdk</th>\n",
       "      <th>pregend1</th>\n",
       "      <th>pregend2</th>\n",
       "      <th>nbrnaliv</th>\n",
       "      <th>multbrth</th>\n",
       "      <th>...</th>\n",
       "      <th>laborfor_i</th>\n",
       "      <th>religion_i</th>\n",
       "      <th>metro_i</th>\n",
       "      <th>basewgt</th>\n",
       "      <th>adj_mod_basewgt</th>\n",
       "      <th>finalwgt</th>\n",
       "      <th>secu_p</th>\n",
       "      <th>sest</th>\n",
       "      <th>cmintvw</th>\n",
       "      <th>totalwgt_lb</th>\n",
       "    </tr>\n",
       "  </thead>\n",
       "  <tbody>\n",
       "    <tr>\n",
       "      <th>0</th>\n",
       "      <td>1</td>\n",
       "      <td>1</td>\n",
       "      <td>NaN</td>\n",
       "      <td>NaN</td>\n",
       "      <td>NaN</td>\n",
       "      <td>NaN</td>\n",
       "      <td>6.0</td>\n",
       "      <td>NaN</td>\n",
       "      <td>1.0</td>\n",
       "      <td>NaN</td>\n",
       "      <td>...</td>\n",
       "      <td>0</td>\n",
       "      <td>0</td>\n",
       "      <td>0</td>\n",
       "      <td>3410.389399</td>\n",
       "      <td>3869.349602</td>\n",
       "      <td>6448.271112</td>\n",
       "      <td>2</td>\n",
       "      <td>9</td>\n",
       "      <td>NaN</td>\n",
       "      <td>8.8125</td>\n",
       "    </tr>\n",
       "    <tr>\n",
       "      <th>1</th>\n",
       "      <td>1</td>\n",
       "      <td>2</td>\n",
       "      <td>NaN</td>\n",
       "      <td>NaN</td>\n",
       "      <td>NaN</td>\n",
       "      <td>NaN</td>\n",
       "      <td>6.0</td>\n",
       "      <td>NaN</td>\n",
       "      <td>1.0</td>\n",
       "      <td>NaN</td>\n",
       "      <td>...</td>\n",
       "      <td>0</td>\n",
       "      <td>0</td>\n",
       "      <td>0</td>\n",
       "      <td>3410.389399</td>\n",
       "      <td>3869.349602</td>\n",
       "      <td>6448.271112</td>\n",
       "      <td>2</td>\n",
       "      <td>9</td>\n",
       "      <td>NaN</td>\n",
       "      <td>7.8750</td>\n",
       "    </tr>\n",
       "    <tr>\n",
       "      <th>2</th>\n",
       "      <td>2</td>\n",
       "      <td>1</td>\n",
       "      <td>NaN</td>\n",
       "      <td>NaN</td>\n",
       "      <td>NaN</td>\n",
       "      <td>NaN</td>\n",
       "      <td>5.0</td>\n",
       "      <td>NaN</td>\n",
       "      <td>3.0</td>\n",
       "      <td>5.0</td>\n",
       "      <td>...</td>\n",
       "      <td>0</td>\n",
       "      <td>0</td>\n",
       "      <td>0</td>\n",
       "      <td>7226.301740</td>\n",
       "      <td>8567.549110</td>\n",
       "      <td>12999.542264</td>\n",
       "      <td>2</td>\n",
       "      <td>12</td>\n",
       "      <td>NaN</td>\n",
       "      <td>9.1250</td>\n",
       "    </tr>\n",
       "    <tr>\n",
       "      <th>3</th>\n",
       "      <td>2</td>\n",
       "      <td>2</td>\n",
       "      <td>NaN</td>\n",
       "      <td>NaN</td>\n",
       "      <td>NaN</td>\n",
       "      <td>NaN</td>\n",
       "      <td>6.0</td>\n",
       "      <td>NaN</td>\n",
       "      <td>1.0</td>\n",
       "      <td>NaN</td>\n",
       "      <td>...</td>\n",
       "      <td>0</td>\n",
       "      <td>0</td>\n",
       "      <td>0</td>\n",
       "      <td>7226.301740</td>\n",
       "      <td>8567.549110</td>\n",
       "      <td>12999.542264</td>\n",
       "      <td>2</td>\n",
       "      <td>12</td>\n",
       "      <td>NaN</td>\n",
       "      <td>7.0000</td>\n",
       "    </tr>\n",
       "    <tr>\n",
       "      <th>4</th>\n",
       "      <td>2</td>\n",
       "      <td>3</td>\n",
       "      <td>NaN</td>\n",
       "      <td>NaN</td>\n",
       "      <td>NaN</td>\n",
       "      <td>NaN</td>\n",
       "      <td>6.0</td>\n",
       "      <td>NaN</td>\n",
       "      <td>1.0</td>\n",
       "      <td>NaN</td>\n",
       "      <td>...</td>\n",
       "      <td>0</td>\n",
       "      <td>0</td>\n",
       "      <td>0</td>\n",
       "      <td>7226.301740</td>\n",
       "      <td>8567.549110</td>\n",
       "      <td>12999.542264</td>\n",
       "      <td>2</td>\n",
       "      <td>12</td>\n",
       "      <td>NaN</td>\n",
       "      <td>6.1875</td>\n",
       "    </tr>\n",
       "  </tbody>\n",
       "</table>\n",
       "<p>5 rows × 244 columns</p>\n",
       "</div>"
      ],
      "text/plain": [
       "   caseid  pregordr  howpreg_n  howpreg_p  moscurrp  nowprgdk  pregend1  \\\n",
       "0       1         1        NaN        NaN       NaN       NaN       6.0   \n",
       "1       1         2        NaN        NaN       NaN       NaN       6.0   \n",
       "2       2         1        NaN        NaN       NaN       NaN       5.0   \n",
       "3       2         2        NaN        NaN       NaN       NaN       6.0   \n",
       "4       2         3        NaN        NaN       NaN       NaN       6.0   \n",
       "\n",
       "   pregend2  nbrnaliv  multbrth  ...  laborfor_i  religion_i  metro_i  \\\n",
       "0       NaN       1.0       NaN  ...           0           0        0   \n",
       "1       NaN       1.0       NaN  ...           0           0        0   \n",
       "2       NaN       3.0       5.0  ...           0           0        0   \n",
       "3       NaN       1.0       NaN  ...           0           0        0   \n",
       "4       NaN       1.0       NaN  ...           0           0        0   \n",
       "\n",
       "       basewgt  adj_mod_basewgt      finalwgt  secu_p  sest  cmintvw  \\\n",
       "0  3410.389399      3869.349602   6448.271112       2     9      NaN   \n",
       "1  3410.389399      3869.349602   6448.271112       2     9      NaN   \n",
       "2  7226.301740      8567.549110  12999.542264       2    12      NaN   \n",
       "3  7226.301740      8567.549110  12999.542264       2    12      NaN   \n",
       "4  7226.301740      8567.549110  12999.542264       2    12      NaN   \n",
       "\n",
       "   totalwgt_lb  \n",
       "0       8.8125  \n",
       "1       7.8750  \n",
       "2       9.1250  \n",
       "3       7.0000  \n",
       "4       6.1875  \n",
       "\n",
       "[5 rows x 244 columns]"
      ]
     },
     "execution_count": 2,
     "metadata": {},
     "output_type": "execute_result"
    }
   ],
   "source": [
    "# Read the Female Pregnancy Dataset\n",
    "preg_df, firsts_df, others_df = first.MakeFrames()\n",
    "preg_df.head()"
   ]
  },
  {
   "cell_type": "code",
   "execution_count": 3,
   "id": "b5f20189",
   "metadata": {},
   "outputs": [
    {
     "data": {
      "text/html": [
       "<div>\n",
       "<style scoped>\n",
       "    .dataframe tbody tr th:only-of-type {\n",
       "        vertical-align: middle;\n",
       "    }\n",
       "\n",
       "    .dataframe tbody tr th {\n",
       "        vertical-align: top;\n",
       "    }\n",
       "\n",
       "    .dataframe thead th {\n",
       "        text-align: right;\n",
       "    }\n",
       "</style>\n",
       "<table border=\"1\" class=\"dataframe\">\n",
       "  <thead>\n",
       "    <tr style=\"text-align: right;\">\n",
       "      <th></th>\n",
       "      <th>agepreg</th>\n",
       "      <th>totalwgt_lb</th>\n",
       "    </tr>\n",
       "  </thead>\n",
       "  <tbody>\n",
       "    <tr>\n",
       "      <th>0</th>\n",
       "      <td>33.16</td>\n",
       "      <td>8.8125</td>\n",
       "    </tr>\n",
       "    <tr>\n",
       "      <th>1</th>\n",
       "      <td>39.25</td>\n",
       "      <td>7.8750</td>\n",
       "    </tr>\n",
       "    <tr>\n",
       "      <th>2</th>\n",
       "      <td>14.33</td>\n",
       "      <td>9.1250</td>\n",
       "    </tr>\n",
       "    <tr>\n",
       "      <th>3</th>\n",
       "      <td>17.83</td>\n",
       "      <td>7.0000</td>\n",
       "    </tr>\n",
       "    <tr>\n",
       "      <th>4</th>\n",
       "      <td>18.33</td>\n",
       "      <td>6.1875</td>\n",
       "    </tr>\n",
       "  </tbody>\n",
       "</table>\n",
       "</div>"
      ],
      "text/plain": [
       "   agepreg  totalwgt_lb\n",
       "0    33.16       8.8125\n",
       "1    39.25       7.8750\n",
       "2    14.33       9.1250\n",
       "3    17.83       7.0000\n",
       "4    18.33       6.1875"
      ]
     },
     "execution_count": 3,
     "metadata": {},
     "output_type": "execute_result"
    }
   ],
   "source": [
    "# drop and rows that are missing from age and birth weight\n",
    "preg_df = preg_df.dropna(subset = ['agepreg', 'totalwgt_lb'])\n",
    "preg_df[['agepreg', 'totalwgt_lb']].head()"
   ]
  },
  {
   "cell_type": "code",
   "execution_count": 4,
   "id": "02622b6d",
   "metadata": {},
   "outputs": [
    {
     "data": {
      "text/plain": [
       "0    33.16\n",
       "1    39.25\n",
       "2    14.33\n",
       "3    17.83\n",
       "4    18.33\n",
       "Name: agepreg, dtype: float64"
      ]
     },
     "execution_count": 4,
     "metadata": {},
     "output_type": "execute_result"
    }
   ],
   "source": [
    "# put ages into own dataframe\n",
    "ages_df = preg_df['agepreg']\n",
    "ages_df.head()"
   ]
  },
  {
   "cell_type": "code",
   "execution_count": 5,
   "id": "f385161e",
   "metadata": {},
   "outputs": [
    {
     "data": {
      "text/plain": [
       "0    8.8125\n",
       "1    7.8750\n",
       "2    9.1250\n",
       "3    7.0000\n",
       "4    6.1875\n",
       "Name: totalwgt_lb, dtype: float64"
      ]
     },
     "execution_count": 5,
     "metadata": {},
     "output_type": "execute_result"
    }
   ],
   "source": [
    "# put weights into own dataframe\n",
    "weights_df = preg_df['totalwgt_lb']\n",
    "weights_df.head()"
   ]
  },
  {
   "cell_type": "code",
   "execution_count": 6,
   "id": "2b546b1a",
   "metadata": {},
   "outputs": [
    {
     "data": {
      "image/png": "[encoded data removed]",
      "text/plain": [
       "<Figure size 432x288 with 1 Axes>"
      ]
     },
     "metadata": {
      "needs_background": "light"
     },
     "output_type": "display_data"
    }
   ],
   "source": [
    "# Scatter Plot of Birth Weight vs Mother's Age\n",
    "plt.scatter(ages_df, weights_df)\n",
    "plt.xlabel('Age (Years)')\n",
    "plt.ylabel('Birth Weight (lbs)')\n",
    "plt.title('Age vs Birth Weight')\n",
    "plt.show()"
   ]
  },
  {
   "cell_type": "code",
   "execution_count": 7,
   "id": "36ffc18e",
   "metadata": {},
   "outputs": [],
   "source": [
    "# compute percentiles for each age\n",
    "min_age = int(min(ages_df))\n",
    "max_age = int(max(ages_df))\n",
    "\n",
    "\n",
    "weight_dict = {}\n",
    "\n",
    "# create an array for each age\n",
    "for i in range(min_age, max_age + 1):\n",
    "    weight_dict[i] = []\n",
    "\n",
    "# add weights for each age into array\n",
    "for a, w in zip(ages_df, weights_df):\n",
    "    age = int(a)\n",
    "    weight_dict[age].append(w)\n",
    "\n",
    "# compute percentiles for each age\n",
    "for a in weight_dict:\n",
    "    weight_dict[a] = np.array(weight_dict[a])\n",
    "    weight_dict[a] = [np.percentile(weight_dict[a], 25),\n",
    "                      np.percentile(weight_dict[a], 50),\n",
    "                      np.percentile(weight_dict[a], 75)]\n",
    "\n",
    "int_ages = []\n",
    "p_25 = []\n",
    "p_50 = []\n",
    "p_75 = []\n",
    "\n",
    "# create arrays for each percentile and ages\n",
    "for a in weight_dict:\n",
    "    int_ages.append(a)\n",
    "    p_25.append(weight_dict[a][0])\n",
    "    p_50.append(weight_dict[a][1])\n",
    "    p_75.append(weight_dict[a][2])    "
   ]
  },
  {
   "cell_type": "code",
   "execution_count": 8,
   "id": "f5cc1208",
   "metadata": {},
   "outputs": [
    {
     "data": {
      "image/png": "[encoded data removed]",
      "text/plain": [
       "<Figure size 432x288 with 1 Axes>"
      ]
     },
     "metadata": {
      "needs_background": "light"
     },
     "output_type": "display_data"
    }
   ],
   "source": [
    "# Plot percentiles\n",
    "plt.plot(int_ages, p_25, label = '25th Percentile')\n",
    "plt.plot(int_ages, p_50, label = '50th Percentile')\n",
    "plt.plot(int_ages, p_75, label = '75th Percentile')\n",
    "\n",
    "plt.xlabel(\"Mother's Age (years)\")\n",
    "plt.ylabel('Birth Weight (lbs)')\n",
    "\n",
    "plt.xlim(15, 40) # remove outliers\n",
    "\n",
    "plt.title(\"Mother's Age vs Birth Weight Percentiles\")\n",
    "\n",
    "plt.legend()\n",
    "plt.show()"
   ]
  },
  {
   "cell_type": "code",
   "execution_count": 9,
   "id": "d84a19ee",
   "metadata": {},
   "outputs": [
    {
     "data": {
      "text/plain": [
       "(0.0688339703541091, 5.72294710722828e-11)"
      ]
     },
     "execution_count": 9,
     "metadata": {},
     "output_type": "execute_result"
    }
   ],
   "source": [
    "# Compute Pearson's correlations\n",
    "pearson_corr = scipy.stats.pearsonr(ages_df, weights_df)\n",
    "pearson_corr"
   ]
  },
  {
   "cell_type": "code",
   "execution_count": 10,
   "id": "43f0de2f",
   "metadata": {},
   "outputs": [
    {
     "data": {
      "text/plain": [
       "SpearmanrResult(correlation=0.09461004109658226, pvalue=1.9975811921504994e-19)"
      ]
     },
     "execution_count": 10,
     "metadata": {},
     "output_type": "execute_result"
    }
   ],
   "source": [
    "# Compute Spearman's correlations\n",
    "spearman_corr = scipy.stats.spearmanr(ages_df, weights_df)\n",
    "spearman_corr"
   ]
  },
  {
   "cell_type": "markdown",
   "id": "dc9fc85e",
   "metadata": {},
   "source": [
    "Spearman's correlation of 0.09 is higher than Pearson's of 0.07 which suggests that Pearson's may have some influence with the outliers in the data."
   ]
  },
  {
   "cell_type": "markdown",
   "id": "15696a06",
   "metadata": {},
   "source": [
    "## Exercise 8 - 1"
   ]
  },
  {
   "cell_type": "markdown",
   "id": "61e813ea",
   "metadata": {},
   "source": [
    "*In this chapter we used $\\bar{x}$ and median to estimate $\\mu$, and found that $\\bar{x}$ yields lower MSE. Also we used $S^2$ and $S^2_{n-1}$ to estimate $\\sigma$. and found that $S^2$ is biased and  $S^2_{n-1}$ is unbiased.*\n",
    "\n",
    "*Run similar experiments to see if $\\bar{x}$ and median are biased estimates of $\\sigma$. Also, check whether $S^2$ or $S^2_{n-1}$ yields a lower MSE.*"
   ]
  },
  {
   "cell_type": "code",
   "execution_count": 11,
   "id": "e509e144",
   "metadata": {},
   "outputs": [],
   "source": [
    "# set parameters for our distribution\n",
    "mu = 0\n",
    "sigma = 1\n",
    "\n",
    "means = []\n",
    "medians = []\n",
    "\n",
    "iters = 10000\n",
    "n = 10\n",
    "\n",
    "for _ in range(iters):\n",
    "    xs = [np.random.normal(mu, sigma) for i in range(n)]\n",
    "    xbar = np.mean(xs)\n",
    "    median = np.median(xs)\n",
    "    means.append(xbar)\n",
    "    medians.append(median) "
   ]
  },
  {
   "cell_type": "code",
   "execution_count": 12,
   "id": "28910309",
   "metadata": {},
   "outputs": [
    {
     "name": "stdout",
     "output_type": "stream",
     "text": [
      "Mean Error xbar 0.007446783709877107\n",
      "Mean Error median 0.005877190795783843\n"
     ]
    }
   ],
   "source": [
    "# get mean error\n",
    "means = np.array(means)\n",
    "means -= mu\n",
    "print(f'Mean Error xbar {np.mean(means)}')\n",
    "\n",
    "medians = np.array(medians)\n",
    "medians -= mu\n",
    "print(f'Mean Error median {np.mean(medians)}')"
   ]
  },
  {
   "cell_type": "markdown",
   "id": "701171d2",
   "metadata": {},
   "source": [
    "Both xbar and median are very small and look to be unbiased."
   ]
  },
  {
   "cell_type": "code",
   "execution_count": 13,
   "id": "dae16d7d",
   "metadata": {},
   "outputs": [],
   "source": [
    "# similar set up for S^2 and the other\n",
    "mu = 0\n",
    "sigma = 1\n",
    "\n",
    "s2 = []\n",
    "s2n1 = []\n",
    "\n",
    "iters = 10000\n",
    "n = 10\n",
    "\n",
    "for _ in range(iters):\n",
    "    xs = [np.random.normal(mu, sigma) for i in range(n)]\n",
    "    var = np.var(xs)\n",
    "    varn1 = np.var(xs, ddof = 1)\n",
    "    s2.append(var)\n",
    "    s2n1.append(varn1) "
   ]
  },
  {
   "cell_type": "code",
   "execution_count": 14,
   "id": "9cd9df73",
   "metadata": {},
   "outputs": [
    {
     "name": "stdout",
     "output_type": "stream",
     "text": [
      "MSE for s2: 0.19697680186839628\n",
      "MSE for s2n-1: 0.2311533958990705\n"
     ]
    }
   ],
   "source": [
    "# get MSE\n",
    "s2 = np.array(s2)\n",
    "s2 -= sigma\n",
    "print(f'MSE for s2: {np.mean(s2**2)}')\n",
    "\n",
    "s2n1 = np.array(s2n1)\n",
    "s2n1 -= sigma\n",
    "print(f'MSE for s2n-1: {np.mean(s2n1**2)}')"
   ]
  },
  {
   "cell_type": "markdown",
   "id": "8133ef1f",
   "metadata": {},
   "source": [
    "The sample variance has a smaller Mean Squared Error than the other method"
   ]
  },
  {
   "cell_type": "markdown",
   "id": "883c8269",
   "metadata": {},
   "source": [
    "## Exercise 8 - 2"
   ]
  },
  {
   "cell_type": "markdown",
   "id": "1789409a",
   "metadata": {},
   "source": [
    "*Suppose that you draw a sample with size n = 10 from an exponential distribution with $\\lambda$ = 2. Simulate this experiment 1000 times and plot the sampling distribution of the estimate L. Compute the standard error of the estimate and the 90% confidence interval.*\n",
    "\n",
    "*Repeat the experiment with a few different values of n and make a plot of standard error versus n*"
   ]
  },
  {
   "cell_type": "code",
   "execution_count": 15,
   "id": "e1b09129",
   "metadata": {},
   "outputs": [],
   "source": [
    "# set up parameters\n",
    "lam = 2\n",
    "n = 10\n",
    "iters = 1000\n",
    "\n",
    "Ls = []\n",
    "\n",
    "for _ in range(iters):\n",
    "    xs = [np.random.exponential(1/lam) for i in range(n)]\n",
    "    L = 1 / np.mean(xs)\n",
    "    Ls.append(L)"
   ]
  },
  {
   "cell_type": "code",
   "execution_count": 20,
   "id": "c1f5d69d",
   "metadata": {},
   "outputs": [
    {
     "data": {
      "image/png": "[encoded data removed]",
      "text/plain": [
       "<Figure size 432x288 with 1 Axes>"
      ]
     },
     "metadata": {
      "needs_background": "light"
     },
     "output_type": "display_data"
    },
    {
     "name": "stdout",
     "output_type": "stream",
     "text": [
      "RMSE: {RMSE}\n",
      "90 Percent Confidence Interval: 1.273597065895343 - 3.6769102592692935\n"
     ]
    }
   ],
   "source": [
    "# get RMSE\n",
    "Ls = np.array(Ls)\n",
    "LDiff = Ls - lam\n",
    "LDiff2 = LDiff**2\n",
    "RMSE = np.sqrt(np.mean(LDiff2))\n",
    "\n",
    "# 90 percent confidence\n",
    "fivep = np.percentile(Ls, 5) # minimum\n",
    "nintyfivep = np.percentile(Ls, 95) # maximim\n",
    "\n",
    "# plot the distribution\n",
    "plt.hist(Ls, bins = 50)\n",
    "plt.xlabel('L Value')\n",
    "plt.ylabel('Count')\n",
    "plt.title('Distribution of L Values')\n",
    "plt.show()\n",
    "\n",
    "print('RMSE: {RMSE}')\n",
    "print(f'90 Percent Confidence Interval: {fivep} - {nintyfivep}')"
   ]
  },
  {
   "cell_type": "code",
   "execution_count": 17,
   "id": "8edcd118",
   "metadata": {},
   "outputs": [],
   "source": [
    "# function time\n",
    "def lambda_error(n):\n",
    "    lam = 2\n",
    "    iters = 1000\n",
    "\n",
    "    Ls = []\n",
    "\n",
    "    for _ in range(iters):\n",
    "        xs = [np.random.exponential(1/lam) for i in range(n)]\n",
    "        L = 1 / np.mean(xs)\n",
    "        Ls.append(L)\n",
    "        \n",
    "    Ls = np.array(Ls)\n",
    "    LDiff = Ls - lam\n",
    "    LDiff2 = LDiff**2\n",
    "    RMSE = np.sqrt(np.mean(LDiff2))\n",
    "    \n",
    "    return RMSE"
   ]
  },
  {
   "cell_type": "code",
   "execution_count": 21,
   "id": "2c09424e",
   "metadata": {},
   "outputs": [],
   "source": [
    "# n ranging from 4 to 20\n",
    "ns = range(4,21)\n",
    "errors = [lambda_error(n) for n in ns]"
   ]
  },
  {
   "cell_type": "code",
   "execution_count": 22,
   "id": "d86176b6",
   "metadata": {},
   "outputs": [
    {
     "data": {
      "image/png": "[encoded data removed]",
      "text/plain": [
       "<Figure size 432x288 with 1 Axes>"
      ]
     },
     "metadata": {
      "needs_background": "light"
     },
     "output_type": "display_data"
    }
   ],
   "source": [
    "plt.plot(ns, errors)\n",
    "plt.xlabel('Numbers Sampled')\n",
    "plt.ylabel('RMSE')\n",
    "plt.title('RMSE as a Function of Numbers Sampled')\n",
    "plt.show()"
   ]
  },
  {
   "cell_type": "markdown",
   "id": "6e99b2dc",
   "metadata": {},
   "source": [
    "With a 90% confidence level, as the sample size increases the standard error decreases."
   ]
  }
 ],
 "metadata": {
  "kernelspec": {
   "display_name": "Python 3 (ipykernel)",
   "language": "python",
   "name": "python3"
  },
  "language_info": {
   "codemirror_mode": {
    "name": "ipython",
    "version": 3
   },
   "file_extension": ".py",
   "mimetype": "text/x-python",
   "name": "python",
   "nbconvert_exporter": "python",
   "pygments_lexer": "ipython3",
   "version": "3.8.8"
  }
 },
 "nbformat": 4,
 "nbformat_minor": 5
}
