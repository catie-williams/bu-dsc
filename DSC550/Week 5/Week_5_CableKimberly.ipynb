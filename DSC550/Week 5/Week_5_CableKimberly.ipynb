{
 "cells": [
  {
   "cell_type": "markdown",
   "id": "ee1f98db-2395-42e6-b77a-abe9d09d27c1",
   "metadata": {},
   "source": [
    "# DSC 550 \n",
    "\n",
    "### Week 5:  Exercise 5.2\n",
    "\n",
    "Author: Kimberly Cable<br>\n",
    "Date: 7-9-2022"
   ]
  },
  {
   "cell_type": "markdown",
   "id": "fc3d581d-2901-48a5-93ef-18faab90c9b4",
   "metadata": {},
   "source": [
    "## 5.2 Exercise: Build your own Sentiment Analysis Model"
   ]
  },
  {
   "cell_type": "markdown",
   "id": "3249ce16-3c1c-44ba-a550-97cb64024ae2",
   "metadata": {},
   "source": [
    "**You will build a model with the movie reviews dataset that you worked with in Week 3: Bag of Words Meets Bags of Popcorn**\n",
    "\n",
    "1. Get the stemmed data using the same process you did in Week 3.\n",
    "2. Split this into a training and test set.\n",
    "3. Fit and apply the tf-idf vectorization to the training set.\n",
    "4. Apply but DO NOT FIT the tf-idf vectorization to the test set (Why?)\n",
    "5. Train a logistic regression using the training data.\n",
    "6. Find the model accuracy on the test set\n",
    "7. Create a confusion matrix for the test set predictions\n",
    "8. Get the precision, recall, and F1-score for the test set predictions\n",
    "9. Create a ROC curve for the test set\n",
    "10. Pick another classification model you learned about this week and repeat steps (5) - (9)"
   ]
  },
  {
   "cell_type": "code",
   "execution_count": 43,
   "id": "a4edb5e1-37c9-40f3-8fb1-b0699eb21ae9",
   "metadata": {},
   "outputs": [
    {
     "name": "stderr",
     "output_type": "stream",
     "text": [
      "[nltk_data] Downloading package stopwords to\n",
      "[nltk_data]     C:\\Users\\Osgiliath\\AppData\\Roaming\\nltk_data...\n",
      "[nltk_data]   Package stopwords is already up-to-date!\n"
     ]
    }
   ],
   "source": [
    "# import libraries\n",
    "import pandas as pd\n",
    "import nltk\n",
    "import string\n",
    "import re\n",
    "import numpy as np\n",
    "import matplotlib.pyplot as plt\n",
    "import seaborn as sns\n",
    "\n",
    "from sklearn.model_selection import train_test_split\n",
    "from sklearn.feature_extraction.text import TfidfVectorizer\n",
    "from sklearn.linear_model import LogisticRegression\n",
    "from sklearn import metrics\n",
    "from sklearn.metrics import accuracy_score, confusion_matrix, classification_report\n",
    "from sklearn.naive_bayes import GaussianNB\n",
    "\n",
    "from nltk.corpus import stopwords\n",
    "from nltk.stem.porter import PorterStemmer\n",
    "from nltk.tokenize import word_tokenize\n",
    "nltk.download('stopwords')\n",
    "\n",
    "%matplotlib inline"
   ]
  },
  {
   "cell_type": "code",
   "execution_count": 2,
   "id": "6c986bd6-6c79-422c-b764-b0c78dcdf09a",
   "metadata": {},
   "outputs": [
    {
     "data": {
      "text/html": [
       "<div>\n",
       "<style scoped>\n",
       "    .dataframe tbody tr th:only-of-type {\n",
       "        vertical-align: middle;\n",
       "    }\n",
       "\n",
       "    .dataframe tbody tr th {\n",
       "        vertical-align: top;\n",
       "    }\n",
       "\n",
       "    .dataframe thead th {\n",
       "        text-align: right;\n",
       "    }\n",
       "</style>\n",
       "<table border=\"1\" class=\"dataframe\">\n",
       "  <thead>\n",
       "    <tr style=\"text-align: right;\">\n",
       "      <th></th>\n",
       "      <th>id</th>\n",
       "      <th>sentiment</th>\n",
       "      <th>review</th>\n",
       "    </tr>\n",
       "  </thead>\n",
       "  <tbody>\n",
       "    <tr>\n",
       "      <th>0</th>\n",
       "      <td>5814_8</td>\n",
       "      <td>1</td>\n",
       "      <td>With all this stuff going down at the moment w...</td>\n",
       "    </tr>\n",
       "    <tr>\n",
       "      <th>1</th>\n",
       "      <td>2381_9</td>\n",
       "      <td>1</td>\n",
       "      <td>\\The Classic War of the Worlds\\\" by Timothy Hi...</td>\n",
       "    </tr>\n",
       "    <tr>\n",
       "      <th>2</th>\n",
       "      <td>7759_3</td>\n",
       "      <td>0</td>\n",
       "      <td>The film starts with a manager (Nicholas Bell)...</td>\n",
       "    </tr>\n",
       "    <tr>\n",
       "      <th>3</th>\n",
       "      <td>3630_4</td>\n",
       "      <td>0</td>\n",
       "      <td>It must be assumed that those who praised this...</td>\n",
       "    </tr>\n",
       "    <tr>\n",
       "      <th>4</th>\n",
       "      <td>9495_8</td>\n",
       "      <td>1</td>\n",
       "      <td>Superbly trashy and wondrously unpretentious 8...</td>\n",
       "    </tr>\n",
       "  </tbody>\n",
       "</table>\n",
       "</div>"
      ],
      "text/plain": [
       "       id  sentiment                                             review\n",
       "0  5814_8          1  With all this stuff going down at the moment w...\n",
       "1  2381_9          1  \\The Classic War of the Worlds\\\" by Timothy Hi...\n",
       "2  7759_3          0  The film starts with a manager (Nicholas Bell)...\n",
       "3  3630_4          0  It must be assumed that those who praised this...\n",
       "4  9495_8          1  Superbly trashy and wondrously unpretentious 8..."
      ]
     },
     "execution_count": 2,
     "metadata": {},
     "output_type": "execute_result"
    }
   ],
   "source": [
    "# read bag of words meets bags of popcorn training data\n",
    "path_reviews = r'labeledTrainData.tsv.zip'\n",
    "reviews_df = pd.read_csv(path_reviews, delimiter  = '\\t')\n",
    "reviews_df.head()"
   ]
  },
  {
   "cell_type": "markdown",
   "id": "624eb0e0-b5f7-40f8-8ac6-3858d00afc41",
   "metadata": {},
   "source": [
    "#### 1. Get the stemmed data using the same process you did in Week 3."
   ]
  },
  {
   "cell_type": "code",
   "execution_count": 3,
   "id": "bc1e046c-7aab-46ea-abdf-a6c36b1db9a6",
   "metadata": {},
   "outputs": [
    {
     "data": {
      "text/html": [
       "<div>\n",
       "<style scoped>\n",
       "    .dataframe tbody tr th:only-of-type {\n",
       "        vertical-align: middle;\n",
       "    }\n",
       "\n",
       "    .dataframe tbody tr th {\n",
       "        vertical-align: top;\n",
       "    }\n",
       "\n",
       "    .dataframe thead th {\n",
       "        text-align: right;\n",
       "    }\n",
       "</style>\n",
       "<table border=\"1\" class=\"dataframe\">\n",
       "  <thead>\n",
       "    <tr style=\"text-align: right;\">\n",
       "      <th></th>\n",
       "      <th>id</th>\n",
       "      <th>sentiment</th>\n",
       "      <th>review</th>\n",
       "    </tr>\n",
       "  </thead>\n",
       "  <tbody>\n",
       "    <tr>\n",
       "      <th>0</th>\n",
       "      <td>5814_8</td>\n",
       "      <td>1</td>\n",
       "      <td>with all this stuff going down at the moment w...</td>\n",
       "    </tr>\n",
       "    <tr>\n",
       "      <th>1</th>\n",
       "      <td>2381_9</td>\n",
       "      <td>1</td>\n",
       "      <td>\\the classic war of the worlds\\\" by timothy hi...</td>\n",
       "    </tr>\n",
       "    <tr>\n",
       "      <th>2</th>\n",
       "      <td>7759_3</td>\n",
       "      <td>0</td>\n",
       "      <td>the film starts with a manager (nicholas bell)...</td>\n",
       "    </tr>\n",
       "    <tr>\n",
       "      <th>3</th>\n",
       "      <td>3630_4</td>\n",
       "      <td>0</td>\n",
       "      <td>it must be assumed that those who praised this...</td>\n",
       "    </tr>\n",
       "    <tr>\n",
       "      <th>4</th>\n",
       "      <td>9495_8</td>\n",
       "      <td>1</td>\n",
       "      <td>superbly trashy and wondrously unpretentious 8...</td>\n",
       "    </tr>\n",
       "  </tbody>\n",
       "</table>\n",
       "</div>"
      ],
      "text/plain": [
       "       id  sentiment                                             review\n",
       "0  5814_8          1  with all this stuff going down at the moment w...\n",
       "1  2381_9          1  \\the classic war of the worlds\\\" by timothy hi...\n",
       "2  7759_3          0  the film starts with a manager (nicholas bell)...\n",
       "3  3630_4          0  it must be assumed that those who praised this...\n",
       "4  9495_8          1  superbly trashy and wondrously unpretentious 8..."
      ]
     },
     "execution_count": 3,
     "metadata": {},
     "output_type": "execute_result"
    }
   ],
   "source": [
    "# Convert reviews to lowercase\n",
    "reviews_df['review'] = reviews_df['review'].str.lower()\n",
    "reviews_df.head()"
   ]
  },
  {
   "cell_type": "code",
   "execution_count": 4,
   "id": "ee659578-645e-44c4-bcce-56392017ccc6",
   "metadata": {},
   "outputs": [
    {
     "data": {
      "text/html": [
       "<div>\n",
       "<style scoped>\n",
       "    .dataframe tbody tr th:only-of-type {\n",
       "        vertical-align: middle;\n",
       "    }\n",
       "\n",
       "    .dataframe tbody tr th {\n",
       "        vertical-align: top;\n",
       "    }\n",
       "\n",
       "    .dataframe thead th {\n",
       "        text-align: right;\n",
       "    }\n",
       "</style>\n",
       "<table border=\"1\" class=\"dataframe\">\n",
       "  <thead>\n",
       "    <tr style=\"text-align: right;\">\n",
       "      <th></th>\n",
       "      <th>id</th>\n",
       "      <th>sentiment</th>\n",
       "      <th>review</th>\n",
       "    </tr>\n",
       "  </thead>\n",
       "  <tbody>\n",
       "    <tr>\n",
       "      <th>0</th>\n",
       "      <td>5814_8</td>\n",
       "      <td>1</td>\n",
       "      <td>with all this stuff going down at the moment w...</td>\n",
       "    </tr>\n",
       "    <tr>\n",
       "      <th>1</th>\n",
       "      <td>2381_9</td>\n",
       "      <td>1</td>\n",
       "      <td>\\the classic war of the worlds\\\" by timothy hi...</td>\n",
       "    </tr>\n",
       "    <tr>\n",
       "      <th>2</th>\n",
       "      <td>7759_3</td>\n",
       "      <td>0</td>\n",
       "      <td>the film starts with a manager (nicholas bell)...</td>\n",
       "    </tr>\n",
       "    <tr>\n",
       "      <th>3</th>\n",
       "      <td>3630_4</td>\n",
       "      <td>0</td>\n",
       "      <td>it must be assumed that those who praised this...</td>\n",
       "    </tr>\n",
       "    <tr>\n",
       "      <th>4</th>\n",
       "      <td>9495_8</td>\n",
       "      <td>1</td>\n",
       "      <td>superbly trashy and wondrously unpretentious 8...</td>\n",
       "    </tr>\n",
       "  </tbody>\n",
       "</table>\n",
       "</div>"
      ],
      "text/plain": [
       "       id  sentiment                                             review\n",
       "0  5814_8          1  with all this stuff going down at the moment w...\n",
       "1  2381_9          1  \\the classic war of the worlds\\\" by timothy hi...\n",
       "2  7759_3          0  the film starts with a manager (nicholas bell)...\n",
       "3  3630_4          0  it must be assumed that those who praised this...\n",
       "4  9495_8          1  superbly trashy and wondrously unpretentious 8..."
      ]
     },
     "execution_count": 4,
     "metadata": {},
     "output_type": "execute_result"
    }
   ],
   "source": [
    "# remove html from text\n",
    "reviews_df['review'] = reviews_df['review'].str.replace(r'<[^<>]*>', ' ', regex = True)\n",
    "reviews_df.head()"
   ]
  },
  {
   "cell_type": "code",
   "execution_count": 5,
   "id": "8e727756-4793-4889-bd05-b1a829aa4f20",
   "metadata": {},
   "outputs": [
    {
     "data": {
      "text/html": [
       "<div>\n",
       "<style scoped>\n",
       "    .dataframe tbody tr th:only-of-type {\n",
       "        vertical-align: middle;\n",
       "    }\n",
       "\n",
       "    .dataframe tbody tr th {\n",
       "        vertical-align: top;\n",
       "    }\n",
       "\n",
       "    .dataframe thead th {\n",
       "        text-align: right;\n",
       "    }\n",
       "</style>\n",
       "<table border=\"1\" class=\"dataframe\">\n",
       "  <thead>\n",
       "    <tr style=\"text-align: right;\">\n",
       "      <th></th>\n",
       "      <th>id</th>\n",
       "      <th>sentiment</th>\n",
       "      <th>review</th>\n",
       "    </tr>\n",
       "  </thead>\n",
       "  <tbody>\n",
       "    <tr>\n",
       "      <th>0</th>\n",
       "      <td>5814_8</td>\n",
       "      <td>1</td>\n",
       "      <td>with all this stuff going down at the moment w...</td>\n",
       "    </tr>\n",
       "    <tr>\n",
       "      <th>1</th>\n",
       "      <td>2381_9</td>\n",
       "      <td>1</td>\n",
       "      <td>the classic war of the worlds by timothy hines...</td>\n",
       "    </tr>\n",
       "    <tr>\n",
       "      <th>2</th>\n",
       "      <td>7759_3</td>\n",
       "      <td>0</td>\n",
       "      <td>the film starts with a manager nicholas bell g...</td>\n",
       "    </tr>\n",
       "    <tr>\n",
       "      <th>3</th>\n",
       "      <td>3630_4</td>\n",
       "      <td>0</td>\n",
       "      <td>it must be assumed that those who praised this...</td>\n",
       "    </tr>\n",
       "    <tr>\n",
       "      <th>4</th>\n",
       "      <td>9495_8</td>\n",
       "      <td>1</td>\n",
       "      <td>superbly trashy and wondrously unpretentious 8...</td>\n",
       "    </tr>\n",
       "  </tbody>\n",
       "</table>\n",
       "</div>"
      ],
      "text/plain": [
       "       id  sentiment                                             review\n",
       "0  5814_8          1  with all this stuff going down at the moment w...\n",
       "1  2381_9          1  the classic war of the worlds by timothy hines...\n",
       "2  7759_3          0  the film starts with a manager nicholas bell g...\n",
       "3  3630_4          0  it must be assumed that those who praised this...\n",
       "4  9495_8          1  superbly trashy and wondrously unpretentious 8..."
      ]
     },
     "execution_count": 5,
     "metadata": {},
     "output_type": "execute_result"
    }
   ],
   "source": [
    "# remove all punctuation from review and create new column\n",
    "reviews_df['review'] = reviews_df['review'].str.translate(str.maketrans('', '', string.punctuation))\n",
    "reviews_df.head()"
   ]
  },
  {
   "cell_type": "code",
   "execution_count": 6,
   "id": "faf12321-7fe7-4ab1-ad44-f8c51014a4c4",
   "metadata": {},
   "outputs": [
    {
     "data": {
      "text/html": [
       "<div>\n",
       "<style scoped>\n",
       "    .dataframe tbody tr th:only-of-type {\n",
       "        vertical-align: middle;\n",
       "    }\n",
       "\n",
       "    .dataframe tbody tr th {\n",
       "        vertical-align: top;\n",
       "    }\n",
       "\n",
       "    .dataframe thead th {\n",
       "        text-align: right;\n",
       "    }\n",
       "</style>\n",
       "<table border=\"1\" class=\"dataframe\">\n",
       "  <thead>\n",
       "    <tr style=\"text-align: right;\">\n",
       "      <th></th>\n",
       "      <th>id</th>\n",
       "      <th>sentiment</th>\n",
       "      <th>review</th>\n",
       "    </tr>\n",
       "  </thead>\n",
       "  <tbody>\n",
       "    <tr>\n",
       "      <th>0</th>\n",
       "      <td>5814_8</td>\n",
       "      <td>1</td>\n",
       "      <td>[with, all, this, stuff, going, down, at, the,...</td>\n",
       "    </tr>\n",
       "    <tr>\n",
       "      <th>1</th>\n",
       "      <td>2381_9</td>\n",
       "      <td>1</td>\n",
       "      <td>[the, classic, war, of, the, worlds, by, timot...</td>\n",
       "    </tr>\n",
       "    <tr>\n",
       "      <th>2</th>\n",
       "      <td>7759_3</td>\n",
       "      <td>0</td>\n",
       "      <td>[the, film, starts, with, a, manager, nicholas...</td>\n",
       "    </tr>\n",
       "    <tr>\n",
       "      <th>3</th>\n",
       "      <td>3630_4</td>\n",
       "      <td>0</td>\n",
       "      <td>[it, must, be, assumed, that, those, who, prai...</td>\n",
       "    </tr>\n",
       "    <tr>\n",
       "      <th>4</th>\n",
       "      <td>9495_8</td>\n",
       "      <td>1</td>\n",
       "      <td>[superbly, trashy, and, wondrously, unpretenti...</td>\n",
       "    </tr>\n",
       "  </tbody>\n",
       "</table>\n",
       "</div>"
      ],
      "text/plain": [
       "       id  sentiment                                             review\n",
       "0  5814_8          1  [with, all, this, stuff, going, down, at, the,...\n",
       "1  2381_9          1  [the, classic, war, of, the, worlds, by, timot...\n",
       "2  7759_3          0  [the, film, starts, with, a, manager, nicholas...\n",
       "3  3630_4          0  [it, must, be, assumed, that, those, who, prai...\n",
       "4  9495_8          1  [superbly, trashy, and, wondrously, unpretenti..."
      ]
     },
     "execution_count": 6,
     "metadata": {},
     "output_type": "execute_result"
    }
   ],
   "source": [
    "# tokenize text into new column\n",
    "reviews_df['review'] = reviews_df['review'].apply(word_tokenize)\n",
    "reviews_df.head()"
   ]
  },
  {
   "cell_type": "code",
   "execution_count": 7,
   "id": "d8e50aca-0f3c-403a-8816-677251e16dc8",
   "metadata": {},
   "outputs": [],
   "source": [
    "# load stop words\n",
    "stop_words = stopwords.words('english')"
   ]
  },
  {
   "cell_type": "code",
   "execution_count": 8,
   "id": "ca683060-e64b-45ae-999e-49e5dbc59d63",
   "metadata": {},
   "outputs": [
    {
     "data": {
      "text/html": [
       "<div>\n",
       "<style scoped>\n",
       "    .dataframe tbody tr th:only-of-type {\n",
       "        vertical-align: middle;\n",
       "    }\n",
       "\n",
       "    .dataframe tbody tr th {\n",
       "        vertical-align: top;\n",
       "    }\n",
       "\n",
       "    .dataframe thead th {\n",
       "        text-align: right;\n",
       "    }\n",
       "</style>\n",
       "<table border=\"1\" class=\"dataframe\">\n",
       "  <thead>\n",
       "    <tr style=\"text-align: right;\">\n",
       "      <th></th>\n",
       "      <th>id</th>\n",
       "      <th>sentiment</th>\n",
       "      <th>review</th>\n",
       "    </tr>\n",
       "  </thead>\n",
       "  <tbody>\n",
       "    <tr>\n",
       "      <th>0</th>\n",
       "      <td>5814_8</td>\n",
       "      <td>1</td>\n",
       "      <td>[stuff, going, moment, mj, ive, started, liste...</td>\n",
       "    </tr>\n",
       "    <tr>\n",
       "      <th>1</th>\n",
       "      <td>2381_9</td>\n",
       "      <td>1</td>\n",
       "      <td>[classic, war, worlds, timothy, hines, enterta...</td>\n",
       "    </tr>\n",
       "    <tr>\n",
       "      <th>2</th>\n",
       "      <td>7759_3</td>\n",
       "      <td>0</td>\n",
       "      <td>[film, starts, manager, nicholas, bell, giving...</td>\n",
       "    </tr>\n",
       "    <tr>\n",
       "      <th>3</th>\n",
       "      <td>3630_4</td>\n",
       "      <td>0</td>\n",
       "      <td>[must, assumed, praised, film, greatest, filme...</td>\n",
       "    </tr>\n",
       "    <tr>\n",
       "      <th>4</th>\n",
       "      <td>9495_8</td>\n",
       "      <td>1</td>\n",
       "      <td>[superbly, trashy, wondrously, unpretentious, ...</td>\n",
       "    </tr>\n",
       "  </tbody>\n",
       "</table>\n",
       "</div>"
      ],
      "text/plain": [
       "       id  sentiment                                             review\n",
       "0  5814_8          1  [stuff, going, moment, mj, ive, started, liste...\n",
       "1  2381_9          1  [classic, war, worlds, timothy, hines, enterta...\n",
       "2  7759_3          0  [film, starts, manager, nicholas, bell, giving...\n",
       "3  3630_4          0  [must, assumed, praised, film, greatest, filme...\n",
       "4  9495_8          1  [superbly, trashy, wondrously, unpretentious, ..."
      ]
     },
     "execution_count": 8,
     "metadata": {},
     "output_type": "execute_result"
    }
   ],
   "source": [
    "# Remove stop words\n",
    "reviews_df['review'] = reviews_df['review'].apply(\n",
    "    lambda x: [item for item in x if item not in stop_words])\n",
    "\n",
    "reviews_df.head()"
   ]
  },
  {
   "cell_type": "code",
   "execution_count": 9,
   "id": "fced1080-4644-41ba-bfa7-a924015e41f3",
   "metadata": {},
   "outputs": [],
   "source": [
    "# create stemmer\n",
    "porter = PorterStemmer()"
   ]
  },
  {
   "cell_type": "code",
   "execution_count": 10,
   "id": "9c373075-78b4-481d-ac7d-5eccd6a0db9f",
   "metadata": {},
   "outputs": [
    {
     "data": {
      "text/html": [
       "<div>\n",
       "<style scoped>\n",
       "    .dataframe tbody tr th:only-of-type {\n",
       "        vertical-align: middle;\n",
       "    }\n",
       "\n",
       "    .dataframe tbody tr th {\n",
       "        vertical-align: top;\n",
       "    }\n",
       "\n",
       "    .dataframe thead th {\n",
       "        text-align: right;\n",
       "    }\n",
       "</style>\n",
       "<table border=\"1\" class=\"dataframe\">\n",
       "  <thead>\n",
       "    <tr style=\"text-align: right;\">\n",
       "      <th></th>\n",
       "      <th>id</th>\n",
       "      <th>sentiment</th>\n",
       "      <th>review</th>\n",
       "    </tr>\n",
       "  </thead>\n",
       "  <tbody>\n",
       "    <tr>\n",
       "      <th>0</th>\n",
       "      <td>5814_8</td>\n",
       "      <td>1</td>\n",
       "      <td>stuff,go,moment,mj,ive,start,listen,music,watc...</td>\n",
       "    </tr>\n",
       "    <tr>\n",
       "      <th>1</th>\n",
       "      <td>2381_9</td>\n",
       "      <td>1</td>\n",
       "      <td>classic,war,world,timothi,hine,entertain,film,...</td>\n",
       "    </tr>\n",
       "    <tr>\n",
       "      <th>2</th>\n",
       "      <td>7759_3</td>\n",
       "      <td>0</td>\n",
       "      <td>film,start,manag,nichola,bell,give,welcom,inve...</td>\n",
       "    </tr>\n",
       "    <tr>\n",
       "      <th>3</th>\n",
       "      <td>3630_4</td>\n",
       "      <td>0</td>\n",
       "      <td>must,assum,prais,film,greatest,film,opera,ever...</td>\n",
       "    </tr>\n",
       "    <tr>\n",
       "      <th>4</th>\n",
       "      <td>9495_8</td>\n",
       "      <td>1</td>\n",
       "      <td>superbl,trashi,wondrous,unpretenti,80,exploit,...</td>\n",
       "    </tr>\n",
       "  </tbody>\n",
       "</table>\n",
       "</div>"
      ],
      "text/plain": [
       "       id  sentiment                                             review\n",
       "0  5814_8          1  stuff,go,moment,mj,ive,start,listen,music,watc...\n",
       "1  2381_9          1  classic,war,world,timothi,hine,entertain,film,...\n",
       "2  7759_3          0  film,start,manag,nichola,bell,give,welcom,inve...\n",
       "3  3630_4          0  must,assum,prais,film,greatest,film,opera,ever...\n",
       "4  9495_8          1  superbl,trashi,wondrous,unpretenti,80,exploit,..."
      ]
     },
     "execution_count": 10,
     "metadata": {},
     "output_type": "execute_result"
    }
   ],
   "source": [
    "# Apply stemmer\n",
    "def stem_review(words):\n",
    "    stemmed = [porter.stem(word) for word in words]\n",
    "    return \",\".join(stemmed)\n",
    "    \n",
    "reviews_df['review'] = reviews_df['review'].apply(stem_review)\n",
    "\n",
    "reviews_df.head()"
   ]
  },
  {
   "cell_type": "markdown",
   "id": "80c07ab0-2a31-41e5-b7a1-2fe0c933f178",
   "metadata": {},
   "source": [
    "#### 2. Split this into a training and test set."
   ]
  },
  {
   "cell_type": "code",
   "execution_count": 11,
   "id": "5b83a1ff-a785-49ed-89bf-9582ce42591b",
   "metadata": {},
   "outputs": [],
   "source": [
    "# Split data into training and test data\n",
    "reviews_train, reviews_test = train_test_split(reviews_df, test_size = 0.2, random_state = 15)"
   ]
  },
  {
   "cell_type": "code",
   "execution_count": 12,
   "id": "920b9548-745d-4d4e-b26a-5e75097dc916",
   "metadata": {},
   "outputs": [
    {
     "data": {
      "text/html": [
       "<div>\n",
       "<style scoped>\n",
       "    .dataframe tbody tr th:only-of-type {\n",
       "        vertical-align: middle;\n",
       "    }\n",
       "\n",
       "    .dataframe tbody tr th {\n",
       "        vertical-align: top;\n",
       "    }\n",
       "\n",
       "    .dataframe thead th {\n",
       "        text-align: right;\n",
       "    }\n",
       "</style>\n",
       "<table border=\"1\" class=\"dataframe\">\n",
       "  <thead>\n",
       "    <tr style=\"text-align: right;\">\n",
       "      <th></th>\n",
       "      <th>id</th>\n",
       "      <th>sentiment</th>\n",
       "      <th>review</th>\n",
       "    </tr>\n",
       "  </thead>\n",
       "  <tbody>\n",
       "    <tr>\n",
       "      <th>4297</th>\n",
       "      <td>1007_10</td>\n",
       "      <td>1</td>\n",
       "      <td>ok,let,get,clear,im,realli,scifi,reason,love,s...</td>\n",
       "    </tr>\n",
       "    <tr>\n",
       "      <th>22252</th>\n",
       "      <td>5962_4</td>\n",
       "      <td>0</td>\n",
       "      <td>paul,naschi,made,great,number,horror,film,term...</td>\n",
       "    </tr>\n",
       "    <tr>\n",
       "      <th>10447</th>\n",
       "      <td>10698_9</td>\n",
       "      <td>1</td>\n",
       "      <td>small,funni,film,total,incred,unbeliev,imposs,...</td>\n",
       "    </tr>\n",
       "    <tr>\n",
       "      <th>11499</th>\n",
       "      <td>3669_10</td>\n",
       "      <td>1</td>\n",
       "      <td>movi,captur,absurd,essenc,overbear,american,pa...</td>\n",
       "    </tr>\n",
       "    <tr>\n",
       "      <th>23167</th>\n",
       "      <td>5618_4</td>\n",
       "      <td>0</td>\n",
       "      <td>im,actual,surpris,amount,good,rate,antichristi...</td>\n",
       "    </tr>\n",
       "  </tbody>\n",
       "</table>\n",
       "</div>"
      ],
      "text/plain": [
       "            id  sentiment                                             review\n",
       "4297   1007_10          1  ok,let,get,clear,im,realli,scifi,reason,love,s...\n",
       "22252   5962_4          0  paul,naschi,made,great,number,horror,film,term...\n",
       "10447  10698_9          1  small,funni,film,total,incred,unbeliev,imposs,...\n",
       "11499  3669_10          1  movi,captur,absurd,essenc,overbear,american,pa...\n",
       "23167   5618_4          0  im,actual,surpris,amount,good,rate,antichristi..."
      ]
     },
     "execution_count": 12,
     "metadata": {},
     "output_type": "execute_result"
    }
   ],
   "source": [
    "reviews_train.head()"
   ]
  },
  {
   "cell_type": "code",
   "execution_count": 13,
   "id": "9ffbd4b2-85a4-460c-8daa-d559026a7811",
   "metadata": {},
   "outputs": [
    {
     "data": {
      "text/html": [
       "<div>\n",
       "<style scoped>\n",
       "    .dataframe tbody tr th:only-of-type {\n",
       "        vertical-align: middle;\n",
       "    }\n",
       "\n",
       "    .dataframe tbody tr th {\n",
       "        vertical-align: top;\n",
       "    }\n",
       "\n",
       "    .dataframe thead th {\n",
       "        text-align: right;\n",
       "    }\n",
       "</style>\n",
       "<table border=\"1\" class=\"dataframe\">\n",
       "  <thead>\n",
       "    <tr style=\"text-align: right;\">\n",
       "      <th></th>\n",
       "      <th>id</th>\n",
       "      <th>sentiment</th>\n",
       "      <th>review</th>\n",
       "    </tr>\n",
       "  </thead>\n",
       "  <tbody>\n",
       "    <tr>\n",
       "      <th>14986</th>\n",
       "      <td>3249_9</td>\n",
       "      <td>1</td>\n",
       "      <td>corbin,bernsen,sent,letter,four,crimin,associ,...</td>\n",
       "    </tr>\n",
       "    <tr>\n",
       "      <th>1115</th>\n",
       "      <td>9194_1</td>\n",
       "      <td>0</td>\n",
       "      <td>ok,first,huge,zombi,movi,fan,love,romero,flick...</td>\n",
       "    </tr>\n",
       "    <tr>\n",
       "      <th>9687</th>\n",
       "      <td>2918_9</td>\n",
       "      <td>1</td>\n",
       "      <td>saw,cabl,back,late,1980,big,wrestl,fan,sinc,19...</td>\n",
       "    </tr>\n",
       "    <tr>\n",
       "      <th>18792</th>\n",
       "      <td>4810_3</td>\n",
       "      <td>0</td>\n",
       "      <td>starter,record,term,necrom,describ,black,magic...</td>\n",
       "    </tr>\n",
       "    <tr>\n",
       "      <th>22117</th>\n",
       "      <td>5301_4</td>\n",
       "      <td>0</td>\n",
       "      <td>bought,movi,shah,rukh,khan,debutand,also,like,...</td>\n",
       "    </tr>\n",
       "  </tbody>\n",
       "</table>\n",
       "</div>"
      ],
      "text/plain": [
       "           id  sentiment                                             review\n",
       "14986  3249_9          1  corbin,bernsen,sent,letter,four,crimin,associ,...\n",
       "1115   9194_1          0  ok,first,huge,zombi,movi,fan,love,romero,flick...\n",
       "9687   2918_9          1  saw,cabl,back,late,1980,big,wrestl,fan,sinc,19...\n",
       "18792  4810_3          0  starter,record,term,necrom,describ,black,magic...\n",
       "22117  5301_4          0  bought,movi,shah,rukh,khan,debutand,also,like,..."
      ]
     },
     "execution_count": 13,
     "metadata": {},
     "output_type": "execute_result"
    }
   ],
   "source": [
    "reviews_test.head()"
   ]
  },
  {
   "cell_type": "markdown",
   "id": "66b8cfab-d39e-44a2-8bf1-243db0a564ab",
   "metadata": {},
   "source": [
    "#### 3. Fit and apply the tf-idf vectorization to the training set."
   ]
  },
  {
   "cell_type": "code",
   "execution_count": 14,
   "id": "7cc48474-712f-400b-a1bd-5c2f9dced2d0",
   "metadata": {},
   "outputs": [
    {
     "data": {
      "text/plain": [
       "array([[0., 0., 0., ..., 0., 0., 0.],\n",
       "       [0., 0., 0., ..., 0., 0., 0.],\n",
       "       [0., 0., 0., ..., 0., 0., 0.],\n",
       "       ...,\n",
       "       [0., 0., 0., ..., 0., 0., 0.],\n",
       "       [0., 0., 0., ..., 0., 0., 0.],\n",
       "       [0., 0., 0., ..., 0., 0., 0.]])"
      ]
     },
     "execution_count": 14,
     "metadata": {},
     "output_type": "execute_result"
    }
   ],
   "source": [
    "# Create the tf-idf feature matrix\n",
    "tfidf = TfidfVectorizer()\n",
    "    \n",
    "x_train = tfidf.fit_transform(reviews_train['review'])\n",
    "x_train.toarray()"
   ]
  },
  {
   "cell_type": "markdown",
   "id": "4959ef10-7e70-42fa-8993-be55c28b0568",
   "metadata": {},
   "source": [
    "#### 4. Apply but DO NOT FIT the tf-idf vectorization to the test set (Why?)"
   ]
  },
  {
   "cell_type": "code",
   "execution_count": 15,
   "id": "8e325fcd-8e89-42ed-89ac-ee9f4e9fd963",
   "metadata": {},
   "outputs": [
    {
     "data": {
      "text/plain": [
       "array([[0., 0., 0., ..., 0., 0., 0.],\n",
       "       [0., 0., 0., ..., 0., 0., 0.],\n",
       "       [0., 0., 0., ..., 0., 0., 0.],\n",
       "       ...,\n",
       "       [0., 0., 0., ..., 0., 0., 0.],\n",
       "       [0., 0., 0., ..., 0., 0., 0.],\n",
       "       [0., 0., 0., ..., 0., 0., 0.]])"
      ]
     },
     "execution_count": 15,
     "metadata": {},
     "output_type": "execute_result"
    }
   ],
   "source": [
    "# Create the tf-idf feature matrix\n",
    "x_test = tfidf.transform(reviews_test['review'])\n",
    "x_test.toarray()"
   ]
  },
  {
   "cell_type": "code",
   "execution_count": 16,
   "id": "01492a20-182d-4f5d-99d9-4c6163fda660",
   "metadata": {},
   "outputs": [],
   "source": [
    "# Set up target variables\n",
    "y_train = reviews_train['sentiment']\n",
    "y_test = reviews_test['sentiment']"
   ]
  },
  {
   "cell_type": "markdown",
   "id": "63446110-176b-4004-994a-0a4c1d3339c2",
   "metadata": {},
   "source": [
    "#### 5. Train a logistic regression using the training data."
   ]
  },
  {
   "cell_type": "code",
   "execution_count": 17,
   "id": "44b6e84b-3d07-4023-90fe-b3828d1348c9",
   "metadata": {},
   "outputs": [
    {
     "name": "stdout",
     "output_type": "stream",
     "text": [
      "Train Score: 0.93295\n"
     ]
    }
   ],
   "source": [
    "logreg_model = LogisticRegression(random_state = 0, solver = 'liblinear').fit(x_train, y_train)\n",
    "train_score = logreg_model.score(x_train, y_train)\n",
    "print(f\"Train Score: {train_score}\")"
   ]
  },
  {
   "cell_type": "code",
   "execution_count": 18,
   "id": "f7a52a83-8600-4a0b-aab5-4bea8754d9ac",
   "metadata": {},
   "outputs": [
    {
     "data": {
      "text/plain": [
       "array([0, 1], dtype=int64)"
      ]
     },
     "execution_count": 18,
     "metadata": {},
     "output_type": "execute_result"
    }
   ],
   "source": [
    "logreg_model.classes_"
   ]
  },
  {
   "cell_type": "code",
   "execution_count": 19,
   "id": "bf3f4c42-b83b-42bd-8081-9d16d9a1e648",
   "metadata": {},
   "outputs": [
    {
     "data": {
      "text/plain": [
       "array([-0.00724971])"
      ]
     },
     "execution_count": 19,
     "metadata": {},
     "output_type": "execute_result"
    }
   ],
   "source": [
    "logreg_model.intercept_"
   ]
  },
  {
   "cell_type": "code",
   "execution_count": 20,
   "id": "a188ea8c-c2e0-412b-aa89-e8b3faa4f61d",
   "metadata": {},
   "outputs": [
    {
     "data": {
      "text/plain": [
       "array([[ 0.07180792, -0.00363687, -0.0402892 , ..., -0.10135929,\n",
       "        -0.01188908,  0.02402599]])"
      ]
     },
     "execution_count": 20,
     "metadata": {},
     "output_type": "execute_result"
    }
   ],
   "source": [
    "logreg_model.coef_"
   ]
  },
  {
   "cell_type": "markdown",
   "id": "72432647-3ada-436e-ba63-f246cce9222f",
   "metadata": {},
   "source": [
    "#### 6. Find the model accuracy on the test set"
   ]
  },
  {
   "cell_type": "code",
   "execution_count": 25,
   "id": "347150b5-ec99-4815-b11e-c4440d35e119",
   "metadata": {},
   "outputs": [
    {
     "data": {
      "text/plain": [
       "array([1, 0, 1, ..., 0, 0, 1], dtype=int64)"
      ]
     },
     "execution_count": 25,
     "metadata": {},
     "output_type": "execute_result"
    }
   ],
   "source": [
    "y_pred = logreg_model.predict(x_test)\n",
    "y_pred"
   ]
  },
  {
   "cell_type": "code",
   "execution_count": 26,
   "id": "343c54ab-898a-4587-96ab-5ed98758f432",
   "metadata": {},
   "outputs": [
    {
     "name": "stdout",
     "output_type": "stream",
     "text": [
      "Test Score: 0.8872\n"
     ]
    }
   ],
   "source": [
    "test_score = accuracy_score(y_test, y_pred)\n",
    "\n",
    "print(f\"Test Score: {test_score}\")"
   ]
  },
  {
   "cell_type": "markdown",
   "id": "0b7c3848-c07b-417b-9cd9-41c4c41ff547",
   "metadata": {},
   "source": [
    "#### 7. Create a confusion matrix for the test set predictions"
   ]
  },
  {
   "cell_type": "code",
   "execution_count": 27,
   "id": "0e15bf9f-acb9-43c8-b2bf-f1bafb37cb2e",
   "metadata": {},
   "outputs": [
    {
     "data": {
      "text/plain": [
       "(2, 2)"
      ]
     },
     "execution_count": 27,
     "metadata": {},
     "output_type": "execute_result"
    }
   ],
   "source": [
    "conf_matrix = confusion_matrix(y_test, y_pred)\n",
    "conf_matrix.shape"
   ]
  },
  {
   "cell_type": "code",
   "execution_count": 30,
   "id": "79497db0-57bd-4a72-a0c4-ecf328f1c6dd",
   "metadata": {},
   "outputs": [
    {
     "data": {
      "text/plain": [
       "<AxesSubplot:>"
      ]
     },
     "execution_count": 30,
     "metadata": {},
     "output_type": "execute_result"
    },
    {
     "data": {
      "image/png": "[encoded data removed]",
      "text/plain": [
       "<Figure size 432x288 with 2 Axes>"
      ]
     },
     "metadata": {
      "needs_background": "light"
     },
     "output_type": "display_data"
    }
   ],
   "source": [
    "sns.heatmap(conf_matrix / np.sum(conf_matrix), annot=True, fmt = '0.2%')"
   ]
  },
  {
   "cell_type": "markdown",
   "id": "2bc96aba-cb89-4144-aed3-914becf38dc9",
   "metadata": {},
   "source": [
    "#### 8. Get the precision, recall, and F1-score for the test set predictions"
   ]
  },
  {
   "cell_type": "code",
   "execution_count": 33,
   "id": "322c49af-5eba-4032-bc32-88302307555d",
   "metadata": {},
   "outputs": [
    {
     "name": "stdout",
     "output_type": "stream",
     "text": [
      "Report: \n",
      "              precision    recall  f1-score   support\n",
      "\n",
      "           0       0.90      0.87      0.89      2518\n",
      "           1       0.87      0.90      0.89      2482\n",
      "\n",
      "    accuracy                           0.89      5000\n",
      "   macro avg       0.89      0.89      0.89      5000\n",
      "weighted avg       0.89      0.89      0.89      5000\n",
      "\n"
     ]
    }
   ],
   "source": [
    "report = classification_report(y_test, y_pred)\n",
    "print('Report: ', report, sep = '\\n')"
   ]
  },
  {
   "cell_type": "markdown",
   "id": "1fe68a9a-0591-4757-8919-fa7b5443f9bc",
   "metadata": {},
   "source": [
    "#### 9. Create a ROC curve for the test set"
   ]
  },
  {
   "cell_type": "code",
   "execution_count": 38,
   "id": "98bc8b89-20cd-4e2b-b58a-3c76e84456a6",
   "metadata": {},
   "outputs": [],
   "source": [
    "fpr, tpr, _ = metrics.roc_curve(y_test,  y_pred)\n",
    "auc = metrics.roc_auc_score(y_test, y_pred)"
   ]
  },
  {
   "cell_type": "code",
   "execution_count": 41,
   "id": "2f0346a6-8ceb-407f-8f4d-a72fcd2bcc45",
   "metadata": {},
   "outputs": [
    {
     "data": {
      "image/png": "[encoded data removed]",
      "text/plain": [
       "<Figure size 432x288 with 1 Axes>"
      ]
     },
     "metadata": {
      "needs_background": "light"
     },
     "output_type": "display_data"
    }
   ],
   "source": [
    "plt.plot(fpr, tpr, label = \"AUC=\" + str(auc))\n",
    "plt.ylabel('True Positive Rate')\n",
    "plt.xlabel('False Positive Rate')\n",
    "plt.legend(loc = \"lower right\")\n",
    "plt.show()"
   ]
  },
  {
   "cell_type": "markdown",
   "id": "bedf196f-33cf-468b-88d3-9a203ba18f8c",
   "metadata": {},
   "source": [
    "The AUC indicates a good model as the curve  hugs the top left corner of the plot."
   ]
  },
  {
   "cell_type": "markdown",
   "id": "b52f41ad-330c-4028-943e-97aa9072cc0b",
   "metadata": {},
   "source": [
    "#### 10. Pick another classification model you learned about this week and repeat steps (5) - (9)"
   ]
  },
  {
   "cell_type": "markdown",
   "id": "43fe7416-15e1-4ecb-8b69-ab708ca7027f",
   "metadata": {},
   "source": [
    "##### Naive Bayes Classifier"
   ]
  },
  {
   "cell_type": "markdown",
   "id": "fd38e35d-a271-4111-a529-2cf61eee1b65",
   "metadata": {},
   "source": [
    "#### 5. Train a Naive Bayes Classifier using the training data."
   ]
  },
  {
   "cell_type": "code",
   "execution_count": 49,
   "id": "ceac70e4-103a-42b0-b91f-7bb9f1c44d6c",
   "metadata": {},
   "outputs": [
    {
     "name": "stdout",
     "output_type": "stream",
     "text": [
      "Train Score: 0.9373\n"
     ]
    }
   ],
   "source": [
    "x_train_nb = x_train.toarray()\n",
    "\n",
    "nb_classifier_model = GaussianNB().fit(x_train_nb, y_train)\n",
    "nb_train_score = nb_classifier_model.score(x_train_nb, y_train)\n",
    "print(f\"Train Score: {nb_train_score}\")"
   ]
  },
  {
   "cell_type": "markdown",
   "id": "af4032ce-b4c1-4e82-8c98-250283be76af",
   "metadata": {},
   "source": [
    "#### 6. Find the model accuracy on the test set"
   ]
  },
  {
   "cell_type": "code",
   "execution_count": 50,
   "id": "7bda1fe1-29f7-4de1-9a0e-220338b3f743",
   "metadata": {},
   "outputs": [
    {
     "data": {
      "text/plain": [
       "array([1, 1, 1, ..., 0, 0, 1], dtype=int64)"
      ]
     },
     "execution_count": 50,
     "metadata": {},
     "output_type": "execute_result"
    }
   ],
   "source": [
    "x_test_nb = x_test.toarray()\n",
    "\n",
    "y_pred_nb = nb_classifier_model.predict(x_test_nb)\n",
    "y_pred_nb"
   ]
  },
  {
   "cell_type": "code",
   "execution_count": 51,
   "id": "7d12b9e0-b7ab-445f-bfbb-241f744d0dbd",
   "metadata": {},
   "outputs": [
    {
     "name": "stdout",
     "output_type": "stream",
     "text": [
      "Test Score: 0.6746\n"
     ]
    }
   ],
   "source": [
    "test_score_nb = accuracy_score(y_test, y_pred_nb)\n",
    "\n",
    "print(f\"Test Score: {test_score_nb}\")"
   ]
  },
  {
   "cell_type": "markdown",
   "id": "b3e2d10c-df05-45ba-a543-128812eb1d71",
   "metadata": {},
   "source": [
    "#### 7. Create a confusion matrix for the test set predictions"
   ]
  },
  {
   "cell_type": "code",
   "execution_count": 52,
   "id": "7811f17b-862d-4fe5-b4bb-83e8de6df399",
   "metadata": {},
   "outputs": [
    {
     "data": {
      "text/plain": [
       "(2, 2)"
      ]
     },
     "execution_count": 52,
     "metadata": {},
     "output_type": "execute_result"
    }
   ],
   "source": [
    "conf_matrix_nb = confusion_matrix(y_test, y_pred_nb)\n",
    "conf_matrix_nb.shape"
   ]
  },
  {
   "cell_type": "code",
   "execution_count": 53,
   "id": "400fef8d-babd-4c9d-be24-2196c9fb4bc1",
   "metadata": {},
   "outputs": [
    {
     "data": {
      "text/plain": [
       "<AxesSubplot:>"
      ]
     },
     "execution_count": 53,
     "metadata": {},
     "output_type": "execute_result"
    },
    {
     "data": {
      "image/png": "[encoded data removed]",
      "text/plain": [
       "<Figure size 432x288 with 2 Axes>"
      ]
     },
     "metadata": {
      "needs_background": "light"
     },
     "output_type": "display_data"
    }
   ],
   "source": [
    "sns.heatmap(conf_matrix_nb / np.sum(conf_matrix_nb), annot=True, fmt = '0.2%')"
   ]
  },
  {
   "cell_type": "markdown",
   "id": "99ffe3c2-007f-4dc6-92dc-6be4dc180e83",
   "metadata": {},
   "source": [
    "#### 8. Get the precision, recall, and F1-score for the test set predictions"
   ]
  },
  {
   "cell_type": "code",
   "execution_count": 54,
   "id": "50f71f21-d9d3-45d0-af19-e957db14168f",
   "metadata": {},
   "outputs": [
    {
     "name": "stdout",
     "output_type": "stream",
     "text": [
      "Report: \n",
      "              precision    recall  f1-score   support\n",
      "\n",
      "           0       0.65      0.76      0.70      2518\n",
      "           1       0.71      0.59      0.64      2482\n",
      "\n",
      "    accuracy                           0.67      5000\n",
      "   macro avg       0.68      0.67      0.67      5000\n",
      "weighted avg       0.68      0.67      0.67      5000\n",
      "\n"
     ]
    }
   ],
   "source": [
    "report_nb = classification_report(y_test, y_pred_nb)\n",
    "print('Report: ', report_nb, sep = '\\n')"
   ]
  },
  {
   "cell_type": "markdown",
   "id": "161e8aa5-358d-4e98-abc8-e4c5fd8180cb",
   "metadata": {},
   "source": [
    "#### 9. Create a ROC curve for the test set"
   ]
  },
  {
   "cell_type": "code",
   "execution_count": 55,
   "id": "f4b3d915-cbb9-40db-8dff-6b0cdf4034dd",
   "metadata": {},
   "outputs": [],
   "source": [
    "fpr_nb, tpr_nb, _ = metrics.roc_curve(y_test,  y_pred_nb)\n",
    "auc_nb = metrics.roc_auc_score(y_test, y_pred_nb)"
   ]
  },
  {
   "cell_type": "code",
   "execution_count": 56,
   "id": "719f8d7e-4525-4494-b786-a494b6e2f9bb",
   "metadata": {},
   "outputs": [
    {
     "data": {
      "image/png": "[encoded data removed]",
      "text/plain": [
       "<Figure size 432x288 with 1 Axes>"
      ]
     },
     "metadata": {
      "needs_background": "light"
     },
     "output_type": "display_data"
    }
   ],
   "source": [
    "plt.plot(fpr_nb, tpr_nb, label = \"AUC=\" + str(auc_nb))\n",
    "plt.ylabel('True Positive Rate')\n",
    "plt.xlabel('False Positive Rate')\n",
    "plt.legend(loc = \"lower right\")\n",
    "plt.show()"
   ]
  },
  {
   "cell_type": "markdown",
   "id": "d8a76096-c5ea-4491-9291-0c780cf47f72",
   "metadata": {},
   "source": [
    "It seems the Naive Bayes Classifier did a poorer job than the Logistic Regression model."
   ]
  },
  {
   "cell_type": "code",
   "execution_count": null,
   "id": "34c7306e-8d4e-45a6-878e-428215ecbf7a",
   "metadata": {},
   "outputs": [],
   "source": []
  }
 ],
 "metadata": {
  "kernelspec": {
   "display_name": "Python 3 (ipykernel)",
   "language": "python",
   "name": "python3"
  },
  "language_info": {
   "codemirror_mode": {
    "name": "ipython",
    "version": 3
   },
   "file_extension": ".py",
   "mimetype": "text/x-python",
   "name": "python",
   "nbconvert_exporter": "python",
   "pygments_lexer": "ipython3",
   "version": "3.8.8"
  }
 },
 "nbformat": 4,
 "nbformat_minor": 5
}
