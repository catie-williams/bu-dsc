{
 "cells": [
  {
   "cell_type": "markdown",
   "id": "15fef4fe-48d4-4a98-aec2-d496adeb2982",
   "metadata": {},
   "source": [
    "# DSC 550 \n",
    "\n",
    "### Week 4:  Exercise 4.2\n",
    "\n",
    "Author: Kimberly Cable<br>\n",
    "Date: 7-2-2022"
   ]
  },
  {
   "cell_type": "markdown",
   "id": "af0c5dca-750f-47c3-909b-1110cc7197dd",
   "metadata": {},
   "source": [
    "## Exercise 4.2: Predicting Fuel Efficiency"
   ]
  },
  {
   "cell_type": "markdown",
   "id": "48bd1cfa-8489-45bd-bb97-66eb72f45643",
   "metadata": {},
   "source": [
    "In this exercise, you will build a linear regression model to predict fuel efficiency (miles per gallon) of automobilies. Download the auto-mpg.csv dataset from: Auto-mpg dataset."
   ]
  },
  {
   "cell_type": "markdown",
   "id": "d7c8e93f-002a-4c94-8c02-4d4ff5c4ef7a",
   "metadata": {},
   "source": [
    "**1. Load the data as a Pandas data frame and ensure that it imported correctly.**"
   ]
  },
  {
   "cell_type": "code",
   "execution_count": 1,
   "id": "59e7e33f-9a54-4460-bdae-13ff44abd2a7",
   "metadata": {},
   "outputs": [],
   "source": [
    "# import libraries\n",
    "import pandas as pd\n",
    "import matplotlib.pyplot as plt\n",
    "import numpy as np\n",
    "import seaborn as sns\n",
    "%matplotlib inline"
   ]
  },
  {
   "cell_type": "code",
   "execution_count": 2,
   "id": "694735a0-24e7-4623-b9ce-c220747db740",
   "metadata": {},
   "outputs": [
    {
     "data": {
      "text/html": [
       "<div>\n",
       "<style scoped>\n",
       "    .dataframe tbody tr th:only-of-type {\n",
       "        vertical-align: middle;\n",
       "    }\n",
       "\n",
       "    .dataframe tbody tr th {\n",
       "        vertical-align: top;\n",
       "    }\n",
       "\n",
       "    .dataframe thead th {\n",
       "        text-align: right;\n",
       "    }\n",
       "</style>\n",
       "<table border=\"1\" class=\"dataframe\">\n",
       "  <thead>\n",
       "    <tr style=\"text-align: right;\">\n",
       "      <th></th>\n",
       "      <th>mpg</th>\n",
       "      <th>cylinders</th>\n",
       "      <th>displacement</th>\n",
       "      <th>horsepower</th>\n",
       "      <th>weight</th>\n",
       "      <th>acceleration</th>\n",
       "      <th>model year</th>\n",
       "      <th>origin</th>\n",
       "      <th>car name</th>\n",
       "    </tr>\n",
       "  </thead>\n",
       "  <tbody>\n",
       "    <tr>\n",
       "      <th>0</th>\n",
       "      <td>18.0</td>\n",
       "      <td>8</td>\n",
       "      <td>307.0</td>\n",
       "      <td>130</td>\n",
       "      <td>3504</td>\n",
       "      <td>12.0</td>\n",
       "      <td>70</td>\n",
       "      <td>1</td>\n",
       "      <td>chevrolet chevelle malibu</td>\n",
       "    </tr>\n",
       "    <tr>\n",
       "      <th>1</th>\n",
       "      <td>15.0</td>\n",
       "      <td>8</td>\n",
       "      <td>350.0</td>\n",
       "      <td>165</td>\n",
       "      <td>3693</td>\n",
       "      <td>11.5</td>\n",
       "      <td>70</td>\n",
       "      <td>1</td>\n",
       "      <td>buick skylark 320</td>\n",
       "    </tr>\n",
       "    <tr>\n",
       "      <th>2</th>\n",
       "      <td>18.0</td>\n",
       "      <td>8</td>\n",
       "      <td>318.0</td>\n",
       "      <td>150</td>\n",
       "      <td>3436</td>\n",
       "      <td>11.0</td>\n",
       "      <td>70</td>\n",
       "      <td>1</td>\n",
       "      <td>plymouth satellite</td>\n",
       "    </tr>\n",
       "    <tr>\n",
       "      <th>3</th>\n",
       "      <td>16.0</td>\n",
       "      <td>8</td>\n",
       "      <td>304.0</td>\n",
       "      <td>150</td>\n",
       "      <td>3433</td>\n",
       "      <td>12.0</td>\n",
       "      <td>70</td>\n",
       "      <td>1</td>\n",
       "      <td>amc rebel sst</td>\n",
       "    </tr>\n",
       "    <tr>\n",
       "      <th>4</th>\n",
       "      <td>17.0</td>\n",
       "      <td>8</td>\n",
       "      <td>302.0</td>\n",
       "      <td>140</td>\n",
       "      <td>3449</td>\n",
       "      <td>10.5</td>\n",
       "      <td>70</td>\n",
       "      <td>1</td>\n",
       "      <td>ford torino</td>\n",
       "    </tr>\n",
       "  </tbody>\n",
       "</table>\n",
       "</div>"
      ],
      "text/plain": [
       "    mpg  cylinders  displacement horsepower  weight  acceleration  model year  \\\n",
       "0  18.0          8         307.0        130    3504          12.0          70   \n",
       "1  15.0          8         350.0        165    3693          11.5          70   \n",
       "2  18.0          8         318.0        150    3436          11.0          70   \n",
       "3  16.0          8         304.0        150    3433          12.0          70   \n",
       "4  17.0          8         302.0        140    3449          10.5          70   \n",
       "\n",
       "   origin                   car name  \n",
       "0       1  chevrolet chevelle malibu  \n",
       "1       1          buick skylark 320  \n",
       "2       1         plymouth satellite  \n",
       "3       1              amc rebel sst  \n",
       "4       1                ford torino  "
      ]
     },
     "execution_count": 2,
     "metadata": {},
     "output_type": "execute_result"
    }
   ],
   "source": [
    "# Read data file\n",
    "try:\n",
    "    auto_df = pd.read_csv(\"auto-mpg.csv\")\n",
    "except Exception:\n",
    "    print(\"There was an error reading the Auto MPG file\")\n",
    "    \n",
    "auto_df.head()"
   ]
  },
  {
   "cell_type": "code",
   "execution_count": 3,
   "id": "973c41c5-e250-4c54-a81a-d6c8b15c2c3a",
   "metadata": {},
   "outputs": [
    {
     "name": "stdout",
     "output_type": "stream",
     "text": [
      "<class 'pandas.core.frame.DataFrame'>\n",
      "RangeIndex: 398 entries, 0 to 397\n",
      "Data columns (total 9 columns):\n",
      " #   Column        Non-Null Count  Dtype  \n",
      "---  ------        --------------  -----  \n",
      " 0   mpg           398 non-null    float64\n",
      " 1   cylinders     398 non-null    int64  \n",
      " 2   displacement  398 non-null    float64\n",
      " 3   horsepower    398 non-null    object \n",
      " 4   weight        398 non-null    int64  \n",
      " 5   acceleration  398 non-null    float64\n",
      " 6   model year    398 non-null    int64  \n",
      " 7   origin        398 non-null    int64  \n",
      " 8   car name      398 non-null    object \n",
      "dtypes: float64(3), int64(4), object(2)\n",
      "memory usage: 28.1+ KB\n"
     ]
    }
   ],
   "source": [
    "auto_df.info()"
   ]
  },
  {
   "cell_type": "markdown",
   "id": "741ba486-abae-4f07-9fe8-456f6c748593",
   "metadata": {},
   "source": [
    "**2. Begin by prepping the data for modeling:**\n",
    "\n",
    "    a. Remove the car name column\n",
    "    \n",
    "    b. The horsepower column values likely imported as a string data type. Figure out why and replace any strings wit the column mean.\n",
    "    \n",
    "    c. Create dummy variables for the origin column  "
   ]
  },
  {
   "cell_type": "code",
   "execution_count": 4,
   "id": "2db0cb1d-4837-4405-9216-0a142a56e6d2",
   "metadata": {},
   "outputs": [
    {
     "data": {
      "text/html": [
       "<div>\n",
       "<style scoped>\n",
       "    .dataframe tbody tr th:only-of-type {\n",
       "        vertical-align: middle;\n",
       "    }\n",
       "\n",
       "    .dataframe tbody tr th {\n",
       "        vertical-align: top;\n",
       "    }\n",
       "\n",
       "    .dataframe thead th {\n",
       "        text-align: right;\n",
       "    }\n",
       "</style>\n",
       "<table border=\"1\" class=\"dataframe\">\n",
       "  <thead>\n",
       "    <tr style=\"text-align: right;\">\n",
       "      <th></th>\n",
       "      <th>mpg</th>\n",
       "      <th>cylinders</th>\n",
       "      <th>displacement</th>\n",
       "      <th>horsepower</th>\n",
       "      <th>weight</th>\n",
       "      <th>acceleration</th>\n",
       "      <th>model year</th>\n",
       "      <th>origin</th>\n",
       "    </tr>\n",
       "  </thead>\n",
       "  <tbody>\n",
       "    <tr>\n",
       "      <th>0</th>\n",
       "      <td>18.0</td>\n",
       "      <td>8</td>\n",
       "      <td>307.0</td>\n",
       "      <td>130</td>\n",
       "      <td>3504</td>\n",
       "      <td>12.0</td>\n",
       "      <td>70</td>\n",
       "      <td>1</td>\n",
       "    </tr>\n",
       "    <tr>\n",
       "      <th>1</th>\n",
       "      <td>15.0</td>\n",
       "      <td>8</td>\n",
       "      <td>350.0</td>\n",
       "      <td>165</td>\n",
       "      <td>3693</td>\n",
       "      <td>11.5</td>\n",
       "      <td>70</td>\n",
       "      <td>1</td>\n",
       "    </tr>\n",
       "    <tr>\n",
       "      <th>2</th>\n",
       "      <td>18.0</td>\n",
       "      <td>8</td>\n",
       "      <td>318.0</td>\n",
       "      <td>150</td>\n",
       "      <td>3436</td>\n",
       "      <td>11.0</td>\n",
       "      <td>70</td>\n",
       "      <td>1</td>\n",
       "    </tr>\n",
       "    <tr>\n",
       "      <th>3</th>\n",
       "      <td>16.0</td>\n",
       "      <td>8</td>\n",
       "      <td>304.0</td>\n",
       "      <td>150</td>\n",
       "      <td>3433</td>\n",
       "      <td>12.0</td>\n",
       "      <td>70</td>\n",
       "      <td>1</td>\n",
       "    </tr>\n",
       "    <tr>\n",
       "      <th>4</th>\n",
       "      <td>17.0</td>\n",
       "      <td>8</td>\n",
       "      <td>302.0</td>\n",
       "      <td>140</td>\n",
       "      <td>3449</td>\n",
       "      <td>10.5</td>\n",
       "      <td>70</td>\n",
       "      <td>1</td>\n",
       "    </tr>\n",
       "  </tbody>\n",
       "</table>\n",
       "</div>"
      ],
      "text/plain": [
       "    mpg  cylinders  displacement horsepower  weight  acceleration  model year  \\\n",
       "0  18.0          8         307.0        130    3504          12.0          70   \n",
       "1  15.0          8         350.0        165    3693          11.5          70   \n",
       "2  18.0          8         318.0        150    3436          11.0          70   \n",
       "3  16.0          8         304.0        150    3433          12.0          70   \n",
       "4  17.0          8         302.0        140    3449          10.5          70   \n",
       "\n",
       "   origin  \n",
       "0       1  \n",
       "1       1  \n",
       "2       1  \n",
       "3       1  \n",
       "4       1  "
      ]
     },
     "execution_count": 4,
     "metadata": {},
     "output_type": "execute_result"
    }
   ],
   "source": [
    "# remove car name column\n",
    "auto_cleaned = auto_df.drop('car name', axis = 1)\n",
    "auto_cleaned.head()"
   ]
  },
  {
   "cell_type": "code",
   "execution_count": 5,
   "id": "523b86b9-8b38-4da4-815b-cb130957199e",
   "metadata": {},
   "outputs": [
    {
     "data": {
      "text/html": [
       "<div>\n",
       "<style scoped>\n",
       "    .dataframe tbody tr th:only-of-type {\n",
       "        vertical-align: middle;\n",
       "    }\n",
       "\n",
       "    .dataframe tbody tr th {\n",
       "        vertical-align: top;\n",
       "    }\n",
       "\n",
       "    .dataframe thead th {\n",
       "        text-align: right;\n",
       "    }\n",
       "</style>\n",
       "<table border=\"1\" class=\"dataframe\">\n",
       "  <thead>\n",
       "    <tr style=\"text-align: right;\">\n",
       "      <th></th>\n",
       "      <th>mpg</th>\n",
       "      <th>cylinders</th>\n",
       "      <th>displacement</th>\n",
       "      <th>horsepower</th>\n",
       "      <th>weight</th>\n",
       "      <th>acceleration</th>\n",
       "      <th>model year</th>\n",
       "      <th>origin</th>\n",
       "    </tr>\n",
       "  </thead>\n",
       "  <tbody>\n",
       "    <tr>\n",
       "      <th>32</th>\n",
       "      <td>25.0</td>\n",
       "      <td>4</td>\n",
       "      <td>98.0</td>\n",
       "      <td>?</td>\n",
       "      <td>2046</td>\n",
       "      <td>19.0</td>\n",
       "      <td>71</td>\n",
       "      <td>1</td>\n",
       "    </tr>\n",
       "    <tr>\n",
       "      <th>126</th>\n",
       "      <td>21.0</td>\n",
       "      <td>6</td>\n",
       "      <td>200.0</td>\n",
       "      <td>?</td>\n",
       "      <td>2875</td>\n",
       "      <td>17.0</td>\n",
       "      <td>74</td>\n",
       "      <td>1</td>\n",
       "    </tr>\n",
       "    <tr>\n",
       "      <th>330</th>\n",
       "      <td>40.9</td>\n",
       "      <td>4</td>\n",
       "      <td>85.0</td>\n",
       "      <td>?</td>\n",
       "      <td>1835</td>\n",
       "      <td>17.3</td>\n",
       "      <td>80</td>\n",
       "      <td>2</td>\n",
       "    </tr>\n",
       "    <tr>\n",
       "      <th>336</th>\n",
       "      <td>23.6</td>\n",
       "      <td>4</td>\n",
       "      <td>140.0</td>\n",
       "      <td>?</td>\n",
       "      <td>2905</td>\n",
       "      <td>14.3</td>\n",
       "      <td>80</td>\n",
       "      <td>1</td>\n",
       "    </tr>\n",
       "    <tr>\n",
       "      <th>354</th>\n",
       "      <td>34.5</td>\n",
       "      <td>4</td>\n",
       "      <td>100.0</td>\n",
       "      <td>?</td>\n",
       "      <td>2320</td>\n",
       "      <td>15.8</td>\n",
       "      <td>81</td>\n",
       "      <td>2</td>\n",
       "    </tr>\n",
       "    <tr>\n",
       "      <th>374</th>\n",
       "      <td>23.0</td>\n",
       "      <td>4</td>\n",
       "      <td>151.0</td>\n",
       "      <td>?</td>\n",
       "      <td>3035</td>\n",
       "      <td>20.5</td>\n",
       "      <td>82</td>\n",
       "      <td>1</td>\n",
       "    </tr>\n",
       "  </tbody>\n",
       "</table>\n",
       "</div>"
      ],
      "text/plain": [
       "      mpg  cylinders  displacement horsepower  weight  acceleration  \\\n",
       "32   25.0          4          98.0          ?    2046          19.0   \n",
       "126  21.0          6         200.0          ?    2875          17.0   \n",
       "330  40.9          4          85.0          ?    1835          17.3   \n",
       "336  23.6          4         140.0          ?    2905          14.3   \n",
       "354  34.5          4         100.0          ?    2320          15.8   \n",
       "374  23.0          4         151.0          ?    3035          20.5   \n",
       "\n",
       "     model year  origin  \n",
       "32           71       1  \n",
       "126          74       1  \n",
       "330          80       2  \n",
       "336          80       1  \n",
       "354          81       2  \n",
       "374          82       1  "
      ]
     },
     "execution_count": 5,
     "metadata": {},
     "output_type": "execute_result"
    }
   ],
   "source": [
    "# check horsepower for non-numeric data\n",
    "auto_cleaned[pd.to_numeric(auto_cleaned['horsepower'], errors='coerce').isnull()]"
   ]
  },
  {
   "cell_type": "code",
   "execution_count": 6,
   "id": "f9b3db97-3bf3-438d-9360-d608dc83e953",
   "metadata": {},
   "outputs": [
    {
     "data": {
      "text/html": [
       "<div>\n",
       "<style scoped>\n",
       "    .dataframe tbody tr th:only-of-type {\n",
       "        vertical-align: middle;\n",
       "    }\n",
       "\n",
       "    .dataframe tbody tr th {\n",
       "        vertical-align: top;\n",
       "    }\n",
       "\n",
       "    .dataframe thead th {\n",
       "        text-align: right;\n",
       "    }\n",
       "</style>\n",
       "<table border=\"1\" class=\"dataframe\">\n",
       "  <thead>\n",
       "    <tr style=\"text-align: right;\">\n",
       "      <th></th>\n",
       "      <th>mpg</th>\n",
       "      <th>cylinders</th>\n",
       "      <th>displacement</th>\n",
       "      <th>horsepower</th>\n",
       "      <th>weight</th>\n",
       "      <th>acceleration</th>\n",
       "      <th>model year</th>\n",
       "      <th>origin</th>\n",
       "    </tr>\n",
       "  </thead>\n",
       "  <tbody>\n",
       "  </tbody>\n",
       "</table>\n",
       "</div>"
      ],
      "text/plain": [
       "Empty DataFrame\n",
       "Columns: [mpg, cylinders, displacement, horsepower, weight, acceleration, model year, origin]\n",
       "Index: []"
      ]
     },
     "execution_count": 6,
     "metadata": {},
     "output_type": "execute_result"
    }
   ],
   "source": [
    "# Convert non-numeric data to NaN\n",
    "auto_cleaned['horsepower'] = pd.to_numeric(auto_cleaned['horsepower'], errors = 'coerce')\n",
    "\n",
    "# Fill in NaN with mean horsepower\n",
    "auto_cleaned['horsepower'] = auto_cleaned['horsepower'].fillna(auto_cleaned['horsepower'].mean())\n",
    "\n",
    "# check horsepower for non-numeric data\n",
    "auto_cleaned[pd.to_numeric(auto_cleaned['horsepower'], errors='coerce').isnull()]"
   ]
  },
  {
   "cell_type": "code",
   "execution_count": 7,
   "id": "0931f504-b0c2-49e0-b171-3996a4cf22e3",
   "metadata": {},
   "outputs": [
    {
     "data": {
      "text/plain": [
       "array([1, 3, 2], dtype=int64)"
      ]
     },
     "execution_count": 7,
     "metadata": {},
     "output_type": "execute_result"
    }
   ],
   "source": [
    "# Get unique values for origin\n",
    "auto_cleaned['origin'].unique()"
   ]
  },
  {
   "cell_type": "code",
   "execution_count": 8,
   "id": "eca42186-2112-482c-9a01-4c4c5f90fcb9",
   "metadata": {},
   "outputs": [
    {
     "data": {
      "text/html": [
       "<div>\n",
       "<style scoped>\n",
       "    .dataframe tbody tr th:only-of-type {\n",
       "        vertical-align: middle;\n",
       "    }\n",
       "\n",
       "    .dataframe tbody tr th {\n",
       "        vertical-align: top;\n",
       "    }\n",
       "\n",
       "    .dataframe thead th {\n",
       "        text-align: right;\n",
       "    }\n",
       "</style>\n",
       "<table border=\"1\" class=\"dataframe\">\n",
       "  <thead>\n",
       "    <tr style=\"text-align: right;\">\n",
       "      <th></th>\n",
       "      <th>mpg</th>\n",
       "      <th>cylinders</th>\n",
       "      <th>displacement</th>\n",
       "      <th>horsepower</th>\n",
       "      <th>weight</th>\n",
       "      <th>acceleration</th>\n",
       "      <th>model year</th>\n",
       "      <th>origin_1</th>\n",
       "      <th>origin_2</th>\n",
       "      <th>origin_3</th>\n",
       "    </tr>\n",
       "  </thead>\n",
       "  <tbody>\n",
       "    <tr>\n",
       "      <th>0</th>\n",
       "      <td>18.0</td>\n",
       "      <td>8</td>\n",
       "      <td>307.0</td>\n",
       "      <td>130.0</td>\n",
       "      <td>3504</td>\n",
       "      <td>12.0</td>\n",
       "      <td>70</td>\n",
       "      <td>1</td>\n",
       "      <td>0</td>\n",
       "      <td>0</td>\n",
       "    </tr>\n",
       "    <tr>\n",
       "      <th>1</th>\n",
       "      <td>15.0</td>\n",
       "      <td>8</td>\n",
       "      <td>350.0</td>\n",
       "      <td>165.0</td>\n",
       "      <td>3693</td>\n",
       "      <td>11.5</td>\n",
       "      <td>70</td>\n",
       "      <td>1</td>\n",
       "      <td>0</td>\n",
       "      <td>0</td>\n",
       "    </tr>\n",
       "    <tr>\n",
       "      <th>2</th>\n",
       "      <td>18.0</td>\n",
       "      <td>8</td>\n",
       "      <td>318.0</td>\n",
       "      <td>150.0</td>\n",
       "      <td>3436</td>\n",
       "      <td>11.0</td>\n",
       "      <td>70</td>\n",
       "      <td>1</td>\n",
       "      <td>0</td>\n",
       "      <td>0</td>\n",
       "    </tr>\n",
       "    <tr>\n",
       "      <th>3</th>\n",
       "      <td>16.0</td>\n",
       "      <td>8</td>\n",
       "      <td>304.0</td>\n",
       "      <td>150.0</td>\n",
       "      <td>3433</td>\n",
       "      <td>12.0</td>\n",
       "      <td>70</td>\n",
       "      <td>1</td>\n",
       "      <td>0</td>\n",
       "      <td>0</td>\n",
       "    </tr>\n",
       "    <tr>\n",
       "      <th>4</th>\n",
       "      <td>17.0</td>\n",
       "      <td>8</td>\n",
       "      <td>302.0</td>\n",
       "      <td>140.0</td>\n",
       "      <td>3449</td>\n",
       "      <td>10.5</td>\n",
       "      <td>70</td>\n",
       "      <td>1</td>\n",
       "      <td>0</td>\n",
       "      <td>0</td>\n",
       "    </tr>\n",
       "  </tbody>\n",
       "</table>\n",
       "</div>"
      ],
      "text/plain": [
       "    mpg  cylinders  displacement  horsepower  weight  acceleration  \\\n",
       "0  18.0          8         307.0       130.0    3504          12.0   \n",
       "1  15.0          8         350.0       165.0    3693          11.5   \n",
       "2  18.0          8         318.0       150.0    3436          11.0   \n",
       "3  16.0          8         304.0       150.0    3433          12.0   \n",
       "4  17.0          8         302.0       140.0    3449          10.5   \n",
       "\n",
       "   model year  origin_1  origin_2  origin_3  \n",
       "0          70         1         0         0  \n",
       "1          70         1         0         0  \n",
       "2          70         1         0         0  \n",
       "3          70         1         0         0  \n",
       "4          70         1         0         0  "
      ]
     },
     "execution_count": 8,
     "metadata": {},
     "output_type": "execute_result"
    }
   ],
   "source": [
    "# Create dummy variables for origin\n",
    "auto_cleaned = pd.get_dummies(auto_cleaned, columns = ['origin'])\n",
    "\n",
    "auto_cleaned.head()"
   ]
  },
  {
   "cell_type": "markdown",
   "id": "ea936b1c-7a37-40bd-acd6-3f750d64ed4f",
   "metadata": {},
   "source": [
    "**3. Create a correlation coefficient matrix and/or visualization. Are there features highly correlated with mpg?**"
   ]
  },
  {
   "cell_type": "code",
   "execution_count": 9,
   "id": "4c52e192-a419-44bb-b440-0f67043d9aa8",
   "metadata": {},
   "outputs": [
    {
     "data": {
      "image/png": "[encoded data removed]",
      "text/plain": [
       "<Figure size 1080x576 with 2 Axes>"
      ]
     },
     "metadata": {
      "needs_background": "light"
     },
     "output_type": "display_data"
    }
   ],
   "source": [
    "# Get pearsons correlation of numeric columns and round to 2 decimal places\n",
    "pearson_corr = auto_cleaned.corr(method = 'pearson').round(2)\n",
    "\n",
    "# create figure\n",
    "plt.figure(figsize = (15, 8))\n",
    "\n",
    "# Customize title\n",
    "plt.title(\"Correlation Matrix\", fontsize = 20)\n",
    "\n",
    "# Create heatmap of correlations\n",
    "sns.heatmap(pearson_corr, annot = True, vmax = 1, vmin = -1, center = 0, cmap = 'vlag')\n",
    "\n",
    "# display chart\n",
    "plt.show()"
   ]
  },
  {
   "cell_type": "markdown",
   "id": "b677d287-bb72-4d1f-b3ae-97608b9e5c96",
   "metadata": {},
   "source": [
    "Looking at the correlation heatmap, cylinders, displacement, horsepower, and weight are highly correlated to mpg."
   ]
  },
  {
   "cell_type": "markdown",
   "id": "dffe6ba2-2dad-4434-b13b-21f558b1709f",
   "metadata": {},
   "source": [
    "**4. Plot mpg versus weight. Analyze this graph and explain how it relates to the corresponding correlation.**"
   ]
  },
  {
   "cell_type": "code",
   "execution_count": 10,
   "id": "9f297963-bc41-4113-88a3-230a74645e34",
   "metadata": {},
   "outputs": [
    {
     "data": {
      "text/plain": [
       "Text(0, 0.5, 'Weight')"
      ]
     },
     "execution_count": 10,
     "metadata": {},
     "output_type": "execute_result"
    },
    {
     "data": {
      "image/png": "[encoded data removed]",
      "text/plain": [
       "<Figure size 720x432 with 1 Axes>"
      ]
     },
     "metadata": {
      "needs_background": "light"
     },
     "output_type": "display_data"
    }
   ],
   "source": [
    "# Create figure\n",
    "fig, ax = plt.subplots(1, 1, figsize = (10, 6), layout = 'constrained')\n",
    "\n",
    "# Create plot\n",
    "ax.scatter(auto_cleaned['mpg'], auto_cleaned['weight'])\n",
    "\n",
    "# Customize labels\n",
    "ax.set_title(\"MPG vs Car Weight\", fontsize = 20)\n",
    "ax.set_xlabel(\"MPG\", fontsize = 16)\n",
    "ax.set_ylabel(\"Weight\", fontsize = 16)"
   ]
  },
  {
   "cell_type": "markdown",
   "id": "43204d27-eca8-479a-aa89-56f3a0678fed",
   "metadata": {},
   "source": [
    "The correlation between MPG and Weight is -0.83 which indicates a negative correlation between the two variables. We can see in the scatterplot the two do have a negative correlation and they are close together indicating that the MPG and Weight are highly correlated."
   ]
  },
  {
   "cell_type": "markdown",
   "id": "cde8b297-1922-42db-84d6-d037f1757cd4",
   "metadata": {},
   "source": [
    "**5. Randomly split the data into 80% training data and 20% test data, where your target is mpg.**"
   ]
  },
  {
   "cell_type": "code",
   "execution_count": 11,
   "id": "5ec4d3b8-d38b-4983-ab22-2e5ac8cd3c45",
   "metadata": {},
   "outputs": [],
   "source": [
    "# import library\n",
    "from sklearn.model_selection import train_test_split\n",
    "\n",
    "# Dependent variable\n",
    "y = auto_cleaned['mpg'].values.reshape(-1,1)\n",
    "\n",
    "# Independent variables\n",
    "X = auto_cleaned['weight'].values.reshape(-1,1)\n",
    "\n",
    "# Split data into training and test data\n",
    "X_train, X_test, y_train, y_test = train_test_split(X, y, test_size = 0.2, random_state = 15)"
   ]
  },
  {
   "cell_type": "code",
   "execution_count": 12,
   "id": "bb9e3a52-263d-4419-87f4-f946092edf8d",
   "metadata": {},
   "outputs": [
    {
     "name": "stdout",
     "output_type": "stream",
     "text": [
      "X_train shape:  (318, 1)\n",
      "X_test shape:  (80, 1)\n",
      "y_train shape:  (318, 1)\n",
      "y_test shape:  (80, 1)\n"
     ]
    }
   ],
   "source": [
    "print(f\"X_train shape:  {X_train.shape}\")\n",
    "print(f\"X_test shape:  {X_test.shape}\")\n",
    "print(f\"y_train shape:  {y_train.shape}\")\n",
    "print(f\"y_test shape:  {y_test.shape}\")"
   ]
  },
  {
   "cell_type": "markdown",
   "id": "654a5ac6-df06-4d31-90e6-f12279f1ff13",
   "metadata": {},
   "source": [
    "**6. Train an ordinary linear regression on the training data.**"
   ]
  },
  {
   "cell_type": "code",
   "execution_count": 13,
   "id": "91c39781-0f2e-4434-8abd-e26ac277cb78",
   "metadata": {},
   "outputs": [],
   "source": [
    "# import library\n",
    "from sklearn.linear_model import LinearRegression\n",
    "\n",
    "regr_model = LinearRegression().fit(X_train, y_train)"
   ]
  },
  {
   "cell_type": "code",
   "execution_count": 14,
   "id": "9e8cc4b4-7523-4bcb-83c1-bd0f231a1b83",
   "metadata": {},
   "outputs": [
    {
     "name": "stdout",
     "output_type": "stream",
     "text": [
      "Train Model score: 0.69242693261961\n"
     ]
    }
   ],
   "source": [
    "model_score_train = regr_model.score(X_train, y_train)\n",
    "print(f\"Train Model score: {model_score_train}\")"
   ]
  },
  {
   "cell_type": "code",
   "execution_count": 15,
   "id": "084c0d4d-a46d-46e9-8116-29600a8c6681",
   "metadata": {},
   "outputs": [
    {
     "name": "stdout",
     "output_type": "stream",
     "text": [
      "Test Model score: 0.6837317788727049\n"
     ]
    }
   ],
   "source": [
    "model_score_test = regr_model.score(X_test, y_test)\n",
    "print(f\"Test Model score: {model_score_test}\")"
   ]
  },
  {
   "cell_type": "code",
   "execution_count": 16,
   "id": "fcbc2cc0-4a62-4528-a1b4-17e92dd5bbe3",
   "metadata": {},
   "outputs": [],
   "source": [
    "y_train_predict = regr_model.predict(X_train)\n",
    "y_test_predict = regr_model.predict(X_test)"
   ]
  },
  {
   "cell_type": "markdown",
   "id": "7a8af42c-98c8-43a6-b67e-0222448c907c",
   "metadata": {},
   "source": [
    "**7. Calculate R2, RMSE, and MAE on both the training and test sets and interpret your results.**"
   ]
  },
  {
   "cell_type": "code",
   "execution_count": 17,
   "id": "73f89ce0-f3e6-43e9-acef-037a492d612e",
   "metadata": {},
   "outputs": [],
   "source": [
    "# import library\n",
    "from sklearn.metrics import mean_squared_error, mean_absolute_error, r2_score"
   ]
  },
  {
   "cell_type": "code",
   "execution_count": 18,
   "id": "96d6fa7b-6ba7-4852-96d2-510ea16e6ee6",
   "metadata": {},
   "outputs": [
    {
     "name": "stdout",
     "output_type": "stream",
     "text": [
      "Training Data\n",
      "R2 0.69242693261961\n",
      "RMSE: 4.235801632792897\n",
      "MAE: 3.233025247691951\n"
     ]
    }
   ],
   "source": [
    "# Training Data\n",
    "print(\"Training Data\")\n",
    "\n",
    "# R2\n",
    "r2_score_train = r2_score(y_train, y_train_predict)\n",
    "print('R2', r2_score_train) \n",
    "\n",
    "# Calculate Root Mean Squared Error (RMSE) Test\n",
    "rmse = mean_squared_error(y_train, y_train_predict, squared = False)\n",
    "print(f\"RMSE: {rmse}\")\n",
    "\n",
    "## Calculate Mean Absolute Error (MAE) Test\n",
    "mae = mean_absolute_error(y_train, y_train_predict)\n",
    "print(f\"MAE: {mae}\")"
   ]
  },
  {
   "cell_type": "code",
   "execution_count": 19,
   "id": "d767f70a-c5ac-4d04-ad74-20c2a5804acd",
   "metadata": {},
   "outputs": [
    {
     "name": "stdout",
     "output_type": "stream",
     "text": [
      "Test Data\n",
      "R2 0.6837317788727049\n",
      "RMSE: 4.725758529415661\n",
      "MAE: 3.4582282127014876\n"
     ]
    }
   ],
   "source": [
    "# Test Data\n",
    "print(\"Test Data\")\n",
    "\n",
    "# R2\n",
    "r2_score_test = r2_score(y_test, y_test_predict)\n",
    "print('R2', r2_score_test) \n",
    "\n",
    "# Calculate Root Mean Squared Error (RMSE) Test\n",
    "rmse = mean_squared_error(y_test, y_test_predict, squared = False)\n",
    "print(f\"RMSE: {rmse}\")\n",
    "\n",
    "## Calculate Mean Absolute Error (MAE) Test\n",
    "mae = mean_absolute_error(y_test, y_test_predict)\n",
    "print(f\"MAE: {mae}\")"
   ]
  },
  {
   "cell_type": "markdown",
   "id": "50f385d0-34f0-4455-9535-2c04f7d314eb",
   "metadata": {},
   "source": [
    "The R2 in both the training and test datasets are 0.68 which indicates a good relationship between the mpg and the weight of the automobile.  The Root Mean Squared Error and the Mean Absolute Errors in both the training and test datasets were also both very low indicating a good relationship."
   ]
  },
  {
   "cell_type": "markdown",
   "id": "6b76dcb8-2db6-4234-8907-6918286b6985",
   "metadata": {},
   "source": [
    "**8. Pick another regression model and repeat the previous two steps. Note Do NOT choose logistic regression as it is more like a classification model**"
   ]
  },
  {
   "cell_type": "markdown",
   "id": "196a9223-dd75-4ca8-b618-2e502636120f",
   "metadata": {},
   "source": [
    "#### Multiple Regression"
   ]
  },
  {
   "cell_type": "code",
   "execution_count": 20,
   "id": "f1a4130c-1009-47e4-aaf4-c5c80cb7c52d",
   "metadata": {},
   "outputs": [],
   "source": [
    "# Dependent variable\n",
    "y = auto_cleaned['mpg'].values\n",
    "\n",
    "# Independent variables\n",
    "X = auto_cleaned[['weight', 'cylinders', 'displacement', 'horsepower']].values\n",
    "\n",
    "# Split data into training and test data\n",
    "X_train, X_test, y_train, y_test = train_test_split(X, y, test_size = 0.2, random_state = 15)"
   ]
  },
  {
   "cell_type": "code",
   "execution_count": 21,
   "id": "c9ca0d37-f2a0-49dc-948c-7642c80eb777",
   "metadata": {},
   "outputs": [
    {
     "name": "stdout",
     "output_type": "stream",
     "text": [
      "X_train shape:  (318, 4)\n",
      "X_test shape:  (80, 4)\n",
      "y_train shape:  (318,)\n",
      "y_test shape:  (80,)\n"
     ]
    }
   ],
   "source": [
    "print(f\"X_train shape:  {X_train.shape}\")\n",
    "print(f\"X_test shape:  {X_test.shape}\")\n",
    "print(f\"y_train shape:  {y_train.shape}\")\n",
    "print(f\"y_test shape:  {y_test.shape}\")"
   ]
  },
  {
   "cell_type": "code",
   "execution_count": 22,
   "id": "b002ad10-50f4-421e-9c79-cd3174de83c0",
   "metadata": {},
   "outputs": [],
   "source": [
    "regr_model = LinearRegression().fit(X_train, y_train)"
   ]
  },
  {
   "cell_type": "code",
   "execution_count": 23,
   "id": "e0be1b58-ce81-4bd5-b0f1-cf1676a320a8",
   "metadata": {},
   "outputs": [
    {
     "name": "stdout",
     "output_type": "stream",
     "text": [
      "Train Model score: 0.7031693107036636\n"
     ]
    }
   ],
   "source": [
    "model_score_train = regr_model.score(X_train, y_train)\n",
    "print(f\"Train Model score: {model_score_train}\")"
   ]
  },
  {
   "cell_type": "code",
   "execution_count": 24,
   "id": "1ae774c2-4b49-4d4a-a7d9-c769436570fe",
   "metadata": {},
   "outputs": [
    {
     "name": "stdout",
     "output_type": "stream",
     "text": [
      "Test Model score: 0.6978428559128169\n"
     ]
    }
   ],
   "source": [
    "model_score_test = regr_model.score(X_test, y_test)\n",
    "print(f\"Test Model score: {model_score_test}\")"
   ]
  },
  {
   "cell_type": "code",
   "execution_count": 25,
   "id": "bc6e16e6-3929-4f8a-aaca-73314f870d43",
   "metadata": {},
   "outputs": [],
   "source": [
    "# Create predictions\n",
    "y_train_predict = regr_model.predict(X_train)\n",
    "y_test_predict = regr_model.predict(X_test)"
   ]
  },
  {
   "cell_type": "code",
   "execution_count": 26,
   "id": "55ead0ab-8b5b-4577-b496-f79cc70750f8",
   "metadata": {},
   "outputs": [
    {
     "name": "stdout",
     "output_type": "stream",
     "text": [
      "Training Data\n",
      "R2 0.7031693107036636\n",
      "RMSE: 4.161173861685401\n",
      "MAE: 3.1892781623529873\n"
     ]
    }
   ],
   "source": [
    "# Training Data\n",
    "print(\"Training Data\")\n",
    "\n",
    "# R2\n",
    "r2_score_train = r2_score(y_train, y_train_predict)\n",
    "print('R2', r2_score_train) \n",
    "\n",
    "# Calculate Root Mean Squared Error (RMSE) Test\n",
    "rmse = mean_squared_error(y_train, y_train_predict, squared = False)\n",
    "print(f\"RMSE: {rmse}\")\n",
    "\n",
    "## Calculate Mean Absolute Error (MAE) Test\n",
    "mae = mean_absolute_error(y_train, y_train_predict)\n",
    "print(f\"MAE: {mae}\")"
   ]
  },
  {
   "cell_type": "code",
   "execution_count": 27,
   "id": "830c8e46-9a9e-47f4-a099-5522ad64251b",
   "metadata": {},
   "outputs": [
    {
     "name": "stdout",
     "output_type": "stream",
     "text": [
      "Test Data\n",
      "R2 0.6978428559128169\n",
      "RMSE: 4.619129971216102\n",
      "MAE: 3.413508988257017\n"
     ]
    }
   ],
   "source": [
    "# Test Data\n",
    "print(\"Test Data\")\n",
    "\n",
    "# R2\n",
    "r2_score_test = r2_score(y_test, y_test_predict)\n",
    "print('R2', r2_score_test) \n",
    "\n",
    "# Calculate Root Mean Squared Error (RMSE) Test\n",
    "rmse = mean_squared_error(y_test, y_test_predict, squared = False)\n",
    "print(f\"RMSE: {rmse}\")\n",
    "\n",
    "## Calculate Mean Absolute Error (MAE) Test\n",
    "mae = mean_absolute_error(y_test, y_test_predict)\n",
    "print(f\"MAE: {mae}\")"
   ]
  },
  {
   "cell_type": "markdown",
   "id": "58b733b1-685f-4ce3-b3d4-d1dbe9adcb23",
   "metadata": {},
   "source": [
    "Adding horsepower, cylinders, and displacement didnt really change the R2, RMSE, or MAE that much to warrant to say that the other factors influenced the mpg at all."
   ]
  },
  {
   "cell_type": "markdown",
   "id": "020730cc-c069-4416-bece-05fb3e4261f1",
   "metadata": {},
   "source": [
    "#### Lasso Regression"
   ]
  },
  {
   "cell_type": "code",
   "execution_count": 28,
   "id": "e9db331a-ede9-4b4a-8b3b-565589fe461c",
   "metadata": {},
   "outputs": [],
   "source": [
    "# import libraries\n",
    "from sklearn.linear_model import Lasso"
   ]
  },
  {
   "cell_type": "code",
   "execution_count": 29,
   "id": "b76cd6fd-0191-437e-99ab-133e07e3a1ea",
   "metadata": {},
   "outputs": [],
   "source": [
    "# Dependent variable\n",
    "y = auto_cleaned['mpg'].values\n",
    "\n",
    "# Independent variables\n",
    "X = auto_cleaned[['weight', 'cylinders', 'displacement', 'horsepower']].values\n",
    "\n",
    "# Split data into training and test data\n",
    "X_train, X_test, y_train, y_test = train_test_split(X, y, test_size = 0.2, random_state = 15)"
   ]
  },
  {
   "cell_type": "code",
   "execution_count": 30,
   "id": "052e77b7-7ea2-4083-afd4-97df0e617a7c",
   "metadata": {},
   "outputs": [],
   "source": [
    "# Create an instance of Lasso regression\n",
    "lasso_model = Lasso(alpha = 1.0)"
   ]
  },
  {
   "cell_type": "code",
   "execution_count": 31,
   "id": "c614415f-4c2d-42ed-942f-c003749bb14b",
   "metadata": {},
   "outputs": [
    {
     "data": {
      "text/plain": [
       "Lasso()"
      ]
     },
     "execution_count": 31,
     "metadata": {},
     "output_type": "execute_result"
    }
   ],
   "source": [
    "# Fit the Lasso model\n",
    "lasso_model.fit(X_train, y_train)"
   ]
  },
  {
   "cell_type": "code",
   "execution_count": 35,
   "id": "8a184067-4348-474a-8dc2-ab12081d349d",
   "metadata": {},
   "outputs": [
    {
     "name": "stdout",
     "output_type": "stream",
     "text": [
      "Train Model score: 0.7029886406240002\n"
     ]
    }
   ],
   "source": [
    "# Create the model score for training\n",
    "print(f\"Train Model score: {lasso_model.score(X_train, y_train)}\")"
   ]
  },
  {
   "cell_type": "code",
   "execution_count": 36,
   "id": "150e5d24-51f9-4b8a-b997-4b3b574c0662",
   "metadata": {},
   "outputs": [
    {
     "name": "stdout",
     "output_type": "stream",
     "text": [
      "Test Model score: 0.7007552464278606\n"
     ]
    }
   ],
   "source": [
    "# Create the model score for test\n",
    "print(f\"Test Model score: {lasso_model.score(X_test, y_test)}\")"
   ]
  },
  {
   "cell_type": "code",
   "execution_count": 37,
   "id": "b252145a-ad46-4ff0-97b6-2308ac9955da",
   "metadata": {},
   "outputs": [],
   "source": [
    "# Create predictions\n",
    "y_train_predict = lasso_model.predict(X_train)\n",
    "y_test_predict = lasso_model.predict(X_test)"
   ]
  },
  {
   "cell_type": "code",
   "execution_count": 38,
   "id": "1731eebd-8813-4793-beb5-2939f6a6ec9e",
   "metadata": {},
   "outputs": [
    {
     "name": "stdout",
     "output_type": "stream",
     "text": [
      "Training Data\n",
      "R2 0.7029886406240002\n",
      "RMSE: 4.162440046882383\n",
      "MAE: 3.187086829546348\n"
     ]
    }
   ],
   "source": [
    "# Training Data\n",
    "print(\"Training Data\")\n",
    "\n",
    "# R2\n",
    "r2_score_train = r2_score(y_train, y_train_predict)\n",
    "print('R2', r2_score_train) \n",
    "\n",
    "# Calculate Root Mean Squared Error (RMSE) Test\n",
    "rmse = mean_squared_error(y_train, y_train_predict, squared = False)\n",
    "print(f\"RMSE: {rmse}\")\n",
    "\n",
    "## Calculate Mean Absolute Error (MAE) Test\n",
    "mae = mean_absolute_error(y_train, y_train_predict)\n",
    "print(f\"MAE: {mae}\")"
   ]
  },
  {
   "cell_type": "code",
   "execution_count": 39,
   "id": "4bfc5032-7e59-41aa-966f-8afcb2ca9a83",
   "metadata": {},
   "outputs": [
    {
     "name": "stdout",
     "output_type": "stream",
     "text": [
      "Test Data\n",
      "R2 0.7007552464278606\n",
      "RMSE: 4.596814953543168\n",
      "MAE: 3.395391250697821\n"
     ]
    }
   ],
   "source": [
    "# Test Data\n",
    "print(\"Test Data\")\n",
    "\n",
    "# R2\n",
    "r2_score_test = r2_score(y_test, y_test_predict)\n",
    "print('R2', r2_score_test) \n",
    "\n",
    "# Calculate Root Mean Squared Error (RMSE) Test\n",
    "rmse = mean_squared_error(y_test, y_test_predict, squared = False)\n",
    "print(f\"RMSE: {rmse}\")\n",
    "\n",
    "## Calculate Mean Absolute Error (MAE) Test\n",
    "mae = mean_absolute_error(y_test, y_test_predict)\n",
    "print(f\"MAE: {mae}\")"
   ]
  },
  {
   "cell_type": "markdown",
   "id": "8b158ea6-06a1-4f63-8d0a-ff7c0486d823",
   "metadata": {},
   "source": [
    "The Lasso regression is slightly higher than the multiple regression."
   ]
  },
  {
   "cell_type": "code",
   "execution_count": null,
   "id": "9d371fa6-0833-4c46-8598-48c47c2c1d7c",
   "metadata": {},
   "outputs": [],
   "source": []
  }
 ],
 "metadata": {
  "kernelspec": {
   "display_name": "Python 3 (ipykernel)",
   "language": "python",
   "name": "python3"
  },
  "language_info": {
   "codemirror_mode": {
    "name": "ipython",
    "version": 3
   },
   "file_extension": ".py",
   "mimetype": "text/x-python",
   "name": "python",
   "nbconvert_exporter": "python",
   "pygments_lexer": "ipython3",
   "version": "3.8.8"
  }
 },
 "nbformat": 4,
 "nbformat_minor": 5
}
