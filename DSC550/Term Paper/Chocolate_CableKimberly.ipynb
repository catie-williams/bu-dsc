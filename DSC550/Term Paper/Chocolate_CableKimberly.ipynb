{
 "cells": [
  {
   "cell_type": "markdown",
   "id": "7957448c-1609-4fae-8339-65e52759f386",
   "metadata": {},
   "source": [
    "# DSC 550 \n",
    "\n",
    "### Term Paper:  Chocolate!\n",
    "\n",
    "Author: Kimberly Cable<br>\n",
    "Term: Summer, 2022"
   ]
  },
  {
   "cell_type": "markdown",
   "id": "d77af04c-8380-476e-8c2b-4ea6b6260955",
   "metadata": {},
   "source": [
    "## Milestone 1: Data Selection and EDA"
   ]
  },
  {
   "cell_type": "markdown",
   "id": "a27130f2-88a2-4c07-ba99-15bd37a84e48",
   "metadata": {},
   "source": [
    "### About:"
   ]
  },
  {
   "cell_type": "markdown",
   "id": "30b0addf-08c7-4e08-842d-0407418db8c9",
   "metadata": {},
   "source": [
    "Chocolate.  Who doesn't like it? It's been around since the 19th century BCE.  But what makes chocolate highly desirable?  In this study, I hope to gain that insight."
   ]
  },
  {
   "cell_type": "markdown",
   "id": "7669f9bb-4d6a-4f84-87d7-5a33a7d9e294",
   "metadata": {},
   "source": [
    "### References"
   ]
  },
  {
   "cell_type": "markdown",
   "id": "9cb7941f-73db-4203-8dee-15f7fd191f0a",
   "metadata": {},
   "source": [
    "Manhattan Chocolate Society, Flavors of Cacao [Internet]. Available from: http://flavorsofcacao.com/"
   ]
  },
  {
   "cell_type": "markdown",
   "id": "4b3ab92f-82c8-414f-8f8d-b956c9451e13",
   "metadata": {},
   "source": [
    "### Plan of Attack:"
   ]
  },
  {
   "cell_type": "markdown",
   "id": "ef27d2cf-3c0e-48a4-b4e2-fe1b0e556533",
   "metadata": {},
   "source": [
    "Chocolate is loved by many.  But what makes good chocolate?  Chocolatiers and home cooks alike make and use chocolate.  Knowing what  brands and countries to get good chocolate could make or break a recipe.\n",
    "\n",
    "The data I will use comes from the Flavors of Cacao website and their Chocolate Bar Ratings table. The data includes features such as cocoa content, where it was made, bean origin, the number of ingredients, and its characteristics and rating.\n",
    "\n",
    "I plan to look to see if I can predict the ratings for chocolate and if the characteristics play a part in good chocolate.\n",
    "\n",
    "I do not see any ethical implications for my study but it does have subjective attributes that some may disagree with.\n",
    "\n",
    "Some of the challenges I see are cleaning the dataset and separating out some of the columns. Also, the model building may be a challenge as I have never used these methods before."
   ]
  },
  {
   "cell_type": "markdown",
   "id": "cf62b1d7-0866-4f9a-8421-15d668a04c88",
   "metadata": {},
   "source": [
    "### Data Dictionary:"
   ]
  },
  {
   "cell_type": "markdown",
   "id": "a749febd-bf0f-4fd9-b7b8-d25bd09c1493",
   "metadata": {},
   "source": [
    "1. **REF:** Reference number\n",
    "2. **Company(Manufacturer):** Company that made the chocolate\n",
    "3. **Company Location:** Location of the Company (country)\n",
    "4. **Review Date:** Year the chocolate was reviewed\n",
    "5. **Country of Bean Origin:** Country the bean originated in\n",
    "6. **Specific Bean Origin or Bar Name:** Specifics of the bean origin and/or batch\n",
    "7. **Cocoa Percent:** Percentage of cocoa in chocolate\n",
    "8. **Ingredients:** Number and ingredients\n",
    "        - B: Beans\n",
    "        - S: Sugar\n",
    "        - S*: Sweetener other than white cane or beet sugar\n",
    "        - C: Cocoa Butter\n",
    "        - V: Vanilla\n",
    "        - L: Lecithin\n",
    "        - Sa: Salt\n",
    "9. **Most Memorable Characteristics:** A summary review of the most memorable characteristics of that bar.\n",
    "10. **Rating:** Each chocolate is evaluated from a combination of both objective qualities and subjective interpretation. A rating here only represents an experience with one bar from one batch.\n",
    "    * **Rating Scale**\n",
    "        - 4.0 - 5.0   = Outstanding\n",
    "        - 3.5 - 3.9   = Highly Recommended\n",
    "        - 3.0 - 3.49 = Recommended\n",
    "        - 2.0 - 2.9   = Disappointing\n",
    "        - 1.0 - 1.9   = Unpleasant"
   ]
  },
  {
   "cell_type": "markdown",
   "id": "f252edc7-1b82-4802-b33a-753a7390924a",
   "metadata": {},
   "source": [
    "### Libraries Needed"
   ]
  },
  {
   "cell_type": "markdown",
   "id": "d6924b36-aa14-4923-9aae-636c0e7784f7",
   "metadata": {},
   "source": [
    "1. pandas\n",
    "2. matplotlib\n",
    "3. numpy\n",
    "4. seaborn\n",
    "5. wordcloud"
   ]
  },
  {
   "cell_type": "code",
   "execution_count": 1,
   "id": "6198d173-19f9-45b7-8d14-2aa8aa15020d",
   "metadata": {},
   "outputs": [],
   "source": [
    "# import libraries\n",
    "import pandas as pd\n",
    "import matplotlib.pyplot as plt\n",
    "import numpy as np\n",
    "import seaborn as sns\n",
    "import wordcloud\n",
    "from wordcloud import WordCloud, ImageColorGenerator\n",
    "%matplotlib inline"
   ]
  },
  {
   "cell_type": "markdown",
   "id": "0e0fe4c4-c5a0-4f14-8ad8-ed3944c551be",
   "metadata": {},
   "source": [
    "### Read Chocolate Ratings dataset"
   ]
  },
  {
   "cell_type": "code",
   "execution_count": 2,
   "id": "df7cba00-913a-448c-8828-808502e1b50c",
   "metadata": {},
   "outputs": [
    {
     "data": {
      "text/html": [
       "<div>\n",
       "<style scoped>\n",
       "    .dataframe tbody tr th:only-of-type {\n",
       "        vertical-align: middle;\n",
       "    }\n",
       "\n",
       "    .dataframe tbody tr th {\n",
       "        vertical-align: top;\n",
       "    }\n",
       "\n",
       "    .dataframe thead th {\n",
       "        text-align: right;\n",
       "    }\n",
       "</style>\n",
       "<table border=\"1\" class=\"dataframe\">\n",
       "  <thead>\n",
       "    <tr style=\"text-align: right;\">\n",
       "      <th></th>\n",
       "      <th>REF</th>\n",
       "      <th>Company (Manufacturer)</th>\n",
       "      <th>Company Location</th>\n",
       "      <th>Review Date</th>\n",
       "      <th>Country of Bean Origin</th>\n",
       "      <th>Specific Bean Origin or Bar Name</th>\n",
       "      <th>Cocoa Percent</th>\n",
       "      <th>Ingredients</th>\n",
       "      <th>Most Memorable Characteristics</th>\n",
       "      <th>Rating</th>\n",
       "    </tr>\n",
       "  </thead>\n",
       "  <tbody>\n",
       "    <tr>\n",
       "      <th>0</th>\n",
       "      <td>2454</td>\n",
       "      <td>5150</td>\n",
       "      <td>U.S.A.</td>\n",
       "      <td>2019</td>\n",
       "      <td>Tanzania</td>\n",
       "      <td>Kokoa Kamili, batch 1</td>\n",
       "      <td>0.76</td>\n",
       "      <td>3- B,S,C</td>\n",
       "      <td>rich cocoa, fatty, bready</td>\n",
       "      <td>3.25</td>\n",
       "    </tr>\n",
       "    <tr>\n",
       "      <th>1</th>\n",
       "      <td>2454</td>\n",
       "      <td>5150</td>\n",
       "      <td>U.S.A.</td>\n",
       "      <td>2019</td>\n",
       "      <td>Madagascar</td>\n",
       "      <td>Bejofo Estate, batch 1</td>\n",
       "      <td>0.76</td>\n",
       "      <td>3- B,S,C</td>\n",
       "      <td>cocoa, blackberry, full body</td>\n",
       "      <td>3.75</td>\n",
       "    </tr>\n",
       "    <tr>\n",
       "      <th>2</th>\n",
       "      <td>2458</td>\n",
       "      <td>5150</td>\n",
       "      <td>U.S.A.</td>\n",
       "      <td>2019</td>\n",
       "      <td>Dominican Republic</td>\n",
       "      <td>Zorzal, batch 1</td>\n",
       "      <td>0.76</td>\n",
       "      <td>3- B,S,C</td>\n",
       "      <td>cocoa, vegetal, savory</td>\n",
       "      <td>3.50</td>\n",
       "    </tr>\n",
       "    <tr>\n",
       "      <th>3</th>\n",
       "      <td>2542</td>\n",
       "      <td>5150</td>\n",
       "      <td>U.S.A.</td>\n",
       "      <td>2021</td>\n",
       "      <td>Fiji</td>\n",
       "      <td>Matasawalevu, batch 1</td>\n",
       "      <td>0.68</td>\n",
       "      <td>3- B,S,C</td>\n",
       "      <td>chewy, off, rubbery</td>\n",
       "      <td>3.00</td>\n",
       "    </tr>\n",
       "    <tr>\n",
       "      <th>4</th>\n",
       "      <td>2542</td>\n",
       "      <td>5150</td>\n",
       "      <td>U.S.A.</td>\n",
       "      <td>2021</td>\n",
       "      <td>India</td>\n",
       "      <td>Anamalai, batch 1</td>\n",
       "      <td>0.68</td>\n",
       "      <td>3- B,S,C</td>\n",
       "      <td>milk brownie, macadamia,chewy</td>\n",
       "      <td>3.50</td>\n",
       "    </tr>\n",
       "  </tbody>\n",
       "</table>\n",
       "</div>"
      ],
      "text/plain": [
       "    REF Company (Manufacturer) Company Location  Review Date  \\\n",
       "0  2454                   5150           U.S.A.         2019   \n",
       "1  2454                   5150           U.S.A.         2019   \n",
       "2  2458                   5150           U.S.A.         2019   \n",
       "3  2542                   5150           U.S.A.         2021   \n",
       "4  2542                   5150           U.S.A.         2021   \n",
       "\n",
       "  Country of Bean Origin Specific Bean Origin or Bar Name  Cocoa Percent  \\\n",
       "0               Tanzania            Kokoa Kamili, batch 1           0.76   \n",
       "1             Madagascar           Bejofo Estate, batch 1           0.76   \n",
       "2     Dominican Republic                  Zorzal, batch 1           0.76   \n",
       "3                   Fiji            Matasawalevu, batch 1           0.68   \n",
       "4                  India                Anamalai, batch 1           0.68   \n",
       "\n",
       "  Ingredients Most Memorable Characteristics  Rating  \n",
       "0    3- B,S,C      rich cocoa, fatty, bready    3.25  \n",
       "1    3- B,S,C   cocoa, blackberry, full body    3.75  \n",
       "2    3- B,S,C         cocoa, vegetal, savory    3.50  \n",
       "3    3- B,S,C            chewy, off, rubbery    3.00  \n",
       "4    3- B,S,C  milk brownie, macadamia,chewy    3.50  "
      ]
     },
     "execution_count": 2,
     "metadata": {},
     "output_type": "execute_result"
    }
   ],
   "source": [
    "# Read dataset\n",
    "try:\n",
    "    chocolate_df = pd.read_excel(\"Chocolate Ratings.xlsx\")\n",
    "except Exception:\n",
    "    print(\"There was an error reading the Chocolate Ratings file\")\n",
    "    \n",
    "chocolate_df.head()"
   ]
  },
  {
   "cell_type": "markdown",
   "id": "5b23a268-98f3-40c5-a64e-f9215acf643a",
   "metadata": {},
   "source": [
    "### Read USA Companies dataset"
   ]
  },
  {
   "cell_type": "code",
   "execution_count": 3,
   "id": "1ebbb667-3fe9-4c73-8b86-6b5007267868",
   "metadata": {},
   "outputs": [
    {
     "data": {
      "text/html": [
       "<div>\n",
       "<style scoped>\n",
       "    .dataframe tbody tr th:only-of-type {\n",
       "        vertical-align: middle;\n",
       "    }\n",
       "\n",
       "    .dataframe tbody tr th {\n",
       "        vertical-align: top;\n",
       "    }\n",
       "\n",
       "    .dataframe thead th {\n",
       "        text-align: right;\n",
       "    }\n",
       "</style>\n",
       "<table border=\"1\" class=\"dataframe\">\n",
       "  <thead>\n",
       "    <tr style=\"text-align: right;\">\n",
       "      <th></th>\n",
       "      <th>COMPANY NAME</th>\n",
       "      <th>CITY</th>\n",
       "      <th>STATE</th>\n",
       "      <th>OWNER/MAKER</th>\n",
       "    </tr>\n",
       "  </thead>\n",
       "  <tbody>\n",
       "    <tr>\n",
       "      <th>0</th>\n",
       "      <td>5150 Chocolate Co.</td>\n",
       "      <td>Delray Beach</td>\n",
       "      <td>Florida</td>\n",
       "      <td>Tyler Levitetz</td>\n",
       "    </tr>\n",
       "    <tr>\n",
       "      <th>1</th>\n",
       "      <td>Acalli (closed)</td>\n",
       "      <td>Gretna</td>\n",
       "      <td>Louisiana</td>\n",
       "      <td>Carol Morse</td>\n",
       "    </tr>\n",
       "    <tr>\n",
       "      <th>2</th>\n",
       "      <td>Adalee</td>\n",
       "      <td>Eagle Mountain</td>\n",
       "      <td>Utah</td>\n",
       "      <td>NaN</td>\n",
       "    </tr>\n",
       "    <tr>\n",
       "      <th>3</th>\n",
       "      <td>Adams Chocolate</td>\n",
       "      <td>Nyack</td>\n",
       "      <td>New York</td>\n",
       "      <td>Adam Berrios</td>\n",
       "    </tr>\n",
       "    <tr>\n",
       "      <th>4</th>\n",
       "      <td>Affinity</td>\n",
       "      <td>Sugar Land</td>\n",
       "      <td>Texas</td>\n",
       "      <td>Chris Campbell</td>\n",
       "    </tr>\n",
       "  </tbody>\n",
       "</table>\n",
       "</div>"
      ],
      "text/plain": [
       "         COMPANY NAME            CITY      STATE     OWNER/MAKER\n",
       "0  5150 Chocolate Co.    Delray Beach    Florida  Tyler Levitetz\n",
       "1     Acalli (closed)          Gretna  Louisiana     Carol Morse\n",
       "2              Adalee  Eagle Mountain       Utah             NaN\n",
       "3     Adams Chocolate           Nyack   New York    Adam Berrios\n",
       "4            Affinity      Sugar Land      Texas  Chris Campbell"
      ]
     },
     "execution_count": 3,
     "metadata": {},
     "output_type": "execute_result"
    }
   ],
   "source": [
    "# Read dataset\n",
    "try:\n",
    "    usa_companies_df = pd.read_excel(\"USA Companies.xlsx\")\n",
    "except Exception:\n",
    "    print(\"There was an error reading the USA Companies file\")\n",
    "    \n",
    "usa_companies_df.head()"
   ]
  },
  {
   "cell_type": "markdown",
   "id": "74c1f4ed-4803-46a3-921b-281a2b0c83e0",
   "metadata": {},
   "source": [
    "### Get preliminary information about Chocolate Ratings dataset"
   ]
  },
  {
   "cell_type": "code",
   "execution_count": 4,
   "id": "2d253db0-4b17-4f22-82e6-56ab380138be",
   "metadata": {},
   "outputs": [
    {
     "data": {
      "text/plain": [
       "(2588, 10)"
      ]
     },
     "execution_count": 4,
     "metadata": {},
     "output_type": "execute_result"
    }
   ],
   "source": [
    "# Shape\n",
    "chocolate_df.shape"
   ]
  },
  {
   "cell_type": "markdown",
   "id": "e462570a-b9f5-4c30-95f5-073036d0990c",
   "metadata": {},
   "source": [
    "There are 2,588 chocolate rating observations and 10 columns"
   ]
  },
  {
   "cell_type": "code",
   "execution_count": 5,
   "id": "361ffe9d-1b8d-4aa7-8891-9ce070dae83f",
   "metadata": {},
   "outputs": [
    {
     "name": "stdout",
     "output_type": "stream",
     "text": [
      "<class 'pandas.core.frame.DataFrame'>\n",
      "RangeIndex: 2588 entries, 0 to 2587\n",
      "Data columns (total 10 columns):\n",
      " #   Column                            Non-Null Count  Dtype  \n",
      "---  ------                            --------------  -----  \n",
      " 0   REF                               2588 non-null   int64  \n",
      " 1   Company (Manufacturer)            2588 non-null   object \n",
      " 2   Company Location                  2588 non-null   object \n",
      " 3   Review Date                       2588 non-null   int64  \n",
      " 4   Country of Bean Origin            2588 non-null   object \n",
      " 5   Specific Bean Origin or Bar Name  2588 non-null   object \n",
      " 6   Cocoa Percent                     2588 non-null   float64\n",
      " 7   Ingredients                       2501 non-null   object \n",
      " 8   Most Memorable Characteristics    2588 non-null   object \n",
      " 9   Rating                            2588 non-null   float64\n",
      "dtypes: float64(2), int64(2), object(6)\n",
      "memory usage: 202.3+ KB\n"
     ]
    }
   ],
   "source": [
    "# Information on features\n",
    "chocolate_df.info()"
   ]
  },
  {
   "cell_type": "markdown",
   "id": "d2d66587-2c67-4c57-ba38-eae5130290b9",
   "metadata": {},
   "source": [
    "**Conclusions:**\n",
    "\n",
    "* There is a mix of numeric and categorical data, the majority being categorical.\n",
    "* The target variable will be the rating as the best chocolates have a highly recommended rating and above\n",
    "    * 4.0 - 5.0: Outstanding\n",
    "    * 3.5 - 3.9: Highly Recommended\n",
    "    * 3.0 - 3.49: Recommended\n",
    "    * 2.0 - 2.9: Disappointing\n",
    "    * 1.0 - 1.9: Unpleasant\n",
    "* Some features will not be useful like REF."
   ]
  },
  {
   "cell_type": "code",
   "execution_count": 6,
   "id": "476e6cc0-1537-424f-a3b1-c78e180adaf8",
   "metadata": {},
   "outputs": [
    {
     "data": {
      "text/html": [
       "<div>\n",
       "<style scoped>\n",
       "    .dataframe tbody tr th:only-of-type {\n",
       "        vertical-align: middle;\n",
       "    }\n",
       "\n",
       "    .dataframe tbody tr th {\n",
       "        vertical-align: top;\n",
       "    }\n",
       "\n",
       "    .dataframe thead th {\n",
       "        text-align: right;\n",
       "    }\n",
       "</style>\n",
       "<table border=\"1\" class=\"dataframe\">\n",
       "  <thead>\n",
       "    <tr style=\"text-align: right;\">\n",
       "      <th></th>\n",
       "      <th>REF</th>\n",
       "      <th>Review Date</th>\n",
       "      <th>Cocoa Percent</th>\n",
       "      <th>Rating</th>\n",
       "    </tr>\n",
       "  </thead>\n",
       "  <tbody>\n",
       "    <tr>\n",
       "      <th>count</th>\n",
       "      <td>2588.000000</td>\n",
       "      <td>2588.000000</td>\n",
       "      <td>2588.000000</td>\n",
       "      <td>2588.000000</td>\n",
       "    </tr>\n",
       "    <tr>\n",
       "      <th>mean</th>\n",
       "      <td>1459.185471</td>\n",
       "      <td>2014.545209</td>\n",
       "      <td>0.716130</td>\n",
       "      <td>3.198319</td>\n",
       "    </tr>\n",
       "    <tr>\n",
       "      <th>std</th>\n",
       "      <td>773.852201</td>\n",
       "      <td>4.082722</td>\n",
       "      <td>0.055771</td>\n",
       "      <td>0.444069</td>\n",
       "    </tr>\n",
       "    <tr>\n",
       "      <th>min</th>\n",
       "      <td>5.000000</td>\n",
       "      <td>2006.000000</td>\n",
       "      <td>0.420000</td>\n",
       "      <td>1.000000</td>\n",
       "    </tr>\n",
       "    <tr>\n",
       "      <th>25%</th>\n",
       "      <td>820.000000</td>\n",
       "      <td>2012.000000</td>\n",
       "      <td>0.700000</td>\n",
       "      <td>3.000000</td>\n",
       "    </tr>\n",
       "    <tr>\n",
       "      <th>50%</th>\n",
       "      <td>1470.000000</td>\n",
       "      <td>2015.000000</td>\n",
       "      <td>0.700000</td>\n",
       "      <td>3.250000</td>\n",
       "    </tr>\n",
       "    <tr>\n",
       "      <th>75%</th>\n",
       "      <td>2122.000000</td>\n",
       "      <td>2018.000000</td>\n",
       "      <td>0.740000</td>\n",
       "      <td>3.500000</td>\n",
       "    </tr>\n",
       "    <tr>\n",
       "      <th>max</th>\n",
       "      <td>2768.000000</td>\n",
       "      <td>2022.000000</td>\n",
       "      <td>1.000000</td>\n",
       "      <td>4.000000</td>\n",
       "    </tr>\n",
       "  </tbody>\n",
       "</table>\n",
       "</div>"
      ],
      "text/plain": [
       "               REF  Review Date  Cocoa Percent       Rating\n",
       "count  2588.000000  2588.000000    2588.000000  2588.000000\n",
       "mean   1459.185471  2014.545209       0.716130     3.198319\n",
       "std     773.852201     4.082722       0.055771     0.444069\n",
       "min       5.000000  2006.000000       0.420000     1.000000\n",
       "25%     820.000000  2012.000000       0.700000     3.000000\n",
       "50%    1470.000000  2015.000000       0.700000     3.250000\n",
       "75%    2122.000000  2018.000000       0.740000     3.500000\n",
       "max    2768.000000  2022.000000       1.000000     4.000000"
      ]
     },
     "execution_count": 6,
     "metadata": {},
     "output_type": "execute_result"
    }
   ],
   "source": [
    "# Get summary statstics on numerical data\n",
    "chocolate_df.describe()"
   ]
  },
  {
   "cell_type": "code",
   "execution_count": 7,
   "id": "ccf28fe6-4eee-476b-a842-cd03db2f84ab",
   "metadata": {},
   "outputs": [
    {
     "data": {
      "text/html": [
       "<div>\n",
       "<style scoped>\n",
       "    .dataframe tbody tr th:only-of-type {\n",
       "        vertical-align: middle;\n",
       "    }\n",
       "\n",
       "    .dataframe tbody tr th {\n",
       "        vertical-align: top;\n",
       "    }\n",
       "\n",
       "    .dataframe thead th {\n",
       "        text-align: right;\n",
       "    }\n",
       "</style>\n",
       "<table border=\"1\" class=\"dataframe\">\n",
       "  <thead>\n",
       "    <tr style=\"text-align: right;\">\n",
       "      <th></th>\n",
       "      <th>Company (Manufacturer)</th>\n",
       "      <th>Company Location</th>\n",
       "      <th>Country of Bean Origin</th>\n",
       "      <th>Specific Bean Origin or Bar Name</th>\n",
       "      <th>Ingredients</th>\n",
       "      <th>Most Memorable Characteristics</th>\n",
       "    </tr>\n",
       "  </thead>\n",
       "  <tbody>\n",
       "    <tr>\n",
       "      <th>count</th>\n",
       "      <td>2588</td>\n",
       "      <td>2588</td>\n",
       "      <td>2588</td>\n",
       "      <td>2588</td>\n",
       "      <td>2501</td>\n",
       "      <td>2588</td>\n",
       "    </tr>\n",
       "    <tr>\n",
       "      <th>unique</th>\n",
       "      <td>593</td>\n",
       "      <td>65</td>\n",
       "      <td>63</td>\n",
       "      <td>1643</td>\n",
       "      <td>21</td>\n",
       "      <td>2545</td>\n",
       "    </tr>\n",
       "    <tr>\n",
       "      <th>top</th>\n",
       "      <td>Soma</td>\n",
       "      <td>U.S.A.</td>\n",
       "      <td>Venezuela</td>\n",
       "      <td>Madagascar</td>\n",
       "      <td>3- B,S,C</td>\n",
       "      <td>spicy, cocoa</td>\n",
       "    </tr>\n",
       "    <tr>\n",
       "      <th>freq</th>\n",
       "      <td>57</td>\n",
       "      <td>1168</td>\n",
       "      <td>254</td>\n",
       "      <td>56</td>\n",
       "      <td>1029</td>\n",
       "      <td>4</td>\n",
       "    </tr>\n",
       "  </tbody>\n",
       "</table>\n",
       "</div>"
      ],
      "text/plain": [
       "       Company (Manufacturer) Company Location Country of Bean Origin  \\\n",
       "count                    2588             2588                   2588   \n",
       "unique                    593               65                     63   \n",
       "top                      Soma           U.S.A.              Venezuela   \n",
       "freq                       57             1168                    254   \n",
       "\n",
       "       Specific Bean Origin or Bar Name Ingredients  \\\n",
       "count                              2588        2501   \n",
       "unique                             1643          21   \n",
       "top                          Madagascar    3- B,S,C   \n",
       "freq                                 56        1029   \n",
       "\n",
       "       Most Memorable Characteristics  \n",
       "count                            2588  \n",
       "unique                           2545  \n",
       "top                      spicy, cocoa  \n",
       "freq                                4  "
      ]
     },
     "execution_count": 7,
     "metadata": {},
     "output_type": "execute_result"
    }
   ],
   "source": [
    "# Get summary statistics on non-numerical data\n",
    "chocolate_df.describe(include = ['O'])"
   ]
  },
  {
   "cell_type": "markdown",
   "id": "ca9ccb5c-517d-4b8d-b641-6ca86b372393",
   "metadata": {},
   "source": [
    "### Get preliminary information about USA Companies dataset"
   ]
  },
  {
   "cell_type": "code",
   "execution_count": 8,
   "id": "a75ded29-70ea-4122-a0a7-b2d825fa880d",
   "metadata": {},
   "outputs": [
    {
     "data": {
      "text/plain": [
       "(337, 4)"
      ]
     },
     "execution_count": 8,
     "metadata": {},
     "output_type": "execute_result"
    }
   ],
   "source": [
    "# Shape\n",
    "usa_companies_df.shape"
   ]
  },
  {
   "cell_type": "code",
   "execution_count": 9,
   "id": "023d7a02-1b2c-493c-904f-7cbdd664396f",
   "metadata": {},
   "outputs": [
    {
     "name": "stdout",
     "output_type": "stream",
     "text": [
      "<class 'pandas.core.frame.DataFrame'>\n",
      "RangeIndex: 337 entries, 0 to 336\n",
      "Data columns (total 4 columns):\n",
      " #   Column        Non-Null Count  Dtype \n",
      "---  ------        --------------  ----- \n",
      " 0   COMPANY NAME  337 non-null    object\n",
      " 1   CITY          337 non-null    object\n",
      " 2   STATE         337 non-null    object\n",
      " 3   OWNER/MAKER   331 non-null    object\n",
      "dtypes: object(4)\n",
      "memory usage: 10.7+ KB\n"
     ]
    }
   ],
   "source": [
    "# Information on features\n",
    "usa_companies_df.info()"
   ]
  },
  {
   "cell_type": "code",
   "execution_count": 10,
   "id": "98923376-24ed-4c9c-aff2-dbadbc6fa3eb",
   "metadata": {},
   "outputs": [
    {
     "data": {
      "text/html": [
       "<div>\n",
       "<style scoped>\n",
       "    .dataframe tbody tr th:only-of-type {\n",
       "        vertical-align: middle;\n",
       "    }\n",
       "\n",
       "    .dataframe tbody tr th {\n",
       "        vertical-align: top;\n",
       "    }\n",
       "\n",
       "    .dataframe thead th {\n",
       "        text-align: right;\n",
       "    }\n",
       "</style>\n",
       "<table border=\"1\" class=\"dataframe\">\n",
       "  <thead>\n",
       "    <tr style=\"text-align: right;\">\n",
       "      <th></th>\n",
       "      <th>COMPANY NAME</th>\n",
       "      <th>CITY</th>\n",
       "      <th>STATE</th>\n",
       "      <th>OWNER/MAKER</th>\n",
       "    </tr>\n",
       "  </thead>\n",
       "  <tbody>\n",
       "    <tr>\n",
       "      <th>count</th>\n",
       "      <td>337</td>\n",
       "      <td>337</td>\n",
       "      <td>337</td>\n",
       "      <td>331</td>\n",
       "    </tr>\n",
       "    <tr>\n",
       "      <th>unique</th>\n",
       "      <td>337</td>\n",
       "      <td>242</td>\n",
       "      <td>49</td>\n",
       "      <td>329</td>\n",
       "    </tr>\n",
       "    <tr>\n",
       "      <th>top</th>\n",
       "      <td>5150 Chocolate Co.</td>\n",
       "      <td>New York</td>\n",
       "      <td>California</td>\n",
       "      <td>Joshua Parker</td>\n",
       "    </tr>\n",
       "    <tr>\n",
       "      <th>freq</th>\n",
       "      <td>1</td>\n",
       "      <td>14</td>\n",
       "      <td>47</td>\n",
       "      <td>2</td>\n",
       "    </tr>\n",
       "  </tbody>\n",
       "</table>\n",
       "</div>"
      ],
      "text/plain": [
       "              COMPANY NAME      CITY       STATE    OWNER/MAKER\n",
       "count                  337       337         337            331\n",
       "unique                 337       242          49            329\n",
       "top     5150 Chocolate Co.  New York  California  Joshua Parker\n",
       "freq                     1        14          47              2"
      ]
     },
     "execution_count": 10,
     "metadata": {},
     "output_type": "execute_result"
    }
   ],
   "source": [
    "# Get summary statistics on non-numerical data\n",
    "usa_companies_df.describe(include = ['O'])"
   ]
  },
  {
   "cell_type": "markdown",
   "id": "6bb503eb-1c2c-46e6-9905-3d100142b11d",
   "metadata": {},
   "source": [
    "**Conclusions:**\n",
    "\n",
    "* There is only categorical data.\n",
    "* Some features will not be useful like Owner/maker."
   ]
  },
  {
   "cell_type": "markdown",
   "id": "6dfe9215-4cb6-4583-9957-ae05b210e1de",
   "metadata": {},
   "source": [
    "### Split Chocolate Ratings dataset into USA and Rest"
   ]
  },
  {
   "cell_type": "code",
   "execution_count": 11,
   "id": "f56e49af-87de-451d-a354-8ab762f07439",
   "metadata": {},
   "outputs": [],
   "source": [
    "chocolate_usa_df = chocolate_df[chocolate_df['Company Location'] == 'U.S.A.']\n",
    "chocolate_rest_df = chocolate_df[chocolate_df['Company Location'] != 'U.S.A.']"
   ]
  },
  {
   "cell_type": "code",
   "execution_count": 12,
   "id": "08b7e36a-0edd-4ffc-90c5-772c0cf845e5",
   "metadata": {},
   "outputs": [
    {
     "data": {
      "text/html": [
       "<div>\n",
       "<style scoped>\n",
       "    .dataframe tbody tr th:only-of-type {\n",
       "        vertical-align: middle;\n",
       "    }\n",
       "\n",
       "    .dataframe tbody tr th {\n",
       "        vertical-align: top;\n",
       "    }\n",
       "\n",
       "    .dataframe thead th {\n",
       "        text-align: right;\n",
       "    }\n",
       "</style>\n",
       "<table border=\"1\" class=\"dataframe\">\n",
       "  <thead>\n",
       "    <tr style=\"text-align: right;\">\n",
       "      <th></th>\n",
       "      <th>REF</th>\n",
       "      <th>Company (Manufacturer)</th>\n",
       "      <th>Company Location</th>\n",
       "      <th>Review Date</th>\n",
       "      <th>Country of Bean Origin</th>\n",
       "      <th>Specific Bean Origin or Bar Name</th>\n",
       "      <th>Cocoa Percent</th>\n",
       "      <th>Ingredients</th>\n",
       "      <th>Most Memorable Characteristics</th>\n",
       "      <th>Rating</th>\n",
       "    </tr>\n",
       "  </thead>\n",
       "  <tbody>\n",
       "    <tr>\n",
       "      <th>0</th>\n",
       "      <td>2454</td>\n",
       "      <td>5150</td>\n",
       "      <td>U.S.A.</td>\n",
       "      <td>2019</td>\n",
       "      <td>Tanzania</td>\n",
       "      <td>Kokoa Kamili, batch 1</td>\n",
       "      <td>0.76</td>\n",
       "      <td>3- B,S,C</td>\n",
       "      <td>rich cocoa, fatty, bready</td>\n",
       "      <td>3.25</td>\n",
       "    </tr>\n",
       "    <tr>\n",
       "      <th>1</th>\n",
       "      <td>2454</td>\n",
       "      <td>5150</td>\n",
       "      <td>U.S.A.</td>\n",
       "      <td>2019</td>\n",
       "      <td>Madagascar</td>\n",
       "      <td>Bejofo Estate, batch 1</td>\n",
       "      <td>0.76</td>\n",
       "      <td>3- B,S,C</td>\n",
       "      <td>cocoa, blackberry, full body</td>\n",
       "      <td>3.75</td>\n",
       "    </tr>\n",
       "    <tr>\n",
       "      <th>2</th>\n",
       "      <td>2458</td>\n",
       "      <td>5150</td>\n",
       "      <td>U.S.A.</td>\n",
       "      <td>2019</td>\n",
       "      <td>Dominican Republic</td>\n",
       "      <td>Zorzal, batch 1</td>\n",
       "      <td>0.76</td>\n",
       "      <td>3- B,S,C</td>\n",
       "      <td>cocoa, vegetal, savory</td>\n",
       "      <td>3.50</td>\n",
       "    </tr>\n",
       "    <tr>\n",
       "      <th>3</th>\n",
       "      <td>2542</td>\n",
       "      <td>5150</td>\n",
       "      <td>U.S.A.</td>\n",
       "      <td>2021</td>\n",
       "      <td>Fiji</td>\n",
       "      <td>Matasawalevu, batch 1</td>\n",
       "      <td>0.68</td>\n",
       "      <td>3- B,S,C</td>\n",
       "      <td>chewy, off, rubbery</td>\n",
       "      <td>3.00</td>\n",
       "    </tr>\n",
       "    <tr>\n",
       "      <th>4</th>\n",
       "      <td>2542</td>\n",
       "      <td>5150</td>\n",
       "      <td>U.S.A.</td>\n",
       "      <td>2021</td>\n",
       "      <td>India</td>\n",
       "      <td>Anamalai, batch 1</td>\n",
       "      <td>0.68</td>\n",
       "      <td>3- B,S,C</td>\n",
       "      <td>milk brownie, macadamia,chewy</td>\n",
       "      <td>3.50</td>\n",
       "    </tr>\n",
       "  </tbody>\n",
       "</table>\n",
       "</div>"
      ],
      "text/plain": [
       "    REF Company (Manufacturer) Company Location  Review Date  \\\n",
       "0  2454                   5150           U.S.A.         2019   \n",
       "1  2454                   5150           U.S.A.         2019   \n",
       "2  2458                   5150           U.S.A.         2019   \n",
       "3  2542                   5150           U.S.A.         2021   \n",
       "4  2542                   5150           U.S.A.         2021   \n",
       "\n",
       "  Country of Bean Origin Specific Bean Origin or Bar Name  Cocoa Percent  \\\n",
       "0               Tanzania            Kokoa Kamili, batch 1           0.76   \n",
       "1             Madagascar           Bejofo Estate, batch 1           0.76   \n",
       "2     Dominican Republic                  Zorzal, batch 1           0.76   \n",
       "3                   Fiji            Matasawalevu, batch 1           0.68   \n",
       "4                  India                Anamalai, batch 1           0.68   \n",
       "\n",
       "  Ingredients Most Memorable Characteristics  Rating  \n",
       "0    3- B,S,C      rich cocoa, fatty, bready    3.25  \n",
       "1    3- B,S,C   cocoa, blackberry, full body    3.75  \n",
       "2    3- B,S,C         cocoa, vegetal, savory    3.50  \n",
       "3    3- B,S,C            chewy, off, rubbery    3.00  \n",
       "4    3- B,S,C  milk brownie, macadamia,chewy    3.50  "
      ]
     },
     "execution_count": 12,
     "metadata": {},
     "output_type": "execute_result"
    }
   ],
   "source": [
    "chocolate_usa_df.head()"
   ]
  },
  {
   "cell_type": "code",
   "execution_count": 13,
   "id": "ba26bce0-1db9-438c-a0f7-3c9e75eaeaf2",
   "metadata": {},
   "outputs": [
    {
     "data": {
      "text/html": [
       "<div>\n",
       "<style scoped>\n",
       "    .dataframe tbody tr th:only-of-type {\n",
       "        vertical-align: middle;\n",
       "    }\n",
       "\n",
       "    .dataframe tbody tr th {\n",
       "        vertical-align: top;\n",
       "    }\n",
       "\n",
       "    .dataframe thead th {\n",
       "        text-align: right;\n",
       "    }\n",
       "</style>\n",
       "<table border=\"1\" class=\"dataframe\">\n",
       "  <thead>\n",
       "    <tr style=\"text-align: right;\">\n",
       "      <th></th>\n",
       "      <th>REF</th>\n",
       "      <th>Company (Manufacturer)</th>\n",
       "      <th>Company Location</th>\n",
       "      <th>Review Date</th>\n",
       "      <th>Country of Bean Origin</th>\n",
       "      <th>Specific Bean Origin or Bar Name</th>\n",
       "      <th>Cocoa Percent</th>\n",
       "      <th>Ingredients</th>\n",
       "      <th>Most Memorable Characteristics</th>\n",
       "      <th>Rating</th>\n",
       "    </tr>\n",
       "  </thead>\n",
       "  <tbody>\n",
       "    <tr>\n",
       "      <th>7</th>\n",
       "      <td>797</td>\n",
       "      <td>A. Morin</td>\n",
       "      <td>France</td>\n",
       "      <td>2012</td>\n",
       "      <td>Bolivia</td>\n",
       "      <td>Bolivia</td>\n",
       "      <td>0.70</td>\n",
       "      <td>4- B,S,C,L</td>\n",
       "      <td>vegetal, nutty</td>\n",
       "      <td>3.50</td>\n",
       "    </tr>\n",
       "    <tr>\n",
       "      <th>8</th>\n",
       "      <td>797</td>\n",
       "      <td>A. Morin</td>\n",
       "      <td>France</td>\n",
       "      <td>2012</td>\n",
       "      <td>Peru</td>\n",
       "      <td>Peru</td>\n",
       "      <td>0.63</td>\n",
       "      <td>4- B,S,C,L</td>\n",
       "      <td>fruity, melon, roasty</td>\n",
       "      <td>3.75</td>\n",
       "    </tr>\n",
       "    <tr>\n",
       "      <th>9</th>\n",
       "      <td>1011</td>\n",
       "      <td>A. Morin</td>\n",
       "      <td>France</td>\n",
       "      <td>2013</td>\n",
       "      <td>Panama</td>\n",
       "      <td>Panama</td>\n",
       "      <td>0.70</td>\n",
       "      <td>4- B,S,C,L</td>\n",
       "      <td>brief fruit note, earthy, nutty</td>\n",
       "      <td>2.75</td>\n",
       "    </tr>\n",
       "    <tr>\n",
       "      <th>10</th>\n",
       "      <td>1011</td>\n",
       "      <td>A. Morin</td>\n",
       "      <td>France</td>\n",
       "      <td>2013</td>\n",
       "      <td>Madagascar</td>\n",
       "      <td>Madagascar, Criollo</td>\n",
       "      <td>0.70</td>\n",
       "      <td>4- B,S,C,L</td>\n",
       "      <td>sticky, red fruit, sour</td>\n",
       "      <td>3.00</td>\n",
       "    </tr>\n",
       "    <tr>\n",
       "      <th>11</th>\n",
       "      <td>1011</td>\n",
       "      <td>A. Morin</td>\n",
       "      <td>France</td>\n",
       "      <td>2013</td>\n",
       "      <td>Brazil</td>\n",
       "      <td>Brazil</td>\n",
       "      <td>0.70</td>\n",
       "      <td>4- B,S,C,L</td>\n",
       "      <td>mild tobacco</td>\n",
       "      <td>3.25</td>\n",
       "    </tr>\n",
       "  </tbody>\n",
       "</table>\n",
       "</div>"
      ],
      "text/plain": [
       "     REF Company (Manufacturer) Company Location  Review Date  \\\n",
       "7    797               A. Morin           France         2012   \n",
       "8    797               A. Morin           France         2012   \n",
       "9   1011               A. Morin           France         2013   \n",
       "10  1011               A. Morin           France         2013   \n",
       "11  1011               A. Morin           France         2013   \n",
       "\n",
       "   Country of Bean Origin Specific Bean Origin or Bar Name  Cocoa Percent  \\\n",
       "7                 Bolivia                          Bolivia           0.70   \n",
       "8                    Peru                             Peru           0.63   \n",
       "9                  Panama                           Panama           0.70   \n",
       "10             Madagascar              Madagascar, Criollo           0.70   \n",
       "11                 Brazil                           Brazil           0.70   \n",
       "\n",
       "   Ingredients   Most Memorable Characteristics  Rating  \n",
       "7   4- B,S,C,L                   vegetal, nutty    3.50  \n",
       "8   4- B,S,C,L            fruity, melon, roasty    3.75  \n",
       "9   4- B,S,C,L  brief fruit note, earthy, nutty    2.75  \n",
       "10  4- B,S,C,L          sticky, red fruit, sour    3.00  \n",
       "11  4- B,S,C,L                     mild tobacco    3.25  "
      ]
     },
     "execution_count": 13,
     "metadata": {},
     "output_type": "execute_result"
    }
   ],
   "source": [
    "chocolate_rest_df.head()"
   ]
  },
  {
   "cell_type": "markdown",
   "id": "3aaafa46-1739-4dea-8c7b-3dfd133e2fcc",
   "metadata": {},
   "source": [
    "### Merge USA Chocolate Ratings with USA Companies Dataset"
   ]
  },
  {
   "cell_type": "code",
   "execution_count": 29,
   "id": "e5c3f6d2-cdcf-4e85-b36c-5026204aee45",
   "metadata": {},
   "outputs": [
    {
     "ename": "TypeError",
     "evalue": "expected string or bytes-like object",
     "output_type": "error",
     "traceback": [
      "\u001b[1;31m---------------------------------------------------------------------------\u001b[0m",
      "\u001b[1;31mTypeError\u001b[0m                                 Traceback (most recent call last)",
      "Input \u001b[1;32mIn [29]\u001b[0m, in \u001b[0;36m<cell line: 5>\u001b[1;34m()\u001b[0m\n\u001b[0;32m      1\u001b[0m \u001b[38;5;28;01mfrom\u001b[39;00m \u001b[38;5;21;01mfuzzywuzzy\u001b[39;00m \u001b[38;5;28;01mimport\u001b[39;00m process\n\u001b[0;32m      3\u001b[0m companies \u001b[38;5;241m=\u001b[39m usa_companies_df[\u001b[38;5;124m'\u001b[39m\u001b[38;5;124mCOMPANY NAME\u001b[39m\u001b[38;5;124m'\u001b[39m]\u001b[38;5;241m.\u001b[39mtolist()\n\u001b[1;32m----> 5\u001b[0m chocolate_usa_df[\u001b[38;5;124m'\u001b[39m\u001b[38;5;124mmatches\u001b[39m\u001b[38;5;124m'\u001b[39m] \u001b[38;5;241m=\u001b[39m \u001b[43mchocolate_usa_df\u001b[49m\u001b[43m[\u001b[49m\u001b[38;5;124;43m'\u001b[39;49m\u001b[38;5;124;43mCompany (Manufacturer)\u001b[39;49m\u001b[38;5;124;43m'\u001b[39;49m\u001b[43m]\u001b[49m\u001b[38;5;241;43m.\u001b[39;49m\u001b[43mapply\u001b[49m\u001b[43m(\u001b[49m\u001b[38;5;28;43;01mlambda\u001b[39;49;00m\u001b[43m \u001b[49m\u001b[43mx\u001b[49m\u001b[43m:\u001b[49m\u001b[43m \u001b[49m\u001b[43mprocess\u001b[49m\u001b[38;5;241;43m.\u001b[39;49m\u001b[43mextractOne\u001b[49m\u001b[43m(\u001b[49m\u001b[43mx\u001b[49m\u001b[43m,\u001b[49m\u001b[43m \u001b[49m\u001b[43mcompanies\u001b[49m\u001b[43m)\u001b[49m\u001b[43m)\u001b[49m\n\u001b[0;32m      7\u001b[0m chocolate_usa_df\u001b[38;5;241m.\u001b[39mhead()\n",
      "File \u001b[1;32m~\\anaconda3\\lib\\site-packages\\pandas\\core\\series.py:4433\u001b[0m, in \u001b[0;36mSeries.apply\u001b[1;34m(self, func, convert_dtype, args, **kwargs)\u001b[0m\n\u001b[0;32m   4323\u001b[0m \u001b[38;5;28;01mdef\u001b[39;00m \u001b[38;5;21mapply\u001b[39m(\n\u001b[0;32m   4324\u001b[0m     \u001b[38;5;28mself\u001b[39m,\n\u001b[0;32m   4325\u001b[0m     func: AggFuncType,\n\u001b[1;32m   (...)\u001b[0m\n\u001b[0;32m   4328\u001b[0m     \u001b[38;5;241m*\u001b[39m\u001b[38;5;241m*\u001b[39mkwargs,\n\u001b[0;32m   4329\u001b[0m ) \u001b[38;5;241m-\u001b[39m\u001b[38;5;241m>\u001b[39m DataFrame \u001b[38;5;241m|\u001b[39m Series:\n\u001b[0;32m   4330\u001b[0m     \u001b[38;5;124;03m\"\"\"\u001b[39;00m\n\u001b[0;32m   4331\u001b[0m \u001b[38;5;124;03m    Invoke function on values of Series.\u001b[39;00m\n\u001b[0;32m   4332\u001b[0m \n\u001b[1;32m   (...)\u001b[0m\n\u001b[0;32m   4431\u001b[0m \u001b[38;5;124;03m    dtype: float64\u001b[39;00m\n\u001b[0;32m   4432\u001b[0m \u001b[38;5;124;03m    \"\"\"\u001b[39;00m\n\u001b[1;32m-> 4433\u001b[0m     \u001b[38;5;28;01mreturn\u001b[39;00m \u001b[43mSeriesApply\u001b[49m\u001b[43m(\u001b[49m\u001b[38;5;28;43mself\u001b[39;49m\u001b[43m,\u001b[49m\u001b[43m \u001b[49m\u001b[43mfunc\u001b[49m\u001b[43m,\u001b[49m\u001b[43m \u001b[49m\u001b[43mconvert_dtype\u001b[49m\u001b[43m,\u001b[49m\u001b[43m \u001b[49m\u001b[43margs\u001b[49m\u001b[43m,\u001b[49m\u001b[43m \u001b[49m\u001b[43mkwargs\u001b[49m\u001b[43m)\u001b[49m\u001b[38;5;241;43m.\u001b[39;49m\u001b[43mapply\u001b[49m\u001b[43m(\u001b[49m\u001b[43m)\u001b[49m\n",
      "File \u001b[1;32m~\\anaconda3\\lib\\site-packages\\pandas\\core\\apply.py:1082\u001b[0m, in \u001b[0;36mSeriesApply.apply\u001b[1;34m(self)\u001b[0m\n\u001b[0;32m   1078\u001b[0m \u001b[38;5;28;01mif\u001b[39;00m \u001b[38;5;28misinstance\u001b[39m(\u001b[38;5;28mself\u001b[39m\u001b[38;5;241m.\u001b[39mf, \u001b[38;5;28mstr\u001b[39m):\n\u001b[0;32m   1079\u001b[0m     \u001b[38;5;66;03m# if we are a string, try to dispatch\u001b[39;00m\n\u001b[0;32m   1080\u001b[0m     \u001b[38;5;28;01mreturn\u001b[39;00m \u001b[38;5;28mself\u001b[39m\u001b[38;5;241m.\u001b[39mapply_str()\n\u001b[1;32m-> 1082\u001b[0m \u001b[38;5;28;01mreturn\u001b[39;00m \u001b[38;5;28;43mself\u001b[39;49m\u001b[38;5;241;43m.\u001b[39;49m\u001b[43mapply_standard\u001b[49m\u001b[43m(\u001b[49m\u001b[43m)\u001b[49m\n",
      "File \u001b[1;32m~\\anaconda3\\lib\\site-packages\\pandas\\core\\apply.py:1137\u001b[0m, in \u001b[0;36mSeriesApply.apply_standard\u001b[1;34m(self)\u001b[0m\n\u001b[0;32m   1131\u001b[0m         values \u001b[38;5;241m=\u001b[39m obj\u001b[38;5;241m.\u001b[39mastype(\u001b[38;5;28mobject\u001b[39m)\u001b[38;5;241m.\u001b[39m_values\n\u001b[0;32m   1132\u001b[0m         \u001b[38;5;66;03m# error: Argument 2 to \"map_infer\" has incompatible type\u001b[39;00m\n\u001b[0;32m   1133\u001b[0m         \u001b[38;5;66;03m# \"Union[Callable[..., Any], str, List[Union[Callable[..., Any], str]],\u001b[39;00m\n\u001b[0;32m   1134\u001b[0m         \u001b[38;5;66;03m# Dict[Hashable, Union[Union[Callable[..., Any], str],\u001b[39;00m\n\u001b[0;32m   1135\u001b[0m         \u001b[38;5;66;03m# List[Union[Callable[..., Any], str]]]]]\"; expected\u001b[39;00m\n\u001b[0;32m   1136\u001b[0m         \u001b[38;5;66;03m# \"Callable[[Any], Any]\"\u001b[39;00m\n\u001b[1;32m-> 1137\u001b[0m         mapped \u001b[38;5;241m=\u001b[39m \u001b[43mlib\u001b[49m\u001b[38;5;241;43m.\u001b[39;49m\u001b[43mmap_infer\u001b[49m\u001b[43m(\u001b[49m\n\u001b[0;32m   1138\u001b[0m \u001b[43m            \u001b[49m\u001b[43mvalues\u001b[49m\u001b[43m,\u001b[49m\n\u001b[0;32m   1139\u001b[0m \u001b[43m            \u001b[49m\u001b[43mf\u001b[49m\u001b[43m,\u001b[49m\u001b[43m  \u001b[49m\u001b[38;5;66;43;03m# type: ignore[arg-type]\u001b[39;49;00m\n\u001b[0;32m   1140\u001b[0m \u001b[43m            \u001b[49m\u001b[43mconvert\u001b[49m\u001b[38;5;241;43m=\u001b[39;49m\u001b[38;5;28;43mself\u001b[39;49m\u001b[38;5;241;43m.\u001b[39;49m\u001b[43mconvert_dtype\u001b[49m\u001b[43m,\u001b[49m\n\u001b[0;32m   1141\u001b[0m \u001b[43m        \u001b[49m\u001b[43m)\u001b[49m\n\u001b[0;32m   1143\u001b[0m \u001b[38;5;28;01mif\u001b[39;00m \u001b[38;5;28mlen\u001b[39m(mapped) \u001b[38;5;129;01mand\u001b[39;00m \u001b[38;5;28misinstance\u001b[39m(mapped[\u001b[38;5;241m0\u001b[39m], ABCSeries):\n\u001b[0;32m   1144\u001b[0m     \u001b[38;5;66;03m# GH#43986 Need to do list(mapped) in order to get treated as nested\u001b[39;00m\n\u001b[0;32m   1145\u001b[0m     \u001b[38;5;66;03m#  See also GH#25959 regarding EA support\u001b[39;00m\n\u001b[0;32m   1146\u001b[0m     \u001b[38;5;28;01mreturn\u001b[39;00m obj\u001b[38;5;241m.\u001b[39m_constructor_expanddim(\u001b[38;5;28mlist\u001b[39m(mapped), index\u001b[38;5;241m=\u001b[39mobj\u001b[38;5;241m.\u001b[39mindex)\n",
      "File \u001b[1;32m~\\anaconda3\\lib\\site-packages\\pandas\\_libs\\lib.pyx:2870\u001b[0m, in \u001b[0;36mpandas._libs.lib.map_infer\u001b[1;34m()\u001b[0m\n",
      "Input \u001b[1;32mIn [29]\u001b[0m, in \u001b[0;36m<lambda>\u001b[1;34m(x)\u001b[0m\n\u001b[0;32m      1\u001b[0m \u001b[38;5;28;01mfrom\u001b[39;00m \u001b[38;5;21;01mfuzzywuzzy\u001b[39;00m \u001b[38;5;28;01mimport\u001b[39;00m process\n\u001b[0;32m      3\u001b[0m companies \u001b[38;5;241m=\u001b[39m usa_companies_df[\u001b[38;5;124m'\u001b[39m\u001b[38;5;124mCOMPANY NAME\u001b[39m\u001b[38;5;124m'\u001b[39m]\u001b[38;5;241m.\u001b[39mtolist()\n\u001b[1;32m----> 5\u001b[0m chocolate_usa_df[\u001b[38;5;124m'\u001b[39m\u001b[38;5;124mmatches\u001b[39m\u001b[38;5;124m'\u001b[39m] \u001b[38;5;241m=\u001b[39m chocolate_usa_df[\u001b[38;5;124m'\u001b[39m\u001b[38;5;124mCompany (Manufacturer)\u001b[39m\u001b[38;5;124m'\u001b[39m]\u001b[38;5;241m.\u001b[39mapply(\u001b[38;5;28;01mlambda\u001b[39;00m x: \u001b[43mprocess\u001b[49m\u001b[38;5;241;43m.\u001b[39;49m\u001b[43mextractOne\u001b[49m\u001b[43m(\u001b[49m\u001b[43mx\u001b[49m\u001b[43m,\u001b[49m\u001b[43m \u001b[49m\u001b[43mcompanies\u001b[49m\u001b[43m)\u001b[49m)\n\u001b[0;32m      7\u001b[0m chocolate_usa_df\u001b[38;5;241m.\u001b[39mhead()\n",
      "File \u001b[1;32m~\\anaconda3\\lib\\site-packages\\fuzzywuzzy\\process.py:220\u001b[0m, in \u001b[0;36mextractOne\u001b[1;34m(query, choices, processor, scorer, score_cutoff)\u001b[0m\n\u001b[0;32m    218\u001b[0m best_list \u001b[38;5;241m=\u001b[39m extractWithoutOrder(query, choices, processor, scorer, score_cutoff)\n\u001b[0;32m    219\u001b[0m \u001b[38;5;28;01mtry\u001b[39;00m:\n\u001b[1;32m--> 220\u001b[0m     \u001b[38;5;28;01mreturn\u001b[39;00m \u001b[38;5;28;43mmax\u001b[39;49m\u001b[43m(\u001b[49m\u001b[43mbest_list\u001b[49m\u001b[43m,\u001b[49m\u001b[43m \u001b[49m\u001b[43mkey\u001b[49m\u001b[38;5;241;43m=\u001b[39;49m\u001b[38;5;28;43;01mlambda\u001b[39;49;00m\u001b[43m \u001b[49m\u001b[43mi\u001b[49m\u001b[43m:\u001b[49m\u001b[43m \u001b[49m\u001b[43mi\u001b[49m\u001b[43m[\u001b[49m\u001b[38;5;241;43m1\u001b[39;49m\u001b[43m]\u001b[49m\u001b[43m)\u001b[49m\n\u001b[0;32m    221\u001b[0m \u001b[38;5;28;01mexcept\u001b[39;00m \u001b[38;5;167;01mValueError\u001b[39;00m:\n\u001b[0;32m    222\u001b[0m     \u001b[38;5;28;01mreturn\u001b[39;00m \u001b[38;5;28;01mNone\u001b[39;00m\n",
      "File \u001b[1;32m~\\anaconda3\\lib\\site-packages\\fuzzywuzzy\\process.py:78\u001b[0m, in \u001b[0;36mextractWithoutOrder\u001b[1;34m(query, choices, processor, scorer, score_cutoff)\u001b[0m\n\u001b[0;32m     75\u001b[0m     processor \u001b[38;5;241m=\u001b[39m no_process\n\u001b[0;32m     77\u001b[0m \u001b[38;5;66;03m# Run the processor on the input query.\u001b[39;00m\n\u001b[1;32m---> 78\u001b[0m processed_query \u001b[38;5;241m=\u001b[39m \u001b[43mprocessor\u001b[49m\u001b[43m(\u001b[49m\u001b[43mquery\u001b[49m\u001b[43m)\u001b[49m\n\u001b[0;32m     80\u001b[0m \u001b[38;5;28;01mif\u001b[39;00m \u001b[38;5;28mlen\u001b[39m(processed_query) \u001b[38;5;241m==\u001b[39m \u001b[38;5;241m0\u001b[39m:\n\u001b[0;32m     81\u001b[0m     logging\u001b[38;5;241m.\u001b[39mwarning(\u001b[38;5;124mu\u001b[39m\u001b[38;5;124m\"\u001b[39m\u001b[38;5;124mApplied processor reduces input query to empty string, \u001b[39m\u001b[38;5;124m\"\u001b[39m\n\u001b[0;32m     82\u001b[0m                     \u001b[38;5;124m\"\u001b[39m\u001b[38;5;124mall comparisons will have score 0. \u001b[39m\u001b[38;5;124m\"\u001b[39m\n\u001b[0;32m     83\u001b[0m                     \u001b[38;5;124m\"\u001b[39m\u001b[38;5;124m[Query: \u001b[39m\u001b[38;5;130;01m\\'\u001b[39;00m\u001b[38;5;132;01m{0}\u001b[39;00m\u001b[38;5;130;01m\\'\u001b[39;00m\u001b[38;5;124m]\u001b[39m\u001b[38;5;124m\"\u001b[39m\u001b[38;5;241m.\u001b[39mformat(query))\n",
      "File \u001b[1;32m~\\anaconda3\\lib\\site-packages\\fuzzywuzzy\\utils.py:95\u001b[0m, in \u001b[0;36mfull_process\u001b[1;34m(s, force_ascii)\u001b[0m\n\u001b[0;32m     93\u001b[0m     s \u001b[38;5;241m=\u001b[39m asciidammit(s)\n\u001b[0;32m     94\u001b[0m \u001b[38;5;66;03m# Keep only Letters and Numbers (see Unicode docs).\u001b[39;00m\n\u001b[1;32m---> 95\u001b[0m string_out \u001b[38;5;241m=\u001b[39m \u001b[43mStringProcessor\u001b[49m\u001b[38;5;241;43m.\u001b[39;49m\u001b[43mreplace_non_letters_non_numbers_with_whitespace\u001b[49m\u001b[43m(\u001b[49m\u001b[43ms\u001b[49m\u001b[43m)\u001b[49m\n\u001b[0;32m     96\u001b[0m \u001b[38;5;66;03m# Force into lowercase.\u001b[39;00m\n\u001b[0;32m     97\u001b[0m string_out \u001b[38;5;241m=\u001b[39m StringProcessor\u001b[38;5;241m.\u001b[39mto_lower_case(string_out)\n",
      "File \u001b[1;32m~\\anaconda3\\lib\\site-packages\\fuzzywuzzy\\string_processing.py:26\u001b[0m, in \u001b[0;36mStringProcessor.replace_non_letters_non_numbers_with_whitespace\u001b[1;34m(cls, a_string)\u001b[0m\n\u001b[0;32m     20\u001b[0m \u001b[38;5;129m@classmethod\u001b[39m\n\u001b[0;32m     21\u001b[0m \u001b[38;5;28;01mdef\u001b[39;00m \u001b[38;5;21mreplace_non_letters_non_numbers_with_whitespace\u001b[39m(\u001b[38;5;28mcls\u001b[39m, a_string):\n\u001b[0;32m     22\u001b[0m     \u001b[38;5;124;03m\"\"\"\u001b[39;00m\n\u001b[0;32m     23\u001b[0m \u001b[38;5;124;03m    This function replaces any sequence of non letters and non\u001b[39;00m\n\u001b[0;32m     24\u001b[0m \u001b[38;5;124;03m    numbers with a single white space.\u001b[39;00m\n\u001b[0;32m     25\u001b[0m \u001b[38;5;124;03m    \"\"\"\u001b[39;00m\n\u001b[1;32m---> 26\u001b[0m     \u001b[38;5;28;01mreturn\u001b[39;00m \u001b[38;5;28;43mcls\u001b[39;49m\u001b[38;5;241;43m.\u001b[39;49m\u001b[43mregex\u001b[49m\u001b[38;5;241;43m.\u001b[39;49m\u001b[43msub\u001b[49m\u001b[43m(\u001b[49m\u001b[38;5;124;43m\"\u001b[39;49m\u001b[38;5;124;43m \u001b[39;49m\u001b[38;5;124;43m\"\u001b[39;49m\u001b[43m,\u001b[49m\u001b[43m \u001b[49m\u001b[43ma_string\u001b[49m\u001b[43m)\u001b[49m\n",
      "\u001b[1;31mTypeError\u001b[0m: expected string or bytes-like object"
     ]
    }
   ],
   "source": [
    "from fuzzywuzzy import process\n",
    "\n",
    "companies = usa_companies_df['COMPANY NAME'].tolist()\n",
    "\n",
    "chocolate_usa_df['matches'] = chocolate_usa_df['Company (Manufacturer)'].apply(lambda x: process.extractOne(x, companies))\n",
    "\n",
    "chocolate_usa_df.head()"
   ]
  },
  {
   "cell_type": "code",
   "execution_count": null,
   "id": "8530ab14-c74c-48de-af80-3a1fad2f3ef8",
   "metadata": {},
   "outputs": [],
   "source": [
    "for j in dframe1['matches']:\n",
    "    for k in j:\n",
    "        \n",
    "        if k[1] >= threshold:\n",
    "            p.append(k[0])\n",
    "              \n",
    "    mat2.append(\",\".join(p))\n",
    "    p = []\n",
    "      \n",
    "# storing the resultant matches \n",
    "# back to dframe1\n",
    "dframe1['matches'] = mat2\n",
    "  \n",
    "dframe1.show()"
   ]
  },
  {
   "cell_type": "markdown",
   "id": "b733114d-cdc1-40c4-a332-be4de66444a6",
   "metadata": {},
   "source": [
    "### Graphical Analysis"
   ]
  },
  {
   "cell_type": "code",
   "execution_count": null,
   "id": "44af4de6-ae4c-460e-8c05-0c9bb60f0c8c",
   "metadata": {},
   "outputs": [],
   "source": [
    "# Create histograms of numerical data\n",
    "\n",
    "# Create figure\n",
    "fig, axes = plt.subplots(1, 2, layout = 'constrained')\n",
    "\n",
    "# Specify features interested in\n",
    "num_features = ['Cocoa Percent', 'Rating']\n",
    "x_axes = num_features\n",
    "y_axes = ['Count', 'Count']\n",
    "\n",
    "# Create histograms\n",
    "axes = np.ravel(axes)\n",
    "\n",
    "for idx, ax in enumerate(axes):\n",
    "    ax.hist(chocolate_df[num_features[idx]].dropna(), bins = 10)\n",
    "    ax.set_xlabel(x_axes[idx], fontsize = 20)\n",
    "    ax.set_ylabel(y_axes[idx], fontsize = 20)\n",
    "    ax.tick_params(axis = 'both', labelsize = 15)\n",
    "    \n",
    "plt.show()"
   ]
  },
  {
   "cell_type": "markdown",
   "id": "2b20c344-1140-4be8-b2fd-d0dcee778c49",
   "metadata": {},
   "source": [
    "**Conclusions:**\n",
    "\n",
    "Cocoa Percent appears to be a normal distribution but Rating is heavily skewed left."
   ]
  },
  {
   "cell_type": "code",
   "execution_count": null,
   "id": "9ce71adc-6843-4c98-8bef-c2af9f42fc7c",
   "metadata": {},
   "outputs": [],
   "source": [
    "# Bar charts of some of the categorical features\n",
    "\n",
    "#create a copy of the data frame for use with graphing\n",
    "chocolate_plots = chocolate_df.copy()"
   ]
  },
  {
   "cell_type": "code",
   "execution_count": null,
   "id": "4acda0d6-dfd6-4ad9-9818-45c010b6a568",
   "metadata": {},
   "outputs": [],
   "source": [
    "# Convert Ratings to ranking\n",
    "chocolate_plots.loc[chocolate_plots.Rating <= 5, 'Rank'] = 'Outstanding'\n",
    "chocolate_plots.loc[chocolate_plots.Rating <= 3.9, 'Rank'] = 'Highly Recommended'\n",
    "chocolate_plots.loc[chocolate_plots.Rating <= 3.49, 'Rank'] = 'Recommended'\n",
    "chocolate_plots.loc[chocolate_plots.Rating <= 2.9, 'Rank'] = 'Disappointing'\n",
    "chocolate_plots.loc[chocolate_plots.Rating <= 1.9, 'Rank'] = 'Unpleasant'\n",
    "\n",
    "chocolate_plots.head()"
   ]
  },
  {
   "cell_type": "code",
   "execution_count": null,
   "id": "5a1f9fd1-b855-4212-a917-f7ebfeacecbb",
   "metadata": {},
   "outputs": [],
   "source": [
    "# Count of Ratings\n",
    "fig, ax = plt.subplots(1, 1, figsize = (12, 5), layout = 'constrained')\n",
    "\n",
    "# make the data read to feed into the visulizer\n",
    "X_Rankings = chocolate_plots.groupby('Rank').size().reset_index(name = 'Counts')['Rank']\n",
    "Y_Rankings = chocolate_plots.groupby('Rank').size().reset_index(name = 'Counts')['Counts']\n",
    "\n",
    "# make the bar plot\n",
    "ax.bar(X_Rankings, Y_Rankings)\n",
    "ax.set_title('Ratings', fontsize = 25)\n",
    "ax.set_ylabel('Counts', fontsize = 20)\n",
    "ax.tick_params(axis='both', labelsize = 15)"
   ]
  },
  {
   "cell_type": "markdown",
   "id": "27c32887-6ae9-4094-9722-d2aa3ed63362",
   "metadata": {},
   "source": [
    "**Conclusions:**\n",
    "\n",
    "* There are more Recommended and Highly Recommended chocolates with minimal Outstanding and Unpleasant."
   ]
  },
  {
   "cell_type": "code",
   "execution_count": null,
   "id": "5651908b-78d4-4fc5-ac29-97c15880a29e",
   "metadata": {},
   "outputs": [],
   "source": [
    "# Count of Countries\n",
    "fig, ax = plt.subplots(1, 1, figsize = (14, 8), layout = 'constrained')\n",
    "\n",
    "# make the data read to feed into the visulizer\n",
    "X_Locations = chocolate_plots.groupby('Company Location').size().reset_index(name='Counts')['Company Location']\n",
    "Y_Locations = chocolate_plots.groupby('Company Location').size().reset_index(name='Counts')['Counts']\n",
    "\n",
    "# make the bar plot\n",
    "ax.bar(X_Locations, Y_Locations)\n",
    "ax.set_xticks(X_Locations)\n",
    "ax.set_xticklabels(X_Locations, rotation = 90)\n",
    "ax.set_title('Company Locations', fontsize = 18)\n",
    "ax.set_ylabel('Counts', fontsize = 20)\n",
    "ax.tick_params(axis='both', labelsize = 12)"
   ]
  },
  {
   "cell_type": "markdown",
   "id": "4f7db4b2-cb2d-4b77-a2e0-ab49c07a326e",
   "metadata": {},
   "source": [
    "**Conclusions:**\n",
    "\n",
    "* There are significantly more companies from the United States in this dataset."
   ]
  },
  {
   "cell_type": "code",
   "execution_count": null,
   "id": "24068fb4-e274-4a82-bce9-71df12eaf1aa",
   "metadata": {},
   "outputs": [],
   "source": [
    "# Count of Country of Bean Origin\n",
    "fig, ax = plt.subplots(1, 1, figsize = (14, 8), layout = 'constrained')\n",
    "\n",
    "# make the data read to feed into the visulizer\n",
    "X_Origin = chocolate_plots.groupby('Country of Bean Origin').size().reset_index(name='Counts')['Country of Bean Origin']\n",
    "Y_Origin = chocolate_plots.groupby('Country of Bean Origin').size().reset_index(name='Counts')['Counts']\n",
    "\n",
    "# make the bar plot\n",
    "ax.bar(X_Origin, Y_Origin)\n",
    "ax.set_xticks(X_Origin)\n",
    "ax.set_xticklabels(X_Origin, rotation = 90)\n",
    "ax.set_title('Bean Origin', fontsize = 18)\n",
    "ax.set_ylabel('Counts', fontsize = 20)\n",
    "ax.tick_params(axis='both', labelsize = 12)"
   ]
  },
  {
   "cell_type": "markdown",
   "id": "6073cb9f-96a3-427c-830b-1a0f7386f458",
   "metadata": {},
   "source": [
    "**Conclusions:**\n",
    "* Venezuela, Peru, Dominican Republic, Ecuador, and Madagascar are the top producers of cacao beans to companies making chocolates."
   ]
  },
  {
   "cell_type": "code",
   "execution_count": null,
   "id": "c97d1f43-cdd0-4dee-8f20-7cace3813087",
   "metadata": {},
   "outputs": [],
   "source": [
    "# Most frequent words in the Characteristics\n",
    "\n",
    "word_string = \" \".join(chocolate_df['Most Memorable Characteristics'].str.lower())\n",
    "\n",
    "plt.figure(figsize=(15,15))\n",
    "\n",
    "word_cloud = WordCloud(background_color = \"black\", width=1600, height=800)\n",
    "word_cloud.generate(word_string)\n",
    "\n",
    "plt.imshow(word_cloud.recolor(colormap = 'viridis' , random_state = 17), interpolation=\"bilinear\")\n",
    "plt.axis('off')"
   ]
  },
  {
   "cell_type": "markdown",
   "id": "aba82e31-8a43-4419-94de-20058b1f15f3",
   "metadata": {},
   "source": [
    "**Conclusions:**\n",
    "* Not looking at the other features, it looks like cocoa, nutty, sweet, earthy, creamy, and sour seem to characterize the companies chocolate the most."
   ]
  },
  {
   "cell_type": "code",
   "execution_count": null,
   "id": "caab7b40-cc62-4d2f-8adb-a7d57c340af6",
   "metadata": {},
   "outputs": [],
   "source": []
  }
 ],
 "metadata": {
  "kernelspec": {
   "display_name": "Python 3 (ipykernel)",
   "language": "python",
   "name": "python3"
  },
  "language_info": {
   "codemirror_mode": {
    "name": "ipython",
    "version": 3
   },
   "file_extension": ".py",
   "mimetype": "text/x-python",
   "name": "python",
   "nbconvert_exporter": "python",
   "pygments_lexer": "ipython3",
   "version": "3.8.8"
  }
 },
 "nbformat": 4,
 "nbformat_minor": 5
}
