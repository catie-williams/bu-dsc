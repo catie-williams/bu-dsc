{
 "cells": [
  {
   "cell_type": "markdown",
   "id": "7957448c-1609-4fae-8339-65e52759f386",
   "metadata": {},
   "source": [
    "# DSC 550 \n",
    "\n",
    "### Term Paper:  Chocolate!\n",
    "\n",
    "Author: Kimberly Cable<br>\n",
    "Term: Summer, 2022"
   ]
  },
  {
   "cell_type": "markdown",
   "id": "d77af04c-8380-476e-8c2b-4ea6b6260955",
   "metadata": {},
   "source": [
    "## Milestone 1: Data Selection and EDA"
   ]
  },
  {
   "cell_type": "markdown",
   "id": "a27130f2-88a2-4c07-ba99-15bd37a84e48",
   "metadata": {},
   "source": [
    "### About:"
   ]
  },
  {
   "cell_type": "markdown",
   "id": "30b0addf-08c7-4e08-842d-0407418db8c9",
   "metadata": {},
   "source": [
    "Chocolate.  Who doesn't like it? It's been around since the 19th century BCE.  But what makes chocolate highly desirable?  In this study, I hope to gain that insight."
   ]
  },
  {
   "cell_type": "markdown",
   "id": "7669f9bb-4d6a-4f84-87d7-5a33a7d9e294",
   "metadata": {},
   "source": [
    "### References"
   ]
  },
  {
   "cell_type": "markdown",
   "id": "9cb7941f-73db-4203-8dee-15f7fd191f0a",
   "metadata": {},
   "source": [
    "Manhattan Chocolate Society, Flavors of Cacao [Internet]. Available from: http://flavorsofcacao.com/"
   ]
  },
  {
   "cell_type": "markdown",
   "id": "4b3ab92f-82c8-414f-8f8d-b956c9451e13",
   "metadata": {},
   "source": [
    "### Plan of Attack:"
   ]
  },
  {
   "cell_type": "markdown",
   "id": "ef27d2cf-3c0e-48a4-b4e2-fe1b0e556533",
   "metadata": {},
   "source": [
    "Chocolate is loved by many.  But what makes good chocolate?  Chocolatiers and home cooks alike make and use chocolate.  Knowing what  brands and countries to get good chocolate could make or break a recipe.\n",
    "\n",
    "The data I will use comes from the Flavors of Cacao website and their Chocolate Bar Ratings table. The data includes features such as cocoa content, where it was made, bean origin, the number of ingredients, and its characteristics and rating.\n",
    "\n",
    "I plan to look to see if I can predict the ratings for chocolate and if the characteristics play a part in good chocolate.\n",
    "\n",
    "I do not see any ethical implications for my study but it does have subjective attributes that some may disagree with.\n",
    "\n",
    "Some of the challenges I see are cleaning the dataset and separating out some of the columns. Also, the model building may be a challenge as I have never used these methods before."
   ]
  },
  {
   "cell_type": "markdown",
   "id": "cf62b1d7-0866-4f9a-8421-15d668a04c88",
   "metadata": {},
   "source": [
    "### Data Dictionary:"
   ]
  },
  {
   "cell_type": "markdown",
   "id": "a749febd-bf0f-4fd9-b7b8-d25bd09c1493",
   "metadata": {},
   "source": [
    "1. **REF:** Reference number\n",
    "2. **Company(Manufacturer):** Company that made the chocolate\n",
    "3. **Company Location:** Location of the Company (country)\n",
    "4. **Review Date:** Year the chocolate was reviewed\n",
    "5. **Country of Bean Origin:** Country the bean originated in\n",
    "6. **Specific Bean Origin or Bar Name:** Specifics of the bean origin and/or batch\n",
    "7. **Cocoa Percent:** Percentage of cocoa in chocolate\n",
    "8. **Ingredients:** Number and ingredients\n",
    "    B: Beans\n",
    "    S: Sugar\n",
    "    S*: Sweetener other than white cane or beet sugar\n",
    "    C: Cocoa Butter\n",
    "    V: Vanilla\n",
    "    L: Lecithin\n",
    "    Sa: Salt\n",
    "9. **Most Memorable Characteristics:** A summary review of the most memorable characteristics of that bar.\n",
    "10. **Rating:** Each chocolate is evaluated from a combination of both objective qualities and subjective interpretation. A rating here only represents an experience with one bar from one batch.\n",
    "    Rating Scale\n",
    " \n",
    "    * 4.0 - 5.0   = Outstanding\n",
    "    * 3.5 - 3.9   = Highly Recommended\n",
    "    * 3.0 - 3.49 = Recommended\n",
    "    * 2.0 - 2.9   = Disappointing\n",
    "    * 1.0 - 1.9   = Unpleasant"
   ]
  },
  {
   "cell_type": "markdown",
   "id": "9ddda7ff-514a-47e3-be89-43738fb8b7b7",
   "metadata": {},
   "source": [
    "### Clean data"
   ]
  },
  {
   "cell_type": "code",
   "execution_count": 1,
   "id": "6198d173-19f9-45b7-8d14-2aa8aa15020d",
   "metadata": {},
   "outputs": [],
   "source": [
    "# import libraries\n",
    "import pandas as pd\n",
    "import matplotlib.pyplot as plt\n",
    "import numpy as np\n",
    "import seaborn as sns\n",
    "%matplotlib inline"
   ]
  },
  {
   "cell_type": "code",
   "execution_count": 2,
   "id": "df7cba00-913a-448c-8828-808502e1b50c",
   "metadata": {},
   "outputs": [
    {
     "data": {
      "text/html": [
       "<div>\n",
       "<style scoped>\n",
       "    .dataframe tbody tr th:only-of-type {\n",
       "        vertical-align: middle;\n",
       "    }\n",
       "\n",
       "    .dataframe tbody tr th {\n",
       "        vertical-align: top;\n",
       "    }\n",
       "\n",
       "    .dataframe thead th {\n",
       "        text-align: right;\n",
       "    }\n",
       "</style>\n",
       "<table border=\"1\" class=\"dataframe\">\n",
       "  <thead>\n",
       "    <tr style=\"text-align: right;\">\n",
       "      <th></th>\n",
       "      <th>REF</th>\n",
       "      <th>Company (Manufacturer)</th>\n",
       "      <th>Company Location</th>\n",
       "      <th>Review Date</th>\n",
       "      <th>Country of Bean Origin</th>\n",
       "      <th>Specific Bean Origin or Bar Name</th>\n",
       "      <th>Cocoa Percent</th>\n",
       "      <th>Ingredients</th>\n",
       "      <th>Most Memorable Characteristics</th>\n",
       "      <th>Rating</th>\n",
       "    </tr>\n",
       "  </thead>\n",
       "  <tbody>\n",
       "    <tr>\n",
       "      <th>0</th>\n",
       "      <td>2454</td>\n",
       "      <td>5150</td>\n",
       "      <td>U.S.A.</td>\n",
       "      <td>2019</td>\n",
       "      <td>Tanzania</td>\n",
       "      <td>Kokoa Kamili, batch 1</td>\n",
       "      <td>0.76</td>\n",
       "      <td>3- B,S,C</td>\n",
       "      <td>rich cocoa, fatty, bready</td>\n",
       "      <td>3.25</td>\n",
       "    </tr>\n",
       "    <tr>\n",
       "      <th>1</th>\n",
       "      <td>2454</td>\n",
       "      <td>5150</td>\n",
       "      <td>U.S.A.</td>\n",
       "      <td>2019</td>\n",
       "      <td>Madagascar</td>\n",
       "      <td>Bejofo Estate, batch 1</td>\n",
       "      <td>0.76</td>\n",
       "      <td>3- B,S,C</td>\n",
       "      <td>cocoa, blackberry, full body</td>\n",
       "      <td>3.75</td>\n",
       "    </tr>\n",
       "    <tr>\n",
       "      <th>2</th>\n",
       "      <td>2458</td>\n",
       "      <td>5150</td>\n",
       "      <td>U.S.A.</td>\n",
       "      <td>2019</td>\n",
       "      <td>Dominican Republic</td>\n",
       "      <td>Zorzal, batch 1</td>\n",
       "      <td>0.76</td>\n",
       "      <td>3- B,S,C</td>\n",
       "      <td>cocoa, vegetal, savory</td>\n",
       "      <td>3.50</td>\n",
       "    </tr>\n",
       "    <tr>\n",
       "      <th>3</th>\n",
       "      <td>2542</td>\n",
       "      <td>5150</td>\n",
       "      <td>U.S.A.</td>\n",
       "      <td>2021</td>\n",
       "      <td>Fiji</td>\n",
       "      <td>Matasawalevu, batch 1</td>\n",
       "      <td>0.68</td>\n",
       "      <td>3- B,S,C</td>\n",
       "      <td>chewy, off, rubbery</td>\n",
       "      <td>3.00</td>\n",
       "    </tr>\n",
       "    <tr>\n",
       "      <th>4</th>\n",
       "      <td>2542</td>\n",
       "      <td>5150</td>\n",
       "      <td>U.S.A.</td>\n",
       "      <td>2021</td>\n",
       "      <td>India</td>\n",
       "      <td>Anamalai, batch 1</td>\n",
       "      <td>0.68</td>\n",
       "      <td>3- B,S,C</td>\n",
       "      <td>milk brownie, macadamia,chewy</td>\n",
       "      <td>3.50</td>\n",
       "    </tr>\n",
       "  </tbody>\n",
       "</table>\n",
       "</div>"
      ],
      "text/plain": [
       "    REF Company (Manufacturer) Company Location  Review Date  \\\n",
       "0  2454                   5150           U.S.A.         2019   \n",
       "1  2454                   5150           U.S.A.         2019   \n",
       "2  2458                   5150           U.S.A.         2019   \n",
       "3  2542                   5150           U.S.A.         2021   \n",
       "4  2542                   5150           U.S.A.         2021   \n",
       "\n",
       "  Country of Bean Origin Specific Bean Origin or Bar Name  Cocoa Percent  \\\n",
       "0               Tanzania            Kokoa Kamili, batch 1           0.76   \n",
       "1             Madagascar           Bejofo Estate, batch 1           0.76   \n",
       "2     Dominican Republic                  Zorzal, batch 1           0.76   \n",
       "3                   Fiji            Matasawalevu, batch 1           0.68   \n",
       "4                  India                Anamalai, batch 1           0.68   \n",
       "\n",
       "  Ingredients Most Memorable Characteristics  Rating  \n",
       "0    3- B,S,C      rich cocoa, fatty, bready    3.25  \n",
       "1    3- B,S,C   cocoa, blackberry, full body    3.75  \n",
       "2    3- B,S,C         cocoa, vegetal, savory    3.50  \n",
       "3    3- B,S,C            chewy, off, rubbery    3.00  \n",
       "4    3- B,S,C  milk brownie, macadamia,chewy    3.50  "
      ]
     },
     "execution_count": 2,
     "metadata": {},
     "output_type": "execute_result"
    }
   ],
   "source": [
    "# Read dataset\n",
    "try:\n",
    "    chocolate_df = pd.read_excel(\"Chocolate Ratings.xlsx\")\n",
    "except Exception:\n",
    "    print(\"There was an error reading the Chocolate Ratings file\")\n",
    "    \n",
    "chocolate_df.head()"
   ]
  },
  {
   "cell_type": "code",
   "execution_count": 3,
   "id": "2d253db0-4b17-4f22-82e6-56ab380138be",
   "metadata": {},
   "outputs": [
    {
     "data": {
      "text/plain": [
       "(2588, 10)"
      ]
     },
     "execution_count": 3,
     "metadata": {},
     "output_type": "execute_result"
    }
   ],
   "source": [
    "# Shape\n",
    "chocolate_df.shape"
   ]
  },
  {
   "cell_type": "markdown",
   "id": "e462570a-b9f5-4c30-95f5-073036d0990c",
   "metadata": {},
   "source": [
    "There are 2,588 rows and 10 columns"
   ]
  },
  {
   "cell_type": "code",
   "execution_count": 4,
   "id": "361ffe9d-1b8d-4aa7-8891-9ce070dae83f",
   "metadata": {},
   "outputs": [
    {
     "name": "stdout",
     "output_type": "stream",
     "text": [
      "<class 'pandas.core.frame.DataFrame'>\n",
      "RangeIndex: 2588 entries, 0 to 2587\n",
      "Data columns (total 10 columns):\n",
      " #   Column                            Non-Null Count  Dtype  \n",
      "---  ------                            --------------  -----  \n",
      " 0   REF                               2588 non-null   int64  \n",
      " 1   Company (Manufacturer)            2588 non-null   object \n",
      " 2   Company Location                  2588 non-null   object \n",
      " 3   Review Date                       2588 non-null   int64  \n",
      " 4   Country of Bean Origin            2588 non-null   object \n",
      " 5   Specific Bean Origin or Bar Name  2588 non-null   object \n",
      " 6   Cocoa Percent                     2588 non-null   float64\n",
      " 7   Ingredients                       2501 non-null   object \n",
      " 8   Most Memorable Characteristics    2588 non-null   object \n",
      " 9   Rating                            2588 non-null   float64\n",
      "dtypes: float64(2), int64(2), object(6)\n",
      "memory usage: 202.3+ KB\n"
     ]
    }
   ],
   "source": [
    "# Information on features\n",
    "chocolate_df.info()"
   ]
  },
  {
   "cell_type": "code",
   "execution_count": 5,
   "id": "7e00c238-e5a2-431f-a80b-7c2fdf466783",
   "metadata": {},
   "outputs": [
    {
     "data": {
      "text/plain": [
       "REF                                  0\n",
       "Company (Manufacturer)               0\n",
       "Company Location                     0\n",
       "Review Date                          0\n",
       "Country of Bean Origin               0\n",
       "Specific Bean Origin or Bar Name     0\n",
       "Cocoa Percent                        0\n",
       "Ingredients                         87\n",
       "Most Memorable Characteristics       0\n",
       "Rating                               0\n",
       "dtype: int64"
      ]
     },
     "execution_count": 5,
     "metadata": {},
     "output_type": "execute_result"
    }
   ],
   "source": [
    "# Check if there are any null values\n",
    "chocolate_df.isnull().sum()"
   ]
  },
  {
   "cell_type": "code",
   "execution_count": 6,
   "id": "1f56543c-2dcd-4c9c-8a93-f77c6c521161",
   "metadata": {},
   "outputs": [
    {
     "data": {
      "text/plain": [
       "(2501, 10)"
      ]
     },
     "execution_count": 6,
     "metadata": {},
     "output_type": "execute_result"
    }
   ],
   "source": [
    "# Since you can't make up ingredients, I will drop the 87 rows with empty ingredients\n",
    "chocolate_cleaned = chocolate_df.dropna()\n",
    "\n",
    "chocolate_cleaned.shape"
   ]
  },
  {
   "cell_type": "markdown",
   "id": "ee907c57-33b8-48ab-bf17-7a5480dc1eba",
   "metadata": {},
   "source": [
    "Removing the empty ingredient rows, there are now 2,501 rows with 10 columns"
   ]
  },
  {
   "cell_type": "code",
   "execution_count": 7,
   "id": "1aefb77c-5f6a-4cfb-9eb2-8183d5e9d811",
   "metadata": {},
   "outputs": [
    {
     "data": {
      "text/plain": [
       "REF                                 0\n",
       "Company (Manufacturer)              0\n",
       "Company Location                    0\n",
       "Review Date                         0\n",
       "Country of Bean Origin              0\n",
       "Specific Bean Origin or Bar Name    0\n",
       "Cocoa Percent                       0\n",
       "Ingredients                         0\n",
       "Most Memorable Characteristics      0\n",
       "Rating                              0\n",
       "dtype: int64"
      ]
     },
     "execution_count": 7,
     "metadata": {},
     "output_type": "execute_result"
    }
   ],
   "source": [
    "# Check again if there are any null values\n",
    "chocolate_cleaned.isnull().sum()"
   ]
  },
  {
   "cell_type": "code",
   "execution_count": 8,
   "id": "32ff3a3e-92ec-4f77-8e40-1ac4fe9fe277",
   "metadata": {},
   "outputs": [],
   "source": [
    "def convert_rating(rating):\n",
    "        if rating <= 1.9:\n",
    "            return 1\n",
    "        elif rating <= 2.9:\n",
    "            return 2\n",
    "        elif rating <= 3.49:\n",
    "            return 3\n",
    "        elif rating <= 3.9:\n",
    "            return 4\n",
    "        else:\n",
    "            return 5"
   ]
  },
  {
   "cell_type": "code",
   "execution_count": 9,
   "id": "4ba3b8e3-5f87-41a3-9eae-12f2e884f74d",
   "metadata": {},
   "outputs": [
    {
     "name": "stderr",
     "output_type": "stream",
     "text": [
      "C:\\Users\\Osgiliath\\AppData\\Local\\Temp\\ipykernel_14788\\2440592556.py:1: SettingWithCopyWarning: \n",
      "A value is trying to be set on a copy of a slice from a DataFrame.\n",
      "Try using .loc[row_indexer,col_indexer] = value instead\n",
      "\n",
      "See the caveats in the documentation: https://pandas.pydata.org/pandas-docs/stable/user_guide/indexing.html#returning-a-view-versus-a-copy\n",
      "  chocolate_cleaned.loc[:,'rating_rank'] = chocolate_cleaned.loc[:,'Rating'].apply(convert_rating)\n"
     ]
    },
    {
     "data": {
      "text/html": [
       "<div>\n",
       "<style scoped>\n",
       "    .dataframe tbody tr th:only-of-type {\n",
       "        vertical-align: middle;\n",
       "    }\n",
       "\n",
       "    .dataframe tbody tr th {\n",
       "        vertical-align: top;\n",
       "    }\n",
       "\n",
       "    .dataframe thead th {\n",
       "        text-align: right;\n",
       "    }\n",
       "</style>\n",
       "<table border=\"1\" class=\"dataframe\">\n",
       "  <thead>\n",
       "    <tr style=\"text-align: right;\">\n",
       "      <th></th>\n",
       "      <th>REF</th>\n",
       "      <th>Company (Manufacturer)</th>\n",
       "      <th>Company Location</th>\n",
       "      <th>Review Date</th>\n",
       "      <th>Country of Bean Origin</th>\n",
       "      <th>Specific Bean Origin or Bar Name</th>\n",
       "      <th>Cocoa Percent</th>\n",
       "      <th>Ingredients</th>\n",
       "      <th>Most Memorable Characteristics</th>\n",
       "      <th>Rating</th>\n",
       "      <th>rating_rank</th>\n",
       "    </tr>\n",
       "  </thead>\n",
       "  <tbody>\n",
       "    <tr>\n",
       "      <th>0</th>\n",
       "      <td>2454</td>\n",
       "      <td>5150</td>\n",
       "      <td>U.S.A.</td>\n",
       "      <td>2019</td>\n",
       "      <td>Tanzania</td>\n",
       "      <td>Kokoa Kamili, batch 1</td>\n",
       "      <td>0.76</td>\n",
       "      <td>3- B,S,C</td>\n",
       "      <td>rich cocoa, fatty, bready</td>\n",
       "      <td>3.25</td>\n",
       "      <td>3</td>\n",
       "    </tr>\n",
       "    <tr>\n",
       "      <th>1</th>\n",
       "      <td>2454</td>\n",
       "      <td>5150</td>\n",
       "      <td>U.S.A.</td>\n",
       "      <td>2019</td>\n",
       "      <td>Madagascar</td>\n",
       "      <td>Bejofo Estate, batch 1</td>\n",
       "      <td>0.76</td>\n",
       "      <td>3- B,S,C</td>\n",
       "      <td>cocoa, blackberry, full body</td>\n",
       "      <td>3.75</td>\n",
       "      <td>4</td>\n",
       "    </tr>\n",
       "    <tr>\n",
       "      <th>2</th>\n",
       "      <td>2458</td>\n",
       "      <td>5150</td>\n",
       "      <td>U.S.A.</td>\n",
       "      <td>2019</td>\n",
       "      <td>Dominican Republic</td>\n",
       "      <td>Zorzal, batch 1</td>\n",
       "      <td>0.76</td>\n",
       "      <td>3- B,S,C</td>\n",
       "      <td>cocoa, vegetal, savory</td>\n",
       "      <td>3.50</td>\n",
       "      <td>4</td>\n",
       "    </tr>\n",
       "    <tr>\n",
       "      <th>3</th>\n",
       "      <td>2542</td>\n",
       "      <td>5150</td>\n",
       "      <td>U.S.A.</td>\n",
       "      <td>2021</td>\n",
       "      <td>Fiji</td>\n",
       "      <td>Matasawalevu, batch 1</td>\n",
       "      <td>0.68</td>\n",
       "      <td>3- B,S,C</td>\n",
       "      <td>chewy, off, rubbery</td>\n",
       "      <td>3.00</td>\n",
       "      <td>3</td>\n",
       "    </tr>\n",
       "    <tr>\n",
       "      <th>4</th>\n",
       "      <td>2542</td>\n",
       "      <td>5150</td>\n",
       "      <td>U.S.A.</td>\n",
       "      <td>2021</td>\n",
       "      <td>India</td>\n",
       "      <td>Anamalai, batch 1</td>\n",
       "      <td>0.68</td>\n",
       "      <td>3- B,S,C</td>\n",
       "      <td>milk brownie, macadamia,chewy</td>\n",
       "      <td>3.50</td>\n",
       "      <td>4</td>\n",
       "    </tr>\n",
       "  </tbody>\n",
       "</table>\n",
       "</div>"
      ],
      "text/plain": [
       "    REF Company (Manufacturer) Company Location  Review Date  \\\n",
       "0  2454                   5150           U.S.A.         2019   \n",
       "1  2454                   5150           U.S.A.         2019   \n",
       "2  2458                   5150           U.S.A.         2019   \n",
       "3  2542                   5150           U.S.A.         2021   \n",
       "4  2542                   5150           U.S.A.         2021   \n",
       "\n",
       "  Country of Bean Origin Specific Bean Origin or Bar Name  Cocoa Percent  \\\n",
       "0               Tanzania            Kokoa Kamili, batch 1           0.76   \n",
       "1             Madagascar           Bejofo Estate, batch 1           0.76   \n",
       "2     Dominican Republic                  Zorzal, batch 1           0.76   \n",
       "3                   Fiji            Matasawalevu, batch 1           0.68   \n",
       "4                  India                Anamalai, batch 1           0.68   \n",
       "\n",
       "  Ingredients Most Memorable Characteristics  Rating  rating_rank  \n",
       "0    3- B,S,C      rich cocoa, fatty, bready    3.25            3  \n",
       "1    3- B,S,C   cocoa, blackberry, full body    3.75            4  \n",
       "2    3- B,S,C         cocoa, vegetal, savory    3.50            4  \n",
       "3    3- B,S,C            chewy, off, rubbery    3.00            3  \n",
       "4    3- B,S,C  milk brownie, macadamia,chewy    3.50            4  "
      ]
     },
     "execution_count": 9,
     "metadata": {},
     "output_type": "execute_result"
    }
   ],
   "source": [
    "chocolate_cleaned.loc[:,'rating_rank'] = chocolate_cleaned.loc[:,'Rating'].apply(convert_rating)\n",
    "\n",
    "chocolate_cleaned.head()"
   ]
  },
  {
   "cell_type": "code",
   "execution_count": 10,
   "id": "9112f404-c445-4584-9df3-54e3f670b2de",
   "metadata": {},
   "outputs": [
    {
     "data": {
      "text/html": [
       "<div>\n",
       "<style scoped>\n",
       "    .dataframe tbody tr th:only-of-type {\n",
       "        vertical-align: middle;\n",
       "    }\n",
       "\n",
       "    .dataframe tbody tr th {\n",
       "        vertical-align: top;\n",
       "    }\n",
       "\n",
       "    .dataframe thead th {\n",
       "        text-align: right;\n",
       "    }\n",
       "</style>\n",
       "<table border=\"1\" class=\"dataframe\">\n",
       "  <thead>\n",
       "    <tr style=\"text-align: right;\">\n",
       "      <th></th>\n",
       "      <th>REF</th>\n",
       "      <th>Company (Manufacturer)</th>\n",
       "      <th>Company Location</th>\n",
       "      <th>Review Date</th>\n",
       "      <th>Country of Bean Origin</th>\n",
       "      <th>Specific Bean Origin or Bar Name</th>\n",
       "      <th>Cocoa Percent</th>\n",
       "      <th>Ingredients</th>\n",
       "      <th>Most Memorable Characteristics</th>\n",
       "      <th>Rating</th>\n",
       "      <th>rating_rank</th>\n",
       "      <th>num_ingredients</th>\n",
       "      <th>ingredients</th>\n",
       "    </tr>\n",
       "  </thead>\n",
       "  <tbody>\n",
       "    <tr>\n",
       "      <th>0</th>\n",
       "      <td>2454</td>\n",
       "      <td>5150</td>\n",
       "      <td>U.S.A.</td>\n",
       "      <td>2019</td>\n",
       "      <td>Tanzania</td>\n",
       "      <td>Kokoa Kamili, batch 1</td>\n",
       "      <td>0.76</td>\n",
       "      <td>3- B,S,C</td>\n",
       "      <td>rich cocoa, fatty, bready</td>\n",
       "      <td>3.25</td>\n",
       "      <td>3</td>\n",
       "      <td>3</td>\n",
       "      <td>[B, S, C]</td>\n",
       "    </tr>\n",
       "    <tr>\n",
       "      <th>1</th>\n",
       "      <td>2454</td>\n",
       "      <td>5150</td>\n",
       "      <td>U.S.A.</td>\n",
       "      <td>2019</td>\n",
       "      <td>Madagascar</td>\n",
       "      <td>Bejofo Estate, batch 1</td>\n",
       "      <td>0.76</td>\n",
       "      <td>3- B,S,C</td>\n",
       "      <td>cocoa, blackberry, full body</td>\n",
       "      <td>3.75</td>\n",
       "      <td>4</td>\n",
       "      <td>3</td>\n",
       "      <td>[B, S, C]</td>\n",
       "    </tr>\n",
       "    <tr>\n",
       "      <th>2</th>\n",
       "      <td>2458</td>\n",
       "      <td>5150</td>\n",
       "      <td>U.S.A.</td>\n",
       "      <td>2019</td>\n",
       "      <td>Dominican Republic</td>\n",
       "      <td>Zorzal, batch 1</td>\n",
       "      <td>0.76</td>\n",
       "      <td>3- B,S,C</td>\n",
       "      <td>cocoa, vegetal, savory</td>\n",
       "      <td>3.50</td>\n",
       "      <td>4</td>\n",
       "      <td>3</td>\n",
       "      <td>[B, S, C]</td>\n",
       "    </tr>\n",
       "    <tr>\n",
       "      <th>3</th>\n",
       "      <td>2542</td>\n",
       "      <td>5150</td>\n",
       "      <td>U.S.A.</td>\n",
       "      <td>2021</td>\n",
       "      <td>Fiji</td>\n",
       "      <td>Matasawalevu, batch 1</td>\n",
       "      <td>0.68</td>\n",
       "      <td>3- B,S,C</td>\n",
       "      <td>chewy, off, rubbery</td>\n",
       "      <td>3.00</td>\n",
       "      <td>3</td>\n",
       "      <td>3</td>\n",
       "      <td>[B, S, C]</td>\n",
       "    </tr>\n",
       "    <tr>\n",
       "      <th>4</th>\n",
       "      <td>2542</td>\n",
       "      <td>5150</td>\n",
       "      <td>U.S.A.</td>\n",
       "      <td>2021</td>\n",
       "      <td>India</td>\n",
       "      <td>Anamalai, batch 1</td>\n",
       "      <td>0.68</td>\n",
       "      <td>3- B,S,C</td>\n",
       "      <td>milk brownie, macadamia,chewy</td>\n",
       "      <td>3.50</td>\n",
       "      <td>4</td>\n",
       "      <td>3</td>\n",
       "      <td>[B, S, C]</td>\n",
       "    </tr>\n",
       "  </tbody>\n",
       "</table>\n",
       "</div>"
      ],
      "text/plain": [
       "    REF Company (Manufacturer) Company Location  Review Date  \\\n",
       "0  2454                   5150           U.S.A.         2019   \n",
       "1  2454                   5150           U.S.A.         2019   \n",
       "2  2458                   5150           U.S.A.         2019   \n",
       "3  2542                   5150           U.S.A.         2021   \n",
       "4  2542                   5150           U.S.A.         2021   \n",
       "\n",
       "  Country of Bean Origin Specific Bean Origin or Bar Name  Cocoa Percent  \\\n",
       "0               Tanzania            Kokoa Kamili, batch 1           0.76   \n",
       "1             Madagascar           Bejofo Estate, batch 1           0.76   \n",
       "2     Dominican Republic                  Zorzal, batch 1           0.76   \n",
       "3                   Fiji            Matasawalevu, batch 1           0.68   \n",
       "4                  India                Anamalai, batch 1           0.68   \n",
       "\n",
       "  Ingredients Most Memorable Characteristics  Rating  rating_rank  \\\n",
       "0    3- B,S,C      rich cocoa, fatty, bready    3.25            3   \n",
       "1    3- B,S,C   cocoa, blackberry, full body    3.75            4   \n",
       "2    3- B,S,C         cocoa, vegetal, savory    3.50            4   \n",
       "3    3- B,S,C            chewy, off, rubbery    3.00            3   \n",
       "4    3- B,S,C  milk brownie, macadamia,chewy    3.50            4   \n",
       "\n",
       "   num_ingredients ingredients  \n",
       "0                3   [B, S, C]  \n",
       "1                3   [B, S, C]  \n",
       "2                3   [B, S, C]  \n",
       "3                3   [B, S, C]  \n",
       "4                3   [B, S, C]  "
      ]
     },
     "execution_count": 10,
     "metadata": {},
     "output_type": "execute_result"
    }
   ],
   "source": [
    "# remove warning\n",
    "pd.options.mode.chained_assignment = None\n",
    "\n",
    "# Split Ingredients into two columns: number of ingredients and the ingredients themselves\n",
    "chocolate_cleaned[['num_ingredients', 'ingredients']] = chocolate_cleaned.Ingredients.str.split(\"-\", expand = True)\n",
    "chocolate_cleaned['ingredients'] = chocolate_cleaned['ingredients'].apply(lambda x: x.strip()).str.split(\",\")\n",
    "chocolate_cleaned['num_ingredients'] = chocolate_cleaned['num_ingredients'].astype(int)\n",
    "chocolate_cleaned.head()"
   ]
  },
  {
   "cell_type": "code",
   "execution_count": 11,
   "id": "961baae9-293e-4846-9270-8a54b2a3a27f",
   "metadata": {},
   "outputs": [
    {
     "data": {
      "text/html": [
       "<div>\n",
       "<style scoped>\n",
       "    .dataframe tbody tr th:only-of-type {\n",
       "        vertical-align: middle;\n",
       "    }\n",
       "\n",
       "    .dataframe tbody tr th {\n",
       "        vertical-align: top;\n",
       "    }\n",
       "\n",
       "    .dataframe thead th {\n",
       "        text-align: right;\n",
       "    }\n",
       "</style>\n",
       "<table border=\"1\" class=\"dataframe\">\n",
       "  <thead>\n",
       "    <tr style=\"text-align: right;\">\n",
       "      <th></th>\n",
       "      <th>REF</th>\n",
       "      <th>Company (Manufacturer)</th>\n",
       "      <th>Company Location</th>\n",
       "      <th>Review Date</th>\n",
       "      <th>Country of Bean Origin</th>\n",
       "      <th>Specific Bean Origin or Bar Name</th>\n",
       "      <th>Cocoa Percent</th>\n",
       "      <th>Ingredients</th>\n",
       "      <th>Most Memorable Characteristics</th>\n",
       "      <th>Rating</th>\n",
       "      <th>rating_rank</th>\n",
       "      <th>num_ingredients</th>\n",
       "      <th>ingredients</th>\n",
       "      <th>characteristics</th>\n",
       "    </tr>\n",
       "  </thead>\n",
       "  <tbody>\n",
       "    <tr>\n",
       "      <th>0</th>\n",
       "      <td>2454</td>\n",
       "      <td>5150</td>\n",
       "      <td>U.S.A.</td>\n",
       "      <td>2019</td>\n",
       "      <td>Tanzania</td>\n",
       "      <td>Kokoa Kamili, batch 1</td>\n",
       "      <td>0.76</td>\n",
       "      <td>3- B,S,C</td>\n",
       "      <td>rich cocoa, fatty, bready</td>\n",
       "      <td>3.25</td>\n",
       "      <td>3</td>\n",
       "      <td>3</td>\n",
       "      <td>[B, S, C]</td>\n",
       "      <td>[rich cocoa,  fatty,  bready]</td>\n",
       "    </tr>\n",
       "    <tr>\n",
       "      <th>1</th>\n",
       "      <td>2454</td>\n",
       "      <td>5150</td>\n",
       "      <td>U.S.A.</td>\n",
       "      <td>2019</td>\n",
       "      <td>Madagascar</td>\n",
       "      <td>Bejofo Estate, batch 1</td>\n",
       "      <td>0.76</td>\n",
       "      <td>3- B,S,C</td>\n",
       "      <td>cocoa, blackberry, full body</td>\n",
       "      <td>3.75</td>\n",
       "      <td>4</td>\n",
       "      <td>3</td>\n",
       "      <td>[B, S, C]</td>\n",
       "      <td>[cocoa,  blackberry,  full body]</td>\n",
       "    </tr>\n",
       "    <tr>\n",
       "      <th>2</th>\n",
       "      <td>2458</td>\n",
       "      <td>5150</td>\n",
       "      <td>U.S.A.</td>\n",
       "      <td>2019</td>\n",
       "      <td>Dominican Republic</td>\n",
       "      <td>Zorzal, batch 1</td>\n",
       "      <td>0.76</td>\n",
       "      <td>3- B,S,C</td>\n",
       "      <td>cocoa, vegetal, savory</td>\n",
       "      <td>3.50</td>\n",
       "      <td>4</td>\n",
       "      <td>3</td>\n",
       "      <td>[B, S, C]</td>\n",
       "      <td>[cocoa,  vegetal,  savory]</td>\n",
       "    </tr>\n",
       "    <tr>\n",
       "      <th>3</th>\n",
       "      <td>2542</td>\n",
       "      <td>5150</td>\n",
       "      <td>U.S.A.</td>\n",
       "      <td>2021</td>\n",
       "      <td>Fiji</td>\n",
       "      <td>Matasawalevu, batch 1</td>\n",
       "      <td>0.68</td>\n",
       "      <td>3- B,S,C</td>\n",
       "      <td>chewy, off, rubbery</td>\n",
       "      <td>3.00</td>\n",
       "      <td>3</td>\n",
       "      <td>3</td>\n",
       "      <td>[B, S, C]</td>\n",
       "      <td>[chewy,  off,  rubbery]</td>\n",
       "    </tr>\n",
       "    <tr>\n",
       "      <th>4</th>\n",
       "      <td>2542</td>\n",
       "      <td>5150</td>\n",
       "      <td>U.S.A.</td>\n",
       "      <td>2021</td>\n",
       "      <td>India</td>\n",
       "      <td>Anamalai, batch 1</td>\n",
       "      <td>0.68</td>\n",
       "      <td>3- B,S,C</td>\n",
       "      <td>milk brownie, macadamia,chewy</td>\n",
       "      <td>3.50</td>\n",
       "      <td>4</td>\n",
       "      <td>3</td>\n",
       "      <td>[B, S, C]</td>\n",
       "      <td>[milk brownie,  macadamia, chewy]</td>\n",
       "    </tr>\n",
       "  </tbody>\n",
       "</table>\n",
       "</div>"
      ],
      "text/plain": [
       "    REF Company (Manufacturer) Company Location  Review Date  \\\n",
       "0  2454                   5150           U.S.A.         2019   \n",
       "1  2454                   5150           U.S.A.         2019   \n",
       "2  2458                   5150           U.S.A.         2019   \n",
       "3  2542                   5150           U.S.A.         2021   \n",
       "4  2542                   5150           U.S.A.         2021   \n",
       "\n",
       "  Country of Bean Origin Specific Bean Origin or Bar Name  Cocoa Percent  \\\n",
       "0               Tanzania            Kokoa Kamili, batch 1           0.76   \n",
       "1             Madagascar           Bejofo Estate, batch 1           0.76   \n",
       "2     Dominican Republic                  Zorzal, batch 1           0.76   \n",
       "3                   Fiji            Matasawalevu, batch 1           0.68   \n",
       "4                  India                Anamalai, batch 1           0.68   \n",
       "\n",
       "  Ingredients Most Memorable Characteristics  Rating  rating_rank  \\\n",
       "0    3- B,S,C      rich cocoa, fatty, bready    3.25            3   \n",
       "1    3- B,S,C   cocoa, blackberry, full body    3.75            4   \n",
       "2    3- B,S,C         cocoa, vegetal, savory    3.50            4   \n",
       "3    3- B,S,C            chewy, off, rubbery    3.00            3   \n",
       "4    3- B,S,C  milk brownie, macadamia,chewy    3.50            4   \n",
       "\n",
       "   num_ingredients ingredients                    characteristics  \n",
       "0                3   [B, S, C]      [rich cocoa,  fatty,  bready]  \n",
       "1                3   [B, S, C]   [cocoa,  blackberry,  full body]  \n",
       "2                3   [B, S, C]         [cocoa,  vegetal,  savory]  \n",
       "3                3   [B, S, C]            [chewy,  off,  rubbery]  \n",
       "4                3   [B, S, C]  [milk brownie,  macadamia, chewy]  "
      ]
     },
     "execution_count": 11,
     "metadata": {},
     "output_type": "execute_result"
    }
   ],
   "source": [
    "# Split characteristics in an array instead of just test fields\n",
    "chocolate_cleaned['characteristics'] = chocolate_cleaned['Most Memorable Characteristics'].str.split(\",\")\n",
    "\n",
    "chocolate_cleaned.head()"
   ]
  },
  {
   "cell_type": "code",
   "execution_count": 12,
   "id": "7ccd5e64-ec1e-4622-be36-b0e6c198ae3c",
   "metadata": {},
   "outputs": [
    {
     "data": {
      "text/html": [
       "<div>\n",
       "<style scoped>\n",
       "    .dataframe tbody tr th:only-of-type {\n",
       "        vertical-align: middle;\n",
       "    }\n",
       "\n",
       "    .dataframe tbody tr th {\n",
       "        vertical-align: top;\n",
       "    }\n",
       "\n",
       "    .dataframe thead th {\n",
       "        text-align: right;\n",
       "    }\n",
       "</style>\n",
       "<table border=\"1\" class=\"dataframe\">\n",
       "  <thead>\n",
       "    <tr style=\"text-align: right;\">\n",
       "      <th></th>\n",
       "      <th>Company (Manufacturer)</th>\n",
       "      <th>Company Location</th>\n",
       "      <th>Review Date</th>\n",
       "      <th>Country of Bean Origin</th>\n",
       "      <th>Cocoa Percent</th>\n",
       "      <th>Rating</th>\n",
       "      <th>rating_rank</th>\n",
       "      <th>num_ingredients</th>\n",
       "      <th>ingredients</th>\n",
       "      <th>characteristics</th>\n",
       "    </tr>\n",
       "  </thead>\n",
       "  <tbody>\n",
       "    <tr>\n",
       "      <th>0</th>\n",
       "      <td>5150</td>\n",
       "      <td>U.S.A.</td>\n",
       "      <td>2019</td>\n",
       "      <td>Tanzania</td>\n",
       "      <td>0.76</td>\n",
       "      <td>3.25</td>\n",
       "      <td>3</td>\n",
       "      <td>3</td>\n",
       "      <td>[B, S, C]</td>\n",
       "      <td>[rich cocoa,  fatty,  bready]</td>\n",
       "    </tr>\n",
       "    <tr>\n",
       "      <th>1</th>\n",
       "      <td>5150</td>\n",
       "      <td>U.S.A.</td>\n",
       "      <td>2019</td>\n",
       "      <td>Madagascar</td>\n",
       "      <td>0.76</td>\n",
       "      <td>3.75</td>\n",
       "      <td>4</td>\n",
       "      <td>3</td>\n",
       "      <td>[B, S, C]</td>\n",
       "      <td>[cocoa,  blackberry,  full body]</td>\n",
       "    </tr>\n",
       "    <tr>\n",
       "      <th>2</th>\n",
       "      <td>5150</td>\n",
       "      <td>U.S.A.</td>\n",
       "      <td>2019</td>\n",
       "      <td>Dominican Republic</td>\n",
       "      <td>0.76</td>\n",
       "      <td>3.50</td>\n",
       "      <td>4</td>\n",
       "      <td>3</td>\n",
       "      <td>[B, S, C]</td>\n",
       "      <td>[cocoa,  vegetal,  savory]</td>\n",
       "    </tr>\n",
       "    <tr>\n",
       "      <th>3</th>\n",
       "      <td>5150</td>\n",
       "      <td>U.S.A.</td>\n",
       "      <td>2021</td>\n",
       "      <td>Fiji</td>\n",
       "      <td>0.68</td>\n",
       "      <td>3.00</td>\n",
       "      <td>3</td>\n",
       "      <td>3</td>\n",
       "      <td>[B, S, C]</td>\n",
       "      <td>[chewy,  off,  rubbery]</td>\n",
       "    </tr>\n",
       "    <tr>\n",
       "      <th>4</th>\n",
       "      <td>5150</td>\n",
       "      <td>U.S.A.</td>\n",
       "      <td>2021</td>\n",
       "      <td>India</td>\n",
       "      <td>0.68</td>\n",
       "      <td>3.50</td>\n",
       "      <td>4</td>\n",
       "      <td>3</td>\n",
       "      <td>[B, S, C]</td>\n",
       "      <td>[milk brownie,  macadamia, chewy]</td>\n",
       "    </tr>\n",
       "  </tbody>\n",
       "</table>\n",
       "</div>"
      ],
      "text/plain": [
       "  Company (Manufacturer) Company Location  Review Date Country of Bean Origin  \\\n",
       "0                   5150           U.S.A.         2019               Tanzania   \n",
       "1                   5150           U.S.A.         2019             Madagascar   \n",
       "2                   5150           U.S.A.         2019     Dominican Republic   \n",
       "3                   5150           U.S.A.         2021                   Fiji   \n",
       "4                   5150           U.S.A.         2021                  India   \n",
       "\n",
       "   Cocoa Percent  Rating  rating_rank  num_ingredients ingredients  \\\n",
       "0           0.76    3.25            3                3   [B, S, C]   \n",
       "1           0.76    3.75            4                3   [B, S, C]   \n",
       "2           0.76    3.50            4                3   [B, S, C]   \n",
       "3           0.68    3.00            3                3   [B, S, C]   \n",
       "4           0.68    3.50            4                3   [B, S, C]   \n",
       "\n",
       "                     characteristics  \n",
       "0      [rich cocoa,  fatty,  bready]  \n",
       "1   [cocoa,  blackberry,  full body]  \n",
       "2         [cocoa,  vegetal,  savory]  \n",
       "3            [chewy,  off,  rubbery]  \n",
       "4  [milk brownie,  macadamia, chewy]  "
      ]
     },
     "execution_count": 12,
     "metadata": {},
     "output_type": "execute_result"
    }
   ],
   "source": [
    "# Remove REF, Ingredients, Most Memorable Characteristics as they are not needed\n",
    "chocolate_cleaned = chocolate_cleaned.drop('REF', axis = 1)\n",
    "chocolate_cleaned = chocolate_cleaned.drop('Ingredients', axis = 1)\n",
    "chocolate_cleaned = chocolate_cleaned.drop('Most Memorable Characteristics', axis = 1)\n",
    "chocolate_cleaned = chocolate_cleaned.drop('Specific Bean Origin or Bar Name', axis = 1)\n",
    "\n",
    "chocolate_cleaned.head()"
   ]
  },
  {
   "cell_type": "code",
   "execution_count": 13,
   "id": "87b20703-6d9c-4f2f-8640-618800f931f9",
   "metadata": {},
   "outputs": [
    {
     "data": {
      "text/html": [
       "<div>\n",
       "<style scoped>\n",
       "    .dataframe tbody tr th:only-of-type {\n",
       "        vertical-align: middle;\n",
       "    }\n",
       "\n",
       "    .dataframe tbody tr th {\n",
       "        vertical-align: top;\n",
       "    }\n",
       "\n",
       "    .dataframe thead th {\n",
       "        text-align: right;\n",
       "    }\n",
       "</style>\n",
       "<table border=\"1\" class=\"dataframe\">\n",
       "  <thead>\n",
       "    <tr style=\"text-align: right;\">\n",
       "      <th></th>\n",
       "      <th>company</th>\n",
       "      <th>location</th>\n",
       "      <th>review_year</th>\n",
       "      <th>bean_origin</th>\n",
       "      <th>cocoa_percent</th>\n",
       "      <th>rating</th>\n",
       "      <th>rating_rank</th>\n",
       "      <th>num_ingredients</th>\n",
       "      <th>ingredients</th>\n",
       "      <th>characteristics</th>\n",
       "    </tr>\n",
       "  </thead>\n",
       "  <tbody>\n",
       "    <tr>\n",
       "      <th>0</th>\n",
       "      <td>5150</td>\n",
       "      <td>U.S.A.</td>\n",
       "      <td>2019</td>\n",
       "      <td>Tanzania</td>\n",
       "      <td>0.76</td>\n",
       "      <td>3.25</td>\n",
       "      <td>3</td>\n",
       "      <td>3</td>\n",
       "      <td>[B, S, C]</td>\n",
       "      <td>[rich cocoa,  fatty,  bready]</td>\n",
       "    </tr>\n",
       "    <tr>\n",
       "      <th>1</th>\n",
       "      <td>5150</td>\n",
       "      <td>U.S.A.</td>\n",
       "      <td>2019</td>\n",
       "      <td>Madagascar</td>\n",
       "      <td>0.76</td>\n",
       "      <td>3.75</td>\n",
       "      <td>4</td>\n",
       "      <td>3</td>\n",
       "      <td>[B, S, C]</td>\n",
       "      <td>[cocoa,  blackberry,  full body]</td>\n",
       "    </tr>\n",
       "    <tr>\n",
       "      <th>2</th>\n",
       "      <td>5150</td>\n",
       "      <td>U.S.A.</td>\n",
       "      <td>2019</td>\n",
       "      <td>Dominican Republic</td>\n",
       "      <td>0.76</td>\n",
       "      <td>3.50</td>\n",
       "      <td>4</td>\n",
       "      <td>3</td>\n",
       "      <td>[B, S, C]</td>\n",
       "      <td>[cocoa,  vegetal,  savory]</td>\n",
       "    </tr>\n",
       "    <tr>\n",
       "      <th>3</th>\n",
       "      <td>5150</td>\n",
       "      <td>U.S.A.</td>\n",
       "      <td>2021</td>\n",
       "      <td>Fiji</td>\n",
       "      <td>0.68</td>\n",
       "      <td>3.00</td>\n",
       "      <td>3</td>\n",
       "      <td>3</td>\n",
       "      <td>[B, S, C]</td>\n",
       "      <td>[chewy,  off,  rubbery]</td>\n",
       "    </tr>\n",
       "    <tr>\n",
       "      <th>4</th>\n",
       "      <td>5150</td>\n",
       "      <td>U.S.A.</td>\n",
       "      <td>2021</td>\n",
       "      <td>India</td>\n",
       "      <td>0.68</td>\n",
       "      <td>3.50</td>\n",
       "      <td>4</td>\n",
       "      <td>3</td>\n",
       "      <td>[B, S, C]</td>\n",
       "      <td>[milk brownie,  macadamia, chewy]</td>\n",
       "    </tr>\n",
       "  </tbody>\n",
       "</table>\n",
       "</div>"
      ],
      "text/plain": [
       "  company location  review_year         bean_origin  cocoa_percent  rating  \\\n",
       "0    5150   U.S.A.         2019            Tanzania           0.76    3.25   \n",
       "1    5150   U.S.A.         2019          Madagascar           0.76    3.75   \n",
       "2    5150   U.S.A.         2019  Dominican Republic           0.76    3.50   \n",
       "3    5150   U.S.A.         2021                Fiji           0.68    3.00   \n",
       "4    5150   U.S.A.         2021               India           0.68    3.50   \n",
       "\n",
       "   rating_rank  num_ingredients ingredients                    characteristics  \n",
       "0            3                3   [B, S, C]      [rich cocoa,  fatty,  bready]  \n",
       "1            4                3   [B, S, C]   [cocoa,  blackberry,  full body]  \n",
       "2            4                3   [B, S, C]         [cocoa,  vegetal,  savory]  \n",
       "3            3                3   [B, S, C]            [chewy,  off,  rubbery]  \n",
       "4            4                3   [B, S, C]  [milk brownie,  macadamia, chewy]  "
      ]
     },
     "execution_count": 13,
     "metadata": {},
     "output_type": "execute_result"
    }
   ],
   "source": [
    "# Rename column names\n",
    "header_names = {'Company (Manufacturer)': 'company',\n",
    "                'Company Location': 'location',\n",
    "                'Review Date': 'review_year',\n",
    "                'Country of Bean Origin': 'bean_origin',\n",
    "                'Cocoa Percent': 'cocoa_percent',\n",
    "                'Rating': 'rating'\n",
    "               }\n",
    "\n",
    "chocolate_cleaned.rename(columns = header_names, inplace = True)\n",
    "chocolate_cleaned.head()"
   ]
  },
  {
   "cell_type": "code",
   "execution_count": 14,
   "id": "c9677164-9b31-414d-911b-28698f04e75f",
   "metadata": {},
   "outputs": [
    {
     "name": "stdout",
     "output_type": "stream",
     "text": [
      "<class 'pandas.core.frame.DataFrame'>\n",
      "Int64Index: 2501 entries, 0 to 2587\n",
      "Data columns (total 10 columns):\n",
      " #   Column           Non-Null Count  Dtype  \n",
      "---  ------           --------------  -----  \n",
      " 0   company          2501 non-null   object \n",
      " 1   location         2501 non-null   object \n",
      " 2   review_year      2501 non-null   int64  \n",
      " 3   bean_origin      2501 non-null   object \n",
      " 4   cocoa_percent    2501 non-null   float64\n",
      " 5   rating           2501 non-null   float64\n",
      " 6   rating_rank      2501 non-null   int64  \n",
      " 7   num_ingredients  2501 non-null   int32  \n",
      " 8   ingredients      2501 non-null   object \n",
      " 9   characteristics  2501 non-null   object \n",
      "dtypes: float64(2), int32(1), int64(2), object(5)\n",
      "memory usage: 205.2+ KB\n"
     ]
    }
   ],
   "source": [
    "# Check datatypes\n",
    "chocolate_cleaned.info()"
   ]
  },
  {
   "cell_type": "code",
   "execution_count": 15,
   "id": "6e1c640c-3f06-4414-946e-2d79d86c1929",
   "metadata": {},
   "outputs": [
    {
     "data": {
      "text/html": [
       "<div>\n",
       "<style scoped>\n",
       "    .dataframe tbody tr th:only-of-type {\n",
       "        vertical-align: middle;\n",
       "    }\n",
       "\n",
       "    .dataframe tbody tr th {\n",
       "        vertical-align: top;\n",
       "    }\n",
       "\n",
       "    .dataframe thead th {\n",
       "        text-align: right;\n",
       "    }\n",
       "</style>\n",
       "<table border=\"1\" class=\"dataframe\">\n",
       "  <thead>\n",
       "    <tr style=\"text-align: right;\">\n",
       "      <th></th>\n",
       "      <th>review_year</th>\n",
       "      <th>cocoa_percent</th>\n",
       "      <th>rating</th>\n",
       "      <th>rating_rank</th>\n",
       "      <th>num_ingredients</th>\n",
       "    </tr>\n",
       "  </thead>\n",
       "  <tbody>\n",
       "    <tr>\n",
       "      <th>count</th>\n",
       "      <td>2501.000000</td>\n",
       "      <td>2501.000000</td>\n",
       "      <td>2501.000000</td>\n",
       "      <td>2501.000000</td>\n",
       "      <td>2501.000000</td>\n",
       "    </tr>\n",
       "    <tr>\n",
       "      <th>mean</th>\n",
       "      <td>2014.660136</td>\n",
       "      <td>0.714724</td>\n",
       "      <td>3.211815</td>\n",
       "      <td>3.223111</td>\n",
       "      <td>3.035186</td>\n",
       "    </tr>\n",
       "    <tr>\n",
       "      <th>std</th>\n",
       "      <td>4.071615</td>\n",
       "      <td>0.051228</td>\n",
       "      <td>0.427366</td>\n",
       "      <td>0.838929</td>\n",
       "      <td>0.909264</td>\n",
       "    </tr>\n",
       "    <tr>\n",
       "      <th>min</th>\n",
       "      <td>2006.000000</td>\n",
       "      <td>0.420000</td>\n",
       "      <td>1.000000</td>\n",
       "      <td>1.000000</td>\n",
       "      <td>1.000000</td>\n",
       "    </tr>\n",
       "    <tr>\n",
       "      <th>25%</th>\n",
       "      <td>2012.000000</td>\n",
       "      <td>0.700000</td>\n",
       "      <td>3.000000</td>\n",
       "      <td>3.000000</td>\n",
       "      <td>2.000000</td>\n",
       "    </tr>\n",
       "    <tr>\n",
       "      <th>50%</th>\n",
       "      <td>2015.000000</td>\n",
       "      <td>0.700000</td>\n",
       "      <td>3.250000</td>\n",
       "      <td>3.000000</td>\n",
       "      <td>3.000000</td>\n",
       "    </tr>\n",
       "    <tr>\n",
       "      <th>75%</th>\n",
       "      <td>2018.000000</td>\n",
       "      <td>0.740000</td>\n",
       "      <td>3.500000</td>\n",
       "      <td>4.000000</td>\n",
       "      <td>4.000000</td>\n",
       "    </tr>\n",
       "    <tr>\n",
       "      <th>max</th>\n",
       "      <td>2022.000000</td>\n",
       "      <td>1.000000</td>\n",
       "      <td>4.000000</td>\n",
       "      <td>5.000000</td>\n",
       "      <td>6.000000</td>\n",
       "    </tr>\n",
       "  </tbody>\n",
       "</table>\n",
       "</div>"
      ],
      "text/plain": [
       "       review_year  cocoa_percent       rating  rating_rank  num_ingredients\n",
       "count  2501.000000    2501.000000  2501.000000  2501.000000      2501.000000\n",
       "mean   2014.660136       0.714724     3.211815     3.223111         3.035186\n",
       "std       4.071615       0.051228     0.427366     0.838929         0.909264\n",
       "min    2006.000000       0.420000     1.000000     1.000000         1.000000\n",
       "25%    2012.000000       0.700000     3.000000     3.000000         2.000000\n",
       "50%    2015.000000       0.700000     3.250000     3.000000         3.000000\n",
       "75%    2018.000000       0.740000     3.500000     4.000000         4.000000\n",
       "max    2022.000000       1.000000     4.000000     5.000000         6.000000"
      ]
     },
     "execution_count": 15,
     "metadata": {},
     "output_type": "execute_result"
    }
   ],
   "source": [
    "# Get summary statstics on numerical data\n",
    "chocolate_cleaned.describe()"
   ]
  },
  {
   "cell_type": "code",
   "execution_count": 16,
   "id": "8c0e8cb7-91e7-4baa-9f85-445a2c50dddc",
   "metadata": {},
   "outputs": [
    {
     "data": {
      "text/html": [
       "<div>\n",
       "<style scoped>\n",
       "    .dataframe tbody tr th:only-of-type {\n",
       "        vertical-align: middle;\n",
       "    }\n",
       "\n",
       "    .dataframe tbody tr th {\n",
       "        vertical-align: top;\n",
       "    }\n",
       "\n",
       "    .dataframe thead th {\n",
       "        text-align: right;\n",
       "    }\n",
       "</style>\n",
       "<table border=\"1\" class=\"dataframe\">\n",
       "  <thead>\n",
       "    <tr style=\"text-align: right;\">\n",
       "      <th></th>\n",
       "      <th>company</th>\n",
       "      <th>location</th>\n",
       "      <th>bean_origin</th>\n",
       "      <th>ingredients</th>\n",
       "      <th>characteristics</th>\n",
       "    </tr>\n",
       "  </thead>\n",
       "  <tbody>\n",
       "    <tr>\n",
       "      <th>count</th>\n",
       "      <td>2501</td>\n",
       "      <td>2501</td>\n",
       "      <td>2501</td>\n",
       "      <td>2501</td>\n",
       "      <td>2501</td>\n",
       "    </tr>\n",
       "    <tr>\n",
       "      <th>unique</th>\n",
       "      <td>555</td>\n",
       "      <td>65</td>\n",
       "      <td>63</td>\n",
       "      <td>21</td>\n",
       "      <td>2461</td>\n",
       "    </tr>\n",
       "    <tr>\n",
       "      <th>top</th>\n",
       "      <td>Soma</td>\n",
       "      <td>U.S.A.</td>\n",
       "      <td>Venezuela</td>\n",
       "      <td>[B, S, C]</td>\n",
       "      <td>[spicy,  cocoa]</td>\n",
       "    </tr>\n",
       "    <tr>\n",
       "      <th>freq</th>\n",
       "      <td>57</td>\n",
       "      <td>1150</td>\n",
       "      <td>247</td>\n",
       "      <td>1029</td>\n",
       "      <td>4</td>\n",
       "    </tr>\n",
       "  </tbody>\n",
       "</table>\n",
       "</div>"
      ],
      "text/plain": [
       "       company location bean_origin ingredients  characteristics\n",
       "count     2501     2501        2501        2501             2501\n",
       "unique     555       65          63          21             2461\n",
       "top       Soma   U.S.A.   Venezuela   [B, S, C]  [spicy,  cocoa]\n",
       "freq        57     1150         247        1029                4"
      ]
     },
     "execution_count": 16,
     "metadata": {},
     "output_type": "execute_result"
    }
   ],
   "source": [
    "# Get summary statistics on non-numerical data\n",
    "chocolate_cleaned.describe(include = ['O'])"
   ]
  },
  {
   "cell_type": "markdown",
   "id": "42ede142-4904-467b-8047-784f06cf2753",
   "metadata": {},
   "source": [
    "### EDA"
   ]
  },
  {
   "cell_type": "code",
   "execution_count": 24,
   "id": "a7f5c174-625a-487d-aec2-79825deb4c86",
   "metadata": {},
   "outputs": [
    {
     "data": {
      "image/png": "[encoded data removed]",
      "text/plain": [
       "<Figure size 576x720 with 3 Axes>"
      ]
     },
     "metadata": {
      "needs_background": "light"
     },
     "output_type": "display_data"
    }
   ],
   "source": [
    "# Get histograms of the numerical data\n",
    "\n",
    "# Create figure\n",
    "fig, axes = plt.subplots(3, figsize = (8, 10), layout = 'constrained')\n",
    "\n",
    "# Specify features interested in\n",
    "num_features = ['cocoa_percent', 'rating_rank', 'num_ingredients']\n",
    "x_axes = num_features\n",
    "y_axes = ['Count', 'Count', 'Count']\n",
    "\n",
    "# Create histograms\n",
    "axes = np.ravel(axes)\n",
    "\n",
    "for idx, ax in enumerate(axes):\n",
    "    ax.hist(chocolate_cleaned[num_features[idx]].dropna(), bins = 10)\n",
    "    ax.set_xlabel(x_axes[idx], fontsize = 20)\n",
    "    ax.set_ylabel(y_axes[idx], fontsize = 20)\n",
    "    ax.tick_params(axis = 'both', labelsize = 15)\n",
    "    \n",
    "plt.show()"
   ]
  },
  {
   "cell_type": "markdown",
   "id": "10db0cd4-d4f3-45b0-8fdf-ad3360952ad0",
   "metadata": {},
   "source": [
    "Ratings are heavily left skewed. Cocoa percent and number of ingredients appear to be normally distributed."
   ]
  },
  {
   "cell_type": "code",
   "execution_count": 25,
   "id": "dafde45f-a642-4d71-8792-307bc3ba224f",
   "metadata": {},
   "outputs": [],
   "source": [
    "def ratings_colors(ratings):\n",
    "    '''\n",
    "    Color Code Ratings for bar chart\n",
    "    \n",
    "    args:\n",
    "        ratings (list)\n",
    "        \n",
    "    returns:\n",
    "        colors (dict)\n",
    "    '''\n",
    "    colors = {}\n",
    "    \n",
    "    for rating in ratings:\n",
    "        if rating == 1:\n",
    "            colors[\"Unpleasant\"] = \"#ff4545\"\n",
    "        elif rating == 2:\n",
    "            colors[\"Disappointing\"] = \"#ffa534\"\n",
    "        elif rating == 3:\n",
    "            colors[\"Recommended\"] = \"#ffe234\"\n",
    "        elif rating == 4:\n",
    "            colors[\"Highly Recommended\"] = \"#b7dd29\"\n",
    "        else:\n",
    "            colors[\"Outstanding\"] = \"#57e32c\"\n",
    "            \n",
    "    return colors"
   ]
  },
  {
   "cell_type": "code",
   "execution_count": 26,
   "id": "9eab1da6-4f86-4a70-a151-1d08868fa3c9",
   "metadata": {},
   "outputs": [
    {
     "data": {
      "text/plain": [
       "<matplotlib.legend.Legend at 0x1a3349e1430>"
      ]
     },
     "execution_count": 26,
     "metadata": {},
     "output_type": "execute_result"
    },
    {
     "data": {
      "image/png": "[encoded data removed]",
      "text/plain": [
       "<Figure size 1008x432 with 1 Axes>"
      ]
     },
     "metadata": {
      "needs_background": "light"
     },
     "output_type": "display_data"
    }
   ],
   "source": [
    "# Locations represented and mean rating\n",
    "by_location = chocolate_cleaned.groupby('location')['rating_rank'].mean()\n",
    "\n",
    "# Split of the parks and the counts\n",
    "locations = list(by_location.keys())\n",
    "means = list(by_location.values)\n",
    "\n",
    "# Create figure\n",
    "fig, ax = plt.subplots(1, 1, figsize = (14, 6), layout = 'constrained')\n",
    "\n",
    "# Color barchart based on ratings\n",
    "colors = ratings_colors(means)\n",
    "\n",
    "# Create barchart\n",
    "ax.bar(locations, means, width = 0.8, color = colors.values())\n",
    "\n",
    "# Customize labels\n",
    "ax.set_xticks(locations)\n",
    "ax.set_xticklabels(locations, rotation = 90)\n",
    "ax.set_title(\"Countries and their Average Rating\", fontsize = 20)\n",
    "ax.set_xlabel(\"Countries\", fontsize = 16)\n",
    "ax.set_ylabel(\"Mean Rating\", fontsize = 16)\n",
    "labels = list(colors.keys())\n",
    "handles = [plt.Rectangle((0,0),1,1, color=colors[label]) for label in labels]\n",
    "plt.legend(handles, labels, loc = \"center\")"
   ]
  },
  {
   "cell_type": "code",
   "execution_count": 27,
   "id": "dc8f564c-148e-4110-a711-ff673bf6299b",
   "metadata": {},
   "outputs": [
    {
     "data": {
      "text/plain": [
       "Text(0, 0.5, 'Mean Rating')"
      ]
     },
     "execution_count": 27,
     "metadata": {},
     "output_type": "execute_result"
    },
    {
     "data": {
      "image/png": "[encoded data removed]",
      "text/plain": [
       "<Figure size 1008x432 with 1 Axes>"
      ]
     },
     "metadata": {
      "needs_background": "light"
     },
     "output_type": "display_data"
    }
   ],
   "source": [
    "# Ingredients represented and mean rating\n",
    "by_ingredients = chocolate_cleaned.groupby('num_ingredients')['rating_rank'].mean()\n",
    "\n",
    "# Split of the parks and the counts\n",
    "ingredients = list(by_ingredients.keys())\n",
    "means = list(by_ingredients.values)\n",
    "\n",
    "# Create figure\n",
    "fig, ax = plt.subplots(1, 1, figsize = (14, 6), layout = 'constrained')\n",
    "\n",
    "# Create barchart\n",
    "ax.bar(ingredients, means, width = 0.8, color = \"#C19A6B\")\n",
    "\n",
    "# Customize labels\n",
    "ax.set_title(\"Number of Ingredients and their Average Rating\", fontsize = 20)\n",
    "ax.set_xlabel(\"Number of Ingredients\", fontsize = 16)\n",
    "ax.set_ylabel(\"Mean Rating\", fontsize = 16)"
   ]
  },
  {
   "cell_type": "code",
   "execution_count": 28,
   "id": "b6835ca4-c259-4dfe-82ed-2b09d70b8197",
   "metadata": {},
   "outputs": [
    {
     "data": {
      "text/plain": [
       "Text(0, 0.5, 'Mean Rating')"
      ]
     },
     "execution_count": 28,
     "metadata": {},
     "output_type": "execute_result"
    },
    {
     "data": {
      "image/png": "[encoded data removed]",
      "text/plain": [
       "<Figure size 1008x432 with 1 Axes>"
      ]
     },
     "metadata": {
      "needs_background": "light"
     },
     "output_type": "display_data"
    }
   ],
   "source": [
    "# Characteristics represented and mean rating\n",
    "by_characteristics = chocolate_cleaned.groupby('num_ingredients')['rating_rank'].mean()\n",
    "\n",
    "# Split of the parks and the counts\n",
    "characteristics = list(by_characteristics.keys())\n",
    "means = list(by_characteristics.values)\n",
    "\n",
    "# Create figure\n",
    "fig, ax = plt.subplots(1, 1, figsize = (14, 6), layout = 'constrained')\n",
    "\n",
    "# Create barchart\n",
    "ax.bar(characteristics, means, width = 0.8, color = \"#7B3F00\")\n",
    "\n",
    "# Customize labels\n",
    "ax.set_title(\"Number of Characteristics Mentioned and their Average Rating\", fontsize = 20)\n",
    "ax.set_xlabel(\"Number of Characteristics Mentioned\", fontsize = 16)\n",
    "ax.set_ylabel(\"Mean Rating\", fontsize = 16)"
   ]
  },
  {
   "cell_type": "code",
   "execution_count": 39,
   "id": "66320829-29ab-45f9-8d95-61782c8ee9b7",
   "metadata": {},
   "outputs": [
    {
     "data": {
      "text/plain": [
       "<matplotlib.legend.Legend at 0x1a3382b99a0>"
      ]
     },
     "execution_count": 39,
     "metadata": {},
     "output_type": "execute_result"
    },
    {
     "data": {
      "image/png": "[encoded data removed]",
      "text/plain": [
       "<Figure size 1008x432 with 1 Axes>"
      ]
     },
     "metadata": {
      "needs_background": "light"
     },
     "output_type": "display_data"
    }
   ],
   "source": [
    "# Bean Origin and mean rating\n",
    "by_origin = chocolate_cleaned.groupby('bean_origin')['rating_rank'].mean()\n",
    "\n",
    "# Split of the parks and the counts\n",
    "origin = list(by_origin.keys())\n",
    "means = list(by_origin.values)\n",
    "\n",
    "# Create figure\n",
    "fig, ax = plt.subplots(1, 1, figsize = (14, 6), layout = 'constrained')\n",
    "\n",
    "# Color barchart based on ratings\n",
    "colors = ratings_colors(means)\n",
    "\n",
    "# Create barchart\n",
    "ax.bar(origin, means, width = 0.8, color = colors.values())\n",
    "\n",
    "# Customize labels\n",
    "ax.set_xticks(origin)\n",
    "ax.set_xticklabels(origin, rotation = 90)\n",
    "ax.set_title(\"Bean Origin and their Average Rating\", fontsize = 20)\n",
    "ax.set_xlabel(\"Bean Origin\", fontsize = 16)\n",
    "ax.set_ylabel(\"Mean Rating\", fontsize = 16)\n",
    "\n",
    "# Cusromize Legend\n",
    "labels = list(colors.keys())\n",
    "handles = [plt.Rectangle((0,0),1,1, color = colors[label]) for label in labels]\n",
    "plt.legend(handles, labels, loc = \"lower center\")"
   ]
  },
  {
   "cell_type": "code",
   "execution_count": 23,
   "id": "4c39b135-501e-4891-8dbf-6e8157233cc9",
   "metadata": {},
   "outputs": [
    {
     "data": {
      "image/png": "[encoded data removed]",
      "text/plain": [
       "<Figure size 1080x576 with 2 Axes>"
      ]
     },
     "metadata": {
      "needs_background": "light"
     },
     "output_type": "display_data"
    }
   ],
   "source": [
    "# Correlations\n",
    "pearson_corr = chocolate_cleaned.corr(method = 'pearson').round(2)\n",
    "\n",
    "# create figure\n",
    "plt.figure(figsize = (15, 8))\n",
    "\n",
    "# Customize title\n",
    "plt.title(\"Correlation Matrix\", fontsize = 20)\n",
    "\n",
    "# Create heatmap of correlations\n",
    "sns.heatmap(pearson_corr, annot = True, vmax = 1, vmin = -1, center = 0, cmap = 'vlag')\n",
    "\n",
    "# display chart\n",
    "plt.show()"
   ]
  },
  {
   "cell_type": "markdown",
   "id": "98dda307-f04f-4b3c-b371-a8f0fc43912c",
   "metadata": {},
   "source": [
    "It does not appear to be any highly correlated features."
   ]
  },
  {
   "cell_type": "code",
   "execution_count": null,
   "id": "71dcf346-a9ef-4e06-b535-22e9eefd6763",
   "metadata": {},
   "outputs": [],
   "source": []
  }
 ],
 "metadata": {
  "kernelspec": {
   "display_name": "Python 3 (ipykernel)",
   "language": "python",
   "name": "python3"
  },
  "language_info": {
   "codemirror_mode": {
    "name": "ipython",
    "version": 3
   },
   "file_extension": ".py",
   "mimetype": "text/x-python",
   "name": "python",
   "nbconvert_exporter": "python",
   "pygments_lexer": "ipython3",
   "version": "3.8.8"
  }
 },
 "nbformat": 4,
 "nbformat_minor": 5
}
