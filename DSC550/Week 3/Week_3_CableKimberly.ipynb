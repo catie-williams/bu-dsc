{
 "cells": [
  {
   "cell_type": "markdown",
   "id": "3021ce9c-81e8-4520-869b-16c5d5fdb89c",
   "metadata": {},
   "source": [
    "# DSC 550 \n",
    "\n",
    "### Week 3:  Exercise 3.2\n",
    "\n",
    "Author: Kimberly Cable<br>\n",
    "Date: 6-25-2022"
   ]
  },
  {
   "cell_type": "markdown",
   "id": "15161a85-32eb-4231-8267-6b2889d02c0c",
   "metadata": {},
   "source": [
    "## Exercise 3.2: Sentiment Analysis and Preprocessing Text"
   ]
  },
  {
   "cell_type": "code",
   "execution_count": 1,
   "id": "09099b58-ee8d-419b-967d-84ae19cf1a06",
   "metadata": {},
   "outputs": [],
   "source": [
    "# import libraries\n",
    "import pandas as pd"
   ]
  },
  {
   "cell_type": "markdown",
   "id": "57fa3a93-0a94-4cef-a265-b95d53dea5b4",
   "metadata": {},
   "source": [
    "### Part 1: Using the TextBlob Sentiment Analyzer"
   ]
  },
  {
   "cell_type": "markdown",
   "id": "9943ed87-dee1-41ad-bcf2-b34c53aa3515",
   "metadata": {},
   "source": [
    "**1. Import the movie review data as a data frame and ensure that the data is loaded properly**"
   ]
  },
  {
   "cell_type": "code",
   "execution_count": 2,
   "id": "7c851307-e30b-4ce3-9611-8b12a7f86b0e",
   "metadata": {},
   "outputs": [
    {
     "data": {
      "text/html": [
       "<div>\n",
       "<style scoped>\n",
       "    .dataframe tbody tr th:only-of-type {\n",
       "        vertical-align: middle;\n",
       "    }\n",
       "\n",
       "    .dataframe tbody tr th {\n",
       "        vertical-align: top;\n",
       "    }\n",
       "\n",
       "    .dataframe thead th {\n",
       "        text-align: right;\n",
       "    }\n",
       "</style>\n",
       "<table border=\"1\" class=\"dataframe\">\n",
       "  <thead>\n",
       "    <tr style=\"text-align: right;\">\n",
       "      <th></th>\n",
       "      <th>id</th>\n",
       "      <th>sentiment</th>\n",
       "      <th>review</th>\n",
       "    </tr>\n",
       "  </thead>\n",
       "  <tbody>\n",
       "    <tr>\n",
       "      <th>0</th>\n",
       "      <td>5814_8</td>\n",
       "      <td>1</td>\n",
       "      <td>With all this stuff going down at the moment w...</td>\n",
       "    </tr>\n",
       "    <tr>\n",
       "      <th>1</th>\n",
       "      <td>2381_9</td>\n",
       "      <td>1</td>\n",
       "      <td>\\The Classic War of the Worlds\\\" by Timothy Hi...</td>\n",
       "    </tr>\n",
       "    <tr>\n",
       "      <th>2</th>\n",
       "      <td>7759_3</td>\n",
       "      <td>0</td>\n",
       "      <td>The film starts with a manager (Nicholas Bell)...</td>\n",
       "    </tr>\n",
       "    <tr>\n",
       "      <th>3</th>\n",
       "      <td>3630_4</td>\n",
       "      <td>0</td>\n",
       "      <td>It must be assumed that those who praised this...</td>\n",
       "    </tr>\n",
       "    <tr>\n",
       "      <th>4</th>\n",
       "      <td>9495_8</td>\n",
       "      <td>1</td>\n",
       "      <td>Superbly trashy and wondrously unpretentious 8...</td>\n",
       "    </tr>\n",
       "  </tbody>\n",
       "</table>\n",
       "</div>"
      ],
      "text/plain": [
       "       id  sentiment                                             review\n",
       "0  5814_8          1  With all this stuff going down at the moment w...\n",
       "1  2381_9          1  \\The Classic War of the Worlds\\\" by Timothy Hi...\n",
       "2  7759_3          0  The film starts with a manager (Nicholas Bell)...\n",
       "3  3630_4          0  It must be assumed that those who praised this...\n",
       "4  9495_8          1  Superbly trashy and wondrously unpretentious 8..."
      ]
     },
     "execution_count": 2,
     "metadata": {},
     "output_type": "execute_result"
    }
   ],
   "source": [
    "# read bag of words meets bags of popcorn training data\n",
    "path_reviews_training = r'labeledTrainData.tsv.zip'\n",
    "reviews_training = pd.read_csv(path_reviews_training, delimiter  = '\\t')\n",
    "reviews_training.head()"
   ]
  },
  {
   "cell_type": "code",
   "execution_count": 3,
   "id": "4f512a2c-264e-4d52-a8b3-664cb4759044",
   "metadata": {},
   "outputs": [
    {
     "data": {
      "text/plain": [
       "(25000, 3)"
      ]
     },
     "execution_count": 3,
     "metadata": {},
     "output_type": "execute_result"
    }
   ],
   "source": [
    "reviews_training.shape"
   ]
  },
  {
   "cell_type": "markdown",
   "id": "1f0650ef-248a-45b8-8a48-5329acfe307e",
   "metadata": {},
   "source": [
    "**2. How many of each positive and negative reviews are there?**"
   ]
  },
  {
   "cell_type": "code",
   "execution_count": 4,
   "id": "dd42235e-4e49-4a67-9a77-c99180a76dce",
   "metadata": {},
   "outputs": [
    {
     "data": {
      "text/plain": [
       "1    12500\n",
       "0    12500\n",
       "Name: sentiment, dtype: int64"
      ]
     },
     "execution_count": 4,
     "metadata": {},
     "output_type": "execute_result"
    }
   ],
   "source": [
    "reviews_training['sentiment'].value_counts()"
   ]
  },
  {
   "cell_type": "markdown",
   "id": "fdbdef36-e328-4076-81b1-06a97764c5a9",
   "metadata": {},
   "source": [
    "There are 12,500 positive and 12,500 negative reviews"
   ]
  },
  {
   "cell_type": "markdown",
   "id": "82d2e9d6-0bec-4023-9065-9d239412d340",
   "metadata": {},
   "source": [
    "**3. Use TextBlob to classify each movie review as positive or negative. Assume that a polarity score greater than or equal to zero is a positive sentiment and less than 0 is a negative sentiment.**"
   ]
  },
  {
   "cell_type": "code",
   "execution_count": 5,
   "id": "92ba5028-d429-4f9b-94e2-556c7a1d54b2",
   "metadata": {},
   "outputs": [],
   "source": [
    "# import library\n",
    "from textblob import TextBlob"
   ]
  },
  {
   "cell_type": "code",
   "execution_count": 6,
   "id": "8484092c-f5ef-4984-8d34-f3a7f55e611c",
   "metadata": {},
   "outputs": [
    {
     "data": {
      "text/html": [
       "<div>\n",
       "<style scoped>\n",
       "    .dataframe tbody tr th:only-of-type {\n",
       "        vertical-align: middle;\n",
       "    }\n",
       "\n",
       "    .dataframe tbody tr th {\n",
       "        vertical-align: top;\n",
       "    }\n",
       "\n",
       "    .dataframe thead th {\n",
       "        text-align: right;\n",
       "    }\n",
       "</style>\n",
       "<table border=\"1\" class=\"dataframe\">\n",
       "  <thead>\n",
       "    <tr style=\"text-align: right;\">\n",
       "      <th></th>\n",
       "      <th>id</th>\n",
       "      <th>sentiment</th>\n",
       "      <th>review</th>\n",
       "      <th>TextBlob_Subjectivity</th>\n",
       "      <th>TextBlob_Polarity</th>\n",
       "      <th>TextBlob_Analysis</th>\n",
       "    </tr>\n",
       "  </thead>\n",
       "  <tbody>\n",
       "    <tr>\n",
       "      <th>0</th>\n",
       "      <td>5814_8</td>\n",
       "      <td>1</td>\n",
       "      <td>With all this stuff going down at the moment w...</td>\n",
       "      <td>0.606746</td>\n",
       "      <td>0.001277</td>\n",
       "      <td>1</td>\n",
       "    </tr>\n",
       "    <tr>\n",
       "      <th>1</th>\n",
       "      <td>2381_9</td>\n",
       "      <td>1</td>\n",
       "      <td>\\The Classic War of the Worlds\\\" by Timothy Hi...</td>\n",
       "      <td>0.531111</td>\n",
       "      <td>0.256349</td>\n",
       "      <td>1</td>\n",
       "    </tr>\n",
       "    <tr>\n",
       "      <th>2</th>\n",
       "      <td>7759_3</td>\n",
       "      <td>0</td>\n",
       "      <td>The film starts with a manager (Nicholas Bell)...</td>\n",
       "      <td>0.562933</td>\n",
       "      <td>-0.053941</td>\n",
       "      <td>0</td>\n",
       "    </tr>\n",
       "    <tr>\n",
       "      <th>3</th>\n",
       "      <td>3630_4</td>\n",
       "      <td>0</td>\n",
       "      <td>It must be assumed that those who praised this...</td>\n",
       "      <td>0.492901</td>\n",
       "      <td>0.134753</td>\n",
       "      <td>1</td>\n",
       "    </tr>\n",
       "    <tr>\n",
       "      <th>4</th>\n",
       "      <td>9495_8</td>\n",
       "      <td>1</td>\n",
       "      <td>Superbly trashy and wondrously unpretentious 8...</td>\n",
       "      <td>0.459818</td>\n",
       "      <td>-0.024842</td>\n",
       "      <td>0</td>\n",
       "    </tr>\n",
       "  </tbody>\n",
       "</table>\n",
       "</div>"
      ],
      "text/plain": [
       "       id  sentiment                                             review  \\\n",
       "0  5814_8          1  With all this stuff going down at the moment w...   \n",
       "1  2381_9          1  \\The Classic War of the Worlds\\\" by Timothy Hi...   \n",
       "2  7759_3          0  The film starts with a manager (Nicholas Bell)...   \n",
       "3  3630_4          0  It must be assumed that those who praised this...   \n",
       "4  9495_8          1  Superbly trashy and wondrously unpretentious 8...   \n",
       "\n",
       "   TextBlob_Subjectivity  TextBlob_Polarity  TextBlob_Analysis  \n",
       "0               0.606746           0.001277                  1  \n",
       "1               0.531111           0.256349                  1  \n",
       "2               0.562933          -0.053941                  0  \n",
       "3               0.492901           0.134753                  1  \n",
       "4               0.459818          -0.024842                  0  "
      ]
     },
     "execution_count": 6,
     "metadata": {},
     "output_type": "execute_result"
    }
   ],
   "source": [
    "def sentiment_analysis_textblob(reviews):\n",
    "    def getSubjectivity(text):\n",
    "        return TextBlob(text).sentiment.subjectivity\n",
    "    \n",
    "    def getPolarity(text):\n",
    "        return TextBlob(text).sentiment.polarity\n",
    "    \n",
    "    reviews['TextBlob_Subjectivity'] = reviews['review'].apply(getSubjectivity)\n",
    "    reviews['TextBlob_Polarity'] = reviews['review'].apply(getPolarity)\n",
    "    \n",
    "    def getAnalysis(score):\n",
    "        if score < 0:\n",
    "            return 0\n",
    "        else:\n",
    "            return 1\n",
    "        \n",
    "    reviews['TextBlob_Analysis'] = reviews['TextBlob_Polarity'].apply(getAnalysis)\n",
    "\n",
    "sentiment_analysis_textblob(reviews_training)\n",
    "reviews_training.head()"
   ]
  },
  {
   "cell_type": "markdown",
   "id": "e1ca35c8-694e-479b-9361-c866e5c08300",
   "metadata": {},
   "source": [
    "**4. Check the accuracy of this model. Is this model better than random guessing?**"
   ]
  },
  {
   "cell_type": "code",
   "execution_count": 7,
   "id": "6c3ce922-d4d6-4bd3-b25e-b124d2cb2458",
   "metadata": {},
   "outputs": [
    {
     "name": "stdout",
     "output_type": "stream",
     "text": [
      "Accuracy is 68.524%\n"
     ]
    }
   ],
   "source": [
    "pos_correct = 0\n",
    "pos_count = 0\n",
    "\n",
    "for index, row in reviews_training.iterrows():\n",
    "    if row['TextBlob_Analysis'] == row['sentiment']:\n",
    "        pos_correct += 1\n",
    "    pos_count += 1\n",
    "    \n",
    "accuracy = (pos_correct / pos_count) * 100.0\n",
    "\n",
    "print(f\"Accuracy is {accuracy}%\")"
   ]
  },
  {
   "cell_type": "markdown",
   "id": "9b85fc91-ca10-4d0c-b253-6c6e2100ce21",
   "metadata": {},
   "source": [
    "The accuracy of the model is only about 69%. With random guessing you'd be at about 50% right as there are only two choices (positive or negative) so the model is better than just random guessing."
   ]
  },
  {
   "cell_type": "markdown",
   "id": "18fcf024-185f-43db-83ad-7db6e04ff74c",
   "metadata": {},
   "source": [
    "**5. For up to five points extra credit, use another prebuilt text sentiment analyzer, e.g., VADER, and repeat steps (3) and (4).**"
   ]
  },
  {
   "cell_type": "code",
   "execution_count": 8,
   "id": "1b6beacd-ef82-413d-8d1c-81f05961f607",
   "metadata": {},
   "outputs": [],
   "source": [
    "# import libraries\n",
    "from vaderSentiment.vaderSentiment import SentimentIntensityAnalyzer"
   ]
  },
  {
   "cell_type": "code",
   "execution_count": 9,
   "id": "c327dcd2-03de-4c4e-aefc-ae070be2c4a4",
   "metadata": {},
   "outputs": [
    {
     "data": {
      "text/html": [
       "<div>\n",
       "<style scoped>\n",
       "    .dataframe tbody tr th:only-of-type {\n",
       "        vertical-align: middle;\n",
       "    }\n",
       "\n",
       "    .dataframe tbody tr th {\n",
       "        vertical-align: top;\n",
       "    }\n",
       "\n",
       "    .dataframe thead th {\n",
       "        text-align: right;\n",
       "    }\n",
       "</style>\n",
       "<table border=\"1\" class=\"dataframe\">\n",
       "  <thead>\n",
       "    <tr style=\"text-align: right;\">\n",
       "      <th></th>\n",
       "      <th>id</th>\n",
       "      <th>sentiment</th>\n",
       "      <th>review</th>\n",
       "      <th>TextBlob_Subjectivity</th>\n",
       "      <th>TextBlob_Polarity</th>\n",
       "      <th>TextBlob_Analysis</th>\n",
       "      <th>Vader_Analysis</th>\n",
       "    </tr>\n",
       "  </thead>\n",
       "  <tbody>\n",
       "    <tr>\n",
       "      <th>0</th>\n",
       "      <td>5814_8</td>\n",
       "      <td>1</td>\n",
       "      <td>With all this stuff going down at the moment w...</td>\n",
       "      <td>0.606746</td>\n",
       "      <td>0.001277</td>\n",
       "      <td>1</td>\n",
       "      <td>0</td>\n",
       "    </tr>\n",
       "    <tr>\n",
       "      <th>1</th>\n",
       "      <td>2381_9</td>\n",
       "      <td>1</td>\n",
       "      <td>\\The Classic War of the Worlds\\\" by Timothy Hi...</td>\n",
       "      <td>0.531111</td>\n",
       "      <td>0.256349</td>\n",
       "      <td>1</td>\n",
       "      <td>1</td>\n",
       "    </tr>\n",
       "    <tr>\n",
       "      <th>2</th>\n",
       "      <td>7759_3</td>\n",
       "      <td>0</td>\n",
       "      <td>The film starts with a manager (Nicholas Bell)...</td>\n",
       "      <td>0.562933</td>\n",
       "      <td>-0.053941</td>\n",
       "      <td>0</td>\n",
       "      <td>0</td>\n",
       "    </tr>\n",
       "    <tr>\n",
       "      <th>3</th>\n",
       "      <td>3630_4</td>\n",
       "      <td>0</td>\n",
       "      <td>It must be assumed that those who praised this...</td>\n",
       "      <td>0.492901</td>\n",
       "      <td>0.134753</td>\n",
       "      <td>1</td>\n",
       "      <td>0</td>\n",
       "    </tr>\n",
       "    <tr>\n",
       "      <th>4</th>\n",
       "      <td>9495_8</td>\n",
       "      <td>1</td>\n",
       "      <td>Superbly trashy and wondrously unpretentious 8...</td>\n",
       "      <td>0.459818</td>\n",
       "      <td>-0.024842</td>\n",
       "      <td>0</td>\n",
       "      <td>1</td>\n",
       "    </tr>\n",
       "  </tbody>\n",
       "</table>\n",
       "</div>"
      ],
      "text/plain": [
       "       id  sentiment                                             review  \\\n",
       "0  5814_8          1  With all this stuff going down at the moment w...   \n",
       "1  2381_9          1  \\The Classic War of the Worlds\\\" by Timothy Hi...   \n",
       "2  7759_3          0  The film starts with a manager (Nicholas Bell)...   \n",
       "3  3630_4          0  It must be assumed that those who praised this...   \n",
       "4  9495_8          1  Superbly trashy and wondrously unpretentious 8...   \n",
       "\n",
       "   TextBlob_Subjectivity  TextBlob_Polarity  TextBlob_Analysis  Vader_Analysis  \n",
       "0               0.606746           0.001277                  1               0  \n",
       "1               0.531111           0.256349                  1               1  \n",
       "2               0.562933          -0.053941                  0               0  \n",
       "3               0.492901           0.134753                  1               0  \n",
       "4               0.459818          -0.024842                  0               1  "
      ]
     },
     "execution_count": 9,
     "metadata": {},
     "output_type": "execute_result"
    }
   ],
   "source": [
    "def sentiment_scores(review):\n",
    "    sid_obj = SentimentIntensityAnalyzer()\n",
    "    sentiment_dict = sid_obj.polarity_scores(review)\n",
    "        \n",
    "    if sentiment_dict['compound'] < 0:\n",
    "        return 0\n",
    "    else:\n",
    "        return 1\n",
    "\n",
    "reviews_training['Vader_Analysis'] = reviews_training['review'].apply(sentiment_scores)\n",
    "\n",
    "reviews_training.head()"
   ]
  },
  {
   "cell_type": "code",
   "execution_count": 10,
   "id": "04759078-665a-4b07-aaea-7122716dee3c",
   "metadata": {},
   "outputs": [
    {
     "name": "stdout",
     "output_type": "stream",
     "text": [
      "Accuracy is 69.404%\n"
     ]
    }
   ],
   "source": [
    "# Check the accuracy of Vader\n",
    "pos_correct = 0\n",
    "pos_count = 0\n",
    "\n",
    "for index, row in reviews_training.iterrows():\n",
    "    if row['Vader_Analysis'] == row['sentiment']:\n",
    "        pos_correct += 1\n",
    "    pos_count += 1\n",
    "    \n",
    "accuracy = (pos_correct / pos_count) * 100.0\n",
    "\n",
    "print(f\"Accuracy is {accuracy}%\")"
   ]
  },
  {
   "cell_type": "markdown",
   "id": "8af125d7-0429-4f6a-92a8-825776f647fd",
   "metadata": {},
   "source": [
    "It looks like the Vader analysis is slightly higher than the TextBlob analysis."
   ]
  },
  {
   "cell_type": "markdown",
   "id": "1cfbd875-1162-4cac-9473-8500652b7776",
   "metadata": {},
   "source": [
    "### Part 2: Prepping Text for a Custom Model"
   ]
  },
  {
   "cell_type": "markdown",
   "id": "e21ffc35-41b4-4858-872e-90e60b830784",
   "metadata": {},
   "source": [
    "If you want to run your own model to classify text, it needs to be in proper form to do so. The following steps will outline a procedure to do this on the movie reviews text."
   ]
  },
  {
   "cell_type": "markdown",
   "id": "f6cb37c9-59ba-4b3d-b46b-52eb09faa1e7",
   "metadata": {},
   "source": [
    "**1. Convert all text to lowercase letters.**"
   ]
  },
  {
   "cell_type": "code",
   "execution_count": 11,
   "id": "1843bb34-d860-4ecd-b225-0a6bef27b30a",
   "metadata": {},
   "outputs": [
    {
     "data": {
      "text/plain": [
       "\"with all this stuff going down at the moment with mj i've started listening to his music, watching the odd documentary here and there, watched the wiz and watched moonwalker again. maybe i just want to get a certain insight into this guy who i thought was really cool in the eighties just to maybe make up my mind whether he is guilty or innocent. moonwalker is part biography, part feature film which i remember going to see at the cinema when it was originally released. some of it has subtle messages about mj's feeling towards the press and also the obvious message of drugs are bad m'kay.<br /><br />visually impressive but of course this is all about michael jackson so unless you remotely like mj in anyway then you are going to hate this and find it boring. some may call mj an egotist for consenting to the making of this movie but mj and most of his fans would say that he made it for the fans which if true is really nice of him.<br /><br />the actual feature film bit when it finally starts is only on for 20 minutes or so excluding the smooth criminal sequence and joe pesci is convincing as a psychopathic all powerful drug lord. why he wants mj dead so bad is beyond me. because mj overheard his plans? nah, joe pesci's character ranted that he wanted people to know it is he who is supplying drugs etc so i dunno, maybe he just hates mj's music.<br /><br />lots of cool things in this like mj turning into a car and a robot and the whole speed demon sequence. also, the director must have had the patience of a saint when it came to filming the kiddy bad sequence as usually directors hate working with one kid let alone a whole bunch of them performing a complex dance scene.<br /><br />bottom line, this movie is for people who like mj on one level or another (which i think is most people). if not, then stay away. it does try and give off a wholesome message and ironically mj's bestest buddy in this movie is a girl! michael jackson is truly one of the most talented people ever to grace this planet but is he guilty? well, with all the attention i've gave this subject....hmmm well i don't know because people can be different behind closed doors, i know this for a fact. he is either an extremely nice but stupid guy or one of the most sickest liars. i hope he is not the latter.\""
      ]
     },
     "execution_count": 11,
     "metadata": {},
     "output_type": "execute_result"
    }
   ],
   "source": [
    "reviews_training['review'] = reviews_training['review'].str.lower()\n",
    "reviews_training['review'][0]"
   ]
  },
  {
   "cell_type": "markdown",
   "id": "bd66b9fe-39f1-48c0-a0a5-50d0022be7e4",
   "metadata": {},
   "source": [
    "**2. Remove punctuation and special characters from the text.**"
   ]
  },
  {
   "cell_type": "code",
   "execution_count": 12,
   "id": "df5e8120-4353-435a-a519-f9c6b1570f88",
   "metadata": {},
   "outputs": [],
   "source": [
    "# import libraries\n",
    "import string\n",
    "import re"
   ]
  },
  {
   "cell_type": "code",
   "execution_count": 13,
   "id": "f13f86c0-efa2-4a37-8c9a-917db7a38015",
   "metadata": {},
   "outputs": [
    {
     "data": {
      "text/plain": [
       "\"with all this stuff going down at the moment with mj i've started listening to his music, watching the odd documentary here and there, watched the wiz and watched moonwalker again. maybe i just want to get a certain insight into this guy who i thought was really cool in the eighties just to maybe make up my mind whether he is guilty or innocent. moonwalker is part biography, part feature film which i remember going to see at the cinema when it was originally released. some of it has subtle messages about mj's feeling towards the press and also the obvious message of drugs are bad m'kay.  visually impressive but of course this is all about michael jackson so unless you remotely like mj in anyway then you are going to hate this and find it boring. some may call mj an egotist for consenting to the making of this movie but mj and most of his fans would say that he made it for the fans which if true is really nice of him.  the actual feature film bit when it finally starts is only on for 20 minutes or so excluding the smooth criminal sequence and joe pesci is convincing as a psychopathic all powerful drug lord. why he wants mj dead so bad is beyond me. because mj overheard his plans? nah, joe pesci's character ranted that he wanted people to know it is he who is supplying drugs etc so i dunno, maybe he just hates mj's music.  lots of cool things in this like mj turning into a car and a robot and the whole speed demon sequence. also, the director must have had the patience of a saint when it came to filming the kiddy bad sequence as usually directors hate working with one kid let alone a whole bunch of them performing a complex dance scene.  bottom line, this movie is for people who like mj on one level or another (which i think is most people). if not, then stay away. it does try and give off a wholesome message and ironically mj's bestest buddy in this movie is a girl! michael jackson is truly one of the most talented people ever to grace this planet but is he guilty? well, with all the attention i've gave this subject....hmmm well i don't know because people can be different behind closed doors, i know this for a fact. he is either an extremely nice but stupid guy or one of the most sickest liars. i hope he is not the latter.\""
      ]
     },
     "execution_count": 13,
     "metadata": {},
     "output_type": "execute_result"
    }
   ],
   "source": [
    "# remove html from text\n",
    "reviews_training['review_cleaned'] = reviews_training['review'].str.replace(r'<[^<>]*>', ' ', regex = True)\n",
    "reviews_training['review_cleaned'][0]"
   ]
  },
  {
   "cell_type": "code",
   "execution_count": 14,
   "id": "c3bf82c2-d339-4b59-b3a8-4006088e16b9",
   "metadata": {},
   "outputs": [
    {
     "data": {
      "text/plain": [
       "'with all this stuff going down at the moment with mj ive started listening to his music watching the odd documentary here and there watched the wiz and watched moonwalker again maybe i just want to get a certain insight into this guy who i thought was really cool in the eighties just to maybe make up my mind whether he is guilty or innocent moonwalker is part biography part feature film which i remember going to see at the cinema when it was originally released some of it has subtle messages about mjs feeling towards the press and also the obvious message of drugs are bad mkay  visually impressive but of course this is all about michael jackson so unless you remotely like mj in anyway then you are going to hate this and find it boring some may call mj an egotist for consenting to the making of this movie but mj and most of his fans would say that he made it for the fans which if true is really nice of him  the actual feature film bit when it finally starts is only on for 20 minutes or so excluding the smooth criminal sequence and joe pesci is convincing as a psychopathic all powerful drug lord why he wants mj dead so bad is beyond me because mj overheard his plans nah joe pescis character ranted that he wanted people to know it is he who is supplying drugs etc so i dunno maybe he just hates mjs music  lots of cool things in this like mj turning into a car and a robot and the whole speed demon sequence also the director must have had the patience of a saint when it came to filming the kiddy bad sequence as usually directors hate working with one kid let alone a whole bunch of them performing a complex dance scene  bottom line this movie is for people who like mj on one level or another which i think is most people if not then stay away it does try and give off a wholesome message and ironically mjs bestest buddy in this movie is a girl michael jackson is truly one of the most talented people ever to grace this planet but is he guilty well with all the attention ive gave this subjecthmmm well i dont know because people can be different behind closed doors i know this for a fact he is either an extremely nice but stupid guy or one of the most sickest liars i hope he is not the latter'"
      ]
     },
     "execution_count": 14,
     "metadata": {},
     "output_type": "execute_result"
    }
   ],
   "source": [
    "# remove all punctuation from review and create new column\n",
    "reviews_training['review_cleaned'] = reviews_training['review_cleaned'].str.translate(str.maketrans('', '', string.punctuation))\n",
    "reviews_training['review_cleaned'][0]"
   ]
  },
  {
   "cell_type": "markdown",
   "id": "8a6726e0-5fcf-47a0-9336-d501acc04507",
   "metadata": {},
   "source": [
    "**3. Remove stop words.**"
   ]
  },
  {
   "cell_type": "code",
   "execution_count": 15,
   "id": "488a726f-46e4-4a52-a505-5c1a685842dc",
   "metadata": {},
   "outputs": [],
   "source": [
    "# import libraries\n",
    "from nltk.tokenize import word_tokenize"
   ]
  },
  {
   "cell_type": "code",
   "execution_count": 16,
   "id": "20aa6f24-d9f8-4760-ba7e-e4f7b58090fc",
   "metadata": {},
   "outputs": [
    {
     "data": {
      "text/plain": [
       "['with',\n",
       " 'all',\n",
       " 'this',\n",
       " 'stuff',\n",
       " 'going',\n",
       " 'down',\n",
       " 'at',\n",
       " 'the',\n",
       " 'moment',\n",
       " 'with',\n",
       " 'mj',\n",
       " 'ive',\n",
       " 'started',\n",
       " 'listening',\n",
       " 'to',\n",
       " 'his',\n",
       " 'music',\n",
       " 'watching',\n",
       " 'the',\n",
       " 'odd',\n",
       " 'documentary',\n",
       " 'here',\n",
       " 'and',\n",
       " 'there',\n",
       " 'watched',\n",
       " 'the',\n",
       " 'wiz',\n",
       " 'and',\n",
       " 'watched',\n",
       " 'moonwalker',\n",
       " 'again',\n",
       " 'maybe',\n",
       " 'i',\n",
       " 'just',\n",
       " 'want',\n",
       " 'to',\n",
       " 'get',\n",
       " 'a',\n",
       " 'certain',\n",
       " 'insight',\n",
       " 'into',\n",
       " 'this',\n",
       " 'guy',\n",
       " 'who',\n",
       " 'i',\n",
       " 'thought',\n",
       " 'was',\n",
       " 'really',\n",
       " 'cool',\n",
       " 'in',\n",
       " 'the',\n",
       " 'eighties',\n",
       " 'just',\n",
       " 'to',\n",
       " 'maybe',\n",
       " 'make',\n",
       " 'up',\n",
       " 'my',\n",
       " 'mind',\n",
       " 'whether',\n",
       " 'he',\n",
       " 'is',\n",
       " 'guilty',\n",
       " 'or',\n",
       " 'innocent',\n",
       " 'moonwalker',\n",
       " 'is',\n",
       " 'part',\n",
       " 'biography',\n",
       " 'part',\n",
       " 'feature',\n",
       " 'film',\n",
       " 'which',\n",
       " 'i',\n",
       " 'remember',\n",
       " 'going',\n",
       " 'to',\n",
       " 'see',\n",
       " 'at',\n",
       " 'the',\n",
       " 'cinema',\n",
       " 'when',\n",
       " 'it',\n",
       " 'was',\n",
       " 'originally',\n",
       " 'released',\n",
       " 'some',\n",
       " 'of',\n",
       " 'it',\n",
       " 'has',\n",
       " 'subtle',\n",
       " 'messages',\n",
       " 'about',\n",
       " 'mjs',\n",
       " 'feeling',\n",
       " 'towards',\n",
       " 'the',\n",
       " 'press',\n",
       " 'and',\n",
       " 'also',\n",
       " 'the',\n",
       " 'obvious',\n",
       " 'message',\n",
       " 'of',\n",
       " 'drugs',\n",
       " 'are',\n",
       " 'bad',\n",
       " 'mkay',\n",
       " 'visually',\n",
       " 'impressive',\n",
       " 'but',\n",
       " 'of',\n",
       " 'course',\n",
       " 'this',\n",
       " 'is',\n",
       " 'all',\n",
       " 'about',\n",
       " 'michael',\n",
       " 'jackson',\n",
       " 'so',\n",
       " 'unless',\n",
       " 'you',\n",
       " 'remotely',\n",
       " 'like',\n",
       " 'mj',\n",
       " 'in',\n",
       " 'anyway',\n",
       " 'then',\n",
       " 'you',\n",
       " 'are',\n",
       " 'going',\n",
       " 'to',\n",
       " 'hate',\n",
       " 'this',\n",
       " 'and',\n",
       " 'find',\n",
       " 'it',\n",
       " 'boring',\n",
       " 'some',\n",
       " 'may',\n",
       " 'call',\n",
       " 'mj',\n",
       " 'an',\n",
       " 'egotist',\n",
       " 'for',\n",
       " 'consenting',\n",
       " 'to',\n",
       " 'the',\n",
       " 'making',\n",
       " 'of',\n",
       " 'this',\n",
       " 'movie',\n",
       " 'but',\n",
       " 'mj',\n",
       " 'and',\n",
       " 'most',\n",
       " 'of',\n",
       " 'his',\n",
       " 'fans',\n",
       " 'would',\n",
       " 'say',\n",
       " 'that',\n",
       " 'he',\n",
       " 'made',\n",
       " 'it',\n",
       " 'for',\n",
       " 'the',\n",
       " 'fans',\n",
       " 'which',\n",
       " 'if',\n",
       " 'true',\n",
       " 'is',\n",
       " 'really',\n",
       " 'nice',\n",
       " 'of',\n",
       " 'him',\n",
       " 'the',\n",
       " 'actual',\n",
       " 'feature',\n",
       " 'film',\n",
       " 'bit',\n",
       " 'when',\n",
       " 'it',\n",
       " 'finally',\n",
       " 'starts',\n",
       " 'is',\n",
       " 'only',\n",
       " 'on',\n",
       " 'for',\n",
       " '20',\n",
       " 'minutes',\n",
       " 'or',\n",
       " 'so',\n",
       " 'excluding',\n",
       " 'the',\n",
       " 'smooth',\n",
       " 'criminal',\n",
       " 'sequence',\n",
       " 'and',\n",
       " 'joe',\n",
       " 'pesci',\n",
       " 'is',\n",
       " 'convincing',\n",
       " 'as',\n",
       " 'a',\n",
       " 'psychopathic',\n",
       " 'all',\n",
       " 'powerful',\n",
       " 'drug',\n",
       " 'lord',\n",
       " 'why',\n",
       " 'he',\n",
       " 'wants',\n",
       " 'mj',\n",
       " 'dead',\n",
       " 'so',\n",
       " 'bad',\n",
       " 'is',\n",
       " 'beyond',\n",
       " 'me',\n",
       " 'because',\n",
       " 'mj',\n",
       " 'overheard',\n",
       " 'his',\n",
       " 'plans',\n",
       " 'nah',\n",
       " 'joe',\n",
       " 'pescis',\n",
       " 'character',\n",
       " 'ranted',\n",
       " 'that',\n",
       " 'he',\n",
       " 'wanted',\n",
       " 'people',\n",
       " 'to',\n",
       " 'know',\n",
       " 'it',\n",
       " 'is',\n",
       " 'he',\n",
       " 'who',\n",
       " 'is',\n",
       " 'supplying',\n",
       " 'drugs',\n",
       " 'etc',\n",
       " 'so',\n",
       " 'i',\n",
       " 'dunno',\n",
       " 'maybe',\n",
       " 'he',\n",
       " 'just',\n",
       " 'hates',\n",
       " 'mjs',\n",
       " 'music',\n",
       " 'lots',\n",
       " 'of',\n",
       " 'cool',\n",
       " 'things',\n",
       " 'in',\n",
       " 'this',\n",
       " 'like',\n",
       " 'mj',\n",
       " 'turning',\n",
       " 'into',\n",
       " 'a',\n",
       " 'car',\n",
       " 'and',\n",
       " 'a',\n",
       " 'robot',\n",
       " 'and',\n",
       " 'the',\n",
       " 'whole',\n",
       " 'speed',\n",
       " 'demon',\n",
       " 'sequence',\n",
       " 'also',\n",
       " 'the',\n",
       " 'director',\n",
       " 'must',\n",
       " 'have',\n",
       " 'had',\n",
       " 'the',\n",
       " 'patience',\n",
       " 'of',\n",
       " 'a',\n",
       " 'saint',\n",
       " 'when',\n",
       " 'it',\n",
       " 'came',\n",
       " 'to',\n",
       " 'filming',\n",
       " 'the',\n",
       " 'kiddy',\n",
       " 'bad',\n",
       " 'sequence',\n",
       " 'as',\n",
       " 'usually',\n",
       " 'directors',\n",
       " 'hate',\n",
       " 'working',\n",
       " 'with',\n",
       " 'one',\n",
       " 'kid',\n",
       " 'let',\n",
       " 'alone',\n",
       " 'a',\n",
       " 'whole',\n",
       " 'bunch',\n",
       " 'of',\n",
       " 'them',\n",
       " 'performing',\n",
       " 'a',\n",
       " 'complex',\n",
       " 'dance',\n",
       " 'scene',\n",
       " 'bottom',\n",
       " 'line',\n",
       " 'this',\n",
       " 'movie',\n",
       " 'is',\n",
       " 'for',\n",
       " 'people',\n",
       " 'who',\n",
       " 'like',\n",
       " 'mj',\n",
       " 'on',\n",
       " 'one',\n",
       " 'level',\n",
       " 'or',\n",
       " 'another',\n",
       " 'which',\n",
       " 'i',\n",
       " 'think',\n",
       " 'is',\n",
       " 'most',\n",
       " 'people',\n",
       " 'if',\n",
       " 'not',\n",
       " 'then',\n",
       " 'stay',\n",
       " 'away',\n",
       " 'it',\n",
       " 'does',\n",
       " 'try',\n",
       " 'and',\n",
       " 'give',\n",
       " 'off',\n",
       " 'a',\n",
       " 'wholesome',\n",
       " 'message',\n",
       " 'and',\n",
       " 'ironically',\n",
       " 'mjs',\n",
       " 'bestest',\n",
       " 'buddy',\n",
       " 'in',\n",
       " 'this',\n",
       " 'movie',\n",
       " 'is',\n",
       " 'a',\n",
       " 'girl',\n",
       " 'michael',\n",
       " 'jackson',\n",
       " 'is',\n",
       " 'truly',\n",
       " 'one',\n",
       " 'of',\n",
       " 'the',\n",
       " 'most',\n",
       " 'talented',\n",
       " 'people',\n",
       " 'ever',\n",
       " 'to',\n",
       " 'grace',\n",
       " 'this',\n",
       " 'planet',\n",
       " 'but',\n",
       " 'is',\n",
       " 'he',\n",
       " 'guilty',\n",
       " 'well',\n",
       " 'with',\n",
       " 'all',\n",
       " 'the',\n",
       " 'attention',\n",
       " 'ive',\n",
       " 'gave',\n",
       " 'this',\n",
       " 'subjecthmmm',\n",
       " 'well',\n",
       " 'i',\n",
       " 'dont',\n",
       " 'know',\n",
       " 'because',\n",
       " 'people',\n",
       " 'can',\n",
       " 'be',\n",
       " 'different',\n",
       " 'behind',\n",
       " 'closed',\n",
       " 'doors',\n",
       " 'i',\n",
       " 'know',\n",
       " 'this',\n",
       " 'for',\n",
       " 'a',\n",
       " 'fact',\n",
       " 'he',\n",
       " 'is',\n",
       " 'either',\n",
       " 'an',\n",
       " 'extremely',\n",
       " 'nice',\n",
       " 'but',\n",
       " 'stupid',\n",
       " 'guy',\n",
       " 'or',\n",
       " 'one',\n",
       " 'of',\n",
       " 'the',\n",
       " 'most',\n",
       " 'sickest',\n",
       " 'liars',\n",
       " 'i',\n",
       " 'hope',\n",
       " 'he',\n",
       " 'is',\n",
       " 'not',\n",
       " 'the',\n",
       " 'latter']"
      ]
     },
     "execution_count": 16,
     "metadata": {},
     "output_type": "execute_result"
    }
   ],
   "source": [
    "# tokenize text into new column\n",
    "reviews_training['tokenized_review'] = reviews_training['review_cleaned'].apply(word_tokenize)\n",
    "reviews_training['tokenized_review'][0]"
   ]
  },
  {
   "cell_type": "code",
   "execution_count": 17,
   "id": "58b5794b-d28e-486d-ba3b-8b6d948fe0fa",
   "metadata": {},
   "outputs": [
    {
     "name": "stderr",
     "output_type": "stream",
     "text": [
      "[nltk_data] Downloading package stopwords to\n",
      "[nltk_data]     C:\\Users\\Osgiliath\\AppData\\Roaming\\nltk_data...\n",
      "[nltk_data]   Package stopwords is already up-to-date!\n"
     ]
    },
    {
     "data": {
      "text/plain": [
       "True"
      ]
     },
     "execution_count": 17,
     "metadata": {},
     "output_type": "execute_result"
    }
   ],
   "source": [
    "# import libraries\n",
    "import nltk\n",
    "\n",
    "from nltk.corpus import stopwords\n",
    "nltk.download('stopwords')"
   ]
  },
  {
   "cell_type": "code",
   "execution_count": 18,
   "id": "13b583d3-918f-458a-9afd-1dcb8373f87d",
   "metadata": {},
   "outputs": [],
   "source": [
    "# load stop words\n",
    "stop_words = stopwords.words('english')"
   ]
  },
  {
   "cell_type": "code",
   "execution_count": 19,
   "id": "ac7d9162-2b25-4179-a700-52ad5e1e33d5",
   "metadata": {},
   "outputs": [
    {
     "data": {
      "text/plain": [
       "['stuff',\n",
       " 'going',\n",
       " 'moment',\n",
       " 'mj',\n",
       " 'ive',\n",
       " 'started',\n",
       " 'listening',\n",
       " 'music',\n",
       " 'watching',\n",
       " 'odd',\n",
       " 'documentary',\n",
       " 'watched',\n",
       " 'wiz',\n",
       " 'watched',\n",
       " 'moonwalker',\n",
       " 'maybe',\n",
       " 'want',\n",
       " 'get',\n",
       " 'certain',\n",
       " 'insight',\n",
       " 'guy',\n",
       " 'thought',\n",
       " 'really',\n",
       " 'cool',\n",
       " 'eighties',\n",
       " 'maybe',\n",
       " 'make',\n",
       " 'mind',\n",
       " 'whether',\n",
       " 'guilty',\n",
       " 'innocent',\n",
       " 'moonwalker',\n",
       " 'part',\n",
       " 'biography',\n",
       " 'part',\n",
       " 'feature',\n",
       " 'film',\n",
       " 'remember',\n",
       " 'going',\n",
       " 'see',\n",
       " 'cinema',\n",
       " 'originally',\n",
       " 'released',\n",
       " 'subtle',\n",
       " 'messages',\n",
       " 'mjs',\n",
       " 'feeling',\n",
       " 'towards',\n",
       " 'press',\n",
       " 'also',\n",
       " 'obvious',\n",
       " 'message',\n",
       " 'drugs',\n",
       " 'bad',\n",
       " 'mkay',\n",
       " 'visually',\n",
       " 'impressive',\n",
       " 'course',\n",
       " 'michael',\n",
       " 'jackson',\n",
       " 'unless',\n",
       " 'remotely',\n",
       " 'like',\n",
       " 'mj',\n",
       " 'anyway',\n",
       " 'going',\n",
       " 'hate',\n",
       " 'find',\n",
       " 'boring',\n",
       " 'may',\n",
       " 'call',\n",
       " 'mj',\n",
       " 'egotist',\n",
       " 'consenting',\n",
       " 'making',\n",
       " 'movie',\n",
       " 'mj',\n",
       " 'fans',\n",
       " 'would',\n",
       " 'say',\n",
       " 'made',\n",
       " 'fans',\n",
       " 'true',\n",
       " 'really',\n",
       " 'nice',\n",
       " 'actual',\n",
       " 'feature',\n",
       " 'film',\n",
       " 'bit',\n",
       " 'finally',\n",
       " 'starts',\n",
       " '20',\n",
       " 'minutes',\n",
       " 'excluding',\n",
       " 'smooth',\n",
       " 'criminal',\n",
       " 'sequence',\n",
       " 'joe',\n",
       " 'pesci',\n",
       " 'convincing',\n",
       " 'psychopathic',\n",
       " 'powerful',\n",
       " 'drug',\n",
       " 'lord',\n",
       " 'wants',\n",
       " 'mj',\n",
       " 'dead',\n",
       " 'bad',\n",
       " 'beyond',\n",
       " 'mj',\n",
       " 'overheard',\n",
       " 'plans',\n",
       " 'nah',\n",
       " 'joe',\n",
       " 'pescis',\n",
       " 'character',\n",
       " 'ranted',\n",
       " 'wanted',\n",
       " 'people',\n",
       " 'know',\n",
       " 'supplying',\n",
       " 'drugs',\n",
       " 'etc',\n",
       " 'dunno',\n",
       " 'maybe',\n",
       " 'hates',\n",
       " 'mjs',\n",
       " 'music',\n",
       " 'lots',\n",
       " 'cool',\n",
       " 'things',\n",
       " 'like',\n",
       " 'mj',\n",
       " 'turning',\n",
       " 'car',\n",
       " 'robot',\n",
       " 'whole',\n",
       " 'speed',\n",
       " 'demon',\n",
       " 'sequence',\n",
       " 'also',\n",
       " 'director',\n",
       " 'must',\n",
       " 'patience',\n",
       " 'saint',\n",
       " 'came',\n",
       " 'filming',\n",
       " 'kiddy',\n",
       " 'bad',\n",
       " 'sequence',\n",
       " 'usually',\n",
       " 'directors',\n",
       " 'hate',\n",
       " 'working',\n",
       " 'one',\n",
       " 'kid',\n",
       " 'let',\n",
       " 'alone',\n",
       " 'whole',\n",
       " 'bunch',\n",
       " 'performing',\n",
       " 'complex',\n",
       " 'dance',\n",
       " 'scene',\n",
       " 'bottom',\n",
       " 'line',\n",
       " 'movie',\n",
       " 'people',\n",
       " 'like',\n",
       " 'mj',\n",
       " 'one',\n",
       " 'level',\n",
       " 'another',\n",
       " 'think',\n",
       " 'people',\n",
       " 'stay',\n",
       " 'away',\n",
       " 'try',\n",
       " 'give',\n",
       " 'wholesome',\n",
       " 'message',\n",
       " 'ironically',\n",
       " 'mjs',\n",
       " 'bestest',\n",
       " 'buddy',\n",
       " 'movie',\n",
       " 'girl',\n",
       " 'michael',\n",
       " 'jackson',\n",
       " 'truly',\n",
       " 'one',\n",
       " 'talented',\n",
       " 'people',\n",
       " 'ever',\n",
       " 'grace',\n",
       " 'planet',\n",
       " 'guilty',\n",
       " 'well',\n",
       " 'attention',\n",
       " 'ive',\n",
       " 'gave',\n",
       " 'subjecthmmm',\n",
       " 'well',\n",
       " 'dont',\n",
       " 'know',\n",
       " 'people',\n",
       " 'different',\n",
       " 'behind',\n",
       " 'closed',\n",
       " 'doors',\n",
       " 'know',\n",
       " 'fact',\n",
       " 'either',\n",
       " 'extremely',\n",
       " 'nice',\n",
       " 'stupid',\n",
       " 'guy',\n",
       " 'one',\n",
       " 'sickest',\n",
       " 'liars',\n",
       " 'hope',\n",
       " 'latter']"
      ]
     },
     "execution_count": 19,
     "metadata": {},
     "output_type": "execute_result"
    }
   ],
   "source": [
    "# Remove stop words\n",
    "reviews_training['review_no_stopwords'] = reviews_training['tokenized_review'].apply(\n",
    "    lambda x: [item for item in x if item not in stop_words])\n",
    "\n",
    "reviews_training['review_no_stopwords'][0]"
   ]
  },
  {
   "cell_type": "markdown",
   "id": "07629929-98dd-48b5-8eca-1bf34b38bfe7",
   "metadata": {},
   "source": [
    "**4. Apply NLTK’s PorterStemmer.**"
   ]
  },
  {
   "cell_type": "code",
   "execution_count": 20,
   "id": "4385ea5c-b29c-458e-a17e-0e05397debc1",
   "metadata": {},
   "outputs": [],
   "source": [
    "# import libraries\n",
    "from nltk.stem.porter import PorterStemmer"
   ]
  },
  {
   "cell_type": "code",
   "execution_count": 21,
   "id": "adf94867-5be9-48d5-9e07-61da9c864271",
   "metadata": {},
   "outputs": [],
   "source": [
    "# create stemmer\n",
    "porter = PorterStemmer()"
   ]
  },
  {
   "cell_type": "code",
   "execution_count": 22,
   "id": "aec970c2-5b9a-4299-8869-685bb9076222",
   "metadata": {},
   "outputs": [],
   "source": [
    "# Apply stemmer\n",
    "def stem_review(words):\n",
    "    return [porter.stem(word) for word in words]\n",
    "    \n",
    "reviews_training['review_stemmer'] = reviews_training['review_no_stopwords'].apply(stem_review)"
   ]
  },
  {
   "cell_type": "code",
   "execution_count": 23,
   "id": "2a6c8deb-ba1c-44d7-bf20-ea6034ffb2c1",
   "metadata": {},
   "outputs": [
    {
     "data": {
      "text/plain": [
       "222"
      ]
     },
     "execution_count": 23,
     "metadata": {},
     "output_type": "execute_result"
    }
   ],
   "source": [
    "len(reviews_training['review_stemmer'][0])"
   ]
  },
  {
   "cell_type": "markdown",
   "id": "7c886347-4d56-414f-83d1-6024cc4cce3f",
   "metadata": {},
   "source": [
    "**5. Create a bag-of-words matrix from your stemmed text (output from (4)), where each row is a word-count vector for a single movie review (see sections 5.3 & 6.8 in the Machine Learning with Python Cookbook). Display the dimensions of your bag-of-words matrix. The number of rows in this matrix should be the same as the number of rows in your original data frame.**"
   ]
  },
  {
   "cell_type": "code",
   "execution_count": 24,
   "id": "33d71b3c-c2be-49e2-8cd0-ddaf96959983",
   "metadata": {},
   "outputs": [],
   "source": [
    "# import libraries\n",
    "import numpy as np\n",
    "from sklearn.feature_extraction.text import CountVectorizer"
   ]
  },
  {
   "cell_type": "code",
   "execution_count": 25,
   "id": "37f08a43-aef1-4423-b610-e9ab3546db08",
   "metadata": {},
   "outputs": [
    {
     "data": {
      "text/plain": [
       "array([[0, 0, 0, ..., 0, 0, 0],\n",
       "       [0, 0, 0, ..., 0, 0, 0],\n",
       "       [0, 0, 0, ..., 0, 0, 0],\n",
       "       ...,\n",
       "       [0, 0, 0, ..., 0, 0, 0],\n",
       "       [0, 0, 0, ..., 0, 0, 0],\n",
       "       [0, 0, 0, ..., 0, 0, 0]], dtype=int64)"
      ]
     },
     "execution_count": 25,
     "metadata": {},
     "output_type": "execute_result"
    }
   ],
   "source": [
    "# Create bag of words feature matrix\n",
    "def bag_review(words):\n",
    "    return count.fit_transform(words)\n",
    "\n",
    "count = CountVectorizer()\n",
    "    \n",
    "reviews_training['review_bags'] = reviews_training['review_stemmer'].apply(bag_review)\n",
    "\n",
    "reviews_training['review_bags'][0].toarray()"
   ]
  },
  {
   "cell_type": "code",
   "execution_count": 26,
   "id": "4d7e3d4b-77a7-461a-948f-e861cb20676d",
   "metadata": {},
   "outputs": [
    {
     "data": {
      "text/plain": [
       "(222, 158)"
      ]
     },
     "execution_count": 26,
     "metadata": {},
     "output_type": "execute_result"
    }
   ],
   "source": [
    "reviews_training['review_bags'][0].shape"
   ]
  },
  {
   "cell_type": "code",
   "execution_count": 27,
   "id": "9dc2c57f-69a9-4f66-95e1-8a248edee9fe",
   "metadata": {},
   "outputs": [
    {
     "data": {
      "text/plain": [
       "array(['age', 'alon', 'anim', 'beauti', 'broke', 'broken', 'cant',\n",
       "       'catharsi', 'child', 'chirin', 'choic', 'cri', 'cruelti', 'degrad',\n",
       "       'depth', 'doesnt', 'eat', 'encount', 'end', 'even', 'favourit',\n",
       "       'feel', 'follow', 'glad', 'great', 'grew', 'hard', 'heart', 'ill',\n",
       "       'im', 'intricaci', 'ive', 'kill', 'lamb', 'life', 'like', 'loneli',\n",
       "       'made', 'mani', 'mayb', 'mean', 'mother', 'mountain', 'movi',\n",
       "       'need', 'never', 'night', 'one', 'other', 'rare', 'repair', 'sad',\n",
       "       'saw', 'say', 'seen', 'someday', 'stori', 'tape', 'though',\n",
       "       'tomorrow', 'undon', 'unfair', 'unfinish', 'unusu', 'use', 'watch',\n",
       "       'wolf'], dtype=object)"
      ]
     },
     "execution_count": 27,
     "metadata": {},
     "output_type": "execute_result"
    }
   ],
   "source": [
    "count.get_feature_names_out()"
   ]
  },
  {
   "cell_type": "markdown",
   "id": "d8e403de-4dfc-4a99-b96e-c8896f33cd32",
   "metadata": {},
   "source": [
    "**6. Create a term frequency-inverse document frequency (tf-idf) matrix from your stemmed text, for your movie reviews (see section 6.9 in the Machine Learning with Python Cookbook). Display the dimensions of your tf-idf matrix. These dimensions should be the same as your bag-of-words matrix.**"
   ]
  },
  {
   "cell_type": "code",
   "execution_count": 28,
   "id": "471293d4-e93f-4ed1-b2f4-83f4c128aa67",
   "metadata": {},
   "outputs": [],
   "source": [
    "# import libraries\n",
    "from sklearn.feature_extraction.text import TfidfVectorizer"
   ]
  },
  {
   "cell_type": "code",
   "execution_count": 29,
   "id": "0db7f867-3afc-4fe2-ae55-312372b8bbd9",
   "metadata": {},
   "outputs": [
    {
     "data": {
      "text/plain": [
       "array([[0., 0., 0., ..., 0., 0., 0.],\n",
       "       [0., 0., 0., ..., 0., 0., 0.],\n",
       "       [0., 0., 0., ..., 0., 0., 0.],\n",
       "       ...,\n",
       "       [0., 0., 0., ..., 0., 0., 0.],\n",
       "       [0., 0., 0., ..., 0., 0., 0.],\n",
       "       [0., 0., 0., ..., 0., 0., 0.]])"
      ]
     },
     "execution_count": 29,
     "metadata": {},
     "output_type": "execute_result"
    }
   ],
   "source": [
    "# Create the tf-idf feature matrix\n",
    "def tfidf_review(words):\n",
    "    return tfidf.fit_transform(words)\n",
    "\n",
    "tfidf = TfidfVectorizer()\n",
    "    \n",
    "reviews_training['review_tfidf'] = reviews_training['review_stemmer'].apply(tfidf_review)\n",
    "\n",
    "reviews_training['review_tfidf'][0].toarray()"
   ]
  },
  {
   "cell_type": "code",
   "execution_count": 30,
   "id": "4f4eb963-2925-4f79-95c5-5383db51ea29",
   "metadata": {},
   "outputs": [
    {
     "data": {
      "text/plain": [
       "(222, 158)"
      ]
     },
     "execution_count": 30,
     "metadata": {},
     "output_type": "execute_result"
    }
   ],
   "source": [
    "reviews_training['review_tfidf'][0].shape"
   ]
  },
  {
   "cell_type": "code",
   "execution_count": 31,
   "id": "2a39cd74-f43f-4ef5-bb99-2758dc3f66c2",
   "metadata": {},
   "outputs": [
    {
     "data": {
      "text/plain": [
       "{'saw': 52,\n",
       " 'movi': 43,\n",
       " 'child': 8,\n",
       " 'broke': 4,\n",
       " 'heart': 27,\n",
       " 'stori': 56,\n",
       " 'unfinish': 62,\n",
       " 'end': 18,\n",
       " 'grew': 25,\n",
       " 'mani': 38,\n",
       " 'great': 24,\n",
       " 'anim': 2,\n",
       " 'one': 47,\n",
       " 'favourit': 20,\n",
       " 'unusu': 63,\n",
       " 'unfair': 61,\n",
       " 'cruelti': 12,\n",
       " 'loneli': 36,\n",
       " 'life': 34,\n",
       " 'choic': 10,\n",
       " 'cant': 6,\n",
       " 'undon': 60,\n",
       " 'need': 44,\n",
       " 'other': 48,\n",
       " 'chirin': 9,\n",
       " 'made': 37,\n",
       " 'alon': 1,\n",
       " 'wolf': 66,\n",
       " 'kill': 32,\n",
       " 'mother': 41,\n",
       " 'follow': 22,\n",
       " 'mountain': 42,\n",
       " 'doesnt': 15,\n",
       " 'lamb': 33,\n",
       " 'even': 19,\n",
       " 'though': 58,\n",
       " 'night': 46,\n",
       " 'say': 53,\n",
       " 'mayb': 39,\n",
       " 'ill': 28,\n",
       " 'eat': 16,\n",
       " 'tomorrow': 59,\n",
       " 'tape': 57,\n",
       " 'broken': 5,\n",
       " 'degrad': 13,\n",
       " 'age': 0,\n",
       " 'use': 64,\n",
       " 'repair': 50,\n",
       " 'watch': 65,\n",
       " 'someday': 55,\n",
       " 'cri': 11,\n",
       " 'hard': 26,\n",
       " 'like': 35,\n",
       " 'depth': 14,\n",
       " 'feel': 21,\n",
       " 'intricaci': 30,\n",
       " 'mean': 40,\n",
       " 'rare': 49,\n",
       " 'sad': 51,\n",
       " 'ive': 31,\n",
       " 'never': 45,\n",
       " 'encount': 17,\n",
       " 'catharsi': 7,\n",
       " 'beauti': 3,\n",
       " 'glad': 23,\n",
       " 'seen': 54,\n",
       " 'im': 29}"
      ]
     },
     "execution_count": 31,
     "metadata": {},
     "output_type": "execute_result"
    }
   ],
   "source": [
    "# show feature names\n",
    "tfidf.vocabulary_"
   ]
  },
  {
   "cell_type": "markdown",
   "id": "85fd5b4b-05f8-4617-b404-7e4ba2509463",
   "metadata": {},
   "source": [
    "**Additional Comments**"
   ]
  },
  {
   "cell_type": "markdown",
   "id": "e72bddd2-1265-457e-9f3b-b0211511908c",
   "metadata": {},
   "source": [
    "* The bag-of-words and tf-idf matrices are stored as sparse matrices because most entries are zero.\n",
    "* Each row in the bag-of-words/tf-idf matrices corresponds to a movie review.\n",
    "* The columns in the bag-of-words/tf-idf matrices correspond to unique words appearing in the movie reviews.\n",
    "* Entries in the bag-of-words matrix are the number of times a word appears in a review.\n",
    "* Entries in the tf-idf matrix are numbers representing the word importance in a review.\n",
    "* The bag-of-words/tf-idf matrices are possible feature (input) matrices for model building.\n",
    "* We will revisit this preprocessed text data to build a custom model in the future."
   ]
  },
  {
   "cell_type": "code",
   "execution_count": null,
   "id": "b278c403-4702-4781-b98f-16c7f8355feb",
   "metadata": {},
   "outputs": [],
   "source": []
  }
 ],
 "metadata": {
  "kernelspec": {
   "display_name": "Python 3 (ipykernel)",
   "language": "python",
   "name": "python3"
  },
  "language_info": {
   "codemirror_mode": {
    "name": "ipython",
    "version": 3
   },
   "file_extension": ".py",
   "mimetype": "text/x-python",
   "name": "python",
   "nbconvert_exporter": "python",
   "pygments_lexer": "ipython3",
   "version": "3.8.8"
  }
 },
 "nbformat": 4,
 "nbformat_minor": 5
}
